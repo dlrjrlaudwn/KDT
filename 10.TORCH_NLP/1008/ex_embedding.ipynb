{
 "cells": [
  {
   "cell_type": "markdown",
   "metadata": {},
   "source": [
    "[임베딩 층]\n",
    "- 임베딩 층의 입력으로 사용하기 위해서 입력 시퀀스의 각 단어들은 모두 정수 인코딩\n",
    "\n",
    "\n",
    "- 단어 -> 단어에 부여된 고유한 정수값 -> 임베딩 층 통과 -> 밀집 벡터\n",
    "- 임베딩 층\n",
    "    - 입력 정수에 대해 밀집 벡터(dense vector)로 맵핑\n",
    "    - 밀집 벡터는 인공 신경망의 학습 과정에서 가중치가 학습되는 것과 같은 방식으로 훈련\n",
    "    - 훈련 과정에서 단어는 업데이트 -> 밀집 벡터를 임베딩 벡터\n",
    "- 정수 -> 밀집 벡터 또는 임베딩 벡터로 맵핑\n",
    "    -  특정 단어와 맵핑되는 정수를 인덱스로 가지는 테이블로부터 임베딩 벡터 값을 가져오는 룩업 테이블\n",
    "    - 이 테이블은 단어 집합의 크기만큼의 행을 가지며 모든 단어는 고유한 임베딩 벡터 가짐\n",
    "- 룩업 테이블\n",
    "    - 파이토치는 단어를 정수 인덱스로 바꾸고, 원-핫 벡터로 한번 더 바꾸고나서 임베딩 층의 입력으로 사용하는 것이 아니라, \n",
    "    \n",
    "        단어를 정수 인덱스로만 바꾼 채로 임베딩 층의 입력으로 사용해도 룩업 테이블 된 결과인 임베딩 벡터를 리턴"
   ]
  },
  {
   "cell_type": "markdown",
   "metadata": {},
   "source": [
    "[텍스트 전처리]\n",
    "- 토큰화\n",
    "\n",
    "\n",
    "- 정제: 불용어, 구두점, 개발자 지정 문자 제거\n",
    "- 단어사전 (정수화)\n",
    "- 문장 -> 수치화\n",
    "- 문장 길이 통일 w. 패딩\n",
    "- 정수 수치화 -> One-Hot Encoding (파이토치 필요 X)\n",
    "\n",
    "[모델]\n",
    "- 임베딩 층: 차원 축소\n",
    "\n",
    "\n",
    "    ex) 샘플 5개, 피쳐 3000개 -> 샘플 5개, 피쳐 30개\n",
    "- RNN/LSTM/GRU 층"
   ]
  },
  {
   "cell_type": "markdown",
   "metadata": {},
   "source": []
  },
  {
   "cell_type": "code",
   "execution_count": 2,
   "metadata": {},
   "outputs": [
    {
     "name": "stdout",
     "output_type": "stream",
     "text": [
      "{'need': 2, 'you': 3, 'how': 4, 'to': 5, 'code': 6, 'know': 7, '<pad>': 0, '<unk>': 1}\n"
     ]
    }
   ],
   "source": [
    "#단어 사전 생성\n",
    "train_data='you need to know how to code'\n",
    "\n",
    "#중복을 제거한 단어들의 집합 생성\n",
    "word_set=set(train_data.split())\n",
    "\n",
    "#단어 집합의 각 단어에 고유한 정수 맵핑\n",
    "vocab={word:i+2 for i, word in enumerate(word_set)}\n",
    "vocab['<pad>']=0\n",
    "vocab['<unk>']=1\n",
    "\n",
    "print(vocab)"
   ]
  },
  {
   "cell_type": "code",
   "execution_count": 3,
   "metadata": {},
   "outputs": [],
   "source": [
    "import torch\n",
    "import torch.nn as nn"
   ]
  },
  {
   "cell_type": "code",
   "execution_count": 4,
   "metadata": {},
   "outputs": [],
   "source": [
    "#임의의 임베딩 룩업 테이블\n",
    "embedding_table=torch.FloatTensor([[0.0,0.0,0.0],\n",
    "                                   [0.0,0.0,0.0],\n",
    "                                   [0.2,0.9,0.3],\n",
    "                                   [0.1,0.5,0.7],\n",
    "                                   [0.2,0.1,0.8],\n",
    "                                   [0.4,0.1,0.1],\n",
    "                                   [0.1,0.8,0.9],\n",
    "                                   [0.6,0.1,0.1]])"
   ]
  },
  {
   "cell_type": "code",
   "execution_count": 5,
   "metadata": {},
   "outputs": [
    {
     "name": "stdout",
     "output_type": "stream",
     "text": [
      "idxs: tensor([3, 2, 5, 1])\n",
      "tensor([[0.1000, 0.5000, 0.7000],\n",
      "        [0.2000, 0.9000, 0.3000],\n",
      "        [0.4000, 0.1000, 0.1000],\n",
      "        [0.0000, 0.0000, 0.0000]])\n"
     ]
    }
   ],
   "source": [
    "#토큰 정수 -> 임베딩 벡터 변환\n",
    "sample='you need to run'.split()\n",
    "idxs=[]\n",
    "\n",
    "#각 단어를 정수로 변환\n",
    "for word in sample:\n",
    "    try:\n",
    "        idxs.append(vocab[word])\n",
    "\n",
    "        #단어집합에 없는 단어일경우 <UNK>로 대체\n",
    "    except KeyError:\n",
    "        idxs.append(vocab['<unk>'])\n",
    "\n",
    "\n",
    "#텐서화 진행\n",
    "idxs=torch.LongTensor(idxs)\n",
    "print(f'idxs: {idxs}')\n",
    "\n",
    "#각 정수를 인덱스로 임베딩 테이블에서 값 가져오기\n",
    "lookup_result=embedding_table[idxs,:]\n",
    "print(lookup_result)"
   ]
  },
  {
   "cell_type": "code",
   "execution_count": 7,
   "metadata": {},
   "outputs": [],
   "source": [
    "#Pytorch Embedding Layer\n",
    "embedding_layer=nn.Embedding(num_embeddings=len(vocab),\n",
    "                            embedding_dim=3, padding_idx=0)"
   ]
  },
  {
   "cell_type": "code",
   "execution_count": 8,
   "metadata": {},
   "outputs": [
    {
     "name": "stdout",
     "output_type": "stream",
     "text": [
      "Parameter containing:\n",
      "tensor([[ 0.0000,  0.0000,  0.0000],\n",
      "        [ 0.6724, -0.7891,  1.5237],\n",
      "        [ 1.5463,  1.4024, -2.1129],\n",
      "        [-0.2045, -1.2022, -0.1391],\n",
      "        [ 0.2185,  0.3277, -0.1725],\n",
      "        [ 0.1579,  1.1422, -0.1907],\n",
      "        [-0.8459, -1.2196, -1.1027],\n",
      "        [-0.1821, -0.8828,  1.4698]], requires_grad=True)\n"
     ]
    }
   ],
   "source": [
    "print(embedding_layer.weight)"
   ]
  },
  {
   "cell_type": "code",
   "execution_count": null,
   "metadata": {},
   "outputs": [],
   "source": []
  }
 ],
 "metadata": {
  "kernelspec": {
   "display_name": "TEXT_018_230_38",
   "language": "python",
   "name": "python3"
  },
  "language_info": {
   "codemirror_mode": {
    "name": "ipython",
    "version": 3
   },
   "file_extension": ".py",
   "mimetype": "text/x-python",
   "name": "python",
   "nbconvert_exporter": "python",
   "pygments_lexer": "ipython3",
   "version": "3.8.19"
  }
 },
 "nbformat": 4,
 "nbformat_minor": 2
}
