{
  "cells": [
    {
      "cell_type": "code",
      "execution_count": null,
      "metadata": {
        "colab": {
          "base_uri": "https://localhost:8080/"
        },
        "id": "X-BpzL5_2DhP",
        "outputId": "945874fc-c8e9-4e8e-e4e8-74e6980e34e2"
      },
      "outputs": [
        {
          "name": "stdout",
          "output_type": "stream",
          "text": [
            "Collecting torchmetrics\n",
            "  Downloading torchmetrics-1.4.2-py3-none-any.whl.metadata (19 kB)\n",
            "Requirement already satisfied: numpy>1.20.0 in /usr/local/lib/python3.10/dist-packages (from torchmetrics) (1.26.4)\n",
            "Requirement already satisfied: packaging>17.1 in /usr/local/lib/python3.10/dist-packages (from torchmetrics) (24.1)\n",
            "Requirement already satisfied: torch>=1.10.0 in /usr/local/lib/python3.10/dist-packages (from torchmetrics) (2.4.1+cu121)\n",
            "Collecting lightning-utilities>=0.8.0 (from torchmetrics)\n",
            "  Downloading lightning_utilities-0.11.7-py3-none-any.whl.metadata (5.2 kB)\n",
            "Requirement already satisfied: setuptools in /usr/local/lib/python3.10/dist-packages (from lightning-utilities>=0.8.0->torchmetrics) (71.0.4)\n",
            "Requirement already satisfied: typing-extensions in /usr/local/lib/python3.10/dist-packages (from lightning-utilities>=0.8.0->torchmetrics) (4.12.2)\n",
            "Requirement already satisfied: filelock in /usr/local/lib/python3.10/dist-packages (from torch>=1.10.0->torchmetrics) (3.16.1)\n",
            "Requirement already satisfied: sympy in /usr/local/lib/python3.10/dist-packages (from torch>=1.10.0->torchmetrics) (1.13.3)\n",
            "Requirement already satisfied: networkx in /usr/local/lib/python3.10/dist-packages (from torch>=1.10.0->torchmetrics) (3.3)\n",
            "Requirement already satisfied: jinja2 in /usr/local/lib/python3.10/dist-packages (from torch>=1.10.0->torchmetrics) (3.1.4)\n",
            "Requirement already satisfied: fsspec in /usr/local/lib/python3.10/dist-packages (from torch>=1.10.0->torchmetrics) (2024.6.1)\n",
            "Requirement already satisfied: MarkupSafe>=2.0 in /usr/local/lib/python3.10/dist-packages (from jinja2->torch>=1.10.0->torchmetrics) (2.1.5)\n",
            "Requirement already satisfied: mpmath<1.4,>=1.1.0 in /usr/local/lib/python3.10/dist-packages (from sympy->torch>=1.10.0->torchmetrics) (1.3.0)\n",
            "Downloading torchmetrics-1.4.2-py3-none-any.whl (869 kB)\n",
            "\u001b[2K   \u001b[90m━━━━━━━━━━━━━━━━━━━━━━━━━━━━━━━━━━━━━━━━\u001b[0m \u001b[32m869.2/869.2 kB\u001b[0m \u001b[31m38.5 MB/s\u001b[0m eta \u001b[36m0:00:00\u001b[0m\n",
            "\u001b[?25hDownloading lightning_utilities-0.11.7-py3-none-any.whl (26 kB)\n",
            "Installing collected packages: lightning-utilities, torchmetrics\n",
            "Successfully installed lightning-utilities-0.11.7 torchmetrics-1.4.2\n"
          ]
        }
      ],
      "source": [
        "%pip install torchmetrics"
      ]
    },
    {
      "cell_type": "markdown",
      "metadata": {
        "id": "k7skJn-qEsCW"
      },
      "source": [
        "[자연어처리] 텍스트 분류 모델 구현\n",
        "\n",
        "\n",
        "- 데이터셋 : 200개 한국어 뉴스 기사\n",
        "- 라 벨 : 정치(0), 경제(1), 사회(2), 생활/문화(3), 세계(4), 기술/IT(5), 연예(6), 스포츠(7)"
      ]
    },
    {
      "cell_type": "code",
      "execution_count": 1,
      "metadata": {
        "id": "HghSj-4LfZXk"
      },
      "outputs": [],
      "source": [
        "import pandas as pd\n",
        "import torch\n",
        "import os\n",
        "import string\n",
        "import re\n",
        "import torch.nn as nn\n",
        "import torch.nn.functional as F\n",
        "from torch.utils.data import TensorDataset, DataLoader\n",
        "from konlpy.tag import Okt\n",
        "from collections import Counter\n",
        "import numpy as np\n",
        "from torch import optim\n",
        "from torchmetrics.classification import MulticlassF1Score"
      ]
    },
    {
      "cell_type": "code",
      "execution_count": 5,
      "metadata": {},
      "outputs": [
        {
          "name": "stdout",
          "output_type": "stream",
          "text": [
            "0\n",
            "1\n",
            "2\n",
            "2016-10-20.txt\n",
            "3\n",
            "4\n",
            "5\n",
            "6\n",
            "7\n",
            "corpus_data.txt\n"
          ]
        }
      ],
      "source": [
        "for file in os.listdir(common_path):\n",
        "    print(file)"
      ]
    },
    {
      "cell_type": "code",
      "execution_count": 6,
      "metadata": {
        "id": "h2_8v6nUrTco"
      },
      "outputs": [],
      "source": [
        "common_path='../data/Data/'\n",
        "\n",
        "\n",
        "feature=[]\n",
        "label=[]\n",
        "\n",
        "for file in os.listdir(common_path):\n",
        "    for file2 in os.listdir(common_path+file):\n",
        "        with open(common_path+file+'/'+file2, 'r') as f:\n",
        "            feature.append(f.read())\n",
        "            label.append(file)"
      ]
    },
    {
      "cell_type": "code",
      "execution_count": 7,
      "metadata": {
        "colab": {
          "base_uri": "https://localhost:8080/"
        },
        "id": "zJnEuxgrrmb4",
        "outputId": "6110477a-5e29-4d5c-f099-99b7bf339b62"
      },
      "outputs": [
        {
          "data": {
            "text/plain": [
              "1600"
            ]
          },
          "execution_count": 7,
          "metadata": {},
          "output_type": "execute_result"
        }
      ],
      "source": [
        "len(feature)"
      ]
    },
    {
      "cell_type": "code",
      "execution_count": 8,
      "metadata": {
        "id": "IfVy3Aomuoti"
      },
      "outputs": [],
      "source": [
        "news_df=pd.DataFrame({'feature':feature, 'label':label})"
      ]
    },
    {
      "cell_type": "code",
      "execution_count": 9,
      "metadata": {
        "colab": {
          "base_uri": "https://localhost:8080/",
          "height": 423
        },
        "id": "pSf-tZKFutoV",
        "outputId": "04ae8141-41f1-485d-a3f5-1e78976901aa"
      },
      "outputs": [
        {
          "data": {
            "text/html": [
              "<div>\n",
              "<style scoped>\n",
              "    .dataframe tbody tr th:only-of-type {\n",
              "        vertical-align: middle;\n",
              "    }\n",
              "\n",
              "    .dataframe tbody tr th {\n",
              "        vertical-align: top;\n",
              "    }\n",
              "\n",
              "    .dataframe thead th {\n",
              "        text-align: right;\n",
              "    }\n",
              "</style>\n",
              "<table border=\"1\" class=\"dataframe\">\n",
              "  <thead>\n",
              "    <tr style=\"text-align: right;\">\n",
              "      <th></th>\n",
              "      <th>feature</th>\n",
              "      <th>label</th>\n",
              "    </tr>\n",
              "  </thead>\n",
              "  <tbody>\n",
              "    <tr>\n",
              "      <th>0</th>\n",
              "      <td>동남아 담당' 北 최희철 부상 베이징 도착…싱가포르행 주목\\t최 부상, 행선지·방문...</td>\n",
              "      <td>0</td>\n",
              "    </tr>\n",
              "    <tr>\n",
              "      <th>1</th>\n",
              "      <td>예결위, 추경 막바지 심사 진통…여야 충돌\\t(서울=연합뉴스) 김남권 기자 = 국회...</td>\n",
              "      <td>0</td>\n",
              "    </tr>\n",
              "    <tr>\n",
              "      <th>2</th>\n",
              "      <td>외압 논란·항명 사태…산 넘고 물 건넌 권성동 영장 청구\\t안미현 검사 외압 폭로 ...</td>\n",
              "      <td>0</td>\n",
              "    </tr>\n",
              "    <tr>\n",
              "      <th>3</th>\n",
              "      <td>친문 홍영표, 문빠에 찍혔다…특검 합의에 문자폭탄 공격\\t대표적인 친(親)문재인계인...</td>\n",
              "      <td>0</td>\n",
              "    </tr>\n",
              "    <tr>\n",
              "      <th>4</th>\n",
              "      <td>北, 연일 南비난…韓美정상회담 전 경고성 메시지 발신\\t南, 맥스선더·태영호 등 불...</td>\n",
              "      <td>0</td>\n",
              "    </tr>\n",
              "    <tr>\n",
              "      <th>...</th>\n",
              "      <td>...</td>\n",
              "      <td>...</td>\n",
              "    </tr>\n",
              "    <tr>\n",
              "      <th>1595</th>\n",
              "      <td>단일팀 추진' 대한카누연맹, 데상트코리아와 5년 후원 협약\\t[스포티비뉴스=조형애 ...</td>\n",
              "      <td>7</td>\n",
              "    </tr>\n",
              "    <tr>\n",
              "      <th>1596</th>\n",
              "      <td>올림픽 성공 뒷이야기... 서울대, 16일 이희범 평창 조직위원장 초청 특강\\t[O...</td>\n",
              "      <td>7</td>\n",
              "    </tr>\n",
              "    <tr>\n",
              "      <th>1597</th>\n",
              "      <td>21일 개막 호치민3쿠션월드컵에 149명 참가 확정\\t韓선수 46명 참가…1차 예선...</td>\n",
              "      <td>7</td>\n",
              "    </tr>\n",
              "    <tr>\n",
              "      <th>1598</th>\n",
              "      <td>스포츠안전재단, 대축전에 안전필요성 알려\\t[스타뉴스 채준 기자]\\n\\n\\n스포츠안...</td>\n",
              "      <td>7</td>\n",
              "    </tr>\n",
              "    <tr>\n",
              "      <th>1599</th>\n",
              "      <td>조한승 “커피 향 그윽한 30대 바둑 보이겠다”\\t[한겨레] 맥심커피배 트로피 시상...</td>\n",
              "      <td>7</td>\n",
              "    </tr>\n",
              "  </tbody>\n",
              "</table>\n",
              "<p>1600 rows × 2 columns</p>\n",
              "</div>"
            ],
            "text/plain": [
              "                                                feature label\n",
              "0     동남아 담당' 北 최희철 부상 베이징 도착…싱가포르행 주목\\t최 부상, 행선지·방문...     0\n",
              "1     예결위, 추경 막바지 심사 진통…여야 충돌\\t(서울=연합뉴스) 김남권 기자 = 국회...     0\n",
              "2     외압 논란·항명 사태…산 넘고 물 건넌 권성동 영장 청구\\t안미현 검사 외압 폭로 ...     0\n",
              "3     친문 홍영표, 문빠에 찍혔다…특검 합의에 문자폭탄 공격\\t대표적인 친(親)문재인계인...     0\n",
              "4     北, 연일 南비난…韓美정상회담 전 경고성 메시지 발신\\t南, 맥스선더·태영호 등 불...     0\n",
              "...                                                 ...   ...\n",
              "1595  단일팀 추진' 대한카누연맹, 데상트코리아와 5년 후원 협약\\t[스포티비뉴스=조형애 ...     7\n",
              "1596  올림픽 성공 뒷이야기... 서울대, 16일 이희범 평창 조직위원장 초청 특강\\t[O...     7\n",
              "1597  21일 개막 호치민3쿠션월드컵에 149명 참가 확정\\t韓선수 46명 참가…1차 예선...     7\n",
              "1598  스포츠안전재단, 대축전에 안전필요성 알려\\t[스타뉴스 채준 기자]\\n\\n\\n스포츠안...     7\n",
              "1599  조한승 “커피 향 그윽한 30대 바둑 보이겠다”\\t[한겨레] 맥심커피배 트로피 시상...     7\n",
              "\n",
              "[1600 rows x 2 columns]"
            ]
          },
          "execution_count": 9,
          "metadata": {},
          "output_type": "execute_result"
        }
      ],
      "source": [
        "news_df"
      ]
    },
    {
      "cell_type": "code",
      "execution_count": 10,
      "metadata": {
        "colab": {
          "base_uri": "https://localhost:8080/",
          "height": 366
        },
        "id": "sFUDt4zOuu_C",
        "outputId": "d71825fa-2035-45b3-f507-aead09bef3eb"
      },
      "outputs": [
        {
          "data": {
            "text/plain": [
              "label\n",
              "0    200\n",
              "1    200\n",
              "2    200\n",
              "3    200\n",
              "4    200\n",
              "5    200\n",
              "6    200\n",
              "7    200\n",
              "Name: count, dtype: int64"
            ]
          },
          "execution_count": 10,
          "metadata": {},
          "output_type": "execute_result"
        }
      ],
      "source": [
        "news_df['label'].value_counts()"
      ]
    },
    {
      "cell_type": "code",
      "execution_count": 11,
      "metadata": {
        "colab": {
          "base_uri": "https://localhost:8080/",
          "height": 423
        },
        "id": "2bvNPY0uwpEr",
        "outputId": "0f8bca4a-3669-472d-d3a2-b12a301e52b7"
      },
      "outputs": [
        {
          "data": {
            "text/html": [
              "<div>\n",
              "<style scoped>\n",
              "    .dataframe tbody tr th:only-of-type {\n",
              "        vertical-align: middle;\n",
              "    }\n",
              "\n",
              "    .dataframe tbody tr th {\n",
              "        vertical-align: top;\n",
              "    }\n",
              "\n",
              "    .dataframe thead th {\n",
              "        text-align: right;\n",
              "    }\n",
              "</style>\n",
              "<table border=\"1\" class=\"dataframe\">\n",
              "  <thead>\n",
              "    <tr style=\"text-align: right;\">\n",
              "      <th></th>\n",
              "      <th>feature</th>\n",
              "      <th>label</th>\n",
              "    </tr>\n",
              "  </thead>\n",
              "  <tbody>\n",
              "    <tr>\n",
              "      <th>0</th>\n",
              "      <td>동남아 담당' 北 최희철 부상 베이징 도착…싱가포르행 주목\\t최 부상, 행선지·방문...</td>\n",
              "      <td>0</td>\n",
              "    </tr>\n",
              "    <tr>\n",
              "      <th>127</th>\n",
              "      <td>경찰, 김성태 폭행범 14일 기소의견으로 검찰 송치\\t조직적 정치테러 가능성은 낮은...</td>\n",
              "      <td>0</td>\n",
              "    </tr>\n",
              "    <tr>\n",
              "      <th>128</th>\n",
              "      <td>6.13재보궐 8곳이냐 12곳이냐…14일 결정된다\\t국회의장·범진보 \"국민 참정권 ...</td>\n",
              "      <td>0</td>\n",
              "    </tr>\n",
              "    <tr>\n",
              "      <th>129</th>\n",
              "      <td>靑 “권력형적폐 청산 넘어 생활적폐 청산으로”\\t청와대는 13일 문재인 정부의 1번...</td>\n",
              "      <td>0</td>\n",
              "    </tr>\n",
              "    <tr>\n",
              "      <th>130</th>\n",
              "      <td>[지방선거 여론조사①] 서울·인천·경기, 민주당 후보 우세\\t[앵커]\\n\\n6.13...</td>\n",
              "      <td>0</td>\n",
              "    </tr>\n",
              "    <tr>\n",
              "      <th>...</th>\n",
              "      <td>...</td>\n",
              "      <td>...</td>\n",
              "    </tr>\n",
              "    <tr>\n",
              "      <th>1469</th>\n",
              "      <td>신태용호 승선' 이승우 깜짝 귀국…21일 대표팀 합류\\t2018 러시아 월드컵을 준...</td>\n",
              "      <td>7</td>\n",
              "    </tr>\n",
              "    <tr>\n",
              "      <th>1470</th>\n",
              "      <td>2개 작품 준비한 피겨 최다빈 \"새로운 모습 보여주고파\"\\t[STN스포츠(목동)=이...</td>\n",
              "      <td>7</td>\n",
              "    </tr>\n",
              "    <tr>\n",
              "      <th>1471</th>\n",
              "      <td>복싱 신종훈, 러시아 국제대회 결승 진출\\t[한겨레] 키르기스탄 미를란 5-0 판정...</td>\n",
              "      <td>7</td>\n",
              "    </tr>\n",
              "    <tr>\n",
              "      <th>1461</th>\n",
              "      <td>단거리 최강마를 가려라! 20일 스포츠경향배\\t【서울=뉴시스】김정환 기자 = 1등급...</td>\n",
              "      <td>7</td>\n",
              "    </tr>\n",
              "    <tr>\n",
              "      <th>1599</th>\n",
              "      <td>조한승 “커피 향 그윽한 30대 바둑 보이겠다”\\t[한겨레] 맥심커피배 트로피 시상...</td>\n",
              "      <td>7</td>\n",
              "    </tr>\n",
              "  </tbody>\n",
              "</table>\n",
              "<p>1600 rows × 2 columns</p>\n",
              "</div>"
            ],
            "text/plain": [
              "                                                feature label\n",
              "0     동남아 담당' 北 최희철 부상 베이징 도착…싱가포르행 주목\\t최 부상, 행선지·방문...     0\n",
              "127   경찰, 김성태 폭행범 14일 기소의견으로 검찰 송치\\t조직적 정치테러 가능성은 낮은...     0\n",
              "128   6.13재보궐 8곳이냐 12곳이냐…14일 결정된다\\t국회의장·범진보 \"국민 참정권 ...     0\n",
              "129   靑 “권력형적폐 청산 넘어 생활적폐 청산으로”\\t청와대는 13일 문재인 정부의 1번...     0\n",
              "130   [지방선거 여론조사①] 서울·인천·경기, 민주당 후보 우세\\t[앵커]\\n\\n6.13...     0\n",
              "...                                                 ...   ...\n",
              "1469  신태용호 승선' 이승우 깜짝 귀국…21일 대표팀 합류\\t2018 러시아 월드컵을 준...     7\n",
              "1470  2개 작품 준비한 피겨 최다빈 \"새로운 모습 보여주고파\"\\t[STN스포츠(목동)=이...     7\n",
              "1471  복싱 신종훈, 러시아 국제대회 결승 진출\\t[한겨레] 키르기스탄 미를란 5-0 판정...     7\n",
              "1461  단거리 최강마를 가려라! 20일 스포츠경향배\\t【서울=뉴시스】김정환 기자 = 1등급...     7\n",
              "1599  조한승 “커피 향 그윽한 30대 바둑 보이겠다”\\t[한겨레] 맥심커피배 트로피 시상...     7\n",
              "\n",
              "[1600 rows x 2 columns]"
            ]
          },
          "execution_count": 11,
          "metadata": {},
          "output_type": "execute_result"
        }
      ],
      "source": [
        "news_df=news_df.sort_values('label')\n",
        "news_df"
      ]
    },
    {
      "cell_type": "code",
      "execution_count": 12,
      "metadata": {
        "colab": {
          "base_uri": "https://localhost:8080/",
          "height": 423
        },
        "id": "CeQiLZ_7wrGI",
        "outputId": "93af7919-834d-4e77-ebac-0a98010bc5f2"
      },
      "outputs": [
        {
          "data": {
            "text/html": [
              "<div>\n",
              "<style scoped>\n",
              "    .dataframe tbody tr th:only-of-type {\n",
              "        vertical-align: middle;\n",
              "    }\n",
              "\n",
              "    .dataframe tbody tr th {\n",
              "        vertical-align: top;\n",
              "    }\n",
              "\n",
              "    .dataframe thead th {\n",
              "        text-align: right;\n",
              "    }\n",
              "</style>\n",
              "<table border=\"1\" class=\"dataframe\">\n",
              "  <thead>\n",
              "    <tr style=\"text-align: right;\">\n",
              "      <th></th>\n",
              "      <th>feature</th>\n",
              "      <th>label</th>\n",
              "    </tr>\n",
              "  </thead>\n",
              "  <tbody>\n",
              "    <tr>\n",
              "      <th>0</th>\n",
              "      <td>동남아 담당' 北 최희철 부상 베이징 도착…싱가포르행 주목\\t최 부상, 행선지·방문...</td>\n",
              "      <td>0</td>\n",
              "    </tr>\n",
              "    <tr>\n",
              "      <th>1</th>\n",
              "      <td>경찰, 김성태 폭행범 14일 기소의견으로 검찰 송치\\t조직적 정치테러 가능성은 낮은...</td>\n",
              "      <td>0</td>\n",
              "    </tr>\n",
              "    <tr>\n",
              "      <th>2</th>\n",
              "      <td>6.13재보궐 8곳이냐 12곳이냐…14일 결정된다\\t국회의장·범진보 \"국민 참정권 ...</td>\n",
              "      <td>0</td>\n",
              "    </tr>\n",
              "    <tr>\n",
              "      <th>3</th>\n",
              "      <td>靑 “권력형적폐 청산 넘어 생활적폐 청산으로”\\t청와대는 13일 문재인 정부의 1번...</td>\n",
              "      <td>0</td>\n",
              "    </tr>\n",
              "    <tr>\n",
              "      <th>4</th>\n",
              "      <td>[지방선거 여론조사①] 서울·인천·경기, 민주당 후보 우세\\t[앵커]\\n\\n6.13...</td>\n",
              "      <td>0</td>\n",
              "    </tr>\n",
              "    <tr>\n",
              "      <th>...</th>\n",
              "      <td>...</td>\n",
              "      <td>...</td>\n",
              "    </tr>\n",
              "    <tr>\n",
              "      <th>1595</th>\n",
              "      <td>신태용호 승선' 이승우 깜짝 귀국…21일 대표팀 합류\\t2018 러시아 월드컵을 준...</td>\n",
              "      <td>7</td>\n",
              "    </tr>\n",
              "    <tr>\n",
              "      <th>1596</th>\n",
              "      <td>2개 작품 준비한 피겨 최다빈 \"새로운 모습 보여주고파\"\\t[STN스포츠(목동)=이...</td>\n",
              "      <td>7</td>\n",
              "    </tr>\n",
              "    <tr>\n",
              "      <th>1597</th>\n",
              "      <td>복싱 신종훈, 러시아 국제대회 결승 진출\\t[한겨레] 키르기스탄 미를란 5-0 판정...</td>\n",
              "      <td>7</td>\n",
              "    </tr>\n",
              "    <tr>\n",
              "      <th>1598</th>\n",
              "      <td>단거리 최강마를 가려라! 20일 스포츠경향배\\t【서울=뉴시스】김정환 기자 = 1등급...</td>\n",
              "      <td>7</td>\n",
              "    </tr>\n",
              "    <tr>\n",
              "      <th>1599</th>\n",
              "      <td>조한승 “커피 향 그윽한 30대 바둑 보이겠다”\\t[한겨레] 맥심커피배 트로피 시상...</td>\n",
              "      <td>7</td>\n",
              "    </tr>\n",
              "  </tbody>\n",
              "</table>\n",
              "<p>1600 rows × 2 columns</p>\n",
              "</div>"
            ],
            "text/plain": [
              "                                                feature label\n",
              "0     동남아 담당' 北 최희철 부상 베이징 도착…싱가포르행 주목\\t최 부상, 행선지·방문...     0\n",
              "1     경찰, 김성태 폭행범 14일 기소의견으로 검찰 송치\\t조직적 정치테러 가능성은 낮은...     0\n",
              "2     6.13재보궐 8곳이냐 12곳이냐…14일 결정된다\\t국회의장·범진보 \"국민 참정권 ...     0\n",
              "3     靑 “권력형적폐 청산 넘어 생활적폐 청산으로”\\t청와대는 13일 문재인 정부의 1번...     0\n",
              "4     [지방선거 여론조사①] 서울·인천·경기, 민주당 후보 우세\\t[앵커]\\n\\n6.13...     0\n",
              "...                                                 ...   ...\n",
              "1595  신태용호 승선' 이승우 깜짝 귀국…21일 대표팀 합류\\t2018 러시아 월드컵을 준...     7\n",
              "1596  2개 작품 준비한 피겨 최다빈 \"새로운 모습 보여주고파\"\\t[STN스포츠(목동)=이...     7\n",
              "1597  복싱 신종훈, 러시아 국제대회 결승 진출\\t[한겨레] 키르기스탄 미를란 5-0 판정...     7\n",
              "1598  단거리 최강마를 가려라! 20일 스포츠경향배\\t【서울=뉴시스】김정환 기자 = 1등급...     7\n",
              "1599  조한승 “커피 향 그윽한 30대 바둑 보이겠다”\\t[한겨레] 맥심커피배 트로피 시상...     7\n",
              "\n",
              "[1600 rows x 2 columns]"
            ]
          },
          "execution_count": 12,
          "metadata": {},
          "output_type": "execute_result"
        }
      ],
      "source": [
        "news_df=news_df.reset_index(drop=True)\n",
        "news_df"
      ]
    },
    {
      "cell_type": "code",
      "execution_count": 13,
      "metadata": {
        "colab": {
          "base_uri": "https://localhost:8080/",
          "height": 423
        },
        "id": "fllfmZlTgPoS",
        "outputId": "69356e2e-1490-442c-fe8f-e8be5a005d7a"
      },
      "outputs": [
        {
          "data": {
            "text/html": [
              "<div>\n",
              "<style scoped>\n",
              "    .dataframe tbody tr th:only-of-type {\n",
              "        vertical-align: middle;\n",
              "    }\n",
              "\n",
              "    .dataframe tbody tr th {\n",
              "        vertical-align: top;\n",
              "    }\n",
              "\n",
              "    .dataframe thead th {\n",
              "        text-align: right;\n",
              "    }\n",
              "</style>\n",
              "<table border=\"1\" class=\"dataframe\">\n",
              "  <thead>\n",
              "    <tr style=\"text-align: right;\">\n",
              "      <th></th>\n",
              "      <th>feature</th>\n",
              "      <th>label</th>\n",
              "    </tr>\n",
              "  </thead>\n",
              "  <tbody>\n",
              "    <tr>\n",
              "      <th>0</th>\n",
              "      <td>동남아 담당' 北 최희철 부상 베이징 도착…싱가포르행 주목\\t최 부상, 행선지·방문...</td>\n",
              "      <td>0</td>\n",
              "    </tr>\n",
              "    <tr>\n",
              "      <th>1</th>\n",
              "      <td>경찰, 김성태 폭행범 14일 기소의견으로 검찰 송치\\t조직적 정치테러 가능성은 낮은...</td>\n",
              "      <td>0</td>\n",
              "    </tr>\n",
              "    <tr>\n",
              "      <th>2</th>\n",
              "      <td>6.13재보궐 8곳이냐 12곳이냐…14일 결정된다\\t국회의장·범진보 \"국민 참정권 ...</td>\n",
              "      <td>0</td>\n",
              "    </tr>\n",
              "    <tr>\n",
              "      <th>3</th>\n",
              "      <td>靑 “권력형적폐 청산 넘어 생활적폐 청산으로”\\t청와대는 13일 문재인 정부의 1번...</td>\n",
              "      <td>0</td>\n",
              "    </tr>\n",
              "    <tr>\n",
              "      <th>4</th>\n",
              "      <td>[지방선거 여론조사①] 서울·인천·경기, 민주당 후보 우세\\t[앵커]6.13 지방선...</td>\n",
              "      <td>0</td>\n",
              "    </tr>\n",
              "    <tr>\n",
              "      <th>...</th>\n",
              "      <td>...</td>\n",
              "      <td>...</td>\n",
              "    </tr>\n",
              "    <tr>\n",
              "      <th>1595</th>\n",
              "      <td>신태용호 승선' 이승우 깜짝 귀국…21일 대표팀 합류\\t2018 러시아 월드컵을 준...</td>\n",
              "      <td>7</td>\n",
              "    </tr>\n",
              "    <tr>\n",
              "      <th>1596</th>\n",
              "      <td>2개 작품 준비한 피겨 최다빈 \"새로운 모습 보여주고파\"\\t[STN스포츠(목동)=이...</td>\n",
              "      <td>7</td>\n",
              "    </tr>\n",
              "    <tr>\n",
              "      <th>1597</th>\n",
              "      <td>복싱 신종훈, 러시아 국제대회 결승 진출\\t[한겨레] 키르기스탄 미를란 5-0 판정...</td>\n",
              "      <td>7</td>\n",
              "    </tr>\n",
              "    <tr>\n",
              "      <th>1598</th>\n",
              "      <td>단거리 최강마를 가려라! 20일 스포츠경향배\\t【서울=뉴시스】김정환 기자 = 1등급...</td>\n",
              "      <td>7</td>\n",
              "    </tr>\n",
              "    <tr>\n",
              "      <th>1599</th>\n",
              "      <td>조한승 “커피 향 그윽한 30대 바둑 보이겠다”\\t[한겨레] 맥심커피배 트로피 시상...</td>\n",
              "      <td>7</td>\n",
              "    </tr>\n",
              "  </tbody>\n",
              "</table>\n",
              "<p>1600 rows × 2 columns</p>\n",
              "</div>"
            ],
            "text/plain": [
              "                                                feature label\n",
              "0     동남아 담당' 北 최희철 부상 베이징 도착…싱가포르행 주목\\t최 부상, 행선지·방문...     0\n",
              "1     경찰, 김성태 폭행범 14일 기소의견으로 검찰 송치\\t조직적 정치테러 가능성은 낮은...     0\n",
              "2     6.13재보궐 8곳이냐 12곳이냐…14일 결정된다\\t국회의장·범진보 \"국민 참정권 ...     0\n",
              "3     靑 “권력형적폐 청산 넘어 생활적폐 청산으로”\\t청와대는 13일 문재인 정부의 1번...     0\n",
              "4     [지방선거 여론조사①] 서울·인천·경기, 민주당 후보 우세\\t[앵커]6.13 지방선...     0\n",
              "...                                                 ...   ...\n",
              "1595  신태용호 승선' 이승우 깜짝 귀국…21일 대표팀 합류\\t2018 러시아 월드컵을 준...     7\n",
              "1596  2개 작품 준비한 피겨 최다빈 \"새로운 모습 보여주고파\"\\t[STN스포츠(목동)=이...     7\n",
              "1597  복싱 신종훈, 러시아 국제대회 결승 진출\\t[한겨레] 키르기스탄 미를란 5-0 판정...     7\n",
              "1598  단거리 최강마를 가려라! 20일 스포츠경향배\\t【서울=뉴시스】김정환 기자 = 1등급...     7\n",
              "1599  조한승 “커피 향 그윽한 30대 바둑 보이겠다”\\t[한겨레] 맥심커피배 트로피 시상...     7\n",
              "\n",
              "[1600 rows x 2 columns]"
            ]
          },
          "execution_count": 13,
          "metadata": {},
          "output_type": "execute_result"
        }
      ],
      "source": [
        "news_df['feature']=news_df['feature'].str.replace('\\n', '')\n",
        "news_df"
      ]
    },
    {
      "cell_type": "code",
      "execution_count": 14,
      "metadata": {
        "colab": {
          "base_uri": "https://localhost:8080/",
          "height": 423
        },
        "id": "HBx2FQKUgiJd",
        "outputId": "4831194f-bad4-46df-d402-79dcc59842da"
      },
      "outputs": [
        {
          "data": {
            "text/html": [
              "<div>\n",
              "<style scoped>\n",
              "    .dataframe tbody tr th:only-of-type {\n",
              "        vertical-align: middle;\n",
              "    }\n",
              "\n",
              "    .dataframe tbody tr th {\n",
              "        vertical-align: top;\n",
              "    }\n",
              "\n",
              "    .dataframe thead th {\n",
              "        text-align: right;\n",
              "    }\n",
              "</style>\n",
              "<table border=\"1\" class=\"dataframe\">\n",
              "  <thead>\n",
              "    <tr style=\"text-align: right;\">\n",
              "      <th></th>\n",
              "      <th>feature</th>\n",
              "      <th>label</th>\n",
              "    </tr>\n",
              "  </thead>\n",
              "  <tbody>\n",
              "    <tr>\n",
              "      <th>0</th>\n",
              "      <td>동남아 담당' 北 최희철 부상 베이징 도착…싱가포르행 주목최 부상, 행선지·방문 목...</td>\n",
              "      <td>0</td>\n",
              "    </tr>\n",
              "    <tr>\n",
              "      <th>1</th>\n",
              "      <td>경찰, 김성태 폭행범 14일 기소의견으로 검찰 송치조직적 정치테러 가능성은 낮은 듯...</td>\n",
              "      <td>0</td>\n",
              "    </tr>\n",
              "    <tr>\n",
              "      <th>2</th>\n",
              "      <td>6.13재보궐 8곳이냐 12곳이냐…14일 결정된다국회의장·범진보 \"국민 참정권 위해...</td>\n",
              "      <td>0</td>\n",
              "    </tr>\n",
              "    <tr>\n",
              "      <th>3</th>\n",
              "      <td>靑 “권력형적폐 청산 넘어 생활적폐 청산으로”청와대는 13일 문재인 정부의 1번 국...</td>\n",
              "      <td>0</td>\n",
              "    </tr>\n",
              "    <tr>\n",
              "      <th>4</th>\n",
              "      <td>[지방선거 여론조사①] 서울·인천·경기, 민주당 후보 우세[앵커]6.13 지방선거가...</td>\n",
              "      <td>0</td>\n",
              "    </tr>\n",
              "    <tr>\n",
              "      <th>...</th>\n",
              "      <td>...</td>\n",
              "      <td>...</td>\n",
              "    </tr>\n",
              "    <tr>\n",
              "      <th>1595</th>\n",
              "      <td>신태용호 승선' 이승우 깜짝 귀국…21일 대표팀 합류2018 러시아 월드컵을 준비하...</td>\n",
              "      <td>7</td>\n",
              "    </tr>\n",
              "    <tr>\n",
              "      <th>1596</th>\n",
              "      <td>2개 작품 준비한 피겨 최다빈 \"새로운 모습 보여주고파\"[STN스포츠(목동)=이보미...</td>\n",
              "      <td>7</td>\n",
              "    </tr>\n",
              "    <tr>\n",
              "      <th>1597</th>\n",
              "      <td>복싱 신종훈, 러시아 국제대회 결승 진출[한겨레] 키르기스탄 미를란 5-0 판정으로...</td>\n",
              "      <td>7</td>\n",
              "    </tr>\n",
              "    <tr>\n",
              "      <th>1598</th>\n",
              "      <td>단거리 최강마를 가려라! 20일 스포츠경향배【서울=뉴시스】김정환 기자 = 1등급 경...</td>\n",
              "      <td>7</td>\n",
              "    </tr>\n",
              "    <tr>\n",
              "      <th>1599</th>\n",
              "      <td>조한승 “커피 향 그윽한 30대 바둑 보이겠다”[한겨레] 맥심커피배 트로피 시상식 ...</td>\n",
              "      <td>7</td>\n",
              "    </tr>\n",
              "  </tbody>\n",
              "</table>\n",
              "<p>1600 rows × 2 columns</p>\n",
              "</div>"
            ],
            "text/plain": [
              "                                                feature label\n",
              "0     동남아 담당' 北 최희철 부상 베이징 도착…싱가포르행 주목최 부상, 행선지·방문 목...     0\n",
              "1     경찰, 김성태 폭행범 14일 기소의견으로 검찰 송치조직적 정치테러 가능성은 낮은 듯...     0\n",
              "2     6.13재보궐 8곳이냐 12곳이냐…14일 결정된다국회의장·범진보 \"국민 참정권 위해...     0\n",
              "3     靑 “권력형적폐 청산 넘어 생활적폐 청산으로”청와대는 13일 문재인 정부의 1번 국...     0\n",
              "4     [지방선거 여론조사①] 서울·인천·경기, 민주당 후보 우세[앵커]6.13 지방선거가...     0\n",
              "...                                                 ...   ...\n",
              "1595  신태용호 승선' 이승우 깜짝 귀국…21일 대표팀 합류2018 러시아 월드컵을 준비하...     7\n",
              "1596  2개 작품 준비한 피겨 최다빈 \"새로운 모습 보여주고파\"[STN스포츠(목동)=이보미...     7\n",
              "1597  복싱 신종훈, 러시아 국제대회 결승 진출[한겨레] 키르기스탄 미를란 5-0 판정으로...     7\n",
              "1598  단거리 최강마를 가려라! 20일 스포츠경향배【서울=뉴시스】김정환 기자 = 1등급 경...     7\n",
              "1599  조한승 “커피 향 그윽한 30대 바둑 보이겠다”[한겨레] 맥심커피배 트로피 시상식 ...     7\n",
              "\n",
              "[1600 rows x 2 columns]"
            ]
          },
          "execution_count": 14,
          "metadata": {},
          "output_type": "execute_result"
        }
      ],
      "source": [
        "news_df['feature']=news_df['feature'].str.replace('\\t', '')\n",
        "news_df"
      ]
    },
    {
      "cell_type": "code",
      "execution_count": 15,
      "metadata": {
        "colab": {
          "base_uri": "https://localhost:8080/",
          "height": 423
        },
        "id": "LkC8HmRWgn6v",
        "outputId": "3cdba958-42f8-4fcb-e431-2d0471582f18"
      },
      "outputs": [
        {
          "data": {
            "text/html": [
              "<div>\n",
              "<style scoped>\n",
              "    .dataframe tbody tr th:only-of-type {\n",
              "        vertical-align: middle;\n",
              "    }\n",
              "\n",
              "    .dataframe tbody tr th {\n",
              "        vertical-align: top;\n",
              "    }\n",
              "\n",
              "    .dataframe thead th {\n",
              "        text-align: right;\n",
              "    }\n",
              "</style>\n",
              "<table border=\"1\" class=\"dataframe\">\n",
              "  <thead>\n",
              "    <tr style=\"text-align: right;\">\n",
              "      <th></th>\n",
              "      <th>feature</th>\n",
              "      <th>label</th>\n",
              "    </tr>\n",
              "  </thead>\n",
              "  <tbody>\n",
              "    <tr>\n",
              "      <th>0</th>\n",
              "      <td>동남아 담당 北 최희철 부상 베이징 도착…싱가포르행 주목최 부상 행선지·방문 목적 ...</td>\n",
              "      <td>0</td>\n",
              "    </tr>\n",
              "    <tr>\n",
              "      <th>1</th>\n",
              "      <td>경찰 김성태 폭행범 14일 기소의견으로 검찰 송치조직적 정치테러 가능성은 낮은 듯【...</td>\n",
              "      <td>0</td>\n",
              "    </tr>\n",
              "    <tr>\n",
              "      <th>2</th>\n",
              "      <td>613재보궐 8곳이냐 12곳이냐…14일 결정된다국회의장·범진보 국민 참정권 위해 1...</td>\n",
              "      <td>0</td>\n",
              "    </tr>\n",
              "    <tr>\n",
              "      <th>3</th>\n",
              "      <td>靑 “권력형적폐 청산 넘어 생활적폐 청산으로”청와대는 13일 문재인 정부의 1번 국...</td>\n",
              "      <td>0</td>\n",
              "    </tr>\n",
              "    <tr>\n",
              "      <th>4</th>\n",
              "      <td>지방선거 여론조사① 서울·인천·경기 민주당 후보 우세앵커613 지방선거가 이제 한달...</td>\n",
              "      <td>0</td>\n",
              "    </tr>\n",
              "    <tr>\n",
              "      <th>...</th>\n",
              "      <td>...</td>\n",
              "      <td>...</td>\n",
              "    </tr>\n",
              "    <tr>\n",
              "      <th>1595</th>\n",
              "      <td>신태용호 승선 이승우 깜짝 귀국…21일 대표팀 합류2018 러시아 월드컵을 준비하는...</td>\n",
              "      <td>7</td>\n",
              "    </tr>\n",
              "    <tr>\n",
              "      <th>1596</th>\n",
              "      <td>2개 작품 준비한 피겨 최다빈 새로운 모습 보여주고파STN스포츠목동이보미 기자새로운...</td>\n",
              "      <td>7</td>\n",
              "    </tr>\n",
              "    <tr>\n",
              "      <th>1597</th>\n",
              "      <td>복싱 신종훈 러시아 국제대회 결승 진출한겨레 키르기스탄 미를란 50 판정으로 꺾어’...</td>\n",
              "      <td>7</td>\n",
              "    </tr>\n",
              "    <tr>\n",
              "      <th>1598</th>\n",
              "      <td>단거리 최강마를 가려라 20일 스포츠경향배【서울뉴시스】김정환 기자  1등급 경주마들...</td>\n",
              "      <td>7</td>\n",
              "    </tr>\n",
              "    <tr>\n",
              "      <th>1599</th>\n",
              "      <td>조한승 “커피 향 그윽한 30대 바둑 보이겠다”한겨레 맥심커피배 트로피 시상식 열려...</td>\n",
              "      <td>7</td>\n",
              "    </tr>\n",
              "  </tbody>\n",
              "</table>\n",
              "<p>1600 rows × 2 columns</p>\n",
              "</div>"
            ],
            "text/plain": [
              "                                                feature label\n",
              "0     동남아 담당 北 최희철 부상 베이징 도착…싱가포르행 주목최 부상 행선지·방문 목적 ...     0\n",
              "1     경찰 김성태 폭행범 14일 기소의견으로 검찰 송치조직적 정치테러 가능성은 낮은 듯【...     0\n",
              "2     613재보궐 8곳이냐 12곳이냐…14일 결정된다국회의장·범진보 국민 참정권 위해 1...     0\n",
              "3     靑 “권력형적폐 청산 넘어 생활적폐 청산으로”청와대는 13일 문재인 정부의 1번 국...     0\n",
              "4     지방선거 여론조사① 서울·인천·경기 민주당 후보 우세앵커613 지방선거가 이제 한달...     0\n",
              "...                                                 ...   ...\n",
              "1595  신태용호 승선 이승우 깜짝 귀국…21일 대표팀 합류2018 러시아 월드컵을 준비하는...     7\n",
              "1596  2개 작품 준비한 피겨 최다빈 새로운 모습 보여주고파STN스포츠목동이보미 기자새로운...     7\n",
              "1597  복싱 신종훈 러시아 국제대회 결승 진출한겨레 키르기스탄 미를란 50 판정으로 꺾어’...     7\n",
              "1598  단거리 최강마를 가려라 20일 스포츠경향배【서울뉴시스】김정환 기자  1등급 경주마들...     7\n",
              "1599  조한승 “커피 향 그윽한 30대 바둑 보이겠다”한겨레 맥심커피배 트로피 시상식 열려...     7\n",
              "\n",
              "[1600 rows x 2 columns]"
            ]
          },
          "execution_count": 15,
          "metadata": {},
          "output_type": "execute_result"
        }
      ],
      "source": [
        "punc=string.punctuation\n",
        "\n",
        "for p in punc:\n",
        "    news_df['feature'] = news_df['feature'].str.replace(p, '')\n",
        "\n",
        "news_df"
      ]
    },
    {
      "cell_type": "code",
      "execution_count": 16,
      "metadata": {
        "colab": {
          "base_uri": "https://localhost:8080/",
          "height": 423
        },
        "id": "3GSmYz-wg7-S",
        "outputId": "432529a5-9652-4542-84a4-5335fb65d34a"
      },
      "outputs": [
        {
          "data": {
            "text/html": [
              "<div>\n",
              "<style scoped>\n",
              "    .dataframe tbody tr th:only-of-type {\n",
              "        vertical-align: middle;\n",
              "    }\n",
              "\n",
              "    .dataframe tbody tr th {\n",
              "        vertical-align: top;\n",
              "    }\n",
              "\n",
              "    .dataframe thead th {\n",
              "        text-align: right;\n",
              "    }\n",
              "</style>\n",
              "<table border=\"1\" class=\"dataframe\">\n",
              "  <thead>\n",
              "    <tr style=\"text-align: right;\">\n",
              "      <th></th>\n",
              "      <th>feature</th>\n",
              "      <th>label</th>\n",
              "    </tr>\n",
              "  </thead>\n",
              "  <tbody>\n",
              "    <tr>\n",
              "      <th>0</th>\n",
              "      <td>동남아 담당   최희철 부상 베이징 도착 싱가포르행 주목최 부상 행선지 방문 목적 ...</td>\n",
              "      <td>0</td>\n",
              "    </tr>\n",
              "    <tr>\n",
              "      <th>1</th>\n",
              "      <td>경찰 김성태 폭행범  일 기소의견으로 검찰 송치조직적 정치테러 가능성은 낮은 듯 서...</td>\n",
              "      <td>0</td>\n",
              "    </tr>\n",
              "    <tr>\n",
              "      <th>2</th>\n",
              "      <td>재보궐  곳이냐  곳이냐 일 결정된다국회의장 범진보 국민 참정권 위해  일 본회의...</td>\n",
              "      <td>0</td>\n",
              "    </tr>\n",
              "    <tr>\n",
              "      <th>3</th>\n",
              "      <td>권력형적폐 청산 넘어 생활적폐 청산으로 청와대는  일 문재인 정부의  번 국정...</td>\n",
              "      <td>0</td>\n",
              "    </tr>\n",
              "    <tr>\n",
              "      <th>4</th>\n",
              "      <td>지방선거 여론조사  서울 인천 경기 민주당 후보 우세앵커  지방선거가 이제 한달여 ...</td>\n",
              "      <td>0</td>\n",
              "    </tr>\n",
              "    <tr>\n",
              "      <th>...</th>\n",
              "      <td>...</td>\n",
              "      <td>...</td>\n",
              "    </tr>\n",
              "    <tr>\n",
              "      <th>1595</th>\n",
              "      <td>신태용호 승선 이승우 깜짝 귀국 일 대표팀 합류  러시아 월드컵을 준비하는 신태용호...</td>\n",
              "      <td>7</td>\n",
              "    </tr>\n",
              "    <tr>\n",
              "      <th>1596</th>\n",
              "      <td>개 작품 준비한 피겨 최다빈 새로운 모습 보여주고파 스포츠목동이보미 기자새로운 모...</td>\n",
              "      <td>7</td>\n",
              "    </tr>\n",
              "    <tr>\n",
              "      <th>1597</th>\n",
              "      <td>복싱 신종훈 러시아 국제대회 결승 진출한겨레 키르기스탄 미를란   판정으로 꺾어 억...</td>\n",
              "      <td>7</td>\n",
              "    </tr>\n",
              "    <tr>\n",
              "      <th>1598</th>\n",
              "      <td>단거리 최강마를 가려라  일 스포츠경향배 서울뉴시스 김정환 기자   등급 경주마들이...</td>\n",
              "      <td>7</td>\n",
              "    </tr>\n",
              "    <tr>\n",
              "      <th>1599</th>\n",
              "      <td>조한승  커피 향 그윽한  대 바둑 보이겠다 한겨레 맥심커피배 트로피 시상식 열려 ...</td>\n",
              "      <td>7</td>\n",
              "    </tr>\n",
              "  </tbody>\n",
              "</table>\n",
              "<p>1600 rows × 2 columns</p>\n",
              "</div>"
            ],
            "text/plain": [
              "                                                feature label\n",
              "0     동남아 담당   최희철 부상 베이징 도착 싱가포르행 주목최 부상 행선지 방문 목적 ...     0\n",
              "1     경찰 김성태 폭행범  일 기소의견으로 검찰 송치조직적 정치테러 가능성은 낮은 듯 서...     0\n",
              "2      재보궐  곳이냐  곳이냐 일 결정된다국회의장 범진보 국민 참정권 위해  일 본회의...     0\n",
              "3        권력형적폐 청산 넘어 생활적폐 청산으로 청와대는  일 문재인 정부의  번 국정...     0\n",
              "4     지방선거 여론조사  서울 인천 경기 민주당 후보 우세앵커  지방선거가 이제 한달여 ...     0\n",
              "...                                                 ...   ...\n",
              "1595  신태용호 승선 이승우 깜짝 귀국 일 대표팀 합류  러시아 월드컵을 준비하는 신태용호...     7\n",
              "1596   개 작품 준비한 피겨 최다빈 새로운 모습 보여주고파 스포츠목동이보미 기자새로운 모...     7\n",
              "1597  복싱 신종훈 러시아 국제대회 결승 진출한겨레 키르기스탄 미를란   판정으로 꺾어 억...     7\n",
              "1598  단거리 최강마를 가려라  일 스포츠경향배 서울뉴시스 김정환 기자   등급 경주마들이...     7\n",
              "1599  조한승  커피 향 그윽한  대 바둑 보이겠다 한겨레 맥심커피배 트로피 시상식 열려 ...     7\n",
              "\n",
              "[1600 rows x 2 columns]"
            ]
          },
          "execution_count": 16,
          "metadata": {},
          "output_type": "execute_result"
        }
      ],
      "source": [
        "m=re.compile('[^ ㄱ-ㅣ가-힣]+')\n",
        "\n",
        "news_df['feature']=news_df['feature'].apply(lambda x: m.sub(' ', x))\n",
        "news_df"
      ]
    },
    {
      "cell_type": "code",
      "execution_count": 17,
      "metadata": {
        "id": "5OD4fvQYi7vF"
      },
      "outputs": [],
      "source": [
        "def build_vocab(corpus, n_vocab, special_tokens):\n",
        "    counter = Counter()\n",
        "    for tokens in corpus:\n",
        "        counter.update(tokens)\n",
        "    vocab = special_tokens\n",
        "\n",
        "    for token, count in counter.most_common(n_vocab):\n",
        "        vocab.append(token)\n",
        "\n",
        "    return vocab"
      ]
    },
    {
      "cell_type": "code",
      "execution_count": 18,
      "metadata": {
        "id": "p6rFHgc8xuLZ"
      },
      "outputs": [],
      "source": [
        "train=news_df.sample(frac=0.9, random_state=81)\n",
        "test=news_df.drop(train.index)"
      ]
    },
    {
      "cell_type": "code",
      "execution_count": 19,
      "metadata": {
        "colab": {
          "base_uri": "https://localhost:8080/"
        },
        "id": "kh-x07igh3K9",
        "outputId": "164d2bfd-63a5-47ad-af84-9ca323e6fd6d"
      },
      "outputs": [
        {
          "data": {
            "text/plain": [
              "((1440, 2), (160, 2))"
            ]
          },
          "execution_count": 19,
          "metadata": {},
          "output_type": "execute_result"
        }
      ],
      "source": [
        "train.shape, test.shape"
      ]
    },
    {
      "cell_type": "code",
      "execution_count": 20,
      "metadata": {
        "colab": {
          "base_uri": "https://localhost:8080/",
          "height": 206
        },
        "id": "5s4g3AQriLTM",
        "outputId": "d4171224-217b-415d-aedc-6e37bfea14f5"
      },
      "outputs": [
        {
          "data": {
            "text/html": [
              "<div>\n",
              "<style scoped>\n",
              "    .dataframe tbody tr th:only-of-type {\n",
              "        vertical-align: middle;\n",
              "    }\n",
              "\n",
              "    .dataframe tbody tr th {\n",
              "        vertical-align: top;\n",
              "    }\n",
              "\n",
              "    .dataframe thead th {\n",
              "        text-align: right;\n",
              "    }\n",
              "</style>\n",
              "<table border=\"1\" class=\"dataframe\">\n",
              "  <thead>\n",
              "    <tr style=\"text-align: right;\">\n",
              "      <th></th>\n",
              "      <th>feature</th>\n",
              "      <th>label</th>\n",
              "    </tr>\n",
              "  </thead>\n",
              "  <tbody>\n",
              "    <tr>\n",
              "      <th>1452</th>\n",
              "      <td>렛츠런파크 유소년 승마단 전국소년체육대회 참가한국마사회 렛츠런파크 부산경남본부장 정...</td>\n",
              "      <td>7</td>\n",
              "    </tr>\n",
              "    <tr>\n",
              "      <th>968</th>\n",
              "      <td>투병 매케인에 어차피 죽을사람 조롱한 백악관 보좌관 뭇매사악 혐오스럽다 나라위해 고...</td>\n",
              "      <td>4</td>\n",
              "    </tr>\n",
              "    <tr>\n",
              "      <th>1167</th>\n",
              "      <td>예약자  만 몰린 배틀그라운드 모바일 오늘 정식 출시서울뉴스  이수호 기자  지난해...</td>\n",
              "      <td>5</td>\n",
              "    </tr>\n",
              "    <tr>\n",
              "      <th>201</th>\n",
              "      <td>이란핵협정 탈퇴에도급락한 국제유가 왜뉴욕이데일리 이준기 특파원 국제유가가  일현...</td>\n",
              "      <td>1</td>\n",
              "    </tr>\n",
              "    <tr>\n",
              "      <th>1564</th>\n",
              "      <td>서울시봅슬레이스켈레톤연맹 회장배 대회강습회 개최마이데일리  윤욱재 기자  년 서울시...</td>\n",
              "      <td>7</td>\n",
              "    </tr>\n",
              "  </tbody>\n",
              "</table>\n",
              "</div>"
            ],
            "text/plain": [
              "                                                feature label\n",
              "1452  렛츠런파크 유소년 승마단 전국소년체육대회 참가한국마사회 렛츠런파크 부산경남본부장 정...     7\n",
              "968   투병 매케인에 어차피 죽을사람 조롱한 백악관 보좌관 뭇매사악 혐오스럽다 나라위해 고...     4\n",
              "1167  예약자  만 몰린 배틀그라운드 모바일 오늘 정식 출시서울뉴스  이수호 기자  지난해...     5\n",
              "201     이란핵협정 탈퇴에도급락한 국제유가 왜뉴욕이데일리 이준기 특파원 국제유가가  일현...     1\n",
              "1564  서울시봅슬레이스켈레톤연맹 회장배 대회강습회 개최마이데일리  윤욱재 기자  년 서울시...     7"
            ]
          },
          "execution_count": 20,
          "metadata": {},
          "output_type": "execute_result"
        }
      ],
      "source": [
        "train.head()"
      ]
    },
    {
      "cell_type": "code",
      "execution_count": 24,
      "metadata": {
        "id": "u1blEIipr30g"
      },
      "outputs": [],
      "source": [
        "stop_word='./stopwords.txt'\n",
        "\n",
        "with open(stop_word, 'r', encoding='utf-8') as f:\n",
        "    stop_words = [line.strip() for line in f]"
      ]
    },
    {
      "cell_type": "code",
      "execution_count": 25,
      "metadata": {
        "colab": {
          "base_uri": "https://localhost:8080/"
        },
        "id": "3xRntOa-bx2L",
        "outputId": "518f7a46-0a54-489e-f88e-6df097014e7c"
      },
      "outputs": [
        {
          "name": "stdout",
          "output_type": "stream",
          "text": [
            "['<pad>', '<unk>', '하는', '기자', '있는', '명', '한국', '서울', '위', '이라고']\n",
            "20002\n"
          ]
        }
      ],
      "source": [
        "tokenizer = Okt()\n",
        "\n",
        "train_tokens = [[token for token in tokenizer.morphs(text) if token not in stop_words] for text in train['feature']]\n",
        "test_tokens = [[token for token in tokenizer.morphs(text) if token not in stop_words] for text in test['feature']]\n",
        "\n",
        "vocab = build_vocab(corpus=train_tokens, n_vocab=20000, special_tokens=['<pad>','<unk>'])\n",
        "token_to_id = {token:idx for idx, token in enumerate(vocab)}\n",
        "id_to_token = {idx:token for idx, token in enumerate(vocab)}\n",
        "\n",
        "print(vocab[:10])\n",
        "print(len(vocab))"
      ]
    },
    {
      "cell_type": "code",
      "execution_count": 26,
      "metadata": {
        "id": "EpHQea2qhbed"
      },
      "outputs": [],
      "source": [
        "def pad_sequences(sequences, max_length, pad_value):\n",
        "    result = list()\n",
        "    for sequence in sequences:\n",
        "        sequence = sequence[:max_length]\n",
        "        pad_length = max_length - len(sequence)\n",
        "        padded_sequence = sequence + [pad_value] * pad_length\n",
        "        result.append(padded_sequence)\n",
        "    return np.asarray(result)"
      ]
    },
    {
      "cell_type": "code",
      "execution_count": 27,
      "metadata": {
        "colab": {
          "base_uri": "https://localhost:8080/"
        },
        "id": "PTfogtO3kEOM",
        "outputId": "5c88b13b-bd11-4f9a-d68e-7bf24bed4705"
      },
      "outputs": [
        {
          "name": "stdout",
          "output_type": "stream",
          "text": [
            "[ 3855  2383  1578  2917   212  1578  2384   532     6  2224  3855  2383\n",
            "   342   732  3176 11606  1578  2917   185   156  1181   222    45   212\n",
            "  1578  2384   532   342   732  1578  2917   156  3855  2383     7  2917\n",
            "  1648  8686  1578  3307  2573  2917   811   387    13   387   109 19561\n",
            " 19562  6877     6  2224 11607  2917 14335  1203   490   387   250  1471\n",
            "   387   585   533   448   333   824   333  2917   251   440   490   414\n",
            "   674   109   578     6  2224  2687  1047   634   303  1578  3307   387\n",
            "   181    35  2225 19563   455   906   129     4  2917  1578   455  9894\n",
            "     2  3177    97    40  3855  2383   342   732    36 19564   432   290\n",
            "   227    59  2917  1323   324  1578  3307  1541   811   387   342   732\n",
            "    68  1578  2917  1704  7706   569  1471 11606  3176   110   347   591\n",
            "  1896 14336  2082   522  7707   560  3177   181   754  1304  2917  2303\n",
            "   893 11608   324   825 19565   353  2688   347   774  2918  3651   474\n",
            "   374   200   516  6266   324  3177  7708     0     0     0     0     0\n",
            "     0     0     0     0     0     0     0     0     0     0     0     0\n",
            "     0     0     0     0     0     0     0     0     0     0     0     0\n",
            "     0     0     0     0     0     0     0     0     0     0     0     0\n",
            "     0     0     0     0     0     0     0     0     0     0     0     0\n",
            "     0     0     0     0     0     0     0     0     0     0     0     0\n",
            "     0     0     0     0     0     0     0     0     0     0     0     0\n",
            "     0     0     0     0     0     0     0     0     0     0     0     0\n",
            "     0     0     0     0     0     0     0     0     0     0     0     0\n",
            "     0     0     0     0     0     0     0     0     0     0     0     0\n",
            "     0     0     0     0     0     0     0     0     0     0     0     0\n",
            "     0     0     0     0     0     0     0     0     0     0     0     0\n",
            "     0     0     0     0     0     0     0     0     0     0     0     0\n",
            "     0     0     0     0     0     0     0     0     0     0     0     0\n",
            "     0     0     0     0     0     0     0     0     0     0     0     0\n",
            "     0     0     0     0     0     0     0     0     0     0     0     0\n",
            "     0     0     0     0     0     0     0     0     0     0     0     0\n",
            "     0     0     0     0     0     0     0     0     0     0     0     0\n",
            "     0     0     0     0     0     0     0     0     0     0     0     0\n",
            "     0     0     0     0     0     0     0     0     0     0     0     0\n",
            "     0     0     0     0     0     0     0     0     0     0     0     0\n",
            "     0     0     0     0     0     0     0     0     0     0     0     0\n",
            "     0     0     0     0     0     0     0     0     0     0     0     0\n",
            "     0     0     0     0     0     0     0     0     0     0     0     0\n",
            "     0     0     0     0     0     0     0     0     0     0     0     0\n",
            "     0     0     0     0     0     0     0     0     0     0     0     0\n",
            "     0     0     0     0     0     0     0     0     0     0     0     0\n",
            "     0     0     0     0     0     0     0     0     0     0     0     0\n",
            "     0     0     0     0     0     0     0     0]\n",
            "[ 4267  1120  2338 19119    45   225     1     1  3947  1483  3449  6858\n",
            "     6   741  2765   134   499  3501  1941  2765    98     1     3   134\n",
            "  4267    33   134    14   239   526    79   142   128    79   225   353\n",
            "   207    59   643  2122   234   262     6  1120   206  2338 19119    45\n",
            "   225     1   554     1   741    33  1771     1     1     1   237   499\n",
            "  3501  1941    37   394  1592    24    33  3788  6466   945  2712     1\n",
            "  2260     1  2263     1  3483  8119   940  1628     2     1    44  3166\n",
            "   715   275   399   630     6   443  3947  1483  3449  6858     9   658\n",
            "   546    33   133   727    70  1111  1543 11575   272  1361  7409  1095\n",
            "  1896  2522  2712     1  2260   224 12037  2634     1  9916   143   784\n",
            "  3146    33    80 14607   920  9203  1112  3087   386   466   311     9\n",
            "  2085   743  1919  8351     1  2234   499   590  4884  1201   935  2109\n",
            "  5449   204   256    11  7153     1    39   477   499  4275     1   164\n",
            "   373  7654   166    94   909   394     1 11330     1     1   514   525\n",
            "   269    33  1951  1875  3892  1900  6897   743   423   525  7153     1\n",
            "    39  7575 10706   468   546  3375   386    30   684     8   272  4485\n",
            "     1   141  3501  7392  1763 16132     0     0     0     0     0     0\n",
            "     0     0     0     0     0     0     0     0     0     0     0     0\n",
            "     0     0     0     0     0     0     0     0     0     0     0     0\n",
            "     0     0     0     0     0     0     0     0     0     0     0     0\n",
            "     0     0     0     0     0     0     0     0     0     0     0     0\n",
            "     0     0     0     0     0     0     0     0     0     0     0     0\n",
            "     0     0     0     0     0     0     0     0     0     0     0     0\n",
            "     0     0     0     0     0     0     0     0     0     0     0     0\n",
            "     0     0     0     0     0     0     0     0     0     0     0     0\n",
            "     0     0     0     0     0     0     0     0     0     0     0     0\n",
            "     0     0     0     0     0     0     0     0     0     0     0     0\n",
            "     0     0     0     0     0     0     0     0     0     0     0     0\n",
            "     0     0     0     0     0     0     0     0     0     0     0     0\n",
            "     0     0     0     0     0     0     0     0     0     0     0     0\n",
            "     0     0     0     0     0     0     0     0     0     0     0     0\n",
            "     0     0     0     0     0     0     0     0     0     0     0     0\n",
            "     0     0     0     0     0     0     0     0     0     0     0     0\n",
            "     0     0     0     0     0     0     0     0     0     0     0     0\n",
            "     0     0     0     0     0     0     0     0     0     0     0     0\n",
            "     0     0     0     0     0     0     0     0     0     0     0     0\n",
            "     0     0     0     0     0     0     0     0     0     0     0     0\n",
            "     0     0     0     0     0     0     0     0     0     0     0     0\n",
            "     0     0     0     0     0     0     0     0     0     0     0     0\n",
            "     0     0     0     0     0     0     0     0     0     0     0     0\n",
            "     0     0     0     0     0     0     0     0     0     0     0     0\n",
            "     0     0     0     0     0     0     0     0]\n"
          ]
        }
      ],
      "source": [
        "unk_id = token_to_id[\"<unk>\"]\n",
        "train_ids = [[token_to_id.get(token, unk_id) for token in review] for review in train_tokens]\n",
        "test_ids = [[token_to_id.get(token, unk_id) for token in review] for review in test_tokens]\n",
        "\n",
        "max_length = 500\n",
        "pad_id = token_to_id['<pad>']\n",
        "train_ids = pad_sequences(train_ids, max_length, pad_id)\n",
        "test_ids = pad_sequences(test_ids, max_length, pad_id)\n",
        "\n",
        "print(train_ids[0])\n",
        "print(test_ids[0])"
      ]
    },
    {
      "cell_type": "code",
      "execution_count": 28,
      "metadata": {
        "id": "0KGWpEqekG1A"
      },
      "outputs": [],
      "source": [
        "train_ids = torch.tensor(train_ids)\n",
        "test_ids = torch.tensor(test_ids)\n",
        "\n",
        "train_labels = torch.tensor(train['label'].values.astype(np.float32))\n",
        "test_labels = torch.tensor(test['label'].values.astype(np.float32))\n",
        "\n",
        "train_dataset = TensorDataset(train_ids, train_labels)\n",
        "test_dataset = TensorDataset(test_ids, test_labels)\n",
        "\n",
        "train_loader = DataLoader(train_dataset, batch_size=16, shuffle=True)\n",
        "test_loader = DataLoader(test_dataset, batch_size=16, shuffle=False)"
      ]
    },
    {
      "cell_type": "code",
      "execution_count": 29,
      "metadata": {
        "colab": {
          "base_uri": "https://localhost:8080/"
        },
        "id": "Sqx3kXfVlkfc",
        "outputId": "e6b9371e-72e3-4f1a-880e-8f33e8c558f2"
      },
      "outputs": [
        {
          "name": "stdout",
          "output_type": "stream",
          "text": [
            "cuda\n"
          ]
        }
      ],
      "source": [
        "n_vocab = len(token_to_id)\n",
        "hidden_dim = 64\n",
        "embedding_dim = 128\n",
        "n_layers = 2\n",
        "\n",
        "device = 'cuda' if torch.cuda.is_available() else 'cpu'\n",
        "\n",
        "print(device)"
      ]
    },
    {
      "cell_type": "code",
      "execution_count": 30,
      "metadata": {
        "id": "zG2xEb_tmuVP"
      },
      "outputs": [],
      "source": [
        "class SentenceClassifier(nn.Module):\n",
        "    def __init__(self, n_vocab, hidden_dim, embedding_dim, n_layers, dropout=0.5, bidirectional=True, model_type = \"lstm\"):\n",
        "        super().__init__()\n",
        "        self.embedding = nn.Embedding(num_embeddings=n_vocab, embedding_dim=embedding_dim, padding_idx=0)\n",
        "\n",
        "        if model_type == 'rnn':\n",
        "            self.model = nn.RNN(input_size=embedding_dim, hidden_size=hidden_dim, num_layers=n_layers, bidirectional=bidirectional, dropout=dropout, batch_first=True)\n",
        "        elif model_type == 'lstm':\n",
        "            self.model = nn.LSTM(input_size=embedding_dim, hidden_size=hidden_dim, num_layers=n_layers, bidirectional=bidirectional, dropout=dropout, batch_first=True)\n",
        "\n",
        "        if bidirectional:\n",
        "            self.classifier = nn.Linear(hidden_dim*2, 1)\n",
        "        else :\n",
        "            self.classifier = nn.Linear(hidden_dim, 1)\n",
        "\n",
        "        self.dropout = nn.Dropout(dropout)\n",
        "\n",
        "    def forward(self, inputs):\n",
        "        embeddings = self.embedding(inputs)\n",
        "        output,_ = self.model(embeddings)\n",
        "        last_output = output[:,-1,:]\n",
        "        last_output = self.dropout(last_output)\n",
        "        logits = self.classifier(last_output)\n",
        "        return logits"
      ]
    },
    {
      "cell_type": "code",
      "execution_count": 42,
      "metadata": {
        "colab": {
          "base_uri": "https://localhost:8080/",
          "height": 435
        },
        "id": "iXjSZLFDnIb3",
        "outputId": "9241abfc-8140-4bf9-ba50-bd69ecf2fd4e"
      },
      "outputs": [
        {
          "ename": "TypeError",
          "evalue": "zeros() received an invalid combination of arguments - got (Tensor, dtype=torch.dtype), but expected one of:\n * (tuple of ints size, *, tuple of names names, torch.dtype dtype, torch.layout layout, torch.device device, bool pin_memory, bool requires_grad)\n * (tuple of ints size, *, Tensor out, torch.dtype dtype, torch.layout layout, torch.device device, bool pin_memory, bool requires_grad)\n",
          "output_type": "error",
          "traceback": [
            "\u001b[1;31m---------------------------------------------------------------------------\u001b[0m",
            "\u001b[1;31mTypeError\u001b[0m                                 Traceback (most recent call last)",
            "Cell \u001b[1;32mIn[42], line 19\u001b[0m\n\u001b[0;32m     17\u001b[0m pre_y\u001b[38;5;241m=\u001b[39mmodel(feature)\n\u001b[0;32m     18\u001b[0m loss\u001b[38;5;241m=\u001b[39mcriterion(pre_y,target\u001b[38;5;241m.\u001b[39mreshape(\u001b[38;5;241m-\u001b[39m\u001b[38;5;241m1\u001b[39m))\n\u001b[1;32m---> 19\u001b[0m score\u001b[38;5;241m=\u001b[39m\u001b[43mMulticlassF1Score\u001b[49m\u001b[43m(\u001b[49m\u001b[43mtorch\u001b[49m\u001b[38;5;241;43m.\u001b[39;49m\u001b[43msoftmax\u001b[49m\u001b[43m(\u001b[49m\u001b[43mpre_y\u001b[49m\u001b[43m,\u001b[49m\u001b[43mdim\u001b[49m\u001b[38;5;241;43m=\u001b[39;49m\u001b[38;5;241;43m1\u001b[39;49m\u001b[43m)\u001b[49m\u001b[43m,\u001b[49m\u001b[43mtarget\u001b[49m\u001b[38;5;241;43m.\u001b[39;49m\u001b[43mreshape\u001b[49m\u001b[43m(\u001b[49m\u001b[38;5;241;43m-\u001b[39;49m\u001b[38;5;241;43m1\u001b[39;49m\u001b[43m)\u001b[49m\u001b[38;5;241;43m.\u001b[39;49m\u001b[43mfloat\u001b[49m\u001b[43m(\u001b[49m\u001b[43m)\u001b[49m\u001b[43m)\u001b[49m\n\u001b[0;32m     21\u001b[0m optimizer\u001b[38;5;241m.\u001b[39mzero_grad()\n\u001b[0;32m     22\u001b[0m loss\u001b[38;5;241m.\u001b[39mbackward()\n",
            "File \u001b[1;32mc:\\Users\\MSI\\anaconda3\\envs\\TEXT_018_230_38\\lib\\site-packages\\torchmetrics\\classification\\f_beta.py:860\u001b[0m, in \u001b[0;36mMulticlassF1Score.__init__\u001b[1;34m(self, num_classes, top_k, average, multidim_average, ignore_index, validate_args, zero_division, **kwargs)\u001b[0m\n\u001b[0;32m    849\u001b[0m \u001b[38;5;28;01mdef\u001b[39;00m \u001b[38;5;21m__init__\u001b[39m(\n\u001b[0;32m    850\u001b[0m     \u001b[38;5;28mself\u001b[39m,\n\u001b[0;32m    851\u001b[0m     num_classes: \u001b[38;5;28mint\u001b[39m,\n\u001b[1;32m   (...)\u001b[0m\n\u001b[0;32m    858\u001b[0m     \u001b[38;5;241m*\u001b[39m\u001b[38;5;241m*\u001b[39mkwargs: Any,\n\u001b[0;32m    859\u001b[0m ) \u001b[38;5;241m-\u001b[39m\u001b[38;5;241m>\u001b[39m \u001b[38;5;28;01mNone\u001b[39;00m:\n\u001b[1;32m--> 860\u001b[0m     \u001b[38;5;28;43msuper\u001b[39;49m\u001b[43m(\u001b[49m\u001b[43m)\u001b[49m\u001b[38;5;241;43m.\u001b[39;49m\u001b[38;5;21;43m__init__\u001b[39;49m\u001b[43m(\u001b[49m\n\u001b[0;32m    861\u001b[0m \u001b[43m        \u001b[49m\u001b[43mbeta\u001b[49m\u001b[38;5;241;43m=\u001b[39;49m\u001b[38;5;241;43m1.0\u001b[39;49m\u001b[43m,\u001b[49m\n\u001b[0;32m    862\u001b[0m \u001b[43m        \u001b[49m\u001b[43mnum_classes\u001b[49m\u001b[38;5;241;43m=\u001b[39;49m\u001b[43mnum_classes\u001b[49m\u001b[43m,\u001b[49m\n\u001b[0;32m    863\u001b[0m \u001b[43m        \u001b[49m\u001b[43mtop_k\u001b[49m\u001b[38;5;241;43m=\u001b[39;49m\u001b[43mtop_k\u001b[49m\u001b[43m,\u001b[49m\n\u001b[0;32m    864\u001b[0m \u001b[43m        \u001b[49m\u001b[43maverage\u001b[49m\u001b[38;5;241;43m=\u001b[39;49m\u001b[43maverage\u001b[49m\u001b[43m,\u001b[49m\n\u001b[0;32m    865\u001b[0m \u001b[43m        \u001b[49m\u001b[43mmultidim_average\u001b[49m\u001b[38;5;241;43m=\u001b[39;49m\u001b[43mmultidim_average\u001b[49m\u001b[43m,\u001b[49m\n\u001b[0;32m    866\u001b[0m \u001b[43m        \u001b[49m\u001b[43mignore_index\u001b[49m\u001b[38;5;241;43m=\u001b[39;49m\u001b[43mignore_index\u001b[49m\u001b[43m,\u001b[49m\n\u001b[0;32m    867\u001b[0m \u001b[43m        \u001b[49m\u001b[43mvalidate_args\u001b[49m\u001b[38;5;241;43m=\u001b[39;49m\u001b[43mvalidate_args\u001b[49m\u001b[43m,\u001b[49m\n\u001b[0;32m    868\u001b[0m \u001b[43m        \u001b[49m\u001b[43mzero_division\u001b[49m\u001b[38;5;241;43m=\u001b[39;49m\u001b[43mzero_division\u001b[49m\u001b[43m,\u001b[49m\n\u001b[0;32m    869\u001b[0m \u001b[43m        \u001b[49m\u001b[38;5;241;43m*\u001b[39;49m\u001b[38;5;241;43m*\u001b[39;49m\u001b[43mkwargs\u001b[49m\u001b[43m,\u001b[49m\n\u001b[0;32m    870\u001b[0m \u001b[43m    \u001b[49m\u001b[43m)\u001b[49m\n",
            "File \u001b[1;32mc:\\Users\\MSI\\anaconda3\\envs\\TEXT_018_230_38\\lib\\site-packages\\torchmetrics\\classification\\f_beta.py:328\u001b[0m, in \u001b[0;36mMulticlassFBetaScore.__init__\u001b[1;34m(self, beta, num_classes, top_k, average, multidim_average, ignore_index, validate_args, zero_division, **kwargs)\u001b[0m\n\u001b[0;32m    316\u001b[0m \u001b[38;5;28;01mdef\u001b[39;00m \u001b[38;5;21m__init__\u001b[39m(\n\u001b[0;32m    317\u001b[0m     \u001b[38;5;28mself\u001b[39m,\n\u001b[0;32m    318\u001b[0m     beta: \u001b[38;5;28mfloat\u001b[39m,\n\u001b[1;32m   (...)\u001b[0m\n\u001b[0;32m    326\u001b[0m     \u001b[38;5;241m*\u001b[39m\u001b[38;5;241m*\u001b[39mkwargs: Any,\n\u001b[0;32m    327\u001b[0m ) \u001b[38;5;241m-\u001b[39m\u001b[38;5;241m>\u001b[39m \u001b[38;5;28;01mNone\u001b[39;00m:\n\u001b[1;32m--> 328\u001b[0m     \u001b[38;5;28;43msuper\u001b[39;49m\u001b[43m(\u001b[49m\u001b[43m)\u001b[49m\u001b[38;5;241;43m.\u001b[39;49m\u001b[38;5;21;43m__init__\u001b[39;49m\u001b[43m(\u001b[49m\n\u001b[0;32m    329\u001b[0m \u001b[43m        \u001b[49m\u001b[43mnum_classes\u001b[49m\u001b[38;5;241;43m=\u001b[39;49m\u001b[43mnum_classes\u001b[49m\u001b[43m,\u001b[49m\n\u001b[0;32m    330\u001b[0m \u001b[43m        \u001b[49m\u001b[43mtop_k\u001b[49m\u001b[38;5;241;43m=\u001b[39;49m\u001b[43mtop_k\u001b[49m\u001b[43m,\u001b[49m\n\u001b[0;32m    331\u001b[0m \u001b[43m        \u001b[49m\u001b[43maverage\u001b[49m\u001b[38;5;241;43m=\u001b[39;49m\u001b[43maverage\u001b[49m\u001b[43m,\u001b[49m\n\u001b[0;32m    332\u001b[0m \u001b[43m        \u001b[49m\u001b[43mmultidim_average\u001b[49m\u001b[38;5;241;43m=\u001b[39;49m\u001b[43mmultidim_average\u001b[49m\u001b[43m,\u001b[49m\n\u001b[0;32m    333\u001b[0m \u001b[43m        \u001b[49m\u001b[43mignore_index\u001b[49m\u001b[38;5;241;43m=\u001b[39;49m\u001b[43mignore_index\u001b[49m\u001b[43m,\u001b[49m\n\u001b[0;32m    334\u001b[0m \u001b[43m        \u001b[49m\u001b[43mvalidate_args\u001b[49m\u001b[38;5;241;43m=\u001b[39;49m\u001b[38;5;28;43;01mFalse\u001b[39;49;00m\u001b[43m,\u001b[49m\n\u001b[0;32m    335\u001b[0m \u001b[43m        \u001b[49m\u001b[38;5;241;43m*\u001b[39;49m\u001b[38;5;241;43m*\u001b[39;49m\u001b[43mkwargs\u001b[49m\u001b[43m,\u001b[49m\n\u001b[0;32m    336\u001b[0m \u001b[43m    \u001b[49m\u001b[43m)\u001b[49m\n\u001b[0;32m    337\u001b[0m     \u001b[38;5;28;01mif\u001b[39;00m validate_args:\n\u001b[0;32m    338\u001b[0m         _multiclass_fbeta_score_arg_validation(\n\u001b[0;32m    339\u001b[0m             beta, num_classes, top_k, average, multidim_average, ignore_index, zero_division\n\u001b[0;32m    340\u001b[0m         )\n",
            "File \u001b[1;32mc:\\Users\\MSI\\anaconda3\\envs\\TEXT_018_230_38\\lib\\site-packages\\torchmetrics\\classification\\stat_scores.py:332\u001b[0m, in \u001b[0;36mMulticlassStatScores.__init__\u001b[1;34m(self, num_classes, top_k, average, multidim_average, ignore_index, validate_args, **kwargs)\u001b[0m\n\u001b[0;32m    329\u001b[0m \u001b[38;5;28mself\u001b[39m\u001b[38;5;241m.\u001b[39mvalidate_args \u001b[38;5;241m=\u001b[39m validate_args\n\u001b[0;32m    330\u001b[0m \u001b[38;5;28mself\u001b[39m\u001b[38;5;241m.\u001b[39mzero_division \u001b[38;5;241m=\u001b[39m zero_division\n\u001b[1;32m--> 332\u001b[0m \u001b[38;5;28;43mself\u001b[39;49m\u001b[38;5;241;43m.\u001b[39;49m\u001b[43m_create_state\u001b[49m\u001b[43m(\u001b[49m\n\u001b[0;32m    333\u001b[0m \u001b[43m    \u001b[49m\u001b[43msize\u001b[49m\u001b[38;5;241;43m=\u001b[39;49m\u001b[38;5;241;43m1\u001b[39;49m\u001b[43m \u001b[49m\u001b[38;5;28;43;01mif\u001b[39;49;00m\u001b[43m \u001b[49m\u001b[43m(\u001b[49m\u001b[43maverage\u001b[49m\u001b[43m \u001b[49m\u001b[38;5;241;43m==\u001b[39;49m\u001b[43m \u001b[49m\u001b[38;5;124;43m\"\u001b[39;49m\u001b[38;5;124;43mmicro\u001b[39;49m\u001b[38;5;124;43m\"\u001b[39;49m\u001b[43m \u001b[49m\u001b[38;5;129;43;01mand\u001b[39;49;00m\u001b[43m \u001b[49m\u001b[43mtop_k\u001b[49m\u001b[43m \u001b[49m\u001b[38;5;241;43m==\u001b[39;49m\u001b[43m \u001b[49m\u001b[38;5;241;43m1\u001b[39;49m\u001b[43m)\u001b[49m\u001b[43m \u001b[49m\u001b[38;5;28;43;01melse\u001b[39;49;00m\u001b[43m \u001b[49m\u001b[43mnum_classes\u001b[49m\u001b[43m,\u001b[49m\u001b[43m \u001b[49m\u001b[43mmultidim_average\u001b[49m\u001b[38;5;241;43m=\u001b[39;49m\u001b[43mmultidim_average\u001b[49m\n\u001b[0;32m    334\u001b[0m \u001b[43m\u001b[49m\u001b[43m)\u001b[49m\n",
            "File \u001b[1;32mc:\\Users\\MSI\\anaconda3\\envs\\TEXT_018_230_38\\lib\\site-packages\\torchmetrics\\classification\\stat_scores.py:64\u001b[0m, in \u001b[0;36m_AbstractStatScores._create_state\u001b[1;34m(self, size, multidim_average)\u001b[0m\n\u001b[0;32m     61\u001b[0m     default \u001b[38;5;241m=\u001b[39m \u001b[38;5;28;01mlambda\u001b[39;00m: torch\u001b[38;5;241m.\u001b[39mzeros(size, dtype\u001b[38;5;241m=\u001b[39mtorch\u001b[38;5;241m.\u001b[39mlong)\n\u001b[0;32m     62\u001b[0m     dist_reduce_fx \u001b[38;5;241m=\u001b[39m \u001b[38;5;124m\"\u001b[39m\u001b[38;5;124msum\u001b[39m\u001b[38;5;124m\"\u001b[39m\n\u001b[1;32m---> 64\u001b[0m \u001b[38;5;28mself\u001b[39m\u001b[38;5;241m.\u001b[39madd_state(\u001b[38;5;124m\"\u001b[39m\u001b[38;5;124mtp\u001b[39m\u001b[38;5;124m\"\u001b[39m, \u001b[43mdefault\u001b[49m\u001b[43m(\u001b[49m\u001b[43m)\u001b[49m, dist_reduce_fx\u001b[38;5;241m=\u001b[39mdist_reduce_fx)\n\u001b[0;32m     65\u001b[0m \u001b[38;5;28mself\u001b[39m\u001b[38;5;241m.\u001b[39madd_state(\u001b[38;5;124m\"\u001b[39m\u001b[38;5;124mfp\u001b[39m\u001b[38;5;124m\"\u001b[39m, default(), dist_reduce_fx\u001b[38;5;241m=\u001b[39mdist_reduce_fx)\n\u001b[0;32m     66\u001b[0m \u001b[38;5;28mself\u001b[39m\u001b[38;5;241m.\u001b[39madd_state(\u001b[38;5;124m\"\u001b[39m\u001b[38;5;124mtn\u001b[39m\u001b[38;5;124m\"\u001b[39m, default(), dist_reduce_fx\u001b[38;5;241m=\u001b[39mdist_reduce_fx)\n",
            "File \u001b[1;32mc:\\Users\\MSI\\anaconda3\\envs\\TEXT_018_230_38\\lib\\site-packages\\torchmetrics\\classification\\stat_scores.py:61\u001b[0m, in \u001b[0;36m_AbstractStatScores._create_state.<locals>.<lambda>\u001b[1;34m()\u001b[0m\n\u001b[0;32m     59\u001b[0m     dist_reduce_fx \u001b[38;5;241m=\u001b[39m \u001b[38;5;124m\"\u001b[39m\u001b[38;5;124mcat\u001b[39m\u001b[38;5;124m\"\u001b[39m\n\u001b[0;32m     60\u001b[0m \u001b[38;5;28;01melse\u001b[39;00m:\n\u001b[1;32m---> 61\u001b[0m     default \u001b[38;5;241m=\u001b[39m \u001b[38;5;28;01mlambda\u001b[39;00m: \u001b[43mtorch\u001b[49m\u001b[38;5;241;43m.\u001b[39;49m\u001b[43mzeros\u001b[49m\u001b[43m(\u001b[49m\u001b[43msize\u001b[49m\u001b[43m,\u001b[49m\u001b[43m \u001b[49m\u001b[43mdtype\u001b[49m\u001b[38;5;241;43m=\u001b[39;49m\u001b[43mtorch\u001b[49m\u001b[38;5;241;43m.\u001b[39;49m\u001b[43mlong\u001b[49m\u001b[43m)\u001b[49m\n\u001b[0;32m     62\u001b[0m     dist_reduce_fx \u001b[38;5;241m=\u001b[39m \u001b[38;5;124m\"\u001b[39m\u001b[38;5;124msum\u001b[39m\u001b[38;5;124m\"\u001b[39m\n\u001b[0;32m     64\u001b[0m \u001b[38;5;28mself\u001b[39m\u001b[38;5;241m.\u001b[39madd_state(\u001b[38;5;124m\"\u001b[39m\u001b[38;5;124mtp\u001b[39m\u001b[38;5;124m\"\u001b[39m, default(), dist_reduce_fx\u001b[38;5;241m=\u001b[39mdist_reduce_fx)\n",
            "\u001b[1;31mTypeError\u001b[0m: zeros() received an invalid combination of arguments - got (Tensor, dtype=torch.dtype), but expected one of:\n * (tuple of ints size, *, tuple of names names, torch.dtype dtype, torch.layout layout, torch.device device, bool pin_memory, bool requires_grad)\n * (tuple of ints size, *, Tensor out, torch.dtype dtype, torch.layout layout, torch.device device, bool pin_memory, bool requires_grad)\n"
          ]
        }
      ],
      "source": [
        "epochs = 100\n",
        "interval = 500\n",
        "criterion=nn.CrossEntropyLoss()\n",
        "model=SentenceClassifier(n_vocab=n_vocab, hidden_dim=hidden_dim, embedding_dim=embedding_dim, n_layers=n_layers).to(device)\n",
        "\n",
        "HISTORY={'loss':[[],[]],'score':[[],[]]}\n",
        "\n",
        "for epoch in range(epochs):\n",
        "    model.train()\n",
        "    loss_total=0\n",
        "    score_total=0\n",
        "\n",
        "    for feature,target in train_loader:\n",
        "        feature=feature.to(device)\n",
        "        target=target.to(device).long()\n",
        "\n",
        "        pre_y=model(feature)\n",
        "        loss=criterion(pre_y,target.reshape(-1))\n",
        "        score=MulticlassF1Score(torch.softmax(pre_y,dim=1),target.reshape(-1).float())\n",
        "\n",
        "        optimizer.zero_grad()\n",
        "        loss.backward()\n",
        "        optimizer.step()\n",
        "\n",
        "        loss_total+=loss.item()\n",
        "        score_total+=score.item()\n",
        "\n",
        "    HISTORY['loss'][0].append(loss_total/len(train_loader))\n",
        "    HISTORY['score'][0].append(score_total/len(train_loader))\n",
        "\n",
        "    model.eval()\n",
        "    with torch.no_grad():\n",
        "        for feature,target in test_loader:\n",
        "            feature=feature.to(device)\n",
        "            target=target.to(device).long()\n",
        "\n",
        "            val_pre_y=model(feature)\n",
        "\n",
        "            loss=criterion(val_pre_y,target.reshape(-1))\n",
        "            score=MulticlassF1Score(torch.softmax(val_pre_y,dim=1),target.reshape(-1).float())\n",
        "\n",
        "        HISTORY['loss'][1].append(loss.item())\n",
        "        HISTORY['score'][1].append(score.item())"
      ]
    },
    {
      "cell_type": "code",
      "execution_count": null,
      "metadata": {
        "id": "QoYLwPEc49j2"
      },
      "outputs": [],
      "source": []
    }
  ],
  "metadata": {
    "accelerator": "GPU",
    "colab": {
      "gpuType": "T4",
      "provenance": []
    },
    "kernelspec": {
      "display_name": "TEXT_018_230_38",
      "language": "python",
      "name": "python3"
    },
    "language_info": {
      "codemirror_mode": {
        "name": "ipython",
        "version": 3
      },
      "file_extension": ".py",
      "mimetype": "text/x-python",
      "name": "python",
      "nbconvert_exporter": "python",
      "pygments_lexer": "ipython3",
      "version": "3.8.19"
    }
  },
  "nbformat": 4,
  "nbformat_minor": 0
}
