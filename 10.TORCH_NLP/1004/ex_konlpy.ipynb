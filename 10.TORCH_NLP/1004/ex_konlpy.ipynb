{
 "cells": [
  {
   "cell_type": "code",
   "execution_count": 3,
   "metadata": {},
   "outputs": [
    {
     "name": "stdout",
     "output_type": "stream",
     "text": [
      "Collecting konlpy\n",
      "  Downloading konlpy-0.6.0-py2.py3-none-any.whl.metadata (1.9 kB)\n",
      "Requirement already satisfied: JPype1>=0.7.0 in c:\\users\\msi\\anaconda3\\envs\\text_018_230_38\\lib\\site-packages (from konlpy) (1.5.0)\n",
      "Collecting lxml>=4.1.0 (from konlpy)\n",
      "  Downloading lxml-5.3.0-cp38-cp38-win_amd64.whl.metadata (3.9 kB)\n",
      "Requirement already satisfied: numpy>=1.6 in c:\\users\\msi\\anaconda3\\envs\\text_018_230_38\\lib\\site-packages (from konlpy) (1.24.3)\n",
      "Requirement already satisfied: packaging in c:\\users\\msi\\anaconda3\\envs\\text_018_230_38\\lib\\site-packages (from JPype1>=0.7.0->konlpy) (24.1)\n",
      "Downloading konlpy-0.6.0-py2.py3-none-any.whl (19.4 MB)\n",
      "   ---------------------------------------- 0.0/19.4 MB ? eta -:--:--\n",
      "   --------- ------------------------------ 4.7/19.4 MB 25.9 MB/s eta 0:00:01\n",
      "   --------------------- ------------------ 10.2/19.4 MB 25.5 MB/s eta 0:00:01\n",
      "   ------------------------------- -------- 15.2/19.4 MB 24.5 MB/s eta 0:00:01\n",
      "   ---------------------------------------  19.1/19.4 MB 23.7 MB/s eta 0:00:01\n",
      "   ---------------------------------------- 19.4/19.4 MB 22.7 MB/s eta 0:00:00\n",
      "Downloading lxml-5.3.0-cp38-cp38-win_amd64.whl (3.8 MB)\n",
      "   ---------------------------------------- 0.0/3.8 MB ? eta -:--:--\n",
      "   ---------------------------------------- 3.8/3.8 MB 25.4 MB/s eta 0:00:00\n",
      "Installing collected packages: lxml, konlpy\n",
      "Successfully installed konlpy-0.6.0 lxml-5.3.0\n",
      "Note: you may need to restart the kernel to use updated packages.\n"
     ]
    }
   ],
   "source": [
    "%pip install konlpy"
   ]
  },
  {
   "cell_type": "markdown",
   "metadata": {},
   "source": [
    "[한국어 형태소 분석]\n",
    "- Konlpy 패키지 활용\n",
    "    * 내부에 5가지 형태소 분석 패키지 포함\n",
    "    * 5가지 형태소 분석기 사용법 동일, 쉬움"
   ]
  },
  {
   "cell_type": "code",
   "execution_count": 4,
   "metadata": {},
   "outputs": [],
   "source": [
    "from konlpy.tag import *"
   ]
  },
  {
   "cell_type": "markdown",
   "metadata": {},
   "source": [
    "---\n",
    "[다양한 형태소 분석기 활용]"
   ]
  },
  {
   "cell_type": "code",
   "execution_count": 6,
   "metadata": {},
   "outputs": [],
   "source": [
    "#한나눔 형태소 분석기\n",
    "han=Hannanum()"
   ]
  },
  {
   "cell_type": "code",
   "execution_count": 8,
   "metadata": {},
   "outputs": [],
   "source": [
    "text='크리스마스가 이제 3달 남았네. 그럼 삿포로 여행도 3달 남았다!'"
   ]
  },
  {
   "cell_type": "code",
   "execution_count": 9,
   "metadata": {},
   "outputs": [
    {
     "name": "stdout",
     "output_type": "stream",
     "text": [
      "['크리스마스', '가', '이제', '3달', '남', '아네', '.', '그렇', 'ㅁ', '삿포', '로', '여행', '도', '3달', '남', '아다', '!']\n"
     ]
    }
   ],
   "source": [
    "#형태소 분리\n",
    "result=han.morphs(text)\n",
    "\n",
    "print(result)"
   ]
  },
  {
   "cell_type": "code",
   "execution_count": 10,
   "metadata": {},
   "outputs": [
    {
     "name": "stdout",
     "output_type": "stream",
     "text": [
      "['크리스마스', '3달', '삿포', '여행', '3달']\n"
     ]
    }
   ],
   "source": [
    "#명사만 분리 추출\n",
    "result=han.nouns(text)\n",
    "\n",
    "print(result)"
   ]
  },
  {
   "cell_type": "code",
   "execution_count": 11,
   "metadata": {},
   "outputs": [
    {
     "name": "stdout",
     "output_type": "stream",
     "text": [
      "[('크리스마스', 'N'), ('가', 'J'), ('이제', 'M'), ('3달', 'N'), ('남', 'P'), ('아네', 'E'), ('.', 'S'), ('그렇', 'P'), ('ㅁ', 'E'), ('삿포', 'N'), ('로', 'J'), ('여행', 'N'), ('도', 'J'), ('3달', 'N'), ('남', 'P'), ('아다', 'E'), ('!', 'S')]\n"
     ]
    }
   ],
   "source": [
    "#품사 태깅 추출\n",
    "result=han.pos(text)\n",
    "\n",
    "print(result)"
   ]
  },
  {
   "cell_type": "code",
   "execution_count": 14,
   "metadata": {},
   "outputs": [],
   "source": [
    "#꼬꼬마 형태소 분석기\n",
    "kkma=Kkma()"
   ]
  },
  {
   "cell_type": "code",
   "execution_count": 19,
   "metadata": {},
   "outputs": [
    {
     "name": "stdout",
     "output_type": "stream",
     "text": [
      "['크리스마스', '가', '이제', '3', '달', '남', '았', '네', '.', '그러', 'ㅁ', '삿포로', '여행', '도', '3', '달', '남', '았', '다', '!']\n",
      "['크리스마스', '이제', '3', '3달', '달', '삿포로', '여행']\n",
      "[('크리스마스', 'NNG'), ('가', 'JKS'), ('이제', 'NNG'), ('3', 'NR'), ('달', 'NNG'), ('남', 'VV'), ('았', 'EPT'), ('네', 'EFN'), ('.', 'SF'), ('그러', 'VV'), ('ㅁ', 'ETN'), ('삿포로', 'NNG'), ('여행', 'NNG'), ('도', 'JX'), ('3', 'NR'), ('달', 'NNG'), ('남', 'VV'), ('았', 'EPT'), ('다', 'EFN'), ('!', 'SF')]\n"
     ]
    }
   ],
   "source": [
    "#형태소 분석\n",
    "print(kkma.morphs(text))\n",
    "\n",
    "print(kkma.nouns(text))\n",
    "\n",
    "print(kkma.pos(text))"
   ]
  },
  {
   "cell_type": "code",
   "execution_count": 16,
   "metadata": {},
   "outputs": [],
   "source": [
    "#코모란 형태소 분석기\n",
    "komo=Komoran()"
   ]
  },
  {
   "cell_type": "code",
   "execution_count": 18,
   "metadata": {},
   "outputs": [
    {
     "name": "stdout",
     "output_type": "stream",
     "text": [
      "['크리스마스', '가', '이제', '3', '달', '남', '았', '네', '.', '그럼', '삿포로', '여행', '도', '3', '달', '남', '았', '다', '!']\n",
      "['크리스마스', '달', '삿포로', '여행', '달']\n",
      "[('크리스마스', 'NNP'), ('가', 'JKS'), ('이제', 'MAG'), ('3', 'SN'), ('달', 'NNG'), ('남', 'VV'), ('았', 'EP'), ('네', 'EF'), ('.', 'SF'), ('그럼', 'MAJ'), ('삿포로', 'NNP'), ('여행', 'NNG'), ('도', 'JX'), ('3', 'SN'), ('달', 'NNG'), ('남', 'VV'), ('았', 'EP'), ('다', 'EF'), ('!', 'SF')]\n"
     ]
    }
   ],
   "source": [
    "#형태소 분석\n",
    "print(komo.morphs(text))\n",
    "\n",
    "print(komo.nouns(text))\n",
    "\n",
    "print(komo.pos(text))"
   ]
  },
  {
   "cell_type": "code",
   "execution_count": 20,
   "metadata": {},
   "outputs": [],
   "source": [
    "#okt 형태소 분석기\n",
    "okt=Okt()"
   ]
  },
  {
   "cell_type": "code",
   "execution_count": 21,
   "metadata": {},
   "outputs": [
    {
     "name": "stdout",
     "output_type": "stream",
     "text": [
      "['크리스마스', '가', '이제', '3', '달', '남았네', '.', '그럼', '삿포로', '여행', '도', '3', '달', '남았다', '!']\n",
      "['크리스마스', '이제', '달', '삿포로', '여행', '달']\n",
      "[('크리스마스', 'Noun'), ('가', 'Josa'), ('이제', 'Noun'), ('3', 'Number'), ('달', 'Noun'), ('남았네', 'Verb'), ('.', 'Punctuation'), ('그럼', 'Adjective'), ('삿포로', 'Noun'), ('여행', 'Noun'), ('도', 'Josa'), ('3', 'Number'), ('달', 'Noun'), ('남았다', 'Verb'), ('!', 'Punctuation')]\n"
     ]
    }
   ],
   "source": [
    "#형태소 분석\n",
    "print(okt.morphs(text))\n",
    "\n",
    "print(okt.nouns(text))\n",
    "\n",
    "print(okt.pos(text))"
   ]
  },
  {
   "cell_type": "code",
   "execution_count": 22,
   "metadata": {},
   "outputs": [
    {
     "ename": "Exception",
     "evalue": "Install MeCab in order to use it: http://konlpy.org/en/latest/install/",
     "output_type": "error",
     "traceback": [
      "\u001b[1;31m---------------------------------------------------------------------------\u001b[0m",
      "\u001b[1;31mNameError\u001b[0m                                 Traceback (most recent call last)",
      "File \u001b[1;32mc:\\Users\\MSI\\anaconda3\\envs\\TEXT_018_230_38\\lib\\site-packages\\konlpy\\tag\\_mecab.py:77\u001b[0m, in \u001b[0;36mMecab.__init__\u001b[1;34m(self, dicpath)\u001b[0m\n\u001b[0;32m     76\u001b[0m \u001b[38;5;28;01mtry\u001b[39;00m:\n\u001b[1;32m---> 77\u001b[0m     \u001b[38;5;28mself\u001b[39m\u001b[38;5;241m.\u001b[39mtagger \u001b[38;5;241m=\u001b[39m \u001b[43mTagger\u001b[49m(\u001b[38;5;124m'\u001b[39m\u001b[38;5;124m-d \u001b[39m\u001b[38;5;132;01m%s\u001b[39;00m\u001b[38;5;124m'\u001b[39m \u001b[38;5;241m%\u001b[39m dicpath)\n\u001b[0;32m     78\u001b[0m     \u001b[38;5;28mself\u001b[39m\u001b[38;5;241m.\u001b[39mtagset \u001b[38;5;241m=\u001b[39m utils\u001b[38;5;241m.\u001b[39mread_json(\u001b[38;5;124m'\u001b[39m\u001b[38;5;132;01m%s\u001b[39;00m\u001b[38;5;124m/data/tagset/mecab.json\u001b[39m\u001b[38;5;124m'\u001b[39m \u001b[38;5;241m%\u001b[39m utils\u001b[38;5;241m.\u001b[39minstallpath)\n",
      "\u001b[1;31mNameError\u001b[0m: name 'Tagger' is not defined",
      "\nDuring handling of the above exception, another exception occurred:\n",
      "\u001b[1;31mException\u001b[0m                                 Traceback (most recent call last)",
      "Cell \u001b[1;32mIn[22], line 2\u001b[0m\n\u001b[0;32m      1\u001b[0m \u001b[38;5;66;03m#mecab 형태소 분석기\u001b[39;00m\n\u001b[1;32m----> 2\u001b[0m mecab\u001b[38;5;241m=\u001b[39m\u001b[43mMecab\u001b[49m\u001b[43m(\u001b[49m\u001b[43m)\u001b[49m\n",
      "File \u001b[1;32mc:\\Users\\MSI\\anaconda3\\envs\\TEXT_018_230_38\\lib\\site-packages\\konlpy\\tag\\_mecab.py:82\u001b[0m, in \u001b[0;36mMecab.__init__\u001b[1;34m(self, dicpath)\u001b[0m\n\u001b[0;32m     80\u001b[0m     \u001b[38;5;28;01mraise\u001b[39;00m \u001b[38;5;167;01mException\u001b[39;00m(\u001b[38;5;124m'\u001b[39m\u001b[38;5;124mThe MeCab dictionary does not exist at \u001b[39m\u001b[38;5;124m\"\u001b[39m\u001b[38;5;132;01m%s\u001b[39;00m\u001b[38;5;124m\"\u001b[39m\u001b[38;5;124m. Is the dictionary correctly installed?\u001b[39m\u001b[38;5;130;01m\\n\u001b[39;00m\u001b[38;5;124mYou can also try entering the dictionary path when initializing the Mecab class: \u001b[39m\u001b[38;5;124m\"\u001b[39m\u001b[38;5;124mMecab(\u001b[39m\u001b[38;5;130;01m\\'\u001b[39;00m\u001b[38;5;124m/some/dic/path\u001b[39m\u001b[38;5;130;01m\\'\u001b[39;00m\u001b[38;5;124m)\u001b[39m\u001b[38;5;124m\"\u001b[39m\u001b[38;5;124m'\u001b[39m \u001b[38;5;241m%\u001b[39m dicpath)\n\u001b[0;32m     81\u001b[0m \u001b[38;5;28;01mexcept\u001b[39;00m \u001b[38;5;167;01mNameError\u001b[39;00m:\n\u001b[1;32m---> 82\u001b[0m     \u001b[38;5;28;01mraise\u001b[39;00m \u001b[38;5;167;01mException\u001b[39;00m(\u001b[38;5;124m'\u001b[39m\u001b[38;5;124mInstall MeCab in order to use it: http://konlpy.org/en/latest/install/\u001b[39m\u001b[38;5;124m'\u001b[39m)\n",
      "\u001b[1;31mException\u001b[0m: Install MeCab in order to use it: http://konlpy.org/en/latest/install/"
     ]
    }
   ],
   "source": [
    "#mecab 형태소 분석기: Window os 지원 중단\n",
    "mecab=Mecab()"
   ]
  },
  {
   "cell_type": "code",
   "execution_count": null,
   "metadata": {},
   "outputs": [],
   "source": []
  }
 ],
 "metadata": {
  "kernelspec": {
   "display_name": "TEXT_018_230_38",
   "language": "python",
   "name": "python3"
  },
  "language_info": {
   "codemirror_mode": {
    "name": "ipython",
    "version": 3
   },
   "file_extension": ".py",
   "mimetype": "text/x-python",
   "name": "python",
   "nbconvert_exporter": "python",
   "pygments_lexer": "ipython3",
   "version": "3.8.19"
  }
 },
 "nbformat": 4,
 "nbformat_minor": 2
}
