{
  "cells": [
    {
      "cell_type": "code",
      "execution_count": 131,
      "metadata": {
        "id": "QaF2Uh5NJr3o"
      },
      "outputs": [],
      "source": [
        "import os\n",
        "import json\n",
        "import pandas as pd\n",
        "import string\n",
        "import re\n",
        "from collections import Counter\n",
        "from konlpy.tag import Okt\n",
        "import numpy as np\n",
        "import torch\n",
        "from torch import optim\n",
        "from torch import nn\n",
        "from torch.utils.data import TensorDataset,DataLoader"
      ]
    },
    {
      "cell_type": "markdown",
      "metadata": {},
      "source": [
        "---\n",
        "json 파일 불러오기"
      ]
    },
    {
      "cell_type": "code",
      "execution_count": 132,
      "metadata": {
        "id": "MWQWPeSaJr3p"
      },
      "outputs": [],
      "source": [
        "TRAIN_PATH='./DATA/Training/'\n",
        "folder_paths=os.listdir(TRAIN_PATH)"
      ]
    },
    {
      "cell_type": "code",
      "execution_count": 133,
      "metadata": {
        "id": "viV-DkdRJr3q"
      },
      "outputs": [],
      "source": [
        "fashion_df=[]\n",
        "\n",
        "for folder in folder_paths:\n",
        "    #print(folder)\n",
        "    folder_path=TRAIN_PATH+folder\n",
        "    #print(folder_path)\n",
        "    json_file=[file for file in os.listdir(folder_path) if file.endswith('.json')]\n",
        "    #print(json_file)\n",
        "    for file in json_file:\n",
        "        file_path=os.path.join(folder_path,file)\n",
        "        #print(file_path)\n",
        "\n",
        "        try:\n",
        "            with open(file_path,'r',encoding='utf-8') as f:\n",
        "                data=json.load(f)\n",
        "\n",
        "                if data:\n",
        "                    for review in data:\n",
        "                        aspects=pd.json_normalize(review.get('Aspects'))\n",
        "                        fashion_df.append(aspects)\n",
        "                else:\n",
        "                    print(f'No data found in {file}')\n",
        "\n",
        "        except json.JSONDecodeError:\n",
        "            print(f\"Error loading {file}: Invalid JSON\")"
      ]
    },
    {
      "cell_type": "code",
      "execution_count": 134,
      "metadata": {
        "colab": {
          "base_uri": "https://localhost:8080/"
        },
        "id": "DXzXXwr4Jr3q",
        "outputId": "201e3984-f4bb-4792-b3d6-93aabf2d9691"
      },
      "outputs": [
        {
          "name": "stdout",
          "output_type": "stream",
          "text": [
            "         Aspect                       SentimentText SentimentWord  \\\n",
            "0            가격                             가격이 착하고             2   \n",
            "1           디자인                           디자인이 예쁩니다             2   \n",
            "2            가격                                  싸고             1   \n",
            "3           디자인                            디자인이 예뻐요             2   \n",
            "4            가격                         가성비 가심비 입니다             3   \n",
            "...         ...                                 ...           ...   \n",
            "120211       품질                  바퀴도 크고 부드럽게 잘 움직여서             5   \n",
            "120212  사용성/편의성                         편하게 사용하겠어요.             2   \n",
            "120213      디자인  캐리어 찾을때도 비슷비슷한 모양들 많은중에 눈에 띌것같네요^^             7   \n",
            "120214       색상                            색상도 좋으네요             2   \n",
            "120215  사용성/편의성                4종류 용도에 맞게 사용하기 편리해요             5   \n",
            "\n",
            "       SentimentPolarity  \n",
            "0                      1  \n",
            "1                      1  \n",
            "2                      1  \n",
            "3                      1  \n",
            "4                      1  \n",
            "...                  ...  \n",
            "120211                 1  \n",
            "120212                 1  \n",
            "120213                 1  \n",
            "120214                 1  \n",
            "120215                 1  \n",
            "\n",
            "[120216 rows x 4 columns]\n"
          ]
        }
      ],
      "source": [
        "if fashion_df:\n",
        "    train_fashionDF=pd.concat(fashion_df,ignore_index=True)\n",
        "    print(train_fashionDF)\n",
        "else:\n",
        "    print('No Valid Dataframe')"
      ]
    },
    {
      "cell_type": "code",
      "execution_count": 135,
      "metadata": {
        "id": "haBKtcYnJr3r"
      },
      "outputs": [],
      "source": [
        "val_path='./DATA/Validation/'\n",
        "folder_paths=os.listdir(val_path)"
      ]
    },
    {
      "cell_type": "code",
      "execution_count": 136,
      "metadata": {
        "id": "mG2nlBp4Jr3r"
      },
      "outputs": [],
      "source": [
        "val_df=[]\n",
        "\n",
        "for folder in folder_paths:\n",
        "    path=val_path+folder\n",
        "    #print(path)\n",
        "\n",
        "    json_file=[file for file in os.listdir(path) if file.endswith('.json')]\n",
        "\n",
        "    for file in json_file:\n",
        "        file_paths=os.path.join(path,file)\n",
        "        #print(file_paths)\n",
        "\n",
        "        try:\n",
        "            with open(file_paths,'r',encoding='utf-8') as f:\n",
        "                val_data=json.load(f)\n",
        "\n",
        "                if val_data:\n",
        "                    for review in val_data:\n",
        "                        aspects=pd.json_normalize(review.get('Aspects'))\n",
        "                        val_df.append(aspects)\n",
        "                else: print(f'no data found in {file}')\n",
        "\n",
        "        except json.JSONDecodeError: print(f'error loading {file}')"
      ]
    },
    {
      "cell_type": "code",
      "execution_count": 137,
      "metadata": {
        "colab": {
          "base_uri": "https://localhost:8080/"
        },
        "id": "O4KQOb2nJr3r",
        "outputId": "2b843cae-2fa8-483f-db3f-a73cf29599ea"
      },
      "outputs": [
        {
          "name": "stdout",
          "output_type": "stream",
          "text": [
            "      Aspect         SentimentText SentimentWord SentimentPolarity\n",
            "0         기능          배도 편하게 눌러주고              3                 1\n",
            "1         길이         미디가 길어 편하다고..             3                 1\n",
            "2         색상     다섯가지 색상 모두 이쁘네요^^             4                 1\n",
            "3         기능             입자마자 시원하고             2                 1\n",
            "4         기능          배 부분도 잘 잡아주고             4                 1\n",
            "...      ...                   ...           ...               ...\n",
            "15755     품질                품질 좋아요             2                 1\n",
            "15756     품질        우선 박음질이 허접합니다.             3                -1\n",
            "15757     색상              색상은 이뻐요              2                 1\n",
            "15758     품질  검정백은 지퍼가 뻑뻑해서 잘 안닫혀요             5                -1\n",
            "15759     가격    50프로 적립 아니였음 반품이였음             4                 1\n",
            "\n",
            "[15760 rows x 4 columns]\n"
          ]
        }
      ],
      "source": [
        "if val_df:\n",
        "    val_fashionDF=pd.concat(val_df,ignore_index=True)\n",
        "    print(val_fashionDF)\n",
        "else: print('no valid dataframe')"
      ]
    },
    {
      "cell_type": "markdown",
      "metadata": {},
      "source": [
        "---\n",
        "결측치 확인"
      ]
    },
    {
      "cell_type": "code",
      "execution_count": 138,
      "metadata": {
        "colab": {
          "base_uri": "https://localhost:8080/",
          "height": 209
        },
        "id": "VziTGJZmJr3r",
        "outputId": "82d364cc-1ebb-4ae7-e8f9-212e4f3ab5c4"
      },
      "outputs": [
        {
          "data": {
            "text/plain": [
              "Aspect               0\n",
              "SentimentText        0\n",
              "SentimentWord        0\n",
              "SentimentPolarity    0\n",
              "dtype: int64"
            ]
          },
          "execution_count": 138,
          "metadata": {},
          "output_type": "execute_result"
        }
      ],
      "source": [
        "train_fashionDF.isna().sum()"
      ]
    },
    {
      "cell_type": "code",
      "execution_count": 139,
      "metadata": {
        "colab": {
          "base_uri": "https://localhost:8080/",
          "height": 209
        },
        "id": "wzZc5VSEJr3r",
        "outputId": "b1687aee-6cf0-443d-ba96-0b12babb0e26"
      },
      "outputs": [
        {
          "data": {
            "text/plain": [
              "Aspect               0\n",
              "SentimentText        0\n",
              "SentimentWord        0\n",
              "SentimentPolarity    0\n",
              "dtype: int64"
            ]
          },
          "execution_count": 139,
          "metadata": {},
          "output_type": "execute_result"
        }
      ],
      "source": [
        "val_fashionDF.isna().sum()"
      ]
    },
    {
      "cell_type": "markdown",
      "metadata": {},
      "source": [
        "---\n",
        "'aspect' 글자 -> 숫자"
      ]
    },
    {
      "cell_type": "code",
      "execution_count": 140,
      "metadata": {
        "colab": {
          "base_uri": "https://localhost:8080/",
          "height": 962
        },
        "id": "3a3DNJobJr3r",
        "outputId": "53863eaf-07f3-47fa-8874-e93985347dd8"
      },
      "outputs": [
        {
          "data": {
            "text/plain": [
              "Aspect\n",
              "디자인            13290\n",
              "가격             11029\n",
              "사이즈            10633\n",
              "품질              9162\n",
              "착화감             8561\n",
              "소재              8374\n",
              "기능              8331\n",
              "색상              7165\n",
              "착용감             6130\n",
              "치수/사이즈          4791\n",
              "무게              4649\n",
              "핏               4145\n",
              "길이              3299\n",
              "두께              3095\n",
              "신축성             2917\n",
              "활용성             2896\n",
              "촉감              2075\n",
              "기능성             1525\n",
              "사이즈/폭/길이/두께     1428\n",
              "제품구성            1378\n",
              "마감              1306\n",
              "사용성             1150\n",
              "내구성              911\n",
              "사용성/편의성          835\n",
              "굽                542\n",
              "냄새               448\n",
              "수납               151\n",
              "Name: count, dtype: int64"
            ]
          },
          "execution_count": 140,
          "metadata": {},
          "output_type": "execute_result"
        }
      ],
      "source": [
        "train_fashionDF['Aspect'].value_counts()"
      ]
    },
    {
      "cell_type": "code",
      "execution_count": 141,
      "metadata": {},
      "outputs": [
        {
          "data": {
            "text/html": [
              "<div>\n",
              "<style scoped>\n",
              "    .dataframe tbody tr th:only-of-type {\n",
              "        vertical-align: middle;\n",
              "    }\n",
              "\n",
              "    .dataframe tbody tr th {\n",
              "        vertical-align: top;\n",
              "    }\n",
              "\n",
              "    .dataframe thead th {\n",
              "        text-align: right;\n",
              "    }\n",
              "</style>\n",
              "<table border=\"1\" class=\"dataframe\">\n",
              "  <thead>\n",
              "    <tr style=\"text-align: right;\">\n",
              "      <th></th>\n",
              "      <th>Aspect</th>\n",
              "      <th>SentimentText</th>\n",
              "      <th>SentimentWord</th>\n",
              "      <th>SentimentPolarity</th>\n",
              "    </tr>\n",
              "  </thead>\n",
              "  <tbody>\n",
              "    <tr>\n",
              "      <th>0</th>\n",
              "      <td>가격</td>\n",
              "      <td>가격이 착하고</td>\n",
              "      <td>2</td>\n",
              "      <td>1</td>\n",
              "    </tr>\n",
              "    <tr>\n",
              "      <th>1</th>\n",
              "      <td>디자인</td>\n",
              "      <td>디자인이 예쁩니다</td>\n",
              "      <td>2</td>\n",
              "      <td>1</td>\n",
              "    </tr>\n",
              "    <tr>\n",
              "      <th>2</th>\n",
              "      <td>가격</td>\n",
              "      <td>싸고</td>\n",
              "      <td>1</td>\n",
              "      <td>1</td>\n",
              "    </tr>\n",
              "    <tr>\n",
              "      <th>3</th>\n",
              "      <td>디자인</td>\n",
              "      <td>디자인이 예뻐요</td>\n",
              "      <td>2</td>\n",
              "      <td>1</td>\n",
              "    </tr>\n",
              "    <tr>\n",
              "      <th>4</th>\n",
              "      <td>가격</td>\n",
              "      <td>가성비 가심비 입니다</td>\n",
              "      <td>3</td>\n",
              "      <td>1</td>\n",
              "    </tr>\n",
              "    <tr>\n",
              "      <th>...</th>\n",
              "      <td>...</td>\n",
              "      <td>...</td>\n",
              "      <td>...</td>\n",
              "      <td>...</td>\n",
              "    </tr>\n",
              "    <tr>\n",
              "      <th>120211</th>\n",
              "      <td>품질</td>\n",
              "      <td>바퀴도 크고 부드럽게 잘 움직여서</td>\n",
              "      <td>5</td>\n",
              "      <td>1</td>\n",
              "    </tr>\n",
              "    <tr>\n",
              "      <th>120212</th>\n",
              "      <td>사용성/편의성</td>\n",
              "      <td>편하게 사용하겠어요.</td>\n",
              "      <td>2</td>\n",
              "      <td>1</td>\n",
              "    </tr>\n",
              "    <tr>\n",
              "      <th>120213</th>\n",
              "      <td>디자인</td>\n",
              "      <td>캐리어 찾을때도 비슷비슷한 모양들 많은중에 눈에 띌것같네요^^</td>\n",
              "      <td>7</td>\n",
              "      <td>1</td>\n",
              "    </tr>\n",
              "    <tr>\n",
              "      <th>120214</th>\n",
              "      <td>색상</td>\n",
              "      <td>색상도 좋으네요</td>\n",
              "      <td>2</td>\n",
              "      <td>1</td>\n",
              "    </tr>\n",
              "    <tr>\n",
              "      <th>120215</th>\n",
              "      <td>사용성/편의성</td>\n",
              "      <td>4종류 용도에 맞게 사용하기 편리해요</td>\n",
              "      <td>5</td>\n",
              "      <td>1</td>\n",
              "    </tr>\n",
              "  </tbody>\n",
              "</table>\n",
              "<p>120216 rows × 4 columns</p>\n",
              "</div>"
            ],
            "text/plain": [
              "         Aspect                       SentimentText SentimentWord  \\\n",
              "0            가격                             가격이 착하고             2   \n",
              "1           디자인                           디자인이 예쁩니다             2   \n",
              "2            가격                                  싸고             1   \n",
              "3           디자인                            디자인이 예뻐요             2   \n",
              "4            가격                         가성비 가심비 입니다             3   \n",
              "...         ...                                 ...           ...   \n",
              "120211       품질                  바퀴도 크고 부드럽게 잘 움직여서             5   \n",
              "120212  사용성/편의성                         편하게 사용하겠어요.             2   \n",
              "120213      디자인  캐리어 찾을때도 비슷비슷한 모양들 많은중에 눈에 띌것같네요^^             7   \n",
              "120214       색상                            색상도 좋으네요             2   \n",
              "120215  사용성/편의성                4종류 용도에 맞게 사용하기 편리해요             5   \n",
              "\n",
              "       SentimentPolarity  \n",
              "0                      1  \n",
              "1                      1  \n",
              "2                      1  \n",
              "3                      1  \n",
              "4                      1  \n",
              "...                  ...  \n",
              "120211                 1  \n",
              "120212                 1  \n",
              "120213                 1  \n",
              "120214                 1  \n",
              "120215                 1  \n",
              "\n",
              "[120216 rows x 4 columns]"
            ]
          },
          "execution_count": 141,
          "metadata": {},
          "output_type": "execute_result"
        }
      ],
      "source": [
        "train_fashionDF"
      ]
    },
    {
      "cell_type": "code",
      "execution_count": 142,
      "metadata": {},
      "outputs": [
        {
          "data": {
            "text/html": [
              "<div>\n",
              "<style scoped>\n",
              "    .dataframe tbody tr th:only-of-type {\n",
              "        vertical-align: middle;\n",
              "    }\n",
              "\n",
              "    .dataframe tbody tr th {\n",
              "        vertical-align: top;\n",
              "    }\n",
              "\n",
              "    .dataframe thead th {\n",
              "        text-align: right;\n",
              "    }\n",
              "</style>\n",
              "<table border=\"1\" class=\"dataframe\">\n",
              "  <thead>\n",
              "    <tr style=\"text-align: right;\">\n",
              "      <th></th>\n",
              "      <th>Aspect</th>\n",
              "      <th>SentimentText</th>\n",
              "      <th>SentimentWord</th>\n",
              "      <th>SentimentPolarity</th>\n",
              "    </tr>\n",
              "  </thead>\n",
              "  <tbody>\n",
              "    <tr>\n",
              "      <th>0</th>\n",
              "      <td>0</td>\n",
              "      <td>가격이 착하고</td>\n",
              "      <td>2</td>\n",
              "      <td>1</td>\n",
              "    </tr>\n",
              "    <tr>\n",
              "      <th>1</th>\n",
              "      <td>1</td>\n",
              "      <td>디자인이 예쁩니다</td>\n",
              "      <td>2</td>\n",
              "      <td>1</td>\n",
              "    </tr>\n",
              "    <tr>\n",
              "      <th>2</th>\n",
              "      <td>0</td>\n",
              "      <td>싸고</td>\n",
              "      <td>1</td>\n",
              "      <td>1</td>\n",
              "    </tr>\n",
              "    <tr>\n",
              "      <th>3</th>\n",
              "      <td>1</td>\n",
              "      <td>디자인이 예뻐요</td>\n",
              "      <td>2</td>\n",
              "      <td>1</td>\n",
              "    </tr>\n",
              "    <tr>\n",
              "      <th>4</th>\n",
              "      <td>0</td>\n",
              "      <td>가성비 가심비 입니다</td>\n",
              "      <td>3</td>\n",
              "      <td>1</td>\n",
              "    </tr>\n",
              "    <tr>\n",
              "      <th>...</th>\n",
              "      <td>...</td>\n",
              "      <td>...</td>\n",
              "      <td>...</td>\n",
              "      <td>...</td>\n",
              "    </tr>\n",
              "    <tr>\n",
              "      <th>120211</th>\n",
              "      <td>9</td>\n",
              "      <td>바퀴도 크고 부드럽게 잘 움직여서</td>\n",
              "      <td>5</td>\n",
              "      <td>1</td>\n",
              "    </tr>\n",
              "    <tr>\n",
              "      <th>120212</th>\n",
              "      <td>25</td>\n",
              "      <td>편하게 사용하겠어요.</td>\n",
              "      <td>2</td>\n",
              "      <td>1</td>\n",
              "    </tr>\n",
              "    <tr>\n",
              "      <th>120213</th>\n",
              "      <td>1</td>\n",
              "      <td>캐리어 찾을때도 비슷비슷한 모양들 많은중에 눈에 띌것같네요^^</td>\n",
              "      <td>7</td>\n",
              "      <td>1</td>\n",
              "    </tr>\n",
              "    <tr>\n",
              "      <th>120214</th>\n",
              "      <td>6</td>\n",
              "      <td>색상도 좋으네요</td>\n",
              "      <td>2</td>\n",
              "      <td>1</td>\n",
              "    </tr>\n",
              "    <tr>\n",
              "      <th>120215</th>\n",
              "      <td>25</td>\n",
              "      <td>4종류 용도에 맞게 사용하기 편리해요</td>\n",
              "      <td>5</td>\n",
              "      <td>1</td>\n",
              "    </tr>\n",
              "  </tbody>\n",
              "</table>\n",
              "<p>120216 rows × 4 columns</p>\n",
              "</div>"
            ],
            "text/plain": [
              "        Aspect                       SentimentText SentimentWord  \\\n",
              "0            0                             가격이 착하고             2   \n",
              "1            1                           디자인이 예쁩니다             2   \n",
              "2            0                                  싸고             1   \n",
              "3            1                            디자인이 예뻐요             2   \n",
              "4            0                         가성비 가심비 입니다             3   \n",
              "...        ...                                 ...           ...   \n",
              "120211       9                  바퀴도 크고 부드럽게 잘 움직여서             5   \n",
              "120212      25                         편하게 사용하겠어요.             2   \n",
              "120213       1  캐리어 찾을때도 비슷비슷한 모양들 많은중에 눈에 띌것같네요^^             7   \n",
              "120214       6                            색상도 좋으네요             2   \n",
              "120215      25                4종류 용도에 맞게 사용하기 편리해요             5   \n",
              "\n",
              "       SentimentPolarity  \n",
              "0                      1  \n",
              "1                      1  \n",
              "2                      1  \n",
              "3                      1  \n",
              "4                      1  \n",
              "...                  ...  \n",
              "120211                 1  \n",
              "120212                 1  \n",
              "120213                 1  \n",
              "120214                 1  \n",
              "120215                 1  \n",
              "\n",
              "[120216 rows x 4 columns]"
            ]
          },
          "execution_count": 142,
          "metadata": {},
          "output_type": "execute_result"
        }
      ],
      "source": [
        "train_labelCD = train_fashionDF.Aspect.unique().tolist()                   # Aspect 컬럼의 유니크 값 리스트 \n",
        "train_fashionDF['Aspect'] = train_fashionDF['Aspect'].map(lambda x: train_labelCD.index(x))         # 다중 분류 라벨링 인코딩\n",
        "train_fashionDF['SentimentPolarity']=train_fashionDF['SentimentPolarity'].replace('-1','0')\n",
        "train_fashionDF"
      ]
    },
    {
      "cell_type": "code",
      "execution_count": 143,
      "metadata": {},
      "outputs": [
        {
          "data": {
            "text/plain": [
              "['가격',\n",
              " '디자인',\n",
              " '착용감',\n",
              " '기능',\n",
              " '소재',\n",
              " '활용성',\n",
              " '색상',\n",
              " '사이즈',\n",
              " '길이',\n",
              " '품질',\n",
              " '두께',\n",
              " '촉감',\n",
              " '제품구성',\n",
              " '핏',\n",
              " '무게',\n",
              " '신축성',\n",
              " '마감',\n",
              " '냄새',\n",
              " '기능성',\n",
              " '착화감',\n",
              " '치수/사이즈',\n",
              " '사용성',\n",
              " '굽',\n",
              " '내구성',\n",
              " '사이즈/폭/길이/두께',\n",
              " '사용성/편의성',\n",
              " '수납']"
            ]
          },
          "execution_count": 143,
          "metadata": {},
          "output_type": "execute_result"
        }
      ],
      "source": [
        "train_labelCD"
      ]
    },
    {
      "cell_type": "code",
      "execution_count": 144,
      "metadata": {},
      "outputs": [
        {
          "data": {
            "text/plain": [
              "SentimentPolarity\n",
              "1    80800\n",
              "0    39416\n",
              "Name: count, dtype: int64"
            ]
          },
          "execution_count": 144,
          "metadata": {},
          "output_type": "execute_result"
        }
      ],
      "source": [
        "train_fashionDF['SentimentPolarity'].value_counts()"
      ]
    },
    {
      "cell_type": "code",
      "execution_count": 145,
      "metadata": {
        "colab": {
          "base_uri": "https://localhost:8080/",
          "height": 962
        },
        "id": "aLPfJcsYJr3s",
        "outputId": "b77b98fe-d321-4140-af25-fc3a9b479bb6"
      },
      "outputs": [
        {
          "data": {
            "text/plain": [
              "Aspect\n",
              "사이즈            1828\n",
              "디자인            1421\n",
              "가격             1282\n",
              "품질             1213\n",
              "착용감            1211\n",
              "기능             1197\n",
              "소재              966\n",
              "착화감             867\n",
              "핏               845\n",
              "색상              840\n",
              "신축성             728\n",
              "치수/사이즈          525\n",
              "길이              494\n",
              "무게              484\n",
              "두께              418\n",
              "활용성             223\n",
              "제품구성            200\n",
              "촉감              186\n",
              "사용성/편의성         160\n",
              "사용성             159\n",
              "기능성             139\n",
              "사이즈/폭/길이/두께     125\n",
              "마감               93\n",
              "내구성              61\n",
              "수납               40\n",
              "굽                28\n",
              "냄새               27\n",
              "Name: count, dtype: int64"
            ]
          },
          "execution_count": 145,
          "metadata": {},
          "output_type": "execute_result"
        }
      ],
      "source": [
        "val_fashionDF['Aspect'].value_counts()"
      ]
    },
    {
      "cell_type": "code",
      "execution_count": 146,
      "metadata": {},
      "outputs": [
        {
          "data": {
            "text/html": [
              "<div>\n",
              "<style scoped>\n",
              "    .dataframe tbody tr th:only-of-type {\n",
              "        vertical-align: middle;\n",
              "    }\n",
              "\n",
              "    .dataframe tbody tr th {\n",
              "        vertical-align: top;\n",
              "    }\n",
              "\n",
              "    .dataframe thead th {\n",
              "        text-align: right;\n",
              "    }\n",
              "</style>\n",
              "<table border=\"1\" class=\"dataframe\">\n",
              "  <thead>\n",
              "    <tr style=\"text-align: right;\">\n",
              "      <th></th>\n",
              "      <th>Aspect</th>\n",
              "      <th>SentimentText</th>\n",
              "      <th>SentimentWord</th>\n",
              "      <th>SentimentPolarity</th>\n",
              "    </tr>\n",
              "  </thead>\n",
              "  <tbody>\n",
              "    <tr>\n",
              "      <th>0</th>\n",
              "      <td>기능</td>\n",
              "      <td>배도 편하게 눌러주고</td>\n",
              "      <td>3</td>\n",
              "      <td>1</td>\n",
              "    </tr>\n",
              "    <tr>\n",
              "      <th>1</th>\n",
              "      <td>길이</td>\n",
              "      <td>미디가 길어 편하다고..</td>\n",
              "      <td>3</td>\n",
              "      <td>1</td>\n",
              "    </tr>\n",
              "    <tr>\n",
              "      <th>2</th>\n",
              "      <td>색상</td>\n",
              "      <td>다섯가지 색상 모두 이쁘네요^^</td>\n",
              "      <td>4</td>\n",
              "      <td>1</td>\n",
              "    </tr>\n",
              "    <tr>\n",
              "      <th>3</th>\n",
              "      <td>기능</td>\n",
              "      <td>입자마자 시원하고</td>\n",
              "      <td>2</td>\n",
              "      <td>1</td>\n",
              "    </tr>\n",
              "    <tr>\n",
              "      <th>4</th>\n",
              "      <td>기능</td>\n",
              "      <td>배 부분도 잘 잡아주고</td>\n",
              "      <td>4</td>\n",
              "      <td>1</td>\n",
              "    </tr>\n",
              "    <tr>\n",
              "      <th>...</th>\n",
              "      <td>...</td>\n",
              "      <td>...</td>\n",
              "      <td>...</td>\n",
              "      <td>...</td>\n",
              "    </tr>\n",
              "    <tr>\n",
              "      <th>15755</th>\n",
              "      <td>품질</td>\n",
              "      <td>품질 좋아요</td>\n",
              "      <td>2</td>\n",
              "      <td>1</td>\n",
              "    </tr>\n",
              "    <tr>\n",
              "      <th>15756</th>\n",
              "      <td>품질</td>\n",
              "      <td>우선 박음질이 허접합니다.</td>\n",
              "      <td>3</td>\n",
              "      <td>-1</td>\n",
              "    </tr>\n",
              "    <tr>\n",
              "      <th>15757</th>\n",
              "      <td>색상</td>\n",
              "      <td>색상은 이뻐요</td>\n",
              "      <td>2</td>\n",
              "      <td>1</td>\n",
              "    </tr>\n",
              "    <tr>\n",
              "      <th>15758</th>\n",
              "      <td>품질</td>\n",
              "      <td>검정백은 지퍼가 뻑뻑해서 잘 안닫혀요</td>\n",
              "      <td>5</td>\n",
              "      <td>-1</td>\n",
              "    </tr>\n",
              "    <tr>\n",
              "      <th>15759</th>\n",
              "      <td>가격</td>\n",
              "      <td>50프로 적립 아니였음 반품이였음</td>\n",
              "      <td>4</td>\n",
              "      <td>1</td>\n",
              "    </tr>\n",
              "  </tbody>\n",
              "</table>\n",
              "<p>15760 rows × 4 columns</p>\n",
              "</div>"
            ],
            "text/plain": [
              "      Aspect         SentimentText SentimentWord SentimentPolarity\n",
              "0         기능          배도 편하게 눌러주고              3                 1\n",
              "1         길이         미디가 길어 편하다고..             3                 1\n",
              "2         색상     다섯가지 색상 모두 이쁘네요^^             4                 1\n",
              "3         기능             입자마자 시원하고             2                 1\n",
              "4         기능          배 부분도 잘 잡아주고             4                 1\n",
              "...      ...                   ...           ...               ...\n",
              "15755     품질                품질 좋아요             2                 1\n",
              "15756     품질        우선 박음질이 허접합니다.             3                -1\n",
              "15757     색상              색상은 이뻐요              2                 1\n",
              "15758     품질  검정백은 지퍼가 뻑뻑해서 잘 안닫혀요             5                -1\n",
              "15759     가격    50프로 적립 아니였음 반품이였음             4                 1\n",
              "\n",
              "[15760 rows x 4 columns]"
            ]
          },
          "execution_count": 146,
          "metadata": {},
          "output_type": "execute_result"
        }
      ],
      "source": [
        "val_fashionDF"
      ]
    },
    {
      "cell_type": "code",
      "execution_count": 147,
      "metadata": {},
      "outputs": [
        {
          "data": {
            "text/html": [
              "<div>\n",
              "<style scoped>\n",
              "    .dataframe tbody tr th:only-of-type {\n",
              "        vertical-align: middle;\n",
              "    }\n",
              "\n",
              "    .dataframe tbody tr th {\n",
              "        vertical-align: top;\n",
              "    }\n",
              "\n",
              "    .dataframe thead th {\n",
              "        text-align: right;\n",
              "    }\n",
              "</style>\n",
              "<table border=\"1\" class=\"dataframe\">\n",
              "  <thead>\n",
              "    <tr style=\"text-align: right;\">\n",
              "      <th></th>\n",
              "      <th>Aspect</th>\n",
              "      <th>SentimentText</th>\n",
              "      <th>SentimentWord</th>\n",
              "      <th>SentimentPolarity</th>\n",
              "    </tr>\n",
              "  </thead>\n",
              "  <tbody>\n",
              "    <tr>\n",
              "      <th>0</th>\n",
              "      <td>0</td>\n",
              "      <td>배도 편하게 눌러주고</td>\n",
              "      <td>3</td>\n",
              "      <td>1</td>\n",
              "    </tr>\n",
              "    <tr>\n",
              "      <th>1</th>\n",
              "      <td>1</td>\n",
              "      <td>미디가 길어 편하다고..</td>\n",
              "      <td>3</td>\n",
              "      <td>1</td>\n",
              "    </tr>\n",
              "    <tr>\n",
              "      <th>2</th>\n",
              "      <td>2</td>\n",
              "      <td>다섯가지 색상 모두 이쁘네요^^</td>\n",
              "      <td>4</td>\n",
              "      <td>1</td>\n",
              "    </tr>\n",
              "    <tr>\n",
              "      <th>3</th>\n",
              "      <td>0</td>\n",
              "      <td>입자마자 시원하고</td>\n",
              "      <td>2</td>\n",
              "      <td>1</td>\n",
              "    </tr>\n",
              "    <tr>\n",
              "      <th>4</th>\n",
              "      <td>0</td>\n",
              "      <td>배 부분도 잘 잡아주고</td>\n",
              "      <td>4</td>\n",
              "      <td>1</td>\n",
              "    </tr>\n",
              "    <tr>\n",
              "      <th>...</th>\n",
              "      <td>...</td>\n",
              "      <td>...</td>\n",
              "      <td>...</td>\n",
              "      <td>...</td>\n",
              "    </tr>\n",
              "    <tr>\n",
              "      <th>15755</th>\n",
              "      <td>7</td>\n",
              "      <td>품질 좋아요</td>\n",
              "      <td>2</td>\n",
              "      <td>1</td>\n",
              "    </tr>\n",
              "    <tr>\n",
              "      <th>15756</th>\n",
              "      <td>7</td>\n",
              "      <td>우선 박음질이 허접합니다.</td>\n",
              "      <td>3</td>\n",
              "      <td>0</td>\n",
              "    </tr>\n",
              "    <tr>\n",
              "      <th>15757</th>\n",
              "      <td>2</td>\n",
              "      <td>색상은 이뻐요</td>\n",
              "      <td>2</td>\n",
              "      <td>1</td>\n",
              "    </tr>\n",
              "    <tr>\n",
              "      <th>15758</th>\n",
              "      <td>7</td>\n",
              "      <td>검정백은 지퍼가 뻑뻑해서 잘 안닫혀요</td>\n",
              "      <td>5</td>\n",
              "      <td>0</td>\n",
              "    </tr>\n",
              "    <tr>\n",
              "      <th>15759</th>\n",
              "      <td>9</td>\n",
              "      <td>50프로 적립 아니였음 반품이였음</td>\n",
              "      <td>4</td>\n",
              "      <td>1</td>\n",
              "    </tr>\n",
              "  </tbody>\n",
              "</table>\n",
              "<p>15760 rows × 4 columns</p>\n",
              "</div>"
            ],
            "text/plain": [
              "       Aspect         SentimentText SentimentWord SentimentPolarity\n",
              "0           0          배도 편하게 눌러주고              3                 1\n",
              "1           1         미디가 길어 편하다고..             3                 1\n",
              "2           2     다섯가지 색상 모두 이쁘네요^^             4                 1\n",
              "3           0             입자마자 시원하고             2                 1\n",
              "4           0          배 부분도 잘 잡아주고             4                 1\n",
              "...       ...                   ...           ...               ...\n",
              "15755       7                품질 좋아요             2                 1\n",
              "15756       7        우선 박음질이 허접합니다.             3                 0\n",
              "15757       2              색상은 이뻐요              2                 1\n",
              "15758       7  검정백은 지퍼가 뻑뻑해서 잘 안닫혀요             5                 0\n",
              "15759       9    50프로 적립 아니였음 반품이였음             4                 1\n",
              "\n",
              "[15760 rows x 4 columns]"
            ]
          },
          "execution_count": 147,
          "metadata": {},
          "output_type": "execute_result"
        }
      ],
      "source": [
        "val_labelCD = val_fashionDF.Aspect.unique().tolist()                   # Aspect 컬럼의 유니크 값 리스트 \n",
        "val_fashionDF['Aspect'] = val_fashionDF['Aspect'].map(lambda x: val_labelCD.index(x))         # 다중 분류 라벨링 인코딩\n",
        "val_fashionDF['SentimentPolarity']=val_fashionDF['SentimentPolarity'].replace('-1','0')\n",
        "val_fashionDF"
      ]
    },
    {
      "cell_type": "code",
      "execution_count": 148,
      "metadata": {},
      "outputs": [
        {
          "data": {
            "text/plain": [
              "['기능',\n",
              " '길이',\n",
              " '색상',\n",
              " '착용감',\n",
              " '사이즈',\n",
              " '두께',\n",
              " '신축성',\n",
              " '품질',\n",
              " '핏',\n",
              " '가격',\n",
              " '활용성',\n",
              " '무게',\n",
              " '소재',\n",
              " '디자인',\n",
              " '제품구성',\n",
              " '마감',\n",
              " '촉감',\n",
              " '냄새',\n",
              " '치수/사이즈',\n",
              " '착화감',\n",
              " '사용성',\n",
              " '기능성',\n",
              " '내구성',\n",
              " '굽',\n",
              " '사이즈/폭/길이/두께',\n",
              " '사용성/편의성',\n",
              " '수납']"
            ]
          },
          "execution_count": 148,
          "metadata": {},
          "output_type": "execute_result"
        }
      ],
      "source": [
        "val_labelCD"
      ]
    },
    {
      "cell_type": "code",
      "execution_count": 149,
      "metadata": {},
      "outputs": [
        {
          "data": {
            "text/plain": [
              "SentimentPolarity\n",
              "1    10146\n",
              "0     5614\n",
              "Name: count, dtype: int64"
            ]
          },
          "execution_count": 149,
          "metadata": {},
          "output_type": "execute_result"
        }
      ],
      "source": [
        "val_fashionDF['SentimentPolarity'].value_counts()"
      ]
    },
    {
      "cell_type": "markdown",
      "metadata": {},
      "source": [
        "---\n",
        "구두점 지우고 한글만 남기기"
      ]
    },
    {
      "cell_type": "code",
      "execution_count": 150,
      "metadata": {
        "colab": {
          "base_uri": "https://localhost:8080/",
          "height": 423
        },
        "id": "J8F2qDTsJr3s",
        "outputId": "440ec9f5-fef9-4024-e23d-0af55adb1f4f"
      },
      "outputs": [
        {
          "data": {
            "text/html": [
              "<div>\n",
              "<style scoped>\n",
              "    .dataframe tbody tr th:only-of-type {\n",
              "        vertical-align: middle;\n",
              "    }\n",
              "\n",
              "    .dataframe tbody tr th {\n",
              "        vertical-align: top;\n",
              "    }\n",
              "\n",
              "    .dataframe thead th {\n",
              "        text-align: right;\n",
              "    }\n",
              "</style>\n",
              "<table border=\"1\" class=\"dataframe\">\n",
              "  <thead>\n",
              "    <tr style=\"text-align: right;\">\n",
              "      <th></th>\n",
              "      <th>Aspect</th>\n",
              "      <th>SentimentText</th>\n",
              "      <th>SentimentWord</th>\n",
              "      <th>SentimentPolarity</th>\n",
              "    </tr>\n",
              "  </thead>\n",
              "  <tbody>\n",
              "    <tr>\n",
              "      <th>0</th>\n",
              "      <td>0</td>\n",
              "      <td>가격이 착하고</td>\n",
              "      <td>2</td>\n",
              "      <td>1</td>\n",
              "    </tr>\n",
              "    <tr>\n",
              "      <th>1</th>\n",
              "      <td>1</td>\n",
              "      <td>디자인이 예쁩니다</td>\n",
              "      <td>2</td>\n",
              "      <td>1</td>\n",
              "    </tr>\n",
              "    <tr>\n",
              "      <th>2</th>\n",
              "      <td>0</td>\n",
              "      <td>싸고</td>\n",
              "      <td>1</td>\n",
              "      <td>1</td>\n",
              "    </tr>\n",
              "    <tr>\n",
              "      <th>3</th>\n",
              "      <td>1</td>\n",
              "      <td>디자인이 예뻐요</td>\n",
              "      <td>2</td>\n",
              "      <td>1</td>\n",
              "    </tr>\n",
              "    <tr>\n",
              "      <th>4</th>\n",
              "      <td>0</td>\n",
              "      <td>가성비 가심비 입니다</td>\n",
              "      <td>3</td>\n",
              "      <td>1</td>\n",
              "    </tr>\n",
              "    <tr>\n",
              "      <th>...</th>\n",
              "      <td>...</td>\n",
              "      <td>...</td>\n",
              "      <td>...</td>\n",
              "      <td>...</td>\n",
              "    </tr>\n",
              "    <tr>\n",
              "      <th>120211</th>\n",
              "      <td>9</td>\n",
              "      <td>바퀴도 크고 부드럽게 잘 움직여서</td>\n",
              "      <td>5</td>\n",
              "      <td>1</td>\n",
              "    </tr>\n",
              "    <tr>\n",
              "      <th>120212</th>\n",
              "      <td>25</td>\n",
              "      <td>편하게 사용하겠어요</td>\n",
              "      <td>2</td>\n",
              "      <td>1</td>\n",
              "    </tr>\n",
              "    <tr>\n",
              "      <th>120213</th>\n",
              "      <td>1</td>\n",
              "      <td>캐리어 찾을때도 비슷비슷한 모양들 많은중에 눈에 띌것같네요</td>\n",
              "      <td>7</td>\n",
              "      <td>1</td>\n",
              "    </tr>\n",
              "    <tr>\n",
              "      <th>120214</th>\n",
              "      <td>6</td>\n",
              "      <td>색상도 좋으네요</td>\n",
              "      <td>2</td>\n",
              "      <td>1</td>\n",
              "    </tr>\n",
              "    <tr>\n",
              "      <th>120215</th>\n",
              "      <td>25</td>\n",
              "      <td>4종류 용도에 맞게 사용하기 편리해요</td>\n",
              "      <td>5</td>\n",
              "      <td>1</td>\n",
              "    </tr>\n",
              "  </tbody>\n",
              "</table>\n",
              "<p>120216 rows × 4 columns</p>\n",
              "</div>"
            ],
            "text/plain": [
              "        Aspect                     SentimentText SentimentWord  \\\n",
              "0            0                           가격이 착하고             2   \n",
              "1            1                         디자인이 예쁩니다             2   \n",
              "2            0                                싸고             1   \n",
              "3            1                          디자인이 예뻐요             2   \n",
              "4            0                       가성비 가심비 입니다             3   \n",
              "...        ...                               ...           ...   \n",
              "120211       9                바퀴도 크고 부드럽게 잘 움직여서             5   \n",
              "120212      25                        편하게 사용하겠어요             2   \n",
              "120213       1  캐리어 찾을때도 비슷비슷한 모양들 많은중에 눈에 띌것같네요             7   \n",
              "120214       6                          색상도 좋으네요             2   \n",
              "120215      25              4종류 용도에 맞게 사용하기 편리해요             5   \n",
              "\n",
              "       SentimentPolarity  \n",
              "0                      1  \n",
              "1                      1  \n",
              "2                      1  \n",
              "3                      1  \n",
              "4                      1  \n",
              "...                  ...  \n",
              "120211                 1  \n",
              "120212                 1  \n",
              "120213                 1  \n",
              "120214                 1  \n",
              "120215                 1  \n",
              "\n",
              "[120216 rows x 4 columns]"
            ]
          },
          "execution_count": 150,
          "metadata": {},
          "output_type": "execute_result"
        }
      ],
      "source": [
        "punc=string.punctuation\n",
        "\n",
        "for p in punc:\n",
        "    train_fashionDF['SentimentText'] = train_fashionDF['SentimentText'].str.replace(p, '')\n",
        "    val_fashionDF['SentimentText']=val_fashionDF['SentimentText'].str.replace(p,'')\n",
        "\n",
        "train_fashionDF"
      ]
    },
    {
      "cell_type": "code",
      "execution_count": 151,
      "metadata": {
        "colab": {
          "base_uri": "https://localhost:8080/",
          "height": 423
        },
        "id": "0llvgxzfJr3s",
        "outputId": "e252eb30-4427-454c-a5f8-bcb22244f095"
      },
      "outputs": [
        {
          "data": {
            "text/html": [
              "<div>\n",
              "<style scoped>\n",
              "    .dataframe tbody tr th:only-of-type {\n",
              "        vertical-align: middle;\n",
              "    }\n",
              "\n",
              "    .dataframe tbody tr th {\n",
              "        vertical-align: top;\n",
              "    }\n",
              "\n",
              "    .dataframe thead th {\n",
              "        text-align: right;\n",
              "    }\n",
              "</style>\n",
              "<table border=\"1\" class=\"dataframe\">\n",
              "  <thead>\n",
              "    <tr style=\"text-align: right;\">\n",
              "      <th></th>\n",
              "      <th>Aspect</th>\n",
              "      <th>SentimentText</th>\n",
              "      <th>SentimentWord</th>\n",
              "      <th>SentimentPolarity</th>\n",
              "    </tr>\n",
              "  </thead>\n",
              "  <tbody>\n",
              "    <tr>\n",
              "      <th>0</th>\n",
              "      <td>0</td>\n",
              "      <td>배도 편하게 눌러주고</td>\n",
              "      <td>3</td>\n",
              "      <td>1</td>\n",
              "    </tr>\n",
              "    <tr>\n",
              "      <th>1</th>\n",
              "      <td>1</td>\n",
              "      <td>미디가 길어 편하다고</td>\n",
              "      <td>3</td>\n",
              "      <td>1</td>\n",
              "    </tr>\n",
              "    <tr>\n",
              "      <th>2</th>\n",
              "      <td>2</td>\n",
              "      <td>다섯가지 색상 모두 이쁘네요</td>\n",
              "      <td>4</td>\n",
              "      <td>1</td>\n",
              "    </tr>\n",
              "    <tr>\n",
              "      <th>3</th>\n",
              "      <td>0</td>\n",
              "      <td>입자마자 시원하고</td>\n",
              "      <td>2</td>\n",
              "      <td>1</td>\n",
              "    </tr>\n",
              "    <tr>\n",
              "      <th>4</th>\n",
              "      <td>0</td>\n",
              "      <td>배 부분도 잘 잡아주고</td>\n",
              "      <td>4</td>\n",
              "      <td>1</td>\n",
              "    </tr>\n",
              "    <tr>\n",
              "      <th>...</th>\n",
              "      <td>...</td>\n",
              "      <td>...</td>\n",
              "      <td>...</td>\n",
              "      <td>...</td>\n",
              "    </tr>\n",
              "    <tr>\n",
              "      <th>15755</th>\n",
              "      <td>7</td>\n",
              "      <td>품질 좋아요</td>\n",
              "      <td>2</td>\n",
              "      <td>1</td>\n",
              "    </tr>\n",
              "    <tr>\n",
              "      <th>15756</th>\n",
              "      <td>7</td>\n",
              "      <td>우선 박음질이 허접합니다</td>\n",
              "      <td>3</td>\n",
              "      <td>0</td>\n",
              "    </tr>\n",
              "    <tr>\n",
              "      <th>15757</th>\n",
              "      <td>2</td>\n",
              "      <td>색상은 이뻐요</td>\n",
              "      <td>2</td>\n",
              "      <td>1</td>\n",
              "    </tr>\n",
              "    <tr>\n",
              "      <th>15758</th>\n",
              "      <td>7</td>\n",
              "      <td>검정백은 지퍼가 뻑뻑해서 잘 안닫혀요</td>\n",
              "      <td>5</td>\n",
              "      <td>0</td>\n",
              "    </tr>\n",
              "    <tr>\n",
              "      <th>15759</th>\n",
              "      <td>9</td>\n",
              "      <td>50프로 적립 아니였음 반품이였음</td>\n",
              "      <td>4</td>\n",
              "      <td>1</td>\n",
              "    </tr>\n",
              "  </tbody>\n",
              "</table>\n",
              "<p>15760 rows × 4 columns</p>\n",
              "</div>"
            ],
            "text/plain": [
              "       Aspect         SentimentText SentimentWord SentimentPolarity\n",
              "0           0          배도 편하게 눌러주고              3                 1\n",
              "1           1           미디가 길어 편하다고             3                 1\n",
              "2           2       다섯가지 색상 모두 이쁘네요             4                 1\n",
              "3           0             입자마자 시원하고             2                 1\n",
              "4           0          배 부분도 잘 잡아주고             4                 1\n",
              "...       ...                   ...           ...               ...\n",
              "15755       7                품질 좋아요             2                 1\n",
              "15756       7         우선 박음질이 허접합니다             3                 0\n",
              "15757       2              색상은 이뻐요              2                 1\n",
              "15758       7  검정백은 지퍼가 뻑뻑해서 잘 안닫혀요             5                 0\n",
              "15759       9    50프로 적립 아니였음 반품이였음             4                 1\n",
              "\n",
              "[15760 rows x 4 columns]"
            ]
          },
          "execution_count": 151,
          "metadata": {},
          "output_type": "execute_result"
        }
      ],
      "source": [
        "val_fashionDF"
      ]
    },
    {
      "cell_type": "code",
      "execution_count": 152,
      "metadata": {
        "colab": {
          "base_uri": "https://localhost:8080/",
          "height": 423
        },
        "id": "UKDmAQYuJr3s",
        "outputId": "edc4c258-6866-48bf-d0ed-a43bc5537405"
      },
      "outputs": [
        {
          "data": {
            "text/html": [
              "<div>\n",
              "<style scoped>\n",
              "    .dataframe tbody tr th:only-of-type {\n",
              "        vertical-align: middle;\n",
              "    }\n",
              "\n",
              "    .dataframe tbody tr th {\n",
              "        vertical-align: top;\n",
              "    }\n",
              "\n",
              "    .dataframe thead th {\n",
              "        text-align: right;\n",
              "    }\n",
              "</style>\n",
              "<table border=\"1\" class=\"dataframe\">\n",
              "  <thead>\n",
              "    <tr style=\"text-align: right;\">\n",
              "      <th></th>\n",
              "      <th>Aspect</th>\n",
              "      <th>SentimentText</th>\n",
              "      <th>SentimentWord</th>\n",
              "      <th>SentimentPolarity</th>\n",
              "    </tr>\n",
              "  </thead>\n",
              "  <tbody>\n",
              "    <tr>\n",
              "      <th>0</th>\n",
              "      <td>0</td>\n",
              "      <td>가격이 착하고</td>\n",
              "      <td>2</td>\n",
              "      <td>1</td>\n",
              "    </tr>\n",
              "    <tr>\n",
              "      <th>1</th>\n",
              "      <td>1</td>\n",
              "      <td>디자인이 예쁩니다</td>\n",
              "      <td>2</td>\n",
              "      <td>1</td>\n",
              "    </tr>\n",
              "    <tr>\n",
              "      <th>2</th>\n",
              "      <td>0</td>\n",
              "      <td>싸고</td>\n",
              "      <td>1</td>\n",
              "      <td>1</td>\n",
              "    </tr>\n",
              "    <tr>\n",
              "      <th>3</th>\n",
              "      <td>1</td>\n",
              "      <td>디자인이 예뻐요</td>\n",
              "      <td>2</td>\n",
              "      <td>1</td>\n",
              "    </tr>\n",
              "    <tr>\n",
              "      <th>4</th>\n",
              "      <td>0</td>\n",
              "      <td>가성비 가심비 입니다</td>\n",
              "      <td>3</td>\n",
              "      <td>1</td>\n",
              "    </tr>\n",
              "    <tr>\n",
              "      <th>...</th>\n",
              "      <td>...</td>\n",
              "      <td>...</td>\n",
              "      <td>...</td>\n",
              "      <td>...</td>\n",
              "    </tr>\n",
              "    <tr>\n",
              "      <th>120211</th>\n",
              "      <td>9</td>\n",
              "      <td>바퀴도 크고 부드럽게 잘 움직여서</td>\n",
              "      <td>5</td>\n",
              "      <td>1</td>\n",
              "    </tr>\n",
              "    <tr>\n",
              "      <th>120212</th>\n",
              "      <td>25</td>\n",
              "      <td>편하게 사용하겠어요</td>\n",
              "      <td>2</td>\n",
              "      <td>1</td>\n",
              "    </tr>\n",
              "    <tr>\n",
              "      <th>120213</th>\n",
              "      <td>1</td>\n",
              "      <td>캐리어 찾을때도 비슷비슷한 모양들 많은중에 눈에 띌것같네요</td>\n",
              "      <td>7</td>\n",
              "      <td>1</td>\n",
              "    </tr>\n",
              "    <tr>\n",
              "      <th>120214</th>\n",
              "      <td>6</td>\n",
              "      <td>색상도 좋으네요</td>\n",
              "      <td>2</td>\n",
              "      <td>1</td>\n",
              "    </tr>\n",
              "    <tr>\n",
              "      <th>120215</th>\n",
              "      <td>25</td>\n",
              "      <td>종류 용도에 맞게 사용하기 편리해요</td>\n",
              "      <td>5</td>\n",
              "      <td>1</td>\n",
              "    </tr>\n",
              "  </tbody>\n",
              "</table>\n",
              "<p>120216 rows × 4 columns</p>\n",
              "</div>"
            ],
            "text/plain": [
              "        Aspect                     SentimentText SentimentWord  \\\n",
              "0            0                           가격이 착하고             2   \n",
              "1            1                         디자인이 예쁩니다             2   \n",
              "2            0                                싸고             1   \n",
              "3            1                          디자인이 예뻐요             2   \n",
              "4            0                       가성비 가심비 입니다             3   \n",
              "...        ...                               ...           ...   \n",
              "120211       9                바퀴도 크고 부드럽게 잘 움직여서             5   \n",
              "120212      25                        편하게 사용하겠어요             2   \n",
              "120213       1  캐리어 찾을때도 비슷비슷한 모양들 많은중에 눈에 띌것같네요             7   \n",
              "120214       6                          색상도 좋으네요             2   \n",
              "120215      25               종류 용도에 맞게 사용하기 편리해요             5   \n",
              "\n",
              "       SentimentPolarity  \n",
              "0                      1  \n",
              "1                      1  \n",
              "2                      1  \n",
              "3                      1  \n",
              "4                      1  \n",
              "...                  ...  \n",
              "120211                 1  \n",
              "120212                 1  \n",
              "120213                 1  \n",
              "120214                 1  \n",
              "120215                 1  \n",
              "\n",
              "[120216 rows x 4 columns]"
            ]
          },
          "execution_count": 152,
          "metadata": {},
          "output_type": "execute_result"
        }
      ],
      "source": [
        "m=re.compile('[^ ㄱ-ㅣ가-힣]+')\n",
        "\n",
        "train_fashionDF['SentimentText']=train_fashionDF['SentimentText'].apply(lambda x: m.sub(' ', x))\n",
        "train_fashionDF"
      ]
    },
    {
      "cell_type": "code",
      "execution_count": 153,
      "metadata": {
        "colab": {
          "base_uri": "https://localhost:8080/",
          "height": 423
        },
        "id": "YtA47tbZJr3t",
        "outputId": "210a18dc-2bf2-408c-ed3e-518dc35f5e41"
      },
      "outputs": [
        {
          "data": {
            "text/html": [
              "<div>\n",
              "<style scoped>\n",
              "    .dataframe tbody tr th:only-of-type {\n",
              "        vertical-align: middle;\n",
              "    }\n",
              "\n",
              "    .dataframe tbody tr th {\n",
              "        vertical-align: top;\n",
              "    }\n",
              "\n",
              "    .dataframe thead th {\n",
              "        text-align: right;\n",
              "    }\n",
              "</style>\n",
              "<table border=\"1\" class=\"dataframe\">\n",
              "  <thead>\n",
              "    <tr style=\"text-align: right;\">\n",
              "      <th></th>\n",
              "      <th>Aspect</th>\n",
              "      <th>SentimentText</th>\n",
              "      <th>SentimentWord</th>\n",
              "      <th>SentimentPolarity</th>\n",
              "    </tr>\n",
              "  </thead>\n",
              "  <tbody>\n",
              "    <tr>\n",
              "      <th>0</th>\n",
              "      <td>0</td>\n",
              "      <td>배도 편하게 눌러주고</td>\n",
              "      <td>3</td>\n",
              "      <td>1</td>\n",
              "    </tr>\n",
              "    <tr>\n",
              "      <th>1</th>\n",
              "      <td>1</td>\n",
              "      <td>미디가 길어 편하다고</td>\n",
              "      <td>3</td>\n",
              "      <td>1</td>\n",
              "    </tr>\n",
              "    <tr>\n",
              "      <th>2</th>\n",
              "      <td>2</td>\n",
              "      <td>다섯가지 색상 모두 이쁘네요</td>\n",
              "      <td>4</td>\n",
              "      <td>1</td>\n",
              "    </tr>\n",
              "    <tr>\n",
              "      <th>3</th>\n",
              "      <td>0</td>\n",
              "      <td>입자마자 시원하고</td>\n",
              "      <td>2</td>\n",
              "      <td>1</td>\n",
              "    </tr>\n",
              "    <tr>\n",
              "      <th>4</th>\n",
              "      <td>0</td>\n",
              "      <td>배 부분도 잘 잡아주고</td>\n",
              "      <td>4</td>\n",
              "      <td>1</td>\n",
              "    </tr>\n",
              "    <tr>\n",
              "      <th>...</th>\n",
              "      <td>...</td>\n",
              "      <td>...</td>\n",
              "      <td>...</td>\n",
              "      <td>...</td>\n",
              "    </tr>\n",
              "    <tr>\n",
              "      <th>15755</th>\n",
              "      <td>7</td>\n",
              "      <td>품질 좋아요</td>\n",
              "      <td>2</td>\n",
              "      <td>1</td>\n",
              "    </tr>\n",
              "    <tr>\n",
              "      <th>15756</th>\n",
              "      <td>7</td>\n",
              "      <td>우선 박음질이 허접합니다</td>\n",
              "      <td>3</td>\n",
              "      <td>0</td>\n",
              "    </tr>\n",
              "    <tr>\n",
              "      <th>15757</th>\n",
              "      <td>2</td>\n",
              "      <td>색상은 이뻐요</td>\n",
              "      <td>2</td>\n",
              "      <td>1</td>\n",
              "    </tr>\n",
              "    <tr>\n",
              "      <th>15758</th>\n",
              "      <td>7</td>\n",
              "      <td>검정백은 지퍼가 뻑뻑해서 잘 안닫혀요</td>\n",
              "      <td>5</td>\n",
              "      <td>0</td>\n",
              "    </tr>\n",
              "    <tr>\n",
              "      <th>15759</th>\n",
              "      <td>9</td>\n",
              "      <td>프로 적립 아니였음 반품이였음</td>\n",
              "      <td>4</td>\n",
              "      <td>1</td>\n",
              "    </tr>\n",
              "  </tbody>\n",
              "</table>\n",
              "<p>15760 rows × 4 columns</p>\n",
              "</div>"
            ],
            "text/plain": [
              "       Aspect         SentimentText SentimentWord SentimentPolarity\n",
              "0           0          배도 편하게 눌러주고              3                 1\n",
              "1           1           미디가 길어 편하다고             3                 1\n",
              "2           2       다섯가지 색상 모두 이쁘네요             4                 1\n",
              "3           0             입자마자 시원하고             2                 1\n",
              "4           0          배 부분도 잘 잡아주고             4                 1\n",
              "...       ...                   ...           ...               ...\n",
              "15755       7                품질 좋아요             2                 1\n",
              "15756       7         우선 박음질이 허접합니다             3                 0\n",
              "15757       2              색상은 이뻐요              2                 1\n",
              "15758       7  검정백은 지퍼가 뻑뻑해서 잘 안닫혀요             5                 0\n",
              "15759       9      프로 적립 아니였음 반품이였음             4                 1\n",
              "\n",
              "[15760 rows x 4 columns]"
            ]
          },
          "execution_count": 153,
          "metadata": {},
          "output_type": "execute_result"
        }
      ],
      "source": [
        "val_fashionDF['SentimentText']=val_fashionDF['SentimentText'].apply(lambda x: m.sub(' ', x))\n",
        "val_fashionDF"
      ]
    },
    {
      "cell_type": "markdown",
      "metadata": {},
      "source": [
        "---\n",
        "단어사전 만들고 불용어 처리"
      ]
    },
    {
      "cell_type": "code",
      "execution_count": 154,
      "metadata": {
        "id": "hT27tk9xJr3t"
      },
      "outputs": [],
      "source": [
        "def build_vocab(corpus, n_vocab, special_tokens):\n",
        "    counter = Counter()\n",
        "    for tokens in corpus:\n",
        "        counter.update(tokens)\n",
        "    vocab = special_tokens\n",
        "\n",
        "    for token, count in counter.most_common(n_vocab):\n",
        "        vocab.append(token)\n",
        "\n",
        "    return vocab"
      ]
    },
    {
      "cell_type": "code",
      "execution_count": 155,
      "metadata": {
        "id": "sq7KcQzwJr3t"
      },
      "outputs": [],
      "source": [
        "stop_word='./stopwords.txt'\n",
        "\n",
        "with open(stop_word, 'r', encoding='utf-8') as f:\n",
        "    stop_words = [line.strip() for line in f]"
      ]
    },
    {
      "cell_type": "code",
      "execution_count": 156,
      "metadata": {
        "colab": {
          "base_uri": "https://localhost:8080/"
        },
        "id": "GdVtiVQ5Jr3t",
        "outputId": "79748af8-6af4-4a34-8467-8c34d8dd02d5"
      },
      "outputs": [
        {
          "name": "stdout",
          "output_type": "stream",
          "text": [
            "['<pad>', '<unk>', '가격', '디자인', '사이즈', '좋아요', '잘', '색상', '같아요', '맘']\n",
            "20002\n"
          ]
        }
      ],
      "source": [
        "tokenizer = Okt()\n",
        "\n",
        "train_tokens = [[token for token in tokenizer.morphs(text) if token not in stop_words] for text in train_fashionDF['SentimentText']]\n",
        "val_tokens = [[token for token in tokenizer.morphs(text) if token not in stop_words] for text in val_fashionDF['SentimentText']]\n",
        "\n",
        "\n",
        "vocab = build_vocab(corpus=train_tokens, n_vocab=20000, special_tokens=['<pad>','<unk>'])\n",
        "token_to_id = {token:idx for idx, token in enumerate(vocab)}\n",
        "id_to_token = {idx:token for idx, token in enumerate(vocab)}\n",
        "\n",
        "print(vocab[:10])\n",
        "print(len(vocab))"
      ]
    },
    {
      "cell_type": "markdown",
      "metadata": {},
      "source": [
        "---\n",
        "패딩"
      ]
    },
    {
      "cell_type": "code",
      "execution_count": 173,
      "metadata": {
        "colab": {
          "base_uri": "https://localhost:8080/"
        },
        "id": "InrVqgjhJr3t",
        "outputId": "428c43bf-d99f-418f-f284-4f1b91c0e83d"
      },
      "outputs": [
        {
          "data": {
            "text/plain": [
              "18"
            ]
          },
          "execution_count": 173,
          "metadata": {},
          "output_type": "execute_result"
        }
      ],
      "source": [
        "len(max(train_tokens, key=len))"
      ]
    },
    {
      "cell_type": "code",
      "execution_count": 158,
      "metadata": {
        "id": "sN_vVuGKJr3t"
      },
      "outputs": [],
      "source": [
        "def pad_sequences(sequences, max_length, pad_value):\n",
        "    result = list()\n",
        "    for sequence in sequences:\n",
        "        sequence = sequence[:max_length]\n",
        "        pad_length = max_length - len(sequence)\n",
        "        padded_sequence = sequence + [pad_value] * pad_length\n",
        "        result.append(padded_sequence)\n",
        "    return np.asarray(result)"
      ]
    },
    {
      "cell_type": "code",
      "execution_count": 159,
      "metadata": {
        "colab": {
          "base_uri": "https://localhost:8080/"
        },
        "id": "sNcPUHs8Jr3t",
        "outputId": "e2013909-c17c-4e48-ec64-2364172b41e2"
      },
      "outputs": [
        {
          "name": "stdout",
          "output_type": "stream",
          "text": [
            "[  2 344   0   0   0   0   0   0   0   0   0   0   0   0   0   0   0   0]\n"
          ]
        }
      ],
      "source": [
        "unk_id = token_to_id[\"<unk>\"]\n",
        "train_ids = [[token_to_id.get(token, unk_id) for token in review] for review in train_tokens]\n",
        "val_ids = [[token_to_id.get(token, unk_id) for token in review] for review in val_tokens]\n",
        "\n",
        "max_length = 18\n",
        "pad_id = token_to_id['<pad>']\n",
        "train_ids = pad_sequences(train_ids, max_length, pad_id)\n",
        "val_ids = pad_sequences(val_ids, max_length, pad_id)\n",
        "\n",
        "print(train_ids[0])"
      ]
    },
    {
      "cell_type": "code",
      "execution_count": 160,
      "metadata": {
        "colab": {
          "base_uri": "https://localhost:8080/"
        },
        "id": "R98p7Vt3Jr3t",
        "outputId": "6bbb8b14-9dd8-4f7d-d9bd-e6f2c7856c66"
      },
      "outputs": [
        {
          "name": "stdout",
          "output_type": "stream",
          "text": [
            "[2129   37    1    0    0    0    0    0    0    0    0    0    0    0\n",
            "    0    0    0    0]\n"
          ]
        }
      ],
      "source": [
        "print(val_ids[0])"
      ]
    },
    {
      "cell_type": "code",
      "execution_count": 161,
      "metadata": {
        "id": "-bqEo5vIJr3u"
      },
      "outputs": [
        {
          "data": {
            "text/plain": [
              "['가격', '착하고']"
            ]
          },
          "execution_count": 161,
          "metadata": {},
          "output_type": "execute_result"
        }
      ],
      "source": [
        "train_tokens[0]"
      ]
    },
    {
      "cell_type": "code",
      "execution_count": 70,
      "metadata": {},
      "outputs": [
        {
          "data": {
            "text/plain": [
              "['배도', '편하게', '눌러주고']"
            ]
          },
          "execution_count": 70,
          "metadata": {},
          "output_type": "execute_result"
        }
      ],
      "source": [
        "val_tokens[0]"
      ]
    },
    {
      "cell_type": "code",
      "execution_count": 162,
      "metadata": {},
      "outputs": [
        {
          "name": "stdout",
          "output_type": "stream",
          "text": [
            "<class 'pandas.core.frame.DataFrame'>\n",
            "RangeIndex: 120216 entries, 0 to 120215\n",
            "Data columns (total 4 columns):\n",
            " #   Column             Non-Null Count   Dtype \n",
            "---  ------             --------------   ----- \n",
            " 0   Aspect             120216 non-null  int64 \n",
            " 1   SentimentText      120216 non-null  object\n",
            " 2   SentimentWord      120216 non-null  object\n",
            " 3   SentimentPolarity  120216 non-null  object\n",
            "dtypes: int64(1), object(3)\n",
            "memory usage: 3.7+ MB\n"
          ]
        }
      ],
      "source": [
        "train_fashionDF.info()"
      ]
    },
    {
      "cell_type": "code",
      "execution_count": 163,
      "metadata": {},
      "outputs": [
        {
          "name": "stdout",
          "output_type": "stream",
          "text": [
            "<class 'pandas.core.frame.DataFrame'>\n",
            "RangeIndex: 120216 entries, 0 to 120215\n",
            "Data columns (total 4 columns):\n",
            " #   Column             Non-Null Count   Dtype \n",
            "---  ------             --------------   ----- \n",
            " 0   Aspect             120216 non-null  int64 \n",
            " 1   SentimentText      120216 non-null  object\n",
            " 2   SentimentWord      120216 non-null  object\n",
            " 3   SentimentPolarity  120216 non-null  int32 \n",
            "dtypes: int32(1), int64(1), object(2)\n",
            "memory usage: 3.2+ MB\n"
          ]
        }
      ],
      "source": [
        "train_fashionDF['SentimentPolarity']=train_fashionDF['SentimentPolarity'].astype(int)\n",
        "train_fashionDF.info()"
      ]
    },
    {
      "cell_type": "code",
      "execution_count": 164,
      "metadata": {},
      "outputs": [
        {
          "name": "stdout",
          "output_type": "stream",
          "text": [
            "<class 'pandas.core.frame.DataFrame'>\n",
            "RangeIndex: 15760 entries, 0 to 15759\n",
            "Data columns (total 4 columns):\n",
            " #   Column             Non-Null Count  Dtype \n",
            "---  ------             --------------  ----- \n",
            " 0   Aspect             15760 non-null  int64 \n",
            " 1   SentimentText      15760 non-null  object\n",
            " 2   SentimentWord      15760 non-null  object\n",
            " 3   SentimentPolarity  15760 non-null  int32 \n",
            "dtypes: int32(1), int64(1), object(2)\n",
            "memory usage: 431.1+ KB\n"
          ]
        }
      ],
      "source": [
        "val_fashionDF['SentimentPolarity']=val_fashionDF['SentimentPolarity'].astype(int)\n",
        "val_fashionDF.info()"
      ]
    },
    {
      "cell_type": "markdown",
      "metadata": {},
      "source": [
        "---\n",
        "데이터셋, 데이터로더"
      ]
    },
    {
      "cell_type": "code",
      "execution_count": 74,
      "metadata": {},
      "outputs": [],
      "source": [
        "train_ids=torch.tensor(train_ids)\n",
        "val_ids=torch.tensor(val_ids)\n",
        "\n",
        "train_labels=torch.tensor(train_fashionDF['SentimentPolarity'],dtype=torch.float32)\n",
        "val_labels=torch.tensor(val_fashionDF['SentimentPolarity'],dtype=torch.float32)\n",
        "\n",
        "train_ds=TensorDataset(train_ids,train_labels)\n",
        "val_ds=TensorDataset(val_ids,val_labels)\n",
        "\n",
        "train_dl=DataLoader(train_ds,batch_size=16,shuffle=True)\n",
        "val_dl=DataLoader(val_ds,batch_size=16,shuffle=False)"
      ]
    },
    {
      "cell_type": "markdown",
      "metadata": {},
      "source": [
        "---\n",
        "학습"
      ]
    },
    {
      "cell_type": "code",
      "execution_count": 165,
      "metadata": {},
      "outputs": [],
      "source": [
        "def train_model(model, datasets, multi_criterion, binary_criterion, optimizer, device, interval):\n",
        "    model. train()\n",
        "    total_loss=[]\n",
        "\n",
        "    for step, (input_ids, labels) in enumerate(datasets):\n",
        "        input_ids=input_ids.to(device)\n",
        "        multi_labels=labels[:,0].to(device)\n",
        "        binary_labels=labels[:,1].to(device).float()\n",
        "\n",
        "        classesd, logits=model(input_ids)\n",
        "\n",
        "        multi_loss=multi_criterion(classesd,multi_labels)\n",
        "        binary_loss=binary_criterion(logits.squeeze(1),binary_labels)\n",
        "        loss=multi_loss+binary_loss\n",
        "\n",
        "        total_loss.append(loss.item())\n",
        "\n",
        "        optimizer.zero_grad()\n",
        "        loss.backward()\n",
        "        optimizer.step()\n",
        "\n",
        "        if step%interval ==0:\n",
        "            print(f'Train loss {step}: {np.mean(total_loss)}')\n"
      ]
    },
    {
      "cell_type": "code",
      "execution_count": 166,
      "metadata": {},
      "outputs": [],
      "source": [
        "def test_model(model, datasets, multi_criterion, binary_criterion, device):\n",
        "    model.eval()\n",
        "    total_loss=[]\n",
        "    multi_score=[]\n",
        "    binary_score=[]\n",
        "\n",
        "    with torch.no_grad():\n",
        "        for step, (input_ids, labels) in enumerate(datasets):\n",
        "            input_ids=input_ids.to(device)\n",
        "            multi_labels=labels[:,0].to(device).long()\n",
        "            binary_labels=labels[:,1].to(device).float()\n",
        "\n",
        "            classesd,logits=model(input_ids)\n",
        "\n",
        "            multi_loss=multi_criterion(classesd,multi_labels)\n",
        "            binary_loss=binary_criterion(logits.squeeze(), binary_labels)\n",
        "            loss=multi_loss+binary_loss\n",
        "            total_loss.append(loss.item())\n",
        "\n",
        "            multi_pred=torch.argmax(torch.softmax(classesd, dim=1),dim=1)\n",
        "            multi_score.extend(multi_pred.eq(multi_labels).cpu().numpy())\n",
        "\n",
        "            binary_pred=(torch.sigmoid(logits)>0.5).int().squeeze()\n",
        "            binary_score.extend(binary_pred.eq(binary_labels.int()).cpu().numpy())\n",
        "        multi_accuracy=np.mean(multi_score)\n",
        "        binary_accuracy=np.mean(binary_score)\n",
        "\n",
        "        print(f'Val Loss : {np.mean(total_loss)}, Val Binary Accuracy : {binary_accuracy}, Val Multi Accuracy : {multi_accuracy}')"
      ]
    },
    {
      "cell_type": "code",
      "execution_count": 167,
      "metadata": {},
      "outputs": [],
      "source": [
        "class reviewClassifierModel(nn.Module):\n",
        "    def __init__(self, n_vocab, hidden_dim, embedding_dim, n_classes,\n",
        "                 n_layers, dropout=0.5, bidirectional=True) -> None:\n",
        "        super().__init__()\n",
        "        self.embedding = nn.Embedding(\n",
        "            num_embeddings=n_vocab,         # num_embeddings = vocab이 들어감\n",
        "            embedding_dim=embedding_dim,\n",
        "            padding_idx=0\n",
        "        )\n",
        "        self.model = nn.LSTM(\n",
        "            input_size = embedding_dim,         # Input의 사이즈에 해당하는 수\n",
        "            hidden_size=hidden_dim,             # 은닉층의 사이즈에 해당하는 수\n",
        "            num_layers=n_layers,                # RNN의 은닉층 레이어 개수, default = 1\n",
        "            bidirectional=bidirectional,        # bidrectional True일시 양방향 RNN, default = False\n",
        "            dropout=dropout,                    # dropout 비율설정 기본값 0\n",
        "            batch_first=True,                   # True일 경우 Output 사이즈는 (batch, seq, feature) 기본값 False\n",
        "        )\n",
        "        if bidirectional:\n",
        "            self.classifier1 = nn.Linear(hidden_dim*2,n_classes)\n",
        "            self.classifier2 = nn.Linear(hidden_dim*2,1)\n",
        "        else:\n",
        "            self.classifier1 = nn.Linear(hidden_dim,n_classes)\n",
        "            self.classifier2 = nn.Linear(hidden_dim,1)\n",
        "        self.dropout = nn.Dropout(dropout)\n",
        "\n",
        "    def forward(self,inputs):\n",
        "        embeddings = self.embedding(inputs)\n",
        "        output, _ = self.model(embeddings)\n",
        "        last_output = output[:, -1, :]\n",
        "        last_output = self.dropout(last_output)\n",
        "        classesd = self.classifier1(last_output)\n",
        "        logits = self.classifier2(last_output)\n",
        "        return classesd, logits"
      ]
    },
    {
      "cell_type": "code",
      "execution_count": 168,
      "metadata": {},
      "outputs": [
        {
          "ename": "NameError",
          "evalue": "name 'aspectCD' is not defined",
          "output_type": "error",
          "traceback": [
            "\u001b[1;31m---------------------------------------------------------------------------\u001b[0m",
            "\u001b[1;31mNameError\u001b[0m                                 Traceback (most recent call last)",
            "Cell \u001b[1;32mIn[168], line 14\u001b[0m\n\u001b[0;32m     11\u001b[0m n_layers \u001b[38;5;241m=\u001b[39m \u001b[38;5;241m2\u001b[39m\n\u001b[0;32m     12\u001b[0m device \u001b[38;5;241m=\u001b[39m \u001b[38;5;124m'\u001b[39m\u001b[38;5;124mcuda\u001b[39m\u001b[38;5;124m'\u001b[39m \u001b[38;5;28;01mif\u001b[39;00m torch\u001b[38;5;241m.\u001b[39mcuda\u001b[38;5;241m.\u001b[39mis_available() \u001b[38;5;28;01melse\u001b[39;00m \u001b[38;5;124m'\u001b[39m\u001b[38;5;124mcpu\u001b[39m\u001b[38;5;124m'\u001b[39m\n\u001b[0;32m     13\u001b[0m classifier \u001b[38;5;241m=\u001b[39m reviewClassifierModel(\n\u001b[1;32m---> 14\u001b[0m     n_vocab\u001b[38;5;241m=\u001b[39mn_vocab, hidden_dim\u001b[38;5;241m=\u001b[39mhidden_dim, embedding_dim\u001b[38;5;241m=\u001b[39membedding_dim, n_classes\u001b[38;5;241m=\u001b[39m\u001b[38;5;28mlen\u001b[39m(\u001b[43maspectCD\u001b[49m), n_layers\u001b[38;5;241m=\u001b[39mn_layers\n\u001b[0;32m     15\u001b[0m )\u001b[38;5;241m.\u001b[39mto(device)\n\u001b[0;32m     17\u001b[0m cl_criterion \u001b[38;5;241m=\u001b[39m nn\u001b[38;5;241m.\u001b[39mCrossEntropyLoss()\u001b[38;5;241m.\u001b[39mto(device)\n\u001b[0;32m     18\u001b[0m bn_criterion \u001b[38;5;241m=\u001b[39m nn\u001b[38;5;241m.\u001b[39mBCEWithLogitsLoss()\u001b[38;5;241m.\u001b[39mto(device)\n",
            "\u001b[1;31mNameError\u001b[0m: name 'aspectCD' is not defined"
          ]
        }
      ],
      "source": [
        "N_VOCAB = 5000\n",
        "MAX_LENGTH = 18\n",
        "EPOCHS = 100\n",
        "INTERVAL = 500\n",
        "BATCH_SIZE = 64\n",
        "LR = 0.001\n",
        "special_tokens = ['<pad>', '<unk>']\n",
        "\n",
        "raw_trainDF=pd.read_csv(r'C:\\Users\\MSI\\Desktop\\TORCH_NLP\\1010\\DATA\\train.csv', usecols=[1, 2, 4])\n",
        "raw_testDF=pd.read_csv(r'C:\\Users\\MSI\\Desktop\\TORCH_NLP\\1010\\DATA\\test.csv', usecols=[1, 2, 4])\n",
        "\n",
        "top10_train=raw_trainDF['Aspect'].value_counts().nlargest(n=9).index.tolist()\n",
        "trainDF=raw_trainDF.drop(index=raw_trainDF[~raw_trainDF['Aspect'].isin(values=top10_train)].index).reset_index()\n",
        "\n",
        "top10_test=raw_testDF['Aspect'].value_counts().nlargest(n=9).index.tolist()\n",
        "testDF=raw_testDF.drop(index=raw_testDF[~raw_testDF['Aspect'].isin(values=top10_test)].index).reset_index()\n",
        "\n",
        "trainDF, aspectCD = data_encoding(trainDF)\n",
        "testDF, _ = data_encoding(testDF)\n",
        "\n",
        "############################################################################\n",
        "punc=string.punctuation\n",
        "\n",
        "for p in punc:\n",
        "    trainDF['SentimentText'] = trainDF['SentimentText'].str.replace(p, '')\n",
        "    testDF['SentimentText']=testDF['SentimentText'].str.replace(p,'')\n",
        "\n",
        "m=re.compile('[^ ㄱ-ㅣ가-힣]+')\n",
        "\n",
        "trainDF['SentimentText']=trainDF['SentimentText'].apply(lambda x: m.sub(' ', x))\n",
        "testDF['SentimentText']=testDF['SentimentText'].apply(lambda x: m.sub(' ', x))\n",
        "\n",
        "stop_word='./stopwords.txt'\n",
        "\n",
        "with open(stop_word, 'r', encoding='utf-8') as f:\n",
        "    stop_words = [line.strip() for line in f]\n",
        "\n",
        "\n",
        "tokenizer = Okt()\n",
        "train_tokens = [[token for token in tokenizer.morphs(text) if token not in stop_words] for text in trainDF['SentimentText']]\n",
        "val_tokens = [[token for token in tokenizer.morphs(text) if token not in stop_words] for text in testDF['SentimentText']]\n",
        "\n",
        "###################################################################################\n",
        "\n",
        "vocab = build_vocab(train_tokens, N_VOCAB, special_tokens)\n",
        "token_to_id = {token: idx for idx, token in enumerate(vocab)}\n",
        "id_to_token = {idx: token for idx, token in enumerate(vocab)}\n",
        "\n",
        "pad_id = token_to_id['<pad>']\n",
        "unk_id = token_to_id['<unk>']\n",
        "train_ids = encoding_ids(token_to_id, train_tokens, unk_id)\n",
        "test_ids = encoding_ids(token_to_id, val_tokens, unk_id)\n",
        "train_ids = pad_sequences(train_ids, MAX_LENGTH, pad_id)\n",
        "test_ids = pad_sequences(test_ids, MAX_LENGTH, pad_id)\n",
        "\n",
        "train_ids = torch.tensor(train_ids, dtype=torch.long)\n",
        "test_ids = torch.tensor(test_ids, dtype=torch.long)\n",
        "\n",
        "train_labels = torch.tensor(list(zip(trainDF['Aspect'].values, trainDF['SentimentPolarity'].values)), dtype=torch.long)\n",
        "test_labels = torch.tensor(list(zip(testDF['Aspect'].values, testDF['SentimentPolarity'].values)), dtype=torch.float32)\n",
        "\n",
        "train_dataset = TensorDataset(train_ids, train_labels)\n",
        "test_dataset = TensorDataset(test_ids, test_labels)\n",
        "\n",
        "train_loader = DataLoader(train_dataset, BATCH_SIZE, shuffle=True)\n",
        "test_loader = DataLoader(test_dataset, BATCH_SIZE, shuffle=False)\n",
        "\n",
        "n_vocab = len(token_to_id)\n",
        "hidden_dim = 64\n",
        "embedding_dim = 128\n",
        "n_layers = 2\n",
        "device = 'cuda' if torch.cuda.is_available() else 'cpu'\n",
        "classifier = reviewClassifierModel(\n",
        "    n_vocab=n_vocab, hidden_dim=hidden_dim, embedding_dim=embedding_dim, n_classes=len(aspectCD), n_layers=n_layers\n",
        ").to(device)\n",
        "\n",
        "cl_criterion = nn.CrossEntropyLoss().to(device)\n",
        "bn_criterion = nn.BCEWithLogitsLoss().to(device)\n",
        "optimizer = optim.RMSprop(classifier.parameters(), lr=LR)\n",
        "\n",
        "for epoch in range(EPOCHS):\n",
        "    print(f'{epoch+1}/{EPOCHS}')\n",
        "    model_train(classifier, train_loader, cl_criterion, bn_criterion, optimizer, device, INTERVAL)\n",
        "    model_test(classifier, test_loader, cl_criterion, bn_criterion, device)\n",
        "\n",
        "    # 모델 저장 (에포크 번호 추가)\n",
        "    model_save_path = f'./saved_model/review_classifier_epoch_{epoch + 1}.pt'  # 에포크 번호 포함\n",
        "    torch.save(classifier.state_dict(), model_save_path)\n",
        "    print(f'Model saved at {model_save_path}')"
      ]
    },
    {
      "cell_type": "code",
      "execution_count": null,
      "metadata": {},
      "outputs": [],
      "source": []
    }
  ],
  "metadata": {
    "colab": {
      "provenance": []
    },
    "kernelspec": {
      "display_name": "TEXT_018_230_38",
      "language": "python",
      "name": "python3"
    },
    "language_info": {
      "codemirror_mode": {
        "name": "ipython",
        "version": 3
      },
      "file_extension": ".py",
      "mimetype": "text/x-python",
      "name": "python",
      "nbconvert_exporter": "python",
      "pygments_lexer": "ipython3",
      "version": "3.8.19"
    }
  },
  "nbformat": 4,
  "nbformat_minor": 0
}
