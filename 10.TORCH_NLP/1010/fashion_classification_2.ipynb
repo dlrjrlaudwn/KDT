{
  "cells": [
    {
      "cell_type": "code",
      "execution_count": 7,
      "metadata": {
        "id": "QaF2Uh5NJr3o"
      },
      "outputs": [],
      "source": [
        "import os\n",
        "import json\n",
        "import pandas as pd\n",
        "import string\n",
        "import re\n",
        "from collections import Counter\n",
        "from konlpy.tag import Okt\n",
        "import numpy as np"
      ]
    },
    {
      "cell_type": "code",
      "execution_count": 8,
      "metadata": {
        "id": "MWQWPeSaJr3p"
      },
      "outputs": [],
      "source": [
        "TRAIN_PATH='./DATA/Training/'\n",
        "folder_paths=os.listdir(TRAIN_PATH)"
      ]
    },
    {
      "cell_type": "code",
      "execution_count": 9,
      "metadata": {
        "id": "viV-DkdRJr3q"
      },
      "outputs": [],
      "source": [
        "fashion_df=[]\n",
        "\n",
        "for folder in folder_paths:\n",
        "    #print(folder)\n",
        "    folder_path=TRAIN_PATH+folder\n",
        "    #print(folder_path)\n",
        "    json_file=[file for file in os.listdir(folder_path) if file.endswith('.json')]\n",
        "    #print(json_file)\n",
        "    for file in json_file:\n",
        "        file_path=os.path.join(folder_path,file)\n",
        "        #print(file_path)\n",
        "\n",
        "        try:\n",
        "            with open(file_path,'r',encoding='utf-8') as f:\n",
        "                data=json.load(f)\n",
        "\n",
        "                if data:\n",
        "                    for review in data:\n",
        "                        aspects=pd.json_normalize(review.get('Aspects'))\n",
        "                    fashion_df.append(aspects)\n",
        "                else:\n",
        "                    print(f'No data found in {file}')\n",
        "\n",
        "        except json.JSONDecodeError:\n",
        "            print(f\"Error loading {file}: Invalid JSON\")"
      ]
    },
    {
      "cell_type": "code",
      "execution_count": 10,
      "metadata": {
        "colab": {
          "base_uri": "https://localhost:8080/"
        },
        "id": "DXzXXwr4Jr3q",
        "outputId": "201e3984-f4bb-4792-b3d6-93aabf2d9691"
      },
      "outputs": [
        {
          "name": "stdout",
          "output_type": "stream",
          "text": [
            "       Aspect              SentimentText SentimentWord SentimentPolarity\n",
            "0         착용감                     넘 편해서              2                 1\n",
            "1          소재     니트재질이라보니 보풀감은 어쩔수업머요ㅠㅠ             3                 1\n",
            "2         활용성                  자주 손가입었어요             2                 1\n",
            "3         디자인           레깅스에 가깝게보여 좋았는데              3                 1\n",
            "4         디자인               받고보니 디잔이다릅니다             2                -1\n",
            "...       ...                        ...           ...               ...\n",
            "1228      디자인               예쁜 가방도 마련했겠다             3                 1\n",
            "1229       품질  일단 바퀴의 성능이 탁월해서 너무 좋네요...             6                 1\n",
            "1230       소재          외관에 스크래치도 덜 가구요..             4                 1\n",
            "1231       색상                   색상도 좋으네요             2                 1\n",
            "1232  사용성/편의성       4종류 용도에 맞게 사용하기 편리해요             5                 1\n",
            "\n",
            "[1233 rows x 4 columns]\n"
          ]
        }
      ],
      "source": [
        "if fashion_df:\n",
        "    train_fashionDF=pd.concat(fashion_df,ignore_index=True)\n",
        "    print(train_fashionDF)\n",
        "else:\n",
        "    print('No Valid Dataframe')"
      ]
    },
    {
      "cell_type": "code",
      "execution_count": 11,
      "metadata": {
        "id": "haBKtcYnJr3r"
      },
      "outputs": [],
      "source": [
        "val_path='./DATA/Validation/'\n",
        "folder_paths=os.listdir(val_path)"
      ]
    },
    {
      "cell_type": "code",
      "execution_count": 12,
      "metadata": {
        "id": "mG2nlBp4Jr3r"
      },
      "outputs": [],
      "source": [
        "val_df=[]\n",
        "\n",
        "for folder in folder_paths:\n",
        "    path=val_path+folder\n",
        "    #print(path)\n",
        "\n",
        "    json_file=[file for file in os.listdir(path) if file.endswith('.json')]\n",
        "\n",
        "    for file in json_file:\n",
        "        file_paths=os.path.join(path,file)\n",
        "        #print(file_paths)\n",
        "\n",
        "        try:\n",
        "            with open(file_paths,'r',encoding='utf-8') as f:\n",
        "                val_data=json.load(f)\n",
        "\n",
        "                if val_data:\n",
        "                    for review in val_data:\n",
        "                        aspects=pd.json_normalize(review.get('Aspects'))\n",
        "                        val_df.append(aspects)\n",
        "                else: print(f'no data found in {file}')\n",
        "\n",
        "        except json.JSONDecodeError: print(f'error loading {file}')"
      ]
    },
    {
      "cell_type": "code",
      "execution_count": 13,
      "metadata": {
        "colab": {
          "base_uri": "https://localhost:8080/"
        },
        "id": "O4KQOb2nJr3r",
        "outputId": "2b843cae-2fa8-483f-db3f-a73cf29599ea"
      },
      "outputs": [
        {
          "name": "stdout",
          "output_type": "stream",
          "text": [
            "      Aspect         SentimentText SentimentWord SentimentPolarity\n",
            "0         기능          배도 편하게 눌러주고              3                 1\n",
            "1         길이         미디가 길어 편하다고..             3                 1\n",
            "2         색상     다섯가지 색상 모두 이쁘네요^^             4                 1\n",
            "3         기능             입자마자 시원하고             2                 1\n",
            "4         기능          배 부분도 잘 잡아주고             4                 1\n",
            "...      ...                   ...           ...               ...\n",
            "15755     품질                품질 좋아요             2                 1\n",
            "15756     품질        우선 박음질이 허접합니다.             3                -1\n",
            "15757     색상              색상은 이뻐요              2                 1\n",
            "15758     품질  검정백은 지퍼가 뻑뻑해서 잘 안닫혀요             5                -1\n",
            "15759     가격    50프로 적립 아니였음 반품이였음             4                 1\n",
            "\n",
            "[15760 rows x 4 columns]\n"
          ]
        }
      ],
      "source": [
        "if val_df:\n",
        "    val_fashionDF=pd.concat(val_df,ignore_index=True)\n",
        "    print(val_fashionDF)\n",
        "else: print('no valid dataframe')"
      ]
    },
    {
      "cell_type": "code",
      "execution_count": 14,
      "metadata": {
        "colab": {
          "base_uri": "https://localhost:8080/",
          "height": 209
        },
        "id": "VziTGJZmJr3r",
        "outputId": "82d364cc-1ebb-4ae7-e8f9-212e4f3ab5c4"
      },
      "outputs": [
        {
          "data": {
            "text/plain": [
              "Aspect               0\n",
              "SentimentText        0\n",
              "SentimentWord        0\n",
              "SentimentPolarity    0\n",
              "dtype: int64"
            ]
          },
          "execution_count": 14,
          "metadata": {},
          "output_type": "execute_result"
        }
      ],
      "source": [
        "train_fashionDF.isna().sum()"
      ]
    },
    {
      "cell_type": "code",
      "execution_count": 15,
      "metadata": {
        "colab": {
          "base_uri": "https://localhost:8080/",
          "height": 209
        },
        "id": "wzZc5VSEJr3r",
        "outputId": "b1687aee-6cf0-443d-ba96-0b12babb0e26"
      },
      "outputs": [
        {
          "data": {
            "text/plain": [
              "Aspect               0\n",
              "SentimentText        0\n",
              "SentimentWord        0\n",
              "SentimentPolarity    0\n",
              "dtype: int64"
            ]
          },
          "execution_count": 15,
          "metadata": {},
          "output_type": "execute_result"
        }
      ],
      "source": [
        "val_fashionDF.isna().sum()"
      ]
    },
    {
      "cell_type": "code",
      "execution_count": 16,
      "metadata": {
        "colab": {
          "base_uri": "https://localhost:8080/",
          "height": 962
        },
        "id": "3a3DNJobJr3r",
        "outputId": "53863eaf-07f3-47fa-8874-e93985347dd8"
      },
      "outputs": [
        {
          "data": {
            "text/plain": [
              "Aspect\n",
              "디자인            131\n",
              "사이즈            118\n",
              "가격             107\n",
              "품질             101\n",
              "소재              93\n",
              "기능              90\n",
              "착화감             83\n",
              "착용감             69\n",
              "색상              60\n",
              "치수/사이즈          51\n",
              "무게              45\n",
              "길이              44\n",
              "두께              37\n",
              "핏               35\n",
              "신축성             32\n",
              "활용성             22\n",
              "촉감              21\n",
              "사용성             15\n",
              "사이즈/폭/길이/두께     14\n",
              "사용성/편의성         14\n",
              "기능성             11\n",
              "마감              10\n",
              "내구성              8\n",
              "제품구성             8\n",
              "냄새               8\n",
              "굽                5\n",
              "수납               1\n",
              "Name: count, dtype: int64"
            ]
          },
          "execution_count": 16,
          "metadata": {},
          "output_type": "execute_result"
        }
      ],
      "source": [
        "train_fashionDF['Aspect'].value_counts()"
      ]
    },
    {
      "cell_type": "code",
      "execution_count": 17,
      "metadata": {
        "colab": {
          "base_uri": "https://localhost:8080/",
          "height": 962
        },
        "id": "aLPfJcsYJr3s",
        "outputId": "b77b98fe-d321-4140-af25-fc3a9b479bb6"
      },
      "outputs": [
        {
          "data": {
            "text/plain": [
              "Aspect\n",
              "사이즈            1828\n",
              "디자인            1421\n",
              "가격             1282\n",
              "품질             1213\n",
              "착용감            1211\n",
              "기능             1197\n",
              "소재              966\n",
              "착화감             867\n",
              "핏               845\n",
              "색상              840\n",
              "신축성             728\n",
              "치수/사이즈          525\n",
              "길이              494\n",
              "무게              484\n",
              "두께              418\n",
              "활용성             223\n",
              "제품구성            200\n",
              "촉감              186\n",
              "사용성/편의성         160\n",
              "사용성             159\n",
              "기능성             139\n",
              "사이즈/폭/길이/두께     125\n",
              "마감               93\n",
              "내구성              61\n",
              "수납               40\n",
              "굽                28\n",
              "냄새               27\n",
              "Name: count, dtype: int64"
            ]
          },
          "execution_count": 17,
          "metadata": {},
          "output_type": "execute_result"
        }
      ],
      "source": [
        "val_fashionDF['Aspect'].value_counts()"
      ]
    },
    {
      "cell_type": "code",
      "execution_count": 18,
      "metadata": {
        "colab": {
          "base_uri": "https://localhost:8080/",
          "height": 423
        },
        "id": "J8F2qDTsJr3s",
        "outputId": "440ec9f5-fef9-4024-e23d-0af55adb1f4f"
      },
      "outputs": [
        {
          "data": {
            "text/html": [
              "<div>\n",
              "<style scoped>\n",
              "    .dataframe tbody tr th:only-of-type {\n",
              "        vertical-align: middle;\n",
              "    }\n",
              "\n",
              "    .dataframe tbody tr th {\n",
              "        vertical-align: top;\n",
              "    }\n",
              "\n",
              "    .dataframe thead th {\n",
              "        text-align: right;\n",
              "    }\n",
              "</style>\n",
              "<table border=\"1\" class=\"dataframe\">\n",
              "  <thead>\n",
              "    <tr style=\"text-align: right;\">\n",
              "      <th></th>\n",
              "      <th>Aspect</th>\n",
              "      <th>SentimentText</th>\n",
              "      <th>SentimentWord</th>\n",
              "      <th>SentimentPolarity</th>\n",
              "    </tr>\n",
              "  </thead>\n",
              "  <tbody>\n",
              "    <tr>\n",
              "      <th>0</th>\n",
              "      <td>착용감</td>\n",
              "      <td>넘 편해서</td>\n",
              "      <td>2</td>\n",
              "      <td>1</td>\n",
              "    </tr>\n",
              "    <tr>\n",
              "      <th>1</th>\n",
              "      <td>소재</td>\n",
              "      <td>니트재질이라보니 보풀감은 어쩔수업머요ㅠㅠ</td>\n",
              "      <td>3</td>\n",
              "      <td>1</td>\n",
              "    </tr>\n",
              "    <tr>\n",
              "      <th>2</th>\n",
              "      <td>활용성</td>\n",
              "      <td>자주 손가입었어요</td>\n",
              "      <td>2</td>\n",
              "      <td>1</td>\n",
              "    </tr>\n",
              "    <tr>\n",
              "      <th>3</th>\n",
              "      <td>디자인</td>\n",
              "      <td>레깅스에 가깝게보여 좋았는데</td>\n",
              "      <td>3</td>\n",
              "      <td>1</td>\n",
              "    </tr>\n",
              "    <tr>\n",
              "      <th>4</th>\n",
              "      <td>디자인</td>\n",
              "      <td>받고보니 디잔이다릅니다</td>\n",
              "      <td>2</td>\n",
              "      <td>-1</td>\n",
              "    </tr>\n",
              "    <tr>\n",
              "      <th>...</th>\n",
              "      <td>...</td>\n",
              "      <td>...</td>\n",
              "      <td>...</td>\n",
              "      <td>...</td>\n",
              "    </tr>\n",
              "    <tr>\n",
              "      <th>1228</th>\n",
              "      <td>디자인</td>\n",
              "      <td>예쁜 가방도 마련했겠다</td>\n",
              "      <td>3</td>\n",
              "      <td>1</td>\n",
              "    </tr>\n",
              "    <tr>\n",
              "      <th>1229</th>\n",
              "      <td>품질</td>\n",
              "      <td>일단 바퀴의 성능이 탁월해서 너무 좋네요</td>\n",
              "      <td>6</td>\n",
              "      <td>1</td>\n",
              "    </tr>\n",
              "    <tr>\n",
              "      <th>1230</th>\n",
              "      <td>소재</td>\n",
              "      <td>외관에 스크래치도 덜 가구요</td>\n",
              "      <td>4</td>\n",
              "      <td>1</td>\n",
              "    </tr>\n",
              "    <tr>\n",
              "      <th>1231</th>\n",
              "      <td>색상</td>\n",
              "      <td>색상도 좋으네요</td>\n",
              "      <td>2</td>\n",
              "      <td>1</td>\n",
              "    </tr>\n",
              "    <tr>\n",
              "      <th>1232</th>\n",
              "      <td>사용성/편의성</td>\n",
              "      <td>4종류 용도에 맞게 사용하기 편리해요</td>\n",
              "      <td>5</td>\n",
              "      <td>1</td>\n",
              "    </tr>\n",
              "  </tbody>\n",
              "</table>\n",
              "<p>1233 rows × 4 columns</p>\n",
              "</div>"
            ],
            "text/plain": [
              "       Aspect           SentimentText SentimentWord SentimentPolarity\n",
              "0         착용감                  넘 편해서              2                 1\n",
              "1          소재  니트재질이라보니 보풀감은 어쩔수업머요ㅠㅠ             3                 1\n",
              "2         활용성               자주 손가입었어요             2                 1\n",
              "3         디자인        레깅스에 가깝게보여 좋았는데              3                 1\n",
              "4         디자인            받고보니 디잔이다릅니다             2                -1\n",
              "...       ...                     ...           ...               ...\n",
              "1228      디자인            예쁜 가방도 마련했겠다             3                 1\n",
              "1229       품질  일단 바퀴의 성능이 탁월해서 너무 좋네요             6                 1\n",
              "1230       소재         외관에 스크래치도 덜 가구요             4                 1\n",
              "1231       색상                색상도 좋으네요             2                 1\n",
              "1232  사용성/편의성    4종류 용도에 맞게 사용하기 편리해요             5                 1\n",
              "\n",
              "[1233 rows x 4 columns]"
            ]
          },
          "execution_count": 18,
          "metadata": {},
          "output_type": "execute_result"
        }
      ],
      "source": [
        "punc=string.punctuation\n",
        "\n",
        "for p in punc:\n",
        "    train_fashionDF['SentimentText'] = train_fashionDF['SentimentText'].str.replace(p, '')\n",
        "    val_fashionDF['SentimentText']=val_fashionDF['SentimentText'].str.replace(p,'')\n",
        "\n",
        "train_fashionDF"
      ]
    },
    {
      "cell_type": "code",
      "execution_count": 19,
      "metadata": {
        "colab": {
          "base_uri": "https://localhost:8080/",
          "height": 423
        },
        "id": "0llvgxzfJr3s",
        "outputId": "e252eb30-4427-454c-a5f8-bcb22244f095"
      },
      "outputs": [
        {
          "data": {
            "text/html": [
              "<div>\n",
              "<style scoped>\n",
              "    .dataframe tbody tr th:only-of-type {\n",
              "        vertical-align: middle;\n",
              "    }\n",
              "\n",
              "    .dataframe tbody tr th {\n",
              "        vertical-align: top;\n",
              "    }\n",
              "\n",
              "    .dataframe thead th {\n",
              "        text-align: right;\n",
              "    }\n",
              "</style>\n",
              "<table border=\"1\" class=\"dataframe\">\n",
              "  <thead>\n",
              "    <tr style=\"text-align: right;\">\n",
              "      <th></th>\n",
              "      <th>Aspect</th>\n",
              "      <th>SentimentText</th>\n",
              "      <th>SentimentWord</th>\n",
              "      <th>SentimentPolarity</th>\n",
              "    </tr>\n",
              "  </thead>\n",
              "  <tbody>\n",
              "    <tr>\n",
              "      <th>0</th>\n",
              "      <td>기능</td>\n",
              "      <td>배도 편하게 눌러주고</td>\n",
              "      <td>3</td>\n",
              "      <td>1</td>\n",
              "    </tr>\n",
              "    <tr>\n",
              "      <th>1</th>\n",
              "      <td>길이</td>\n",
              "      <td>미디가 길어 편하다고</td>\n",
              "      <td>3</td>\n",
              "      <td>1</td>\n",
              "    </tr>\n",
              "    <tr>\n",
              "      <th>2</th>\n",
              "      <td>색상</td>\n",
              "      <td>다섯가지 색상 모두 이쁘네요</td>\n",
              "      <td>4</td>\n",
              "      <td>1</td>\n",
              "    </tr>\n",
              "    <tr>\n",
              "      <th>3</th>\n",
              "      <td>기능</td>\n",
              "      <td>입자마자 시원하고</td>\n",
              "      <td>2</td>\n",
              "      <td>1</td>\n",
              "    </tr>\n",
              "    <tr>\n",
              "      <th>4</th>\n",
              "      <td>기능</td>\n",
              "      <td>배 부분도 잘 잡아주고</td>\n",
              "      <td>4</td>\n",
              "      <td>1</td>\n",
              "    </tr>\n",
              "    <tr>\n",
              "      <th>...</th>\n",
              "      <td>...</td>\n",
              "      <td>...</td>\n",
              "      <td>...</td>\n",
              "      <td>...</td>\n",
              "    </tr>\n",
              "    <tr>\n",
              "      <th>15755</th>\n",
              "      <td>품질</td>\n",
              "      <td>품질 좋아요</td>\n",
              "      <td>2</td>\n",
              "      <td>1</td>\n",
              "    </tr>\n",
              "    <tr>\n",
              "      <th>15756</th>\n",
              "      <td>품질</td>\n",
              "      <td>우선 박음질이 허접합니다</td>\n",
              "      <td>3</td>\n",
              "      <td>-1</td>\n",
              "    </tr>\n",
              "    <tr>\n",
              "      <th>15757</th>\n",
              "      <td>색상</td>\n",
              "      <td>색상은 이뻐요</td>\n",
              "      <td>2</td>\n",
              "      <td>1</td>\n",
              "    </tr>\n",
              "    <tr>\n",
              "      <th>15758</th>\n",
              "      <td>품질</td>\n",
              "      <td>검정백은 지퍼가 뻑뻑해서 잘 안닫혀요</td>\n",
              "      <td>5</td>\n",
              "      <td>-1</td>\n",
              "    </tr>\n",
              "    <tr>\n",
              "      <th>15759</th>\n",
              "      <td>가격</td>\n",
              "      <td>50프로 적립 아니였음 반품이였음</td>\n",
              "      <td>4</td>\n",
              "      <td>1</td>\n",
              "    </tr>\n",
              "  </tbody>\n",
              "</table>\n",
              "<p>15760 rows × 4 columns</p>\n",
              "</div>"
            ],
            "text/plain": [
              "      Aspect         SentimentText SentimentWord SentimentPolarity\n",
              "0         기능          배도 편하게 눌러주고              3                 1\n",
              "1         길이           미디가 길어 편하다고             3                 1\n",
              "2         색상       다섯가지 색상 모두 이쁘네요             4                 1\n",
              "3         기능             입자마자 시원하고             2                 1\n",
              "4         기능          배 부분도 잘 잡아주고             4                 1\n",
              "...      ...                   ...           ...               ...\n",
              "15755     품질                품질 좋아요             2                 1\n",
              "15756     품질         우선 박음질이 허접합니다             3                -1\n",
              "15757     색상              색상은 이뻐요              2                 1\n",
              "15758     품질  검정백은 지퍼가 뻑뻑해서 잘 안닫혀요             5                -1\n",
              "15759     가격    50프로 적립 아니였음 반품이였음             4                 1\n",
              "\n",
              "[15760 rows x 4 columns]"
            ]
          },
          "execution_count": 19,
          "metadata": {},
          "output_type": "execute_result"
        }
      ],
      "source": [
        "val_fashionDF"
      ]
    },
    {
      "cell_type": "code",
      "execution_count": 20,
      "metadata": {
        "colab": {
          "base_uri": "https://localhost:8080/",
          "height": 423
        },
        "id": "UKDmAQYuJr3s",
        "outputId": "edc4c258-6866-48bf-d0ed-a43bc5537405"
      },
      "outputs": [
        {
          "data": {
            "text/html": [
              "<div>\n",
              "<style scoped>\n",
              "    .dataframe tbody tr th:only-of-type {\n",
              "        vertical-align: middle;\n",
              "    }\n",
              "\n",
              "    .dataframe tbody tr th {\n",
              "        vertical-align: top;\n",
              "    }\n",
              "\n",
              "    .dataframe thead th {\n",
              "        text-align: right;\n",
              "    }\n",
              "</style>\n",
              "<table border=\"1\" class=\"dataframe\">\n",
              "  <thead>\n",
              "    <tr style=\"text-align: right;\">\n",
              "      <th></th>\n",
              "      <th>Aspect</th>\n",
              "      <th>SentimentText</th>\n",
              "      <th>SentimentWord</th>\n",
              "      <th>SentimentPolarity</th>\n",
              "    </tr>\n",
              "  </thead>\n",
              "  <tbody>\n",
              "    <tr>\n",
              "      <th>0</th>\n",
              "      <td>착용감</td>\n",
              "      <td>넘 편해서</td>\n",
              "      <td>2</td>\n",
              "      <td>1</td>\n",
              "    </tr>\n",
              "    <tr>\n",
              "      <th>1</th>\n",
              "      <td>소재</td>\n",
              "      <td>니트재질이라보니 보풀감은 어쩔수업머요ㅠㅠ</td>\n",
              "      <td>3</td>\n",
              "      <td>1</td>\n",
              "    </tr>\n",
              "    <tr>\n",
              "      <th>2</th>\n",
              "      <td>활용성</td>\n",
              "      <td>자주 손가입었어요</td>\n",
              "      <td>2</td>\n",
              "      <td>1</td>\n",
              "    </tr>\n",
              "    <tr>\n",
              "      <th>3</th>\n",
              "      <td>디자인</td>\n",
              "      <td>레깅스에 가깝게보여 좋았는데</td>\n",
              "      <td>3</td>\n",
              "      <td>1</td>\n",
              "    </tr>\n",
              "    <tr>\n",
              "      <th>4</th>\n",
              "      <td>디자인</td>\n",
              "      <td>받고보니 디잔이다릅니다</td>\n",
              "      <td>2</td>\n",
              "      <td>-1</td>\n",
              "    </tr>\n",
              "    <tr>\n",
              "      <th>...</th>\n",
              "      <td>...</td>\n",
              "      <td>...</td>\n",
              "      <td>...</td>\n",
              "      <td>...</td>\n",
              "    </tr>\n",
              "    <tr>\n",
              "      <th>1228</th>\n",
              "      <td>디자인</td>\n",
              "      <td>예쁜 가방도 마련했겠다</td>\n",
              "      <td>3</td>\n",
              "      <td>1</td>\n",
              "    </tr>\n",
              "    <tr>\n",
              "      <th>1229</th>\n",
              "      <td>품질</td>\n",
              "      <td>일단 바퀴의 성능이 탁월해서 너무 좋네요</td>\n",
              "      <td>6</td>\n",
              "      <td>1</td>\n",
              "    </tr>\n",
              "    <tr>\n",
              "      <th>1230</th>\n",
              "      <td>소재</td>\n",
              "      <td>외관에 스크래치도 덜 가구요</td>\n",
              "      <td>4</td>\n",
              "      <td>1</td>\n",
              "    </tr>\n",
              "    <tr>\n",
              "      <th>1231</th>\n",
              "      <td>색상</td>\n",
              "      <td>색상도 좋으네요</td>\n",
              "      <td>2</td>\n",
              "      <td>1</td>\n",
              "    </tr>\n",
              "    <tr>\n",
              "      <th>1232</th>\n",
              "      <td>사용성/편의성</td>\n",
              "      <td>종류 용도에 맞게 사용하기 편리해요</td>\n",
              "      <td>5</td>\n",
              "      <td>1</td>\n",
              "    </tr>\n",
              "  </tbody>\n",
              "</table>\n",
              "<p>1233 rows × 4 columns</p>\n",
              "</div>"
            ],
            "text/plain": [
              "       Aspect           SentimentText SentimentWord SentimentPolarity\n",
              "0         착용감                  넘 편해서              2                 1\n",
              "1          소재  니트재질이라보니 보풀감은 어쩔수업머요ㅠㅠ             3                 1\n",
              "2         활용성               자주 손가입었어요             2                 1\n",
              "3         디자인        레깅스에 가깝게보여 좋았는데              3                 1\n",
              "4         디자인            받고보니 디잔이다릅니다             2                -1\n",
              "...       ...                     ...           ...               ...\n",
              "1228      디자인            예쁜 가방도 마련했겠다             3                 1\n",
              "1229       품질  일단 바퀴의 성능이 탁월해서 너무 좋네요             6                 1\n",
              "1230       소재         외관에 스크래치도 덜 가구요             4                 1\n",
              "1231       색상                색상도 좋으네요             2                 1\n",
              "1232  사용성/편의성     종류 용도에 맞게 사용하기 편리해요             5                 1\n",
              "\n",
              "[1233 rows x 4 columns]"
            ]
          },
          "execution_count": 20,
          "metadata": {},
          "output_type": "execute_result"
        }
      ],
      "source": [
        "m=re.compile('[^ ㄱ-ㅣ가-힣]+')\n",
        "\n",
        "train_fashionDF['SentimentText']=train_fashionDF['SentimentText'].apply(lambda x: m.sub(' ', x))\n",
        "train_fashionDF"
      ]
    },
    {
      "cell_type": "code",
      "execution_count": 21,
      "metadata": {
        "colab": {
          "base_uri": "https://localhost:8080/",
          "height": 423
        },
        "id": "YtA47tbZJr3t",
        "outputId": "210a18dc-2bf2-408c-ed3e-518dc35f5e41"
      },
      "outputs": [
        {
          "data": {
            "text/html": [
              "<div>\n",
              "<style scoped>\n",
              "    .dataframe tbody tr th:only-of-type {\n",
              "        vertical-align: middle;\n",
              "    }\n",
              "\n",
              "    .dataframe tbody tr th {\n",
              "        vertical-align: top;\n",
              "    }\n",
              "\n",
              "    .dataframe thead th {\n",
              "        text-align: right;\n",
              "    }\n",
              "</style>\n",
              "<table border=\"1\" class=\"dataframe\">\n",
              "  <thead>\n",
              "    <tr style=\"text-align: right;\">\n",
              "      <th></th>\n",
              "      <th>Aspect</th>\n",
              "      <th>SentimentText</th>\n",
              "      <th>SentimentWord</th>\n",
              "      <th>SentimentPolarity</th>\n",
              "    </tr>\n",
              "  </thead>\n",
              "  <tbody>\n",
              "    <tr>\n",
              "      <th>0</th>\n",
              "      <td>기능</td>\n",
              "      <td>배도 편하게 눌러주고</td>\n",
              "      <td>3</td>\n",
              "      <td>1</td>\n",
              "    </tr>\n",
              "    <tr>\n",
              "      <th>1</th>\n",
              "      <td>길이</td>\n",
              "      <td>미디가 길어 편하다고</td>\n",
              "      <td>3</td>\n",
              "      <td>1</td>\n",
              "    </tr>\n",
              "    <tr>\n",
              "      <th>2</th>\n",
              "      <td>색상</td>\n",
              "      <td>다섯가지 색상 모두 이쁘네요</td>\n",
              "      <td>4</td>\n",
              "      <td>1</td>\n",
              "    </tr>\n",
              "    <tr>\n",
              "      <th>3</th>\n",
              "      <td>기능</td>\n",
              "      <td>입자마자 시원하고</td>\n",
              "      <td>2</td>\n",
              "      <td>1</td>\n",
              "    </tr>\n",
              "    <tr>\n",
              "      <th>4</th>\n",
              "      <td>기능</td>\n",
              "      <td>배 부분도 잘 잡아주고</td>\n",
              "      <td>4</td>\n",
              "      <td>1</td>\n",
              "    </tr>\n",
              "    <tr>\n",
              "      <th>...</th>\n",
              "      <td>...</td>\n",
              "      <td>...</td>\n",
              "      <td>...</td>\n",
              "      <td>...</td>\n",
              "    </tr>\n",
              "    <tr>\n",
              "      <th>15755</th>\n",
              "      <td>품질</td>\n",
              "      <td>품질 좋아요</td>\n",
              "      <td>2</td>\n",
              "      <td>1</td>\n",
              "    </tr>\n",
              "    <tr>\n",
              "      <th>15756</th>\n",
              "      <td>품질</td>\n",
              "      <td>우선 박음질이 허접합니다</td>\n",
              "      <td>3</td>\n",
              "      <td>-1</td>\n",
              "    </tr>\n",
              "    <tr>\n",
              "      <th>15757</th>\n",
              "      <td>색상</td>\n",
              "      <td>색상은 이뻐요</td>\n",
              "      <td>2</td>\n",
              "      <td>1</td>\n",
              "    </tr>\n",
              "    <tr>\n",
              "      <th>15758</th>\n",
              "      <td>품질</td>\n",
              "      <td>검정백은 지퍼가 뻑뻑해서 잘 안닫혀요</td>\n",
              "      <td>5</td>\n",
              "      <td>-1</td>\n",
              "    </tr>\n",
              "    <tr>\n",
              "      <th>15759</th>\n",
              "      <td>가격</td>\n",
              "      <td>프로 적립 아니였음 반품이였음</td>\n",
              "      <td>4</td>\n",
              "      <td>1</td>\n",
              "    </tr>\n",
              "  </tbody>\n",
              "</table>\n",
              "<p>15760 rows × 4 columns</p>\n",
              "</div>"
            ],
            "text/plain": [
              "      Aspect         SentimentText SentimentWord SentimentPolarity\n",
              "0         기능          배도 편하게 눌러주고              3                 1\n",
              "1         길이           미디가 길어 편하다고             3                 1\n",
              "2         색상       다섯가지 색상 모두 이쁘네요             4                 1\n",
              "3         기능             입자마자 시원하고             2                 1\n",
              "4         기능          배 부분도 잘 잡아주고             4                 1\n",
              "...      ...                   ...           ...               ...\n",
              "15755     품질                품질 좋아요             2                 1\n",
              "15756     품질         우선 박음질이 허접합니다             3                -1\n",
              "15757     색상              색상은 이뻐요              2                 1\n",
              "15758     품질  검정백은 지퍼가 뻑뻑해서 잘 안닫혀요             5                -1\n",
              "15759     가격      프로 적립 아니였음 반품이였음             4                 1\n",
              "\n",
              "[15760 rows x 4 columns]"
            ]
          },
          "execution_count": 21,
          "metadata": {},
          "output_type": "execute_result"
        }
      ],
      "source": [
        "val_fashionDF['SentimentText']=val_fashionDF['SentimentText'].apply(lambda x: m.sub(' ', x))\n",
        "val_fashionDF"
      ]
    },
    {
      "cell_type": "code",
      "execution_count": 22,
      "metadata": {
        "id": "hT27tk9xJr3t"
      },
      "outputs": [],
      "source": [
        "def build_vocab(corpus, n_vocab, special_tokens):\n",
        "    counter = Counter()\n",
        "    for tokens in corpus:\n",
        "        counter.update(tokens)\n",
        "    vocab = special_tokens\n",
        "\n",
        "    for token, count in counter.most_common(n_vocab):\n",
        "        vocab.append(token)\n",
        "\n",
        "    return vocab"
      ]
    },
    {
      "cell_type": "code",
      "execution_count": 24,
      "metadata": {
        "id": "sq7KcQzwJr3t"
      },
      "outputs": [],
      "source": [
        "stop_word='./stopwords.txt'\n",
        "\n",
        "with open(stop_word, 'r', encoding='utf-8') as f:\n",
        "    stop_words = [line.strip() for line in f]"
      ]
    },
    {
      "cell_type": "code",
      "execution_count": 25,
      "metadata": {
        "colab": {
          "base_uri": "https://localhost:8080/"
        },
        "id": "GdVtiVQ5Jr3t",
        "outputId": "79748af8-6af4-4a34-8467-8c34d8dd02d5"
      },
      "outputs": [
        {
          "name": "stdout",
          "output_type": "stream",
          "text": [
            "['<pad>', '<unk>', '가격', '사이즈', '디자인', '좋아요', '잘', '같아요', '색상', '품질']\n",
            "1720\n"
          ]
        }
      ],
      "source": [
        "tokenizer = Okt()\n",
        "\n",
        "train_tokens = [[token for token in tokenizer.morphs(text) if token not in stop_words] for text in train_fashionDF['SentimentText']]\n",
        "val_tokens = [[token for token in tokenizer.morphs(text) if token not in stop_words] for text in val_fashionDF['SentimentText']]\n",
        "\n",
        "\n",
        "vocab = build_vocab(corpus=train_tokens, n_vocab=20000, special_tokens=['<pad>','<unk>'])\n",
        "token_to_id = {token:idx for idx, token in enumerate(vocab)}\n",
        "id_to_token = {idx:token for idx, token in enumerate(vocab)}\n",
        "\n",
        "print(vocab[:10])\n",
        "print(len(vocab))"
      ]
    },
    {
      "cell_type": "code",
      "execution_count": 26,
      "metadata": {
        "colab": {
          "base_uri": "https://localhost:8080/"
        },
        "id": "InrVqgjhJr3t",
        "outputId": "428c43bf-d99f-418f-f284-4f1b91c0e83d"
      },
      "outputs": [
        {
          "data": {
            "text/plain": [
              "(13, 18)"
            ]
          },
          "execution_count": 26,
          "metadata": {},
          "output_type": "execute_result"
        }
      ],
      "source": [
        "len(max(train_tokens, key=len)), len(max(val_tokens, key=len))"
      ]
    },
    {
      "cell_type": "code",
      "execution_count": 27,
      "metadata": {
        "id": "sN_vVuGKJr3t"
      },
      "outputs": [],
      "source": [
        "def pad_sequences(sequences, max_length, pad_value):\n",
        "    result = list()\n",
        "    for sequence in sequences:\n",
        "        sequence = sequence[:max_length]\n",
        "        pad_length = max_length - len(sequence)\n",
        "        padded_sequence = sequence + [pad_value] * pad_length\n",
        "        result.append(padded_sequence)\n",
        "    return np.asarray(result)"
      ]
    },
    {
      "cell_type": "code",
      "execution_count": 28,
      "metadata": {
        "colab": {
          "base_uri": "https://localhost:8080/"
        },
        "id": "sNcPUHs8Jr3t",
        "outputId": "e2013909-c17c-4e48-ec64-2364172b41e2"
      },
      "outputs": [
        {
          "name": "stdout",
          "output_type": "stream",
          "text": [
            "[ 43 110   0   0   0   0   0   0   0   0   0   0   0   0   0   0   0   0]\n"
          ]
        }
      ],
      "source": [
        "unk_id = token_to_id[\"<unk>\"]\n",
        "train_ids = [[token_to_id.get(token, unk_id) for token in review] for review in train_tokens]\n",
        "val_ids = [[token_to_id.get(token, unk_id) for token in review] for review in val_tokens]\n",
        "\n",
        "max_length = 18\n",
        "pad_id = token_to_id['<pad>']\n",
        "train_ids = pad_sequences(train_ids, max_length, pad_id)\n",
        "val_ids = pad_sequences(val_ids, max_length, pad_id)\n",
        "\n",
        "print(train_ids[0])"
      ]
    },
    {
      "cell_type": "code",
      "execution_count": 29,
      "metadata": {
        "colab": {
          "base_uri": "https://localhost:8080/"
        },
        "id": "R98p7Vt3Jr3t",
        "outputId": "6bbb8b14-9dd8-4f7d-d9bd-e6f2c7856c66"
      },
      "outputs": [
        {
          "name": "stdout",
          "output_type": "stream",
          "text": [
            "[ 1 21  1  0  0  0  0  0  0  0  0  0  0  0  0  0  0  0]\n"
          ]
        }
      ],
      "source": [
        "print(val_ids[0])"
      ]
    },
    {
      "cell_type": "code",
      "execution_count": 96,
      "metadata": {
        "id": "-bqEo5vIJr3u"
      },
      "outputs": [],
      "source": []
    }
  ],
  "metadata": {
    "colab": {
      "provenance": []
    },
    "kernelspec": {
      "display_name": "TEXT_018_230_38",
      "language": "python",
      "name": "python3"
    },
    "language_info": {
      "codemirror_mode": {
        "name": "ipython",
        "version": 3
      },
      "file_extension": ".py",
      "mimetype": "text/x-python",
      "name": "python",
      "nbconvert_exporter": "python",
      "pygments_lexer": "ipython3",
      "version": "3.8.19"
    }
  },
  "nbformat": 4,
  "nbformat_minor": 0
}
