{
 "cells": [
  {
   "cell_type": "markdown",
   "metadata": {},
   "source": [
    "[클래스와 인스턴스]"
   ]
  },
  {
   "cell_type": "code",
   "execution_count": 1,
   "metadata": {},
   "outputs": [],
   "source": [
    "#임시 데이터 생성\n",
    "import random"
   ]
  },
  {
   "cell_type": "code",
   "execution_count": 18,
   "metadata": {},
   "outputs": [],
   "source": [
    "random.seed(10)\n",
    "\n",
    "data=[]\n",
    "for i in range(30):\n",
    "    data.append([random.randint(1,10)])"
   ]
  },
  {
   "cell_type": "code",
   "execution_count": 19,
   "metadata": {},
   "outputs": [
    {
     "data": {
      "text/plain": [
       "[[10],\n",
       " [1],\n",
       " [7],\n",
       " [8],\n",
       " [10],\n",
       " [1],\n",
       " [4],\n",
       " [8],\n",
       " [8],\n",
       " [5],\n",
       " [3],\n",
       " [1],\n",
       " [9],\n",
       " [8],\n",
       " [6],\n",
       " [2],\n",
       " [4],\n",
       " [6],\n",
       " [1],\n",
       " [7],\n",
       " [3],\n",
       " [10],\n",
       " [6],\n",
       " [7],\n",
       " [7],\n",
       " [5],\n",
       " [5],\n",
       " [8],\n",
       " [3],\n",
       " [5]]"
      ]
     },
     "execution_count": 19,
     "metadata": {},
     "output_type": "execute_result"
    }
   ],
   "source": [
    "data"
   ]
  },
  {
   "cell_type": "code",
   "execution_count": 20,
   "metadata": {},
   "outputs": [
    {
     "data": {
      "text/plain": [
       "([1], 10)"
      ]
     },
     "execution_count": 20,
     "metadata": {},
     "output_type": "execute_result"
    }
   ],
   "source": [
    "# 스케일러 fit( ) 하면 이거랑 같음\n",
    "min(data), max(data)[0]"
   ]
  },
  {
   "cell_type": "code",
   "execution_count": 21,
   "metadata": {},
   "outputs": [
    {
     "data": {
      "text/plain": [
       "[1.0,\n",
       " 0.1,\n",
       " 0.7,\n",
       " 0.8,\n",
       " 1.0,\n",
       " 0.1,\n",
       " 0.4,\n",
       " 0.8,\n",
       " 0.8,\n",
       " 0.5,\n",
       " 0.3,\n",
       " 0.1,\n",
       " 0.9,\n",
       " 0.8,\n",
       " 0.6,\n",
       " 0.2,\n",
       " 0.4,\n",
       " 0.6,\n",
       " 0.1,\n",
       " 0.7,\n",
       " 0.3,\n",
       " 1.0,\n",
       " 0.6,\n",
       " 0.7,\n",
       " 0.7,\n",
       " 0.5,\n",
       " 0.5,\n",
       " 0.8,\n",
       " 0.3,\n",
       " 0.5]"
      ]
     },
     "execution_count": 21,
     "metadata": {},
     "output_type": "execute_result"
    }
   ],
   "source": [
    "#0~1 사이의 값으로 변환 => 스케일러 transform( )하면 이거랑 같음\n",
    "result=[d[0]/max(data)[0] for d in data]\n",
    "result"
   ]
  },
  {
   "cell_type": "code",
   "execution_count": 22,
   "metadata": {},
   "outputs": [
    {
     "data": {
      "text/plain": [
       "(0.1, 1.0)"
      ]
     },
     "execution_count": 22,
     "metadata": {},
     "output_type": "execute_result"
    }
   ],
   "source": [
    "min(result), max(result)"
   ]
  },
  {
   "cell_type": "code",
   "execution_count": null,
   "metadata": {},
   "outputs": [],
   "source": []
  }
 ],
 "metadata": {
  "kernelspec": {
   "display_name": "ML_38",
   "language": "python",
   "name": "python3"
  },
  "language_info": {
   "codemirror_mode": {
    "name": "ipython",
    "version": 3
   },
   "file_extension": ".py",
   "mimetype": "text/x-python",
   "name": "python",
   "nbconvert_exporter": "python",
   "pygments_lexer": "ipython3",
   "version": "3.8.19"
  }
 },
 "nbformat": 4,
 "nbformat_minor": 2
}
