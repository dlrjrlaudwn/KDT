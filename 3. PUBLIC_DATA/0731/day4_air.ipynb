{
  "nbformat": 4,
  "nbformat_minor": 0,
  "metadata": {
    "colab": {
      "provenance": []
    },
    "kernelspec": {
      "name": "python3",
      "display_name": "Python 3"
    },
    "language_info": {
      "name": "python"
    }
  },
  "cells": [
    {
      "cell_type": "markdown",
      "source": [
        "미세먼지 데이터 확인"
      ],
      "metadata": {
        "id": "_s79OpH8MQBq"
      }
    },
    {
      "cell_type": "code",
      "execution_count": null,
      "metadata": {
        "id": "rjTyN7o6FZcR"
      },
      "outputs": [],
      "source": [
        "import pandas as pd\n",
        "from tabulate import tabulate"
      ]
    },
    {
      "cell_type": "code",
      "source": [
        "dust=pd.read_excel('dust.xlsx')"
      ],
      "metadata": {
        "id": "OmLj5fjAL-o4"
      },
      "execution_count": null,
      "outputs": []
    },
    {
      "cell_type": "code",
      "source": [
        "print(dust.head())\n",
        "print(tabulate(dust.head(),headers='keys', tablefmt='pretty'))"
      ],
      "metadata": {
        "colab": {
          "base_uri": "https://localhost:8080/"
        },
        "id": "xM_0SynpMEKG",
        "outputId": "b9a4512d-72a9-44df-863f-8bb2d678443d"
      },
      "execution_count": null,
      "outputs": [
        {
          "output_type": "stream",
          "name": "stdout",
          "text": [
            "              날짜   아황산가스  일산화탄소      오존   이산화질소  PM10  PM2.5\n",
            "0  2023-12-01 01  0.0029   0.31  0.0296  0.0114  18.0    9.0\n",
            "1  2023-12-01 02  0.0026   0.33  0.0314  0.0089  17.0    8.0\n",
            "2  2023-12-01 03  0.0026   0.34  0.0298  0.0096  20.0    9.0\n",
            "3  2023-12-01 04  0.0024   0.34  0.0265  0.0125  18.0    9.0\n",
            "4  2023-12-01 05  0.0023   0.33  0.0270  0.0126  19.0   10.0\n",
            "+---+---------------+------------+------------+--------+------------+------+-------+\n",
            "|   |     날짜      | 아황산가스 | 일산화탄소 |  오존  | 이산화질소 | PM10 | PM2.5 |\n",
            "+---+---------------+------------+------------+--------+------------+------+-------+\n",
            "| 0 | 2023-12-01 01 |   0.0029   |    0.31    | 0.0296 |   0.0114   | 18.0 |  9.0  |\n",
            "| 1 | 2023-12-01 02 |   0.0026   |    0.33    | 0.0314 |   0.0089   | 17.0 |  8.0  |\n",
            "| 2 | 2023-12-01 03 |   0.0026   |    0.34    | 0.0298 |   0.0096   | 20.0 |  9.0  |\n",
            "| 3 | 2023-12-01 04 |   0.0024   |    0.34    | 0.0265 |   0.0125   | 18.0 |  9.0  |\n",
            "| 4 | 2023-12-01 05 |   0.0023   |    0.33    | 0.027  |   0.0126   | 19.0 | 10.0  |\n",
            "+---+---------------+------------+------------+--------+------------+------+-------+\n"
          ]
        }
      ]
    },
    {
      "cell_type": "code",
      "source": [
        "print(dust.info())"
      ],
      "metadata": {
        "colab": {
          "base_uri": "https://localhost:8080/"
        },
        "id": "a1UHiyllMPXU",
        "outputId": "bc1bc90b-99e5-45b5-d52f-e3cf4515df31"
      },
      "execution_count": null,
      "outputs": [
        {
          "output_type": "stream",
          "name": "stdout",
          "text": [
            "<class 'pandas.core.frame.DataFrame'>\n",
            "RangeIndex: 744 entries, 0 to 743\n",
            "Data columns (total 7 columns):\n",
            " #   Column  Non-Null Count  Dtype  \n",
            "---  ------  --------------  -----  \n",
            " 0   날짜      744 non-null    object \n",
            " 1   아황산가스   740 non-null    float64\n",
            " 2   일산화탄소   740 non-null    float64\n",
            " 3   오존      740 non-null    float64\n",
            " 4   이산화질소   740 non-null    float64\n",
            " 5   PM10    737 non-null    float64\n",
            " 6   PM2.5   740 non-null    float64\n",
            "dtypes: float64(6), object(1)\n",
            "memory usage: 40.8+ KB\n",
            "None\n"
          ]
        }
      ]
    },
    {
      "cell_type": "markdown",
      "source": [
        "미세먼지 데이터 가공: 컬럼 이름 변경"
      ],
      "metadata": {
        "id": "PDSd7MCaMaTx"
      }
    },
    {
      "cell_type": "code",
      "source": [
        "dust.rename(columns={'날짜':'date','아황산가스':'so2','일산화탄소':'co','오존':'o3',\n",
        "                     '이산화질소':'no2'},inplace=True)\n",
        "\n",
        "print(tabulate(dust.head(),headers='keys',tablefmt='psql'))"
      ],
      "metadata": {
        "colab": {
          "base_uri": "https://localhost:8080/"
        },
        "id": "XJXe2omBMYat",
        "outputId": "ee903de2-a94c-40fe-be13-f91fa8376f43"
      },
      "execution_count": null,
      "outputs": [
        {
          "output_type": "stream",
          "name": "stdout",
          "text": [
            "+----+---------------+--------+------+--------+--------+--------+---------+\n",
            "|    | date          |    so2 |   co |     o3 |    no2 |   PM10 |   PM2.5 |\n",
            "|----+---------------+--------+------+--------+--------+--------+---------|\n",
            "|  0 | 2023-12-01 01 | 0.0029 | 0.31 | 0.0296 | 0.0114 |     18 |       9 |\n",
            "|  1 | 2023-12-01 02 | 0.0026 | 0.33 | 0.0314 | 0.0089 |     17 |       8 |\n",
            "|  2 | 2023-12-01 03 | 0.0026 | 0.34 | 0.0298 | 0.0096 |     20 |       9 |\n",
            "|  3 | 2023-12-01 04 | 0.0024 | 0.34 | 0.0265 | 0.0125 |     18 |       9 |\n",
            "|  4 | 2023-12-01 05 | 0.0023 | 0.33 | 0.027  | 0.0126 |     19 |      10 |\n",
            "+----+---------------+--------+------+--------+--------+--------+---------+\n"
          ]
        }
      ]
    },
    {
      "cell_type": "markdown",
      "source": [
        "미세먼지 데이터 가공: 날짜 데이터 변경"
      ],
      "metadata": {
        "id": "fR9ABhIyNpzg"
      }
    },
    {
      "cell_type": "code",
      "source": [
        "dust['date']=dust['date'].str[:10]\n",
        "print(tabulate(dust.head(),headers='keys',tablefmt='psql'))"
      ],
      "metadata": {
        "colab": {
          "base_uri": "https://localhost:8080/"
        },
        "id": "kCP1vEGBNoAD",
        "outputId": "0992f27b-1949-4a34-9000-ac03d4961714"
      },
      "execution_count": null,
      "outputs": [
        {
          "output_type": "stream",
          "name": "stdout",
          "text": [
            "+----+------------+--------+------+--------+--------+--------+---------+\n",
            "|    | date       |    so2 |   co |     o3 |    no2 |   PM10 |   PM2.5 |\n",
            "|----+------------+--------+------+--------+--------+--------+---------|\n",
            "|  0 | 2023-12-01 | 0.0029 | 0.31 | 0.0296 | 0.0114 |     18 |       9 |\n",
            "|  1 | 2023-12-01 | 0.0026 | 0.33 | 0.0314 | 0.0089 |     17 |       8 |\n",
            "|  2 | 2023-12-01 | 0.0026 | 0.34 | 0.0298 | 0.0096 |     20 |       9 |\n",
            "|  3 | 2023-12-01 | 0.0024 | 0.34 | 0.0265 | 0.0125 |     18 |       9 |\n",
            "|  4 | 2023-12-01 | 0.0023 | 0.33 | 0.027  | 0.0126 |     19 |      10 |\n",
            "+----+------------+--------+------+--------+--------+--------+---------+\n"
          ]
        }
      ]
    },
    {
      "cell_type": "markdown",
      "source": [
        "미세먼지 데이터 가공; 날짜 자료형 변경"
      ],
      "metadata": {
        "id": "v1-jKes_N65K"
      }
    },
    {
      "cell_type": "code",
      "source": [
        "dust['date']=pd.to_datetime(dust['date'])\n",
        "print(dust.dtypes)"
      ],
      "metadata": {
        "colab": {
          "base_uri": "https://localhost:8080/"
        },
        "id": "G7udTUStN4hT",
        "outputId": "334a7ff9-a833-467d-dc5e-990d0178f896"
      },
      "execution_count": null,
      "outputs": [
        {
          "output_type": "stream",
          "name": "stdout",
          "text": [
            "date     datetime64[ns]\n",
            "so2             float64\n",
            "co              float64\n",
            "o3              float64\n",
            "no2             float64\n",
            "PM10            float64\n",
            "PM2.5           float64\n",
            "dtype: object\n"
          ]
        }
      ]
    },
    {
      "cell_type": "markdown",
      "source": [
        "미세먼지 데이터 가공: 컬럼 순서 변경"
      ],
      "metadata": {
        "id": "fPQv4VxvOPbY"
      }
    },
    {
      "cell_type": "code",
      "source": [
        "dust['year']=dust['date'].dt.year\n",
        "dust['month']=dust['date'].dt.month\n",
        "dust['day']=dust['date'].dt.day\n",
        "print(dust.columns)\n",
        "dust"
      ],
      "metadata": {
        "colab": {
          "base_uri": "https://localhost:8080/",
          "height": 479
        },
        "id": "KrcIVWPXON49",
        "outputId": "8e8db7d6-1431-494c-e28e-568ca67e677c"
      },
      "execution_count": null,
      "outputs": [
        {
          "output_type": "stream",
          "name": "stdout",
          "text": [
            "Index(['date', 'year', 'month', 'day', 'so2', 'co', 'o3', 'no2', 'PM10',\n",
            "       'PM2.5'],\n",
            "      dtype='object')\n"
          ]
        },
        {
          "output_type": "execute_result",
          "data": {
            "text/plain": [
              "          date  year  month  day     so2    co      o3     no2  PM10  PM2.5\n",
              "0   2023-12-01  2023     12    1  0.0029  0.31  0.0296  0.0114  18.0    9.0\n",
              "1   2023-12-01  2023     12    1  0.0026  0.33  0.0314  0.0089  17.0    8.0\n",
              "2   2023-12-01  2023     12    1  0.0026  0.34  0.0298  0.0096  20.0    9.0\n",
              "3   2023-12-01  2023     12    1  0.0024  0.34  0.0265  0.0125  18.0    9.0\n",
              "4   2023-12-01  2023     12    1  0.0023  0.33  0.0270  0.0126  19.0   10.0\n",
              "..         ...   ...    ...  ...     ...   ...     ...     ...   ...    ...\n",
              "739 2023-12-31  2023     12   31  0.0031  0.75  0.0096  0.0390  28.0   24.0\n",
              "740 2023-12-31  2023     12   31  0.0026  0.77  0.0088  0.0400  35.0   30.0\n",
              "741 2023-12-31  2023     12   31  0.0029  0.74  0.0086  0.0387  32.0   26.0\n",
              "742 2023-12-31  2023     12   31  0.0031  0.86  0.0034  0.0417  33.0   30.0\n",
              "743 2023-12-31  2023     12   31  0.0031  0.92  0.0021  0.0394  28.0   23.0\n",
              "\n",
              "[744 rows x 10 columns]"
            ],
            "text/html": [
              "\n",
              "  <div id=\"df-c28822a4-f884-44b7-b3b9-ee038642c3e0\" class=\"colab-df-container\">\n",
              "    <div>\n",
              "<style scoped>\n",
              "    .dataframe tbody tr th:only-of-type {\n",
              "        vertical-align: middle;\n",
              "    }\n",
              "\n",
              "    .dataframe tbody tr th {\n",
              "        vertical-align: top;\n",
              "    }\n",
              "\n",
              "    .dataframe thead th {\n",
              "        text-align: right;\n",
              "    }\n",
              "</style>\n",
              "<table border=\"1\" class=\"dataframe\">\n",
              "  <thead>\n",
              "    <tr style=\"text-align: right;\">\n",
              "      <th></th>\n",
              "      <th>date</th>\n",
              "      <th>year</th>\n",
              "      <th>month</th>\n",
              "      <th>day</th>\n",
              "      <th>so2</th>\n",
              "      <th>co</th>\n",
              "      <th>o3</th>\n",
              "      <th>no2</th>\n",
              "      <th>PM10</th>\n",
              "      <th>PM2.5</th>\n",
              "    </tr>\n",
              "  </thead>\n",
              "  <tbody>\n",
              "    <tr>\n",
              "      <th>0</th>\n",
              "      <td>2023-12-01</td>\n",
              "      <td>2023</td>\n",
              "      <td>12</td>\n",
              "      <td>1</td>\n",
              "      <td>0.0029</td>\n",
              "      <td>0.31</td>\n",
              "      <td>0.0296</td>\n",
              "      <td>0.0114</td>\n",
              "      <td>18.0</td>\n",
              "      <td>9.0</td>\n",
              "    </tr>\n",
              "    <tr>\n",
              "      <th>1</th>\n",
              "      <td>2023-12-01</td>\n",
              "      <td>2023</td>\n",
              "      <td>12</td>\n",
              "      <td>1</td>\n",
              "      <td>0.0026</td>\n",
              "      <td>0.33</td>\n",
              "      <td>0.0314</td>\n",
              "      <td>0.0089</td>\n",
              "      <td>17.0</td>\n",
              "      <td>8.0</td>\n",
              "    </tr>\n",
              "    <tr>\n",
              "      <th>2</th>\n",
              "      <td>2023-12-01</td>\n",
              "      <td>2023</td>\n",
              "      <td>12</td>\n",
              "      <td>1</td>\n",
              "      <td>0.0026</td>\n",
              "      <td>0.34</td>\n",
              "      <td>0.0298</td>\n",
              "      <td>0.0096</td>\n",
              "      <td>20.0</td>\n",
              "      <td>9.0</td>\n",
              "    </tr>\n",
              "    <tr>\n",
              "      <th>3</th>\n",
              "      <td>2023-12-01</td>\n",
              "      <td>2023</td>\n",
              "      <td>12</td>\n",
              "      <td>1</td>\n",
              "      <td>0.0024</td>\n",
              "      <td>0.34</td>\n",
              "      <td>0.0265</td>\n",
              "      <td>0.0125</td>\n",
              "      <td>18.0</td>\n",
              "      <td>9.0</td>\n",
              "    </tr>\n",
              "    <tr>\n",
              "      <th>4</th>\n",
              "      <td>2023-12-01</td>\n",
              "      <td>2023</td>\n",
              "      <td>12</td>\n",
              "      <td>1</td>\n",
              "      <td>0.0023</td>\n",
              "      <td>0.33</td>\n",
              "      <td>0.0270</td>\n",
              "      <td>0.0126</td>\n",
              "      <td>19.0</td>\n",
              "      <td>10.0</td>\n",
              "    </tr>\n",
              "    <tr>\n",
              "      <th>...</th>\n",
              "      <td>...</td>\n",
              "      <td>...</td>\n",
              "      <td>...</td>\n",
              "      <td>...</td>\n",
              "      <td>...</td>\n",
              "      <td>...</td>\n",
              "      <td>...</td>\n",
              "      <td>...</td>\n",
              "      <td>...</td>\n",
              "      <td>...</td>\n",
              "    </tr>\n",
              "    <tr>\n",
              "      <th>739</th>\n",
              "      <td>2023-12-31</td>\n",
              "      <td>2023</td>\n",
              "      <td>12</td>\n",
              "      <td>31</td>\n",
              "      <td>0.0031</td>\n",
              "      <td>0.75</td>\n",
              "      <td>0.0096</td>\n",
              "      <td>0.0390</td>\n",
              "      <td>28.0</td>\n",
              "      <td>24.0</td>\n",
              "    </tr>\n",
              "    <tr>\n",
              "      <th>740</th>\n",
              "      <td>2023-12-31</td>\n",
              "      <td>2023</td>\n",
              "      <td>12</td>\n",
              "      <td>31</td>\n",
              "      <td>0.0026</td>\n",
              "      <td>0.77</td>\n",
              "      <td>0.0088</td>\n",
              "      <td>0.0400</td>\n",
              "      <td>35.0</td>\n",
              "      <td>30.0</td>\n",
              "    </tr>\n",
              "    <tr>\n",
              "      <th>741</th>\n",
              "      <td>2023-12-31</td>\n",
              "      <td>2023</td>\n",
              "      <td>12</td>\n",
              "      <td>31</td>\n",
              "      <td>0.0029</td>\n",
              "      <td>0.74</td>\n",
              "      <td>0.0086</td>\n",
              "      <td>0.0387</td>\n",
              "      <td>32.0</td>\n",
              "      <td>26.0</td>\n",
              "    </tr>\n",
              "    <tr>\n",
              "      <th>742</th>\n",
              "      <td>2023-12-31</td>\n",
              "      <td>2023</td>\n",
              "      <td>12</td>\n",
              "      <td>31</td>\n",
              "      <td>0.0031</td>\n",
              "      <td>0.86</td>\n",
              "      <td>0.0034</td>\n",
              "      <td>0.0417</td>\n",
              "      <td>33.0</td>\n",
              "      <td>30.0</td>\n",
              "    </tr>\n",
              "    <tr>\n",
              "      <th>743</th>\n",
              "      <td>2023-12-31</td>\n",
              "      <td>2023</td>\n",
              "      <td>12</td>\n",
              "      <td>31</td>\n",
              "      <td>0.0031</td>\n",
              "      <td>0.92</td>\n",
              "      <td>0.0021</td>\n",
              "      <td>0.0394</td>\n",
              "      <td>28.0</td>\n",
              "      <td>23.0</td>\n",
              "    </tr>\n",
              "  </tbody>\n",
              "</table>\n",
              "<p>744 rows × 10 columns</p>\n",
              "</div>\n",
              "    <div class=\"colab-df-buttons\">\n",
              "\n",
              "  <div class=\"colab-df-container\">\n",
              "    <button class=\"colab-df-convert\" onclick=\"convertToInteractive('df-c28822a4-f884-44b7-b3b9-ee038642c3e0')\"\n",
              "            title=\"Convert this dataframe to an interactive table.\"\n",
              "            style=\"display:none;\">\n",
              "\n",
              "  <svg xmlns=\"http://www.w3.org/2000/svg\" height=\"24px\" viewBox=\"0 -960 960 960\">\n",
              "    <path d=\"M120-120v-720h720v720H120Zm60-500h600v-160H180v160Zm220 220h160v-160H400v160Zm0 220h160v-160H400v160ZM180-400h160v-160H180v160Zm440 0h160v-160H620v160ZM180-180h160v-160H180v160Zm440 0h160v-160H620v160Z\"/>\n",
              "  </svg>\n",
              "    </button>\n",
              "\n",
              "  <style>\n",
              "    .colab-df-container {\n",
              "      display:flex;\n",
              "      gap: 12px;\n",
              "    }\n",
              "\n",
              "    .colab-df-convert {\n",
              "      background-color: #E8F0FE;\n",
              "      border: none;\n",
              "      border-radius: 50%;\n",
              "      cursor: pointer;\n",
              "      display: none;\n",
              "      fill: #1967D2;\n",
              "      height: 32px;\n",
              "      padding: 0 0 0 0;\n",
              "      width: 32px;\n",
              "    }\n",
              "\n",
              "    .colab-df-convert:hover {\n",
              "      background-color: #E2EBFA;\n",
              "      box-shadow: 0px 1px 2px rgba(60, 64, 67, 0.3), 0px 1px 3px 1px rgba(60, 64, 67, 0.15);\n",
              "      fill: #174EA6;\n",
              "    }\n",
              "\n",
              "    .colab-df-buttons div {\n",
              "      margin-bottom: 4px;\n",
              "    }\n",
              "\n",
              "    [theme=dark] .colab-df-convert {\n",
              "      background-color: #3B4455;\n",
              "      fill: #D2E3FC;\n",
              "    }\n",
              "\n",
              "    [theme=dark] .colab-df-convert:hover {\n",
              "      background-color: #434B5C;\n",
              "      box-shadow: 0px 1px 3px 1px rgba(0, 0, 0, 0.15);\n",
              "      filter: drop-shadow(0px 1px 2px rgba(0, 0, 0, 0.3));\n",
              "      fill: #FFFFFF;\n",
              "    }\n",
              "  </style>\n",
              "\n",
              "    <script>\n",
              "      const buttonEl =\n",
              "        document.querySelector('#df-c28822a4-f884-44b7-b3b9-ee038642c3e0 button.colab-df-convert');\n",
              "      buttonEl.style.display =\n",
              "        google.colab.kernel.accessAllowed ? 'block' : 'none';\n",
              "\n",
              "      async function convertToInteractive(key) {\n",
              "        const element = document.querySelector('#df-c28822a4-f884-44b7-b3b9-ee038642c3e0');\n",
              "        const dataTable =\n",
              "          await google.colab.kernel.invokeFunction('convertToInteractive',\n",
              "                                                    [key], {});\n",
              "        if (!dataTable) return;\n",
              "\n",
              "        const docLinkHtml = 'Like what you see? Visit the ' +\n",
              "          '<a target=\"_blank\" href=https://colab.research.google.com/notebooks/data_table.ipynb>data table notebook</a>'\n",
              "          + ' to learn more about interactive tables.';\n",
              "        element.innerHTML = '';\n",
              "        dataTable['output_type'] = 'display_data';\n",
              "        await google.colab.output.renderOutput(dataTable, element);\n",
              "        const docLink = document.createElement('div');\n",
              "        docLink.innerHTML = docLinkHtml;\n",
              "        element.appendChild(docLink);\n",
              "      }\n",
              "    </script>\n",
              "  </div>\n",
              "\n",
              "\n",
              "<div id=\"df-84817af7-daa9-4158-a6b8-21786850bb22\">\n",
              "  <button class=\"colab-df-quickchart\" onclick=\"quickchart('df-84817af7-daa9-4158-a6b8-21786850bb22')\"\n",
              "            title=\"Suggest charts\"\n",
              "            style=\"display:none;\">\n",
              "\n",
              "<svg xmlns=\"http://www.w3.org/2000/svg\" height=\"24px\"viewBox=\"0 0 24 24\"\n",
              "     width=\"24px\">\n",
              "    <g>\n",
              "        <path d=\"M19 3H5c-1.1 0-2 .9-2 2v14c0 1.1.9 2 2 2h14c1.1 0 2-.9 2-2V5c0-1.1-.9-2-2-2zM9 17H7v-7h2v7zm4 0h-2V7h2v10zm4 0h-2v-4h2v4z\"/>\n",
              "    </g>\n",
              "</svg>\n",
              "  </button>\n",
              "\n",
              "<style>\n",
              "  .colab-df-quickchart {\n",
              "      --bg-color: #E8F0FE;\n",
              "      --fill-color: #1967D2;\n",
              "      --hover-bg-color: #E2EBFA;\n",
              "      --hover-fill-color: #174EA6;\n",
              "      --disabled-fill-color: #AAA;\n",
              "      --disabled-bg-color: #DDD;\n",
              "  }\n",
              "\n",
              "  [theme=dark] .colab-df-quickchart {\n",
              "      --bg-color: #3B4455;\n",
              "      --fill-color: #D2E3FC;\n",
              "      --hover-bg-color: #434B5C;\n",
              "      --hover-fill-color: #FFFFFF;\n",
              "      --disabled-bg-color: #3B4455;\n",
              "      --disabled-fill-color: #666;\n",
              "  }\n",
              "\n",
              "  .colab-df-quickchart {\n",
              "    background-color: var(--bg-color);\n",
              "    border: none;\n",
              "    border-radius: 50%;\n",
              "    cursor: pointer;\n",
              "    display: none;\n",
              "    fill: var(--fill-color);\n",
              "    height: 32px;\n",
              "    padding: 0;\n",
              "    width: 32px;\n",
              "  }\n",
              "\n",
              "  .colab-df-quickchart:hover {\n",
              "    background-color: var(--hover-bg-color);\n",
              "    box-shadow: 0 1px 2px rgba(60, 64, 67, 0.3), 0 1px 3px 1px rgba(60, 64, 67, 0.15);\n",
              "    fill: var(--button-hover-fill-color);\n",
              "  }\n",
              "\n",
              "  .colab-df-quickchart-complete:disabled,\n",
              "  .colab-df-quickchart-complete:disabled:hover {\n",
              "    background-color: var(--disabled-bg-color);\n",
              "    fill: var(--disabled-fill-color);\n",
              "    box-shadow: none;\n",
              "  }\n",
              "\n",
              "  .colab-df-spinner {\n",
              "    border: 2px solid var(--fill-color);\n",
              "    border-color: transparent;\n",
              "    border-bottom-color: var(--fill-color);\n",
              "    animation:\n",
              "      spin 1s steps(1) infinite;\n",
              "  }\n",
              "\n",
              "  @keyframes spin {\n",
              "    0% {\n",
              "      border-color: transparent;\n",
              "      border-bottom-color: var(--fill-color);\n",
              "      border-left-color: var(--fill-color);\n",
              "    }\n",
              "    20% {\n",
              "      border-color: transparent;\n",
              "      border-left-color: var(--fill-color);\n",
              "      border-top-color: var(--fill-color);\n",
              "    }\n",
              "    30% {\n",
              "      border-color: transparent;\n",
              "      border-left-color: var(--fill-color);\n",
              "      border-top-color: var(--fill-color);\n",
              "      border-right-color: var(--fill-color);\n",
              "    }\n",
              "    40% {\n",
              "      border-color: transparent;\n",
              "      border-right-color: var(--fill-color);\n",
              "      border-top-color: var(--fill-color);\n",
              "    }\n",
              "    60% {\n",
              "      border-color: transparent;\n",
              "      border-right-color: var(--fill-color);\n",
              "    }\n",
              "    80% {\n",
              "      border-color: transparent;\n",
              "      border-right-color: var(--fill-color);\n",
              "      border-bottom-color: var(--fill-color);\n",
              "    }\n",
              "    90% {\n",
              "      border-color: transparent;\n",
              "      border-bottom-color: var(--fill-color);\n",
              "    }\n",
              "  }\n",
              "</style>\n",
              "\n",
              "  <script>\n",
              "    async function quickchart(key) {\n",
              "      const quickchartButtonEl =\n",
              "        document.querySelector('#' + key + ' button');\n",
              "      quickchartButtonEl.disabled = true;  // To prevent multiple clicks.\n",
              "      quickchartButtonEl.classList.add('colab-df-spinner');\n",
              "      try {\n",
              "        const charts = await google.colab.kernel.invokeFunction(\n",
              "            'suggestCharts', [key], {});\n",
              "      } catch (error) {\n",
              "        console.error('Error during call to suggestCharts:', error);\n",
              "      }\n",
              "      quickchartButtonEl.classList.remove('colab-df-spinner');\n",
              "      quickchartButtonEl.classList.add('colab-df-quickchart-complete');\n",
              "    }\n",
              "    (() => {\n",
              "      let quickchartButtonEl =\n",
              "        document.querySelector('#df-84817af7-daa9-4158-a6b8-21786850bb22 button');\n",
              "      quickchartButtonEl.style.display =\n",
              "        google.colab.kernel.accessAllowed ? 'block' : 'none';\n",
              "    })();\n",
              "  </script>\n",
              "</div>\n",
              "\n",
              "  <div id=\"id_de375de3-bd3b-4f79-9312-ec927c1e45a0\">\n",
              "    <style>\n",
              "      .colab-df-generate {\n",
              "        background-color: #E8F0FE;\n",
              "        border: none;\n",
              "        border-radius: 50%;\n",
              "        cursor: pointer;\n",
              "        display: none;\n",
              "        fill: #1967D2;\n",
              "        height: 32px;\n",
              "        padding: 0 0 0 0;\n",
              "        width: 32px;\n",
              "      }\n",
              "\n",
              "      .colab-df-generate:hover {\n",
              "        background-color: #E2EBFA;\n",
              "        box-shadow: 0px 1px 2px rgba(60, 64, 67, 0.3), 0px 1px 3px 1px rgba(60, 64, 67, 0.15);\n",
              "        fill: #174EA6;\n",
              "      }\n",
              "\n",
              "      [theme=dark] .colab-df-generate {\n",
              "        background-color: #3B4455;\n",
              "        fill: #D2E3FC;\n",
              "      }\n",
              "\n",
              "      [theme=dark] .colab-df-generate:hover {\n",
              "        background-color: #434B5C;\n",
              "        box-shadow: 0px 1px 3px 1px rgba(0, 0, 0, 0.15);\n",
              "        filter: drop-shadow(0px 1px 2px rgba(0, 0, 0, 0.3));\n",
              "        fill: #FFFFFF;\n",
              "      }\n",
              "    </style>\n",
              "    <button class=\"colab-df-generate\" onclick=\"generateWithVariable('dust')\"\n",
              "            title=\"Generate code using this dataframe.\"\n",
              "            style=\"display:none;\">\n",
              "\n",
              "  <svg xmlns=\"http://www.w3.org/2000/svg\" height=\"24px\"viewBox=\"0 0 24 24\"\n",
              "       width=\"24px\">\n",
              "    <path d=\"M7,19H8.4L18.45,9,17,7.55,7,17.6ZM5,21V16.75L18.45,3.32a2,2,0,0,1,2.83,0l1.4,1.43a1.91,1.91,0,0,1,.58,1.4,1.91,1.91,0,0,1-.58,1.4L9.25,21ZM18.45,9,17,7.55Zm-12,3A5.31,5.31,0,0,0,4.9,8.1,5.31,5.31,0,0,0,1,6.5,5.31,5.31,0,0,0,4.9,4.9,5.31,5.31,0,0,0,6.5,1,5.31,5.31,0,0,0,8.1,4.9,5.31,5.31,0,0,0,12,6.5,5.46,5.46,0,0,0,6.5,12Z\"/>\n",
              "  </svg>\n",
              "    </button>\n",
              "    <script>\n",
              "      (() => {\n",
              "      const buttonEl =\n",
              "        document.querySelector('#id_de375de3-bd3b-4f79-9312-ec927c1e45a0 button.colab-df-generate');\n",
              "      buttonEl.style.display =\n",
              "        google.colab.kernel.accessAllowed ? 'block' : 'none';\n",
              "\n",
              "      buttonEl.onclick = () => {\n",
              "        google.colab.notebook.generateWithVariable('dust');\n",
              "      }\n",
              "      })();\n",
              "    </script>\n",
              "  </div>\n",
              "\n",
              "    </div>\n",
              "  </div>\n"
            ],
            "application/vnd.google.colaboratory.intrinsic+json": {
              "type": "dataframe",
              "variable_name": "dust",
              "summary": "{\n  \"name\": \"dust\",\n  \"rows\": 744,\n  \"fields\": [\n    {\n      \"column\": \"date\",\n      \"properties\": {\n        \"dtype\": \"date\",\n        \"min\": \"2023-12-01 00:00:00\",\n        \"max\": \"2023-12-31 00:00:00\",\n        \"num_unique_values\": 31,\n        \"samples\": [\n          \"2023-12-28 00:00:00\",\n          \"2023-12-16 00:00:00\",\n          \"2023-12-24 00:00:00\"\n        ],\n        \"semantic_type\": \"\",\n        \"description\": \"\"\n      }\n    },\n    {\n      \"column\": \"year\",\n      \"properties\": {\n        \"dtype\": \"int32\",\n        \"num_unique_values\": 1,\n        \"samples\": [\n          2023\n        ],\n        \"semantic_type\": \"\",\n        \"description\": \"\"\n      }\n    },\n    {\n      \"column\": \"month\",\n      \"properties\": {\n        \"dtype\": \"int32\",\n        \"num_unique_values\": 1,\n        \"samples\": [\n          12\n        ],\n        \"semantic_type\": \"\",\n        \"description\": \"\"\n      }\n    },\n    {\n      \"column\": \"day\",\n      \"properties\": {\n        \"dtype\": \"int32\",\n        \"num_unique_values\": 31,\n        \"samples\": [\n          28\n        ],\n        \"semantic_type\": \"\",\n        \"description\": \"\"\n      }\n    },\n    {\n      \"column\": \"so2\",\n      \"properties\": {\n        \"dtype\": \"number\",\n        \"std\": 0.000546602985299218,\n        \"min\": 0.0018,\n        \"max\": 0.005,\n        \"num_unique_values\": 29,\n        \"samples\": [\n          0.0018\n        ],\n        \"semantic_type\": \"\",\n        \"description\": \"\"\n      }\n    },\n    {\n      \"column\": \"co\",\n      \"properties\": {\n        \"dtype\": \"number\",\n        \"std\": 0.17448660645716374,\n        \"min\": 0.21,\n        \"max\": 1.3,\n        \"num_unique_values\": 78,\n        \"samples\": [\n          0.72\n        ],\n        \"semantic_type\": \"\",\n        \"description\": \"\"\n      }\n    },\n    {\n      \"column\": \"o3\",\n      \"properties\": {\n        \"dtype\": \"number\",\n        \"std\": 0.012808097360234567,\n        \"min\": 0.0013,\n        \"max\": 0.0629,\n        \"num_unique_values\": 311,\n        \"samples\": [\n          0.0229\n        ],\n        \"semantic_type\": \"\",\n        \"description\": \"\"\n      }\n    },\n    {\n      \"column\": \"no2\",\n      \"properties\": {\n        \"dtype\": \"number\",\n        \"std\": 0.014471701517393984,\n        \"min\": 0.0048,\n        \"max\": 0.0646,\n        \"num_unique_values\": 385,\n        \"samples\": [\n          0.019\n        ],\n        \"semantic_type\": \"\",\n        \"description\": \"\"\n      }\n    },\n    {\n      \"column\": \"PM10\",\n      \"properties\": {\n        \"dtype\": \"number\",\n        \"std\": 24.205657797057214,\n        \"min\": 3.0,\n        \"max\": 133.0,\n        \"num_unique_values\": 95,\n        \"samples\": [\n          67.0\n        ],\n        \"semantic_type\": \"\",\n        \"description\": \"\"\n      }\n    },\n    {\n      \"column\": \"PM2.5\",\n      \"properties\": {\n        \"dtype\": \"number\",\n        \"std\": 14.6824258706837,\n        \"min\": 1.0,\n        \"max\": 83.0,\n        \"num_unique_values\": 66,\n        \"samples\": [\n          41.0\n        ],\n        \"semantic_type\": \"\",\n        \"description\": \"\"\n      }\n    }\n  ]\n}"
            }
          },
          "metadata": {},
          "execution_count": 12
        }
      ]
    },
    {
      "cell_type": "code",
      "source": [
        "dust=dust[['date','year','month','day','so2','co','o3','no2','PM10','PM2.5']]\n",
        "print(dust.columns)\n",
        "dust"
      ],
      "metadata": {
        "colab": {
          "base_uri": "https://localhost:8080/",
          "height": 479
        },
        "id": "tqKI1VacO5AF",
        "outputId": "72598990-13ba-4035-b882-8a663b28926d"
      },
      "execution_count": null,
      "outputs": [
        {
          "output_type": "stream",
          "name": "stdout",
          "text": [
            "Index(['date', 'year', 'month', 'day', 'so2', 'co', 'o3', 'no2', 'PM10',\n",
            "       'PM2.5'],\n",
            "      dtype='object')\n"
          ]
        },
        {
          "output_type": "execute_result",
          "data": {
            "text/plain": [
              "          date  year  month  day     so2    co      o3     no2  PM10  PM2.5\n",
              "0   2023-12-01  2023     12    1  0.0029  0.31  0.0296  0.0114  18.0    9.0\n",
              "1   2023-12-01  2023     12    1  0.0026  0.33  0.0314  0.0089  17.0    8.0\n",
              "2   2023-12-01  2023     12    1  0.0026  0.34  0.0298  0.0096  20.0    9.0\n",
              "3   2023-12-01  2023     12    1  0.0024  0.34  0.0265  0.0125  18.0    9.0\n",
              "4   2023-12-01  2023     12    1  0.0023  0.33  0.0270  0.0126  19.0   10.0\n",
              "..         ...   ...    ...  ...     ...   ...     ...     ...   ...    ...\n",
              "739 2023-12-31  2023     12   31  0.0031  0.75  0.0096  0.0390  28.0   24.0\n",
              "740 2023-12-31  2023     12   31  0.0026  0.77  0.0088  0.0400  35.0   30.0\n",
              "741 2023-12-31  2023     12   31  0.0029  0.74  0.0086  0.0387  32.0   26.0\n",
              "742 2023-12-31  2023     12   31  0.0031  0.86  0.0034  0.0417  33.0   30.0\n",
              "743 2023-12-31  2023     12   31  0.0031  0.92  0.0021  0.0394  28.0   23.0\n",
              "\n",
              "[744 rows x 10 columns]"
            ],
            "text/html": [
              "\n",
              "  <div id=\"df-6d41f3d1-004b-4aa1-b3be-e6c6b2845dad\" class=\"colab-df-container\">\n",
              "    <div>\n",
              "<style scoped>\n",
              "    .dataframe tbody tr th:only-of-type {\n",
              "        vertical-align: middle;\n",
              "    }\n",
              "\n",
              "    .dataframe tbody tr th {\n",
              "        vertical-align: top;\n",
              "    }\n",
              "\n",
              "    .dataframe thead th {\n",
              "        text-align: right;\n",
              "    }\n",
              "</style>\n",
              "<table border=\"1\" class=\"dataframe\">\n",
              "  <thead>\n",
              "    <tr style=\"text-align: right;\">\n",
              "      <th></th>\n",
              "      <th>date</th>\n",
              "      <th>year</th>\n",
              "      <th>month</th>\n",
              "      <th>day</th>\n",
              "      <th>so2</th>\n",
              "      <th>co</th>\n",
              "      <th>o3</th>\n",
              "      <th>no2</th>\n",
              "      <th>PM10</th>\n",
              "      <th>PM2.5</th>\n",
              "    </tr>\n",
              "  </thead>\n",
              "  <tbody>\n",
              "    <tr>\n",
              "      <th>0</th>\n",
              "      <td>2023-12-01</td>\n",
              "      <td>2023</td>\n",
              "      <td>12</td>\n",
              "      <td>1</td>\n",
              "      <td>0.0029</td>\n",
              "      <td>0.31</td>\n",
              "      <td>0.0296</td>\n",
              "      <td>0.0114</td>\n",
              "      <td>18.0</td>\n",
              "      <td>9.0</td>\n",
              "    </tr>\n",
              "    <tr>\n",
              "      <th>1</th>\n",
              "      <td>2023-12-01</td>\n",
              "      <td>2023</td>\n",
              "      <td>12</td>\n",
              "      <td>1</td>\n",
              "      <td>0.0026</td>\n",
              "      <td>0.33</td>\n",
              "      <td>0.0314</td>\n",
              "      <td>0.0089</td>\n",
              "      <td>17.0</td>\n",
              "      <td>8.0</td>\n",
              "    </tr>\n",
              "    <tr>\n",
              "      <th>2</th>\n",
              "      <td>2023-12-01</td>\n",
              "      <td>2023</td>\n",
              "      <td>12</td>\n",
              "      <td>1</td>\n",
              "      <td>0.0026</td>\n",
              "      <td>0.34</td>\n",
              "      <td>0.0298</td>\n",
              "      <td>0.0096</td>\n",
              "      <td>20.0</td>\n",
              "      <td>9.0</td>\n",
              "    </tr>\n",
              "    <tr>\n",
              "      <th>3</th>\n",
              "      <td>2023-12-01</td>\n",
              "      <td>2023</td>\n",
              "      <td>12</td>\n",
              "      <td>1</td>\n",
              "      <td>0.0024</td>\n",
              "      <td>0.34</td>\n",
              "      <td>0.0265</td>\n",
              "      <td>0.0125</td>\n",
              "      <td>18.0</td>\n",
              "      <td>9.0</td>\n",
              "    </tr>\n",
              "    <tr>\n",
              "      <th>4</th>\n",
              "      <td>2023-12-01</td>\n",
              "      <td>2023</td>\n",
              "      <td>12</td>\n",
              "      <td>1</td>\n",
              "      <td>0.0023</td>\n",
              "      <td>0.33</td>\n",
              "      <td>0.0270</td>\n",
              "      <td>0.0126</td>\n",
              "      <td>19.0</td>\n",
              "      <td>10.0</td>\n",
              "    </tr>\n",
              "    <tr>\n",
              "      <th>...</th>\n",
              "      <td>...</td>\n",
              "      <td>...</td>\n",
              "      <td>...</td>\n",
              "      <td>...</td>\n",
              "      <td>...</td>\n",
              "      <td>...</td>\n",
              "      <td>...</td>\n",
              "      <td>...</td>\n",
              "      <td>...</td>\n",
              "      <td>...</td>\n",
              "    </tr>\n",
              "    <tr>\n",
              "      <th>739</th>\n",
              "      <td>2023-12-31</td>\n",
              "      <td>2023</td>\n",
              "      <td>12</td>\n",
              "      <td>31</td>\n",
              "      <td>0.0031</td>\n",
              "      <td>0.75</td>\n",
              "      <td>0.0096</td>\n",
              "      <td>0.0390</td>\n",
              "      <td>28.0</td>\n",
              "      <td>24.0</td>\n",
              "    </tr>\n",
              "    <tr>\n",
              "      <th>740</th>\n",
              "      <td>2023-12-31</td>\n",
              "      <td>2023</td>\n",
              "      <td>12</td>\n",
              "      <td>31</td>\n",
              "      <td>0.0026</td>\n",
              "      <td>0.77</td>\n",
              "      <td>0.0088</td>\n",
              "      <td>0.0400</td>\n",
              "      <td>35.0</td>\n",
              "      <td>30.0</td>\n",
              "    </tr>\n",
              "    <tr>\n",
              "      <th>741</th>\n",
              "      <td>2023-12-31</td>\n",
              "      <td>2023</td>\n",
              "      <td>12</td>\n",
              "      <td>31</td>\n",
              "      <td>0.0029</td>\n",
              "      <td>0.74</td>\n",
              "      <td>0.0086</td>\n",
              "      <td>0.0387</td>\n",
              "      <td>32.0</td>\n",
              "      <td>26.0</td>\n",
              "    </tr>\n",
              "    <tr>\n",
              "      <th>742</th>\n",
              "      <td>2023-12-31</td>\n",
              "      <td>2023</td>\n",
              "      <td>12</td>\n",
              "      <td>31</td>\n",
              "      <td>0.0031</td>\n",
              "      <td>0.86</td>\n",
              "      <td>0.0034</td>\n",
              "      <td>0.0417</td>\n",
              "      <td>33.0</td>\n",
              "      <td>30.0</td>\n",
              "    </tr>\n",
              "    <tr>\n",
              "      <th>743</th>\n",
              "      <td>2023-12-31</td>\n",
              "      <td>2023</td>\n",
              "      <td>12</td>\n",
              "      <td>31</td>\n",
              "      <td>0.0031</td>\n",
              "      <td>0.92</td>\n",
              "      <td>0.0021</td>\n",
              "      <td>0.0394</td>\n",
              "      <td>28.0</td>\n",
              "      <td>23.0</td>\n",
              "    </tr>\n",
              "  </tbody>\n",
              "</table>\n",
              "<p>744 rows × 10 columns</p>\n",
              "</div>\n",
              "    <div class=\"colab-df-buttons\">\n",
              "\n",
              "  <div class=\"colab-df-container\">\n",
              "    <button class=\"colab-df-convert\" onclick=\"convertToInteractive('df-6d41f3d1-004b-4aa1-b3be-e6c6b2845dad')\"\n",
              "            title=\"Convert this dataframe to an interactive table.\"\n",
              "            style=\"display:none;\">\n",
              "\n",
              "  <svg xmlns=\"http://www.w3.org/2000/svg\" height=\"24px\" viewBox=\"0 -960 960 960\">\n",
              "    <path d=\"M120-120v-720h720v720H120Zm60-500h600v-160H180v160Zm220 220h160v-160H400v160Zm0 220h160v-160H400v160ZM180-400h160v-160H180v160Zm440 0h160v-160H620v160ZM180-180h160v-160H180v160Zm440 0h160v-160H620v160Z\"/>\n",
              "  </svg>\n",
              "    </button>\n",
              "\n",
              "  <style>\n",
              "    .colab-df-container {\n",
              "      display:flex;\n",
              "      gap: 12px;\n",
              "    }\n",
              "\n",
              "    .colab-df-convert {\n",
              "      background-color: #E8F0FE;\n",
              "      border: none;\n",
              "      border-radius: 50%;\n",
              "      cursor: pointer;\n",
              "      display: none;\n",
              "      fill: #1967D2;\n",
              "      height: 32px;\n",
              "      padding: 0 0 0 0;\n",
              "      width: 32px;\n",
              "    }\n",
              "\n",
              "    .colab-df-convert:hover {\n",
              "      background-color: #E2EBFA;\n",
              "      box-shadow: 0px 1px 2px rgba(60, 64, 67, 0.3), 0px 1px 3px 1px rgba(60, 64, 67, 0.15);\n",
              "      fill: #174EA6;\n",
              "    }\n",
              "\n",
              "    .colab-df-buttons div {\n",
              "      margin-bottom: 4px;\n",
              "    }\n",
              "\n",
              "    [theme=dark] .colab-df-convert {\n",
              "      background-color: #3B4455;\n",
              "      fill: #D2E3FC;\n",
              "    }\n",
              "\n",
              "    [theme=dark] .colab-df-convert:hover {\n",
              "      background-color: #434B5C;\n",
              "      box-shadow: 0px 1px 3px 1px rgba(0, 0, 0, 0.15);\n",
              "      filter: drop-shadow(0px 1px 2px rgba(0, 0, 0, 0.3));\n",
              "      fill: #FFFFFF;\n",
              "    }\n",
              "  </style>\n",
              "\n",
              "    <script>\n",
              "      const buttonEl =\n",
              "        document.querySelector('#df-6d41f3d1-004b-4aa1-b3be-e6c6b2845dad button.colab-df-convert');\n",
              "      buttonEl.style.display =\n",
              "        google.colab.kernel.accessAllowed ? 'block' : 'none';\n",
              "\n",
              "      async function convertToInteractive(key) {\n",
              "        const element = document.querySelector('#df-6d41f3d1-004b-4aa1-b3be-e6c6b2845dad');\n",
              "        const dataTable =\n",
              "          await google.colab.kernel.invokeFunction('convertToInteractive',\n",
              "                                                    [key], {});\n",
              "        if (!dataTable) return;\n",
              "\n",
              "        const docLinkHtml = 'Like what you see? Visit the ' +\n",
              "          '<a target=\"_blank\" href=https://colab.research.google.com/notebooks/data_table.ipynb>data table notebook</a>'\n",
              "          + ' to learn more about interactive tables.';\n",
              "        element.innerHTML = '';\n",
              "        dataTable['output_type'] = 'display_data';\n",
              "        await google.colab.output.renderOutput(dataTable, element);\n",
              "        const docLink = document.createElement('div');\n",
              "        docLink.innerHTML = docLinkHtml;\n",
              "        element.appendChild(docLink);\n",
              "      }\n",
              "    </script>\n",
              "  </div>\n",
              "\n",
              "\n",
              "<div id=\"df-b1f2d5d3-0739-4e30-ad2e-b1161dcf5aff\">\n",
              "  <button class=\"colab-df-quickchart\" onclick=\"quickchart('df-b1f2d5d3-0739-4e30-ad2e-b1161dcf5aff')\"\n",
              "            title=\"Suggest charts\"\n",
              "            style=\"display:none;\">\n",
              "\n",
              "<svg xmlns=\"http://www.w3.org/2000/svg\" height=\"24px\"viewBox=\"0 0 24 24\"\n",
              "     width=\"24px\">\n",
              "    <g>\n",
              "        <path d=\"M19 3H5c-1.1 0-2 .9-2 2v14c0 1.1.9 2 2 2h14c1.1 0 2-.9 2-2V5c0-1.1-.9-2-2-2zM9 17H7v-7h2v7zm4 0h-2V7h2v10zm4 0h-2v-4h2v4z\"/>\n",
              "    </g>\n",
              "</svg>\n",
              "  </button>\n",
              "\n",
              "<style>\n",
              "  .colab-df-quickchart {\n",
              "      --bg-color: #E8F0FE;\n",
              "      --fill-color: #1967D2;\n",
              "      --hover-bg-color: #E2EBFA;\n",
              "      --hover-fill-color: #174EA6;\n",
              "      --disabled-fill-color: #AAA;\n",
              "      --disabled-bg-color: #DDD;\n",
              "  }\n",
              "\n",
              "  [theme=dark] .colab-df-quickchart {\n",
              "      --bg-color: #3B4455;\n",
              "      --fill-color: #D2E3FC;\n",
              "      --hover-bg-color: #434B5C;\n",
              "      --hover-fill-color: #FFFFFF;\n",
              "      --disabled-bg-color: #3B4455;\n",
              "      --disabled-fill-color: #666;\n",
              "  }\n",
              "\n",
              "  .colab-df-quickchart {\n",
              "    background-color: var(--bg-color);\n",
              "    border: none;\n",
              "    border-radius: 50%;\n",
              "    cursor: pointer;\n",
              "    display: none;\n",
              "    fill: var(--fill-color);\n",
              "    height: 32px;\n",
              "    padding: 0;\n",
              "    width: 32px;\n",
              "  }\n",
              "\n",
              "  .colab-df-quickchart:hover {\n",
              "    background-color: var(--hover-bg-color);\n",
              "    box-shadow: 0 1px 2px rgba(60, 64, 67, 0.3), 0 1px 3px 1px rgba(60, 64, 67, 0.15);\n",
              "    fill: var(--button-hover-fill-color);\n",
              "  }\n",
              "\n",
              "  .colab-df-quickchart-complete:disabled,\n",
              "  .colab-df-quickchart-complete:disabled:hover {\n",
              "    background-color: var(--disabled-bg-color);\n",
              "    fill: var(--disabled-fill-color);\n",
              "    box-shadow: none;\n",
              "  }\n",
              "\n",
              "  .colab-df-spinner {\n",
              "    border: 2px solid var(--fill-color);\n",
              "    border-color: transparent;\n",
              "    border-bottom-color: var(--fill-color);\n",
              "    animation:\n",
              "      spin 1s steps(1) infinite;\n",
              "  }\n",
              "\n",
              "  @keyframes spin {\n",
              "    0% {\n",
              "      border-color: transparent;\n",
              "      border-bottom-color: var(--fill-color);\n",
              "      border-left-color: var(--fill-color);\n",
              "    }\n",
              "    20% {\n",
              "      border-color: transparent;\n",
              "      border-left-color: var(--fill-color);\n",
              "      border-top-color: var(--fill-color);\n",
              "    }\n",
              "    30% {\n",
              "      border-color: transparent;\n",
              "      border-left-color: var(--fill-color);\n",
              "      border-top-color: var(--fill-color);\n",
              "      border-right-color: var(--fill-color);\n",
              "    }\n",
              "    40% {\n",
              "      border-color: transparent;\n",
              "      border-right-color: var(--fill-color);\n",
              "      border-top-color: var(--fill-color);\n",
              "    }\n",
              "    60% {\n",
              "      border-color: transparent;\n",
              "      border-right-color: var(--fill-color);\n",
              "    }\n",
              "    80% {\n",
              "      border-color: transparent;\n",
              "      border-right-color: var(--fill-color);\n",
              "      border-bottom-color: var(--fill-color);\n",
              "    }\n",
              "    90% {\n",
              "      border-color: transparent;\n",
              "      border-bottom-color: var(--fill-color);\n",
              "    }\n",
              "  }\n",
              "</style>\n",
              "\n",
              "  <script>\n",
              "    async function quickchart(key) {\n",
              "      const quickchartButtonEl =\n",
              "        document.querySelector('#' + key + ' button');\n",
              "      quickchartButtonEl.disabled = true;  // To prevent multiple clicks.\n",
              "      quickchartButtonEl.classList.add('colab-df-spinner');\n",
              "      try {\n",
              "        const charts = await google.colab.kernel.invokeFunction(\n",
              "            'suggestCharts', [key], {});\n",
              "      } catch (error) {\n",
              "        console.error('Error during call to suggestCharts:', error);\n",
              "      }\n",
              "      quickchartButtonEl.classList.remove('colab-df-spinner');\n",
              "      quickchartButtonEl.classList.add('colab-df-quickchart-complete');\n",
              "    }\n",
              "    (() => {\n",
              "      let quickchartButtonEl =\n",
              "        document.querySelector('#df-b1f2d5d3-0739-4e30-ad2e-b1161dcf5aff button');\n",
              "      quickchartButtonEl.style.display =\n",
              "        google.colab.kernel.accessAllowed ? 'block' : 'none';\n",
              "    })();\n",
              "  </script>\n",
              "</div>\n",
              "\n",
              "  <div id=\"id_eb2e426c-be03-45ad-be34-30c2da5fe3c7\">\n",
              "    <style>\n",
              "      .colab-df-generate {\n",
              "        background-color: #E8F0FE;\n",
              "        border: none;\n",
              "        border-radius: 50%;\n",
              "        cursor: pointer;\n",
              "        display: none;\n",
              "        fill: #1967D2;\n",
              "        height: 32px;\n",
              "        padding: 0 0 0 0;\n",
              "        width: 32px;\n",
              "      }\n",
              "\n",
              "      .colab-df-generate:hover {\n",
              "        background-color: #E2EBFA;\n",
              "        box-shadow: 0px 1px 2px rgba(60, 64, 67, 0.3), 0px 1px 3px 1px rgba(60, 64, 67, 0.15);\n",
              "        fill: #174EA6;\n",
              "      }\n",
              "\n",
              "      [theme=dark] .colab-df-generate {\n",
              "        background-color: #3B4455;\n",
              "        fill: #D2E3FC;\n",
              "      }\n",
              "\n",
              "      [theme=dark] .colab-df-generate:hover {\n",
              "        background-color: #434B5C;\n",
              "        box-shadow: 0px 1px 3px 1px rgba(0, 0, 0, 0.15);\n",
              "        filter: drop-shadow(0px 1px 2px rgba(0, 0, 0, 0.3));\n",
              "        fill: #FFFFFF;\n",
              "      }\n",
              "    </style>\n",
              "    <button class=\"colab-df-generate\" onclick=\"generateWithVariable('dust')\"\n",
              "            title=\"Generate code using this dataframe.\"\n",
              "            style=\"display:none;\">\n",
              "\n",
              "  <svg xmlns=\"http://www.w3.org/2000/svg\" height=\"24px\"viewBox=\"0 0 24 24\"\n",
              "       width=\"24px\">\n",
              "    <path d=\"M7,19H8.4L18.45,9,17,7.55,7,17.6ZM5,21V16.75L18.45,3.32a2,2,0,0,1,2.83,0l1.4,1.43a1.91,1.91,0,0,1,.58,1.4,1.91,1.91,0,0,1-.58,1.4L9.25,21ZM18.45,9,17,7.55Zm-12,3A5.31,5.31,0,0,0,4.9,8.1,5.31,5.31,0,0,0,1,6.5,5.31,5.31,0,0,0,4.9,4.9,5.31,5.31,0,0,0,6.5,1,5.31,5.31,0,0,0,8.1,4.9,5.31,5.31,0,0,0,12,6.5,5.46,5.46,0,0,0,6.5,12Z\"/>\n",
              "  </svg>\n",
              "    </button>\n",
              "    <script>\n",
              "      (() => {\n",
              "      const buttonEl =\n",
              "        document.querySelector('#id_eb2e426c-be03-45ad-be34-30c2da5fe3c7 button.colab-df-generate');\n",
              "      buttonEl.style.display =\n",
              "        google.colab.kernel.accessAllowed ? 'block' : 'none';\n",
              "\n",
              "      buttonEl.onclick = () => {\n",
              "        google.colab.notebook.generateWithVariable('dust');\n",
              "      }\n",
              "      })();\n",
              "    </script>\n",
              "  </div>\n",
              "\n",
              "    </div>\n",
              "  </div>\n"
            ],
            "application/vnd.google.colaboratory.intrinsic+json": {
              "type": "dataframe",
              "variable_name": "dust",
              "summary": "{\n  \"name\": \"dust\",\n  \"rows\": 744,\n  \"fields\": [\n    {\n      \"column\": \"date\",\n      \"properties\": {\n        \"dtype\": \"date\",\n        \"min\": \"2023-12-01 00:00:00\",\n        \"max\": \"2023-12-31 00:00:00\",\n        \"num_unique_values\": 31,\n        \"samples\": [\n          \"2023-12-28 00:00:00\",\n          \"2023-12-16 00:00:00\",\n          \"2023-12-24 00:00:00\"\n        ],\n        \"semantic_type\": \"\",\n        \"description\": \"\"\n      }\n    },\n    {\n      \"column\": \"year\",\n      \"properties\": {\n        \"dtype\": \"int32\",\n        \"num_unique_values\": 1,\n        \"samples\": [\n          2023\n        ],\n        \"semantic_type\": \"\",\n        \"description\": \"\"\n      }\n    },\n    {\n      \"column\": \"month\",\n      \"properties\": {\n        \"dtype\": \"int32\",\n        \"num_unique_values\": 1,\n        \"samples\": [\n          12\n        ],\n        \"semantic_type\": \"\",\n        \"description\": \"\"\n      }\n    },\n    {\n      \"column\": \"day\",\n      \"properties\": {\n        \"dtype\": \"int32\",\n        \"num_unique_values\": 31,\n        \"samples\": [\n          28\n        ],\n        \"semantic_type\": \"\",\n        \"description\": \"\"\n      }\n    },\n    {\n      \"column\": \"so2\",\n      \"properties\": {\n        \"dtype\": \"number\",\n        \"std\": 0.000546602985299218,\n        \"min\": 0.0018,\n        \"max\": 0.005,\n        \"num_unique_values\": 29,\n        \"samples\": [\n          0.0018\n        ],\n        \"semantic_type\": \"\",\n        \"description\": \"\"\n      }\n    },\n    {\n      \"column\": \"co\",\n      \"properties\": {\n        \"dtype\": \"number\",\n        \"std\": 0.17448660645716374,\n        \"min\": 0.21,\n        \"max\": 1.3,\n        \"num_unique_values\": 78,\n        \"samples\": [\n          0.72\n        ],\n        \"semantic_type\": \"\",\n        \"description\": \"\"\n      }\n    },\n    {\n      \"column\": \"o3\",\n      \"properties\": {\n        \"dtype\": \"number\",\n        \"std\": 0.012808097360234567,\n        \"min\": 0.0013,\n        \"max\": 0.0629,\n        \"num_unique_values\": 311,\n        \"samples\": [\n          0.0229\n        ],\n        \"semantic_type\": \"\",\n        \"description\": \"\"\n      }\n    },\n    {\n      \"column\": \"no2\",\n      \"properties\": {\n        \"dtype\": \"number\",\n        \"std\": 0.014471701517393984,\n        \"min\": 0.0048,\n        \"max\": 0.0646,\n        \"num_unique_values\": 385,\n        \"samples\": [\n          0.019\n        ],\n        \"semantic_type\": \"\",\n        \"description\": \"\"\n      }\n    },\n    {\n      \"column\": \"PM10\",\n      \"properties\": {\n        \"dtype\": \"number\",\n        \"std\": 24.205657797057214,\n        \"min\": 3.0,\n        \"max\": 133.0,\n        \"num_unique_values\": 95,\n        \"samples\": [\n          67.0\n        ],\n        \"semantic_type\": \"\",\n        \"description\": \"\"\n      }\n    },\n    {\n      \"column\": \"PM2.5\",\n      \"properties\": {\n        \"dtype\": \"number\",\n        \"std\": 14.6824258706837,\n        \"min\": 1.0,\n        \"max\": 83.0,\n        \"num_unique_values\": 66,\n        \"samples\": [\n          41.0\n        ],\n        \"semantic_type\": \"\",\n        \"description\": \"\"\n      }\n    }\n  ]\n}"
            }
          },
          "metadata": {},
          "execution_count": 13
        }
      ]
    },
    {
      "cell_type": "markdown",
      "source": [
        "미세먼지 데이터 전처리: 누락값(결측치) 확인"
      ],
      "metadata": {
        "id": "uwX5CxlBPSit"
      }
    },
    {
      "cell_type": "code",
      "source": [
        "print('결측치 개수 확인하기')\n",
        "print(dust.isna().sum())"
      ],
      "metadata": {
        "colab": {
          "base_uri": "https://localhost:8080/"
        },
        "id": "juBEdI2YPJWl",
        "outputId": "4a9b430d-757f-4931-f8c9-480f5481257d"
      },
      "execution_count": null,
      "outputs": [
        {
          "output_type": "stream",
          "name": "stdout",
          "text": [
            "결측치 개수 확인하기\n",
            "date     0\n",
            "year     0\n",
            "month    0\n",
            "day      0\n",
            "so2      4\n",
            "co       4\n",
            "o3       4\n",
            "no2      4\n",
            "PM10     7\n",
            "PM2.5    4\n",
            "dtype: int64\n"
          ]
        }
      ]
    },
    {
      "cell_type": "code",
      "source": [
        "print('결측치를 포함한 데이터 출력')\n",
        "print(dust[dust.isna().any(axis=1)])"
      ],
      "metadata": {
        "colab": {
          "base_uri": "https://localhost:8080/"
        },
        "id": "53sxyHR4PtbO",
        "outputId": "6fef91a0-59b9-4070-b092-a22b5c99be61"
      },
      "execution_count": null,
      "outputs": [
        {
          "output_type": "stream",
          "name": "stdout",
          "text": [
            "결측치를 포함한 데이터 출력\n",
            "          date  year  month  day     so2    co      o3     no2  PM10  PM2.5\n",
            "132 2023-12-06  2023     12    6     NaN   NaN     NaN     NaN   NaN    NaN\n",
            "133 2023-12-06  2023     12    6     NaN   NaN     NaN     NaN   NaN    NaN\n",
            "368 2023-12-16  2023     12   16  0.0022  0.35  0.0270  0.0127   NaN   12.0\n",
            "369 2023-12-16  2023     12   16  0.0022  0.34  0.0294  0.0116   NaN   11.0\n",
            "378 2023-12-16  2023     12   16  0.0023  0.29  0.0320  0.0096   NaN    7.0\n",
            "444 2023-12-19  2023     12   19     NaN   NaN     NaN     NaN   NaN    NaN\n",
            "445 2023-12-19  2023     12   19     NaN   NaN     NaN     NaN   NaN    NaN\n"
          ]
        }
      ]
    },
    {
      "cell_type": "markdown",
      "source": [
        "미세먼지 데이터 전처리: 결측치 채우기"
      ],
      "metadata": {
        "id": "mlRbddC0P67d"
      }
    },
    {
      "cell_type": "code",
      "source": [
        "print('결측치 채우기')\n",
        "dust.ffill(inplace=True)\n",
        "print(dust.isnull().sum())"
      ],
      "metadata": {
        "colab": {
          "base_uri": "https://localhost:8080/"
        },
        "id": "zlERkz_gP1T1",
        "outputId": "87431e60-af54-4bad-ecfc-8445928b7763"
      },
      "execution_count": null,
      "outputs": [
        {
          "output_type": "stream",
          "name": "stdout",
          "text": [
            "결측치 채우기\n",
            "date     0\n",
            "year     0\n",
            "month    0\n",
            "day      0\n",
            "so2      0\n",
            "co       0\n",
            "o3       0\n",
            "no2      0\n",
            "PM10     0\n",
            "PM2.5    0\n",
            "dtype: int64\n"
          ]
        }
      ]
    },
    {
      "cell_type": "code",
      "source": [
        "print(dust.iloc[132:134])"
      ],
      "metadata": {
        "colab": {
          "base_uri": "https://localhost:8080/"
        },
        "id": "xD4iXvKOQsmU",
        "outputId": "cfde8980-0615-41c1-a66f-97f0cc60e153"
      },
      "execution_count": null,
      "outputs": [
        {
          "output_type": "stream",
          "name": "stdout",
          "text": [
            "          date  year  month  day     so2    co      o3     no2  PM10  PM2.5\n",
            "132 2023-12-06  2023     12    6  0.0038  0.58  0.0057  0.0456  68.0   45.0\n",
            "133 2023-12-06  2023     12    6  0.0038  0.58  0.0057  0.0456  68.0   45.0\n"
          ]
        }
      ]
    },
    {
      "cell_type": "markdown",
      "source": [
        "날씨 데이터 읽기 및 확인"
      ],
      "metadata": {
        "id": "h_XgjokiQyLp"
      }
    },
    {
      "cell_type": "code",
      "source": [
        "weather=pd.read_excel('weather.xlsx')\n",
        "print(tabulate(weather.head(),headers='keys',tablefmt='psql'))"
      ],
      "metadata": {
        "colab": {
          "base_uri": "https://localhost:8080/"
        },
        "id": "uPs9NfUHQv8T",
        "outputId": "c76e6be5-3f57-4942-e4d8-8e9439209e22"
      },
      "execution_count": null,
      "outputs": [
        {
          "output_type": "stream",
          "name": "stdout",
          "text": [
            "+----+--------+----------+---------------------+------------+-------------+--------------+-----------+\n",
            "|    |   지점 | 지점명   | 일시                |   기온(°C) |   풍속(m/s) |   강수량(mm) |   습도(%) |\n",
            "|----+--------+----------+---------------------+------------+-------------+--------------+-----------|\n",
            "|  0 |    400 | 강남     | 2023-12-01 01:00:00 |       -4.1 |         0.8 |            0 |        57 |\n",
            "|  1 |    400 | 강남     | 2023-12-01 02:00:00 |       -4.5 |         2   |            0 |        54 |\n",
            "|  2 |    400 | 강남     | 2023-12-01 03:00:00 |       -4.9 |         1   |            0 |        56 |\n",
            "|  3 |    400 | 강남     | 2023-12-01 04:00:00 |       -5.3 |         0   |            0 |        65 |\n",
            "|  4 |    400 | 강남     | 2023-12-01 05:00:00 |       -5.1 |         0.4 |            0 |        58 |\n",
            "+----+--------+----------+---------------------+------------+-------------+--------------+-----------+\n"
          ]
        }
      ]
    },
    {
      "cell_type": "code",
      "source": [
        "print(weather.info())"
      ],
      "metadata": {
        "colab": {
          "base_uri": "https://localhost:8080/"
        },
        "id": "cUei097YT2cH",
        "outputId": "6276c0bc-f6c3-41d8-d518-89fefc948fa9"
      },
      "execution_count": null,
      "outputs": [
        {
          "output_type": "stream",
          "name": "stdout",
          "text": [
            "<class 'pandas.core.frame.DataFrame'>\n",
            "RangeIndex: 743 entries, 0 to 742\n",
            "Data columns (total 7 columns):\n",
            " #   Column   Non-Null Count  Dtype         \n",
            "---  ------   --------------  -----         \n",
            " 0   지점       743 non-null    int64         \n",
            " 1   지점명      743 non-null    object        \n",
            " 2   일시       743 non-null    datetime64[ns]\n",
            " 3   기온(°C)   743 non-null    float64       \n",
            " 4   풍속(m/s)  742 non-null    float64       \n",
            " 5   강수량(mm)  721 non-null    float64       \n",
            " 6   습도(%)    743 non-null    int64         \n",
            "dtypes: datetime64[ns](1), float64(3), int64(2), object(1)\n",
            "memory usage: 40.8+ KB\n",
            "None\n"
          ]
        }
      ]
    },
    {
      "cell_type": "markdown",
      "source": [
        "날씨 데이터 가공: 컬럼 삭제 및 컬럼 이름 변경"
      ],
      "metadata": {
        "id": "lj8tEhdTUBR9"
      }
    },
    {
      "cell_type": "code",
      "source": [
        "weather.drop(['지점','지점명'],axis=1,inplace=True)\n",
        "\n",
        "weather.columns=['date','temp','wind','rain','humidity']\n",
        "print(tabulate(weather.head(),headers='keys',tablefmt='pretty'))"
      ],
      "metadata": {
        "colab": {
          "base_uri": "https://localhost:8080/"
        },
        "id": "tZyLc81fUADH",
        "outputId": "d71a1a4b-1163-4d8c-e0cd-ebd4f7d19b8c"
      },
      "execution_count": null,
      "outputs": [
        {
          "output_type": "stream",
          "name": "stdout",
          "text": [
            "+---+---------------------+------+------+------+----------+\n",
            "|   |        date         | temp | wind | rain | humidity |\n",
            "+---+---------------------+------+------+------+----------+\n",
            "| 0 | 2023-12-01 01:00:00 | -4.1 | 0.8  | 0.0  |    57    |\n",
            "| 1 | 2023-12-01 02:00:00 | -4.5 | 2.0  | 0.0  |    54    |\n",
            "| 2 | 2023-12-01 03:00:00 | -4.9 | 1.0  | 0.0  |    56    |\n",
            "| 3 | 2023-12-01 04:00:00 | -5.3 | 0.0  | 0.0  |    65    |\n",
            "| 4 | 2023-12-01 05:00:00 | -5.1 | 0.4  | 0.0  |    58    |\n",
            "+---+---------------------+------+------+------+----------+\n"
          ]
        }
      ]
    },
    {
      "cell_type": "markdown",
      "source": [
        "날씨 데이터 가공: 시간 정보 삭제"
      ],
      "metadata": {
        "id": "CTKxXzfyVKt0"
      }
    },
    {
      "cell_type": "code",
      "source": [
        "weather['date']=pd.to_datetime(weather['date'].dt.date)\n",
        "print(weather.info())\n",
        "print(weather.head())"
      ],
      "metadata": {
        "colab": {
          "base_uri": "https://localhost:8080/"
        },
        "id": "89k9PYCAU6Kn",
        "outputId": "bd673636-5c0f-4ae0-d50c-0c9708a5ef4a"
      },
      "execution_count": null,
      "outputs": [
        {
          "output_type": "stream",
          "name": "stdout",
          "text": [
            "<class 'pandas.core.frame.DataFrame'>\n",
            "RangeIndex: 743 entries, 0 to 742\n",
            "Data columns (total 5 columns):\n",
            " #   Column    Non-Null Count  Dtype         \n",
            "---  ------    --------------  -----         \n",
            " 0   date      743 non-null    datetime64[ns]\n",
            " 1   temp      743 non-null    float64       \n",
            " 2   wind      742 non-null    float64       \n",
            " 3   rain      721 non-null    float64       \n",
            " 4   humidity  743 non-null    int64         \n",
            "dtypes: datetime64[ns](1), float64(3), int64(1)\n",
            "memory usage: 29.1 KB\n",
            "None\n",
            "        date  temp  wind  rain  humidity\n",
            "0 2023-12-01  -4.1   0.8   0.0        57\n",
            "1 2023-12-01  -4.5   2.0   0.0        54\n",
            "2 2023-12-01  -4.9   1.0   0.0        56\n",
            "3 2023-12-01  -5.3   0.0   0.0        65\n",
            "4 2023-12-01  -5.1   0.4   0.0        58\n"
          ]
        }
      ]
    },
    {
      "cell_type": "markdown",
      "source": [
        "날씨 데이터 전처리: 결측치 확인"
      ],
      "metadata": {
        "id": "qQQZ1lvqVrZc"
      }
    },
    {
      "cell_type": "code",
      "source": [
        "print('날씨 데이터 결측치 개수 확인하기')\n",
        "print(weather.isna().sum())"
      ],
      "metadata": {
        "colab": {
          "base_uri": "https://localhost:8080/"
        },
        "id": "CikBRFDFVo4w",
        "outputId": "b498d694-14a2-4a5d-b4fa-bb74bea6fb3f"
      },
      "execution_count": null,
      "outputs": [
        {
          "output_type": "stream",
          "name": "stdout",
          "text": [
            "날씨 데이터 결측치 개수 확인하기\n",
            "date         0\n",
            "temp         0\n",
            "wind         1\n",
            "rain        22\n",
            "humidity     0\n",
            "dtype: int64\n"
          ]
        }
      ]
    },
    {
      "cell_type": "code",
      "source": [
        "print('날씨 데이터에서 결측치를 포함하는 행 출력')\n",
        "print(weather[weather.isna().any(axis=1)])"
      ],
      "metadata": {
        "colab": {
          "base_uri": "https://localhost:8080/"
        },
        "id": "KRrWANvTV0Go",
        "outputId": "6bcd8ff9-f862-45e2-c884-60d2f11da91f"
      },
      "execution_count": null,
      "outputs": [
        {
          "output_type": "stream",
          "name": "stdout",
          "text": [
            "날씨 데이터에서 결측치를 포함하는 행 출력\n",
            "          date  temp  wind  rain  humidity\n",
            "369 2023-12-16  -1.9   NaN   0.0        70\n",
            "565 2023-12-24   1.1   1.1   NaN        58\n",
            "566 2023-12-24   2.5   1.3   NaN        53\n",
            "567 2023-12-24   1.7   1.0   NaN        52\n",
            "568 2023-12-24   0.5   0.5   NaN        59\n",
            "569 2023-12-24  -1.0   0.8   NaN        67\n",
            "570 2023-12-24  -2.5   0.3   NaN        75\n",
            "571 2023-12-24  -2.2   1.0   NaN        74\n",
            "572 2023-12-24  -2.9   0.4   NaN        77\n",
            "573 2023-12-24  -3.4   0.4   NaN        82\n",
            "574 2023-12-24  -2.9   0.4   NaN        82\n",
            "575 2023-12-25  -2.3   0.6   NaN        78\n",
            "732 2023-12-31   3.4   1.4   NaN        83\n",
            "733 2023-12-31   3.6   1.2   NaN        83\n",
            "734 2023-12-31   4.4   0.7   NaN        79\n",
            "735 2023-12-31   5.2   0.9   NaN        74\n",
            "736 2023-12-31   4.6   0.7   NaN        76\n",
            "737 2023-12-31   2.6   0.3   NaN        87\n",
            "738 2023-12-31   1.4   0.0   NaN        92\n",
            "739 2023-12-31   0.8   0.5   NaN        95\n",
            "740 2023-12-31   0.4   0.1   NaN        96\n",
            "741 2023-12-31   0.0   0.1   NaN        97\n",
            "742 2023-12-31  -0.2   0.2   NaN        98\n"
          ]
        }
      ]
    },
    {
      "cell_type": "markdown",
      "source": [
        "날씨 데이터 전처리: 결측치 채우기"
      ],
      "metadata": {
        "id": "ZAcQEzEwV_EI"
      }
    },
    {
      "cell_type": "code",
      "source": [
        "weather.ffill(inplace=True)\n",
        "print(weather.isna().sum())"
      ],
      "metadata": {
        "colab": {
          "base_uri": "https://localhost:8080/"
        },
        "id": "oWYiMwyRV9Wd",
        "outputId": "44e2734b-61cd-486d-f928-a4631e618d57"
      },
      "execution_count": null,
      "outputs": [
        {
          "output_type": "stream",
          "name": "stdout",
          "text": [
            "date        0\n",
            "temp        0\n",
            "wind        0\n",
            "rain        0\n",
            "humidity    0\n",
            "dtype: int64\n"
          ]
        }
      ]
    },
    {
      "cell_type": "code",
      "source": [
        "print(weather.iloc[[369,565,742]])"
      ],
      "metadata": {
        "colab": {
          "base_uri": "https://localhost:8080/"
        },
        "id": "FVD4MSndWg8K",
        "outputId": "7ca2b792-e1f7-4bcc-f355-8ad3bdc9381f"
      },
      "execution_count": null,
      "outputs": [
        {
          "output_type": "stream",
          "name": "stdout",
          "text": [
            "          date  temp  wind  rain  humidity\n",
            "369 2023-12-16  -1.9   3.2   0.0        70\n",
            "565 2023-12-24   1.1   1.1   0.0        58\n",
            "742 2023-12-31  -0.2   0.2   0.0        98\n"
          ]
        }
      ]
    },
    {
      "cell_type": "markdown",
      "source": [
        "강수량 데이터 변경"
      ],
      "metadata": {
        "id": "DuXTDhmUW0_q"
      }
    },
    {
      "cell_type": "code",
      "source": [
        "weather['rain'].value_counts()"
      ],
      "metadata": {
        "colab": {
          "base_uri": "https://localhost:8080/",
          "height": 460
        },
        "id": "dgzieo2GWnIe",
        "outputId": "8e56a143-d5a1-4545-b65d-e8d395aa1921"
      },
      "execution_count": null,
      "outputs": [
        {
          "output_type": "execute_result",
          "data": {
            "text/plain": [
              "rain\n",
              "0.0    673\n",
              "0.5     37\n",
              "1.0     11\n",
              "2.0      4\n",
              "3.0      4\n",
              "1.5      3\n",
              "2.5      3\n",
              "4.0      3\n",
              "4.5      2\n",
              "5.5      2\n",
              "3.5      1\n",
              "Name: count, dtype: int64"
            ],
            "text/html": [
              "<table border=\"1\" class=\"dataframe\">\n",
              "  <thead>\n",
              "    <tr style=\"text-align: right;\">\n",
              "      <th></th>\n",
              "      <th>count</th>\n",
              "    </tr>\n",
              "    <tr>\n",
              "      <th>rain</th>\n",
              "      <th></th>\n",
              "    </tr>\n",
              "  </thead>\n",
              "  <tbody>\n",
              "    <tr>\n",
              "      <th>0.0</th>\n",
              "      <td>673</td>\n",
              "    </tr>\n",
              "    <tr>\n",
              "      <th>0.5</th>\n",
              "      <td>37</td>\n",
              "    </tr>\n",
              "    <tr>\n",
              "      <th>1.0</th>\n",
              "      <td>11</td>\n",
              "    </tr>\n",
              "    <tr>\n",
              "      <th>2.0</th>\n",
              "      <td>4</td>\n",
              "    </tr>\n",
              "    <tr>\n",
              "      <th>3.0</th>\n",
              "      <td>4</td>\n",
              "    </tr>\n",
              "    <tr>\n",
              "      <th>1.5</th>\n",
              "      <td>3</td>\n",
              "    </tr>\n",
              "    <tr>\n",
              "      <th>2.5</th>\n",
              "      <td>3</td>\n",
              "    </tr>\n",
              "    <tr>\n",
              "      <th>4.0</th>\n",
              "      <td>3</td>\n",
              "    </tr>\n",
              "    <tr>\n",
              "      <th>4.5</th>\n",
              "      <td>2</td>\n",
              "    </tr>\n",
              "    <tr>\n",
              "      <th>5.5</th>\n",
              "      <td>2</td>\n",
              "    </tr>\n",
              "    <tr>\n",
              "      <th>3.5</th>\n",
              "      <td>1</td>\n",
              "    </tr>\n",
              "  </tbody>\n",
              "</table><br><label><b>dtype:</b> int64</label>"
            ]
          },
          "metadata": {},
          "execution_count": 27
        }
      ]
    },
    {
      "cell_type": "code",
      "source": [
        "print('강수량이 0인 항목을 0.01로 변경')\n",
        "weather['rain']=weather['rain'].replace(0,0.01)\n",
        "print(weather['rain'].value_counts())"
      ],
      "metadata": {
        "colab": {
          "base_uri": "https://localhost:8080/"
        },
        "id": "RHEjdJ_gXNcI",
        "outputId": "79a779ac-ffdd-4e93-af7e-f724a5b1c3e4"
      },
      "execution_count": null,
      "outputs": [
        {
          "output_type": "stream",
          "name": "stdout",
          "text": [
            "강수량이 0인 항목을 0.01로 변경\n",
            "rain\n",
            "0.01    673\n",
            "0.50     37\n",
            "1.00     11\n",
            "2.00      4\n",
            "3.00      4\n",
            "1.50      3\n",
            "2.50      3\n",
            "4.00      3\n",
            "4.50      2\n",
            "5.50      2\n",
            "3.50      1\n",
            "Name: count, dtype: int64\n"
          ]
        }
      ]
    },
    {
      "cell_type": "markdown",
      "source": [
        "두 데이터의 크기 확인"
      ],
      "metadata": {
        "id": "ZB42tAgWXgcD"
      }
    },
    {
      "cell_type": "code",
      "source": [
        "print('dust,weather 크기 확인')\n",
        "print('dust.shape',dust.shape)\n",
        "print('weather.shape',weather.shape)"
      ],
      "metadata": {
        "colab": {
          "base_uri": "https://localhost:8080/"
        },
        "id": "sPy85zqcXcdz",
        "outputId": "6e7c7351-21fe-4afd-b6c7-fab2070ce67b"
      },
      "execution_count": null,
      "outputs": [
        {
          "output_type": "stream",
          "name": "stdout",
          "text": [
            "dust,weather 크기 확인\n",
            "dust.shape (744, 10)\n",
            "weather.shape (743, 5)\n"
          ]
        }
      ]
    },
    {
      "cell_type": "code",
      "source": [
        "print(dust.iloc[740:])"
      ],
      "metadata": {
        "colab": {
          "base_uri": "https://localhost:8080/"
        },
        "id": "1fs60I1tYSgG",
        "outputId": "0c68f134-5504-449c-e983-db3886c1f603"
      },
      "execution_count": null,
      "outputs": [
        {
          "output_type": "stream",
          "name": "stdout",
          "text": [
            "          date  year  month  day     so2    co      o3     no2  PM10  PM2.5\n",
            "740 2023-12-31  2023     12   31  0.0026  0.77  0.0088  0.0400  35.0   30.0\n",
            "741 2023-12-31  2023     12   31  0.0029  0.74  0.0086  0.0387  32.0   26.0\n",
            "742 2023-12-31  2023     12   31  0.0031  0.86  0.0034  0.0417  33.0   30.0\n",
            "743 2023-12-31  2023     12   31  0.0031  0.92  0.0021  0.0394  28.0   23.0\n"
          ]
        }
      ]
    },
    {
      "cell_type": "code",
      "source": [
        "print(weather.iloc[740:])"
      ],
      "metadata": {
        "colab": {
          "base_uri": "https://localhost:8080/"
        },
        "id": "Fh1P2lRFYWf0",
        "outputId": "cf04625b-9623-440c-d0c3-a678c58fbd83"
      },
      "execution_count": null,
      "outputs": [
        {
          "output_type": "stream",
          "name": "stdout",
          "text": [
            "          date  temp  wind  rain  humidity\n",
            "740 2023-12-31   0.4   0.1  0.01        96\n",
            "741 2023-12-31   0.0   0.1  0.01        97\n",
            "742 2023-12-31  -0.2   0.2  0.01        98\n"
          ]
        }
      ]
    },
    {
      "cell_type": "code",
      "source": [
        "dust.drop(index=743,inplace=True)\n",
        "print(dust.shape)"
      ],
      "metadata": {
        "colab": {
          "base_uri": "https://localhost:8080/"
        },
        "id": "Zh-Nj7BRYaeU",
        "outputId": "32ce7794-49e3-482e-9b4e-7251f2537bec"
      },
      "execution_count": null,
      "outputs": [
        {
          "output_type": "stream",
          "name": "stdout",
          "text": [
            "(743, 10)\n"
          ]
        }
      ]
    },
    {
      "cell_type": "markdown",
      "source": [
        "데이터프레임 병합하기: merge()"
      ],
      "metadata": {
        "id": "w51D_UcXYhWr"
      }
    },
    {
      "cell_type": "code",
      "source": [
        "dust"
      ],
      "metadata": {
        "colab": {
          "base_uri": "https://localhost:8080/",
          "height": 423
        },
        "id": "fg-PWi8Oaq-G",
        "outputId": "4f8d0226-0dba-4419-e8b3-5f9dd74fa919"
      },
      "execution_count": null,
      "outputs": [
        {
          "output_type": "execute_result",
          "data": {
            "text/plain": [
              "          date  year  month  day     so2    co      o3     no2  PM10  PM2.5\n",
              "0   2023-12-01  2023     12    1  0.0029  0.31  0.0296  0.0114  18.0    9.0\n",
              "1   2023-12-01  2023     12    1  0.0026  0.33  0.0314  0.0089  17.0    8.0\n",
              "2   2023-12-01  2023     12    1  0.0026  0.34  0.0298  0.0096  20.0    9.0\n",
              "3   2023-12-01  2023     12    1  0.0024  0.34  0.0265  0.0125  18.0    9.0\n",
              "4   2023-12-01  2023     12    1  0.0023  0.33  0.0270  0.0126  19.0   10.0\n",
              "..         ...   ...    ...  ...     ...   ...     ...     ...   ...    ...\n",
              "738 2023-12-31  2023     12   31  0.0028  0.76  0.0134  0.0345  20.0   15.0\n",
              "739 2023-12-31  2023     12   31  0.0031  0.75  0.0096  0.0390  28.0   24.0\n",
              "740 2023-12-31  2023     12   31  0.0026  0.77  0.0088  0.0400  35.0   30.0\n",
              "741 2023-12-31  2023     12   31  0.0029  0.74  0.0086  0.0387  32.0   26.0\n",
              "742 2023-12-31  2023     12   31  0.0031  0.86  0.0034  0.0417  33.0   30.0\n",
              "\n",
              "[743 rows x 10 columns]"
            ],
            "text/html": [
              "\n",
              "  <div id=\"df-b77a69bd-b044-4cc2-9598-69a8e9d4a26c\" class=\"colab-df-container\">\n",
              "    <div>\n",
              "<style scoped>\n",
              "    .dataframe tbody tr th:only-of-type {\n",
              "        vertical-align: middle;\n",
              "    }\n",
              "\n",
              "    .dataframe tbody tr th {\n",
              "        vertical-align: top;\n",
              "    }\n",
              "\n",
              "    .dataframe thead th {\n",
              "        text-align: right;\n",
              "    }\n",
              "</style>\n",
              "<table border=\"1\" class=\"dataframe\">\n",
              "  <thead>\n",
              "    <tr style=\"text-align: right;\">\n",
              "      <th></th>\n",
              "      <th>date</th>\n",
              "      <th>year</th>\n",
              "      <th>month</th>\n",
              "      <th>day</th>\n",
              "      <th>so2</th>\n",
              "      <th>co</th>\n",
              "      <th>o3</th>\n",
              "      <th>no2</th>\n",
              "      <th>PM10</th>\n",
              "      <th>PM2.5</th>\n",
              "    </tr>\n",
              "  </thead>\n",
              "  <tbody>\n",
              "    <tr>\n",
              "      <th>0</th>\n",
              "      <td>2023-12-01</td>\n",
              "      <td>2023</td>\n",
              "      <td>12</td>\n",
              "      <td>1</td>\n",
              "      <td>0.0029</td>\n",
              "      <td>0.31</td>\n",
              "      <td>0.0296</td>\n",
              "      <td>0.0114</td>\n",
              "      <td>18.0</td>\n",
              "      <td>9.0</td>\n",
              "    </tr>\n",
              "    <tr>\n",
              "      <th>1</th>\n",
              "      <td>2023-12-01</td>\n",
              "      <td>2023</td>\n",
              "      <td>12</td>\n",
              "      <td>1</td>\n",
              "      <td>0.0026</td>\n",
              "      <td>0.33</td>\n",
              "      <td>0.0314</td>\n",
              "      <td>0.0089</td>\n",
              "      <td>17.0</td>\n",
              "      <td>8.0</td>\n",
              "    </tr>\n",
              "    <tr>\n",
              "      <th>2</th>\n",
              "      <td>2023-12-01</td>\n",
              "      <td>2023</td>\n",
              "      <td>12</td>\n",
              "      <td>1</td>\n",
              "      <td>0.0026</td>\n",
              "      <td>0.34</td>\n",
              "      <td>0.0298</td>\n",
              "      <td>0.0096</td>\n",
              "      <td>20.0</td>\n",
              "      <td>9.0</td>\n",
              "    </tr>\n",
              "    <tr>\n",
              "      <th>3</th>\n",
              "      <td>2023-12-01</td>\n",
              "      <td>2023</td>\n",
              "      <td>12</td>\n",
              "      <td>1</td>\n",
              "      <td>0.0024</td>\n",
              "      <td>0.34</td>\n",
              "      <td>0.0265</td>\n",
              "      <td>0.0125</td>\n",
              "      <td>18.0</td>\n",
              "      <td>9.0</td>\n",
              "    </tr>\n",
              "    <tr>\n",
              "      <th>4</th>\n",
              "      <td>2023-12-01</td>\n",
              "      <td>2023</td>\n",
              "      <td>12</td>\n",
              "      <td>1</td>\n",
              "      <td>0.0023</td>\n",
              "      <td>0.33</td>\n",
              "      <td>0.0270</td>\n",
              "      <td>0.0126</td>\n",
              "      <td>19.0</td>\n",
              "      <td>10.0</td>\n",
              "    </tr>\n",
              "    <tr>\n",
              "      <th>...</th>\n",
              "      <td>...</td>\n",
              "      <td>...</td>\n",
              "      <td>...</td>\n",
              "      <td>...</td>\n",
              "      <td>...</td>\n",
              "      <td>...</td>\n",
              "      <td>...</td>\n",
              "      <td>...</td>\n",
              "      <td>...</td>\n",
              "      <td>...</td>\n",
              "    </tr>\n",
              "    <tr>\n",
              "      <th>738</th>\n",
              "      <td>2023-12-31</td>\n",
              "      <td>2023</td>\n",
              "      <td>12</td>\n",
              "      <td>31</td>\n",
              "      <td>0.0028</td>\n",
              "      <td>0.76</td>\n",
              "      <td>0.0134</td>\n",
              "      <td>0.0345</td>\n",
              "      <td>20.0</td>\n",
              "      <td>15.0</td>\n",
              "    </tr>\n",
              "    <tr>\n",
              "      <th>739</th>\n",
              "      <td>2023-12-31</td>\n",
              "      <td>2023</td>\n",
              "      <td>12</td>\n",
              "      <td>31</td>\n",
              "      <td>0.0031</td>\n",
              "      <td>0.75</td>\n",
              "      <td>0.0096</td>\n",
              "      <td>0.0390</td>\n",
              "      <td>28.0</td>\n",
              "      <td>24.0</td>\n",
              "    </tr>\n",
              "    <tr>\n",
              "      <th>740</th>\n",
              "      <td>2023-12-31</td>\n",
              "      <td>2023</td>\n",
              "      <td>12</td>\n",
              "      <td>31</td>\n",
              "      <td>0.0026</td>\n",
              "      <td>0.77</td>\n",
              "      <td>0.0088</td>\n",
              "      <td>0.0400</td>\n",
              "      <td>35.0</td>\n",
              "      <td>30.0</td>\n",
              "    </tr>\n",
              "    <tr>\n",
              "      <th>741</th>\n",
              "      <td>2023-12-31</td>\n",
              "      <td>2023</td>\n",
              "      <td>12</td>\n",
              "      <td>31</td>\n",
              "      <td>0.0029</td>\n",
              "      <td>0.74</td>\n",
              "      <td>0.0086</td>\n",
              "      <td>0.0387</td>\n",
              "      <td>32.0</td>\n",
              "      <td>26.0</td>\n",
              "    </tr>\n",
              "    <tr>\n",
              "      <th>742</th>\n",
              "      <td>2023-12-31</td>\n",
              "      <td>2023</td>\n",
              "      <td>12</td>\n",
              "      <td>31</td>\n",
              "      <td>0.0031</td>\n",
              "      <td>0.86</td>\n",
              "      <td>0.0034</td>\n",
              "      <td>0.0417</td>\n",
              "      <td>33.0</td>\n",
              "      <td>30.0</td>\n",
              "    </tr>\n",
              "  </tbody>\n",
              "</table>\n",
              "<p>743 rows × 10 columns</p>\n",
              "</div>\n",
              "    <div class=\"colab-df-buttons\">\n",
              "\n",
              "  <div class=\"colab-df-container\">\n",
              "    <button class=\"colab-df-convert\" onclick=\"convertToInteractive('df-b77a69bd-b044-4cc2-9598-69a8e9d4a26c')\"\n",
              "            title=\"Convert this dataframe to an interactive table.\"\n",
              "            style=\"display:none;\">\n",
              "\n",
              "  <svg xmlns=\"http://www.w3.org/2000/svg\" height=\"24px\" viewBox=\"0 -960 960 960\">\n",
              "    <path d=\"M120-120v-720h720v720H120Zm60-500h600v-160H180v160Zm220 220h160v-160H400v160Zm0 220h160v-160H400v160ZM180-400h160v-160H180v160Zm440 0h160v-160H620v160ZM180-180h160v-160H180v160Zm440 0h160v-160H620v160Z\"/>\n",
              "  </svg>\n",
              "    </button>\n",
              "\n",
              "  <style>\n",
              "    .colab-df-container {\n",
              "      display:flex;\n",
              "      gap: 12px;\n",
              "    }\n",
              "\n",
              "    .colab-df-convert {\n",
              "      background-color: #E8F0FE;\n",
              "      border: none;\n",
              "      border-radius: 50%;\n",
              "      cursor: pointer;\n",
              "      display: none;\n",
              "      fill: #1967D2;\n",
              "      height: 32px;\n",
              "      padding: 0 0 0 0;\n",
              "      width: 32px;\n",
              "    }\n",
              "\n",
              "    .colab-df-convert:hover {\n",
              "      background-color: #E2EBFA;\n",
              "      box-shadow: 0px 1px 2px rgba(60, 64, 67, 0.3), 0px 1px 3px 1px rgba(60, 64, 67, 0.15);\n",
              "      fill: #174EA6;\n",
              "    }\n",
              "\n",
              "    .colab-df-buttons div {\n",
              "      margin-bottom: 4px;\n",
              "    }\n",
              "\n",
              "    [theme=dark] .colab-df-convert {\n",
              "      background-color: #3B4455;\n",
              "      fill: #D2E3FC;\n",
              "    }\n",
              "\n",
              "    [theme=dark] .colab-df-convert:hover {\n",
              "      background-color: #434B5C;\n",
              "      box-shadow: 0px 1px 3px 1px rgba(0, 0, 0, 0.15);\n",
              "      filter: drop-shadow(0px 1px 2px rgba(0, 0, 0, 0.3));\n",
              "      fill: #FFFFFF;\n",
              "    }\n",
              "  </style>\n",
              "\n",
              "    <script>\n",
              "      const buttonEl =\n",
              "        document.querySelector('#df-b77a69bd-b044-4cc2-9598-69a8e9d4a26c button.colab-df-convert');\n",
              "      buttonEl.style.display =\n",
              "        google.colab.kernel.accessAllowed ? 'block' : 'none';\n",
              "\n",
              "      async function convertToInteractive(key) {\n",
              "        const element = document.querySelector('#df-b77a69bd-b044-4cc2-9598-69a8e9d4a26c');\n",
              "        const dataTable =\n",
              "          await google.colab.kernel.invokeFunction('convertToInteractive',\n",
              "                                                    [key], {});\n",
              "        if (!dataTable) return;\n",
              "\n",
              "        const docLinkHtml = 'Like what you see? Visit the ' +\n",
              "          '<a target=\"_blank\" href=https://colab.research.google.com/notebooks/data_table.ipynb>data table notebook</a>'\n",
              "          + ' to learn more about interactive tables.';\n",
              "        element.innerHTML = '';\n",
              "        dataTable['output_type'] = 'display_data';\n",
              "        await google.colab.output.renderOutput(dataTable, element);\n",
              "        const docLink = document.createElement('div');\n",
              "        docLink.innerHTML = docLinkHtml;\n",
              "        element.appendChild(docLink);\n",
              "      }\n",
              "    </script>\n",
              "  </div>\n",
              "\n",
              "\n",
              "<div id=\"df-627540c3-1eb3-47a3-b899-072cc0a264d0\">\n",
              "  <button class=\"colab-df-quickchart\" onclick=\"quickchart('df-627540c3-1eb3-47a3-b899-072cc0a264d0')\"\n",
              "            title=\"Suggest charts\"\n",
              "            style=\"display:none;\">\n",
              "\n",
              "<svg xmlns=\"http://www.w3.org/2000/svg\" height=\"24px\"viewBox=\"0 0 24 24\"\n",
              "     width=\"24px\">\n",
              "    <g>\n",
              "        <path d=\"M19 3H5c-1.1 0-2 .9-2 2v14c0 1.1.9 2 2 2h14c1.1 0 2-.9 2-2V5c0-1.1-.9-2-2-2zM9 17H7v-7h2v7zm4 0h-2V7h2v10zm4 0h-2v-4h2v4z\"/>\n",
              "    </g>\n",
              "</svg>\n",
              "  </button>\n",
              "\n",
              "<style>\n",
              "  .colab-df-quickchart {\n",
              "      --bg-color: #E8F0FE;\n",
              "      --fill-color: #1967D2;\n",
              "      --hover-bg-color: #E2EBFA;\n",
              "      --hover-fill-color: #174EA6;\n",
              "      --disabled-fill-color: #AAA;\n",
              "      --disabled-bg-color: #DDD;\n",
              "  }\n",
              "\n",
              "  [theme=dark] .colab-df-quickchart {\n",
              "      --bg-color: #3B4455;\n",
              "      --fill-color: #D2E3FC;\n",
              "      --hover-bg-color: #434B5C;\n",
              "      --hover-fill-color: #FFFFFF;\n",
              "      --disabled-bg-color: #3B4455;\n",
              "      --disabled-fill-color: #666;\n",
              "  }\n",
              "\n",
              "  .colab-df-quickchart {\n",
              "    background-color: var(--bg-color);\n",
              "    border: none;\n",
              "    border-radius: 50%;\n",
              "    cursor: pointer;\n",
              "    display: none;\n",
              "    fill: var(--fill-color);\n",
              "    height: 32px;\n",
              "    padding: 0;\n",
              "    width: 32px;\n",
              "  }\n",
              "\n",
              "  .colab-df-quickchart:hover {\n",
              "    background-color: var(--hover-bg-color);\n",
              "    box-shadow: 0 1px 2px rgba(60, 64, 67, 0.3), 0 1px 3px 1px rgba(60, 64, 67, 0.15);\n",
              "    fill: var(--button-hover-fill-color);\n",
              "  }\n",
              "\n",
              "  .colab-df-quickchart-complete:disabled,\n",
              "  .colab-df-quickchart-complete:disabled:hover {\n",
              "    background-color: var(--disabled-bg-color);\n",
              "    fill: var(--disabled-fill-color);\n",
              "    box-shadow: none;\n",
              "  }\n",
              "\n",
              "  .colab-df-spinner {\n",
              "    border: 2px solid var(--fill-color);\n",
              "    border-color: transparent;\n",
              "    border-bottom-color: var(--fill-color);\n",
              "    animation:\n",
              "      spin 1s steps(1) infinite;\n",
              "  }\n",
              "\n",
              "  @keyframes spin {\n",
              "    0% {\n",
              "      border-color: transparent;\n",
              "      border-bottom-color: var(--fill-color);\n",
              "      border-left-color: var(--fill-color);\n",
              "    }\n",
              "    20% {\n",
              "      border-color: transparent;\n",
              "      border-left-color: var(--fill-color);\n",
              "      border-top-color: var(--fill-color);\n",
              "    }\n",
              "    30% {\n",
              "      border-color: transparent;\n",
              "      border-left-color: var(--fill-color);\n",
              "      border-top-color: var(--fill-color);\n",
              "      border-right-color: var(--fill-color);\n",
              "    }\n",
              "    40% {\n",
              "      border-color: transparent;\n",
              "      border-right-color: var(--fill-color);\n",
              "      border-top-color: var(--fill-color);\n",
              "    }\n",
              "    60% {\n",
              "      border-color: transparent;\n",
              "      border-right-color: var(--fill-color);\n",
              "    }\n",
              "    80% {\n",
              "      border-color: transparent;\n",
              "      border-right-color: var(--fill-color);\n",
              "      border-bottom-color: var(--fill-color);\n",
              "    }\n",
              "    90% {\n",
              "      border-color: transparent;\n",
              "      border-bottom-color: var(--fill-color);\n",
              "    }\n",
              "  }\n",
              "</style>\n",
              "\n",
              "  <script>\n",
              "    async function quickchart(key) {\n",
              "      const quickchartButtonEl =\n",
              "        document.querySelector('#' + key + ' button');\n",
              "      quickchartButtonEl.disabled = true;  // To prevent multiple clicks.\n",
              "      quickchartButtonEl.classList.add('colab-df-spinner');\n",
              "      try {\n",
              "        const charts = await google.colab.kernel.invokeFunction(\n",
              "            'suggestCharts', [key], {});\n",
              "      } catch (error) {\n",
              "        console.error('Error during call to suggestCharts:', error);\n",
              "      }\n",
              "      quickchartButtonEl.classList.remove('colab-df-spinner');\n",
              "      quickchartButtonEl.classList.add('colab-df-quickchart-complete');\n",
              "    }\n",
              "    (() => {\n",
              "      let quickchartButtonEl =\n",
              "        document.querySelector('#df-627540c3-1eb3-47a3-b899-072cc0a264d0 button');\n",
              "      quickchartButtonEl.style.display =\n",
              "        google.colab.kernel.accessAllowed ? 'block' : 'none';\n",
              "    })();\n",
              "  </script>\n",
              "</div>\n",
              "\n",
              "  <div id=\"id_7b37578b-1716-4fce-8ca9-37c63ee02f27\">\n",
              "    <style>\n",
              "      .colab-df-generate {\n",
              "        background-color: #E8F0FE;\n",
              "        border: none;\n",
              "        border-radius: 50%;\n",
              "        cursor: pointer;\n",
              "        display: none;\n",
              "        fill: #1967D2;\n",
              "        height: 32px;\n",
              "        padding: 0 0 0 0;\n",
              "        width: 32px;\n",
              "      }\n",
              "\n",
              "      .colab-df-generate:hover {\n",
              "        background-color: #E2EBFA;\n",
              "        box-shadow: 0px 1px 2px rgba(60, 64, 67, 0.3), 0px 1px 3px 1px rgba(60, 64, 67, 0.15);\n",
              "        fill: #174EA6;\n",
              "      }\n",
              "\n",
              "      [theme=dark] .colab-df-generate {\n",
              "        background-color: #3B4455;\n",
              "        fill: #D2E3FC;\n",
              "      }\n",
              "\n",
              "      [theme=dark] .colab-df-generate:hover {\n",
              "        background-color: #434B5C;\n",
              "        box-shadow: 0px 1px 3px 1px rgba(0, 0, 0, 0.15);\n",
              "        filter: drop-shadow(0px 1px 2px rgba(0, 0, 0, 0.3));\n",
              "        fill: #FFFFFF;\n",
              "      }\n",
              "    </style>\n",
              "    <button class=\"colab-df-generate\" onclick=\"generateWithVariable('dust')\"\n",
              "            title=\"Generate code using this dataframe.\"\n",
              "            style=\"display:none;\">\n",
              "\n",
              "  <svg xmlns=\"http://www.w3.org/2000/svg\" height=\"24px\"viewBox=\"0 0 24 24\"\n",
              "       width=\"24px\">\n",
              "    <path d=\"M7,19H8.4L18.45,9,17,7.55,7,17.6ZM5,21V16.75L18.45,3.32a2,2,0,0,1,2.83,0l1.4,1.43a1.91,1.91,0,0,1,.58,1.4,1.91,1.91,0,0,1-.58,1.4L9.25,21ZM18.45,9,17,7.55Zm-12,3A5.31,5.31,0,0,0,4.9,8.1,5.31,5.31,0,0,0,1,6.5,5.31,5.31,0,0,0,4.9,4.9,5.31,5.31,0,0,0,6.5,1,5.31,5.31,0,0,0,8.1,4.9,5.31,5.31,0,0,0,12,6.5,5.46,5.46,0,0,0,6.5,12Z\"/>\n",
              "  </svg>\n",
              "    </button>\n",
              "    <script>\n",
              "      (() => {\n",
              "      const buttonEl =\n",
              "        document.querySelector('#id_7b37578b-1716-4fce-8ca9-37c63ee02f27 button.colab-df-generate');\n",
              "      buttonEl.style.display =\n",
              "        google.colab.kernel.accessAllowed ? 'block' : 'none';\n",
              "\n",
              "      buttonEl.onclick = () => {\n",
              "        google.colab.notebook.generateWithVariable('dust');\n",
              "      }\n",
              "      })();\n",
              "    </script>\n",
              "  </div>\n",
              "\n",
              "    </div>\n",
              "  </div>\n"
            ],
            "application/vnd.google.colaboratory.intrinsic+json": {
              "type": "dataframe",
              "variable_name": "dust",
              "summary": "{\n  \"name\": \"dust\",\n  \"rows\": 743,\n  \"fields\": [\n    {\n      \"column\": \"date\",\n      \"properties\": {\n        \"dtype\": \"date\",\n        \"min\": \"2023-12-01 00:00:00\",\n        \"max\": \"2023-12-31 00:00:00\",\n        \"num_unique_values\": 31,\n        \"samples\": [\n          \"2023-12-28 00:00:00\",\n          \"2023-12-16 00:00:00\",\n          \"2023-12-24 00:00:00\"\n        ],\n        \"semantic_type\": \"\",\n        \"description\": \"\"\n      }\n    },\n    {\n      \"column\": \"year\",\n      \"properties\": {\n        \"dtype\": \"int32\",\n        \"num_unique_values\": 1,\n        \"samples\": [\n          2023\n        ],\n        \"semantic_type\": \"\",\n        \"description\": \"\"\n      }\n    },\n    {\n      \"column\": \"month\",\n      \"properties\": {\n        \"dtype\": \"int32\",\n        \"num_unique_values\": 1,\n        \"samples\": [\n          12\n        ],\n        \"semantic_type\": \"\",\n        \"description\": \"\"\n      }\n    },\n    {\n      \"column\": \"day\",\n      \"properties\": {\n        \"dtype\": \"int32\",\n        \"num_unique_values\": 31,\n        \"samples\": [\n          28\n        ],\n        \"semantic_type\": \"\",\n        \"description\": \"\"\n      }\n    },\n    {\n      \"column\": \"so2\",\n      \"properties\": {\n        \"dtype\": \"number\",\n        \"std\": 0.0005474303574219653,\n        \"min\": 0.0018,\n        \"max\": 0.005,\n        \"num_unique_values\": 29,\n        \"samples\": [\n          0.0018\n        ],\n        \"semantic_type\": \"\",\n        \"description\": \"\"\n      }\n    },\n    {\n      \"column\": \"co\",\n      \"properties\": {\n        \"dtype\": \"number\",\n        \"std\": 0.1734716194864371,\n        \"min\": 0.21,\n        \"max\": 1.3,\n        \"num_unique_values\": 77,\n        \"samples\": [\n          0.39\n        ],\n        \"semantic_type\": \"\",\n        \"description\": \"\"\n      }\n    },\n    {\n      \"column\": \"o3\",\n      \"properties\": {\n        \"dtype\": \"number\",\n        \"std\": 0.012795851680828543,\n        \"min\": 0.0013,\n        \"max\": 0.0629,\n        \"num_unique_values\": 311,\n        \"samples\": [\n          0.0229\n        ],\n        \"semantic_type\": \"\",\n        \"description\": \"\"\n      }\n    },\n    {\n      \"column\": \"no2\",\n      \"properties\": {\n        \"dtype\": \"number\",\n        \"std\": 0.014471457558836064,\n        \"min\": 0.0048,\n        \"max\": 0.0646,\n        \"num_unique_values\": 385,\n        \"samples\": [\n          0.019\n        ],\n        \"semantic_type\": \"\",\n        \"description\": \"\"\n      }\n    },\n    {\n      \"column\": \"PM10\",\n      \"properties\": {\n        \"dtype\": \"number\",\n        \"std\": 24.17920204121254,\n        \"min\": 3.0,\n        \"max\": 133.0,\n        \"num_unique_values\": 95,\n        \"samples\": [\n          67.0\n        ],\n        \"semantic_type\": \"\",\n        \"description\": \"\"\n      }\n    },\n    {\n      \"column\": \"PM2.5\",\n      \"properties\": {\n        \"dtype\": \"number\",\n        \"std\": 14.713899582845904,\n        \"min\": 1.0,\n        \"max\": 83.0,\n        \"num_unique_values\": 66,\n        \"samples\": [\n          41.0\n        ],\n        \"semantic_type\": \"\",\n        \"description\": \"\"\n      }\n    }\n  ]\n}"
            }
          },
          "metadata": {},
          "execution_count": 35
        }
      ]
    },
    {
      "cell_type": "code",
      "source": [
        "weather"
      ],
      "metadata": {
        "colab": {
          "base_uri": "https://localhost:8080/",
          "height": 423
        },
        "id": "kacN8miPauW7",
        "outputId": "d3310ced-b3c5-44f5-bb41-fc5f5c1e1eb1"
      },
      "execution_count": null,
      "outputs": [
        {
          "output_type": "execute_result",
          "data": {
            "text/plain": [
              "          date  temp  wind  rain  humidity\n",
              "0   2023-12-01  -4.1   0.8  0.01        57\n",
              "1   2023-12-01  -4.5   2.0  0.01        54\n",
              "2   2023-12-01  -4.9   1.0  0.01        56\n",
              "3   2023-12-01  -5.3   0.0  0.01        65\n",
              "4   2023-12-01  -5.1   0.4  0.01        58\n",
              "..         ...   ...   ...   ...       ...\n",
              "738 2023-12-31   1.4   0.0  0.01        92\n",
              "739 2023-12-31   0.8   0.5  0.01        95\n",
              "740 2023-12-31   0.4   0.1  0.01        96\n",
              "741 2023-12-31   0.0   0.1  0.01        97\n",
              "742 2023-12-31  -0.2   0.2  0.01        98\n",
              "\n",
              "[743 rows x 5 columns]"
            ],
            "text/html": [
              "\n",
              "  <div id=\"df-ac0b1c5e-8ac8-4190-b76d-fb8861180503\" class=\"colab-df-container\">\n",
              "    <div>\n",
              "<style scoped>\n",
              "    .dataframe tbody tr th:only-of-type {\n",
              "        vertical-align: middle;\n",
              "    }\n",
              "\n",
              "    .dataframe tbody tr th {\n",
              "        vertical-align: top;\n",
              "    }\n",
              "\n",
              "    .dataframe thead th {\n",
              "        text-align: right;\n",
              "    }\n",
              "</style>\n",
              "<table border=\"1\" class=\"dataframe\">\n",
              "  <thead>\n",
              "    <tr style=\"text-align: right;\">\n",
              "      <th></th>\n",
              "      <th>date</th>\n",
              "      <th>temp</th>\n",
              "      <th>wind</th>\n",
              "      <th>rain</th>\n",
              "      <th>humidity</th>\n",
              "    </tr>\n",
              "  </thead>\n",
              "  <tbody>\n",
              "    <tr>\n",
              "      <th>0</th>\n",
              "      <td>2023-12-01</td>\n",
              "      <td>-4.1</td>\n",
              "      <td>0.8</td>\n",
              "      <td>0.01</td>\n",
              "      <td>57</td>\n",
              "    </tr>\n",
              "    <tr>\n",
              "      <th>1</th>\n",
              "      <td>2023-12-01</td>\n",
              "      <td>-4.5</td>\n",
              "      <td>2.0</td>\n",
              "      <td>0.01</td>\n",
              "      <td>54</td>\n",
              "    </tr>\n",
              "    <tr>\n",
              "      <th>2</th>\n",
              "      <td>2023-12-01</td>\n",
              "      <td>-4.9</td>\n",
              "      <td>1.0</td>\n",
              "      <td>0.01</td>\n",
              "      <td>56</td>\n",
              "    </tr>\n",
              "    <tr>\n",
              "      <th>3</th>\n",
              "      <td>2023-12-01</td>\n",
              "      <td>-5.3</td>\n",
              "      <td>0.0</td>\n",
              "      <td>0.01</td>\n",
              "      <td>65</td>\n",
              "    </tr>\n",
              "    <tr>\n",
              "      <th>4</th>\n",
              "      <td>2023-12-01</td>\n",
              "      <td>-5.1</td>\n",
              "      <td>0.4</td>\n",
              "      <td>0.01</td>\n",
              "      <td>58</td>\n",
              "    </tr>\n",
              "    <tr>\n",
              "      <th>...</th>\n",
              "      <td>...</td>\n",
              "      <td>...</td>\n",
              "      <td>...</td>\n",
              "      <td>...</td>\n",
              "      <td>...</td>\n",
              "    </tr>\n",
              "    <tr>\n",
              "      <th>738</th>\n",
              "      <td>2023-12-31</td>\n",
              "      <td>1.4</td>\n",
              "      <td>0.0</td>\n",
              "      <td>0.01</td>\n",
              "      <td>92</td>\n",
              "    </tr>\n",
              "    <tr>\n",
              "      <th>739</th>\n",
              "      <td>2023-12-31</td>\n",
              "      <td>0.8</td>\n",
              "      <td>0.5</td>\n",
              "      <td>0.01</td>\n",
              "      <td>95</td>\n",
              "    </tr>\n",
              "    <tr>\n",
              "      <th>740</th>\n",
              "      <td>2023-12-31</td>\n",
              "      <td>0.4</td>\n",
              "      <td>0.1</td>\n",
              "      <td>0.01</td>\n",
              "      <td>96</td>\n",
              "    </tr>\n",
              "    <tr>\n",
              "      <th>741</th>\n",
              "      <td>2023-12-31</td>\n",
              "      <td>0.0</td>\n",
              "      <td>0.1</td>\n",
              "      <td>0.01</td>\n",
              "      <td>97</td>\n",
              "    </tr>\n",
              "    <tr>\n",
              "      <th>742</th>\n",
              "      <td>2023-12-31</td>\n",
              "      <td>-0.2</td>\n",
              "      <td>0.2</td>\n",
              "      <td>0.01</td>\n",
              "      <td>98</td>\n",
              "    </tr>\n",
              "  </tbody>\n",
              "</table>\n",
              "<p>743 rows × 5 columns</p>\n",
              "</div>\n",
              "    <div class=\"colab-df-buttons\">\n",
              "\n",
              "  <div class=\"colab-df-container\">\n",
              "    <button class=\"colab-df-convert\" onclick=\"convertToInteractive('df-ac0b1c5e-8ac8-4190-b76d-fb8861180503')\"\n",
              "            title=\"Convert this dataframe to an interactive table.\"\n",
              "            style=\"display:none;\">\n",
              "\n",
              "  <svg xmlns=\"http://www.w3.org/2000/svg\" height=\"24px\" viewBox=\"0 -960 960 960\">\n",
              "    <path d=\"M120-120v-720h720v720H120Zm60-500h600v-160H180v160Zm220 220h160v-160H400v160Zm0 220h160v-160H400v160ZM180-400h160v-160H180v160Zm440 0h160v-160H620v160ZM180-180h160v-160H180v160Zm440 0h160v-160H620v160Z\"/>\n",
              "  </svg>\n",
              "    </button>\n",
              "\n",
              "  <style>\n",
              "    .colab-df-container {\n",
              "      display:flex;\n",
              "      gap: 12px;\n",
              "    }\n",
              "\n",
              "    .colab-df-convert {\n",
              "      background-color: #E8F0FE;\n",
              "      border: none;\n",
              "      border-radius: 50%;\n",
              "      cursor: pointer;\n",
              "      display: none;\n",
              "      fill: #1967D2;\n",
              "      height: 32px;\n",
              "      padding: 0 0 0 0;\n",
              "      width: 32px;\n",
              "    }\n",
              "\n",
              "    .colab-df-convert:hover {\n",
              "      background-color: #E2EBFA;\n",
              "      box-shadow: 0px 1px 2px rgba(60, 64, 67, 0.3), 0px 1px 3px 1px rgba(60, 64, 67, 0.15);\n",
              "      fill: #174EA6;\n",
              "    }\n",
              "\n",
              "    .colab-df-buttons div {\n",
              "      margin-bottom: 4px;\n",
              "    }\n",
              "\n",
              "    [theme=dark] .colab-df-convert {\n",
              "      background-color: #3B4455;\n",
              "      fill: #D2E3FC;\n",
              "    }\n",
              "\n",
              "    [theme=dark] .colab-df-convert:hover {\n",
              "      background-color: #434B5C;\n",
              "      box-shadow: 0px 1px 3px 1px rgba(0, 0, 0, 0.15);\n",
              "      filter: drop-shadow(0px 1px 2px rgba(0, 0, 0, 0.3));\n",
              "      fill: #FFFFFF;\n",
              "    }\n",
              "  </style>\n",
              "\n",
              "    <script>\n",
              "      const buttonEl =\n",
              "        document.querySelector('#df-ac0b1c5e-8ac8-4190-b76d-fb8861180503 button.colab-df-convert');\n",
              "      buttonEl.style.display =\n",
              "        google.colab.kernel.accessAllowed ? 'block' : 'none';\n",
              "\n",
              "      async function convertToInteractive(key) {\n",
              "        const element = document.querySelector('#df-ac0b1c5e-8ac8-4190-b76d-fb8861180503');\n",
              "        const dataTable =\n",
              "          await google.colab.kernel.invokeFunction('convertToInteractive',\n",
              "                                                    [key], {});\n",
              "        if (!dataTable) return;\n",
              "\n",
              "        const docLinkHtml = 'Like what you see? Visit the ' +\n",
              "          '<a target=\"_blank\" href=https://colab.research.google.com/notebooks/data_table.ipynb>data table notebook</a>'\n",
              "          + ' to learn more about interactive tables.';\n",
              "        element.innerHTML = '';\n",
              "        dataTable['output_type'] = 'display_data';\n",
              "        await google.colab.output.renderOutput(dataTable, element);\n",
              "        const docLink = document.createElement('div');\n",
              "        docLink.innerHTML = docLinkHtml;\n",
              "        element.appendChild(docLink);\n",
              "      }\n",
              "    </script>\n",
              "  </div>\n",
              "\n",
              "\n",
              "<div id=\"df-1876fb3e-f204-449a-a54d-4166f21f85e1\">\n",
              "  <button class=\"colab-df-quickchart\" onclick=\"quickchart('df-1876fb3e-f204-449a-a54d-4166f21f85e1')\"\n",
              "            title=\"Suggest charts\"\n",
              "            style=\"display:none;\">\n",
              "\n",
              "<svg xmlns=\"http://www.w3.org/2000/svg\" height=\"24px\"viewBox=\"0 0 24 24\"\n",
              "     width=\"24px\">\n",
              "    <g>\n",
              "        <path d=\"M19 3H5c-1.1 0-2 .9-2 2v14c0 1.1.9 2 2 2h14c1.1 0 2-.9 2-2V5c0-1.1-.9-2-2-2zM9 17H7v-7h2v7zm4 0h-2V7h2v10zm4 0h-2v-4h2v4z\"/>\n",
              "    </g>\n",
              "</svg>\n",
              "  </button>\n",
              "\n",
              "<style>\n",
              "  .colab-df-quickchart {\n",
              "      --bg-color: #E8F0FE;\n",
              "      --fill-color: #1967D2;\n",
              "      --hover-bg-color: #E2EBFA;\n",
              "      --hover-fill-color: #174EA6;\n",
              "      --disabled-fill-color: #AAA;\n",
              "      --disabled-bg-color: #DDD;\n",
              "  }\n",
              "\n",
              "  [theme=dark] .colab-df-quickchart {\n",
              "      --bg-color: #3B4455;\n",
              "      --fill-color: #D2E3FC;\n",
              "      --hover-bg-color: #434B5C;\n",
              "      --hover-fill-color: #FFFFFF;\n",
              "      --disabled-bg-color: #3B4455;\n",
              "      --disabled-fill-color: #666;\n",
              "  }\n",
              "\n",
              "  .colab-df-quickchart {\n",
              "    background-color: var(--bg-color);\n",
              "    border: none;\n",
              "    border-radius: 50%;\n",
              "    cursor: pointer;\n",
              "    display: none;\n",
              "    fill: var(--fill-color);\n",
              "    height: 32px;\n",
              "    padding: 0;\n",
              "    width: 32px;\n",
              "  }\n",
              "\n",
              "  .colab-df-quickchart:hover {\n",
              "    background-color: var(--hover-bg-color);\n",
              "    box-shadow: 0 1px 2px rgba(60, 64, 67, 0.3), 0 1px 3px 1px rgba(60, 64, 67, 0.15);\n",
              "    fill: var(--button-hover-fill-color);\n",
              "  }\n",
              "\n",
              "  .colab-df-quickchart-complete:disabled,\n",
              "  .colab-df-quickchart-complete:disabled:hover {\n",
              "    background-color: var(--disabled-bg-color);\n",
              "    fill: var(--disabled-fill-color);\n",
              "    box-shadow: none;\n",
              "  }\n",
              "\n",
              "  .colab-df-spinner {\n",
              "    border: 2px solid var(--fill-color);\n",
              "    border-color: transparent;\n",
              "    border-bottom-color: var(--fill-color);\n",
              "    animation:\n",
              "      spin 1s steps(1) infinite;\n",
              "  }\n",
              "\n",
              "  @keyframes spin {\n",
              "    0% {\n",
              "      border-color: transparent;\n",
              "      border-bottom-color: var(--fill-color);\n",
              "      border-left-color: var(--fill-color);\n",
              "    }\n",
              "    20% {\n",
              "      border-color: transparent;\n",
              "      border-left-color: var(--fill-color);\n",
              "      border-top-color: var(--fill-color);\n",
              "    }\n",
              "    30% {\n",
              "      border-color: transparent;\n",
              "      border-left-color: var(--fill-color);\n",
              "      border-top-color: var(--fill-color);\n",
              "      border-right-color: var(--fill-color);\n",
              "    }\n",
              "    40% {\n",
              "      border-color: transparent;\n",
              "      border-right-color: var(--fill-color);\n",
              "      border-top-color: var(--fill-color);\n",
              "    }\n",
              "    60% {\n",
              "      border-color: transparent;\n",
              "      border-right-color: var(--fill-color);\n",
              "    }\n",
              "    80% {\n",
              "      border-color: transparent;\n",
              "      border-right-color: var(--fill-color);\n",
              "      border-bottom-color: var(--fill-color);\n",
              "    }\n",
              "    90% {\n",
              "      border-color: transparent;\n",
              "      border-bottom-color: var(--fill-color);\n",
              "    }\n",
              "  }\n",
              "</style>\n",
              "\n",
              "  <script>\n",
              "    async function quickchart(key) {\n",
              "      const quickchartButtonEl =\n",
              "        document.querySelector('#' + key + ' button');\n",
              "      quickchartButtonEl.disabled = true;  // To prevent multiple clicks.\n",
              "      quickchartButtonEl.classList.add('colab-df-spinner');\n",
              "      try {\n",
              "        const charts = await google.colab.kernel.invokeFunction(\n",
              "            'suggestCharts', [key], {});\n",
              "      } catch (error) {\n",
              "        console.error('Error during call to suggestCharts:', error);\n",
              "      }\n",
              "      quickchartButtonEl.classList.remove('colab-df-spinner');\n",
              "      quickchartButtonEl.classList.add('colab-df-quickchart-complete');\n",
              "    }\n",
              "    (() => {\n",
              "      let quickchartButtonEl =\n",
              "        document.querySelector('#df-1876fb3e-f204-449a-a54d-4166f21f85e1 button');\n",
              "      quickchartButtonEl.style.display =\n",
              "        google.colab.kernel.accessAllowed ? 'block' : 'none';\n",
              "    })();\n",
              "  </script>\n",
              "</div>\n",
              "\n",
              "  <div id=\"id_4b3c2335-670b-4edb-8383-b86bcb74b09b\">\n",
              "    <style>\n",
              "      .colab-df-generate {\n",
              "        background-color: #E8F0FE;\n",
              "        border: none;\n",
              "        border-radius: 50%;\n",
              "        cursor: pointer;\n",
              "        display: none;\n",
              "        fill: #1967D2;\n",
              "        height: 32px;\n",
              "        padding: 0 0 0 0;\n",
              "        width: 32px;\n",
              "      }\n",
              "\n",
              "      .colab-df-generate:hover {\n",
              "        background-color: #E2EBFA;\n",
              "        box-shadow: 0px 1px 2px rgba(60, 64, 67, 0.3), 0px 1px 3px 1px rgba(60, 64, 67, 0.15);\n",
              "        fill: #174EA6;\n",
              "      }\n",
              "\n",
              "      [theme=dark] .colab-df-generate {\n",
              "        background-color: #3B4455;\n",
              "        fill: #D2E3FC;\n",
              "      }\n",
              "\n",
              "      [theme=dark] .colab-df-generate:hover {\n",
              "        background-color: #434B5C;\n",
              "        box-shadow: 0px 1px 3px 1px rgba(0, 0, 0, 0.15);\n",
              "        filter: drop-shadow(0px 1px 2px rgba(0, 0, 0, 0.3));\n",
              "        fill: #FFFFFF;\n",
              "      }\n",
              "    </style>\n",
              "    <button class=\"colab-df-generate\" onclick=\"generateWithVariable('weather')\"\n",
              "            title=\"Generate code using this dataframe.\"\n",
              "            style=\"display:none;\">\n",
              "\n",
              "  <svg xmlns=\"http://www.w3.org/2000/svg\" height=\"24px\"viewBox=\"0 0 24 24\"\n",
              "       width=\"24px\">\n",
              "    <path d=\"M7,19H8.4L18.45,9,17,7.55,7,17.6ZM5,21V16.75L18.45,3.32a2,2,0,0,1,2.83,0l1.4,1.43a1.91,1.91,0,0,1,.58,1.4,1.91,1.91,0,0,1-.58,1.4L9.25,21ZM18.45,9,17,7.55Zm-12,3A5.31,5.31,0,0,0,4.9,8.1,5.31,5.31,0,0,0,1,6.5,5.31,5.31,0,0,0,4.9,4.9,5.31,5.31,0,0,0,6.5,1,5.31,5.31,0,0,0,8.1,4.9,5.31,5.31,0,0,0,12,6.5,5.46,5.46,0,0,0,6.5,12Z\"/>\n",
              "  </svg>\n",
              "    </button>\n",
              "    <script>\n",
              "      (() => {\n",
              "      const buttonEl =\n",
              "        document.querySelector('#id_4b3c2335-670b-4edb-8383-b86bcb74b09b button.colab-df-generate');\n",
              "      buttonEl.style.display =\n",
              "        google.colab.kernel.accessAllowed ? 'block' : 'none';\n",
              "\n",
              "      buttonEl.onclick = () => {\n",
              "        google.colab.notebook.generateWithVariable('weather');\n",
              "      }\n",
              "      })();\n",
              "    </script>\n",
              "  </div>\n",
              "\n",
              "    </div>\n",
              "  </div>\n"
            ],
            "application/vnd.google.colaboratory.intrinsic+json": {
              "type": "dataframe",
              "variable_name": "weather",
              "summary": "{\n  \"name\": \"weather\",\n  \"rows\": 743,\n  \"fields\": [\n    {\n      \"column\": \"date\",\n      \"properties\": {\n        \"dtype\": \"date\",\n        \"min\": \"2023-12-01 00:00:00\",\n        \"max\": \"2023-12-31 00:00:00\",\n        \"num_unique_values\": 31,\n        \"samples\": [\n          \"2023-12-28 00:00:00\",\n          \"2023-12-16 00:00:00\",\n          \"2023-12-24 00:00:00\"\n        ],\n        \"semantic_type\": \"\",\n        \"description\": \"\"\n      }\n    },\n    {\n      \"column\": \"temp\",\n      \"properties\": {\n        \"dtype\": \"number\",\n        \"std\": 7.0051764365605855,\n        \"min\": -13.7,\n        \"max\": 17.9,\n        \"num_unique_values\": 257,\n        \"samples\": [\n          1.1,\n          -9.3,\n          6.7\n        ],\n        \"semantic_type\": \"\",\n        \"description\": \"\"\n      }\n    },\n    {\n      \"column\": \"wind\",\n      \"properties\": {\n        \"dtype\": \"number\",\n        \"std\": 0.8374386031673856,\n        \"min\": 0.0,\n        \"max\": 4.4,\n        \"num_unique_values\": 41,\n        \"samples\": [\n          3.1,\n          2.8,\n          1.5\n        ],\n        \"semantic_type\": \"\",\n        \"description\": \"\"\n      }\n    },\n    {\n      \"column\": \"rain\",\n      \"properties\": {\n        \"dtype\": \"number\",\n        \"std\": 0.5741342795054771,\n        \"min\": 0.01,\n        \"max\": 5.5,\n        \"num_unique_values\": 11,\n        \"samples\": [\n          2.5,\n          0.01,\n          5.5\n        ],\n        \"semantic_type\": \"\",\n        \"description\": \"\"\n      }\n    },\n    {\n      \"column\": \"humidity\",\n      \"properties\": {\n        \"dtype\": \"number\",\n        \"std\": 18,\n        \"min\": 26,\n        \"max\": 99,\n        \"num_unique_values\": 73,\n        \"samples\": [\n          58,\n          96,\n          64\n        ],\n        \"semantic_type\": \"\",\n        \"description\": \"\"\n      }\n    }\n  ]\n}"
            }
          },
          "metadata": {},
          "execution_count": 36
        }
      ]
    },
    {
      "cell_type": "code",
      "source": [
        "print('dust, weather 데이터 프레임 merge')\n",
        "\n",
        "merged_df=pd.merge(dust,weather,on='date')\n",
        "print(merged_df.head())"
      ],
      "metadata": {
        "colab": {
          "base_uri": "https://localhost:8080/"
        },
        "id": "BBTP5QIPYgVi",
        "outputId": "16ad4929-67d1-4de2-a58a-352a23446022"
      },
      "execution_count": null,
      "outputs": [
        {
          "output_type": "stream",
          "name": "stdout",
          "text": [
            "dust, weather 데이터 프레임 merge\n",
            "        date  year  month  day     so2    co      o3     no2  PM10  PM2.5  \\\n",
            "0 2023-12-01  2023     12    1  0.0029  0.31  0.0296  0.0114  18.0    9.0   \n",
            "1 2023-12-01  2023     12    1  0.0029  0.31  0.0296  0.0114  18.0    9.0   \n",
            "2 2023-12-01  2023     12    1  0.0029  0.31  0.0296  0.0114  18.0    9.0   \n",
            "3 2023-12-01  2023     12    1  0.0029  0.31  0.0296  0.0114  18.0    9.0   \n",
            "4 2023-12-01  2023     12    1  0.0029  0.31  0.0296  0.0114  18.0    9.0   \n",
            "\n",
            "   temp  wind  rain  humidity  \n",
            "0  -4.1   0.8  0.01        57  \n",
            "1  -4.5   2.0  0.01        54  \n",
            "2  -4.9   1.0  0.01        56  \n",
            "3  -5.3   0.0  0.01        65  \n",
            "4  -5.1   0.4  0.01        58  \n"
          ]
        }
      ]
    },
    {
      "cell_type": "markdown",
      "source": [
        "데이터 분석: 모든 요소별 상관관계 확인"
      ],
      "metadata": {
        "id": "QK9A2SBgbR9T"
      }
    },
    {
      "cell_type": "code",
      "source": [
        "pd.set_option('display.max_columns',None)\n",
        "pd.set_option('display.max_rows',None)\n",
        "\n",
        "print(merged_df.corr())"
      ],
      "metadata": {
        "colab": {
          "base_uri": "https://localhost:8080/"
        },
        "id": "83FbfUuSaV8j",
        "outputId": "273ee00f-65b5-4ce6-99a0-db33707d1796"
      },
      "execution_count": null,
      "outputs": [
        {
          "output_type": "stream",
          "name": "stdout",
          "text": [
            "              date  year  month       day       so2        co        o3  \\\n",
            "date      1.000000   NaN    NaN  1.000000 -0.310370  0.279067 -0.212558   \n",
            "year           NaN   NaN    NaN       NaN       NaN       NaN       NaN   \n",
            "month          NaN   NaN    NaN       NaN       NaN       NaN       NaN   \n",
            "day       1.000000   NaN    NaN  1.000000 -0.310370  0.279067 -0.212558   \n",
            "so2      -0.310370   NaN    NaN -0.310370  1.000000  0.489319 -0.131654   \n",
            "co        0.279067   NaN    NaN  0.279067  0.489319  1.000000 -0.563577   \n",
            "o3       -0.212558   NaN    NaN -0.212558 -0.131654 -0.563577  1.000000   \n",
            "no2       0.121090   NaN    NaN  0.121090  0.470415  0.801014 -0.800695   \n",
            "PM10     -0.063637   NaN    NaN -0.063637  0.602759  0.615911 -0.043040   \n",
            "PM2.5     0.231274   NaN    NaN  0.231274  0.531579  0.798599 -0.306547   \n",
            "temp     -0.403202   NaN    NaN -0.403202  0.411110  0.046148  0.101268   \n",
            "wind     -0.110879   NaN    NaN -0.110879 -0.244332 -0.327946  0.381424   \n",
            "rain      0.019116   NaN    NaN  0.019116 -0.139825 -0.176217  0.068688   \n",
            "humidity  0.246675   NaN    NaN  0.246675  0.049864  0.142170 -0.079127   \n",
            "\n",
            "               no2      PM10     PM2.5      temp      wind      rain  humidity  \n",
            "date      0.121090 -0.063637  0.231274 -0.403202 -0.110879  0.019116  0.246675  \n",
            "year           NaN       NaN       NaN       NaN       NaN       NaN       NaN  \n",
            "month          NaN       NaN       NaN       NaN       NaN       NaN       NaN  \n",
            "day       0.121090 -0.063637  0.231274 -0.403202 -0.110879  0.019116  0.246675  \n",
            "so2       0.470415  0.602759  0.531579  0.411110 -0.244332 -0.139825  0.049864  \n",
            "co        0.801014  0.615911  0.798599  0.046148 -0.327946 -0.176217  0.142170  \n",
            "o3       -0.800695 -0.043040 -0.306547  0.101268  0.381424  0.068688 -0.079127  \n",
            "no2       1.000000  0.455161  0.615024  0.097954 -0.423879 -0.146076  0.094393  \n",
            "PM10      0.455161  1.000000  0.843908  0.331628 -0.119268 -0.219845  0.077039  \n",
            "PM2.5     0.615024  0.843908  1.000000  0.102536 -0.247740 -0.206511  0.166173  \n",
            "temp      0.097954  0.331628  0.102536  1.000000 -0.134676  0.131027  0.282143  \n",
            "wind     -0.423879 -0.119268 -0.247740 -0.134676  1.000000  0.015539 -0.393499  \n",
            "rain     -0.146076 -0.219845 -0.206511  0.131027  0.015539  1.000000  0.350176  \n",
            "humidity  0.094393  0.077039  0.166173  0.282143 -0.393499  0.350176  1.000000  \n"
          ]
        }
      ]
    },
    {
      "cell_type": "markdown",
      "source": [
        "데이터 분석: 미세먼지(PM 10)과 상관관계"
      ],
      "metadata": {
        "id": "xEKt8LfibitM"
      }
    },
    {
      "cell_type": "code",
      "source": [
        "print('미세먼지 (PM 10) 과 상관관계 분석')\n",
        "corr=merged_df.corr()\n",
        "print(corr['PM10'].sort_values(ascending=False))"
      ],
      "metadata": {
        "colab": {
          "base_uri": "https://localhost:8080/"
        },
        "id": "SLZM9JHobgs-",
        "outputId": "3abe6659-f84f-49d6-f7ad-52c8fa8c6182"
      },
      "execution_count": null,
      "outputs": [
        {
          "output_type": "stream",
          "name": "stdout",
          "text": [
            "미세먼지 (PM 10) 과 상관관계 분석\n",
            "PM10        1.000000\n",
            "PM2.5       0.843908\n",
            "co          0.615911\n",
            "so2         0.602759\n",
            "no2         0.455161\n",
            "temp        0.331628\n",
            "humidity    0.077039\n",
            "o3         -0.043040\n",
            "day        -0.063637\n",
            "date       -0.063637\n",
            "wind       -0.119268\n",
            "rain       -0.219845\n",
            "year             NaN\n",
            "month            NaN\n",
            "Name: PM10, dtype: float64\n"
          ]
        }
      ]
    },
    {
      "cell_type": "markdown",
      "source": [
        "데이터 시각화: 히스토그램"
      ],
      "metadata": {
        "id": "gvSuosWFcVhJ"
      }
    },
    {
      "cell_type": "code",
      "source": [
        "import matplotlib.pyplot as plt"
      ],
      "metadata": {
        "id": "NR6t8hnrcQSx"
      },
      "execution_count": null,
      "outputs": []
    },
    {
      "cell_type": "code",
      "source": [
        "merged_df.hist(column=['so2','co','o3','no2','PM10','PM2.5','temp','wind','rain','humidity'],\n",
        "               bins=50, figsize=(20,15))\n",
        "plt.show()"
      ],
      "metadata": {
        "colab": {
          "base_uri": "https://localhost:8080/",
          "height": 630
        },
        "id": "iUupWSEodDgI",
        "outputId": "da4bc13f-1063-47ac-cb78-efff44e50598"
      },
      "execution_count": null,
      "outputs": [
        {
          "output_type": "display_data",
          "data": {
            "text/plain": [
              "<Figure size 2000x1500 with 12 Axes>"
            ],
            "image/png": "[encoded data removed]"
          },
          "metadata": {}
        }
      ]
    },
    {
      "cell_type": "markdown",
      "source": [
        "데이터 시각화: 막대그래프"
      ],
      "metadata": {
        "id": "F_Ebt5bPdidn"
      }
    },
    {
      "cell_type": "code",
      "source": [
        "%pip install koreanize-matplotlib"
      ],
      "metadata": {
        "colab": {
          "base_uri": "https://localhost:8080/"
        },
        "collapsed": true,
        "id": "_MAD79oadtoj",
        "outputId": "ffda901d-5a37-40aa-a96a-2337d7a6ed0e"
      },
      "execution_count": null,
      "outputs": [
        {
          "output_type": "stream",
          "name": "stdout",
          "text": [
            "Collecting koreanize-matplotlib\n",
            "  Downloading koreanize_matplotlib-0.1.1-py3-none-any.whl.metadata (992 bytes)\n",
            "Requirement already satisfied: matplotlib in /usr/local/lib/python3.10/dist-packages (from koreanize-matplotlib) (3.7.1)\n",
            "Requirement already satisfied: contourpy>=1.0.1 in /usr/local/lib/python3.10/dist-packages (from matplotlib->koreanize-matplotlib) (1.2.1)\n",
            "Requirement already satisfied: cycler>=0.10 in /usr/local/lib/python3.10/dist-packages (from matplotlib->koreanize-matplotlib) (0.12.1)\n",
            "Requirement already satisfied: fonttools>=4.22.0 in /usr/local/lib/python3.10/dist-packages (from matplotlib->koreanize-matplotlib) (4.53.1)\n",
            "Requirement already satisfied: kiwisolver>=1.0.1 in /usr/local/lib/python3.10/dist-packages (from matplotlib->koreanize-matplotlib) (1.4.5)\n",
            "Requirement already satisfied: numpy>=1.20 in /usr/local/lib/python3.10/dist-packages (from matplotlib->koreanize-matplotlib) (1.26.4)\n",
            "Requirement already satisfied: packaging>=20.0 in /usr/local/lib/python3.10/dist-packages (from matplotlib->koreanize-matplotlib) (24.1)\n",
            "Requirement already satisfied: pillow>=6.2.0 in /usr/local/lib/python3.10/dist-packages (from matplotlib->koreanize-matplotlib) (9.4.0)\n",
            "Requirement already satisfied: pyparsing>=2.3.1 in /usr/local/lib/python3.10/dist-packages (from matplotlib->koreanize-matplotlib) (3.1.2)\n",
            "Requirement already satisfied: python-dateutil>=2.7 in /usr/local/lib/python3.10/dist-packages (from matplotlib->koreanize-matplotlib) (2.8.2)\n",
            "Requirement already satisfied: six>=1.5 in /usr/local/lib/python3.10/dist-packages (from python-dateutil>=2.7->matplotlib->koreanize-matplotlib) (1.16.0)\n",
            "Downloading koreanize_matplotlib-0.1.1-py3-none-any.whl (7.9 MB)\n",
            "\u001b[2K   \u001b[90m━━━━━━━━━━━━━━━━━━━━━━━━━━━━━━━━━━━━━━━━\u001b[0m \u001b[32m7.9/7.9 MB\u001b[0m \u001b[31m80.3 MB/s\u001b[0m eta \u001b[36m0:00:00\u001b[0m\n",
            "\u001b[?25hInstalling collected packages: koreanize-matplotlib\n",
            "Successfully installed koreanize-matplotlib-0.1.1\n"
          ]
        }
      ]
    },
    {
      "cell_type": "code",
      "source": [
        "import matplotlib.pyplot as plt\n",
        "import seaborn as sns\n",
        "import koreanize_matplotlib"
      ],
      "metadata": {
        "id": "oB59jPhSdWjJ"
      },
      "execution_count": null,
      "outputs": []
    },
    {
      "cell_type": "code",
      "source": [
        "plt.figure(figsize=(15,10))\n",
        "daygraph=sns.barplot(x='day',y='PM10',data=merged_df)\n",
        "plt.title('날짜별 PM10 농도')\n",
        "plt.show()"
      ],
      "metadata": {
        "colab": {
          "base_uri": "https://localhost:8080/",
          "height": 580
        },
        "id": "WGmkKetWdy58",
        "outputId": "dd742886-b7e2-41f4-c196-19682c4a70ac"
      },
      "execution_count": null,
      "outputs": [
        {
          "output_type": "display_data",
          "data": {
            "text/plain": [
              "<Figure size 1500x1000 with 1 Axes>"
            ],
            "image/png": "[encoded data removed]"
          },
          "metadata": {}
        }
      ]
    },
    {
      "cell_type": "markdown",
      "source": [
        "데이터 시각화: 히트맵 작성"
      ],
      "metadata": {
        "id": "CFcHOb2ueKWz"
      }
    },
    {
      "cell_type": "code",
      "source": [
        "plt.figure(figsize=(15,10))\n",
        "sns.heatmap(data=corr,annot=True,fmt='.2f',cmap='hot')\n",
        "plt.show()"
      ],
      "metadata": {
        "colab": {
          "base_uri": "https://localhost:8080/",
          "height": 612
        },
        "id": "cNBuYJq3eBwk",
        "outputId": "7aca5dd9-4897-455b-9cf0-12bb26cb77a5"
      },
      "execution_count": null,
      "outputs": [
        {
          "output_type": "display_data",
          "data": {
            "text/plain": [
              "<Figure size 1500x1000 with 2 Axes>"
            ],
            "image/png": "[encoded data removed]"
          },
          "metadata": {}
        }
      ]
    },
    {
      "cell_type": "code",
      "source": [],
      "metadata": {
        "id": "hRCEh4VweW6H"
      },
      "execution_count": null,
      "outputs": []
    }
  ]
}