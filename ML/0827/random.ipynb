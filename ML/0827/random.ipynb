{
 "cells": [
  {
   "cell_type": "markdown",
   "metadata": {},
   "source": [
    "[난수 추출]\n",
    "- random 모듈\n",
    "- 0.0 ~ 1.0: 실수 추출\n",
    "- n ~ m: 정수 추출\n",
    "- seed: random 값 고정"
   ]
  },
  {
   "cell_type": "code",
   "execution_count": 3,
   "metadata": {},
   "outputs": [],
   "source": [
    "import random"
   ]
  },
  {
   "cell_type": "code",
   "execution_count": 5,
   "metadata": {},
   "outputs": [
    {
     "data": {
      "text/plain": [
       "9"
      ]
     },
     "execution_count": 5,
     "metadata": {},
     "output_type": "execute_result"
    }
   ],
   "source": [
    "random.randint(1,10)"
   ]
  },
  {
   "cell_type": "code",
   "execution_count": 6,
   "metadata": {},
   "outputs": [
    {
     "data": {
      "text/plain": [
       "1"
      ]
     },
     "execution_count": 6,
     "metadata": {},
     "output_type": "execute_result"
    }
   ],
   "source": [
    "random.randint(1,2)"
   ]
  },
  {
   "cell_type": "code",
   "execution_count": 7,
   "metadata": {},
   "outputs": [
    {
     "name": "stdout",
     "output_type": "stream",
     "text": [
      "2\n",
      "1\n",
      "2\n",
      "2\n",
      "2\n",
      "2\n",
      "2\n",
      "1\n",
      "2\n",
      "1\n"
     ]
    }
   ],
   "source": [
    "for _ in range(10):\n",
    "    print(random.randint(1,2))"
   ]
  },
  {
   "cell_type": "code",
   "execution_count": 8,
   "metadata": {},
   "outputs": [
    {
     "name": "stdout",
     "output_type": "stream",
     "text": [
      "92\n",
      "47\n",
      "32\n",
      "30\n",
      "42\n",
      "20\n",
      "57\n",
      "80\n",
      "36\n",
      "59\n"
     ]
    }
   ],
   "source": [
    "for _ in range(10):\n",
    "    print(random.randint(1,100))"
   ]
  },
  {
   "cell_type": "code",
   "execution_count": 23,
   "metadata": {},
   "outputs": [
    {
     "name": "stdout",
     "output_type": "stream",
     "text": [
      "0.7775113893753993\n",
      "0.48013339022434753\n",
      "0.34757125622081697\n",
      "0.4347105489944344\n",
      "0.005008574909348362\n",
      "0.7125732007896374\n",
      "0.33165722263549546\n",
      "0.31942323776053394\n",
      "0.07992503242021254\n",
      "0.44805592600101607\n"
     ]
    }
   ],
   "source": [
    "for _ in range(10):\n",
    "    print(random.random())"
   ]
  },
  {
   "cell_type": "code",
   "execution_count": 24,
   "metadata": {},
   "outputs": [
    {
     "name": "stdout",
     "output_type": "stream",
     "text": [
      "0.5714025946899135\n",
      "0.4288890546751146\n",
      "0.5780913011344704\n",
      "0.20609823213950174\n",
      "0.81332125135732\n",
      "0.8235888725334455\n",
      "0.6534725339011758\n",
      "0.16022955651881965\n",
      "0.5206693596399246\n",
      "0.32777281162209315\n"
     ]
    }
   ],
   "source": [
    "random.seed(10)\n",
    "\n",
    "for _ in range(10):\n",
    "    print(random.random())"
   ]
  },
  {
   "cell_type": "code",
   "execution_count": 25,
   "metadata": {},
   "outputs": [
    {
     "name": "stdout",
     "output_type": "stream",
     "text": [
      "0.965242141552123\n",
      "0.011654693792141124\n",
      "0.7359916197968754\n",
      "0.15801272476474815\n",
      "0.9863394516628233\n",
      "0.016880654207976242\n",
      "0.8794912681346712\n",
      "0.6813506644014146\n",
      "0.8573423824815248\n",
      "0.9998162341661194\n"
     ]
    }
   ],
   "source": [
    "random.seed(15)\n",
    "\n",
    "for _ in range(10):\n",
    "    print(random.random())"
   ]
  },
  {
   "cell_type": "code",
   "execution_count": null,
   "metadata": {},
   "outputs": [],
   "source": []
  },
  {
   "cell_type": "code",
   "execution_count": 26,
   "metadata": {},
   "outputs": [],
   "source": [
    "x=[[10],[3],[9],[5],[8],\n",
    "    [7],[12],[67],[91],[45],\n",
    "    [2],[17]]\n",
    "y=[1,2,3,4,5,6,7,8,9,10,11,12]"
   ]
  },
  {
   "cell_type": "code",
   "execution_count": 27,
   "metadata": {},
   "outputs": [],
   "source": [
    "from sklearn.model_selection import train_test_split"
   ]
  },
  {
   "cell_type": "code",
   "execution_count": 35,
   "metadata": {},
   "outputs": [
    {
     "name": "stdout",
     "output_type": "stream",
     "text": [
      "x: [[10], [3], [9], [5], [8], [7], [12], [67], [91], [45], [2], [17]]\n",
      "x_train:[[10], [3], [9], [5], [8], [7], [12], [67], [91]]\n",
      "x_test: [[45], [2], [17]]\n"
     ]
    }
   ],
   "source": [
    "x_train,x_test,y_train,y_test=train_test_split(x,y,shuffle=False)\n",
    "\n",
    "print(f'x: {x}')\n",
    "print(f'x_train:{x_train}')\n",
    "print(f'x_test: {x_test}')"
   ]
  },
  {
   "cell_type": "code",
   "execution_count": 36,
   "metadata": {},
   "outputs": [
    {
     "name": "stdout",
     "output_type": "stream",
     "text": [
      "x: [[10], [3], [9], [5], [8], [7], [12], [67], [91], [45], [2], [17]]\n",
      "x_train:[[45], [12], [9], [8], [5], [3], [67], [91], [17]]\n",
      "x_test: [[10], [2], [7]]\n"
     ]
    }
   ],
   "source": [
    "x_train,x_test,y_train,y_test=train_test_split(x,y)\n",
    "\n",
    "print(f'x: {x}')\n",
    "print(f'x_train:{x_train}')\n",
    "print(f'x_test: {x_test}')"
   ]
  },
  {
   "cell_type": "code",
   "execution_count": 38,
   "metadata": {},
   "outputs": [
    {
     "name": "stdout",
     "output_type": "stream",
     "text": [
      "x: [[10], [3], [9], [5], [8], [7], [12], [67], [91], [45], [2], [17]]\n",
      "x_train:[[7], [17], [91], [2], [5], [3], [10], [8], [45]]\n",
      "x_test: [[9], [12], [67]]\n"
     ]
    }
   ],
   "source": [
    "x_train,x_test,y_train,y_test=train_test_split(x,y,random_state=10)   #random_state=random.seed()\n",
    "\n",
    "print(f'x: {x}')\n",
    "print(f'x_train:{x_train}')\n",
    "print(f'x_test: {x_test}')"
   ]
  }
 ],
 "metadata": {
  "kernelspec": {
   "display_name": "ML_38",
   "language": "python",
   "name": "python3"
  },
  "language_info": {
   "codemirror_mode": {
    "name": "ipython",
    "version": 3
   },
   "file_extension": ".py",
   "mimetype": "text/x-python",
   "name": "python",
   "nbconvert_exporter": "python",
   "pygments_lexer": "ipython3",
   "version": "3.8.19"
  }
 },
 "nbformat": 4,
 "nbformat_minor": 2
}
