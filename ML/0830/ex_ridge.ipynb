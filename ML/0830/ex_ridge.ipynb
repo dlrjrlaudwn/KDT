{
 "cells": [
  {
   "cell_type": "markdown",
   "metadata": {},
   "source": [
    "[보스턴 집값 예측 모델]\n",
    "\n",
    "- 데이터셋: boston.csv\n",
    "- 학습방법: 지도학습 중 회귀\n",
    "- feature: 13개\n",
    "- target: 1개"
   ]
  },
  {
   "cell_type": "code",
   "execution_count": 52,
   "metadata": {},
   "outputs": [],
   "source": [
    "import pandas as pd\n",
    "import numpy as np\n",
    "from sklearn.preprocessing import StandardScaler, MinMaxScaler,RobustScaler\n",
    "from sklearn.model_selection import train_test_split"
   ]
  },
  {
   "cell_type": "code",
   "execution_count": 53,
   "metadata": {},
   "outputs": [],
   "source": [
    "data_file='../data/boston.csv'"
   ]
  },
  {
   "cell_type": "code",
   "execution_count": 54,
   "metadata": {},
   "outputs": [
    {
     "data": {
      "text/html": [
       "<div>\n",
       "<style scoped>\n",
       "    .dataframe tbody tr th:only-of-type {\n",
       "        vertical-align: middle;\n",
       "    }\n",
       "\n",
       "    .dataframe tbody tr th {\n",
       "        vertical-align: top;\n",
       "    }\n",
       "\n",
       "    .dataframe thead th {\n",
       "        text-align: right;\n",
       "    }\n",
       "</style>\n",
       "<table border=\"1\" class=\"dataframe\">\n",
       "  <thead>\n",
       "    <tr style=\"text-align: right;\">\n",
       "      <th></th>\n",
       "      <th>CRIM</th>\n",
       "      <th>ZN</th>\n",
       "      <th>INDUS</th>\n",
       "      <th>CHAS</th>\n",
       "      <th>NOX</th>\n",
       "      <th>RM</th>\n",
       "      <th>AGE</th>\n",
       "      <th>DIS</th>\n",
       "      <th>RAD</th>\n",
       "      <th>TAX</th>\n",
       "      <th>PTRATIO</th>\n",
       "      <th>B</th>\n",
       "      <th>LSTAT</th>\n",
       "      <th>MEDV</th>\n",
       "    </tr>\n",
       "  </thead>\n",
       "  <tbody>\n",
       "    <tr>\n",
       "      <th>0</th>\n",
       "      <td>0.00632</td>\n",
       "      <td>18.0</td>\n",
       "      <td>2.31</td>\n",
       "      <td>0</td>\n",
       "      <td>0.538</td>\n",
       "      <td>6.575</td>\n",
       "      <td>65.2</td>\n",
       "      <td>4.0900</td>\n",
       "      <td>1</td>\n",
       "      <td>296.0</td>\n",
       "      <td>15.3</td>\n",
       "      <td>396.9</td>\n",
       "      <td>4.98</td>\n",
       "      <td>24.0</td>\n",
       "    </tr>\n",
       "    <tr>\n",
       "      <th>1</th>\n",
       "      <td>0.02731</td>\n",
       "      <td>0.0</td>\n",
       "      <td>7.07</td>\n",
       "      <td>0</td>\n",
       "      <td>0.469</td>\n",
       "      <td>6.421</td>\n",
       "      <td>78.9</td>\n",
       "      <td>4.9671</td>\n",
       "      <td>2</td>\n",
       "      <td>242.0</td>\n",
       "      <td>17.8</td>\n",
       "      <td>396.9</td>\n",
       "      <td>9.14</td>\n",
       "      <td>21.6</td>\n",
       "    </tr>\n",
       "  </tbody>\n",
       "</table>\n",
       "</div>"
      ],
      "text/plain": [
       "      CRIM    ZN  INDUS  CHAS    NOX     RM   AGE     DIS  RAD    TAX  \\\n",
       "0  0.00632  18.0   2.31     0  0.538  6.575  65.2  4.0900    1  296.0   \n",
       "1  0.02731   0.0   7.07     0  0.469  6.421  78.9  4.9671    2  242.0   \n",
       "\n",
       "   PTRATIO      B  LSTAT  MEDV  \n",
       "0     15.3  396.9   4.98  24.0  \n",
       "1     17.8  396.9   9.14  21.6  "
      ]
     },
     "execution_count": 54,
     "metadata": {},
     "output_type": "execute_result"
    }
   ],
   "source": [
    "data_df=pd.read_csv(data_file)\n",
    "data_df.head(2)"
   ]
  },
  {
   "cell_type": "code",
   "execution_count": 55,
   "metadata": {},
   "outputs": [
    {
     "name": "stdout",
     "output_type": "stream",
     "text": [
      "<class 'pandas.core.frame.DataFrame'>\n",
      "RangeIndex: 506 entries, 0 to 505\n",
      "Data columns (total 14 columns):\n",
      " #   Column   Non-Null Count  Dtype  \n",
      "---  ------   --------------  -----  \n",
      " 0   CRIM     506 non-null    float64\n",
      " 1   ZN       506 non-null    float64\n",
      " 2   INDUS    506 non-null    float64\n",
      " 3   CHAS     506 non-null    int64  \n",
      " 4   NOX      506 non-null    float64\n",
      " 5   RM       506 non-null    float64\n",
      " 6   AGE      506 non-null    float64\n",
      " 7   DIS      506 non-null    float64\n",
      " 8   RAD      506 non-null    int64  \n",
      " 9   TAX      506 non-null    float64\n",
      " 10  PTRATIO  506 non-null    float64\n",
      " 11  B        506 non-null    float64\n",
      " 12  LSTAT    506 non-null    float64\n",
      " 13  MEDV     506 non-null    float64\n",
      "dtypes: float64(12), int64(2)\n",
      "memory usage: 55.5 KB\n"
     ]
    }
   ],
   "source": [
    "data_df.info()"
   ]
  },
  {
   "cell_type": "markdown",
   "metadata": {},
   "source": [
    "2) 전처리\n",
    "- 데이터 정제"
   ]
  },
  {
   "cell_type": "code",
   "execution_count": 56,
   "metadata": {},
   "outputs": [],
   "source": [
    "#결측치, 중복값, 이상값 ,등 처리(컬럼 별 고유값 추출로 이상 데이터 체크)"
   ]
  },
  {
   "cell_type": "markdown",
   "metadata": {},
   "source": [
    "- 표준화, 정규화 (진행 여부에 따른 성능 변화는 데이터마다 차이 O)\n",
    "    * 정규분포 데이터셋을 기반으로 한 모델: StandardScaler,MinMaxScaler , log 변환 등\n",
    "    * feature 값의 범위 차이를 줄이기: feature 스케일링, MinMaxScaler, RobustScaler 등\n",
    "    * 범주형 feature: OneHotEncoder, OrdinalEncoder\n",
    "    * 문자열 target: LabelEncoder"
   ]
  },
  {
   "cell_type": "code",
   "execution_count": 57,
   "metadata": {},
   "outputs": [],
   "source": [
    "#feature/target 분리\n",
    "feature_df=data_df.iloc[:,:-1]\n",
    "target_df=data_df['MEDV']"
   ]
  },
  {
   "cell_type": "code",
   "execution_count": 58,
   "metadata": {},
   "outputs": [
    {
     "name": "stdout",
     "output_type": "stream",
     "text": [
      "feature: (506, 13), target: (506,)\n"
     ]
    }
   ],
   "source": [
    "print(f'feature: {feature_df.shape}, target: {target_df.shape}')"
   ]
  },
  {
   "cell_type": "markdown",
   "metadata": {},
   "source": [
    "3) 학습 준비"
   ]
  },
  {
   "cell_type": "code",
   "execution_count": 59,
   "metadata": {},
   "outputs": [],
   "source": [
    "#학습용/테스트용 분리\n",
    "x_train,x_test,y_train,y_test=train_test_split(feature_df,target_df,random_state=10)"
   ]
  },
  {
   "cell_type": "code",
   "execution_count": 60,
   "metadata": {},
   "outputs": [
    {
     "name": "stdout",
     "output_type": "stream",
     "text": [
      "x_train: (379, 13), y_train: (379,)\n",
      "x_test: (127, 13), y_test: (127,)\n"
     ]
    }
   ],
   "source": [
    "print(f'x_train: {x_train.shape}, y_train: {y_train.shape}')\n",
    "print(f'x_test: {x_test.shape}, y_test: {y_test.shape}')"
   ]
  },
  {
   "cell_type": "code",
   "execution_count": 61,
   "metadata": {},
   "outputs": [
    {
     "data": {
      "text/html": [
       "<style>#sk-container-id-3 {color: black;}#sk-container-id-3 pre{padding: 0;}#sk-container-id-3 div.sk-toggleable {background-color: white;}#sk-container-id-3 label.sk-toggleable__label {cursor: pointer;display: block;width: 100%;margin-bottom: 0;padding: 0.3em;box-sizing: border-box;text-align: center;}#sk-container-id-3 label.sk-toggleable__label-arrow:before {content: \"▸\";float: left;margin-right: 0.25em;color: #696969;}#sk-container-id-3 label.sk-toggleable__label-arrow:hover:before {color: black;}#sk-container-id-3 div.sk-estimator:hover label.sk-toggleable__label-arrow:before {color: black;}#sk-container-id-3 div.sk-toggleable__content {max-height: 0;max-width: 0;overflow: hidden;text-align: left;background-color: #f0f8ff;}#sk-container-id-3 div.sk-toggleable__content pre {margin: 0.2em;color: black;border-radius: 0.25em;background-color: #f0f8ff;}#sk-container-id-3 input.sk-toggleable__control:checked~div.sk-toggleable__content {max-height: 200px;max-width: 100%;overflow: auto;}#sk-container-id-3 input.sk-toggleable__control:checked~label.sk-toggleable__label-arrow:before {content: \"▾\";}#sk-container-id-3 div.sk-estimator input.sk-toggleable__control:checked~label.sk-toggleable__label {background-color: #d4ebff;}#sk-container-id-3 div.sk-label input.sk-toggleable__control:checked~label.sk-toggleable__label {background-color: #d4ebff;}#sk-container-id-3 input.sk-hidden--visually {border: 0;clip: rect(1px 1px 1px 1px);clip: rect(1px, 1px, 1px, 1px);height: 1px;margin: -1px;overflow: hidden;padding: 0;position: absolute;width: 1px;}#sk-container-id-3 div.sk-estimator {font-family: monospace;background-color: #f0f8ff;border: 1px dotted black;border-radius: 0.25em;box-sizing: border-box;margin-bottom: 0.5em;}#sk-container-id-3 div.sk-estimator:hover {background-color: #d4ebff;}#sk-container-id-3 div.sk-parallel-item::after {content: \"\";width: 100%;border-bottom: 1px solid gray;flex-grow: 1;}#sk-container-id-3 div.sk-label:hover label.sk-toggleable__label {background-color: #d4ebff;}#sk-container-id-3 div.sk-serial::before {content: \"\";position: absolute;border-left: 1px solid gray;box-sizing: border-box;top: 0;bottom: 0;left: 50%;z-index: 0;}#sk-container-id-3 div.sk-serial {display: flex;flex-direction: column;align-items: center;background-color: white;padding-right: 0.2em;padding-left: 0.2em;position: relative;}#sk-container-id-3 div.sk-item {position: relative;z-index: 1;}#sk-container-id-3 div.sk-parallel {display: flex;align-items: stretch;justify-content: center;background-color: white;position: relative;}#sk-container-id-3 div.sk-item::before, #sk-container-id-3 div.sk-parallel-item::before {content: \"\";position: absolute;border-left: 1px solid gray;box-sizing: border-box;top: 0;bottom: 0;left: 50%;z-index: -1;}#sk-container-id-3 div.sk-parallel-item {display: flex;flex-direction: column;z-index: 1;position: relative;background-color: white;}#sk-container-id-3 div.sk-parallel-item:first-child::after {align-self: flex-end;width: 50%;}#sk-container-id-3 div.sk-parallel-item:last-child::after {align-self: flex-start;width: 50%;}#sk-container-id-3 div.sk-parallel-item:only-child::after {width: 0;}#sk-container-id-3 div.sk-dashed-wrapped {border: 1px dashed gray;margin: 0 0.4em 0.5em 0.4em;box-sizing: border-box;padding-bottom: 0.4em;background-color: white;}#sk-container-id-3 div.sk-label label {font-family: monospace;font-weight: bold;display: inline-block;line-height: 1.2em;}#sk-container-id-3 div.sk-label-container {text-align: center;}#sk-container-id-3 div.sk-container {/* jupyter's `normalize.less` sets `[hidden] { display: none; }` but bootstrap.min.css set `[hidden] { display: none !important; }` so we also need the `!important` here to be able to override the default hidden behavior on the sphinx rendered scikit-learn.org. See: https://github.com/scikit-learn/scikit-learn/issues/21755 */display: inline-block !important;position: relative;}#sk-container-id-3 div.sk-text-repr-fallback {display: none;}</style><div id=\"sk-container-id-3\" class=\"sk-top-container\"><div class=\"sk-text-repr-fallback\"><pre>StandardScaler()</pre><b>In a Jupyter environment, please rerun this cell to show the HTML representation or trust the notebook. <br />On GitHub, the HTML representation is unable to render, please try loading this page with nbviewer.org.</b></div><div class=\"sk-container\" hidden><div class=\"sk-item\"><div class=\"sk-estimator sk-toggleable\"><input class=\"sk-toggleable__control sk-hidden--visually\" id=\"sk-estimator-id-5\" type=\"checkbox\" checked><label for=\"sk-estimator-id-5\" class=\"sk-toggleable__label sk-toggleable__label-arrow\">StandardScaler</label><div class=\"sk-toggleable__content\"><pre>StandardScaler()</pre></div></div></div></div></div>"
      ],
      "text/plain": [
       "StandardScaler()"
      ]
     },
     "execution_count": 61,
     "metadata": {},
     "output_type": "execute_result"
    }
   ],
   "source": [
    "#학습용으로 스케일러 생성\n",
    "#수치 feature 값의 범위 차이가 큼 => StandardScaler 사용해 스케일링 진행\n",
    "sscaler=StandardScaler()\n",
    "sscaler.fit(x_train)"
   ]
  },
  {
   "cell_type": "code",
   "execution_count": 62,
   "metadata": {},
   "outputs": [],
   "source": [
    "scaled_x_train=sscaler.transform(x_train)\n",
    "scaled_x_test=sscaler.transform(x_test)"
   ]
  },
  {
   "cell_type": "markdown",
   "metadata": {},
   "source": [
    "4) 학습 진행 w. 교차검증"
   ]
  },
  {
   "cell_type": "code",
   "execution_count": 63,
   "metadata": {},
   "outputs": [],
   "source": [
    "from sklearn.model_selection import cross_validate\n",
    "from sklearn.linear_model import Ridge"
   ]
  },
  {
   "cell_type": "code",
   "execution_count": 64,
   "metadata": {},
   "outputs": [
    {
     "name": "stdout",
     "output_type": "stream",
     "text": [
      "[-1.41407793  1.56590993  0.15536906  0.65522098 -2.36200159  2.31948624\n",
      "  0.1173831  -3.59071105  2.71475429 -2.33252925 -1.88390034  1.04036915\n",
      " -3.50250877]\n",
      "\n",
      "[Ridge(alpha 0.0)]\n",
      "    test_r2  train_r2      diff\n",
      "0  0.747022  0.755720  0.008699\n",
      "1  0.756482  0.740082  0.016400\n",
      "2  0.680801  0.786156  0.105355\n",
      "\n",
      "best_idx: 0.008698695430572112\n",
      "\n",
      "[-1.39035961  1.53043843  0.11109741  0.6621853  -2.29024619  2.34249774\n",
      "  0.10030677 -3.52062389  2.57481444 -2.20749462 -1.86406784  1.03607796\n",
      " -3.48102887]\n",
      "\n",
      "[Ridge(alpha 1.0)]\n",
      "    test_r2  train_r2      diff\n",
      "0  0.748283  0.755663  0.007380\n",
      "1  0.756292  0.740039  0.016253\n",
      "2  0.680991  0.786097  0.105106\n",
      "\n",
      "best_idx: 0.007380040333377247\n",
      "\n",
      "[-1.23221033  1.29302258 -0.12737786  0.70280521 -1.80949922  2.48028701\n",
      " -0.00860666 -2.99831755  1.75466332 -1.51704375 -1.73434856  1.00368486\n",
      " -3.30809117]\n",
      "\n",
      "[Ridge(alpha 10.0)]\n",
      "    test_r2  train_r2      diff\n",
      "0  0.753103  0.752474  0.000629\n",
      "1  0.755100  0.737457  0.017643\n",
      "2  0.677471  0.783225  0.105755\n",
      "\n",
      "best_idx: 0.000629131763617008\n",
      "\n",
      "[-0.78141029  0.70910255 -0.46407849  0.72503917 -0.69294458  2.41757287\n",
      " -0.24148703 -1.21831206  0.28616643 -0.63423538 -1.31602563  0.78528977\n",
      " -2.39571659]\n",
      "\n",
      "[Ridge(alpha 100.0)]\n",
      "    test_r2  train_r2      diff\n",
      "0  0.724036  0.708269  0.015767\n",
      "1  0.725993  0.686628  0.039365\n",
      "2  0.627335  0.744452  0.117117\n",
      "\n",
      "best_idx: 0.015767328038336137\n",
      "\n",
      "[-0.3563479   0.38321096 -0.43999133  0.29898176 -0.35519382  0.96096085\n",
      " -0.30224319  0.02509632 -0.23399517 -0.41785562 -0.57007608  0.33497559\n",
      " -0.88708053]\n",
      "\n",
      "[Ridge(alpha 1000.0)]\n",
      "    test_r2  train_r2      diff\n",
      "0  0.505269  0.472170  0.033099\n",
      "1  0.458660  0.434978  0.023683\n",
      "2  0.412359  0.515614  0.103255\n",
      "\n",
      "best_idx: 0.03309881422135508\n",
      "\n"
     ]
    }
   ],
   "source": [
    "#모델 성능을 좌우하는 Hyper_parameter 제어(튜닝)\n",
    "alpha_value=[0.,1.,10.,100.,1000.]\n",
    "\n",
    "for value in alpha_value:\n",
    "    #모델 인스턴스 생성\n",
    "    ridge_model=Ridge(alpha=value)   #alpha 기본 값: 1.0\n",
    "\n",
    "    #학습 진행\n",
    "    #cv:3개 / scoring: neg_mean_square_error, r2\n",
    "    result=cross_validate(ridge_model,scaled_x_train,y_train,cv=3,scoring=['neg_mean_squared_error','r2'],\n",
    "                            return_train_score=True,return_estimator=True)\n",
    "\n",
    "    result_df=pd.DataFrame(result)[['test_r2','train_r2']]\n",
    "    result_df['diff']=abs(result_df['test_r2']-result_df['train_r2'])   #회귀계수 차이: 낮을수록 좋다,,,\n",
    "    best_idx=result_df['diff'].sort_values()[0]\n",
    "\n",
    "    print(result['estimator'][0].coef_)   #각 feature 별 기울기 (feature가 13개니까 13개가 나온거쥐,,,) 근데 이걸 왜 구하는거지,,,?\n",
    "    print()\n",
    "    print(f'[Ridge(alpha {value})]')\n",
    "    print(result_df,end='\\n\\n')\n",
    "    print(f'best_idx: {best_idx}')  \n",
    "    print()\n",
    "\n"
   ]
  },
  {
   "cell_type": "markdown",
   "metadata": {},
   "source": [
    "하이퍼 파라미터 튜닝과 교차 검증을 동시 진행"
   ]
  },
  {
   "cell_type": "code",
   "execution_count": 65,
   "metadata": {},
   "outputs": [],
   "source": [
    "from sklearn.model_selection import GridSearchCV"
   ]
  },
  {
   "cell_type": "code",
   "execution_count": 66,
   "metadata": {},
   "outputs": [],
   "source": [
    "#ridge의 하이퍼 파라미터 값 설정\n",
    "params={'alpha':[0.,0.1,0.5,1.0],\n",
    "        'max_iter':[3,5]}   #총 8개의 ridge 모델 생성"
   ]
  },
  {
   "cell_type": "code",
   "execution_count": 67,
   "metadata": {},
   "outputs": [],
   "source": [
    "#인스턴스 생성\n",
    "r_model=Ridge()\n",
    "scv=GridSearchCV(r_model,params,cv=3,verbose=True,return_train_score=True)  #verbose=True : 진행상황"
   ]
  },
  {
   "cell_type": "code",
   "execution_count": 68,
   "metadata": {},
   "outputs": [
    {
     "name": "stdout",
     "output_type": "stream",
     "text": [
      "Fitting 3 folds for each of 8 candidates, totalling 24 fits\n"
     ]
    },
    {
     "data": {
      "text/html": [
       "<style>#sk-container-id-4 {color: black;}#sk-container-id-4 pre{padding: 0;}#sk-container-id-4 div.sk-toggleable {background-color: white;}#sk-container-id-4 label.sk-toggleable__label {cursor: pointer;display: block;width: 100%;margin-bottom: 0;padding: 0.3em;box-sizing: border-box;text-align: center;}#sk-container-id-4 label.sk-toggleable__label-arrow:before {content: \"▸\";float: left;margin-right: 0.25em;color: #696969;}#sk-container-id-4 label.sk-toggleable__label-arrow:hover:before {color: black;}#sk-container-id-4 div.sk-estimator:hover label.sk-toggleable__label-arrow:before {color: black;}#sk-container-id-4 div.sk-toggleable__content {max-height: 0;max-width: 0;overflow: hidden;text-align: left;background-color: #f0f8ff;}#sk-container-id-4 div.sk-toggleable__content pre {margin: 0.2em;color: black;border-radius: 0.25em;background-color: #f0f8ff;}#sk-container-id-4 input.sk-toggleable__control:checked~div.sk-toggleable__content {max-height: 200px;max-width: 100%;overflow: auto;}#sk-container-id-4 input.sk-toggleable__control:checked~label.sk-toggleable__label-arrow:before {content: \"▾\";}#sk-container-id-4 div.sk-estimator input.sk-toggleable__control:checked~label.sk-toggleable__label {background-color: #d4ebff;}#sk-container-id-4 div.sk-label input.sk-toggleable__control:checked~label.sk-toggleable__label {background-color: #d4ebff;}#sk-container-id-4 input.sk-hidden--visually {border: 0;clip: rect(1px 1px 1px 1px);clip: rect(1px, 1px, 1px, 1px);height: 1px;margin: -1px;overflow: hidden;padding: 0;position: absolute;width: 1px;}#sk-container-id-4 div.sk-estimator {font-family: monospace;background-color: #f0f8ff;border: 1px dotted black;border-radius: 0.25em;box-sizing: border-box;margin-bottom: 0.5em;}#sk-container-id-4 div.sk-estimator:hover {background-color: #d4ebff;}#sk-container-id-4 div.sk-parallel-item::after {content: \"\";width: 100%;border-bottom: 1px solid gray;flex-grow: 1;}#sk-container-id-4 div.sk-label:hover label.sk-toggleable__label {background-color: #d4ebff;}#sk-container-id-4 div.sk-serial::before {content: \"\";position: absolute;border-left: 1px solid gray;box-sizing: border-box;top: 0;bottom: 0;left: 50%;z-index: 0;}#sk-container-id-4 div.sk-serial {display: flex;flex-direction: column;align-items: center;background-color: white;padding-right: 0.2em;padding-left: 0.2em;position: relative;}#sk-container-id-4 div.sk-item {position: relative;z-index: 1;}#sk-container-id-4 div.sk-parallel {display: flex;align-items: stretch;justify-content: center;background-color: white;position: relative;}#sk-container-id-4 div.sk-item::before, #sk-container-id-4 div.sk-parallel-item::before {content: \"\";position: absolute;border-left: 1px solid gray;box-sizing: border-box;top: 0;bottom: 0;left: 50%;z-index: -1;}#sk-container-id-4 div.sk-parallel-item {display: flex;flex-direction: column;z-index: 1;position: relative;background-color: white;}#sk-container-id-4 div.sk-parallel-item:first-child::after {align-self: flex-end;width: 50%;}#sk-container-id-4 div.sk-parallel-item:last-child::after {align-self: flex-start;width: 50%;}#sk-container-id-4 div.sk-parallel-item:only-child::after {width: 0;}#sk-container-id-4 div.sk-dashed-wrapped {border: 1px dashed gray;margin: 0 0.4em 0.5em 0.4em;box-sizing: border-box;padding-bottom: 0.4em;background-color: white;}#sk-container-id-4 div.sk-label label {font-family: monospace;font-weight: bold;display: inline-block;line-height: 1.2em;}#sk-container-id-4 div.sk-label-container {text-align: center;}#sk-container-id-4 div.sk-container {/* jupyter's `normalize.less` sets `[hidden] { display: none; }` but bootstrap.min.css set `[hidden] { display: none !important; }` so we also need the `!important` here to be able to override the default hidden behavior on the sphinx rendered scikit-learn.org. See: https://github.com/scikit-learn/scikit-learn/issues/21755 */display: inline-block !important;position: relative;}#sk-container-id-4 div.sk-text-repr-fallback {display: none;}</style><div id=\"sk-container-id-4\" class=\"sk-top-container\"><div class=\"sk-text-repr-fallback\"><pre>GridSearchCV(cv=3, estimator=Ridge(),\n",
       "             param_grid={&#x27;alpha&#x27;: [0.0, 0.1, 0.5, 1.0], &#x27;max_iter&#x27;: [3, 5]},\n",
       "             return_train_score=True, verbose=True)</pre><b>In a Jupyter environment, please rerun this cell to show the HTML representation or trust the notebook. <br />On GitHub, the HTML representation is unable to render, please try loading this page with nbviewer.org.</b></div><div class=\"sk-container\" hidden><div class=\"sk-item sk-dashed-wrapped\"><div class=\"sk-label-container\"><div class=\"sk-label sk-toggleable\"><input class=\"sk-toggleable__control sk-hidden--visually\" id=\"sk-estimator-id-6\" type=\"checkbox\" ><label for=\"sk-estimator-id-6\" class=\"sk-toggleable__label sk-toggleable__label-arrow\">GridSearchCV</label><div class=\"sk-toggleable__content\"><pre>GridSearchCV(cv=3, estimator=Ridge(),\n",
       "             param_grid={&#x27;alpha&#x27;: [0.0, 0.1, 0.5, 1.0], &#x27;max_iter&#x27;: [3, 5]},\n",
       "             return_train_score=True, verbose=True)</pre></div></div></div><div class=\"sk-parallel\"><div class=\"sk-parallel-item\"><div class=\"sk-item\"><div class=\"sk-label-container\"><div class=\"sk-label sk-toggleable\"><input class=\"sk-toggleable__control sk-hidden--visually\" id=\"sk-estimator-id-7\" type=\"checkbox\" ><label for=\"sk-estimator-id-7\" class=\"sk-toggleable__label sk-toggleable__label-arrow\">estimator: Ridge</label><div class=\"sk-toggleable__content\"><pre>Ridge()</pre></div></div></div><div class=\"sk-serial\"><div class=\"sk-item\"><div class=\"sk-estimator sk-toggleable\"><input class=\"sk-toggleable__control sk-hidden--visually\" id=\"sk-estimator-id-8\" type=\"checkbox\" ><label for=\"sk-estimator-id-8\" class=\"sk-toggleable__label sk-toggleable__label-arrow\">Ridge</label><div class=\"sk-toggleable__content\"><pre>Ridge()</pre></div></div></div></div></div></div></div></div></div></div>"
      ],
      "text/plain": [
       "GridSearchCV(cv=3, estimator=Ridge(),\n",
       "             param_grid={'alpha': [0.0, 0.1, 0.5, 1.0], 'max_iter': [3, 5]},\n",
       "             return_train_score=True, verbose=True)"
      ]
     },
     "execution_count": 68,
     "metadata": {},
     "output_type": "execute_result"
    }
   ],
   "source": [
    "#학습 진행\n",
    "scv.fit(scaled_x_train,y_train)"
   ]
  },
  {
   "cell_type": "code",
   "execution_count": 72,
   "metadata": {},
   "outputs": [
    {
     "data": {
      "text/html": [
       "<style>#sk-container-id-6 {color: black;}#sk-container-id-6 pre{padding: 0;}#sk-container-id-6 div.sk-toggleable {background-color: white;}#sk-container-id-6 label.sk-toggleable__label {cursor: pointer;display: block;width: 100%;margin-bottom: 0;padding: 0.3em;box-sizing: border-box;text-align: center;}#sk-container-id-6 label.sk-toggleable__label-arrow:before {content: \"▸\";float: left;margin-right: 0.25em;color: #696969;}#sk-container-id-6 label.sk-toggleable__label-arrow:hover:before {color: black;}#sk-container-id-6 div.sk-estimator:hover label.sk-toggleable__label-arrow:before {color: black;}#sk-container-id-6 div.sk-toggleable__content {max-height: 0;max-width: 0;overflow: hidden;text-align: left;background-color: #f0f8ff;}#sk-container-id-6 div.sk-toggleable__content pre {margin: 0.2em;color: black;border-radius: 0.25em;background-color: #f0f8ff;}#sk-container-id-6 input.sk-toggleable__control:checked~div.sk-toggleable__content {max-height: 200px;max-width: 100%;overflow: auto;}#sk-container-id-6 input.sk-toggleable__control:checked~label.sk-toggleable__label-arrow:before {content: \"▾\";}#sk-container-id-6 div.sk-estimator input.sk-toggleable__control:checked~label.sk-toggleable__label {background-color: #d4ebff;}#sk-container-id-6 div.sk-label input.sk-toggleable__control:checked~label.sk-toggleable__label {background-color: #d4ebff;}#sk-container-id-6 input.sk-hidden--visually {border: 0;clip: rect(1px 1px 1px 1px);clip: rect(1px, 1px, 1px, 1px);height: 1px;margin: -1px;overflow: hidden;padding: 0;position: absolute;width: 1px;}#sk-container-id-6 div.sk-estimator {font-family: monospace;background-color: #f0f8ff;border: 1px dotted black;border-radius: 0.25em;box-sizing: border-box;margin-bottom: 0.5em;}#sk-container-id-6 div.sk-estimator:hover {background-color: #d4ebff;}#sk-container-id-6 div.sk-parallel-item::after {content: \"\";width: 100%;border-bottom: 1px solid gray;flex-grow: 1;}#sk-container-id-6 div.sk-label:hover label.sk-toggleable__label {background-color: #d4ebff;}#sk-container-id-6 div.sk-serial::before {content: \"\";position: absolute;border-left: 1px solid gray;box-sizing: border-box;top: 0;bottom: 0;left: 50%;z-index: 0;}#sk-container-id-6 div.sk-serial {display: flex;flex-direction: column;align-items: center;background-color: white;padding-right: 0.2em;padding-left: 0.2em;position: relative;}#sk-container-id-6 div.sk-item {position: relative;z-index: 1;}#sk-container-id-6 div.sk-parallel {display: flex;align-items: stretch;justify-content: center;background-color: white;position: relative;}#sk-container-id-6 div.sk-item::before, #sk-container-id-6 div.sk-parallel-item::before {content: \"\";position: absolute;border-left: 1px solid gray;box-sizing: border-box;top: 0;bottom: 0;left: 50%;z-index: -1;}#sk-container-id-6 div.sk-parallel-item {display: flex;flex-direction: column;z-index: 1;position: relative;background-color: white;}#sk-container-id-6 div.sk-parallel-item:first-child::after {align-self: flex-end;width: 50%;}#sk-container-id-6 div.sk-parallel-item:last-child::after {align-self: flex-start;width: 50%;}#sk-container-id-6 div.sk-parallel-item:only-child::after {width: 0;}#sk-container-id-6 div.sk-dashed-wrapped {border: 1px dashed gray;margin: 0 0.4em 0.5em 0.4em;box-sizing: border-box;padding-bottom: 0.4em;background-color: white;}#sk-container-id-6 div.sk-label label {font-family: monospace;font-weight: bold;display: inline-block;line-height: 1.2em;}#sk-container-id-6 div.sk-label-container {text-align: center;}#sk-container-id-6 div.sk-container {/* jupyter's `normalize.less` sets `[hidden] { display: none; }` but bootstrap.min.css set `[hidden] { display: none !important; }` so we also need the `!important` here to be able to override the default hidden behavior on the sphinx rendered scikit-learn.org. See: https://github.com/scikit-learn/scikit-learn/issues/21755 */display: inline-block !important;position: relative;}#sk-container-id-6 div.sk-text-repr-fallback {display: none;}</style><div id=\"sk-container-id-6\" class=\"sk-top-container\"><div class=\"sk-text-repr-fallback\"><pre>Ridge(max_iter=3)</pre><b>In a Jupyter environment, please rerun this cell to show the HTML representation or trust the notebook. <br />On GitHub, the HTML representation is unable to render, please try loading this page with nbviewer.org.</b></div><div class=\"sk-container\" hidden><div class=\"sk-item\"><div class=\"sk-estimator sk-toggleable\"><input class=\"sk-toggleable__control sk-hidden--visually\" id=\"sk-estimator-id-10\" type=\"checkbox\" checked><label for=\"sk-estimator-id-10\" class=\"sk-toggleable__label sk-toggleable__label-arrow\">Ridge</label><div class=\"sk-toggleable__content\"><pre>Ridge(max_iter=3)</pre></div></div></div></div></div>"
      ],
      "text/plain": [
       "Ridge(max_iter=3)"
      ]
     },
     "execution_count": 72,
     "metadata": {},
     "output_type": "execute_result"
    }
   ],
   "source": [
    "#모델 파라미터 확인\n",
    "best_model=scv.best_estimator_\n",
    "best_model"
   ]
  },
  {
   "cell_type": "code",
   "execution_count": 74,
   "metadata": {},
   "outputs": [
    {
     "data": {
      "text/html": [
       "<div>\n",
       "<style scoped>\n",
       "    .dataframe tbody tr th:only-of-type {\n",
       "        vertical-align: middle;\n",
       "    }\n",
       "\n",
       "    .dataframe tbody tr th {\n",
       "        vertical-align: top;\n",
       "    }\n",
       "\n",
       "    .dataframe thead th {\n",
       "        text-align: right;\n",
       "    }\n",
       "</style>\n",
       "<table border=\"1\" class=\"dataframe\">\n",
       "  <thead>\n",
       "    <tr style=\"text-align: right;\">\n",
       "      <th></th>\n",
       "      <th>mean_fit_time</th>\n",
       "      <th>std_fit_time</th>\n",
       "      <th>mean_score_time</th>\n",
       "      <th>std_score_time</th>\n",
       "      <th>param_alpha</th>\n",
       "      <th>param_max_iter</th>\n",
       "      <th>params</th>\n",
       "      <th>split0_test_score</th>\n",
       "      <th>split1_test_score</th>\n",
       "      <th>split2_test_score</th>\n",
       "      <th>mean_test_score</th>\n",
       "      <th>std_test_score</th>\n",
       "      <th>rank_test_score</th>\n",
       "      <th>split0_train_score</th>\n",
       "      <th>split1_train_score</th>\n",
       "      <th>split2_train_score</th>\n",
       "      <th>mean_train_score</th>\n",
       "      <th>std_train_score</th>\n",
       "    </tr>\n",
       "  </thead>\n",
       "  <tbody>\n",
       "    <tr>\n",
       "      <th>0</th>\n",
       "      <td>0.001334</td>\n",
       "      <td>4.717637e-04</td>\n",
       "      <td>0.000666</td>\n",
       "      <td>4.712580e-04</td>\n",
       "      <td>0.0</td>\n",
       "      <td>3</td>\n",
       "      <td>{'alpha': 0.0, 'max_iter': 3}</td>\n",
       "      <td>0.747022</td>\n",
       "      <td>0.756482</td>\n",
       "      <td>0.680801</td>\n",
       "      <td>0.728101</td>\n",
       "      <td>0.033669</td>\n",
       "      <td>7</td>\n",
       "      <td>0.755720</td>\n",
       "      <td>0.740082</td>\n",
       "      <td>0.786156</td>\n",
       "      <td>0.760653</td>\n",
       "      <td>0.019131</td>\n",
       "    </tr>\n",
       "    <tr>\n",
       "      <th>1</th>\n",
       "      <td>0.001000</td>\n",
       "      <td>2.973602e-07</td>\n",
       "      <td>0.001000</td>\n",
       "      <td>1.123916e-07</td>\n",
       "      <td>0.0</td>\n",
       "      <td>5</td>\n",
       "      <td>{'alpha': 0.0, 'max_iter': 5}</td>\n",
       "      <td>0.747022</td>\n",
       "      <td>0.756482</td>\n",
       "      <td>0.680801</td>\n",
       "      <td>0.728101</td>\n",
       "      <td>0.033669</td>\n",
       "      <td>7</td>\n",
       "      <td>0.755720</td>\n",
       "      <td>0.740082</td>\n",
       "      <td>0.786156</td>\n",
       "      <td>0.760653</td>\n",
       "      <td>0.019131</td>\n",
       "    </tr>\n",
       "    <tr>\n",
       "      <th>2</th>\n",
       "      <td>0.001029</td>\n",
       "      <td>4.062968e-05</td>\n",
       "      <td>0.000668</td>\n",
       "      <td>4.722743e-04</td>\n",
       "      <td>0.1</td>\n",
       "      <td>3</td>\n",
       "      <td>{'alpha': 0.1, 'max_iter': 3}</td>\n",
       "      <td>0.747159</td>\n",
       "      <td>0.756462</td>\n",
       "      <td>0.680831</td>\n",
       "      <td>0.728151</td>\n",
       "      <td>0.033675</td>\n",
       "      <td>5</td>\n",
       "      <td>0.755720</td>\n",
       "      <td>0.740081</td>\n",
       "      <td>0.786156</td>\n",
       "      <td>0.760652</td>\n",
       "      <td>0.019131</td>\n",
       "    </tr>\n",
       "    <tr>\n",
       "      <th>3</th>\n",
       "      <td>0.000781</td>\n",
       "      <td>5.683891e-04</td>\n",
       "      <td>0.000336</td>\n",
       "      <td>4.747421e-04</td>\n",
       "      <td>0.1</td>\n",
       "      <td>5</td>\n",
       "      <td>{'alpha': 0.1, 'max_iter': 5}</td>\n",
       "      <td>0.747159</td>\n",
       "      <td>0.756462</td>\n",
       "      <td>0.680831</td>\n",
       "      <td>0.728151</td>\n",
       "      <td>0.033675</td>\n",
       "      <td>5</td>\n",
       "      <td>0.755720</td>\n",
       "      <td>0.740081</td>\n",
       "      <td>0.786156</td>\n",
       "      <td>0.760652</td>\n",
       "      <td>0.019131</td>\n",
       "    </tr>\n",
       "    <tr>\n",
       "      <th>4</th>\n",
       "      <td>0.000336</td>\n",
       "      <td>4.748545e-04</td>\n",
       "      <td>0.000675</td>\n",
       "      <td>4.776500e-04</td>\n",
       "      <td>0.5</td>\n",
       "      <td>3</td>\n",
       "      <td>{'alpha': 0.5, 'max_iter': 3}</td>\n",
       "      <td>0.747682</td>\n",
       "      <td>0.756385</td>\n",
       "      <td>0.680927</td>\n",
       "      <td>0.728331</td>\n",
       "      <td>0.033708</td>\n",
       "      <td>3</td>\n",
       "      <td>0.755705</td>\n",
       "      <td>0.740070</td>\n",
       "      <td>0.786141</td>\n",
       "      <td>0.760639</td>\n",
       "      <td>0.019129</td>\n",
       "    </tr>\n",
       "    <tr>\n",
       "      <th>5</th>\n",
       "      <td>0.000670</td>\n",
       "      <td>4.739555e-04</td>\n",
       "      <td>0.000000</td>\n",
       "      <td>0.000000e+00</td>\n",
       "      <td>0.5</td>\n",
       "      <td>5</td>\n",
       "      <td>{'alpha': 0.5, 'max_iter': 5}</td>\n",
       "      <td>0.747682</td>\n",
       "      <td>0.756385</td>\n",
       "      <td>0.680927</td>\n",
       "      <td>0.728331</td>\n",
       "      <td>0.033708</td>\n",
       "      <td>3</td>\n",
       "      <td>0.755705</td>\n",
       "      <td>0.740070</td>\n",
       "      <td>0.786141</td>\n",
       "      <td>0.760639</td>\n",
       "      <td>0.019129</td>\n",
       "    </tr>\n",
       "    <tr>\n",
       "      <th>6</th>\n",
       "      <td>0.000727</td>\n",
       "      <td>5.189453e-04</td>\n",
       "      <td>0.000335</td>\n",
       "      <td>4.740678e-04</td>\n",
       "      <td>1.0</td>\n",
       "      <td>3</td>\n",
       "      <td>{'alpha': 1.0, 'max_iter': 3}</td>\n",
       "      <td>0.748283</td>\n",
       "      <td>0.756292</td>\n",
       "      <td>0.680991</td>\n",
       "      <td>0.728522</td>\n",
       "      <td>0.033768</td>\n",
       "      <td>1</td>\n",
       "      <td>0.755663</td>\n",
       "      <td>0.740039</td>\n",
       "      <td>0.786097</td>\n",
       "      <td>0.760600</td>\n",
       "      <td>0.019124</td>\n",
       "    </tr>\n",
       "    <tr>\n",
       "      <th>7</th>\n",
       "      <td>0.000671</td>\n",
       "      <td>4.746864e-04</td>\n",
       "      <td>0.000335</td>\n",
       "      <td>4.737306e-04</td>\n",
       "      <td>1.0</td>\n",
       "      <td>5</td>\n",
       "      <td>{'alpha': 1.0, 'max_iter': 5}</td>\n",
       "      <td>0.748283</td>\n",
       "      <td>0.756292</td>\n",
       "      <td>0.680991</td>\n",
       "      <td>0.728522</td>\n",
       "      <td>0.033768</td>\n",
       "      <td>1</td>\n",
       "      <td>0.755663</td>\n",
       "      <td>0.740039</td>\n",
       "      <td>0.786097</td>\n",
       "      <td>0.760600</td>\n",
       "      <td>0.019124</td>\n",
       "    </tr>\n",
       "  </tbody>\n",
       "</table>\n",
       "</div>"
      ],
      "text/plain": [
       "   mean_fit_time  std_fit_time  mean_score_time  std_score_time param_alpha  \\\n",
       "0       0.001334  4.717637e-04         0.000666    4.712580e-04         0.0   \n",
       "1       0.001000  2.973602e-07         0.001000    1.123916e-07         0.0   \n",
       "2       0.001029  4.062968e-05         0.000668    4.722743e-04         0.1   \n",
       "3       0.000781  5.683891e-04         0.000336    4.747421e-04         0.1   \n",
       "4       0.000336  4.748545e-04         0.000675    4.776500e-04         0.5   \n",
       "5       0.000670  4.739555e-04         0.000000    0.000000e+00         0.5   \n",
       "6       0.000727  5.189453e-04         0.000335    4.740678e-04         1.0   \n",
       "7       0.000671  4.746864e-04         0.000335    4.737306e-04         1.0   \n",
       "\n",
       "  param_max_iter                         params  split0_test_score  \\\n",
       "0              3  {'alpha': 0.0, 'max_iter': 3}           0.747022   \n",
       "1              5  {'alpha': 0.0, 'max_iter': 5}           0.747022   \n",
       "2              3  {'alpha': 0.1, 'max_iter': 3}           0.747159   \n",
       "3              5  {'alpha': 0.1, 'max_iter': 5}           0.747159   \n",
       "4              3  {'alpha': 0.5, 'max_iter': 3}           0.747682   \n",
       "5              5  {'alpha': 0.5, 'max_iter': 5}           0.747682   \n",
       "6              3  {'alpha': 1.0, 'max_iter': 3}           0.748283   \n",
       "7              5  {'alpha': 1.0, 'max_iter': 5}           0.748283   \n",
       "\n",
       "   split1_test_score  split2_test_score  mean_test_score  std_test_score  \\\n",
       "0           0.756482           0.680801         0.728101        0.033669   \n",
       "1           0.756482           0.680801         0.728101        0.033669   \n",
       "2           0.756462           0.680831         0.728151        0.033675   \n",
       "3           0.756462           0.680831         0.728151        0.033675   \n",
       "4           0.756385           0.680927         0.728331        0.033708   \n",
       "5           0.756385           0.680927         0.728331        0.033708   \n",
       "6           0.756292           0.680991         0.728522        0.033768   \n",
       "7           0.756292           0.680991         0.728522        0.033768   \n",
       "\n",
       "   rank_test_score  split0_train_score  split1_train_score  \\\n",
       "0                7            0.755720            0.740082   \n",
       "1                7            0.755720            0.740082   \n",
       "2                5            0.755720            0.740081   \n",
       "3                5            0.755720            0.740081   \n",
       "4                3            0.755705            0.740070   \n",
       "5                3            0.755705            0.740070   \n",
       "6                1            0.755663            0.740039   \n",
       "7                1            0.755663            0.740039   \n",
       "\n",
       "   split2_train_score  mean_train_score  std_train_score  \n",
       "0            0.786156          0.760653         0.019131  \n",
       "1            0.786156          0.760653         0.019131  \n",
       "2            0.786156          0.760652         0.019131  \n",
       "3            0.786156          0.760652         0.019131  \n",
       "4            0.786141          0.760639         0.019129  \n",
       "5            0.786141          0.760639         0.019129  \n",
       "6            0.786097          0.760600         0.019124  \n",
       "7            0.786097          0.760600         0.019124  "
      ]
     },
     "execution_count": 74,
     "metadata": {},
     "output_type": "execute_result"
    }
   ],
   "source": [
    "resultdf=pd.DataFrame(scv.cv_results_)\n",
    "resultdf"
   ]
  },
  {
   "cell_type": "code",
   "execution_count": null,
   "metadata": {},
   "outputs": [],
   "source": []
  }
 ],
 "metadata": {
  "kernelspec": {
   "display_name": "ML_38",
   "language": "python",
   "name": "python3"
  },
  "language_info": {
   "codemirror_mode": {
    "name": "ipython",
    "version": 3
   },
   "file_extension": ".py",
   "mimetype": "text/x-python",
   "name": "python",
   "nbconvert_exporter": "python",
   "pygments_lexer": "ipython3",
   "version": "3.8.19"
  }
 },
 "nbformat": 4,
 "nbformat_minor": 2
}
