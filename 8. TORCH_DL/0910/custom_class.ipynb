{
 "cells": [
  {
   "cell_type": "markdown",
   "metadata": {},
   "source": [
    "[클래스-연산자 오버로딩(overloading)]\n",
    "- 함수명은 동일하지만 매개변수의 개수, 종류, 순서가 다르면 다름 함수로 인식\n",
    "- 연산자(+, -, /, *)에 대한 매직함수(메서드) 미리 정의되어 있음\n",
    "- 연산자 매직함수(메서드): 클래스 별로 오버로딩하도록 되어 있음"
   ]
  },
  {
   "cell_type": "markdown",
   "metadata": {},
   "source": [
    "[클래스 생성]\n",
    "* 저장 데이터: 햄버거\n",
    "* 클래스 이름: burger\n",
    "* 클래스 속성: 빵, 패티, 야채, 소스, 이름, 브랜드, 가격\n",
    "    * 브랜드: 클래스 속성 (공통)\n",
    "    * 나머지: 인스턴스 속성\n",
    "* 클래스 기능: 해당 버거의 정보 출력"
   ]
  },
  {
   "cell_type": "code",
   "execution_count": 27,
   "metadata": {},
   "outputs": [],
   "source": [
    "class Burger:\n",
    "    #클래스 속성\n",
    "    maker='맘스터치'\n",
    "\n",
    "    #인스턴스 생성(생성자 메서드)\n",
    "    #self: 인스턴스 정보가 저장될 메모리 정보\n",
    "    def __init__(self,bun,patty,veg,sauce, name, price ):\n",
    "        self.bun=bun\n",
    "        self.patty=patty\n",
    "        self.veg=veg\n",
    "        self.sauce=sauce\n",
    "        self.name=name\n",
    "        self.price=price\n",
    "\n",
    "    #인스턴스 메서드: 인스턴스(객체) 생성해야 사용 가능\n",
    "    def show_info(self):\n",
    "        print(f'🍔{self.name}🍔 정보')\n",
    "        print(f'[가격] {self.price}원')\n",
    "        print(f'[구성] {self.bun}, {self.patty}, {self.veg}')\n",
    "\n",
    "    #연산자 오버로딩\n",
    "    def __add__(self,other):\n",
    "        print('__add__')\n",
    "        return self.price+other.price\n",
    "    \n",
    "    def __sub__(self,other):\n",
    "        print('__sub__')\n",
    "        return self.price-other.price\n",
    "    \n",
    "    def __mul__(self,other):\n",
    "        print('__mul__')\n",
    "        return self.price*other\n",
    "\n"
   ]
  },
  {
   "cell_type": "markdown",
   "metadata": {},
   "source": [
    "[인스턴스(객체) 생성]\n",
    "- 메모리 heap에 저장\n",
    "- 생성 문법: 변수명=클래스명(속성 1, 속성 2, ... , 속성 n)"
   ]
  },
  {
   "cell_type": "code",
   "execution_count": 28,
   "metadata": {},
   "outputs": [],
   "source": [
    "burger1=Burger('와퍼번','소고기','양상추,양파','케찹','와퍼',8900)\n",
    "burger2=Burger('와퍼번','소고기, 통새우', '양상추,양파','스파이시쉬림프소스','통새우와퍼', 10900)\n",
    "burger3=Burger('와퍼번','소고기, 몬스터패티,치즈','양상추, 양파','몬스터소스','몬스터와퍼',12900)"
   ]
  },
  {
   "cell_type": "markdown",
   "metadata": {},
   "source": [
    "[인스턴스(객체) 속성]\n",
    "- 사용 문법: 변수명.속성명"
   ]
  },
  {
   "cell_type": "code",
   "execution_count": 29,
   "metadata": {},
   "outputs": [
    {
     "name": "stdout",
     "output_type": "stream",
     "text": [
      "burger1.name: {'와퍼'}\n"
     ]
    }
   ],
   "source": [
    "print('burger1.name:',{burger1.name})"
   ]
  },
  {
   "cell_type": "markdown",
   "metadata": {},
   "source": [
    "[인스턴스(객체) 메서드]\n",
    "- 사용 문법: 변수명.메서드명()"
   ]
  },
  {
   "cell_type": "code",
   "execution_count": 30,
   "metadata": {},
   "outputs": [
    {
     "name": "stdout",
     "output_type": "stream",
     "text": [
      "🍔와퍼🍔 정보\n",
      "[가격] 8900원\n",
      "[구성] 와퍼번, 소고기, 양상추,양파\n"
     ]
    }
   ],
   "source": [
    "burger1.show_info()"
   ]
  },
  {
   "cell_type": "markdown",
   "metadata": {},
   "source": [
    "[인스턴스(객체) 연산]\n"
   ]
  },
  {
   "cell_type": "code",
   "execution_count": 31,
   "metadata": {},
   "outputs": [
    {
     "name": "stdout",
     "output_type": "stream",
     "text": [
      "__add__\n"
     ]
    },
    {
     "data": {
      "text/plain": [
       "19800"
      ]
     },
     "execution_count": 31,
     "metadata": {},
     "output_type": "execute_result"
    }
   ],
   "source": [
    "burger1+burger2"
   ]
  },
  {
   "cell_type": "code",
   "execution_count": 32,
   "metadata": {},
   "outputs": [
    {
     "name": "stdout",
     "output_type": "stream",
     "text": [
      "__mul__\n"
     ]
    },
    {
     "data": {
      "text/plain": [
       "26700"
      ]
     },
     "execution_count": 32,
     "metadata": {},
     "output_type": "execute_result"
    }
   ],
   "source": [
    "burger1*3"
   ]
  },
  {
   "cell_type": "markdown",
   "metadata": {},
   "source": [
    "- 최상위 부모 클래스: object (기본적으로 상속되니까 따로 안 적어도 됨)"
   ]
  },
  {
   "cell_type": "code",
   "execution_count": 33,
   "metadata": {},
   "outputs": [],
   "source": [
    "class A: pass"
   ]
  },
  {
   "cell_type": "code",
   "execution_count": 34,
   "metadata": {},
   "outputs": [],
   "source": [
    "a=A()"
   ]
  },
  {
   "cell_type": "code",
   "execution_count": 35,
   "metadata": {},
   "outputs": [
    {
     "data": {
      "text/plain": [
       "['__module__',\n",
       " '__dict__',\n",
       " '__weakref__',\n",
       " '__doc__',\n",
       " '__repr__',\n",
       " '__hash__',\n",
       " '__str__',\n",
       " '__getattribute__',\n",
       " '__setattr__',\n",
       " '__delattr__',\n",
       " '__lt__',\n",
       " '__le__',\n",
       " '__eq__',\n",
       " '__ne__',\n",
       " '__gt__',\n",
       " '__ge__',\n",
       " '__init__',\n",
       " '__new__',\n",
       " '__reduce_ex__',\n",
       " '__reduce__',\n",
       " '__subclasshook__',\n",
       " '__init_subclass__',\n",
       " '__format__',\n",
       " '__sizeof__',\n",
       " '__dir__',\n",
       " '__class__']"
      ]
     },
     "execution_count": 35,
     "metadata": {},
     "output_type": "execute_result"
    }
   ],
   "source": [
    "a.__dir__()"
   ]
  },
  {
   "cell_type": "code",
   "execution_count": null,
   "metadata": {},
   "outputs": [],
   "source": []
  }
 ],
 "metadata": {
  "kernelspec": {
   "display_name": "TORCH_38",
   "language": "python",
   "name": "python3"
  },
  "language_info": {
   "codemirror_mode": {
    "name": "ipython",
    "version": 3
   },
   "file_extension": ".py",
   "mimetype": "text/x-python",
   "name": "python",
   "nbconvert_exporter": "python",
   "pygments_lexer": "ipython3",
   "version": "3.8.19"
  }
 },
 "nbformat": 4,
 "nbformat_minor": 2
}
