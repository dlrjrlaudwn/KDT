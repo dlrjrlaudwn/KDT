{
 "cells": [
  {
   "cell_type": "markdown",
   "metadata": {},
   "source": [
    "[DNN 기반 회귀 모델 구현]\n",
    "- 데이터셋: iris.csv\n",
    "- feature: feature: 3개 (Sepal_Length, Sepal_Width, Petal_Length)\n",
    "- target: 1개 (Petal_Width)\n",
    "- 학습: 지도 학습 중 회귀\n",
    "- 학습 알고리즘: 인공신경망(ANN) 중 심층신경망(DNN)  <- 은닉층이 많은 구성\n",
    "- 프레임워크: Pytorch\n",
    "- - -\n",
    "- 모니터링\n",
    "    - 기준 설정: 검증 데이터셋의 loss와 score\n",
    "    - 평가: 학습 데이터셋의 loss 또는 score와 비교 -> 학습 중단 여부 결정\n",
    "    - 선택: 현재까지 진행된 모델의 파라미터(가중치, 절편) 저장 여부 또는 모델 전체 저장\n",
    "- - - "
   ]
  },
  {
   "cell_type": "markdown",
   "metadata": {},
   "source": [
    "[1] 모듈 로딩 및 데이터 준비"
   ]
  },
  {
   "cell_type": "code",
   "execution_count": 1,
   "metadata": {},
   "outputs": [],
   "source": [
    "#모듈 로딩\n",
    "# Model 관련\n",
    "import torch\n",
    "import torch.nn as nn\n",
    "import torch.nn.functional as F\n",
    "from torch.utils.data import Dataset,DataLoader\n",
    "import torch.optim as optim\n",
    "from torchmetrics.regression import R2Score, MeanSquaredError\n",
    "from torchinfo import summary\n",
    "\n",
    "# Data 및 시각화 관련\n",
    "import pandas as pd\n",
    "import matplotlib.pyplot as plt\n",
    "from sklearn.preprocessing import *\n",
    "from sklearn.model_selection import train_test_split"
   ]
  },
  {
   "cell_type": "code",
   "execution_count": 2,
   "metadata": {},
   "outputs": [
    {
     "name": "stdout",
     "output_type": "stream",
     "text": [
      "torch  v.2.4.1\n",
      "pandas v.2.0.3\n"
     ]
    }
   ],
   "source": [
    "#활용 패키지 버전 체크\n",
    "print(f'torch  v.{torch.__version__}')\n",
    "print(f'pandas v.{pd.__version__}')"
   ]
  },
  {
   "cell_type": "code",
   "execution_count": 3,
   "metadata": {},
   "outputs": [
    {
     "data": {
      "text/html": [
       "<div>\n",
       "<style scoped>\n",
       "    .dataframe tbody tr th:only-of-type {\n",
       "        vertical-align: middle;\n",
       "    }\n",
       "\n",
       "    .dataframe tbody tr th {\n",
       "        vertical-align: top;\n",
       "    }\n",
       "\n",
       "    .dataframe thead th {\n",
       "        text-align: right;\n",
       "    }\n",
       "</style>\n",
       "<table border=\"1\" class=\"dataframe\">\n",
       "  <thead>\n",
       "    <tr style=\"text-align: right;\">\n",
       "      <th></th>\n",
       "      <th>sepal.length</th>\n",
       "      <th>sepal.width</th>\n",
       "      <th>petal.length</th>\n",
       "      <th>petal.width</th>\n",
       "    </tr>\n",
       "  </thead>\n",
       "  <tbody>\n",
       "    <tr>\n",
       "      <th>0</th>\n",
       "      <td>5.1</td>\n",
       "      <td>3.5</td>\n",
       "      <td>1.4</td>\n",
       "      <td>0.2</td>\n",
       "    </tr>\n",
       "    <tr>\n",
       "      <th>1</th>\n",
       "      <td>4.9</td>\n",
       "      <td>3.0</td>\n",
       "      <td>1.4</td>\n",
       "      <td>0.2</td>\n",
       "    </tr>\n",
       "    <tr>\n",
       "      <th>2</th>\n",
       "      <td>4.7</td>\n",
       "      <td>3.2</td>\n",
       "      <td>1.3</td>\n",
       "      <td>0.2</td>\n",
       "    </tr>\n",
       "    <tr>\n",
       "      <th>3</th>\n",
       "      <td>4.6</td>\n",
       "      <td>3.1</td>\n",
       "      <td>1.5</td>\n",
       "      <td>0.2</td>\n",
       "    </tr>\n",
       "    <tr>\n",
       "      <th>4</th>\n",
       "      <td>5.0</td>\n",
       "      <td>3.6</td>\n",
       "      <td>1.4</td>\n",
       "      <td>0.2</td>\n",
       "    </tr>\n",
       "  </tbody>\n",
       "</table>\n",
       "</div>"
      ],
      "text/plain": [
       "   sepal.length  sepal.width  petal.length  petal.width\n",
       "0           5.1          3.5           1.4          0.2\n",
       "1           4.9          3.0           1.4          0.2\n",
       "2           4.7          3.2           1.3          0.2\n",
       "3           4.6          3.1           1.5          0.2\n",
       "4           5.0          3.6           1.4          0.2"
      ]
     },
     "execution_count": 3,
     "metadata": {},
     "output_type": "execute_result"
    }
   ],
   "source": [
    "#데이터 로딩\n",
    "data_file='../data/iris.csv'\n",
    "\n",
    "#csv -> DataFrame\n",
    "iris_df=pd.read_csv(data_file, usecols=[0,1,2,3])\n",
    "iris_df.head()"
   ]
  },
  {
   "cell_type": "markdown",
   "metadata": {},
   "source": [
    "- - - \n",
    "[2] 모델 클래스 설계 및 정의\n",
    "- 클래스 목적: iris 데이터 학습 및 추론\n",
    "- 클래스 이름: iris_reg_model\n",
    "- 부모 클래스: nn.Module\n",
    "- 매개변수: 각 층별 입출력 개수 고정 => 필요 X\n",
    "- 클래스 속성: feature_df, target_df, n_rows, n_features\n",
    "- 클래스 기능: __init__() <- 모델 구조 설정, forward() <- 순방향 학습(오버라이딩(상속 관계에서만 가능) 필요)\n",
    "- 클래스 구조\n",
    "    - 입력층:  3개 입력 (feature 개수) 10개 출력 (=퍼셉트론 10개) \n",
    "    - 은닉층: 10개 입력                30개 출력 (=퍼셉트론 30개)\n",
    "    - 출력층: 30개 입력                 1개 출력 (target 1개)\n",
    "\n",
    "- 활성화함수\n",
    "    - 클래스 형태 (대문자로 시작)\n",
    "        - nn.MSELoss, nn.ReLU 등\n",
    "        - _ _init_ _() 메서드에서 사용됨\n",
    "        - 하나의 층처럼 사용 가능\n",
    "    - 함수 형태 (소문자로 시작)\n",
    "        - torch.nn.functional.relu 등\n",
    "        - forward 메서드에 사용됨"
   ]
  },
  {
   "cell_type": "code",
   "execution_count": 4,
   "metadata": {},
   "outputs": [],
   "source": [
    "class iris_reg_model(nn.Module):\n",
    "\n",
    "    #모델 구조 구성 및 인스턴스 생성 메서드\n",
    "    def __init__(self):\n",
    "        super().__init__()\n",
    "\n",
    "        self.in_layer=nn.Linear(3,10)\n",
    "        self.hidden_layer=nn.Linear(10,30)\n",
    "        self.out_layer=nn.Linear(30,1)\n",
    "\n",
    "    #순방향 학습 진행 메서드\n",
    "    def forward(self,input_data):\n",
    "\n",
    "        #입력층\n",
    "        y=self.in_layer(input_data)     \n",
    "        y=F.relu(y)                     # y 값: 0 이상\n",
    "\n",
    "        #은닉층\n",
    "        y=self.hidden_layer(y)\n",
    "        y=F.relu(y)\n",
    "\n",
    "        #출력층_회귀니까 바로 반환\n",
    "        return self.out_layer(y)\n"
   ]
  },
  {
   "cell_type": "code",
   "execution_count": 5,
   "metadata": {},
   "outputs": [
    {
     "name": "stdout",
     "output_type": "stream",
     "text": [
      "iris_reg_model(\n",
      "  (in_layer): Linear(in_features=3, out_features=10, bias=True)\n",
      "  (hidden_layer): Linear(in_features=10, out_features=30, bias=True)\n",
      "  (out_layer): Linear(in_features=30, out_features=1, bias=True)\n",
      ")\n"
     ]
    }
   ],
   "source": [
    "#모델 인스턴스 생성_확인용용\n",
    "model=iris_reg_model()\n",
    "\n",
    "print(model)"
   ]
  },
  {
   "cell_type": "code",
   "execution_count": 6,
   "metadata": {},
   "outputs": [
    {
     "data": {
      "text/plain": [
       "==========================================================================================\n",
       "Layer (type:depth-idx)                   Output Shape              Param #\n",
       "==========================================================================================\n",
       "iris_reg_model                           [10, 1]                   --\n",
       "├─Linear: 1-1                            [10, 10]                  40\n",
       "├─Linear: 1-2                            [10, 30]                  330\n",
       "├─Linear: 1-3                            [10, 1]                   31\n",
       "==========================================================================================\n",
       "Total params: 401\n",
       "Trainable params: 401\n",
       "Non-trainable params: 0\n",
       "Total mult-adds (M): 0.00\n",
       "==========================================================================================\n",
       "Input size (MB): 0.00\n",
       "Forward/backward pass size (MB): 0.00\n",
       "Params size (MB): 0.00\n",
       "Estimated Total Size (MB): 0.01\n",
       "=========================================================================================="
      ]
     },
     "execution_count": 6,
     "metadata": {},
     "output_type": "execute_result"
    }
   ],
   "source": [
    "#모델이 사용하는 메모리 정보 확인\n",
    "summary(model, input_size=(10,3))   #input_size=(n,m) : n행 m열 데이터를 넣었을 때 사용하는 메모리값 보여줌"
   ]
  },
  {
   "cell_type": "markdown",
   "metadata": {},
   "source": [
    "- - -\n",
    "[3] 데이터셋 클래스 설계 및 정의\n",
    "- 데이터셋: iris.csv\n",
    "- feature: 3개\n",
    "- target: 1개\n",
    "- 클래스 이름: iris_ds\n",
    "- 부모 클래스: utils.data.Dataset\n",
    "- 클래스 속성(필드): feature_df,target_df,n_rows,n_features\n",
    "- 필수 메서드: \n",
    "    - _ _ init _ _ (self): 데이터셋 저장 및 전처리, 개발자가 필요한 속성 설정\n",
    "    - _ _ len _ _ (self): 데이터 개수 반환\n",
    "    - _ _ getItem _ _ (self): 특정 인덱스의 feature/target 반환"
   ]
  },
  {
   "cell_type": "code",
   "execution_count": 7,
   "metadata": {},
   "outputs": [],
   "source": [
    "class iris_dataset(Dataset):\n",
    "    def __init__(self,feature_df,target_df):\n",
    "        self.feature_df=feature_df\n",
    "        self.target_df=target_df\n",
    "\n",
    "        self.n_rows=feature_df.shape[0]\n",
    "        self.n_features=feature_df.shape[1]\n",
    "\n",
    "    def __len__(self):\n",
    "        return self.n_rows\n",
    "    \n",
    "    def __getitem__(self, index):\n",
    "\n",
    "        #tensor화\n",
    "        feature_ts=torch.FloatTensor(self.feature_df.iloc[index].values)\n",
    "        target_ts=torch.FloatTensor(self.target_df.iloc[index].values)\n",
    "\n",
    "        #feature/target 반환\n",
    "        return feature_ts,target_ts"
   ]
  },
  {
   "cell_type": "code",
   "execution_count": 8,
   "metadata": {},
   "outputs": [],
   "source": [
    "#데이터셋 인스턴스 생성\n",
    "\n",
    "feature_df=iris_df[iris_df.columns[:-1]]    #2D (150,3)\n",
    "target_df=iris_df[iris_df.columns[-1:]]     #2D (150,1)\n",
    "\n",
    "iris_ds=iris_dataset(feature_df,target_df)"
   ]
  },
  {
   "cell_type": "markdown",
   "metadata": {},
   "source": [
    "- - -\n",
    "[4] 학습 준비\n",
    "- 학습 횟수: EPOCH          #회독 횟수\n",
    "- 배치 크기: BATCH_SIZE     #한번에 학습할 데이터 양\n",
    "- 위치 지정: DEVICE         #텐서 저장 및 실행 위치 (GPU or CPU)\n",
    "- 학습률(LR)\n",
    "    - 가중치와 절편 업데이트 시 경사하강법으로 업데이트 간격 설정\n",
    "    - 0.001 ~ 0.1 사이 값 주로 사용"
   ]
  },
  {
   "cell_type": "code",
   "execution_count": 9,
   "metadata": {},
   "outputs": [
    {
     "name": "stdout",
     "output_type": "stream",
     "text": [
      "BATCH_CNT: 15\n"
     ]
    }
   ],
   "source": [
    "#학습 진행 관련 설정\n",
    "\n",
    "EPOCH=1         #처음에 1로 설정해서 잘 돌아가는지 확인하고 올리기\n",
    "BATCH_SIZE=10\n",
    "BATCH_CNT=iris_df.shape[0]//BATCH_SIZE\n",
    "DEVICE='cuda' if torch.cuda.is_available() else 'cpu'\n",
    "LR=0.001\n",
    "\n",
    "print(f'BATCH_CNT: {BATCH_CNT}')"
   ]
  },
  {
   "cell_type": "markdown",
   "metadata": {},
   "source": [
    "- 인스턴스: 모델, 데이터셋, 최적화, (손실함수, 성능지표)"
   ]
  },
  {
   "cell_type": "code",
   "execution_count": 10,
   "metadata": {},
   "outputs": [
    {
     "name": "stdout",
     "output_type": "stream",
     "text": [
      "x_train: (84, 3), x_test: (38, 3), x_val: (28, 3)\n",
      "y_train: (84, 1), y_test: (38, 1), y_val: (28, 1)\n",
      "<class 'pandas.core.frame.DataFrame'>, <class 'pandas.core.frame.DataFrame'>, <class 'pandas.core.frame.DataFrame'>\n"
     ]
    }
   ],
   "source": [
    "#모델 인스턴스\n",
    "model=iris_reg_model()\n",
    "\n",
    "#데이터셋 인스턴스\n",
    "x_train,x_test,y_train,y_test=train_test_split(feature_df,target_df,random_state=1)\n",
    "x_train,x_val,y_train,y_val=train_test_split(x_train,y_train,random_state=1)\n",
    "print(f'x_train: {x_train.shape}, x_test: {x_test.shape}, x_val: {x_val.shape}')\n",
    "print(f'y_train: {y_train.shape}, y_test: {y_test.shape}, y_val: {y_val.shape}')\n",
    "print(f'{type(x_train)}, {type(x_test)}, {type(x_val)}')\n",
    "\n",
    "#iris_ds=iris_dataset(feature_df,target_df)\n",
    "\n",
    "train_ds=iris_dataset(x_train,y_train)\n",
    "val_ds=iris_dataset(x_val,y_val)\n",
    "test_ds=iris_dataset(x_test,y_test)\n",
    "\n",
    "#최적화 인스턴스\n",
    "iris_dl=DataLoader(train_ds,batch_size=BATCH_SIZE)"
   ]
  },
  {
   "cell_type": "code",
   "execution_count": 11,
   "metadata": {},
   "outputs": [
    {
     "name": "stdout",
     "output_type": "stream",
     "text": [
      "torch.Size([10, 3]) torch.Size([10, 1])\n"
     ]
    }
   ],
   "source": [
    "#데이터로더, 데이터셋 테스트\n",
    "for feature,target in iris_dl:\n",
    "    print(feature.shape,target.shape)\n",
    "    break"
   ]
  },
  {
   "cell_type": "code",
   "execution_count": 12,
   "metadata": {},
   "outputs": [],
   "source": [
    "#최적화 인스턴스: model.parameters() 전달\n",
    "optimizer=optim.Adam(model.parameters(), lr=LR)\n",
    "\n",
    "#손실함수 인스턴스: 회귀 => MSE, MAE, RMSE 등 사용\n",
    "reg_loss=nn.MSELoss()"
   ]
  },
  {
   "cell_type": "markdown",
   "metadata": {},
   "source": [
    "- - -\n",
    "[5] 학습 진행"
   ]
  },
  {
   "cell_type": "code",
   "execution_count": 13,
   "metadata": {},
   "outputs": [
    {
     "name": "stdout",
     "output_type": "stream",
     "text": [
      "BATCH_CNT 15.0\n"
     ]
    }
   ],
   "source": [
    "#학습 확인 w. 손실값, 성능평가 지표\n",
    "\n",
    "loss_history=[[],[]]\n",
    "score_history=[[],[]]\n",
    "\n",
    "BATCH_CNT=iris_ds.n_rows/BATCH_SIZE\n",
    "print('BATCH_CNT',BATCH_CNT)\n",
    "\n",
    "#학습 모니터링/스케줄링 설정: loss_history, score_history 활용\n",
    "# - 임계 기준: 10번\n",
    "break_count=0\n",
    "limit=10\n",
    "\n",
    "for epoch in range(EPOCH):\n",
    "\n",
    "    #학습 모드로 모델 설정\n",
    "    model.train()\n",
    "\n",
    "    total_loss=0\n",
    "    total_score=0\n",
    "\n",
    "    for feature_ts,target_ts in iris_dl:\n",
    "\n",
    "        #학습 진행\n",
    "        pre_y=model(feature_ts)\n",
    "\n",
    "        #손실 계산\n",
    "        loss=reg_loss(pre_y,target_ts)\n",
    "        total_loss+=loss.item()\n",
    "\n",
    "        #성능 평가\n",
    "        score=R2Score()(pre_y,target_ts)\n",
    "        total_score+=score.item()\n",
    "\n",
    "        #최적화 진행\n",
    "        optimizer.zero_grad()\n",
    "        loss.backward()\n",
    "        optimizer.step()\n",
    "        \n",
    "    #각 에포크 당 검증 수행: 모델을 검증 모드로 설정\n",
    "    model.eval()\n",
    "\n",
    "    with torch.no_grad():\n",
    "        #검증 데이터셋\n",
    "        val_feature_ts=torch.FloatTensor(val_ds.feature_df.values)\n",
    "        val_target_ts=torch.FloatTensor(val_ds.target_df.values)\n",
    "        \n",
    "        #평가\n",
    "        pre_val=model(val_feature_ts)\n",
    "\n",
    "        #손실 계산\n",
    "        val_loss=reg_loss(pre_val,val_target_ts)\n",
    "\n",
    "        #성능 평가\n",
    "        val_score=R2Score()(pre_val,val_target_ts)\n",
    "\n",
    "    #손실값, 성능평가값 저장\n",
    "    loss_history[0].append(total_loss/BATCH_CNT)\n",
    "    score_history[0].append(total_score/BATCH_CNT)\n",
    "\n",
    "    loss_history[1].append(val_loss)\n",
    "    score_history[1].append(val_score)\n",
    "\n",
    "    #학습 진행 모니터링(스케줄링)_검증 ds 기준 (loss/score 둘 중 하나만 하면 됨)\n",
    "\n",
    "    #loss\n",
    "    if len(loss_history[1]) >= 2:\n",
    "        if loss_history[1][-1] >= loss_history[1][-2]: break_count+=1\n",
    "\n",
    "    # #score\n",
    "    # if len(score_history[1])>=2:\n",
    "    #     if score_history[1][-1] <= score_history[1][-2]: break_count+=1\n",
    "\n",
    "    #학습 중단 여부 설정\n",
    "    if break_count>limit:\n",
    "        print(f'성능 및 손실 개선이 없어서 {epoch} EPOCH에 학습 중단')\n",
    "        break"
   ]
  },
  {
   "cell_type": "code",
   "execution_count": 14,
   "metadata": {},
   "outputs": [
    {
     "data": {
      "text/plain": [
       "(torch.Size([28, 3]), torch.Size([28, 1]))"
      ]
     },
     "execution_count": 14,
     "metadata": {},
     "output_type": "execute_result"
    }
   ],
   "source": [
    "val_feature_ts=torch.FloatTensor(val_ds.feature_df.values)\n",
    "val_target_ts=torch.FloatTensor(val_ds.target_df.values)\n",
    "\n",
    "val_feature_ts.shape, val_target_ts.shape"
   ]
  },
  {
   "cell_type": "code",
   "execution_count": 15,
   "metadata": {},
   "outputs": [
    {
     "name": "stdout",
     "output_type": "stream",
     "text": [
      "CNT: 15.0\n",
      "loss_history: [[1.7922920385996501], [tensor(2.1259)]]\n",
      "score_history: [[-3.26147403717041], [tensor(-2.2934)]]\n"
     ]
    }
   ],
   "source": [
    "print('CNT:',BATCH_CNT)\n",
    "print(f'loss_history: {loss_history}')\n",
    "print(f'score_history: {score_history}')"
   ]
  },
  {
   "cell_type": "markdown",
   "metadata": {},
   "source": [
    "- - - \n",
    "모델 저장 방법\n",
    "- 방법 1: 모델 파라미터만 저장\n",
    "- 방법 2: 모델 설계 구조 및 파라미터까지 모두 저장"
   ]
  },
  {
   "cell_type": "code",
   "execution_count": 16,
   "metadata": {},
   "outputs": [
    {
     "data": {
      "text/plain": [
       "<bound method Module.state_dict of iris_reg_model(\n",
       "  (in_layer): Linear(in_features=3, out_features=10, bias=True)\n",
       "  (hidden_layer): Linear(in_features=10, out_features=30, bias=True)\n",
       "  (out_layer): Linear(in_features=30, out_features=1, bias=True)\n",
       ")>"
      ]
     },
     "execution_count": 16,
     "metadata": {},
     "output_type": "execute_result"
    }
   ],
   "source": [
    "#학습된 모델 파라미터 값 확인\n",
    "model.state_dict"
   ]
  },
  {
   "cell_type": "markdown",
   "metadata": {},
   "source": [
    "[방법 1] 모델 파라미터(층별 가중치, 절편)만 저장"
   ]
  },
  {
   "cell_type": "code",
   "execution_count": 17,
   "metadata": {},
   "outputs": [],
   "source": [
    "#models 폴더 아래 프로젝트 폴더 아래 모델 파일 저장\n",
    "import os\n",
    "\n",
    "save_path='../models/iris/'\n",
    "\n",
    "save_File='model.train_wbs.pth'"
   ]
  },
  {
   "cell_type": "code",
   "execution_count": 18,
   "metadata": {},
   "outputs": [],
   "source": [
    "#경로 상 폴더 존재 여부 체크\n",
    "if not os.path.exists(save_path):\n",
    "    os.makedirs(save_path)  #하위 폴더까지 생성 가능"
   ]
  },
  {
   "cell_type": "code",
   "execution_count": 19,
   "metadata": {},
   "outputs": [],
   "source": [
    "#모델 저장\n",
    "torch.save(model.state_dict(),save_path+save_File)"
   ]
  },
  {
   "cell_type": "code",
   "execution_count": 20,
   "metadata": {},
   "outputs": [
    {
     "name": "stdout",
     "output_type": "stream",
     "text": [
      "<class 'collections.OrderedDict'>\n"
     ]
    },
    {
     "name": "stderr",
     "output_type": "stream",
     "text": [
      "C:\\Users\\desktop\\AppData\\Local\\Temp\\ipykernel_2328\\317353833.py:4: FutureWarning: You are using `torch.load` with `weights_only=False` (the current default value), which uses the default pickle module implicitly. It is possible to construct malicious pickle data which will execute arbitrary code during unpickling (See https://github.com/pytorch/pytorch/blob/main/SECURITY.md#untrusted-models for more details). In a future release, the default value for `weights_only` will be flipped to `True`. This limits the functions that could be executed during unpickling. Arbitrary objects will no longer be allowed to be loaded via this mode unless they are explicitly allowlisted by the user via `torch.serialization.add_safe_globals`. We recommend you start setting `weights_only=True` for any use case where you don't have full control of the loaded file. Please open an issue on GitHub for any issues related to this experimental feature.\n",
      "  wb_ts=torch.load(save_path+save_File)\n"
     ]
    },
    {
     "data": {
      "text/plain": [
       "<All keys matched successfully>"
      ]
     },
     "execution_count": 20,
     "metadata": {},
     "output_type": "execute_result"
    }
   ],
   "source": [
    "#가중치, 절편 로딩: 객체로 로딩 -> 모델의 state_dict 속성에 저장\n",
    "\n",
    "#객체로 로딩\n",
    "wb_ts=torch.load(save_path+save_File)\n",
    "print(type(wb_ts))\n",
    "\n",
    "#저장\n",
    "model2=iris_reg_model()     #층마다 가중치, 절편 초기화됨\n",
    "model2.load_state_dict(wb_ts)"
   ]
  },
  {
   "cell_type": "code",
   "execution_count": 21,
   "metadata": {},
   "outputs": [
    {
     "name": "stdout",
     "output_type": "stream",
     "text": [
      "iris_reg_model(\n",
      "  (in_layer): Linear(in_features=3, out_features=10, bias=True)\n",
      "  (hidden_layer): Linear(in_features=10, out_features=30, bias=True)\n",
      "  (out_layer): Linear(in_features=30, out_features=1, bias=True)\n",
      ")\n"
     ]
    }
   ],
   "source": [
    "print(model2)"
   ]
  },
  {
   "cell_type": "code",
   "execution_count": null,
   "metadata": {},
   "outputs": [],
   "source": []
  }
 ],
 "metadata": {
  "kernelspec": {
   "display_name": "TORCH_38",
   "language": "python",
   "name": "python3"
  },
  "language_info": {
   "codemirror_mode": {
    "name": "ipython",
    "version": 3
   },
   "file_extension": ".py",
   "mimetype": "text/x-python",
   "name": "python",
   "nbconvert_exporter": "python",
   "pygments_lexer": "ipython3",
   "version": "3.8.19"
  }
 },
 "nbformat": 4,
 "nbformat_minor": 2
}
