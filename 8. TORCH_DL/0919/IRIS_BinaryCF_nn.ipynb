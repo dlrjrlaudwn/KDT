{
 "cells": [
  {
   "cell_type": "markdown",
   "metadata": {},
   "source": [
    "[DNN 기반 이진분류 모델 구현]\n",
    "- 데이터셋: iris.csv\n",
    "- feature: 4개 (Sepal_Length, Sepal_Width, Petal_Length, Petal_Width)\n",
    "- target: 1개 (Setosa or other)\n",
    "- 학습: 지도 학습 중 분류\n",
    "- 학습 알고리즘: 인공신경망(ANN) 중 심층신경망(DNN)  <- 은닉층이 많은 구성\n",
    "- 프레임워크: Pytorch\n",
    "- - -\n",
    "- 모니터링\n",
    "    - 기준 설정: 검증 데이터셋의 loss와 score\n",
    "    - 평가: 학습 데이터셋의 loss 또는 score와 비교 -> 학습 중단 여부 결정\n",
    "    - 선택: 현재까지 진행된 모델의 파라미터(가중치, 절편) 저장 여부 또는 모델 전체 저장\n",
    "- - - \n",
    "- 진행 파라미터 저장"
   ]
  },
  {
   "cell_type": "markdown",
   "metadata": {},
   "source": [
    "[1] 모듈 로딩 및 데이터 준비"
   ]
  },
  {
   "cell_type": "code",
   "execution_count": 105,
   "metadata": {},
   "outputs": [],
   "source": [
    "#모듈 로딩\n",
    "# Model 관련\n",
    "import torch\n",
    "import torch.nn as nn\n",
    "import torch.nn.functional as F\n",
    "from torch.utils.data import Dataset,DataLoader\n",
    "import torch.optim as optim\n",
    "from torchmetrics.classification import F1Score,BinaryF1Score,BinaryAccuracy\n",
    "from torchmetrics.classification import BinaryConfusionMatrix\n",
    "from torchinfo import summary\n",
    "\n",
    "# Data 및 시각화 관련\n",
    "import pandas as pd\n",
    "import matplotlib.pyplot as plt\n",
    "from sklearn.preprocessing import *\n",
    "from sklearn.model_selection import train_test_split"
   ]
  },
  {
   "cell_type": "code",
   "execution_count": 106,
   "metadata": {},
   "outputs": [
    {
     "name": "stdout",
     "output_type": "stream",
     "text": [
      "torch  v.2.4.1\n",
      "pandas v.2.0.3\n"
     ]
    }
   ],
   "source": [
    "#활용 패키지 버전 체크\n",
    "print(f'torch  v.{torch.__version__}')\n",
    "print(f'pandas v.{pd.__version__}')"
   ]
  },
  {
   "cell_type": "code",
   "execution_count": 107,
   "metadata": {},
   "outputs": [
    {
     "data": {
      "text/plain": [
       "<torch._C.Generator at 0x2a7188e2e10>"
      ]
     },
     "execution_count": 107,
     "metadata": {},
     "output_type": "execute_result"
    }
   ],
   "source": [
    "torch.manual_seed(2)"
   ]
  },
  {
   "cell_type": "code",
   "execution_count": 108,
   "metadata": {},
   "outputs": [
    {
     "data": {
      "text/html": [
       "<div>\n",
       "<style scoped>\n",
       "    .dataframe tbody tr th:only-of-type {\n",
       "        vertical-align: middle;\n",
       "    }\n",
       "\n",
       "    .dataframe tbody tr th {\n",
       "        vertical-align: top;\n",
       "    }\n",
       "\n",
       "    .dataframe thead th {\n",
       "        text-align: right;\n",
       "    }\n",
       "</style>\n",
       "<table border=\"1\" class=\"dataframe\">\n",
       "  <thead>\n",
       "    <tr style=\"text-align: right;\">\n",
       "      <th></th>\n",
       "      <th>sepal.length</th>\n",
       "      <th>sepal.width</th>\n",
       "      <th>petal.length</th>\n",
       "      <th>petal.width</th>\n",
       "      <th>variety</th>\n",
       "    </tr>\n",
       "  </thead>\n",
       "  <tbody>\n",
       "    <tr>\n",
       "      <th>0</th>\n",
       "      <td>5.1</td>\n",
       "      <td>3.5</td>\n",
       "      <td>1.4</td>\n",
       "      <td>0.2</td>\n",
       "      <td>Setosa</td>\n",
       "    </tr>\n",
       "    <tr>\n",
       "      <th>1</th>\n",
       "      <td>4.9</td>\n",
       "      <td>3.0</td>\n",
       "      <td>1.4</td>\n",
       "      <td>0.2</td>\n",
       "      <td>Setosa</td>\n",
       "    </tr>\n",
       "    <tr>\n",
       "      <th>2</th>\n",
       "      <td>4.7</td>\n",
       "      <td>3.2</td>\n",
       "      <td>1.3</td>\n",
       "      <td>0.2</td>\n",
       "      <td>Setosa</td>\n",
       "    </tr>\n",
       "    <tr>\n",
       "      <th>3</th>\n",
       "      <td>4.6</td>\n",
       "      <td>3.1</td>\n",
       "      <td>1.5</td>\n",
       "      <td>0.2</td>\n",
       "      <td>Setosa</td>\n",
       "    </tr>\n",
       "    <tr>\n",
       "      <th>4</th>\n",
       "      <td>5.0</td>\n",
       "      <td>3.6</td>\n",
       "      <td>1.4</td>\n",
       "      <td>0.2</td>\n",
       "      <td>Setosa</td>\n",
       "    </tr>\n",
       "  </tbody>\n",
       "</table>\n",
       "</div>"
      ],
      "text/plain": [
       "   sepal.length  sepal.width  petal.length  petal.width variety\n",
       "0           5.1          3.5           1.4          0.2  Setosa\n",
       "1           4.9          3.0           1.4          0.2  Setosa\n",
       "2           4.7          3.2           1.3          0.2  Setosa\n",
       "3           4.6          3.1           1.5          0.2  Setosa\n",
       "4           5.0          3.6           1.4          0.2  Setosa"
      ]
     },
     "execution_count": 108,
     "metadata": {},
     "output_type": "execute_result"
    }
   ],
   "source": [
    "#데이터 로딩\n",
    "data_file='../data/iris.csv'\n",
    "\n",
    "#csv -> DataFrame\n",
    "iris_df=pd.read_csv(data_file)\n",
    "iris_df.head()"
   ]
  },
  {
   "cell_type": "code",
   "execution_count": 109,
   "metadata": {},
   "outputs": [
    {
     "data": {
      "text/plain": [
       "array(['Setosa', 'Versicolor', 'Virginica'], dtype=object)"
      ]
     },
     "execution_count": 109,
     "metadata": {},
     "output_type": "execute_result"
    }
   ],
   "source": [
    "#타겟 변경: 정수화, 클래스 2개로 바꾸는 작업 필요\n",
    "\n",
    "#3개의 클래스를 2개로 바꾸기기\n",
    "iris_df['variety'].unique()"
   ]
  },
  {
   "cell_type": "code",
   "execution_count": 110,
   "metadata": {},
   "outputs": [],
   "source": [
    "iris_df['variety']=(iris_df['variety']=='Setosa')"
   ]
  },
  {
   "cell_type": "code",
   "execution_count": 111,
   "metadata": {},
   "outputs": [
    {
     "data": {
      "text/html": [
       "<div>\n",
       "<style scoped>\n",
       "    .dataframe tbody tr th:only-of-type {\n",
       "        vertical-align: middle;\n",
       "    }\n",
       "\n",
       "    .dataframe tbody tr th {\n",
       "        vertical-align: top;\n",
       "    }\n",
       "\n",
       "    .dataframe thead th {\n",
       "        text-align: right;\n",
       "    }\n",
       "</style>\n",
       "<table border=\"1\" class=\"dataframe\">\n",
       "  <thead>\n",
       "    <tr style=\"text-align: right;\">\n",
       "      <th></th>\n",
       "      <th>sepal.length</th>\n",
       "      <th>sepal.width</th>\n",
       "      <th>petal.length</th>\n",
       "      <th>petal.width</th>\n",
       "      <th>variety</th>\n",
       "    </tr>\n",
       "  </thead>\n",
       "  <tbody>\n",
       "    <tr>\n",
       "      <th>0</th>\n",
       "      <td>5.1</td>\n",
       "      <td>3.5</td>\n",
       "      <td>1.4</td>\n",
       "      <td>0.2</td>\n",
       "      <td>True</td>\n",
       "    </tr>\n",
       "    <tr>\n",
       "      <th>1</th>\n",
       "      <td>4.9</td>\n",
       "      <td>3.0</td>\n",
       "      <td>1.4</td>\n",
       "      <td>0.2</td>\n",
       "      <td>True</td>\n",
       "    </tr>\n",
       "    <tr>\n",
       "      <th>2</th>\n",
       "      <td>4.7</td>\n",
       "      <td>3.2</td>\n",
       "      <td>1.3</td>\n",
       "      <td>0.2</td>\n",
       "      <td>True</td>\n",
       "    </tr>\n",
       "    <tr>\n",
       "      <th>3</th>\n",
       "      <td>4.6</td>\n",
       "      <td>3.1</td>\n",
       "      <td>1.5</td>\n",
       "      <td>0.2</td>\n",
       "      <td>True</td>\n",
       "    </tr>\n",
       "    <tr>\n",
       "      <th>4</th>\n",
       "      <td>5.0</td>\n",
       "      <td>3.6</td>\n",
       "      <td>1.4</td>\n",
       "      <td>0.2</td>\n",
       "      <td>True</td>\n",
       "    </tr>\n",
       "    <tr>\n",
       "      <th>...</th>\n",
       "      <td>...</td>\n",
       "      <td>...</td>\n",
       "      <td>...</td>\n",
       "      <td>...</td>\n",
       "      <td>...</td>\n",
       "    </tr>\n",
       "    <tr>\n",
       "      <th>145</th>\n",
       "      <td>6.7</td>\n",
       "      <td>3.0</td>\n",
       "      <td>5.2</td>\n",
       "      <td>2.3</td>\n",
       "      <td>False</td>\n",
       "    </tr>\n",
       "    <tr>\n",
       "      <th>146</th>\n",
       "      <td>6.3</td>\n",
       "      <td>2.5</td>\n",
       "      <td>5.0</td>\n",
       "      <td>1.9</td>\n",
       "      <td>False</td>\n",
       "    </tr>\n",
       "    <tr>\n",
       "      <th>147</th>\n",
       "      <td>6.5</td>\n",
       "      <td>3.0</td>\n",
       "      <td>5.2</td>\n",
       "      <td>2.0</td>\n",
       "      <td>False</td>\n",
       "    </tr>\n",
       "    <tr>\n",
       "      <th>148</th>\n",
       "      <td>6.2</td>\n",
       "      <td>3.4</td>\n",
       "      <td>5.4</td>\n",
       "      <td>2.3</td>\n",
       "      <td>False</td>\n",
       "    </tr>\n",
       "    <tr>\n",
       "      <th>149</th>\n",
       "      <td>5.9</td>\n",
       "      <td>3.0</td>\n",
       "      <td>5.1</td>\n",
       "      <td>1.8</td>\n",
       "      <td>False</td>\n",
       "    </tr>\n",
       "  </tbody>\n",
       "</table>\n",
       "<p>150 rows × 5 columns</p>\n",
       "</div>"
      ],
      "text/plain": [
       "     sepal.length  sepal.width  petal.length  petal.width  variety\n",
       "0             5.1          3.5           1.4          0.2     True\n",
       "1             4.9          3.0           1.4          0.2     True\n",
       "2             4.7          3.2           1.3          0.2     True\n",
       "3             4.6          3.1           1.5          0.2     True\n",
       "4             5.0          3.6           1.4          0.2     True\n",
       "..            ...          ...           ...          ...      ...\n",
       "145           6.7          3.0           5.2          2.3    False\n",
       "146           6.3          2.5           5.0          1.9    False\n",
       "147           6.5          3.0           5.2          2.0    False\n",
       "148           6.2          3.4           5.4          2.3    False\n",
       "149           5.9          3.0           5.1          1.8    False\n",
       "\n",
       "[150 rows x 5 columns]"
      ]
     },
     "execution_count": 111,
     "metadata": {},
     "output_type": "execute_result"
    }
   ],
   "source": [
    "iris_df"
   ]
  },
  {
   "cell_type": "code",
   "execution_count": 112,
   "metadata": {},
   "outputs": [],
   "source": [
    "iris_df['variety']=iris_df['variety'].astype('int')"
   ]
  },
  {
   "cell_type": "code",
   "execution_count": 113,
   "metadata": {},
   "outputs": [
    {
     "data": {
      "text/plain": [
       "array([1, 0])"
      ]
     },
     "execution_count": 113,
     "metadata": {},
     "output_type": "execute_result"
    }
   ],
   "source": [
    "iris_df['variety'].unique()"
   ]
  },
  {
   "cell_type": "code",
   "execution_count": 114,
   "metadata": {},
   "outputs": [
    {
     "data": {
      "text/plain": [
       "variety\n",
       "0    100\n",
       "1     50\n",
       "Name: count, dtype: int64"
      ]
     },
     "execution_count": 114,
     "metadata": {},
     "output_type": "execute_result"
    }
   ],
   "source": [
    "# labels=dict(zip(iris_df['variety'].unique().tolist(),range(3)))\n",
    "# iris_df['variety']=iris_df['variety'].replace(labels)\n",
    "\n",
    "iris_df['variety'].value_counts()"
   ]
  },
  {
   "cell_type": "markdown",
   "metadata": {},
   "source": [
    "- - - \n",
    "[2] 모델 클래스 설계 및 정의\n",
    "- 클래스 목적: iris 데이터 학습 및 추론\n",
    "- 클래스 이름: iris_bcf_model\n",
    "- 부모 클래스: nn.Module\n",
    "- 매개변수: 각 층별 입출력 개수 고정 => 필요 X\n",
    "- 클래스 속성: feature_df, target_df, n_rows, n_features\n",
    "- 클래스 기능: _ _ init _ _( ) <- 모델 구조 설정, forward() <- 순방향 학습(오버라이딩(상속 관계에서만 가능) 필요)\n",
    "- 클래스 구조\n",
    "    - 입력층:  4개 입력 (feature 개수) 10개 출력 (=퍼셉트론 10개) \n",
    "    - 은닉층: 10개 입력                 5개 출력 (=퍼셉트론 30개)\n",
    "    - 출력층:  5개 입력                 1개 출력 (이진분류의 결과)\n",
    "\n",
    "- 활성화함수\n",
    "    - 클래스 형태 (대문자로 시작)\n",
    "        - nn.MSELoss, nn.ReLU 등\n",
    "        - _ _init_ _() 메서드에서 사용됨\n",
    "        - 하나의 층처럼 사용 가능\n",
    "    - 함수 형태 (소문자로 시작)\n",
    "        - torch.nn.functional.relu 등\n",
    "        - forward 메서드에 사용됨"
   ]
  },
  {
   "cell_type": "code",
   "execution_count": 115,
   "metadata": {},
   "outputs": [],
   "source": [
    "class iris_bcf_model(nn.Module):\n",
    "\n",
    "    #모델 구조 구성 및 인스턴스 생성 메서드\n",
    "    def __init__(self):\n",
    "        super().__init__()\n",
    "\n",
    "        self.in_layer=nn.Linear(4,10)\n",
    "        self.hidden_layer=nn.Linear(10,5)\n",
    "        self.out_layer=nn.Linear(5,1)\n",
    "\n",
    "    #순방향 학습 진행 메서드\n",
    "    def forward(self,input_data):\n",
    "\n",
    "        #입력층\n",
    "        y=self.in_layer(input_data)     \n",
    "        y=F.relu(y)                     # y 값: 0 이상\n",
    "\n",
    "        #은닉층\n",
    "        y=self.hidden_layer(y)\n",
    "        y=F.relu(y)\n",
    "\n",
    "        #출력층\n",
    "        return F.sigmoid(self.out_layer(y))"
   ]
  },
  {
   "cell_type": "code",
   "execution_count": 116,
   "metadata": {},
   "outputs": [
    {
     "name": "stdout",
     "output_type": "stream",
     "text": [
      "iris_bcf_model(\n",
      "  (in_layer): Linear(in_features=4, out_features=10, bias=True)\n",
      "  (hidden_layer): Linear(in_features=10, out_features=5, bias=True)\n",
      "  (out_layer): Linear(in_features=5, out_features=1, bias=True)\n",
      ")\n"
     ]
    }
   ],
   "source": [
    "#모델 인스턴스 생성_확인용\n",
    "model=iris_bcf_model()\n",
    "\n",
    "print(model)"
   ]
  },
  {
   "cell_type": "code",
   "execution_count": 117,
   "metadata": {},
   "outputs": [
    {
     "data": {
      "text/plain": [
       "==========================================================================================\n",
       "Layer (type:depth-idx)                   Output Shape              Param #\n",
       "==========================================================================================\n",
       "iris_bcf_model                           [17, 1]                   --\n",
       "├─Linear: 1-1                            [17, 10]                  50\n",
       "├─Linear: 1-2                            [17, 5]                   55\n",
       "├─Linear: 1-3                            [17, 1]                   6\n",
       "==========================================================================================\n",
       "Total params: 111\n",
       "Trainable params: 111\n",
       "Non-trainable params: 0\n",
       "Total mult-adds (M): 0.00\n",
       "==========================================================================================\n",
       "Input size (MB): 0.00\n",
       "Forward/backward pass size (MB): 0.00\n",
       "Params size (MB): 0.00\n",
       "Estimated Total Size (MB): 0.00\n",
       "=========================================================================================="
      ]
     },
     "execution_count": 117,
     "metadata": {},
     "output_type": "execute_result"
    }
   ],
   "source": [
    "summary(model,input_size=(17,4))"
   ]
  },
  {
   "cell_type": "markdown",
   "metadata": {},
   "source": [
    "- - -\n",
    "[3] 데이터셋 클래스 설계 및 정의\n",
    "- 데이터셋: iris.csv\n",
    "- feature: 4개\n",
    "- target: 1개\n",
    "- 클래스 이름: iris_ds\n",
    "- 부모 클래스: utils.data.Dataset\n",
    "- 클래스 속성(필드): feature_df,target_df,n_rows,n_features\n",
    "- 필수 메서드: \n",
    "    - _ _ init _ _ (self): 데이터셋 저장 및 전처리, 개발자가 필요한 속성 설정\n",
    "    - _ _ len _ _ (self): 데이터 개수 반환\n",
    "    - _ _ getItem _ _ (self): 특정 인덱스의 feature/target 반환"
   ]
  },
  {
   "cell_type": "code",
   "execution_count": 118,
   "metadata": {},
   "outputs": [],
   "source": [
    "class iris_dataset(Dataset):\n",
    "    def __init__(self,feature_df,target_df):\n",
    "        self.feature_df=feature_df\n",
    "        self.target_df=target_df\n",
    "\n",
    "        self.n_rows=feature_df.shape[0]\n",
    "        self.n_features=feature_df.shape[1]\n",
    "\n",
    "    def __len__(self):\n",
    "        return self.n_rows\n",
    "    \n",
    "    def __getitem__(self, index):\n",
    "\n",
    "        #tensor화\n",
    "        feature_ts=torch.FloatTensor(self.feature_df.iloc[index].values)\n",
    "        target_ts=torch.FloatTensor(self.target_df.iloc[index].values)\n",
    "\n",
    "        #feature/target 반환\n",
    "        return feature_ts,target_ts"
   ]
  },
  {
   "cell_type": "code",
   "execution_count": 119,
   "metadata": {},
   "outputs": [
    {
     "name": "stdout",
     "output_type": "stream",
     "text": [
      "torch.Size([1, 4]) torch.Size([1, 1]) tensor([[5.1000, 3.5000, 1.4000, 0.2000]]) tensor([[1.]])\n"
     ]
    }
   ],
   "source": [
    "#데이터셋 인스턴스 생성\n",
    "\n",
    "feature_df=iris_df[iris_df.columns[:-1]]    #2D (150,3)\n",
    "target_df=iris_df[iris_df.columns[-1:]]     #2D (150,1)\n",
    "\n",
    "iris_ds=iris_dataset(feature_df,target_df)\n",
    "\n",
    "iris_dl=DataLoader(iris_ds)\n",
    "for feature,label in iris_dl:\n",
    "    print(feature.shape,label.shape, feature,label)\n",
    "    break"
   ]
  },
  {
   "cell_type": "markdown",
   "metadata": {},
   "source": [
    "- - -\n",
    "[4] 학습 준비\n",
    "- 학습 횟수: EPOCH          #회독 횟수\n",
    "- 배치 크기: BATCH_SIZE     #한번에 학습할 데이터 양\n",
    "- 위치 지정: DEVICE         #텐서 저장 및 실행 위치 (GPU or CPU)\n",
    "- 학습률(LR)\n",
    "    - 가중치와 절편 업데이트 시 경사하강법으로 업데이트 간격 설정\n",
    "    - 0.001 ~ 0.1 사이 값 주로 사용"
   ]
  },
  {
   "cell_type": "code",
   "execution_count": 120,
   "metadata": {},
   "outputs": [
    {
     "name": "stdout",
     "output_type": "stream",
     "text": [
      "BATCH_CNT: 15\n"
     ]
    }
   ],
   "source": [
    "#학습 진행 관련 설정\n",
    "\n",
    "EPOCH=1000         #처음에 1로 설정해서 잘 돌아가는지 확인하고 올리기\n",
    "BATCH_SIZE=10\n",
    "BATCH_CNT=iris_df.shape[0]//BATCH_SIZE\n",
    "DEVICE='cuda' if torch.cuda.is_available() else 'cpu'\n",
    "LR=0.001\n",
    "\n",
    "print(f'BATCH_CNT: {BATCH_CNT}')"
   ]
  },
  {
   "cell_type": "markdown",
   "metadata": {},
   "source": [
    "- 인스턴스: 모델, 데이터셋, 최적화, (손실함수, 성능지표)"
   ]
  },
  {
   "cell_type": "code",
   "execution_count": 121,
   "metadata": {},
   "outputs": [
    {
     "name": "stdout",
     "output_type": "stream",
     "text": [
      "x_train: (84, 4), x_test: (38, 4), x_val: (28, 4)\n",
      "y_train: (84, 1), y_test: (38, 1), y_val: (28, 1)\n",
      "variety\n",
      "0          0.666667\n",
      "1          0.333333\n",
      "Name: count, dtype: float64, variety\n",
      "0          0.297619\n",
      "1          0.154762\n",
      "Name: count, dtype: float64,variety\n",
      "0          0.226190\n",
      "1          0.107143\n",
      "Name: count, dtype: float64\n",
      "<class 'pandas.core.frame.DataFrame'>, <class 'pandas.core.frame.DataFrame'>, <class 'pandas.core.frame.DataFrame'>\n"
     ]
    }
   ],
   "source": [
    "#모델 인스턴스\n",
    "model=iris_bcf_model().to(DEVICE)\n",
    "\n",
    "#데이터셋 인스턴스\n",
    "x_train,x_test,y_train,y_test=train_test_split(feature_df,target_df,random_state=1,stratify=target_df)\n",
    "x_train,x_val,y_train,y_val=train_test_split(x_train,y_train,random_state=1,stratify=y_train)\n",
    "\n",
    "print(f'x_train: {x_train.shape}, x_test: {x_test.shape}, x_val: {x_val.shape}')\n",
    "print(f'y_train: {y_train.shape}, y_test: {y_test.shape}, y_val: {y_val.shape}')\n",
    "print(f'{y_train.value_counts()/y_train.shape[0]}, {y_test.value_counts()/y_train.shape[0]},{y_val.value_counts()/y_train.shape[0]}')\n",
    "print(f'{type(x_train)}, {type(x_test)}, {type(x_val)}')\n",
    "\n",
    "#iris_ds=iris_dataset(feature_df,target_df)\n",
    "\n",
    "train_ds=iris_dataset(x_train,y_train)\n",
    "val_ds=iris_dataset(x_val,y_val)\n",
    "test_ds=iris_dataset(x_test,y_test)\n",
    "\n",
    "#최적화 인스턴스\n",
    "iris_dl=DataLoader(train_ds,batch_size=BATCH_SIZE)"
   ]
  },
  {
   "cell_type": "markdown",
   "metadata": {},
   "source": [
    "- 최적화, 손실함수 인스턴스 생성"
   ]
  },
  {
   "cell_type": "code",
   "execution_count": 122,
   "metadata": {},
   "outputs": [],
   "source": [
    "#최적화 인스턴스: model.parameters() 전달\n",
    "optimizer=optim.Adam(model.parameters(), lr=LR)\n",
    "\n",
    "#손실함수 인스턴스: 이진분류 => BinaryCrossEntropyLoss(BCELoss) 사용\n",
    "#                             예측값을 확률값으로 전달 => Sigmoid() AF 처리 후 전달\n",
    "binary_loss=nn.BCELoss()"
   ]
  },
  {
   "cell_type": "markdown",
   "metadata": {},
   "source": [
    "- - -\n",
    "[5] 학습 진행"
   ]
  },
  {
   "cell_type": "markdown",
   "metadata": {},
   "source": [
    "- 모델 저장"
   ]
  },
  {
   "cell_type": "code",
   "execution_count": 123,
   "metadata": {},
   "outputs": [],
   "source": [
    "#경로 상 폴더 존재 여부 체크\n",
    "if not os.path.exists(save_path):\n",
    "    os.makedirs(save_path)  #하위 폴더까지 생성 가능"
   ]
  },
  {
   "cell_type": "code",
   "execution_count": 124,
   "metadata": {},
   "outputs": [],
   "source": [
    "#models 폴더 아래 프로젝트 폴더 아래 모델 파일 저장\n",
    "import os\n",
    "\n",
    "save_path='../models/iris/BCF/'\n",
    "save_File=save_path+'model.train_wbs.pth'\n",
    "save_model=save_path+'model_all.pth'"
   ]
  },
  {
   "cell_type": "markdown",
   "metadata": {},
   "source": [
    "- 학습 진행"
   ]
  },
  {
   "cell_type": "code",
   "execution_count": 127,
   "metadata": {},
   "outputs": [
    {
     "name": "stdout",
     "output_type": "stream",
     "text": [
      "CNT : 9\n",
      "[0/1000]\n",
      "- Train Loss : 0.503686934709549 Score : 0.0\n",
      "- Val Loss : 0.48029813170433044 Score : 0.0\n",
      "[1/1000]\n",
      "- Train Loss : 0.4879940350850423 Score : 0.0\n",
      "- Val Loss : 0.46381106972694397 Score : 0.0\n",
      "[2/1000]\n",
      "- Train Loss : 0.47217681010564166 Score : 0.0\n",
      "- Val Loss : 0.44724658131599426 Score : 0.0\n",
      "[3/1000]\n",
      "- Train Loss : 0.45605138937632245 Score : 0.0\n",
      "- Val Loss : 0.43047672510147095 Score : 0.0\n",
      "[4/1000]\n",
      "- Train Loss : 0.43954286641544765 Score : 0.0\n",
      "- Val Loss : 0.41400909423828125 Score : 0.0\n",
      "[5/1000]\n",
      "- Train Loss : 0.42270009054077995 Score : 0.0\n",
      "- Val Loss : 0.3981855511665344 Score : 0.0\n",
      "[6/1000]\n",
      "- Train Loss : 0.4071177575323317 Score : 0.12962963183720908\n",
      "- Val Loss : 0.3828655779361725 Score : 0.5\n",
      "[7/1000]\n",
      "- Train Loss : 0.3928763469060262 Score : 0.43597884310616386\n",
      "- Val Loss : 0.36824050545692444 Score : 0.5\n",
      "[8/1000]\n",
      "- Train Loss : 0.3793332212501102 Score : 0.4730158779356215\n",
      "- Val Loss : 0.35481691360473633 Score : 0.5\n",
      "[9/1000]\n",
      "- Train Loss : 0.3668370677365197 Score : 0.5026455091105567\n",
      "- Val Loss : 0.3425898551940918 Score : 0.5\n",
      "[10/1000]\n",
      "- Train Loss : 0.3553925272491243 Score : 0.5396825439400144\n",
      "- Val Loss : 0.33124271035194397 Score : 0.6153846383094788\n",
      "[11/1000]\n",
      "- Train Loss : 0.3449339701069726 Score : 0.5873015920321146\n",
      "- Val Loss : 0.32098865509033203 Score : 0.800000011920929\n",
      "[12/1000]\n",
      "- Train Loss : 0.3354155951076084 Score : 0.6317460371388329\n",
      "- Val Loss : 0.3116883337497711 Score : 0.875\n",
      "[13/1000]\n",
      "- Train Loss : 0.32666058507230544 Score : 0.6849206387996674\n",
      "- Val Loss : 0.30335885286331177 Score : 0.875\n",
      "[14/1000]\n",
      "- Train Loss : 0.31862646175755394 Score : 0.8114638494120704\n",
      "- Val Loss : 0.2957581877708435 Score : 0.875\n",
      "[15/1000]\n",
      "- Train Loss : 0.311203443341785 Score : 0.8114638494120704\n",
      "- Val Loss : 0.28885671496391296 Score : 0.875\n",
      "성능 및 손실 개선이 없어서 15 EPOCH에 학습 중단\n"
     ]
    }
   ],
   "source": [
    "#학습 확인 w. 손실값, 성능평가 지표\n",
    "\n",
    "loss_history=[[],[]]\n",
    "score_history=[[],[]]\n",
    "\n",
    "CNT = len(iris_dl)\n",
    "print(f'CNT : {CNT}')\n",
    "\n",
    "#BATCH_CNT=iris_ds.n_rows/BATCH_SIZE\n",
    "\n",
    "#학습 모니터링/스케줄링 설정: loss_history, score_history 활용\n",
    "# - 임계 기준: 10번\n",
    "break_count=0\n",
    "limit=10\n",
    "\n",
    "for epoch in range(EPOCH):\n",
    "\n",
    "    #학습 모드로 모델 설정\n",
    "    model.train()\n",
    "\n",
    "    total_loss=0\n",
    "    total_score=0\n",
    "\n",
    "    for feature_ts,target_ts in iris_dl:\n",
    "\n",
    "        #학습 진행\n",
    "        pre_y=model(feature_ts)\n",
    "\n",
    "        #손실 계산\n",
    "        loss=binary_loss(pre_y,target_ts)\n",
    "        total_loss+=loss.item()\n",
    "\n",
    "        #성능 평가\n",
    "        score=BinaryF1Score()(pre_y,target_ts)\n",
    "        #score=F1Score(task='binary,zero_division=1.0)(pre_y,target_ts)\n",
    "        total_score+=score.item()\n",
    "\n",
    "        #최적화 진행\n",
    "        optimizer.zero_grad()\n",
    "        loss.backward()\n",
    "        optimizer.step()\n",
    "        \n",
    "    #각 에포크 당 검증 수행: 모델을 검증 모드로 설정\n",
    "    model.eval()\n",
    "\n",
    "    with torch.no_grad():\n",
    "        #검증 데이터셋\n",
    "        val_feature_ts=torch.FloatTensor(val_ds.feature_df.values)\n",
    "        val_target_ts=torch.FloatTensor(val_ds.target_df.values)\n",
    "        \n",
    "        #평가\n",
    "        pre_val=model(val_feature_ts)\n",
    "\n",
    "        #손실 계산\n",
    "        val_loss=binary_loss(pre_val,val_target_ts)\n",
    "\n",
    "        #성능 평가\n",
    "        val_score=BinaryF1Score()(pre_val,val_target_ts)\n",
    "\n",
    "    #손실값, 성능평가값 저장\n",
    "    loss_history[0].append(total_loss/CNT)\n",
    "    score_history[0].append(total_score/CNT)\n",
    "\n",
    "    loss_history[1].append(val_loss)\n",
    "    score_history[1].append(val_score)\n",
    "\n",
    "    print(f'[{epoch}/{EPOCH}]\\n- Train Loss : {loss_history[0][-1]} Score : {score_history[0][-1]}')\n",
    "    print(f'- Val Loss : {loss_history[1][-1]} Score : {score_history[1][-1]}')\n",
    "\n",
    "\n",
    "    #학습 진행 모니터링(스케줄링)_검증 ds 기준 (loss/score 둘 중 하나만 하면 됨)\n",
    "\n",
    "    # #loss\n",
    "    # if len(loss_history[1]) >= 2:\n",
    "    #     if loss_history[1][-1] >= loss_history[1][-2]: break_count+=1\n",
    "\n",
    "    #score\n",
    "    if len(score_history[1])>=2:\n",
    "        if score_history[1][-1] <= score_history[1][-2]: break_count+=1\n",
    "\n",
    "    #성능이 좋은 학습 가중치 저장\n",
    "    #save_File=f'model.train_wbs_{epoch}_{val_score}.pth'\n",
    "    if len(score_history[1])==1:\n",
    "        #첫번째는 무조건 모델 저장_파라미터만 저장\n",
    "        torch.save(model.state_dict(),save_File)\n",
    "        #모델 전체 저장\n",
    "        torch.save(model,save_model)\n",
    "    else: \n",
    "        #두번째부터는 이전보다 성능이 좋으면 저장\n",
    "        if score_history[1][-1] > max(score_history[1][:-1]):\n",
    "            torch.save(model.state_dict(),save_File)\n",
    "            torch.save(model,save_model)\n",
    "\n",
    "    #학습 중단 여부 설정\n",
    "    if break_count>limit:\n",
    "        print(f'성능 및 손실 개선이 없어서 {epoch} EPOCH에 학습 중단')\n",
    "        break"
   ]
  },
  {
   "cell_type": "code",
   "execution_count": 128,
   "metadata": {},
   "outputs": [
    {
     "data": {
      "image/png": "[encoded data removed]",
      "text/plain": [
       "<Figure size 1000x500 with 2 Axes>"
      ]
     },
     "metadata": {},
     "output_type": "display_data"
    }
   ],
   "source": [
    "#학습 결과 확인(학습과 검증의 Loss, 성능지표 변화 확인) w. 시각화\n",
    "import matplotlib.pyplot as plt\n",
    "\n",
    "th=len(score_history[1])\n",
    "fg,axes=plt.subplots(1,2,figsize=(10,5))\n",
    "axes[0].plot(range(1,th+1),loss_history[0][:th],label='Train')\n",
    "axes[0].plot(range(1,th+1),loss_history[1][:th],label='Val')\n",
    "axes[0].grid()\n",
    "axes[0].legend\n",
    "\n",
    "axes[1].plot(range(1,th+1),score_history[0][:th],label='Train')\n",
    "axes[1].plot(range(1,th+1),score_history[1][:th],label='Val')\n",
    "axes[1].grid()\n",
    "axes[1].legend\n",
    "\n",
    "plt.show()"
   ]
  },
  {
   "cell_type": "code",
   "execution_count": null,
   "metadata": {},
   "outputs": [],
   "source": []
  }
 ],
 "metadata": {
  "kernelspec": {
   "display_name": "TORCH_38",
   "language": "python",
   "name": "python3"
  },
  "language_info": {
   "codemirror_mode": {
    "name": "ipython",
    "version": 3
   },
   "file_extension": ".py",
   "mimetype": "text/x-python",
   "name": "python",
   "nbconvert_exporter": "python",
   "pygments_lexer": "ipython3",
   "version": "3.8.19"
  }
 },
 "nbformat": 4,
 "nbformat_minor": 2
}
