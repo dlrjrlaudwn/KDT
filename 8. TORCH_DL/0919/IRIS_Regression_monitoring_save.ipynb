{
 "cells": [
  {
   "cell_type": "markdown",
   "metadata": {},
   "source": [
    "[DNN 기반 회귀 모델 구현]\n",
    "- 데이터셋: iris.csv\n",
    "- feature: feature: 3개 (Sepal_Length, Sepal_Width, Petal_Length)\n",
    "- target: 1개 (Petal_Width)\n",
    "- 학습: 지도 학습 중 회귀\n",
    "- 학습 알고리즘: 인공신경망(ANN) 중 심층신경망(DNN)  <- 은닉층이 많은 구성\n",
    "- 프레임워크: Pytorch\n",
    "- - -\n",
    "- 모니터링\n",
    "    - 기준 설정: 검증 데이터셋의 loss와 score\n",
    "    - 평가: 학습 데이터셋의 loss 또는 score와 비교 -> 학습 중단 여부 결정\n",
    "    - 선택: 현재까지 진행된 모델의 파라미터(가중치, 절편) 저장 여부 또는 모델 전체 저장\n",
    "- - - \n",
    "- 진행 파라미터 저장\n"
   ]
  },
  {
   "cell_type": "markdown",
   "metadata": {},
   "source": [
    "[1] 모듈 로딩 및 데이터 준비"
   ]
  },
  {
   "cell_type": "code",
   "execution_count": 56,
   "metadata": {},
   "outputs": [],
   "source": [
    "#모듈 로딩\n",
    "# Model 관련\n",
    "import torch\n",
    "import torch.nn as nn\n",
    "import torch.nn.functional as F\n",
    "from torch.utils.data import Dataset,DataLoader\n",
    "import torch.optim as optim\n",
    "from torchmetrics.regression import R2Score, MeanSquaredError\n",
    "from torchinfo import summary\n",
    "\n",
    "# Data 및 시각화 관련\n",
    "import pandas as pd\n",
    "import matplotlib.pyplot as plt\n",
    "from sklearn.preprocessing import *\n",
    "from sklearn.model_selection import train_test_split"
   ]
  },
  {
   "cell_type": "code",
   "execution_count": 57,
   "metadata": {},
   "outputs": [
    {
     "name": "stdout",
     "output_type": "stream",
     "text": [
      "torch  v.2.4.1\n",
      "pandas v.2.0.3\n"
     ]
    }
   ],
   "source": [
    "#활용 패키지 버전 체크\n",
    "print(f'torch  v.{torch.__version__}')\n",
    "print(f'pandas v.{pd.__version__}')"
   ]
  },
  {
   "cell_type": "code",
   "execution_count": 58,
   "metadata": {},
   "outputs": [
    {
     "data": {
      "text/html": [
       "<div>\n",
       "<style scoped>\n",
       "    .dataframe tbody tr th:only-of-type {\n",
       "        vertical-align: middle;\n",
       "    }\n",
       "\n",
       "    .dataframe tbody tr th {\n",
       "        vertical-align: top;\n",
       "    }\n",
       "\n",
       "    .dataframe thead th {\n",
       "        text-align: right;\n",
       "    }\n",
       "</style>\n",
       "<table border=\"1\" class=\"dataframe\">\n",
       "  <thead>\n",
       "    <tr style=\"text-align: right;\">\n",
       "      <th></th>\n",
       "      <th>sepal.length</th>\n",
       "      <th>sepal.width</th>\n",
       "      <th>petal.length</th>\n",
       "      <th>petal.width</th>\n",
       "    </tr>\n",
       "  </thead>\n",
       "  <tbody>\n",
       "    <tr>\n",
       "      <th>0</th>\n",
       "      <td>5.1</td>\n",
       "      <td>3.5</td>\n",
       "      <td>1.4</td>\n",
       "      <td>0.2</td>\n",
       "    </tr>\n",
       "    <tr>\n",
       "      <th>1</th>\n",
       "      <td>4.9</td>\n",
       "      <td>3.0</td>\n",
       "      <td>1.4</td>\n",
       "      <td>0.2</td>\n",
       "    </tr>\n",
       "    <tr>\n",
       "      <th>2</th>\n",
       "      <td>4.7</td>\n",
       "      <td>3.2</td>\n",
       "      <td>1.3</td>\n",
       "      <td>0.2</td>\n",
       "    </tr>\n",
       "    <tr>\n",
       "      <th>3</th>\n",
       "      <td>4.6</td>\n",
       "      <td>3.1</td>\n",
       "      <td>1.5</td>\n",
       "      <td>0.2</td>\n",
       "    </tr>\n",
       "    <tr>\n",
       "      <th>4</th>\n",
       "      <td>5.0</td>\n",
       "      <td>3.6</td>\n",
       "      <td>1.4</td>\n",
       "      <td>0.2</td>\n",
       "    </tr>\n",
       "  </tbody>\n",
       "</table>\n",
       "</div>"
      ],
      "text/plain": [
       "   sepal.length  sepal.width  petal.length  petal.width\n",
       "0           5.1          3.5           1.4          0.2\n",
       "1           4.9          3.0           1.4          0.2\n",
       "2           4.7          3.2           1.3          0.2\n",
       "3           4.6          3.1           1.5          0.2\n",
       "4           5.0          3.6           1.4          0.2"
      ]
     },
     "execution_count": 58,
     "metadata": {},
     "output_type": "execute_result"
    }
   ],
   "source": [
    "#데이터 로딩\n",
    "data_file='../data/iris.csv'\n",
    "\n",
    "#csv -> DataFrame\n",
    "iris_df=pd.read_csv(data_file, usecols=[0,1,2,3])\n",
    "iris_df.head()"
   ]
  },
  {
   "cell_type": "markdown",
   "metadata": {},
   "source": [
    "- - - \n",
    "[2] 모델 클래스 설계 및 정의\n",
    "- 클래스 목적: iris 데이터 학습 및 추론\n",
    "- 클래스 이름: iris_reg_model\n",
    "- 부모 클래스: nn.Module\n",
    "- 매개변수: 각 층별 입출력 개수 고정 => 필요 X\n",
    "- 클래스 속성: feature_df, target_df, n_rows, n_features\n",
    "- 클래스 기능: __init__() <- 모델 구조 설정, forward() <- 순방향 학습(오버라이딩(상속 관계에서만 가능) 필요)\n",
    "- 클래스 구조\n",
    "    - 입력층:  3개 입력 (feature 개수) 10개 출력 (=퍼셉트론 10개) \n",
    "    - 은닉층: 10개 입력                30개 출력 (=퍼셉트론 30개)\n",
    "    - 출력층: 30개 입력                 1개 출력 (target 1개)\n",
    "\n",
    "- 활성화함수\n",
    "    - 클래스 형태 (대문자로 시작)\n",
    "        - nn.MSELoss, nn.ReLU 등\n",
    "        - _ _init_ _() 메서드에서 사용됨\n",
    "        - 하나의 층처럼 사용 가능\n",
    "    - 함수 형태 (소문자로 시작)\n",
    "        - torch.nn.functional.relu 등\n",
    "        - forward 메서드에 사용됨"
   ]
  },
  {
   "cell_type": "code",
   "execution_count": 59,
   "metadata": {},
   "outputs": [],
   "source": [
    "class iris_reg_model(nn.Module):\n",
    "\n",
    "    #모델 구조 구성 및 인스턴스 생성 메서드\n",
    "    def __init__(self):\n",
    "        super().__init__()\n",
    "\n",
    "        self.in_layer=nn.Linear(3,10)\n",
    "        self.hidden_layer=nn.Linear(10,30)\n",
    "        self.out_layer=nn.Linear(30,1)\n",
    "\n",
    "    #순방향 학습 진행 메서드\n",
    "    def forward(self,input_data):\n",
    "\n",
    "        #입력층\n",
    "        y=self.in_layer(input_data)     \n",
    "        y=F.relu(y)                     # y 값: 0 이상\n",
    "\n",
    "        #은닉층\n",
    "        y=self.hidden_layer(y)\n",
    "        y=F.relu(y)\n",
    "\n",
    "        #출력층_회귀니까 바로 반환\n",
    "        return self.out_layer(y)\n"
   ]
  },
  {
   "cell_type": "code",
   "execution_count": 60,
   "metadata": {},
   "outputs": [
    {
     "name": "stdout",
     "output_type": "stream",
     "text": [
      "iris_reg_model(\n",
      "  (in_layer): Linear(in_features=3, out_features=10, bias=True)\n",
      "  (hidden_layer): Linear(in_features=10, out_features=30, bias=True)\n",
      "  (out_layer): Linear(in_features=30, out_features=1, bias=True)\n",
      ")\n"
     ]
    }
   ],
   "source": [
    "#모델 인스턴스 생성_확인용용\n",
    "model=iris_reg_model()\n",
    "\n",
    "print(model)"
   ]
  },
  {
   "cell_type": "code",
   "execution_count": 61,
   "metadata": {},
   "outputs": [
    {
     "data": {
      "text/plain": [
       "==========================================================================================\n",
       "Layer (type:depth-idx)                   Output Shape              Param #\n",
       "==========================================================================================\n",
       "iris_reg_model                           [10, 1]                   --\n",
       "├─Linear: 1-1                            [10, 10]                  40\n",
       "├─Linear: 1-2                            [10, 30]                  330\n",
       "├─Linear: 1-3                            [10, 1]                   31\n",
       "==========================================================================================\n",
       "Total params: 401\n",
       "Trainable params: 401\n",
       "Non-trainable params: 0\n",
       "Total mult-adds (M): 0.00\n",
       "==========================================================================================\n",
       "Input size (MB): 0.00\n",
       "Forward/backward pass size (MB): 0.00\n",
       "Params size (MB): 0.00\n",
       "Estimated Total Size (MB): 0.01\n",
       "=========================================================================================="
      ]
     },
     "execution_count": 61,
     "metadata": {},
     "output_type": "execute_result"
    }
   ],
   "source": [
    "#모델이 사용하는 메모리 정보 확인\n",
    "summary(model, input_size=(10,3))   #input_size=(n,m) : n행 m열 데이터를 넣었을 때 사용하는 메모리값 보여줌"
   ]
  },
  {
   "cell_type": "markdown",
   "metadata": {},
   "source": [
    "- - -\n",
    "[3] 데이터셋 클래스 설계 및 정의\n",
    "- 데이터셋: iris.csv\n",
    "- feature: 3개\n",
    "- target: 1개\n",
    "- 클래스 이름: iris_ds\n",
    "- 부모 클래스: utils.data.Dataset\n",
    "- 클래스 속성(필드): feature_df,target_df,n_rows,n_features\n",
    "- 필수 메서드: \n",
    "    - _ _ init _ _ (self): 데이터셋 저장 및 전처리, 개발자가 필요한 속성 설정\n",
    "    - _ _ len _ _ (self): 데이터 개수 반환\n",
    "    - _ _ getItem _ _ (self): 특정 인덱스의 feature/target 반환"
   ]
  },
  {
   "cell_type": "code",
   "execution_count": 62,
   "metadata": {},
   "outputs": [],
   "source": [
    "class iris_dataset(Dataset):\n",
    "    def __init__(self,feature_df,target_df):\n",
    "        self.feature_df=feature_df\n",
    "        self.target_df=target_df\n",
    "\n",
    "        self.n_rows=feature_df.shape[0]\n",
    "        self.n_features=feature_df.shape[1]\n",
    "\n",
    "    def __len__(self):\n",
    "        return self.n_rows\n",
    "    \n",
    "    def __getitem__(self, index):\n",
    "\n",
    "        #tensor화\n",
    "        feature_ts=torch.FloatTensor(self.feature_df.iloc[index].values)\n",
    "        target_ts=torch.FloatTensor(self.target_df.iloc[index].values)\n",
    "\n",
    "        #feature/target 반환\n",
    "        return feature_ts,target_ts"
   ]
  },
  {
   "cell_type": "code",
   "execution_count": 63,
   "metadata": {},
   "outputs": [],
   "source": [
    "#데이터셋 인스턴스 생성\n",
    "\n",
    "feature_df=iris_df[iris_df.columns[:-1]]    #2D (150,3)\n",
    "target_df=iris_df[iris_df.columns[-1:]]     #2D (150,1)\n",
    "\n",
    "iris_ds=iris_dataset(feature_df,target_df)"
   ]
  },
  {
   "cell_type": "markdown",
   "metadata": {},
   "source": [
    "- - -\n",
    "[4] 학습 준비\n",
    "- 학습 횟수: EPOCH          #회독 횟수\n",
    "- 배치 크기: BATCH_SIZE     #한번에 학습할 데이터 양\n",
    "- 위치 지정: DEVICE         #텐서 저장 및 실행 위치 (GPU or CPU)\n",
    "- 학습률(LR)\n",
    "    - 가중치와 절편 업데이트 시 경사하강법으로 업데이트 간격 설정\n",
    "    - 0.001 ~ 0.1 사이 값 주로 사용"
   ]
  },
  {
   "cell_type": "code",
   "execution_count": 64,
   "metadata": {},
   "outputs": [
    {
     "name": "stdout",
     "output_type": "stream",
     "text": [
      "BATCH_CNT: 15\n"
     ]
    }
   ],
   "source": [
    "#학습 진행 관련 설정\n",
    "\n",
    "EPOCH=1000         #처음에 1로 설정해서 잘 돌아가는지 확인하고 올리기\n",
    "BATCH_SIZE=10\n",
    "BATCH_CNT=iris_df.shape[0]//BATCH_SIZE\n",
    "DEVICE='cuda' if torch.cuda.is_available() else 'cpu'\n",
    "LR=0.001\n",
    "\n",
    "print(f'BATCH_CNT: {BATCH_CNT}')"
   ]
  },
  {
   "cell_type": "markdown",
   "metadata": {},
   "source": [
    "- 인스턴스: 모델, 데이터셋, 최적화, (손실함수, 성능지표)"
   ]
  },
  {
   "cell_type": "code",
   "execution_count": 65,
   "metadata": {},
   "outputs": [
    {
     "name": "stdout",
     "output_type": "stream",
     "text": [
      "x_train: (84, 3), x_test: (38, 3), x_val: (28, 3)\n",
      "y_train: (84, 1), y_test: (38, 1), y_val: (28, 1)\n",
      "<class 'pandas.core.frame.DataFrame'>, <class 'pandas.core.frame.DataFrame'>, <class 'pandas.core.frame.DataFrame'>\n"
     ]
    }
   ],
   "source": [
    "#모델 인스턴스\n",
    "model=iris_reg_model()\n",
    "\n",
    "#데이터셋 인스턴스\n",
    "x_train,x_test,y_train,y_test=train_test_split(feature_df,target_df,random_state=1)\n",
    "x_train,x_val,y_train,y_val=train_test_split(x_train,y_train,random_state=1)\n",
    "print(f'x_train: {x_train.shape}, x_test: {x_test.shape}, x_val: {x_val.shape}')\n",
    "print(f'y_train: {y_train.shape}, y_test: {y_test.shape}, y_val: {y_val.shape}')\n",
    "print(f'{type(x_train)}, {type(x_test)}, {type(x_val)}')\n",
    "\n",
    "#iris_ds=iris_dataset(feature_df,target_df)\n",
    "\n",
    "train_ds=iris_dataset(x_train,y_train)\n",
    "val_ds=iris_dataset(x_val,y_val)\n",
    "test_ds=iris_dataset(x_test,y_test)\n",
    "\n",
    "#최적화 인스턴스\n",
    "iris_dl=DataLoader(train_ds,batch_size=BATCH_SIZE)"
   ]
  },
  {
   "cell_type": "code",
   "execution_count": 66,
   "metadata": {},
   "outputs": [
    {
     "name": "stdout",
     "output_type": "stream",
     "text": [
      "torch.Size([10, 3]) torch.Size([10, 1])\n"
     ]
    }
   ],
   "source": [
    "#데이터로더, 데이터셋 테스트\n",
    "for feature,target in iris_dl:\n",
    "    print(feature.shape,target.shape)\n",
    "    break"
   ]
  },
  {
   "cell_type": "code",
   "execution_count": 67,
   "metadata": {},
   "outputs": [],
   "source": [
    "#최적화 인스턴스: model.parameters() 전달\n",
    "optimizer=optim.Adam(model.parameters(), lr=LR)\n",
    "\n",
    "#손실함수 인스턴스: 회귀 => MSE, MAE, RMSE 등 사용\n",
    "reg_loss=nn.MSELoss()"
   ]
  },
  {
   "cell_type": "markdown",
   "metadata": {},
   "source": [
    "- - -\n",
    "[5] 학습 진행"
   ]
  },
  {
   "cell_type": "markdown",
   "metadata": {},
   "source": [
    "- 모델 저장 준비"
   ]
  },
  {
   "cell_type": "code",
   "execution_count": 68,
   "metadata": {},
   "outputs": [],
   "source": [
    "#models 폴더 아래 프로젝트 폴더 아래 모델 파일 저장\n",
    "import os\n",
    "\n",
    "save_path='../models/iris/'\n",
    "\n",
    "save_File='model.train_wbs.pth'\n",
    "\n",
    "#모델 구조 및 파라미터 모두 저장\n",
    "save_model='model_all.pth'"
   ]
  },
  {
   "cell_type": "code",
   "execution_count": 69,
   "metadata": {},
   "outputs": [],
   "source": [
    "#경로 상 폴더 존재 여부 체크\n",
    "if not os.path.exists(save_path):\n",
    "    os.makedirs(save_path)  #하위 폴더까지 생성 가능"
   ]
  },
  {
   "cell_type": "markdown",
   "metadata": {},
   "source": [
    "- 학습 진행"
   ]
  },
  {
   "cell_type": "code",
   "execution_count": 70,
   "metadata": {},
   "outputs": [
    {
     "name": "stdout",
     "output_type": "stream",
     "text": [
      "BATCH_CNT 15.0\n",
      "성능 및 손실 개선이 없어서 109 EPOCH에 학습 중단\n"
     ]
    }
   ],
   "source": [
    "#학습 확인 w. 손실값, 성능평가 지표\n",
    "\n",
    "loss_history=[[],[]]\n",
    "score_history=[[],[]]\n",
    "\n",
    "BATCH_CNT=iris_ds.n_rows/BATCH_SIZE\n",
    "print('BATCH_CNT',BATCH_CNT)\n",
    "\n",
    "#학습 모니터링/스케줄링 설정: loss_history, score_history 활용\n",
    "# - 임계 기준: 10번\n",
    "break_count=0\n",
    "limit=10\n",
    "\n",
    "for epoch in range(EPOCH):\n",
    "\n",
    "    #학습 모드로 모델 설정\n",
    "    model.train()\n",
    "\n",
    "    total_loss=0\n",
    "    total_score=0\n",
    "\n",
    "    for feature_ts,target_ts in iris_dl:\n",
    "\n",
    "        #학습 진행\n",
    "        pre_y=model(feature_ts)\n",
    "\n",
    "        #손실 계산\n",
    "        loss=reg_loss(pre_y,target_ts)\n",
    "        total_loss+=loss.item()\n",
    "\n",
    "        #성능 평가\n",
    "        score=R2Score()(pre_y,target_ts)\n",
    "        total_score+=score.item()\n",
    "\n",
    "        #최적화 진행\n",
    "        optimizer.zero_grad()\n",
    "        loss.backward()\n",
    "        optimizer.step()\n",
    "        \n",
    "    #각 에포크 당 검증 수행: 모델을 검증 모드로 설정\n",
    "    model.eval()\n",
    "\n",
    "    with torch.no_grad():\n",
    "        #검증 데이터셋\n",
    "        val_feature_ts=torch.FloatTensor(val_ds.feature_df.values)\n",
    "        val_target_ts=torch.FloatTensor(val_ds.target_df.values)\n",
    "        \n",
    "        #평가\n",
    "        pre_val=model(val_feature_ts)\n",
    "\n",
    "        #손실 계산\n",
    "        val_loss=reg_loss(pre_val,val_target_ts)\n",
    "\n",
    "        #성능 평가\n",
    "        val_score=R2Score()(pre_val,val_target_ts)\n",
    "\n",
    "    #손실값, 성능평가값 저장\n",
    "    loss_history[0].append(total_loss/BATCH_CNT)\n",
    "    score_history[0].append(total_score/BATCH_CNT)\n",
    "\n",
    "    loss_history[1].append(val_loss)\n",
    "    score_history[1].append(val_score)\n",
    "\n",
    "    #학습 진행 모니터링(스케줄링)_검증 ds 기준 (loss/score 둘 중 하나만 하면 됨)\n",
    "\n",
    "    #loss\n",
    "    if len(loss_history[1]) >= 2:\n",
    "        if loss_history[1][-1] >= loss_history[1][-2]: break_count+=1\n",
    "\n",
    "    # #score\n",
    "    # if len(score_history[1])>=2:\n",
    "    #     if score_history[1][-1] <= score_history[1][-2]: break_count+=1\n",
    "\n",
    "    #성능이 좋은 학습 가중치 저장\n",
    "    #save_File=f'model.train_wbs_{epoch}_{val_score}.pth'\n",
    "    if len(score_history[1])==1:\n",
    "        #첫번째는 무조건 모델 저장_파라미터만 저장\n",
    "        torch.save(model.state_dict(),save_path+save_File)\n",
    "        #모델 전체 저장\n",
    "        torch.save(model,save_path+save_model)\n",
    "    else: \n",
    "        #두번째부터는 이전보다 성능이 좋으면 저장\n",
    "        if score_history[1][-1] > max(score_history[1][:-1]):\n",
    "            torch.save(model.state_dict(),save_path+save_File)\n",
    "            torch.save(model,save_path+save_model)\n",
    "\n",
    "    #학습 중단 여부 설정\n",
    "    if break_count>limit:\n",
    "        print(f'성능 및 손실 개선이 없어서 {epoch} EPOCH에 학습 중단')\n",
    "        break"
   ]
  },
  {
   "cell_type": "code",
   "execution_count": 71,
   "metadata": {},
   "outputs": [
    {
     "data": {
      "text/plain": [
       "(torch.Size([28, 3]), torch.Size([28, 1]))"
      ]
     },
     "execution_count": 71,
     "metadata": {},
     "output_type": "execute_result"
    }
   ],
   "source": [
    "val_feature_ts=torch.FloatTensor(val_ds.feature_df.values)\n",
    "val_target_ts=torch.FloatTensor(val_ds.target_df.values)\n",
    "\n",
    "val_feature_ts.shape, val_target_ts.shape"
   ]
  },
  {
   "cell_type": "code",
   "execution_count": 72,
   "metadata": {},
   "outputs": [
    {
     "name": "stdout",
     "output_type": "stream",
     "text": [
      "CNT: 15.0\n",
      "loss_history: [[1.7003047307332357, 1.3944477160771689, 1.160631275177002, 0.9726232409477233, 0.8101300001144409, 0.6716089288393656, 0.5454792698224386, 0.42587889432907106, 0.3191917379697164, 0.22766635417938233, 0.15352982580661773, 0.09911487499872844, 0.06406343256433805, 0.045225932945807776, 0.036119034824272, 0.0325445178275307, 0.03160821044196685, 0.03127817825103799, 0.03097135489806533, 0.030678201032181582, 0.030412379590173563, 0.030167784355580807, 0.029948026376465955, 0.02969929073005915, 0.02947966754436493, 0.02924077392866214, 0.029019915622969468, 0.028801937277118366, 0.028574994951486587, 0.02834744645903508, 0.028117040979365508, 0.027904137161870797, 0.02769077109793822, 0.027471101035674413, 0.027251680319507917, 0.027033415685097376, 0.02681330175449451, 0.02659796935816606, 0.026385424348215263, 0.026167281220356622, 0.02595138605684042, 0.025741144176572563, 0.025525481005509696, 0.02531884318838517, 0.025102319909880558, 0.02488760029276212, 0.024699756503105165, 0.024509114275376002, 0.024287123853961628, 0.02408374591420094, 0.023890764017899833, 0.02371753491461277, 0.023499054710070293, 0.023308654005328815, 0.02315735953549544, 0.022946327924728394, 0.022768483435114225, 0.022590052026013534, 0.022399717879792055, 0.022242392972111703, 0.022073781552414098, 0.021911125630140305, 0.02172496672719717, 0.02156957679738601, 0.021415880136191844, 0.0212599058325092, 0.021111584827303888, 0.020951540519793827, 0.020799565811951956, 0.020488438320656617, 0.02015621935327848, 0.020063798502087594, 0.01994716500242551, 0.01979889503369729, 0.019656435834864774, 0.019498868907491366, 0.01937701248874267, 0.019236255809664725, 0.019104674210151038, 0.019002696499228477, 0.018883458773295083, 0.01875631244232257, 0.01864098906517029, 0.01853546667844057, 0.01844238266348839, 0.01831958455344041, 0.01822233038643996, 0.018145959203441937, 0.018034407372275987, 0.017944885479907195, 0.017881557221213977, 0.017752678009370963, 0.017715660979350407, 0.017596517875790595, 0.01754972313841184, 0.017443253162006536, 0.017393596346179645, 0.017297867250939212, 0.01725113149732351, 0.0172122569133838, 0.017111469805240632, 0.01705110681553682, 0.016990417117873826, 0.016950220180054505, 0.016875000670552254, 0.016868916029731434, 0.016757631177703538, 0.016722954933842023, 0.016679830600818, 0.01664539035409689], [tensor(2.1612), tensor(1.7946), tensor(1.5166), tensor(1.2810), tensor(1.0775), tensor(0.9029), tensor(0.7344), tensor(0.5786), tensor(0.4389), tensor(0.3136), tensor(0.2059), tensor(0.1243), tensor(0.0749), tensor(0.0527), tensor(0.0467), tensor(0.0469), tensor(0.0482), tensor(0.0484), tensor(0.0478), tensor(0.0473), tensor(0.0468), tensor(0.0465), tensor(0.0464), tensor(0.0462), tensor(0.0460), tensor(0.0458), tensor(0.0456), tensor(0.0455), tensor(0.0453), tensor(0.0451), tensor(0.0449), tensor(0.0446), tensor(0.0444), tensor(0.0442), tensor(0.0440), tensor(0.0437), tensor(0.0435), tensor(0.0432), tensor(0.0430), tensor(0.0427), tensor(0.0424), tensor(0.0422), tensor(0.0419), tensor(0.0417), tensor(0.0415), tensor(0.0412), tensor(0.0410), tensor(0.0409), tensor(0.0407), tensor(0.0404), tensor(0.0403), tensor(0.0401), tensor(0.0399), tensor(0.0398), tensor(0.0397), tensor(0.0394), tensor(0.0393), tensor(0.0391), tensor(0.0390), tensor(0.0388), tensor(0.0387), tensor(0.0386), tensor(0.0385), tensor(0.0383), tensor(0.0381), tensor(0.0380), tensor(0.0379), tensor(0.0377), tensor(0.0375), tensor(0.0371), tensor(0.0367), tensor(0.0365), tensor(0.0365), tensor(0.0363), tensor(0.0363), tensor(0.0361), tensor(0.0361), tensor(0.0360), tensor(0.0358), tensor(0.0358), tensor(0.0357), tensor(0.0356), tensor(0.0355), tensor(0.0354), tensor(0.0354), tensor(0.0353), tensor(0.0352), tensor(0.0352), tensor(0.0352), tensor(0.0351), tensor(0.0351), tensor(0.0349), tensor(0.0350), tensor(0.0349), tensor(0.0349), tensor(0.0348), tensor(0.0348), tensor(0.0347), tensor(0.0347), tensor(0.0347), tensor(0.0346), tensor(0.0347), tensor(0.0346), tensor(0.0346), tensor(0.0345), tensor(0.0346), tensor(0.0345), tensor(0.0345), tensor(0.0345), tensor(0.0345)]]\n",
      "score_history: [[-3.0451434294382733, -2.387500206629435, -1.883468246459961, -1.478535525004069, -1.12962810198466, -0.831245231628418, -0.5609630107879638, -0.3041868130366007, -0.0749544382095337, 0.12127021153767904, 0.27857741912206013, 0.3924760937690735, 0.4649162252744039, 0.5036140402158101, 0.5221861203511556, 0.5294729471206665, 0.5313741644223531, 0.5320734659830729, 0.5327649672826131, 0.5334770441055298, 0.5341312368710835, 0.5347142974535625, 0.5352476755777995, 0.5358129978179932, 0.5363191763559977, 0.5368546525637309, 0.5373768369356792, 0.5378774444262187, 0.5383992711702983, 0.5389272888501485, 0.5394508202870687, 0.5399496754010519, 0.5404345432917277, 0.540934431552887, 0.5414405147234599, 0.541928784052531, 0.5424264828364055, 0.5429227153460184, 0.5433937271436056, 0.5438854694366455, 0.5443826238314311, 0.5448448061943054, 0.5453314145406087, 0.5458075205485026, 0.5462823788324992, 0.5467801849047343, 0.5472216844558716, 0.5476766268412272, 0.548190168539683, 0.5486543973286947, 0.5491003433863322, 0.5495306452115377, 0.5500141104062398, 0.5504710475603739, 0.5508329232533773, 0.551322591304779, 0.5517339706420898, 0.5521583914756775, 0.5526129523913066, 0.5529751300811767, 0.5533862749735514, 0.5537802457809449, 0.5542120019594828, 0.5545713226000468, 0.5549372553825378, 0.5553074677785238, 0.5556394457817078, 0.5560262203216553, 0.5563838044802348, 0.5570440491040548, 0.5577610890070598, 0.5579667846361797, 0.558222762743632, 0.5586091121037801, 0.5589535713195801, 0.559323255221049, 0.5596195896466573, 0.5599527359008789, 0.5602741161982219, 0.5605095505714417, 0.5608053843180338, 0.5611019770304362, 0.5613805254300436, 0.5616374770800273, 0.5618645946184794, 0.5621652881304423, 0.5623873313268025, 0.5625832239786784, 0.5628463586171468, 0.5630787173906963, 0.5632365226745606, 0.5635596791903178, 0.5636448383331298, 0.5639299790064494, 0.5640497644742329, 0.5642957369486491, 0.5644203186035156, 0.5646390279134115, 0.5647600889205933, 0.5648962815602621, 0.5651492953300477, 0.56527259349823, 0.5654137134552002, 0.5655255516370138, 0.5657051563262939, 0.5657685319582622, 0.5660180449485779, 0.56609947681427, 0.5662007172902425, 0.5663119713465373], [tensor(-2.3481), tensor(-1.7802), tensor(-1.3495), tensor(-0.9845), tensor(-0.6692), tensor(-0.3987), tensor(-0.1377), tensor(0.1036), tensor(0.3200), tensor(0.5141), tensor(0.6810), tensor(0.8075), tensor(0.8840), tensor(0.9184), tensor(0.9277), tensor(0.9273), tensor(0.9253), tensor(0.9250), tensor(0.9259), tensor(0.9268), tensor(0.9275), tensor(0.9279), tensor(0.9282), tensor(0.9284), tensor(0.9287), tensor(0.9290), tensor(0.9293), tensor(0.9296), tensor(0.9299), tensor(0.9302), tensor(0.9305), tensor(0.9309), tensor(0.9312), tensor(0.9315), tensor(0.9319), tensor(0.9322), tensor(0.9326), tensor(0.9331), tensor(0.9335), tensor(0.9338), tensor(0.9343), tensor(0.9346), tensor(0.9350), tensor(0.9354), tensor(0.9358), tensor(0.9362), tensor(0.9365), tensor(0.9366), tensor(0.9370), tensor(0.9373), tensor(0.9375), tensor(0.9379), tensor(0.9381), tensor(0.9384), tensor(0.9386), tensor(0.9390), tensor(0.9392), tensor(0.9394), tensor(0.9396), tensor(0.9398), tensor(0.9400), tensor(0.9402), tensor(0.9404), tensor(0.9407), tensor(0.9409), tensor(0.9412), tensor(0.9413), tensor(0.9416), tensor(0.9418), tensor(0.9426), tensor(0.9432), tensor(0.9434), tensor(0.9435), tensor(0.9437), tensor(0.9438), tensor(0.9440), tensor(0.9441), tensor(0.9443), tensor(0.9445), tensor(0.9446), tensor(0.9447), tensor(0.9448), tensor(0.9450), tensor(0.9451), tensor(0.9451), tensor(0.9453), tensor(0.9454), tensor(0.9454), tensor(0.9455), tensor(0.9457), tensor(0.9456), tensor(0.9459), tensor(0.9458), tensor(0.9459), tensor(0.9459), tensor(0.9460), tensor(0.9461), tensor(0.9462), tensor(0.9462), tensor(0.9462), tensor(0.9463), tensor(0.9463), tensor(0.9464), tensor(0.9464), tensor(0.9465), tensor(0.9463), tensor(0.9465), tensor(0.9465), tensor(0.9466), tensor(0.9466)]]\n"
     ]
    }
   ],
   "source": [
    "print('CNT:',BATCH_CNT)\n",
    "print(f'loss_history: {loss_history}')\n",
    "print(f'score_history: {score_history}')"
   ]
  },
  {
   "cell_type": "markdown",
   "metadata": {},
   "source": [
    "- - - \n",
    "모델 저장 방법\n",
    "- 방법 1: 모델 파라미터만 저장\n",
    "- 방법 2: 모델 설계 구조 및 파라미터까지 모두 저장"
   ]
  },
  {
   "cell_type": "code",
   "execution_count": 73,
   "metadata": {},
   "outputs": [
    {
     "data": {
      "text/plain": [
       "<bound method Module.state_dict of iris_reg_model(\n",
       "  (in_layer): Linear(in_features=3, out_features=10, bias=True)\n",
       "  (hidden_layer): Linear(in_features=10, out_features=30, bias=True)\n",
       "  (out_layer): Linear(in_features=30, out_features=1, bias=True)\n",
       ")>"
      ]
     },
     "execution_count": 73,
     "metadata": {},
     "output_type": "execute_result"
    }
   ],
   "source": [
    "#학습된 모델 파라미터 값 확인\n",
    "model.state_dict"
   ]
  },
  {
   "cell_type": "markdown",
   "metadata": {},
   "source": [
    "[방법 1] 모델 파라미터(층별 가중치, 절편)만 저장"
   ]
  },
  {
   "cell_type": "code",
   "execution_count": 82,
   "metadata": {},
   "outputs": [],
   "source": []
  },
  {
   "cell_type": "code",
   "execution_count": 74,
   "metadata": {},
   "outputs": [
    {
     "name": "stdout",
     "output_type": "stream",
     "text": [
      "<class 'collections.OrderedDict'>\n"
     ]
    },
    {
     "name": "stderr",
     "output_type": "stream",
     "text": [
      "C:\\Users\\desktop\\AppData\\Local\\Temp\\ipykernel_14140\\317353833.py:4: FutureWarning: You are using `torch.load` with `weights_only=False` (the current default value), which uses the default pickle module implicitly. It is possible to construct malicious pickle data which will execute arbitrary code during unpickling (See https://github.com/pytorch/pytorch/blob/main/SECURITY.md#untrusted-models for more details). In a future release, the default value for `weights_only` will be flipped to `True`. This limits the functions that could be executed during unpickling. Arbitrary objects will no longer be allowed to be loaded via this mode unless they are explicitly allowlisted by the user via `torch.serialization.add_safe_globals`. We recommend you start setting `weights_only=True` for any use case where you don't have full control of the loaded file. Please open an issue on GitHub for any issues related to this experimental feature.\n",
      "  wb_ts=torch.load(save_path+save_File)\n"
     ]
    },
    {
     "data": {
      "text/plain": [
       "<All keys matched successfully>"
      ]
     },
     "execution_count": 74,
     "metadata": {},
     "output_type": "execute_result"
    }
   ],
   "source": [
    "#가중치, 절편 로딩: 객체로 로딩 -> 모델의 state_dict 속성에 저장\n",
    "\n",
    "#객체로 로딩\n",
    "wb_ts=torch.load(save_path+save_File)\n",
    "print(type(wb_ts))\n",
    "\n",
    "#저장\n",
    "model2=iris_reg_model()     #층마다 가중치, 절편 초기화됨\n",
    "model2.load_state_dict(wb_ts)"
   ]
  },
  {
   "cell_type": "code",
   "execution_count": 75,
   "metadata": {},
   "outputs": [
    {
     "name": "stdout",
     "output_type": "stream",
     "text": [
      "iris_reg_model(\n",
      "  (in_layer): Linear(in_features=3, out_features=10, bias=True)\n",
      "  (hidden_layer): Linear(in_features=10, out_features=30, bias=True)\n",
      "  (out_layer): Linear(in_features=30, out_features=1, bias=True)\n",
      ")\n"
     ]
    }
   ],
   "source": [
    "print(model2)"
   ]
  },
  {
   "cell_type": "code",
   "execution_count": null,
   "metadata": {},
   "outputs": [],
   "source": []
  }
 ],
 "metadata": {
  "kernelspec": {
   "display_name": "TORCH_38",
   "language": "python",
   "name": "python3"
  },
  "language_info": {
   "codemirror_mode": {
    "name": "ipython",
    "version": 3
   },
   "file_extension": ".py",
   "mimetype": "text/x-python",
   "name": "python",
   "nbconvert_exporter": "python",
   "pygments_lexer": "ipython3",
   "version": "3.8.19"
  }
 },
 "nbformat": 4,
 "nbformat_minor": 2
}
