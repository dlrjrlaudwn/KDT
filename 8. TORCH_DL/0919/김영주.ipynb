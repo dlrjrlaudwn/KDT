{
 "cells": [
  {
   "cell_type": "markdown",
   "metadata": {},
   "source": [
    "1. 퍼셉트론(Perceptron) 개념에 대해 설명하세요."
   ]
  },
  {
   "cell_type": "markdown",
   "metadata": {},
   "source": []
  },
  {
   "cell_type": "markdown",
   "metadata": {},
   "source": [
    "2. 퍼셉트론(Perceptron) 기본 동작 원리 및 수식을 도식화와 함께 작성해주세요.\n",
    "- 조건: 피쳐 4개, 퍼셉트론 1개"
   ]
  },
  {
   "cell_type": "markdown",
   "metadata": {},
   "source": [
    "- y= x1w1 + x2w2 + x3w3 + x4w4 + b\n",
    "- 각 피쳐에 가중치를 곱한 값과 절편을 더함"
   ]
  },
  {
   "cell_type": "markdown",
   "metadata": {},
   "source": [
    "3. 활성화함수(Activation Function)의 역할을 설명하세요."
   ]
  },
  {
   "cell_type": "markdown",
   "metadata": {},
   "source": []
  },
  {
   "cell_type": "markdown",
   "metadata": {},
   "source": [
    "4. 대표적인 활성화함수(Activation Function)에 대해 설명하세요.\n",
    "- 최소 4개 이상, 값의 범위"
   ]
  },
  {
   "cell_type": "markdown",
   "metadata": {},
   "source": [
    "- ReLU\n",
    "- Sigmoid\n",
    "- LeakyReLU\n",
    "- ...?"
   ]
  },
  {
   "cell_type": "markdown",
   "metadata": {},
   "source": [
    "5. 경사하강법의 개념 및 대표적인 경사하강법 알고리즘에 대해 간략히 설명하세요.\n",
    "- 최소 3개"
   ]
  },
  {
   "cell_type": "markdown",
   "metadata": {},
   "source": [
    "- Adam...?\n",
    "- \n",
    "- "
   ]
  },
  {
   "cell_type": "markdown",
   "metadata": {},
   "source": [
    "6. 회귀 모델 구현을 간략하게 코드 작성하세요.\n",
    "- 피쳐 3개"
   ]
  },
  {
   "cell_type": "code",
   "execution_count": 9,
   "metadata": {},
   "outputs": [],
   "source": [
    "import torch\n",
    "import torch.nn as nn\n",
    "import torch.nn.functional as F"
   ]
  },
  {
   "cell_type": "code",
   "execution_count": 12,
   "metadata": {},
   "outputs": [],
   "source": [
    "class Regression(nn.Module):\n",
    "    def __init__(self):\n",
    "        super.__init__()\n",
    "        self.in_layer=nn.Linear(3,10)\n",
    "        self.hidden_layer=nn.Linear(10,5)\n",
    "        self.out_layer=nn.Linear(5,1)\n",
    "\n",
    "    def forward(self,input_data):\n",
    "        y=F.relu(self.in_layer(input_data))\n",
    "        y=F.relu(self.hidden_layer(y))\n",
    "        \n",
    "        return self.out_layer(y)\n"
   ]
  },
  {
   "cell_type": "markdown",
   "metadata": {},
   "source": [
    "7. 이진분류 모델 구현을 간략하게 코드 작성하세요.\n",
    "- 피쳐 5개\n",
    "- 클래스 2개\n",
    "- 층 4개"
   ]
  },
  {
   "cell_type": "code",
   "execution_count": 13,
   "metadata": {},
   "outputs": [],
   "source": [
    "class binary_classification(nn.Module):\n",
    "    def __init__(self):\n",
    "        super.__init__()\n",
    "\n",
    "        self.in_layer=nn.Linear(5,10)\n",
    "        self.hidden_layer=nn.Linear(10,7)\n",
    "        self.hidden_layer=nn.Linear(7,4)\n",
    "        self.out_layer=nn.Linear(4,2)\n",
    "\n",
    "    def forward(self,input_data):\n",
    "        y=F.relu(self.in_layer(input_data))\n",
    "        y=F.relu(self.hidden_layer(y))\n",
    "        y=F.relu(self.hidden_layer(y))\n",
    "\n",
    "        return F.sigmoid(self.out_layer(y))"
   ]
  },
  {
   "cell_type": "markdown",
   "metadata": {},
   "source": [
    "8. 다중분류 모델 구현을 간략하게 코드 작성하세요.\n",
    "- 피쳐 5개\n",
    "- 클래스 8개\n",
    "- 층 3~5개\n",
    "- 퍼셉트론 동적"
   ]
  },
  {
   "cell_type": "code",
   "execution_count": 14,
   "metadata": {},
   "outputs": [],
   "source": [
    "class Multi_classification(nn.Module):\n",
    "    def __init__(self,h_in=[],h_out=[]):\n",
    "        super().__init__()\n",
    "\n",
    "        self.in_layer=nn.Linear(5,h_in[0])\n",
    "\n",
    "        self.hidden_layer=nn.ModuleList()\n",
    "        for idx in range(len(h_in)):\n",
    "            self.hidden_layer.append(nn.Linear(h_in[idx],h_out[idx]))\n",
    "\n",
    "        self.out_layer=nn.Linear(h_out[-1],8)\n",
    "\n",
    "    def forward(self,input_data):\n",
    "        y=F.relu(self.in_layer(input_data))\n",
    "\n",
    "        for linear in self.hidden_layer:\n",
    "            y=F.relu(linear(y))\n",
    "\n",
    "        return self.out_layer(y)"
   ]
  },
  {
   "cell_type": "markdown",
   "metadata": {},
   "source": [
    "9. 기울기 소실 개념 및 해결 방법을 설명하세요."
   ]
  },
  {
   "cell_type": "markdown",
   "metadata": {},
   "source": []
  },
  {
   "cell_type": "markdown",
   "metadata": {},
   "source": [
    "10. 파이토치의 모델 동작 모드에 대해 관련 함수도 함께 설명하세요."
   ]
  },
  {
   "cell_type": "markdown",
   "metadata": {},
   "source": [
    "- model.train()\n",
    "    - 학습용\n",
    "- model.eval()\n",
    "    - 검증용"
   ]
  }
 ],
 "metadata": {
  "kernelspec": {
   "display_name": "TORCH_38",
   "language": "python",
   "name": "python3"
  },
  "language_info": {
   "codemirror_mode": {
    "name": "ipython",
    "version": 3
   },
   "file_extension": ".py",
   "mimetype": "text/x-python",
   "name": "python",
   "nbconvert_exporter": "python",
   "pygments_lexer": "ipython3",
   "version": "3.8.19"
  }
 },
 "nbformat": 4,
 "nbformat_minor": 2
}
