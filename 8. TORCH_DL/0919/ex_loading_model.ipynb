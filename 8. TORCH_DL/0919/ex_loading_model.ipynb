{
 "cells": [
  {
   "cell_type": "markdown",
   "metadata": {},
   "source": [
    "[저장된 모델 활용]\n",
    "- 모델 파일의 종류\n",
    "    1. 가중치, 절편만 저장된 파일\n",
    "    - 동일한 구조의 모델 인스턴스 생성 후 활용 가능\n",
    "    2. 모델 전체 저장된 파일\n",
    "    - 로딩 후 바로 사용 가능\n",
    "\n",
    "- - - "
   ]
  },
  {
   "cell_type": "markdown",
   "metadata": {},
   "source": [
    "[1] 모듈 로딩"
   ]
  },
  {
   "cell_type": "code",
   "execution_count": 6,
   "metadata": {},
   "outputs": [],
   "source": [
    "import torch\n",
    "import torch.nn as nn\n",
    "import torch.nn.functional as F\n",
    "from torchinfo import summary\n",
    "\n",
    "\n",
    "#models 폴더 아래 프로젝트 폴더 아래 모델 파일 저장\n",
    "import os\n",
    "\n",
    "save_path='../models/iris/'\n",
    "save_File=save_path+'model.train_wbs.pth'\n",
    "save_model=save_path+'model_all.pth'"
   ]
  },
  {
   "cell_type": "code",
   "execution_count": 7,
   "metadata": {},
   "outputs": [],
   "source": [
    "class iris_reg_model(nn.Module):\n",
    "\n",
    "    #모델 구조 구성 및 인스턴스 생성 메서드\n",
    "    def __init__(self):\n",
    "        super().__init__()\n",
    "\n",
    "        self.in_layer=nn.Linear(3,10)\n",
    "        self.hidden_layer=nn.Linear(10,30)\n",
    "        self.out_layer=nn.Linear(30,1)\n",
    "\n",
    "    #순방향 학습 진행 메서드\n",
    "    def forward(self,input_data):\n",
    "\n",
    "        #입력층\n",
    "        y=self.in_layer(input_data)     \n",
    "        y=F.relu(y)                     # y 값: 0 이상\n",
    "\n",
    "        #은닉층\n",
    "        y=self.hidden_layer(y)\n",
    "        y=F.relu(y)\n",
    "\n",
    "        #출력층_회귀니까 바로 반환\n",
    "        return self.out_layer(y)"
   ]
  },
  {
   "cell_type": "markdown",
   "metadata": {},
   "source": [
    "- - -\n",
    "[2] 모델 로딩: 모델 전체 파일 사용"
   ]
  },
  {
   "cell_type": "code",
   "execution_count": 8,
   "metadata": {},
   "outputs": [],
   "source": [
    "iris_model=torch.load(save_model,weights_only=False)"
   ]
  },
  {
   "cell_type": "code",
   "execution_count": 9,
   "metadata": {},
   "outputs": [
    {
     "data": {
      "text/plain": [
       "=================================================================\n",
       "Layer (type:depth-idx)                   Param #\n",
       "=================================================================\n",
       "iris_reg_model                           --\n",
       "├─Linear: 1-1                            40\n",
       "├─Linear: 1-2                            330\n",
       "├─Linear: 1-3                            31\n",
       "=================================================================\n",
       "Total params: 401\n",
       "Trainable params: 401\n",
       "Non-trainable params: 0\n",
       "================================================================="
      ]
     },
     "execution_count": 9,
     "metadata": {},
     "output_type": "execute_result"
    }
   ],
   "source": [
    "summary(iris_model)"
   ]
  },
  {
   "cell_type": "code",
   "execution_count": 10,
   "metadata": {},
   "outputs": [
    {
     "name": "stdout",
     "output_type": "stream",
     "text": [
      "iris_reg_model(\n",
      "  (in_layer): Linear(in_features=3, out_features=10, bias=True)\n",
      "  (hidden_layer): Linear(in_features=10, out_features=30, bias=True)\n",
      "  (out_layer): Linear(in_features=30, out_features=1, bias=True)\n",
      ")\n"
     ]
    }
   ],
   "source": [
    "print(iris_model)"
   ]
  },
  {
   "cell_type": "markdown",
   "metadata": {},
   "source": [
    "- - -\n",
    "[3] 예측\n",
    "- 전처리 과정, 같은 텐서구조의 데이터여야 사용 가능"
   ]
  },
  {
   "cell_type": "code",
   "execution_count": 16,
   "metadata": {},
   "outputs": [],
   "source": [
    "data=[float(x) for x in input('sl,sw,pl: ').split(',')]"
   ]
  },
  {
   "cell_type": "code",
   "execution_count": 18,
   "metadata": {},
   "outputs": [
    {
     "data": {
      "text/plain": [
       "(torch.Size([1, 3]), tensor([[0.1200, 1.3400, 2.7600]]))"
      ]
     },
     "execution_count": 18,
     "metadata": {},
     "output_type": "execute_result"
    }
   ],
   "source": [
    "data_ts=torch.FloatTensor(data).reshape(1,-1)\n",
    "data_ts.shape, data_ts"
   ]
  },
  {
   "cell_type": "code",
   "execution_count": 22,
   "metadata": {},
   "outputs": [],
   "source": [
    "#새로운 데이터에 대한 예측\n",
    "\n",
    "iris_model.eval()\n",
    "with torch.no_grad():\n",
    "    pre_val=iris_model(data_ts)"
   ]
  },
  {
   "cell_type": "code",
   "execution_count": 23,
   "metadata": {},
   "outputs": [
    {
     "data": {
      "text/plain": [
       "tensor([[1.4492]])"
      ]
     },
     "execution_count": 23,
     "metadata": {},
     "output_type": "execute_result"
    }
   ],
   "source": [
    "pre_val"
   ]
  },
  {
   "cell_type": "code",
   "execution_count": null,
   "metadata": {},
   "outputs": [],
   "source": []
  }
 ],
 "metadata": {
  "kernelspec": {
   "display_name": "TORCH_38",
   "language": "python",
   "name": "python3"
  },
  "language_info": {
   "codemirror_mode": {
    "name": "ipython",
    "version": 3
   },
   "file_extension": ".py",
   "mimetype": "text/x-python",
   "name": "python",
   "nbconvert_exporter": "python",
   "pygments_lexer": "ipython3",
   "version": "3.8.19"
  }
 },
 "nbformat": 4,
 "nbformat_minor": 2
}
