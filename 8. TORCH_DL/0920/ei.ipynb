{
 "cells": [
  {
   "cell_type": "code",
   "execution_count": 36,
   "metadata": {},
   "outputs": [],
   "source": [
    "#모듈 로딩\n",
    "# Model 관련\n",
    "import torch\n",
    "import torch.nn as nn\n",
    "import torch.nn.functional as F\n",
    "from torch.utils.data import Dataset,DataLoader\n",
    "import torch.optim as optim\n",
    "from torchmetrics.classification import F1Score,BinaryF1Score,BinaryAccuracy,BinaryConfusionMatrix\n",
    "import torch.optim.lr_scheduler as lr_scheduler \n",
    "\n",
    "\n",
    "# Data 및 시각화 관련\n",
    "import os\n",
    "import numpy as np\n",
    "import pandas as pd\n",
    "import matplotlib.pyplot as plt\n",
    "from sklearn.preprocessing import *\n",
    "from sklearn.model_selection import train_test_split\n",
    "from sklearn.feature_extraction.text import TfidfVectorizer"
   ]
  },
  {
   "cell_type": "code",
   "execution_count": 37,
   "metadata": {},
   "outputs": [],
   "source": [
    "class make_dataset(Dataset):\n",
    "    def __init__(self,featureDF,targetDF) -> None:\n",
    "        super().__init__()\n",
    "        # self.DF = DF\n",
    "        self.targetDF = targetDF\n",
    "        self.featureDF = featureDF\n",
    "        self.n_rows = featureDF.shape[0]\n",
    "        self.n_features = featureDF.shape[1]\n",
    "        self.device = 'cuda' if torch.cuda.is_available() else 'cpu'        \n",
    "    def __len__(self):\n",
    "        return self.n_rows\n",
    "\n",
    "    def __getitem__(self, index):\n",
    "        # 텐서화\n",
    "        featureTS = torch.FloatTensor(self.featureDF.iloc[index].values).to(self.device)\n",
    "        targetTS = torch.FloatTensor(self.targetDF.iloc[index].values).to(self.device)\n",
    "\n",
    "        # 피쳐와 타겟 반환\n",
    "        return featureTS, targetTS"
   ]
  },
  {
   "cell_type": "code",
   "execution_count": 38,
   "metadata": {},
   "outputs": [],
   "source": [
    "class dynamic_bcf_Model(nn.Module):\n",
    "    # 모델구조 구성 및 인스턴스 생성 메서드\n",
    "    def __init__(self,in_in,* in_out):\n",
    "        super().__init__()\n",
    "        self.in_layer = nn.Linear(in_in,in_out[0])\n",
    "        self.h_layer = nn.ModuleList([nn.Linear(in_out[i],in_out[i+1]) for i in range(len(in_out)-1)])\n",
    "        self.out_layer = nn.Linear(in_out[-1],1)\n",
    "\n",
    "    # 순방향 학습 진행 메서드\n",
    "    def forward(self,x):\n",
    "        y=self.in_layer(x)      # f1w1 + f2w2 + f3w3 + b 결과 10\n",
    "        y=F.relu(y)             # 0 <= y\n",
    "        for layer in self.h_layer:\n",
    "            y=layer(y)\n",
    "            y=F.relu(y)\n",
    "        return F.sigmoid(self.out_layer(y))  "
   ]
  },
  {
   "cell_type": "code",
   "execution_count": 39,
   "metadata": {},
   "outputs": [
    {
     "data": {
      "text/html": [
       "<div>\n",
       "<style scoped>\n",
       "    .dataframe tbody tr th:only-of-type {\n",
       "        vertical-align: middle;\n",
       "    }\n",
       "\n",
       "    .dataframe tbody tr th {\n",
       "        vertical-align: top;\n",
       "    }\n",
       "\n",
       "    .dataframe thead th {\n",
       "        text-align: right;\n",
       "    }\n",
       "</style>\n",
       "<table border=\"1\" class=\"dataframe\">\n",
       "  <thead>\n",
       "    <tr style=\"text-align: right;\">\n",
       "      <th></th>\n",
       "      <th>posts</th>\n",
       "      <th>type</th>\n",
       "    </tr>\n",
       "  </thead>\n",
       "  <tbody>\n",
       "    <tr>\n",
       "      <th>0</th>\n",
       "      <td>know intj tool use interaction people excuse a...</td>\n",
       "      <td>INTJ</td>\n",
       "    </tr>\n",
       "    <tr>\n",
       "      <th>1</th>\n",
       "      <td>rap music ehh opp yeah know valid well know fa...</td>\n",
       "      <td>INTJ</td>\n",
       "    </tr>\n",
       "    <tr>\n",
       "      <th>2</th>\n",
       "      <td>preferably p hd low except wew lad video p min...</td>\n",
       "      <td>INTJ</td>\n",
       "    </tr>\n",
       "    <tr>\n",
       "      <th>3</th>\n",
       "      <td>drink like wish could drink red wine give head...</td>\n",
       "      <td>INTJ</td>\n",
       "    </tr>\n",
       "    <tr>\n",
       "      <th>4</th>\n",
       "      <td>space program ah bad deal meing freelance max ...</td>\n",
       "      <td>INTJ</td>\n",
       "    </tr>\n",
       "    <tr>\n",
       "      <th>...</th>\n",
       "      <td>...</td>\n",
       "      <td>...</td>\n",
       "    </tr>\n",
       "    <tr>\n",
       "      <th>106062</th>\n",
       "      <td>stay frustrate world life want take long nap w...</td>\n",
       "      <td>INFP</td>\n",
       "    </tr>\n",
       "    <tr>\n",
       "      <th>106063</th>\n",
       "      <td>fizzle around time mention sure mistake thing ...</td>\n",
       "      <td>INFP</td>\n",
       "    </tr>\n",
       "    <tr>\n",
       "      <th>106064</th>\n",
       "      <td>schedule modify hey w intp strong wing underst...</td>\n",
       "      <td>INFP</td>\n",
       "    </tr>\n",
       "    <tr>\n",
       "      <th>106065</th>\n",
       "      <td>enfj since january busy schedule able spend li...</td>\n",
       "      <td>INFP</td>\n",
       "    </tr>\n",
       "    <tr>\n",
       "      <th>106066</th>\n",
       "      <td>feel like men good problem tell parent want te...</td>\n",
       "      <td>INFP</td>\n",
       "    </tr>\n",
       "  </tbody>\n",
       "</table>\n",
       "<p>106067 rows × 2 columns</p>\n",
       "</div>"
      ],
      "text/plain": [
       "                                                    posts  type\n",
       "0       know intj tool use interaction people excuse a...  INTJ\n",
       "1       rap music ehh opp yeah know valid well know fa...  INTJ\n",
       "2       preferably p hd low except wew lad video p min...  INTJ\n",
       "3       drink like wish could drink red wine give head...  INTJ\n",
       "4       space program ah bad deal meing freelance max ...  INTJ\n",
       "...                                                   ...   ...\n",
       "106062  stay frustrate world life want take long nap w...  INFP\n",
       "106063  fizzle around time mention sure mistake thing ...  INFP\n",
       "106064  schedule modify hey w intp strong wing underst...  INFP\n",
       "106065  enfj since january busy schedule able spend li...  INFP\n",
       "106066  feel like men good problem tell parent want te...  INFP\n",
       "\n",
       "[106067 rows x 2 columns]"
      ]
     },
     "execution_count": 39,
     "metadata": {},
     "output_type": "execute_result"
    }
   ],
   "source": [
    "mbti_df=pd.read_csv('../data/MBTI.csv')\n",
    "mbti_df"
   ]
  },
  {
   "cell_type": "code",
   "execution_count": 40,
   "metadata": {},
   "outputs": [
    {
     "data": {
      "text/plain": [
       "type\n",
       "ENFJ    40\n",
       "ENFP    40\n",
       "ENTJ    40\n",
       "ENTP    40\n",
       "ESFJ    40\n",
       "ESFP    40\n",
       "ESTJ    40\n",
       "ESTP    40\n",
       "INFJ    40\n",
       "INFP    40\n",
       "INTJ    40\n",
       "INTP    40\n",
       "ISFJ    40\n",
       "ISFP    40\n",
       "ISTJ    40\n",
       "ISTP    40\n",
       "Name: count, dtype: int64"
      ]
     },
     "execution_count": 40,
     "metadata": {},
     "output_type": "execute_result"
    }
   ],
   "source": [
    "sampled_df = mbti_df.groupby('type', group_keys=False).apply(lambda x: x.sample(n=40, random_state=42))\n",
    "sampled_df['type'].value_counts()"
   ]
  },
  {
   "cell_type": "code",
   "execution_count": 41,
   "metadata": {},
   "outputs": [],
   "source": [
    "feature_df=sampled_df['posts']"
   ]
  },
  {
   "cell_type": "code",
   "execution_count": 42,
   "metadata": {},
   "outputs": [
    {
     "data": {
      "text/plain": [
       "54944     True\n",
       "53656     True\n",
       "53896     True\n",
       "54669     True\n",
       "54936     True\n",
       "         ...  \n",
       "51025    False\n",
       "50985    False\n",
       "51818    False\n",
       "52883    False\n",
       "50996    False\n",
       "Name: type, Length: 640, dtype: bool"
      ]
     },
     "execution_count": 42,
     "metadata": {},
     "output_type": "execute_result"
    }
   ],
   "source": [
    "target_df=sampled_df['type'].str.contains('E')\n",
    "target_df"
   ]
  },
  {
   "cell_type": "code",
   "execution_count": 43,
   "metadata": {},
   "outputs": [],
   "source": [
    "#E=0, I=1\n",
    "target_df=np.array(target_df.astype('int8'))"
   ]
  },
  {
   "cell_type": "code",
   "execution_count": 44,
   "metadata": {},
   "outputs": [],
   "source": [
    "#문자열 데이터를 벡터화\n",
    "TfidfVectorizer(stop_words='english')\n",
    "vectorizer = TfidfVectorizer(max_features=1000,min_df=5)\n",
    "vectorizer = vectorizer.fit(sampled_df['posts'].to_numpy().reshape(-1))"
   ]
  },
  {
   "cell_type": "code",
   "execution_count": 45,
   "metadata": {},
   "outputs": [],
   "source": [
    "vds = []\n",
    "vts = []\n",
    "for i,e in enumerate(feature_df.to_numpy()):\n",
    "    dataStr = e.split(' ')\n",
    "    npStr = np.array(dataStr).reshape(-1)\n",
    "    for v in vectorizer.transform(npStr).toarray():\n",
    "        vds.append(v)\n",
    "        vts.append(target_df[i])"
   ]
  },
  {
   "cell_type": "code",
   "execution_count": 46,
   "metadata": {},
   "outputs": [],
   "source": [
    "feature_df=pd.DataFrame(vds)\n",
    "target_df=pd.DataFrame(vts)"
   ]
  },
  {
   "cell_type": "code",
   "execution_count": 47,
   "metadata": {},
   "outputs": [
    {
     "name": "stdout",
     "output_type": "stream",
     "text": [
      "(320575, 1000) 2\n",
      "(320575, 1) 2\n"
     ]
    }
   ],
   "source": [
    "print(feature_df.shape,feature_df.ndim)\n",
    "print(target_df.shape,target_df.ndim)"
   ]
  },
  {
   "cell_type": "code",
   "execution_count": 48,
   "metadata": {},
   "outputs": [],
   "source": [
    "x_train, x_test, y_train, y_test = train_test_split(feature_df,target_df,stratify=target_df, test_size=0.2, random_state=1)\n",
    "x_train, x_val, y_train, y_val = train_test_split(x_train,y_train,stratify=y_train, test_size=0.2, random_state=1)"
   ]
  },
  {
   "cell_type": "code",
   "execution_count": 49,
   "metadata": {},
   "outputs": [
    {
     "name": "stdout",
     "output_type": "stream",
     "text": [
      "dynamic_bcf_Model(\n",
      "  (in_layer): Linear(in_features=1000, out_features=900, bias=True)\n",
      "  (h_layer): ModuleList(\n",
      "    (0): Linear(in_features=900, out_features=800, bias=True)\n",
      "    (1): Linear(in_features=800, out_features=700, bias=True)\n",
      "    (2): Linear(in_features=700, out_features=600, bias=True)\n",
      "    (3): Linear(in_features=600, out_features=500, bias=True)\n",
      "    (4): Linear(in_features=500, out_features=400, bias=True)\n",
      "    (5): Linear(in_features=400, out_features=300, bias=True)\n",
      "    (6): Linear(in_features=300, out_features=200, bias=True)\n",
      "    (7): Linear(in_features=200, out_features=100, bias=True)\n",
      "    (8): Linear(in_features=100, out_features=50, bias=True)\n",
      "    (9): Linear(in_features=50, out_features=25, bias=True)\n",
      "    (10): Linear(in_features=25, out_features=15, bias=True)\n",
      "    (11): Linear(in_features=15, out_features=10, bias=True)\n",
      "    (12): Linear(in_features=10, out_features=5, bias=True)\n",
      "  )\n",
      "  (out_layer): Linear(in_features=5, out_features=1, bias=True)\n",
      ")\n"
     ]
    }
   ],
   "source": [
    "model=dynamic_bcf_Model(1000,900,800,700,600,500,400,300,200,100,50,25,15,10,5)\n",
    "print(model)"
   ]
  },
  {
   "cell_type": "code",
   "execution_count": 50,
   "metadata": {},
   "outputs": [
    {
     "data": {
      "text/plain": [
       "1025"
      ]
     },
     "execution_count": 50,
     "metadata": {},
     "output_type": "execute_result"
    }
   ],
   "source": [
    "x_train.shape[0]//200"
   ]
  },
  {
   "cell_type": "code",
   "execution_count": 51,
   "metadata": {},
   "outputs": [
    {
     "name": "stdout",
     "output_type": "stream",
     "text": [
      "torch.Size([1025, 1000]) torch.Size([1025, 1]) tensor([[0., 0., 0.,  ..., 0., 0., 0.],\n",
      "        [0., 0., 0.,  ..., 0., 0., 0.],\n",
      "        [0., 0., 0.,  ..., 0., 0., 0.],\n",
      "        ...,\n",
      "        [0., 0., 0.,  ..., 0., 0., 0.],\n",
      "        [0., 0., 0.,  ..., 0., 0., 0.],\n",
      "        [0., 0., 0.,  ..., 0., 0., 0.]]) tensor([[1.],\n",
      "        [0.],\n",
      "        [1.],\n",
      "        ...,\n",
      "        [0.],\n",
      "        [1.],\n",
      "        [0.]])\n"
     ]
    }
   ],
   "source": [
    "train_ds=make_dataset(x_train,y_train)\n",
    "val_ds=make_dataset(x_val,y_val)\n",
    "test_ds=make_dataset(x_test,y_test)\n",
    "\n",
    "train_dl=DataLoader(train_ds,batch_size=x_train.shape[0]//200)\n",
    "\n",
    "for feature,target in train_dl:\n",
    "    print(feature.shape,target.shape, feature,target)\n",
    "    break"
   ]
  },
  {
   "cell_type": "code",
   "execution_count": 52,
   "metadata": {},
   "outputs": [],
   "source": [
    "optimizer=optim.Adam(model.parameters(),lr=0.002)\n",
    "\n",
    "binary_loss=nn.BCELoss()"
   ]
  },
  {
   "cell_type": "code",
   "execution_count": 53,
   "metadata": {},
   "outputs": [
    {
     "name": "stdout",
     "output_type": "stream",
     "text": [
      "[0/100]\n",
      "- Train Loss : 0.6933723616955886 Score : 0.0\n",
      "- Val Loss : 0.6931523084640503 Score : 0.0\n",
      "[1/100]\n",
      "- Train Loss : 0.6931500452667919 Score : 0.600634711595317\n",
      "- Val Loss : 0.6931459903717041 Score : 0.6673768162727356\n",
      "[2/100]\n",
      "- Train Loss : 0.6931500529768455 Score : 0.6674346315920057\n",
      "- Val Loss : 0.6931460499763489 Score : 0.6673768162727356\n",
      "[3/100]\n",
      "- Train Loss : 0.6931501698138108 Score : 0.6674346315920057\n",
      "- Val Loss : 0.6931461095809937 Score : 0.6673768162727356\n",
      "[4/100]\n",
      "- Train Loss : 0.6931502285288341 Score : 0.6674346315920057\n",
      "- Val Loss : 0.6931459903717041 Score : 0.6673768162727356\n",
      "[5/100]\n",
      "- Train Loss : 0.6931502647067777 Score : 0.6674346315920057\n",
      "- Val Loss : 0.6931461095809937 Score : 0.6673768162727356\n",
      "[6/100]\n",
      "- Train Loss : 0.6931502884300194 Score : 0.6674346315920057\n",
      "- Val Loss : 0.6931459903717041 Score : 0.6673768162727356\n",
      "[7/100]\n",
      "- Train Loss : 0.6931503068155317 Score : 0.6674346315920057\n",
      "- Val Loss : 0.6931459903717041 Score : 0.6673768162727356\n",
      "[8/100]\n",
      "- Train Loss : 0.6931503145255853 Score : 0.6674346315920057\n",
      "- Val Loss : 0.6931459307670593 Score : 0.6673768162727356\n",
      "[9/100]\n",
      "- Train Loss : 0.6931503278699087 Score : 0.6674346315920057\n",
      "- Val Loss : 0.6931459307670593 Score : 0.6673768162727356\n",
      "[10/100]\n",
      "- Train Loss : 0.6931503409176917 Score : 0.6674346315920057\n",
      "- Val Loss : 0.6931459307670593 Score : 0.6673768162727356\n",
      "[11/100]\n",
      "- Train Loss : 0.693150337655746 Score : 0.6674346315920057\n",
      "- Val Loss : 0.6931459307670593 Score : 0.6673768162727356\n",
      "[12/100]\n",
      "- Train Loss : 0.6931503426969348 Score : 0.6674346315920057\n",
      "- Val Loss : 0.6931459307670593 Score : 0.6673768162727356\n",
      "성능 및 손실 개선이 없어서 12 EPOCH에 학습 중단\n"
     ]
    }
   ],
   "source": [
    "loss_history=[[],[]]\n",
    "score_history=[[],[]]\n",
    "\n",
    "EPOCH=100\n",
    "\n",
    "break_count=0\n",
    "limit=20\n",
    "\n",
    "for epoch in range(EPOCH):\n",
    "    model.train()\n",
    "\n",
    "    total_loss=0\n",
    "    total_score=0\n",
    "\n",
    "    for feature, target in train_dl:\n",
    "        #학습 진행\n",
    "        pre_y=model(feature)\n",
    "\n",
    "        #손실 계산\n",
    "        loss=binary_loss(pre_y,target)\n",
    "        total_loss+=loss.item()\n",
    "\n",
    "        #성능평가\n",
    "        score=BinaryF1Score()(pre_y,target)\n",
    "        total_score+=score.item()\n",
    "\n",
    "        #최적화 진행\n",
    "        optimizer.zero_grad()\n",
    "        loss.backward()\n",
    "        optimizer.step()\n",
    "    \n",
    "    # 에포크 당 검증\n",
    "    model.eval()\n",
    "\n",
    "    with torch.no_grad():\n",
    "        #검증데이터셋\n",
    "        val_feature=val_ds[:][0]\n",
    "        val_target=val_ds[:][1]\n",
    "\n",
    "        #평가\n",
    "        pre_val=model(val_feature)\n",
    "\n",
    "        #손실\n",
    "        loss_val=binary_loss(pre_val,val_target)\n",
    "        \n",
    "        #성능평가\n",
    "        score_val=BinaryF1Score()(pre_val,val_target)\n",
    "\n",
    "    # 손실값과 성능악악값 저장\n",
    "    loss_history[0].append(total_loss/len(train_dl))\n",
    "    score_history[0].append(total_score/len(train_dl))\n",
    "\n",
    "    loss_history[1].append(loss_val)\n",
    "    score_history[1].append(score_val)\n",
    "\n",
    "    print(f'[{epoch}/{EPOCH}]\\n- Train Loss : {loss_history[0][-1]} Score : {score_history[0][-1]}')\n",
    "    print(f'- Val Loss : {loss_history[1][-1]} Score : {score_history[1][-1]}')\n",
    "\n",
    "    #score\n",
    "    if len(score_history[1])>=2:\n",
    "        if score_history[1][-1] <= score_history[1][-2]: break_count+=1\n",
    "\n",
    "    #학습 중단 여부 설정\n",
    "    if break_count>limit:\n",
    "        print(f'성능 및 손실 개선이 없어서 {epoch} EPOCH에 학습 중단')\n",
    "        break"
   ]
  },
  {
   "cell_type": "code",
   "execution_count": null,
   "metadata": {},
   "outputs": [
    {
     "name": "stdout",
     "output_type": "stream",
     "text": [
      "[0/100]\n",
      "- Train Loss : 0.6933723616955886 Score : 0.0\n",
      "- Val Loss : 0.6931523084640503 Score : 0.0\n",
      "[1/100]\n",
      "- Train Loss : 0.6931500452667919 Score : 0.600634711595317\n",
      "- Val Loss : 0.6931459903717041 Score : 0.6673768162727356\n",
      "[2/100]\n",
      "- Train Loss : 0.6931500529768455 Score : 0.6674346315920057\n",
      "- Val Loss : 0.6931460499763489 Score : 0.6673768162727356\n",
      "[3/100]\n",
      "- Train Loss : 0.6931501698138108 Score : 0.6674346315920057\n",
      "- Val Loss : 0.6931461095809937 Score : 0.6673768162727356\n",
      "[4/100]\n",
      "- Train Loss : 0.6931502285288341 Score : 0.6674346315920057\n",
      "- Val Loss : 0.6931459903717041 Score : 0.6673768162727356\n",
      "[5/100]\n",
      "- Train Loss : 0.6931502647067777 Score : 0.6674346315920057\n",
      "- Val Loss : 0.6931461095809937 Score : 0.6673768162727356\n",
      "[6/100]\n",
      "- Train Loss : 0.6931502884300194 Score : 0.6674346315920057\n",
      "- Val Loss : 0.6931459903717041 Score : 0.6673768162727356\n",
      "[7/100]\n",
      "- Train Loss : 0.6931503068155317 Score : 0.6674346315920057\n",
      "- Val Loss : 0.6931459903717041 Score : 0.6673768162727356\n",
      "[8/100]\n",
      "- Train Loss : 0.6931503145255853 Score : 0.6674346315920057\n",
      "- Val Loss : 0.6931459307670593 Score : 0.6673768162727356\n",
      "[9/100]\n",
      "- Train Loss : 0.6931503278699087 Score : 0.6674346315920057\n",
      "- Val Loss : 0.6931459307670593 Score : 0.6673768162727356\n",
      "[10/100]\n",
      "- Train Loss : 0.6931503409176917 Score : 0.6674346315920057\n",
      "- Val Loss : 0.6931459307670593 Score : 0.6673768162727356\n",
      "[11/100]\n",
      "- Train Loss : 0.693150337655746 Score : 0.6674346315920057\n",
      "- Val Loss : 0.6931459307670593 Score : 0.6673768162727356\n",
      "[12/100]\n",
      "- Train Loss : 0.6931503426969348 Score : 0.6674346315920057\n",
      "- Val Loss : 0.6931459307670593 Score : 0.6673768162727356\n",
      "성능 및 손실 개선이 없어서 12 EPOCH에 학습 중단\n"
     ]
    }
   ],
   "source": [
    "loss_history=[[],[]]\n",
    "score_history=[[],[]]\n",
    "\n",
    "EPOCH=100\n",
    "\n",
    "break_count=0\n",
    "limit=20\n",
    "\n",
    "for epoch in range(EPOCH):\n",
    "    model.train()\n",
    "\n",
    "    total_loss=0\n",
    "    total_score=0\n",
    "\n",
    "    for feature, target in train_dl:\n",
    "        #학습 진행\n",
    "        pre_y=model(feature)\n",
    "\n",
    "        #손실 계산\n",
    "        loss=binary_loss(pre_y,target)\n",
    "        total_loss+=loss.item()\n",
    "\n",
    "        #성능평가\n",
    "        score=BinaryF1Score()(pre_y,target)\n",
    "        total_score+=score.item()\n",
    "\n",
    "        #최적화 진행\n",
    "        optimizer.zero_grad()\n",
    "        loss.backward()\n",
    "        optimizer.step()\n",
    "    \n",
    "    # 에포크 당 검증\n",
    "    model.eval()\n",
    "\n",
    "    with torch.no_grad():\n",
    "        #검증데이터셋\n",
    "        val_feature=val_ds[:][0]\n",
    "        val_target=val_ds[:][1]\n",
    "\n",
    "        #평가\n",
    "        pre_val=model(val_feature)\n",
    "\n",
    "        #손실\n",
    "        loss_val=binary_loss(pre_val,val_target)\n",
    "        \n",
    "        #성능평가\n",
    "        score_val=BinaryF1Score()(pre_val,val_target)\n",
    "\n",
    "    # 손실값과 성능악악값 저장\n",
    "    loss_history[0].append(total_loss/len(train_dl))\n",
    "    score_history[0].append(total_score/len(train_dl))\n",
    "\n",
    "    loss_history[1].append(loss_val)\n",
    "    score_history[1].append(score_val)\n",
    "\n",
    "    print(f'[{epoch}/{EPOCH}]\\n- Train Loss : {loss_history[0][-1]} Score : {score_history[0][-1]}')\n",
    "    print(f'- Val Loss : {loss_history[1][-1]} Score : {score_history[1][-1]}')\n",
    "\n",
    "    #score\n",
    "    if len(score_history[1])>=2:\n",
    "        if score_history[1][-1] <= score_history[1][-2]: break_count+=1\n",
    "\n",
    "    #학습 중단 여부 설정\n",
    "    if break_count>limit:\n",
    "        print(f'성능 및 손실 개선이 없어서 {epoch} EPOCH에 학습 중단')\n",
    "        break"
   ]
  },
  {
   "cell_type": "code",
   "execution_count": 54,
   "metadata": {},
   "outputs": [
    {
     "data": {
      "image/png": "[encoded data removed]",
      "text/plain": [
       "<Figure size 1000x500 with 2 Axes>"
      ]
     },
     "metadata": {},
     "output_type": "display_data"
    }
   ],
   "source": [
    "#학습 결과 확인(학습과 검증의 Loss, 성능지표 변화 확인) w. 시각화\n",
    "\n",
    "th=len(score_history[1])\n",
    "fg,axes=plt.subplots(1,2,figsize=(10,5),sharey=True)\n",
    "axes[0].plot(range(1,th+1),loss_history[0][:th],label='Train')\n",
    "axes[0].plot(range(1,th+1),loss_history[1][:th],label='Val')\n",
    "axes[0].set_ylim([0.5,0.8])\n",
    "axes[0].grid()\n",
    "axes[0].legend\n",
    "\n",
    "axes[1].plot(range(1,th+1),score_history[0][:th],label='Train')\n",
    "axes[1].plot(range(1,th+1),score_history[1][:th],label='Val')\n",
    "axes[1].grid()\n",
    "axes[1].legend\n",
    "\n",
    "plt.show()"
   ]
  },
  {
   "cell_type": "code",
   "execution_count": null,
   "metadata": {},
   "outputs": [],
   "source": []
  }
 ],
 "metadata": {
  "kernelspec": {
   "display_name": "TORCH_38",
   "language": "python",
   "name": "python3"
  },
  "language_info": {
   "codemirror_mode": {
    "name": "ipython",
    "version": 3
   },
   "file_extension": ".py",
   "mimetype": "text/x-python",
   "name": "python",
   "nbconvert_exporter": "python",
   "pygments_lexer": "ipython3",
   "version": "3.8.19"
  }
 },
 "nbformat": 4,
 "nbformat_minor": 2
}
