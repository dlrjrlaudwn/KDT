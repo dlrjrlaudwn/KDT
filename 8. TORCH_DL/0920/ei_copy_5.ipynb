{
  "cells": [
    {
      "cell_type": "code",
      "execution_count": 1,
      "metadata": {
        "id": "-7Tx7R-Q8m-A"
      },
      "outputs": [],
      "source": [
        "#모듈 로딩\n",
        "# Model 관련\n",
        "import torch\n",
        "import torch.nn as nn\n",
        "import torch.nn.functional as F\n",
        "from torch.utils.data import Dataset,DataLoader\n",
        "import torch.optim as optim\n",
        "from sklearn.metrics import accuracy_score, f1_score\n",
        "import torch.optim.lr_scheduler as lr_scheduler\n",
        "\n",
        "\n",
        "# Data 및 시각화 관련\n",
        "import os\n",
        "import numpy as np\n",
        "import pandas as pd\n",
        "import matplotlib.pyplot as plt\n",
        "from sklearn.preprocessing import *\n",
        "from sklearn.model_selection import train_test_split\n",
        "from sklearn.feature_extraction.text import TfidfVectorizer"
      ]
    },
    {
      "cell_type": "code",
      "execution_count": 2,
      "metadata": {
        "colab": {
          "base_uri": "https://localhost:8080/",
          "height": 36
        },
        "id": "D3Am_70x_W8R",
        "outputId": "151ab7a1-4cca-469c-cef9-b2a6492ca282"
      },
      "outputs": [
        {
          "data": {
            "text/plain": [
              "'cpu'"
            ]
          },
          "execution_count": 2,
          "metadata": {},
          "output_type": "execute_result"
        }
      ],
      "source": [
        "DEVICE = 'cuda' if torch.cuda.is_available() else 'cpu'\n",
        "DEVICE"
      ]
    },
    {
      "cell_type": "code",
      "execution_count": 3,
      "metadata": {
        "id": "HU9CWFlL8m-B"
      },
      "outputs": [],
      "source": [
        "class MyDataset(Dataset):\n",
        "    def __init__(self, features, targets):\n",
        "        self.features = features\n",
        "        self.targets = targets\n",
        "\n",
        "    def __len__(self):\n",
        "        return len(self.features)\n",
        "\n",
        "    def __getitem__(self, idx):\n",
        "        return self.features[idx], self.targets[idx]"
      ]
    },
    {
      "cell_type": "code",
      "execution_count": 4,
      "metadata": {
        "id": "UR-3ZZBL8m-B"
      },
      "outputs": [],
      "source": [
        "class MLPModel(nn.Module):\n",
        "    def __init__(self, input_size, hidden_sizes, output_size):\n",
        "        super(MLPModel, self).__init__()\n",
        "\n",
        "        # 은닉층들을 nn.ModuleList로 관리\n",
        "        layers = []\n",
        "        in_features = input_size\n",
        "\n",
        "        for hidden_size in hidden_sizes:\n",
        "            layers.append(nn.Linear(in_features, hidden_size))\n",
        "            layers.append(nn.ReLU())  # 활성화 함수로 ReLU 추가\n",
        "            in_features = hidden_size  # 다음 레이어의 입력 크기는 현재 레이어의 출력 크기\n",
        "\n",
        "        # Dropout과 마지막 출력층 추가\n",
        "        layers.append(nn.Dropout(0.3))  # Dropout 추가\n",
        "        layers.append(nn.Linear(in_features, output_size))\n",
        "\n",
        "        self.network = nn.Sequential(*layers)  # Sequential로 레이어 묶음\n",
        "\n",
        "    def forward(self, x):\n",
        "        return self.network(x)"
      ]
    },
    {
      "cell_type": "code",
      "execution_count": 6,
      "metadata": {
        "colab": {
          "base_uri": "https://localhost:8080/",
          "height": 423
        },
        "id": "rljkkeOb8m-C",
        "outputId": "9868efe4-e42e-4e44-f83e-eecdb30d5baa"
      },
      "outputs": [
        {
          "data": {
            "text/html": [
              "<div>\n",
              "<style scoped>\n",
              "    .dataframe tbody tr th:only-of-type {\n",
              "        vertical-align: middle;\n",
              "    }\n",
              "\n",
              "    .dataframe tbody tr th {\n",
              "        vertical-align: top;\n",
              "    }\n",
              "\n",
              "    .dataframe thead th {\n",
              "        text-align: right;\n",
              "    }\n",
              "</style>\n",
              "<table border=\"1\" class=\"dataframe\">\n",
              "  <thead>\n",
              "    <tr style=\"text-align: right;\">\n",
              "      <th></th>\n",
              "      <th>posts</th>\n",
              "      <th>type</th>\n",
              "    </tr>\n",
              "  </thead>\n",
              "  <tbody>\n",
              "    <tr>\n",
              "      <th>0</th>\n",
              "      <td>know intj tool use interaction people excuse a...</td>\n",
              "      <td>INTJ</td>\n",
              "    </tr>\n",
              "    <tr>\n",
              "      <th>1</th>\n",
              "      <td>rap music ehh opp yeah know valid well know fa...</td>\n",
              "      <td>INTJ</td>\n",
              "    </tr>\n",
              "    <tr>\n",
              "      <th>2</th>\n",
              "      <td>preferably p hd low except wew lad video p min...</td>\n",
              "      <td>INTJ</td>\n",
              "    </tr>\n",
              "    <tr>\n",
              "      <th>3</th>\n",
              "      <td>drink like wish could drink red wine give head...</td>\n",
              "      <td>INTJ</td>\n",
              "    </tr>\n",
              "    <tr>\n",
              "      <th>4</th>\n",
              "      <td>space program ah bad deal meing freelance max ...</td>\n",
              "      <td>INTJ</td>\n",
              "    </tr>\n",
              "    <tr>\n",
              "      <th>...</th>\n",
              "      <td>...</td>\n",
              "      <td>...</td>\n",
              "    </tr>\n",
              "    <tr>\n",
              "      <th>106062</th>\n",
              "      <td>stay frustrate world life want take long nap w...</td>\n",
              "      <td>INFP</td>\n",
              "    </tr>\n",
              "    <tr>\n",
              "      <th>106063</th>\n",
              "      <td>fizzle around time mention sure mistake thing ...</td>\n",
              "      <td>INFP</td>\n",
              "    </tr>\n",
              "    <tr>\n",
              "      <th>106064</th>\n",
              "      <td>schedule modify hey w intp strong wing underst...</td>\n",
              "      <td>INFP</td>\n",
              "    </tr>\n",
              "    <tr>\n",
              "      <th>106065</th>\n",
              "      <td>enfj since january busy schedule able spend li...</td>\n",
              "      <td>INFP</td>\n",
              "    </tr>\n",
              "    <tr>\n",
              "      <th>106066</th>\n",
              "      <td>feel like men good problem tell parent want te...</td>\n",
              "      <td>INFP</td>\n",
              "    </tr>\n",
              "  </tbody>\n",
              "</table>\n",
              "<p>106067 rows × 2 columns</p>\n",
              "</div>"
            ],
            "text/plain": [
              "                                                    posts  type\n",
              "0       know intj tool use interaction people excuse a...  INTJ\n",
              "1       rap music ehh opp yeah know valid well know fa...  INTJ\n",
              "2       preferably p hd low except wew lad video p min...  INTJ\n",
              "3       drink like wish could drink red wine give head...  INTJ\n",
              "4       space program ah bad deal meing freelance max ...  INTJ\n",
              "...                                                   ...   ...\n",
              "106062  stay frustrate world life want take long nap w...  INFP\n",
              "106063  fizzle around time mention sure mistake thing ...  INFP\n",
              "106064  schedule modify hey w intp strong wing underst...  INFP\n",
              "106065  enfj since january busy schedule able spend li...  INFP\n",
              "106066  feel like men good problem tell parent want te...  INFP\n",
              "\n",
              "[106067 rows x 2 columns]"
            ]
          },
          "execution_count": 6,
          "metadata": {},
          "output_type": "execute_result"
        }
      ],
      "source": [
        "mbti_df=pd.read_csv('../data/MBTI.csv')\n",
        "mbti_df"
      ]
    },
    {
      "cell_type": "code",
      "execution_count": 7,
      "metadata": {
        "colab": {
          "base_uri": "https://localhost:8080/",
          "height": 423
        },
        "id": "WczpN3cw8m-C",
        "outputId": "69c61032-43ec-4237-9016-c93dedf0311b"
      },
      "outputs": [
        {
          "data": {
            "text/html": [
              "<div>\n",
              "<style scoped>\n",
              "    .dataframe tbody tr th:only-of-type {\n",
              "        vertical-align: middle;\n",
              "    }\n",
              "\n",
              "    .dataframe tbody tr th {\n",
              "        vertical-align: top;\n",
              "    }\n",
              "\n",
              "    .dataframe thead th {\n",
              "        text-align: right;\n",
              "    }\n",
              "</style>\n",
              "<table border=\"1\" class=\"dataframe\">\n",
              "  <thead>\n",
              "    <tr style=\"text-align: right;\">\n",
              "      <th></th>\n",
              "      <th>posts</th>\n",
              "      <th>type</th>\n",
              "      <th>ei_type</th>\n",
              "    </tr>\n",
              "  </thead>\n",
              "  <tbody>\n",
              "    <tr>\n",
              "      <th>0</th>\n",
              "      <td>know intj tool use interaction people excuse a...</td>\n",
              "      <td>INTJ</td>\n",
              "      <td>1</td>\n",
              "    </tr>\n",
              "    <tr>\n",
              "      <th>1</th>\n",
              "      <td>rap music ehh opp yeah know valid well know fa...</td>\n",
              "      <td>INTJ</td>\n",
              "      <td>1</td>\n",
              "    </tr>\n",
              "    <tr>\n",
              "      <th>2</th>\n",
              "      <td>preferably p hd low except wew lad video p min...</td>\n",
              "      <td>INTJ</td>\n",
              "      <td>1</td>\n",
              "    </tr>\n",
              "    <tr>\n",
              "      <th>3</th>\n",
              "      <td>drink like wish could drink red wine give head...</td>\n",
              "      <td>INTJ</td>\n",
              "      <td>1</td>\n",
              "    </tr>\n",
              "    <tr>\n",
              "      <th>4</th>\n",
              "      <td>space program ah bad deal meing freelance max ...</td>\n",
              "      <td>INTJ</td>\n",
              "      <td>1</td>\n",
              "    </tr>\n",
              "    <tr>\n",
              "      <th>...</th>\n",
              "      <td>...</td>\n",
              "      <td>...</td>\n",
              "      <td>...</td>\n",
              "    </tr>\n",
              "    <tr>\n",
              "      <th>106062</th>\n",
              "      <td>stay frustrate world life want take long nap w...</td>\n",
              "      <td>INFP</td>\n",
              "      <td>1</td>\n",
              "    </tr>\n",
              "    <tr>\n",
              "      <th>106063</th>\n",
              "      <td>fizzle around time mention sure mistake thing ...</td>\n",
              "      <td>INFP</td>\n",
              "      <td>1</td>\n",
              "    </tr>\n",
              "    <tr>\n",
              "      <th>106064</th>\n",
              "      <td>schedule modify hey w intp strong wing underst...</td>\n",
              "      <td>INFP</td>\n",
              "      <td>1</td>\n",
              "    </tr>\n",
              "    <tr>\n",
              "      <th>106065</th>\n",
              "      <td>enfj since january busy schedule able spend li...</td>\n",
              "      <td>INFP</td>\n",
              "      <td>1</td>\n",
              "    </tr>\n",
              "    <tr>\n",
              "      <th>106066</th>\n",
              "      <td>feel like men good problem tell parent want te...</td>\n",
              "      <td>INFP</td>\n",
              "      <td>1</td>\n",
              "    </tr>\n",
              "  </tbody>\n",
              "</table>\n",
              "<p>106067 rows × 3 columns</p>\n",
              "</div>"
            ],
            "text/plain": [
              "                                                    posts  type  ei_type\n",
              "0       know intj tool use interaction people excuse a...  INTJ        1\n",
              "1       rap music ehh opp yeah know valid well know fa...  INTJ        1\n",
              "2       preferably p hd low except wew lad video p min...  INTJ        1\n",
              "3       drink like wish could drink red wine give head...  INTJ        1\n",
              "4       space program ah bad deal meing freelance max ...  INTJ        1\n",
              "...                                                   ...   ...      ...\n",
              "106062  stay frustrate world life want take long nap w...  INFP        1\n",
              "106063  fizzle around time mention sure mistake thing ...  INFP        1\n",
              "106064  schedule modify hey w intp strong wing underst...  INFP        1\n",
              "106065  enfj since january busy schedule able spend li...  INFP        1\n",
              "106066  feel like men good problem tell parent want te...  INFP        1\n",
              "\n",
              "[106067 rows x 3 columns]"
            ]
          },
          "execution_count": 7,
          "metadata": {},
          "output_type": "execute_result"
        }
      ],
      "source": [
        "mbti_df['ei_type']=mbti_df['type'].apply(lambda x: 1 if 'I' in str(x) else 0)  # 'I'면 1, 'E'면 0\n",
        "mbti_df"
      ]
    },
    {
      "cell_type": "code",
      "execution_count": 8,
      "metadata": {
        "colab": {
          "base_uri": "https://localhost:8080/",
          "height": 178
        },
        "id": "UOpHsYhN-Yda",
        "outputId": "6e7fcc92-dccb-4a0b-d2cc-91b6b9eadca3"
      },
      "outputs": [
        {
          "data": {
            "text/plain": [
              "ei_type\n",
              "0    5000\n",
              "1    5000\n",
              "Name: count, dtype: int64"
            ]
          },
          "execution_count": 8,
          "metadata": {},
          "output_type": "execute_result"
        }
      ],
      "source": [
        "r_sampled_df = mbti_df.groupby('ei_type', group_keys=False).apply(lambda x: x.sample(n=5000, random_state=42))\n",
        "r_sampled_df['ei_type'].value_counts()"
      ]
    },
    {
      "cell_type": "code",
      "execution_count": 9,
      "metadata": {
        "id": "rsqsKieeRUO0"
      },
      "outputs": [],
      "source": [
        "r_sampled_df['ei_type'] = r_sampled_df['type'].apply(lambda x: 1 if 'E' in x else 0)"
      ]
    },
    {
      "cell_type": "code",
      "execution_count": 10,
      "metadata": {
        "id": "vNp64ZBH8m-D"
      },
      "outputs": [],
      "source": [
        "result = pd.DataFrame(columns=['posts','ei_type'] )\n",
        "for index, row in r_sampled_df.iterrows():\n",
        "    # 각 행의 단어를 분리\n",
        "    features = row['posts'].split()\n",
        "    # 해당 단어에 맞는 타겟 값 생성\n",
        "    targets = [row['ei_type']] * len(features)\n",
        "\n",
        "    # 결과 데이터프레임에 추가\n",
        "    dfs = pd.DataFrame({'posts' : features, 'ei_type':targets})\n",
        "    result = pd.concat([result, dfs], ignore_index=True)"
      ]
    },
    {
      "cell_type": "code",
      "execution_count": 11,
      "metadata": {
        "id": "4PYLDFAH-P5b"
      },
      "outputs": [],
      "source": [
        "feature=r_sampled_df['posts'].values\n",
        "target=r_sampled_df['ei_type'].astype('float64').values"
      ]
    },
    {
      "cell_type": "code",
      "execution_count": 12,
      "metadata": {
        "id": "aVxvI7nA8m-D"
      },
      "outputs": [],
      "source": [
        "#벡터화\n",
        "tfidf = TfidfVectorizer(max_features=5000)  # 최대 5000개의 단어만 사용\n",
        "X = tfidf.fit_transform(feature)\n",
        "\n",
        "#Train-test split\n",
        "X_train, X_test, y_train, y_test = train_test_split(X, target, test_size=0.2, random_state=42)\n",
        "X_train, X_val, y_train, y_val = train_test_split(X_train, y_train, stratify=y_train, test_size=0.2, random_state=42)\n",
        "\n",
        "#텐서화\n",
        "X_train_tensor = torch.FloatTensor(X_train.toarray())\n",
        "X_test_tensor = torch.FloatTensor(X_test.toarray())\n",
        "y_train_tensor = torch.LongTensor(y_train)\n",
        "y_test_tensor = torch.LongTensor(y_test)\n",
        "x_val_tensor = torch.FloatTensor(X_val.toarray()).to(DEVICE)\n",
        "y_val_tensor = torch.LongTensor(y_val).to(DEVICE)\n"
      ]
    },
    {
      "cell_type": "code",
      "execution_count": 13,
      "metadata": {
        "id": "zfgbmhDn_dXC"
      },
      "outputs": [],
      "source": [
        "## models 폴더 아래 프로젝트 폴더 아래 모델 파일저장\n",
        "import os\n",
        "\n",
        "# 저장 경로\n",
        "SAVE_PATH = './models/mbti/'\n",
        "# 저장 파일명\n",
        "SAVE_FILE = 'ei_model_train_wbs.pth'\n",
        "# 저장 모델구조 및 파라미터 모두 저장\n",
        "SAVE_MODEL = 'ei_model_all.pth'\n",
        "\n",
        "if not os.path.exists(SAVE_PATH):\n",
        "    os.makedirs(SAVE_PATH)"
      ]
    },
    {
      "cell_type": "code",
      "execution_count": 14,
      "metadata": {
        "id": "2n-S2nl58m-E"
      },
      "outputs": [],
      "source": [
        "train_dataset = MyDataset(X_train_tensor, y_train_tensor)\n",
        "test_dataset = MyDataset(X_test_tensor, y_test_tensor)\n",
        "val_dataset = MyDataset(x_val_tensor, y_val_tensor)\n",
        "\n",
        "train_loader = DataLoader(dataset=train_dataset, batch_size=32, shuffle=True)\n",
        "test_loader = DataLoader(dataset=test_dataset, batch_size=32, shuffle=False)\n",
        "val_loader = DataLoader(dataset=val_dataset, batch_size=32, shuffle=False)"
      ]
    },
    {
      "cell_type": "code",
      "execution_count": 15,
      "metadata": {
        "colab": {
          "base_uri": "https://localhost:8080/"
        },
        "id": "9x7U49gL8m-E",
        "outputId": "c6e76112-0bc9-4de0-9c31-60661d572d46"
      },
      "outputs": [
        {
          "name": "stderr",
          "output_type": "stream",
          "text": [
            "c:\\Users\\desktop\\anaconda3\\envs\\TORCH_38\\lib\\site-packages\\torch\\optim\\lr_scheduler.py:60: UserWarning: The verbose parameter is deprecated. Please use get_last_lr() to access the learning rate.\n",
            "  warnings.warn(\n"
          ]
        }
      ],
      "source": [
        "input_size = 5000\n",
        "hidden_sizes = [1000, 500, 300, 100, 50]\n",
        "output_size = 1  # 이진 분류\n",
        "\n",
        "model = MLPModel(input_size, hidden_sizes, output_size)\n",
        "model.to(DEVICE)\n",
        "\n",
        "criterion = nn.BCEWithLogitsLoss()\n",
        "optimizer = optim.Adam(model.parameters(), lr=0.0001)\n",
        "scheduler=lr_scheduler.ReduceLROnPlateau(optimizer,mode='max',patience=10,verbose=True)"
      ]
    },
    {
      "cell_type": "code",
      "execution_count": 16,
      "metadata": {
        "colab": {
          "base_uri": "https://localhost:8080/"
        },
        "id": "YX123ZGf8m-E",
        "outputId": "34ead474-90a2-4a7a-a307-71087af6b9f7"
      },
      "outputs": [
        {
          "name": "stdout",
          "output_type": "stream",
          "text": [
            "MLPModel(\n",
            "  (network): Sequential(\n",
            "    (0): Linear(in_features=5000, out_features=1000, bias=True)\n",
            "    (1): ReLU()\n",
            "    (2): Linear(in_features=1000, out_features=500, bias=True)\n",
            "    (3): ReLU()\n",
            "    (4): Linear(in_features=500, out_features=300, bias=True)\n",
            "    (5): ReLU()\n",
            "    (6): Linear(in_features=300, out_features=100, bias=True)\n",
            "    (7): ReLU()\n",
            "    (8): Linear(in_features=100, out_features=50, bias=True)\n",
            "    (9): ReLU()\n",
            "    (10): Dropout(p=0.3, inplace=False)\n",
            "    (11): Linear(in_features=50, out_features=1, bias=True)\n",
            "  )\n",
            ")\n"
          ]
        }
      ],
      "source": [
        "print(model)"
      ]
    },
    {
      "cell_type": "code",
      "execution_count": 17,
      "metadata": {
        "colab": {
          "base_uri": "https://localhost:8080/"
        },
        "id": "a1OQ7fxt8m-F",
        "outputId": "ad44552c-f252-495c-c496-87bfcab9d482"
      },
      "outputs": [
        {
          "name": "stdout",
          "output_type": "stream",
          "text": [
            "Epoch [1/100], Loss: 0.6599, F1: 0.6986\n",
            "scheduler.num_bad_epochs: 0 scheduler.patience: 10\n",
            "Epoch [2/100], Loss: 0.2850, F1: 0.8889\n",
            "scheduler.num_bad_epochs: 1 scheduler.patience: 10\n",
            "Epoch [3/100], Loss: 0.1394, F1: 0.9591\n",
            "scheduler.num_bad_epochs: 2 scheduler.patience: 10\n",
            "Epoch [4/100], Loss: 0.0774, F1: 0.9815\n",
            "scheduler.num_bad_epochs: 0 scheduler.patience: 10\n",
            "Epoch [5/100], Loss: 0.0437, F1: 0.9908\n",
            "scheduler.num_bad_epochs: 0 scheduler.patience: 10\n",
            "Epoch [6/100], Loss: 0.0255, F1: 0.9961\n",
            "scheduler.num_bad_epochs: 0 scheduler.patience: 10\n",
            "Epoch [7/100], Loss: 0.0129, F1: 0.9981\n",
            "scheduler.num_bad_epochs: 1 scheduler.patience: 10\n",
            "Epoch [8/100], Loss: 0.0098, F1: 0.9986\n",
            "scheduler.num_bad_epochs: 0 scheduler.patience: 10\n",
            "Epoch [9/100], Loss: 0.0063, F1: 0.9991\n",
            "scheduler.num_bad_epochs: 1 scheduler.patience: 10\n",
            "Epoch [10/100], Loss: 0.0030, F1: 0.9995\n",
            "scheduler.num_bad_epochs: 0 scheduler.patience: 10\n",
            "Epoch [11/100], Loss: 0.0011, F1: 0.9998\n",
            "scheduler.num_bad_epochs: 0 scheduler.patience: 10\n",
            "Epoch [12/100], Loss: 0.0004, F1: 1.0000\n",
            "scheduler.num_bad_epochs: 0 scheduler.patience: 10\n",
            "Epoch [13/100], Loss: 0.0003, F1: 1.0000\n",
            "scheduler.num_bad_epochs: 0 scheduler.patience: 10\n",
            "Epoch [14/100], Loss: 0.0002, F1: 1.0000\n",
            "scheduler.num_bad_epochs: 0 scheduler.patience: 10\n",
            "Epoch [15/100], Loss: 0.0001, F1: 1.0000\n",
            "scheduler.num_bad_epochs: 0 scheduler.patience: 10\n",
            "Epoch [16/100], Loss: 0.0001, F1: 1.0000\n",
            "scheduler.num_bad_epochs: 0 scheduler.patience: 10\n",
            "Epoch [17/100], Loss: 0.0001, F1: 1.0000\n",
            "scheduler.num_bad_epochs: 0 scheduler.patience: 10\n",
            "Epoch [18/100], Loss: 0.0001, F1: 1.0000\n",
            "scheduler.num_bad_epochs: 0 scheduler.patience: 10\n",
            "Epoch [19/100], Loss: 0.0001, F1: 1.0000\n",
            "scheduler.num_bad_epochs: 0 scheduler.patience: 10\n",
            "Epoch [20/100], Loss: 0.0000, F1: 1.0000\n",
            "scheduler.num_bad_epochs: 0 scheduler.patience: 10\n",
            "Epoch [21/100], Loss: 0.0000, F1: 1.0000\n",
            "scheduler.num_bad_epochs: 0 scheduler.patience: 10\n",
            "Epoch [22/100], Loss: 0.0000, F1: 1.0000\n",
            "scheduler.num_bad_epochs: 1 scheduler.patience: 10\n",
            "Epoch [23/100], Loss: 0.0000, F1: 1.0000\n",
            "scheduler.num_bad_epochs: 0 scheduler.patience: 10\n",
            "Epoch [24/100], Loss: 0.0000, F1: 1.0000\n",
            "scheduler.num_bad_epochs: 0 scheduler.patience: 10\n",
            "Epoch [25/100], Loss: 0.0000, F1: 1.0000\n",
            "scheduler.num_bad_epochs: 0 scheduler.patience: 10\n",
            "Epoch [26/100], Loss: 0.0000, F1: 1.0000\n",
            "scheduler.num_bad_epochs: 1 scheduler.patience: 10\n",
            "Epoch [27/100], Loss: 0.0000, F1: 1.0000\n",
            "scheduler.num_bad_epochs: 2 scheduler.patience: 10\n",
            "Epoch [28/100], Loss: 0.0000, F1: 1.0000\n",
            "scheduler.num_bad_epochs: 0 scheduler.patience: 10\n",
            "Epoch [29/100], Loss: 0.0000, F1: 1.0000\n",
            "scheduler.num_bad_epochs: 0 scheduler.patience: 10\n",
            "Epoch [30/100], Loss: 0.0000, F1: 1.0000\n",
            "scheduler.num_bad_epochs: 1 scheduler.patience: 10\n",
            "Epoch [31/100], Loss: 0.0000, F1: 1.0000\n",
            "scheduler.num_bad_epochs: 0 scheduler.patience: 10\n",
            "Epoch [32/100], Loss: 0.0000, F1: 1.0000\n",
            "scheduler.num_bad_epochs: 1 scheduler.patience: 10\n",
            "Epoch [33/100], Loss: 0.0000, F1: 1.0000\n",
            "scheduler.num_bad_epochs: 0 scheduler.patience: 10\n",
            "Epoch [34/100], Loss: 0.0000, F1: 1.0000\n",
            "scheduler.num_bad_epochs: 0 scheduler.patience: 10\n",
            "Epoch [35/100], Loss: 0.0000, F1: 1.0000\n",
            "scheduler.num_bad_epochs: 0 scheduler.patience: 10\n",
            "Epoch [36/100], Loss: 0.0000, F1: 1.0000\n",
            "scheduler.num_bad_epochs: 1 scheduler.patience: 10\n",
            "Epoch [37/100], Loss: 0.0000, F1: 1.0000\n",
            "scheduler.num_bad_epochs: 2 scheduler.patience: 10\n",
            "Epoch [38/100], Loss: 0.0000, F1: 1.0000\n",
            "scheduler.num_bad_epochs: 0 scheduler.patience: 10\n",
            "Epoch [39/100], Loss: 0.0000, F1: 1.0000\n",
            "scheduler.num_bad_epochs: 1 scheduler.patience: 10\n",
            "Epoch [40/100], Loss: 0.0000, F1: 1.0000\n",
            "scheduler.num_bad_epochs: 2 scheduler.patience: 10\n",
            "Epoch [41/100], Loss: 0.0000, F1: 1.0000\n",
            "scheduler.num_bad_epochs: 0 scheduler.patience: 10\n",
            "Epoch [42/100], Loss: 0.0000, F1: 1.0000\n",
            "scheduler.num_bad_epochs: 1 scheduler.patience: 10\n",
            "Epoch [43/100], Loss: 0.0000, F1: 1.0000\n",
            "scheduler.num_bad_epochs: 0 scheduler.patience: 10\n",
            "Epoch [44/100], Loss: 0.0000, F1: 1.0000\n",
            "scheduler.num_bad_epochs: 1 scheduler.patience: 10\n",
            "Epoch [45/100], Loss: 0.0000, F1: 1.0000\n",
            "scheduler.num_bad_epochs: 2 scheduler.patience: 10\n",
            "Epoch [46/100], Loss: 0.0000, F1: 1.0000\n",
            "scheduler.num_bad_epochs: 0 scheduler.patience: 10\n",
            "Epoch [47/100], Loss: 0.0000, F1: 1.0000\n",
            "scheduler.num_bad_epochs: 1 scheduler.patience: 10\n",
            "Epoch [48/100], Loss: 0.0000, F1: 1.0000\n",
            "scheduler.num_bad_epochs: 0 scheduler.patience: 10\n",
            "Epoch [49/100], Loss: 0.0000, F1: 1.0000\n",
            "scheduler.num_bad_epochs: 0 scheduler.patience: 10\n",
            "Epoch [50/100], Loss: 0.0000, F1: 1.0000\n",
            "scheduler.num_bad_epochs: 0 scheduler.patience: 10\n",
            "Epoch [51/100], Loss: 0.0000, F1: 1.0000\n",
            "scheduler.num_bad_epochs: 0 scheduler.patience: 10\n",
            "Epoch [52/100], Loss: 0.0000, F1: 1.0000\n",
            "scheduler.num_bad_epochs: 1 scheduler.patience: 10\n",
            "Epoch [53/100], Loss: 0.0000, F1: 1.0000\n",
            "scheduler.num_bad_epochs: 0 scheduler.patience: 10\n",
            "Epoch [54/100], Loss: 0.0000, F1: 1.0000\n",
            "scheduler.num_bad_epochs: 0 scheduler.patience: 10\n",
            "Epoch [55/100], Loss: 0.0000, F1: 1.0000\n",
            "scheduler.num_bad_epochs: 1 scheduler.patience: 10\n",
            "Epoch [56/100], Loss: 0.0000, F1: 1.0000\n",
            "scheduler.num_bad_epochs: 0 scheduler.patience: 10\n",
            "Epoch [57/100], Loss: 0.0000, F1: 1.0000\n",
            "scheduler.num_bad_epochs: 1 scheduler.patience: 10\n",
            "Epoch [58/100], Loss: 0.0126, F1: 0.9973\n",
            "scheduler.num_bad_epochs: 0 scheduler.patience: 10\n",
            "Epoch [59/100], Loss: 0.1928, F1: 0.9501\n",
            "scheduler.num_bad_epochs: 1 scheduler.patience: 10\n",
            "Epoch [60/100], Loss: 0.0313, F1: 0.9918\n",
            "scheduler.num_bad_epochs: 2 scheduler.patience: 10\n",
            "Epoch [61/100], Loss: 0.0060, F1: 0.9991\n",
            "scheduler.num_bad_epochs: 3 scheduler.patience: 10\n",
            "Epoch [62/100], Loss: 0.0013, F1: 1.0000\n",
            "scheduler.num_bad_epochs: 4 scheduler.patience: 10\n",
            "Epoch [63/100], Loss: 0.0004, F1: 1.0000\n",
            "scheduler.num_bad_epochs: 5 scheduler.patience: 10\n",
            "Epoch [64/100], Loss: 0.0001, F1: 1.0000\n",
            "scheduler.num_bad_epochs: 6 scheduler.patience: 10\n",
            "Epoch [65/100], Loss: 0.0001, F1: 1.0000\n",
            "scheduler.num_bad_epochs: 7 scheduler.patience: 10\n",
            "Epoch [66/100], Loss: 0.0000, F1: 1.0000\n",
            "scheduler.num_bad_epochs: 8 scheduler.patience: 10\n",
            "Epoch [67/100], Loss: 0.0000, F1: 1.0000\n",
            "scheduler.num_bad_epochs: 9 scheduler.patience: 10\n",
            "Epoch [68/100], Loss: 0.0000, F1: 1.0000\n",
            "scheduler.num_bad_epochs: 10 scheduler.patience: 10\n",
            "10 EPOCH 성능 개선 없어서 조기 종료\n",
            "Accuracy: 0.8035\n",
            "F1 Score: 0.8004\n"
          ]
        }
      ],
      "source": [
        "# 7. 모델 학습\n",
        "epochs = 100\n",
        "LOSS_HISTORY, SCORE_HISTORY = [[],[]],[[],[]]\n",
        "\n",
        "for epoch in range(epochs):\n",
        "    model.train()\n",
        "\n",
        "    epoch_loss = 0\n",
        "    train_pred = []\n",
        "    train_true = []\n",
        "\n",
        "    for features, targets in train_loader:\n",
        "        features, targets = features.to(DEVICE), targets.to(DEVICE)\n",
        "\n",
        "        optimizer.zero_grad()\n",
        "\n",
        "        outputs = model(features).view(-1)\n",
        "        predicted = torch.round(torch.sigmoid(outputs))\n",
        "        loss = criterion(outputs, targets.float())\n",
        "\n",
        "        loss.backward()\n",
        "        optimizer.step()\n",
        "\n",
        "        epoch_loss += loss.item()\n",
        "        train_pred.extend(predicted.detach().cpu().numpy())\n",
        "        train_true.extend(targets.detach().cpu().numpy())\n",
        "\n",
        "    train_f1 = f1_score(train_pred, train_true)\n",
        "    avg_loss_train = epoch_loss / len(train_loader)\n",
        "    print(f'Epoch [{epoch+1}/{epochs}], Loss: {avg_loss_train:.4f}, F1: {train_f1:.4f}')\n",
        "\n",
        "    LOSS_HISTORY[0].append(avg_loss_train)\n",
        "    SCORE_HISTORY[0].append(train_f1)\n",
        "\n",
        "    #검증\n",
        "    model.eval()\n",
        "\n",
        "    v_pred = []\n",
        "    v_true = []\n",
        "    v_loss = 0\n",
        "\n",
        "    with torch.no_grad():\n",
        "        for features, targets in val_loader:\n",
        "            outputs = model(features).view(-1)\n",
        "            predicted = torch.round(torch.sigmoid(outputs))  # 시그모이드 함수로 확률 변환\n",
        "            v_pred.extend(predicted.cpu().numpy())\n",
        "            v_true.extend(targets.cpu().numpy())\n",
        "            loss = criterion(outputs, targets.float())\n",
        "            v_loss += loss.item()\n",
        "\n",
        "        val_f1 = f1_score(train_pred, train_true)\n",
        "        avg_loss_val = epoch_loss / len(train_loader)\n",
        "\n",
        "        LOSS_HISTORY[1].append(avg_loss_val)\n",
        "        SCORE_HISTORY[1].append(val_f1)\n",
        "\n",
        "    #최적화 스케줄러 인스턴스 업데이트\n",
        "    scheduler.step(loss)\n",
        "    print(f'scheduler.num_bad_epochs: {scheduler.num_bad_epochs}',end=' ')\n",
        "    print(f'scheduler.patience: {scheduler.patience}')\n",
        "\n",
        "    if len(SCORE_HISTORY[1]) == 1:\n",
        "\n",
        "        # 첫번째라서 무조건 모델 파라미터 저장\n",
        "        torch.save(model.state_dict(),SAVE_PATH+SAVE_FILE)\n",
        "\n",
        "        # 모델 전체 저장\n",
        "        torch.save(model,SAVE_PATH+SAVE_MODEL)\n",
        "\n",
        "    else:\n",
        "        if SCORE_HISTORY[1][-1] >= max(SCORE_HISTORY[1]):\n",
        "            # torch.save(model.state_dict(),f'{SAVE_PATH}{SAVE_FILE}_{epoch}_{LOSS_HISTORY[1][-1]}')\n",
        "            torch.save(model.state_dict(),SAVE_PATH+SAVE_FILE)\n",
        "            # 모델 전체 저장\n",
        "            torch.save(model,SAVE_PATH+SAVE_MODEL)\n",
        "\n",
        "    #손실 감소(성능 개선) 안 되는 경우 조기 종료\n",
        "    if scheduler.num_bad_epochs >= scheduler.patience:\n",
        "        print(f'{scheduler.patience} EPOCH 성능 개선 없어서 조기 종료')\n",
        "        break\n",
        "\n",
        "#모델 평가\n",
        "model.eval()\n",
        "y_pred = []\n",
        "y_true = []\n",
        "\n",
        "with torch.no_grad():\n",
        "    for features, targets in test_loader:\n",
        "        features, targets = features.to(DEVICE), targets.to(DEVICE)\n",
        "        outputs = model(features).view(-1)\n",
        "        predicted = torch.round(torch.sigmoid(outputs))\n",
        "        y_pred.extend(predicted.cpu().numpy())\n",
        "        y_true.extend(targets.cpu().numpy())\n",
        "\n",
        "# 성능 지표 계산\n",
        "accuracy = accuracy_score(y_true, y_pred)\n",
        "f1 = f1_score(y_true, y_pred)\n",
        "\n",
        "print(f'Accuracy: {accuracy:.4f}')\n",
        "print(f'F1 Score: {f1:.4f}')"
      ]
    },
    {
      "cell_type": "code",
      "execution_count": 18,
      "metadata": {
        "id": "DufDz74rAoPZ"
      },
      "outputs": [
        {
          "ename": "MemoryError",
          "evalue": "Unable to allocate 186. GiB for an array with shape (5000432, 5000) and data type float64",
          "output_type": "error",
          "traceback": [
            "\u001b[1;31m---------------------------------------------------------------------------\u001b[0m",
            "\u001b[1;31mMemoryError\u001b[0m                               Traceback (most recent call last)",
            "Cell \u001b[1;32mIn[18], line 5\u001b[0m\n\u001b[0;32m      3\u001b[0m r_labels \u001b[38;5;241m=\u001b[39m result[\u001b[38;5;124m'\u001b[39m\u001b[38;5;124mei_type\u001b[39m\u001b[38;5;124m'\u001b[39m]\u001b[38;5;241m.\u001b[39mastype(\u001b[38;5;124m'\u001b[39m\u001b[38;5;124mfloat64\u001b[39m\u001b[38;5;124m'\u001b[39m)\u001b[38;5;241m.\u001b[39mvalues\n\u001b[0;32m      4\u001b[0m r_X \u001b[38;5;241m=\u001b[39m tfidf\u001b[38;5;241m.\u001b[39mfit_transform(r_posts)\n\u001b[1;32m----> 5\u001b[0m r_X_test_tensor \u001b[38;5;241m=\u001b[39m torch\u001b[38;5;241m.\u001b[39mFloatTensor(\u001b[43mr_X\u001b[49m\u001b[38;5;241;43m.\u001b[39;49m\u001b[43mtoarray\u001b[49m\u001b[43m(\u001b[49m\u001b[43m)\u001b[49m)\u001b[38;5;241m.\u001b[39mto(DEVICE)\n\u001b[0;32m      6\u001b[0m r_y_train_tensor \u001b[38;5;241m=\u001b[39m torch\u001b[38;5;241m.\u001b[39mLongTensor(r_labels)\u001b[38;5;241m.\u001b[39mto(DEVICE)\n\u001b[0;32m      7\u001b[0m r_val_dataset \u001b[38;5;241m=\u001b[39m MyDataset(x_val_tensor, y_val_tensor)\n",
            "File \u001b[1;32mc:\\Users\\desktop\\anaconda3\\envs\\TORCH_38\\lib\\site-packages\\scipy\\sparse\\_compressed.py:1051\u001b[0m, in \u001b[0;36m_cs_matrix.toarray\u001b[1;34m(self, order, out)\u001b[0m\n\u001b[0;32m   1049\u001b[0m \u001b[38;5;28;01mif\u001b[39;00m out \u001b[38;5;129;01mis\u001b[39;00m \u001b[38;5;28;01mNone\u001b[39;00m \u001b[38;5;129;01mand\u001b[39;00m order \u001b[38;5;129;01mis\u001b[39;00m \u001b[38;5;28;01mNone\u001b[39;00m:\n\u001b[0;32m   1050\u001b[0m     order \u001b[38;5;241m=\u001b[39m \u001b[38;5;28mself\u001b[39m\u001b[38;5;241m.\u001b[39m_swap(\u001b[38;5;124m'\u001b[39m\u001b[38;5;124mcf\u001b[39m\u001b[38;5;124m'\u001b[39m)[\u001b[38;5;241m0\u001b[39m]\n\u001b[1;32m-> 1051\u001b[0m out \u001b[38;5;241m=\u001b[39m \u001b[38;5;28;43mself\u001b[39;49m\u001b[38;5;241;43m.\u001b[39;49m\u001b[43m_process_toarray_args\u001b[49m\u001b[43m(\u001b[49m\u001b[43morder\u001b[49m\u001b[43m,\u001b[49m\u001b[43m \u001b[49m\u001b[43mout\u001b[49m\u001b[43m)\u001b[49m\n\u001b[0;32m   1052\u001b[0m \u001b[38;5;28;01mif\u001b[39;00m \u001b[38;5;129;01mnot\u001b[39;00m (out\u001b[38;5;241m.\u001b[39mflags\u001b[38;5;241m.\u001b[39mc_contiguous \u001b[38;5;129;01mor\u001b[39;00m out\u001b[38;5;241m.\u001b[39mflags\u001b[38;5;241m.\u001b[39mf_contiguous):\n\u001b[0;32m   1053\u001b[0m     \u001b[38;5;28;01mraise\u001b[39;00m \u001b[38;5;167;01mValueError\u001b[39;00m(\u001b[38;5;124m'\u001b[39m\u001b[38;5;124mOutput array must be C or F contiguous\u001b[39m\u001b[38;5;124m'\u001b[39m)\n",
            "File \u001b[1;32mc:\\Users\\desktop\\anaconda3\\envs\\TORCH_38\\lib\\site-packages\\scipy\\sparse\\_base.py:1298\u001b[0m, in \u001b[0;36mspmatrix._process_toarray_args\u001b[1;34m(self, order, out)\u001b[0m\n\u001b[0;32m   1296\u001b[0m     \u001b[38;5;28;01mreturn\u001b[39;00m out\n\u001b[0;32m   1297\u001b[0m \u001b[38;5;28;01melse\u001b[39;00m:\n\u001b[1;32m-> 1298\u001b[0m     \u001b[38;5;28;01mreturn\u001b[39;00m \u001b[43mnp\u001b[49m\u001b[38;5;241;43m.\u001b[39;49m\u001b[43mzeros\u001b[49m\u001b[43m(\u001b[49m\u001b[38;5;28;43mself\u001b[39;49m\u001b[38;5;241;43m.\u001b[39;49m\u001b[43mshape\u001b[49m\u001b[43m,\u001b[49m\u001b[43m \u001b[49m\u001b[43mdtype\u001b[49m\u001b[38;5;241;43m=\u001b[39;49m\u001b[38;5;28;43mself\u001b[39;49m\u001b[38;5;241;43m.\u001b[39;49m\u001b[43mdtype\u001b[49m\u001b[43m,\u001b[49m\u001b[43m \u001b[49m\u001b[43morder\u001b[49m\u001b[38;5;241;43m=\u001b[39;49m\u001b[43morder\u001b[49m\u001b[43m)\u001b[49m\n",
            "\u001b[1;31mMemoryError\u001b[0m: Unable to allocate 186. GiB for an array with shape (5000432, 5000) and data type float64"
          ]
        }
      ],
      "source": [
        "#텍스트와 라벨 데이터 준비\n",
        "r_posts = result['posts'].values\n",
        "r_labels = result['ei_type'].astype('float64').values\n",
        "r_X = tfidf.fit_transform(r_posts)\n",
        "r_X_test_tensor = torch.FloatTensor(r_X.toarray()).to(DEVICE)\n",
        "r_y_train_tensor = torch.LongTensor(r_labels).to(DEVICE)\n",
        "r_val_dataset = MyDataset(x_val_tensor, y_val_tensor)\n",
        "r_val_loader = DataLoader(dataset=val_dataset, batch_size=32, shuffle=False)\n",
        "model.eval()\n",
        "y_pred = []\n",
        "y_true = []\n",
        "\n",
        "with torch.no_grad():\n",
        "    for features, targets in r_val_loader:\n",
        "        outputs = model(features).view(-1)\n",
        "        predicted = torch.round(torch.sigmoid(outputs))  # 시그모이드 함수로 확률 변환\n",
        "        y_pred.extend(predicted.cpu().numpy())\n",
        "        y_true.extend(targets.cpu().numpy())\n",
        "\n",
        "#성능 지표 계산\n",
        "accuracy = accuracy_score(y_true, y_pred)\n",
        "f1 = f1_score(y_true, y_pred)\n",
        "\n",
        "print(f'Accuracy: {accuracy:.4f}')\n",
        "print(f'F1 Score: {f1:.4f}')"
      ]
    },
    {
      "cell_type": "code",
      "execution_count": 21,
      "metadata": {
        "id": "muqqPzIH8m-F"
      },
      "outputs": [
        {
          "data": {
            "image/png": "[encoded data removed]",
            "text/plain": [
              "<Figure size 1000x500 with 2 Axes>"
            ]
          },
          "metadata": {},
          "output_type": "display_data"
        }
      ],
      "source": [
        "#학습 결과 확인(학습과 검증의 Loss, 성능지표 변화 확인) w. 시각화\n",
        "\n",
        "th=len(SCORE_HISTORY[1])\n",
        "fg,axes=plt.subplots(1,2,figsize=(10,5),sharey=True)\n",
        "axes[0].plot(range(1,th+1),LOSS_HISTORY[0][:th],label='Train')\n",
        "axes[0].plot(range(1,th+1),LOSS_HISTORY[1][:th],label='Val')\n",
        "axes[0].set_ylim([0.5,0.8])\n",
        "axes[0].grid()\n",
        "axes[0].legend()\n",
        "\n",
        "axes[1].plot(range(1,th+1),SCORE_HISTORY[0][:th],label='Train')\n",
        "axes[1].plot(range(1,th+1),SCORE_HISTORY[1][:th],label='Val')\n",
        "axes[1].grid()\n",
        "\n",
        "axes[1].legend\n",
        "\n",
        "plt.show()"
      ]
    },
    {
      "cell_type": "code",
      "execution_count": null,
      "metadata": {
        "id": "Q9V74OAA8m-F"
      },
      "outputs": [],
      "source": []
    }
  ],
  "metadata": {
    "accelerator": "GPU",
    "colab": {
      "gpuType": "T4",
      "provenance": []
    },
    "kernelspec": {
      "display_name": "Python 3",
      "name": "python3"
    },
    "language_info": {
      "codemirror_mode": {
        "name": "ipython",
        "version": 3
      },
      "file_extension": ".py",
      "mimetype": "text/x-python",
      "name": "python",
      "nbconvert_exporter": "python",
      "pygments_lexer": "ipython3",
      "version": "3.8.19"
    }
  },
  "nbformat": 4,
  "nbformat_minor": 0
}
