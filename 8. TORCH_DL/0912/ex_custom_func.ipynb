{
 "cells": [
  {
   "cell_type": "markdown",
   "metadata": {},
   "source": [
    "[사용자 정의 함수]\n",
    "- - -\n",
    "- 함수 기능: 모델 학습 진행 함수\n",
    "- 함수 이름: training\n",
    "- 매개변수: 학습 구동 시 필요한 재료(학습을 위한 재료)\n",
    "    - 모델 인스턴스\n",
    "    - 학습용 데이터셋: feature, target(학습 전 tensor화 작업 필요)\n",
    "    - 손실 함수 인스턴스\n",
    "    - 최적화 인스턴스\n",
    "    - 학습 횟수: EPOCH\n",
    "    - 배치 크기: BATCH_SIZE\n",
    "    - 배치 개수: BATCH_CNT\n",
    "    - 검증용 데이터셋: feature, target(검증 전 tensor화 작업 필요)\n",
    "- 함수 결과: 학습 시 에포크 당 손실 값, 성능 지표 값, 검증 시 손실 값, 성능 지표 값 반환\n",
    "* * *\n",
    "- 함수 기능: 에포크 단위 모델 학습 진행 함수\n",
    "- 함수 이름: EPOCH_Training\n",
    "- 매개변수: 학습 구동 시 필요한 재료(학습을 위한 재료)\n",
    "    - 모델 인스턴스\n",
    "    - 학습용 데이터셋: feature, target(학습 전 tensor화 작업 필요)\n",
    "    - 손실 함수 인스턴스\n",
    "    - 최적화 인스턴스\n",
    "    - 배치 크기: BATCH_SIZE\n",
    "    - 배치 개수: BATCH_CNT\n",
    "- 함수 결과: 손실 값, 성능 지표 값\n"
   ]
  },
  {
   "cell_type": "code",
   "execution_count": 14,
   "metadata": {},
   "outputs": [],
   "source": [
    "#모듈 로딩\n",
    "import torch\n",
    "import torch.nn as nn\n",
    "import torch.nn.functional as F\n",
    "import torch.optim as optimizer\n",
    "from torchmetrics.regression import R2Score\n",
    "from torchmetrics.classification import F1Score"
   ]
  },
  {
   "cell_type": "code",
   "execution_count": 15,
   "metadata": {},
   "outputs": [],
   "source": [
    "device='cuda' if torch.cuda.is_available() else 'cpu'"
   ]
  },
  {
   "cell_type": "code",
   "execution_count": 16,
   "metadata": {},
   "outputs": [],
   "source": [
    "#에포크 당 학습 진행 후 손실값과 성능지표값 반환 함수\n",
    "def EPOCH_Training(model,feature,target,lossfunc,optimizer,batch_cnt,batch_size=32,is_class=True):\n",
    "    \n",
    "    #에포크에서 배치 크기만큼 데이터셋 추출 후 학습 진행\n",
    "    loss_total=0\n",
    "    score_total=0\n",
    "\n",
    "    for batch in range(batch_cnt):\n",
    "        #배치 크기만큼 추출 및 tensor화\n",
    "        start=batch*batch_size\n",
    "        end=start+batch_size\n",
    "\n",
    "        #feature,target: DF로 가정\n",
    "        x_train=torch.FloatTensor(feature[start:end].values).to(device)\n",
    "        y_train=torch.FloatTensor(target[start:end].values).to(device)\n",
    "\n",
    "        #학습 진행\n",
    "        pre_y=model(x_train).to(device)\n",
    "\n",
    "        #손실 계산\n",
    "        loss=lossfunc(pre_y,y_train)\n",
    "        loss_total+=loss\n",
    "\n",
    "        #점수 추출\n",
    "        score=F1Score()(pre_y,y_train) if is_class else R2Score()(pre_y,y_train)\n",
    "        score_total+=score\n",
    "\n",
    "        #최적화\n",
    "        optimizer.zero_grad()\n",
    "        loss.backward()\n",
    "        optimizer.step()\n",
    "\n",
    "    #에포크 당 손실값과 성능지표값 반환 \n",
    "    \n",
    "\n",
    "    #테스트 및 검증 함수 사용\n",
    "    return loss_total/batch_cnt,0"
   ]
  },
  {
   "cell_type": "code",
   "execution_count": 17,
   "metadata": {},
   "outputs": [],
   "source": [
    "#검증 및 테스트 진행 후 손실값과 성능지표값 반환 함수\n",
    "def testing(model,feature,target,lossfunc,scorefunc):\n",
    "    \n",
    "    #최적화 기능 비활성화 후 데이터셋 추출, 학습 진행\n",
    "    with torch.no_grad():\n",
    "        #tensor화\n",
    "        feature_ts=torch.FloatTensor(feature.values).to(device)\n",
    "        target_ts=torch.FloatTensor(target.values).to(device)\n",
    "\n",
    "        #학습 진행\n",
    "        pre_y=model(feature_ts).to(device)\n",
    "\n",
    "        #손실 계산\n",
    "        loss=lossfunc(pre_y,target_ts)\n",
    "\n",
    "        #점수 추출\n",
    "        score=scorefunc(pre_y,target_ts)\n",
    "\n",
    "    #손실값과 성능지표값 반환 \n",
    "    return loss,score"
   ]
  },
  {
   "cell_type": "code",
   "execution_count": null,
   "metadata": {},
   "outputs": [],
   "source": [
    "#학습 진행\n",
    "\n",
    "EPOCHS=10\n",
    "tv_loss={'train':[],'val':[]}\n",
    "tv_score={'train':[],'val': []}\n",
    "\n",
    "for epoch in range(EPOCHS):\n",
    "    #학습 진행\n",
    "    train_loss,train_score=EPOCH_Training()\n",
    "\n",
    "    #검증 진행\n",
    "    val_loss,val_score=testing()\n",
    "\n",
    "    #에포크 당 학습 및 검증 결과 저장\n",
    "    tv_loss['train'].append(train_loss)\n",
    "    tv_score['train'].append(train_score)\n",
    "\n",
    "    tv_loss['val'].append(val_loss)\n",
    "    tv_score['val'].append(val_score)\n",
    "\n",
    "    #에포크 당 학습 및 검증 결과 출력\n",
    "    print(f'[{epoch}/{EPOCHS}]\\n[TRAIN] loss: {train_loss}, score: {train_score}')\n",
    "    print(f'[VALID] loss: {val_loss}, score: {val_score}')"
   ]
  },
  {
   "cell_type": "code",
   "execution_count": null,
   "metadata": {},
   "outputs": [],
   "source": []
  }
 ],
 "metadata": {
  "kernelspec": {
   "display_name": "TORCH_38",
   "language": "python",
   "name": "python3"
  },
  "language_info": {
   "codemirror_mode": {
    "name": "ipython",
    "version": 3
   },
   "file_extension": ".py",
   "mimetype": "text/x-python",
   "name": "python",
   "nbconvert_exporter": "python",
   "pygments_lexer": "ipython3",
   "version": "3.8.19"
  }
 },
 "nbformat": 4,
 "nbformat_minor": 2
}
