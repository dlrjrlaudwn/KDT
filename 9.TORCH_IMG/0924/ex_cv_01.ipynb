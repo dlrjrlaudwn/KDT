{
 "cells": [
  {
   "cell_type": "markdown",
   "metadata": {},
   "source": [
    "[OpenCV 기본 사용법]"
   ]
  },
  {
   "cell_type": "code",
   "execution_count": 2,
   "metadata": {},
   "outputs": [],
   "source": [
    "import cv2\n",
    "import os\n",
    "import numpy as np"
   ]
  },
  {
   "cell_type": "code",
   "execution_count": 3,
   "metadata": {},
   "outputs": [],
   "source": [
    "#이미지 관련 공통 변수\n",
    "img_dir='../image/'"
   ]
  },
  {
   "cell_type": "markdown",
   "metadata": {},
   "source": [
    "[1] 이미지 읽기\n",
    "- ndarray 형태"
   ]
  },
  {
   "cell_type": "code",
   "execution_count": 4,
   "metadata": {},
   "outputs": [],
   "source": [
    "#이미지 파일 경로 + 파일명\n",
    "img_file=img_dir+'logo.png'\n",
    "\n",
    "#이미지 데이터\n",
    "img_data=cv2.imread(img_file)"
   ]
  },
  {
   "cell_type": "code",
   "execution_count": 5,
   "metadata": {},
   "outputs": [
    {
     "name": "stdout",
     "output_type": "stream",
     "text": [
      "shape (184, 544, 3)\n",
      "ndim 3D\n"
     ]
    }
   ],
   "source": [
    "#이미지 데이터 속성\n",
    "print('shape',img_data.shape)\n",
    "print(f'ndim {img_data.ndim}D')"
   ]
  },
  {
   "cell_type": "markdown",
   "metadata": {},
   "source": [
    "- 행/열 이 반대로 나옴 (가로=열, 세로 = 행)\n",
    "- 마지막 3: 컬러 이미지 뜻함(RGB)"
   ]
  },
  {
   "cell_type": "code",
   "execution_count": 6,
   "metadata": {},
   "outputs": [],
   "source": [
    "# flags=cv2.IMREAD_GRAYSCALE : 이미지 흑백처리\n",
    "gray_data=cv2.imread(img_file,flags=cv2.IMREAD_GRAYSCALE)"
   ]
  },
  {
   "cell_type": "code",
   "execution_count": 7,
   "metadata": {},
   "outputs": [
    {
     "name": "stdout",
     "output_type": "stream",
     "text": [
      "shape (184, 544)\n",
      "ndim 2D\n"
     ]
    }
   ],
   "source": [
    "print('shape',gray_data.shape)\n",
    "print(f'ndim {gray_data.ndim}D')"
   ]
  },
  {
   "cell_type": "markdown",
   "metadata": {},
   "source": [
    "[2] 이미지 화면 출력\n",
    "- imshow( )"
   ]
  },
  {
   "cell_type": "code",
   "execution_count": 8,
   "metadata": {},
   "outputs": [],
   "source": [
    "cv2.imshow('[IMG_DATA]',img_data)\n",
    "cv2.waitKey()"
   ]
  },
  {
   "cell_type": "code",
   "execution_count": 9,
   "metadata": {},
   "outputs": [
    {
     "name": "stdout",
     "output_type": "stream",
     "text": [
      "-1\n",
      "-1\n",
      "-1\n",
      "-1\n",
      "-1\n",
      "-1\n",
      "-1\n",
      "-1\n",
      "-1\n",
      "-1\n"
     ]
    }
   ],
   "source": [
    "#대기 중\n",
    "for _ in range(10):\n",
    "    print(cv2.waitKey(500))"
   ]
  },
  {
   "cell_type": "code",
   "execution_count": 15,
   "metadata": {},
   "outputs": [],
   "source": [
    "#이미지 창 띄우기\n",
    "cv2.imshow('[IMG_DATA]',img_data)       #컬러 이미지 창 하나\n",
    "cv2.imshow('[GRAY_DATA]',gray_data)     #흑백 이미지 창 하나\n",
    "\n",
    "#이미지 창 위에 이벤트 대기\n",
    "cv2.waitKey()\n",
    "\n",
    "#이미지 창 닫기 - 이미지 창 위에 커서 올리고 키보드 누르면 닫힘\n",
    "#cv2.destroyAllWindows()     #모든 창 한번에 닫기\n",
    "cv2.destroyWindow('[IMG_DATA]')     #닫을 창 이름 지정\n",
    "\n",
    "#1초 정지 후 창 닫힘\n",
    "import time\n",
    "time.sleep(1)   #초단위\n",
    "cv2.destroyWindow('[GRAY_DATA]')"
   ]
  },
  {
   "cell_type": "code",
   "execution_count": 19,
   "metadata": {},
   "outputs": [
    {
     "name": "stdout",
     "output_type": "stream",
     "text": [
      "key code: 115 s\n"
     ]
    }
   ],
   "source": [
    "#'x','X' 입력 시 모든 이미지 창 닫기\n",
    "\n",
    "#이미지 창 띄우기\n",
    "cv2.imshow('[IMG_DATA]',img_data)       \n",
    "cv2.imshow('[CRAY_DATA]',gray_data)\n",
    "\n",
    "while True: \n",
    "    #키보드 이벤트 대기\n",
    "    key_code=cv2.waitKey()\n",
    "    print('key code:',key_code,chr(key_code))   #key_code: 아스키 코드로 출력됨\n",
    "\n",
    "    if chr(key_code) in ['x','X']:\n",
    "        #모든 창 닫기\n",
    "        cv2.destroyAllWindows()\n",
    "        break\n",
    "    elif chr(key_code) in ['s','S']:\n",
    "        #이미지 저장\n",
    "        cv2.imwrite('copy.jpg', gray_data)\n",
    "\n",
    "        #모든 창 닫기\n",
    "        cv2.destroyAllWindows()\n",
    "        break"
   ]
  },
  {
   "cell_type": "code",
   "execution_count": null,
   "metadata": {},
   "outputs": [],
   "source": []
  }
 ],
 "metadata": {
  "kernelspec": {
   "display_name": "TORCH_CV_38",
   "language": "python",
   "name": "python3"
  },
  "language_info": {
   "codemirror_mode": {
    "name": "ipython",
    "version": 3
   },
   "file_extension": ".py",
   "mimetype": "text/x-python",
   "name": "python",
   "nbconvert_exporter": "python",
   "pygments_lexer": "ipython3",
   "version": "3.8.19"
  }
 },
 "nbformat": 4,
 "nbformat_minor": 2
}
