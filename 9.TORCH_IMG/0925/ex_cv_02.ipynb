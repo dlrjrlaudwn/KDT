{
 "cells": [
  {
   "cell_type": "markdown",
   "metadata": {},
   "source": [
    "[비디오 데이터 처리]\n",
    "- cv2. VideoCapture(동영상 또는 카메라 번호) 함수"
   ]
  },
  {
   "cell_type": "code",
   "execution_count": 1,
   "metadata": {},
   "outputs": [],
   "source": [
    "#모듈 로딩\n",
    "import cv2\n",
    "import numpy as np"
   ]
  },
  {
   "cell_type": "code",
   "execution_count": 2,
   "metadata": {},
   "outputs": [],
   "source": [
    "#데이터 및 디바이스 설정\n",
    "dir_path='../image/'\n",
    "\n",
    "cam_device=0\n",
    "#cam_file=' '   #동영상 파일 있을 때 쓰면 됨"
   ]
  },
  {
   "cell_type": "markdown",
   "metadata": {},
   "source": [
    "[카메라 관련 영상 처리]"
   ]
  },
  {
   "cell_type": "code",
   "execution_count": 3,
   "metadata": {},
   "outputs": [
    {
     "name": "stdout",
     "output_type": "stream",
     "text": [
      "True\n"
     ]
    }
   ],
   "source": [
    "#카메라와 연결 여부 체크\n",
    "cam=cv2.VideoCapture(cam_device)\n",
    "\n",
    "print(cam.isOpened())      #카메라 오픈 여부 확인 : T/F 반환"
   ]
  },
  {
   "cell_type": "code",
   "execution_count": 15,
   "metadata": {},
   "outputs": [
    {
     "data": {
      "text/plain": [
       "'52_25_07'"
      ]
     },
     "execution_count": 15,
     "metadata": {},
     "output_type": "execute_result"
    }
   ],
   "source": [
    "import time\n",
    "\n",
    "time.ctime()    #현재시각\n",
    "time.time()     #기준시각(1970-1-1 0:0:0)으로부터 얼마나 지났는지 초로 반환\n",
    "time.strftime('%M_%d_%S')   #내가 지정한 형식으로 반환"
   ]
  },
  {
   "cell_type": "code",
   "execution_count": 30,
   "metadata": {},
   "outputs": [
    {
     "name": "stdout",
     "output_type": "stream",
     "text": [
      "2024 9 25 10 18 6\n"
     ]
    }
   ],
   "source": [
    "#현재 날짜 시간 정보 저장 인스턴스\n",
    "cur__time=time.localtime()\n",
    "print(cur__time.tm_year,cur__time.tm_mon,cur__time.tm_mday,\n",
    "        cur__time.tm_hour,cur__time.tm_min,cur__time.tm_sec)"
   ]
  },
  {
   "cell_type": "code",
   "execution_count": 35,
   "metadata": {},
   "outputs": [
    {
     "data": {
      "text/plain": [
       "'2024년 09월 25일 10시 18분 06초'"
      ]
     },
     "execution_count": 35,
     "metadata": {},
     "output_type": "execute_result"
    }
   ],
   "source": [
    "time.strftime('%Y년 %m월 %d일 %H시 %M분 %S초',cur__time )"
   ]
  },
  {
   "cell_type": "code",
   "execution_count": 38,
   "metadata": {},
   "outputs": [
    {
     "data": {
      "text/plain": [
       "'capture_2024.09.25 10.18.06.jpg'"
      ]
     },
     "execution_count": 38,
     "metadata": {},
     "output_type": "execute_result"
    }
   ],
   "source": [
    "save_file=f'capture_{time.strftime(\"%Y.%m.%d %H.%M.%S\",cur__time)}.jpg'\n",
    "save_file"
   ]
  },
  {
   "cell_type": "code",
   "execution_count": 39,
   "metadata": {},
   "outputs": [
    {
     "name": "stdout",
     "output_type": "stream",
     "text": [
      "영상 재생 종료\n"
     ]
    }
   ],
   "source": [
    "if cam.isOpened():\n",
    "    while True:\n",
    "        ret,img=cam.read()    #ret: 이미지 있다 없다 반환\n",
    "        if ret:\n",
    "            cv2.imshow('video',img)\n",
    "            if cv2.waitKey(10) !=-1:      #영상은 1초(=1000ms)에 여러 프레임이 있으니까 짧은 시간을 줘야 함\n",
    "                print('영상 재생 종료')\n",
    "                save_file=f'capture_{time.strftime(\"%Y.%m.%d %H.%M.%S\",cur__time)}.jpg'\n",
    "                cv2.imwrite(dir_path+save_file,img)  #닫기 직전 화면 저장\n",
    "                cv2.destroyAllWindows()\n",
    "                break\n",
    "        else:\n",
    "            print('영상 읽기 실패')\n",
    "            break\n",
    "else:\n",
    "    print('카메라 연결 불가')"
   ]
  },
  {
   "cell_type": "code",
   "execution_count": null,
   "metadata": {},
   "outputs": [],
   "source": []
  }
 ],
 "metadata": {
  "kernelspec": {
   "display_name": "TORCH_CV_38",
   "language": "python",
   "name": "python3"
  },
  "language_info": {
   "codemirror_mode": {
    "name": "ipython",
    "version": 3
   },
   "file_extension": ".py",
   "mimetype": "text/x-python",
   "name": "python",
   "nbconvert_exporter": "python",
   "pygments_lexer": "ipython3",
   "version": "3.8.19"
  }
 },
 "nbformat": 4,
 "nbformat_minor": 2
}
