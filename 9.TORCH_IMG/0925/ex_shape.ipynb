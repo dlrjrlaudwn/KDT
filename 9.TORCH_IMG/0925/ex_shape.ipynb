{
 "cells": [
  {
   "cell_type": "markdown",
   "metadata": {},
   "source": [
    "[ndarray & tensor 차원 축소 / 차원 추가]\n",
    "- 모델에 데이터 입·출력 시 shape 설정을 위해 필요"
   ]
  },
  {
   "cell_type": "code",
   "execution_count": 1,
   "metadata": {},
   "outputs": [],
   "source": [
    "#모듈 로딩\n",
    "import cv2\n",
    "import numpy as np\n",
    "import torch"
   ]
  },
  {
   "cell_type": "code",
   "execution_count": 2,
   "metadata": {},
   "outputs": [
    {
     "data": {
      "text/plain": [
       "((200, 100), 2)"
      ]
     },
     "execution_count": 2,
     "metadata": {},
     "output_type": "execute_result"
    }
   ],
   "source": [
    "#임의의 데이터 생성\n",
    "data=np.full((200,100),7)\n",
    "data.shape, data.ndim"
   ]
  },
  {
   "cell_type": "markdown",
   "metadata": {},
   "source": [
    "[차원 추가]\n",
    "- numpy\n",
    "    - ndarray.reshape()\n",
    "    - np.expand_dims()\n",
    "    - np.newaxis"
   ]
  },
  {
   "cell_type": "code",
   "execution_count": 4,
   "metadata": {},
   "outputs": [
    {
     "data": {
      "text/plain": [
       "((200, 100, 1), 3)"
      ]
     },
     "execution_count": 4,
     "metadata": {},
     "output_type": "execute_result"
    }
   ],
   "source": [
    "#numpy 기반\n",
    "# - 채널 차원 추가: 흑백 -> 컬러\n",
    "#   - with. ndarry.reshape()\n",
    "data_r=data.reshape((200,100,1))\n",
    "data_r.shape, data_r.ndim"
   ]
  },
  {
   "cell_type": "code",
   "execution_count": 5,
   "metadata": {},
   "outputs": [
    {
     "data": {
      "text/plain": [
       "((200, 100, 1), 3)"
      ]
     },
     "execution_count": 5,
     "metadata": {},
     "output_type": "execute_result"
    }
   ],
   "source": [
    "#numpy 기반\n",
    "# - 채널 차원 추가: 흑백 -> 컬러\n",
    "#   - with. np.expand_dims()\n",
    "data_e=np.expand_dims(data,axis=2)\n",
    "data_e.shape, data_e.ndim"
   ]
  },
  {
   "cell_type": "code",
   "execution_count": 8,
   "metadata": {},
   "outputs": [
    {
     "data": {
      "text/plain": [
       "((1, 200, 100), 3)"
      ]
     },
     "execution_count": 8,
     "metadata": {},
     "output_type": "execute_result"
    }
   ],
   "source": [
    "#numpy 기반\n",
    "# - 채널 차원 추가: 흑백 -> 컬러\n",
    "#   - with. np.expand_dims()\n",
    "data_e2=np.expand_dims(data,axis=0)\n",
    "data_e2.shape, data_e2.ndim"
   ]
  },
  {
   "cell_type": "code",
   "execution_count": 6,
   "metadata": {},
   "outputs": [
    {
     "data": {
      "text/plain": [
       "((200, 100, 1), 3)"
      ]
     },
     "execution_count": 6,
     "metadata": {},
     "output_type": "execute_result"
    }
   ],
   "source": [
    "#numpy 기반\n",
    "# - 채널 차원 추가: 흑백 -> 컬러\n",
    "#   - with. np.newaxis\n",
    "data_n=data[:,:,np.newaxis]\n",
    "data_n.shape, data_n.ndim"
   ]
  },
  {
   "cell_type": "code",
   "execution_count": 7,
   "metadata": {},
   "outputs": [
    {
     "data": {
      "text/plain": [
       "((200, 1, 100), 3)"
      ]
     },
     "execution_count": 7,
     "metadata": {},
     "output_type": "execute_result"
    }
   ],
   "source": [
    "#numpy 기반\n",
    "# - 채널 차원 추가: 흑백 -> 컬러\n",
    "#   - with. np.newaxis\n",
    "data_n2=data[:,np.newaxis,:]\n",
    "data_n2.shape, data_n2.ndim"
   ]
  },
  {
   "cell_type": "markdown",
   "metadata": {},
   "source": [
    "[차원 추가]\n",
    "- pytorch\n",
    "    - reshape()\n",
    "    - unsqueeze(dim=숫자)"
   ]
  },
  {
   "cell_type": "code",
   "execution_count": 9,
   "metadata": {},
   "outputs": [
    {
     "name": "stdout",
     "output_type": "stream",
     "text": [
      "<class 'numpy.ndarray'> (200, 100) 2\n"
     ]
    }
   ],
   "source": [
    "print(type(data),data.shape,data.ndim)"
   ]
  },
  {
   "cell_type": "code",
   "execution_count": 26,
   "metadata": {},
   "outputs": [
    {
     "data": {
      "text/plain": [
       "torch.Size([200, 100])"
      ]
     },
     "execution_count": 26,
     "metadata": {},
     "output_type": "execute_result"
    }
   ],
   "source": [
    "dataTS=torch.IntTensor(data)\n",
    "dataTS.shape"
   ]
  },
  {
   "cell_type": "code",
   "execution_count": 36,
   "metadata": {},
   "outputs": [
    {
     "data": {
      "text/plain": [
       "torch.Size([200, 100, 1])"
      ]
     },
     "execution_count": 36,
     "metadata": {},
     "output_type": "execute_result"
    }
   ],
   "source": [
    "#pytorch 기반\n",
    "# - 채널 차원 추가: 흑백 -> 컬러\n",
    "#   - with. reshape()\n",
    "dataTS2=dataTS.reshape((200,100,1))\n",
    "dataTS2.shape"
   ]
  },
  {
   "cell_type": "code",
   "execution_count": 37,
   "metadata": {},
   "outputs": [
    {
     "data": {
      "text/plain": [
       "torch.Size([1, 200, 100])"
      ]
     },
     "execution_count": 37,
     "metadata": {},
     "output_type": "execute_result"
    }
   ],
   "source": [
    "#pytorch 기반\n",
    "# - 채널 차원 추가: 흑백 -> 컬러\n",
    "#   - with. unsqueeze(dim=숫자)\n",
    "dataTS2=dataTS.unsqueeze(dim=0)\n",
    "dataTS2.shape"
   ]
  },
  {
   "cell_type": "code",
   "execution_count": 38,
   "metadata": {},
   "outputs": [
    {
     "data": {
      "text/plain": [
       "torch.Size([200, 1, 100])"
      ]
     },
     "execution_count": 38,
     "metadata": {},
     "output_type": "execute_result"
    }
   ],
   "source": [
    "#pytorch 기반\n",
    "# - 채널 차원 추가: 흑백 -> 컬러\n",
    "#   - with. unsqueeze(dim=숫자)\n",
    "dataTS2=dataTS.unsqueeze(dim=1)\n",
    "dataTS2.shape"
   ]
  },
  {
   "cell_type": "code",
   "execution_count": 39,
   "metadata": {},
   "outputs": [
    {
     "data": {
      "text/plain": [
       "torch.Size([200, 100, 1])"
      ]
     },
     "execution_count": 39,
     "metadata": {},
     "output_type": "execute_result"
    }
   ],
   "source": [
    "#pytorch 기반\n",
    "# - 채널 차원 추가: 흑백 -> 컬러\n",
    "#   - with. unsqueeze(dim=숫자)\n",
    "dataTS2=dataTS.unsqueeze(dim=2)\n",
    "dataTS2.shape"
   ]
  },
  {
   "cell_type": "code",
   "execution_count": 40,
   "metadata": {},
   "outputs": [
    {
     "ename": "IndexError",
     "evalue": "Dimension out of range (expected to be in range of [-3, 2], but got 3)",
     "output_type": "error",
     "traceback": [
      "\u001b[1;31m---------------------------------------------------------------------------\u001b[0m",
      "\u001b[1;31mIndexError\u001b[0m                                Traceback (most recent call last)",
      "Cell \u001b[1;32mIn[40], line 4\u001b[0m\n\u001b[0;32m      1\u001b[0m \u001b[38;5;66;03m#pytorch 기반\u001b[39;00m\n\u001b[0;32m      2\u001b[0m \u001b[38;5;66;03m# - 채널 차원 추가: 흑백 -> 컬러\u001b[39;00m\n\u001b[0;32m      3\u001b[0m \u001b[38;5;66;03m#   - with. unsqueeze(dim=숫자)\u001b[39;00m\n\u001b[1;32m----> 4\u001b[0m dataTS2\u001b[38;5;241m=\u001b[39m\u001b[43mdataTS\u001b[49m\u001b[38;5;241;43m.\u001b[39;49m\u001b[43munsqueeze\u001b[49m\u001b[43m(\u001b[49m\u001b[43mdim\u001b[49m\u001b[38;5;241;43m=\u001b[39;49m\u001b[38;5;241;43m3\u001b[39;49m\u001b[43m)\u001b[49m\n\u001b[0;32m      5\u001b[0m dataTS2\u001b[38;5;241m.\u001b[39mshape\n",
      "\u001b[1;31mIndexError\u001b[0m: Dimension out of range (expected to be in range of [-3, 2], but got 3)"
     ]
    }
   ],
   "source": [
    "#pytorch 기반\n",
    "# - 채널 차원 추가: 흑백 -> 컬러\n",
    "#   - with. unsqueeze(dim=숫자)\n",
    "dataTS2=dataTS.unsqueeze(dim=3)     #없는 차원은 error\n",
    "dataTS2.shape"
   ]
  },
  {
   "cell_type": "markdown",
   "metadata": {},
   "source": [
    "[shape 변경]\n",
    "- numpy, pytorch\n",
    "    - T\n",
    "    - transpose()\n",
    "    - permute()"
   ]
  },
  {
   "cell_type": "code",
   "execution_count": 41,
   "metadata": {},
   "outputs": [
    {
     "data": {
      "text/plain": [
       "torch.Size([200, 100, 1])"
      ]
     },
     "execution_count": 41,
     "metadata": {},
     "output_type": "execute_result"
    }
   ],
   "source": [
    "#pytorch 기반\n",
    "# - shape 변경\n",
    "#   - with. T\n",
    "dataTS2.shape"
   ]
  },
  {
   "cell_type": "code",
   "execution_count": 42,
   "metadata": {},
   "outputs": [
    {
     "data": {
      "text/plain": [
       "torch.Size([1, 100, 200])"
      ]
     },
     "execution_count": 42,
     "metadata": {},
     "output_type": "execute_result"
    }
   ],
   "source": [
    "dataTS2.T.shape"
   ]
  },
  {
   "cell_type": "code",
   "execution_count": 43,
   "metadata": {},
   "outputs": [
    {
     "data": {
      "text/plain": [
       "torch.Size([200, 100, 1, 1])"
      ]
     },
     "execution_count": 43,
     "metadata": {},
     "output_type": "execute_result"
    }
   ],
   "source": [
    "dataTS3=data_r_t.unsqueeze(dim=3)\n",
    "dataTS3.shape"
   ]
  },
  {
   "cell_type": "code",
   "execution_count": 44,
   "metadata": {},
   "outputs": [
    {
     "name": "stdout",
     "output_type": "stream",
     "text": [
      "torch.Size([200, 100])\n",
      "torch.Size([200, 100, 1])\n",
      "torch.Size([200, 100, 1, 1])\n"
     ]
    }
   ],
   "source": [
    "print(dataTS.shape)\n",
    "print(dataTS2.shape)\n",
    "print(dataTS3.shape)"
   ]
  },
  {
   "cell_type": "code",
   "execution_count": 45,
   "metadata": {},
   "outputs": [
    {
     "name": "stdout",
     "output_type": "stream",
     "text": [
      "torch.Size([100, 200])\n",
      "torch.Size([1, 100, 200])\n",
      "torch.Size([1, 1, 100, 200])\n"
     ]
    }
   ],
   "source": [
    "print(dataTS.T.shape)\n",
    "print(dataTS2.T.shape)\n",
    "print(dataTS3.T.shape)"
   ]
  },
  {
   "cell_type": "code",
   "execution_count": 46,
   "metadata": {},
   "outputs": [
    {
     "name": "stdout",
     "output_type": "stream",
     "text": [
      "torch.Size([200, 100])\n",
      "torch.Size([200, 100, 1])\n",
      "torch.Size([200, 100, 1, 1])\n"
     ]
    }
   ],
   "source": [
    "#pytorch 기반\n",
    "# - shape 변경\n",
    "#   - with. transpose() : 두개의 축만 내가 원하는대로 바꿀 수 있음\n",
    "\n",
    "print(dataTS.shape)\n",
    "print(dataTS2.shape)\n",
    "print(dataTS3.shape)"
   ]
  },
  {
   "cell_type": "code",
   "execution_count": 47,
   "metadata": {},
   "outputs": [
    {
     "name": "stdout",
     "output_type": "stream",
     "text": [
      "torch.Size([200, 1, 100])\n"
     ]
    }
   ],
   "source": [
    "print(dataTS2.transpose(1,2).shape)"
   ]
  },
  {
   "cell_type": "code",
   "execution_count": 48,
   "metadata": {},
   "outputs": [
    {
     "name": "stdout",
     "output_type": "stream",
     "text": [
      "torch.Size([200, 1, 1, 100])\n"
     ]
    }
   ],
   "source": [
    "print(dataTS3.transpose(1,3).shape)"
   ]
  },
  {
   "cell_type": "code",
   "execution_count": 49,
   "metadata": {},
   "outputs": [
    {
     "name": "stdout",
     "output_type": "stream",
     "text": [
      "torch.Size([200, 100, 1])\n",
      "torch.Size([1, 200, 100])\n"
     ]
    }
   ],
   "source": [
    "#pytorch 기반\n",
    "# - shape 변경\n",
    "#   - with. permute() : 모든 축을 내가 원하는대로 바꿀 수 있음\n",
    "\n",
    "print(dataTS2.shape)\n",
    "print(dataTS2.permute((2,0,1)).shape)"
   ]
  },
  {
   "cell_type": "markdown",
   "metadata": {},
   "source": [
    "[차원 제거]\n",
    "- numpy, pytorch\n",
    "    - reshape()\n",
    "    - squeeze() : 1차원 형태의 축 모두 제거"
   ]
  },
  {
   "cell_type": "code",
   "execution_count": 51,
   "metadata": {},
   "outputs": [
    {
     "name": "stdout",
     "output_type": "stream",
     "text": [
      "(200, 100, 1)\n",
      "(200, 1, 100, 1)\n"
     ]
    }
   ],
   "source": [
    "data2=np.expand_dims(data,axis=2)\n",
    "data3=np.expand_dims(data2,axis=1)\n",
    "\n",
    "print(data2.shape)\n",
    "print(data3.shape)"
   ]
  },
  {
   "cell_type": "code",
   "execution_count": 53,
   "metadata": {},
   "outputs": [
    {
     "name": "stdout",
     "output_type": "stream",
     "text": [
      "(200, 100)\n",
      "(200, 100)\n"
     ]
    }
   ],
   "source": [
    "#numpy 기반\n",
    "# 1차원 축 제거\n",
    "#  - with. reshape()\n",
    "print(data2.reshape(200,-1).shape)\n",
    "print(data3.reshape(200,-1).shape)"
   ]
  },
  {
   "cell_type": "code",
   "execution_count": 54,
   "metadata": {},
   "outputs": [
    {
     "name": "stdout",
     "output_type": "stream",
     "text": [
      "(200, 100)\n",
      "(200, 100)\n"
     ]
    }
   ],
   "source": [
    "#numpy 기반\n",
    "# 1차원 축 제거\n",
    "#  - with. squeeze()\n",
    "print(data2.squeeze().shape)\n",
    "print(data3.squeeze().shape)"
   ]
  },
  {
   "cell_type": "code",
   "execution_count": 57,
   "metadata": {},
   "outputs": [
    {
     "name": "stdout",
     "output_type": "stream",
     "text": [
      "(200, 1, 100, 1)\n",
      "(200, 100, 1)\n"
     ]
    }
   ],
   "source": [
    "print(data3.shape)\n",
    "\n",
    "#(200,1,100,1)\n",
    "#  0  1  2  3  번째 축\n",
    "\n",
    "print(data3.squeeze(axis=1).shape)  #squeeze(axis=1): 1번째 축이 1차원이면 제거, 아니면 에러"
   ]
  },
  {
   "cell_type": "code",
   "execution_count": 58,
   "metadata": {},
   "outputs": [
    {
     "name": "stdout",
     "output_type": "stream",
     "text": [
      "torch.Size([200, 100, 1])\n",
      "torch.Size([200, 1, 100, 1])\n"
     ]
    }
   ],
   "source": [
    "data2=np.expand_dims(data,axis=2)\n",
    "data3=np.expand_dims(data2,axis=1)\n",
    "\n",
    "dataTS2=torch.IntTensor(data2)\n",
    "dataTS3=torch.IntTensor(data3)\n",
    "\n",
    "print(dataTS2.shape)\n",
    "print(dataTS3.shape)"
   ]
  },
  {
   "cell_type": "code",
   "execution_count": 59,
   "metadata": {},
   "outputs": [
    {
     "name": "stdout",
     "output_type": "stream",
     "text": [
      "torch.Size([200, 100])\n",
      "torch.Size([200, 100])\n"
     ]
    }
   ],
   "source": [
    "#pytorch 기반\n",
    "# 1차원 축 제거\n",
    "#  - with. reshape()\n",
    "print(dataTS2.reshape(200,-1).shape)\n",
    "print(dataTS3.reshape(200,-1).shape)"
   ]
  },
  {
   "cell_type": "code",
   "execution_count": 60,
   "metadata": {},
   "outputs": [
    {
     "name": "stdout",
     "output_type": "stream",
     "text": [
      "torch.Size([200, 100])\n",
      "torch.Size([200, 100])\n"
     ]
    }
   ],
   "source": [
    "#pytorch 기반\n",
    "# 1차원 축 제거\n",
    "#  - with. squeeze()\n",
    "print(dataTS2.squeeze().shape)\n",
    "print(dataTS3.squeeze().shape)"
   ]
  },
  {
   "cell_type": "code",
   "execution_count": 63,
   "metadata": {},
   "outputs": [
    {
     "name": "stdout",
     "output_type": "stream",
     "text": [
      "torch.Size([200, 1, 100, 1])\n",
      "torch.Size([200, 100, 1])\n"
     ]
    }
   ],
   "source": [
    "print(dataTS3.shape)\n",
    "print(dataTS3.squeeze(dim=1).shape)"
   ]
  },
  {
   "cell_type": "code",
   "execution_count": 62,
   "metadata": {},
   "outputs": [
    {
     "name": "stdout",
     "output_type": "stream",
     "text": [
      "torch.Size([200, 1, 100, 1])\n"
     ]
    }
   ],
   "source": [
    "print(dataTS3.squeeze(dim=0).shape)     #pytorch에서는 1차원이 아니어도 에러 X"
   ]
  },
  {
   "cell_type": "code",
   "execution_count": 65,
   "metadata": {},
   "outputs": [
    {
     "name": "stdout",
     "output_type": "stream",
     "text": [
      "torch.Size([200, 100, 1])\n",
      "torch.Size([200, 100, 1])\n"
     ]
    }
   ],
   "source": [
    "print(dataTS3.squeeze_(dim=1).shape)    #pytorch에서는 메서드 뒤에 '_()'  붙으면 원본이 바뀜 (like Pandas inplace=True)\n",
    "print(dataTS3.shape)"
   ]
  },
  {
   "cell_type": "code",
   "execution_count": null,
   "metadata": {},
   "outputs": [],
   "source": []
  }
 ],
 "metadata": {
  "kernelspec": {
   "display_name": "TORCH_CV_38",
   "language": "python",
   "name": "python3"
  },
  "language_info": {
   "codemirror_mode": {
    "name": "ipython",
    "version": 3
   },
   "file_extension": ".py",
   "mimetype": "text/x-python",
   "name": "python",
   "nbconvert_exporter": "python",
   "pygments_lexer": "ipython3",
   "version": "3.8.19"
  }
 },
 "nbformat": 4,
 "nbformat_minor": 2
}
