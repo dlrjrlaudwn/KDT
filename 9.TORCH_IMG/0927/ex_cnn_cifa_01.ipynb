{
 "cells": [
  {
   "cell_type": "markdown",
   "metadata": {},
   "source": [
    "[CNN 이미지 분류 모델]\n",
    "- 이미지 데이터셋 준비\n",
    "    - torchvision 내장 데이터셋 활용: CIFA 10\n",
    "- 이미지 분류 모델\n",
    "    - 커스텀 CNN 구현"
   ]
  },
  {
   "cell_type": "markdown",
   "metadata": {},
   "source": [
    "- - -\n",
    "[1] 모듈 로딩 및 데이터 준비"
   ]
  },
  {
   "cell_type": "code",
   "execution_count": 11,
   "metadata": {},
   "outputs": [],
   "source": [
    "#모듈 로딩\n",
    "import torch\n",
    "import torch.nn\n",
    "from torchvision.datasets import CIFAR10  \n",
    "from torchvision.transforms import ToTensor     #torchvision 데이터 변환 관련 모듈\n",
    "from torch.utils.data import DataLoader         #데이터셋 관련 모듈듈\n",
    "import matplotlib.pyplot as plt"
   ]
  },
  {
   "cell_type": "code",
   "execution_count": 12,
   "metadata": {},
   "outputs": [
    {
     "name": "stdout",
     "output_type": "stream",
     "text": [
      "Files already downloaded and verified\n"
     ]
    }
   ],
   "source": [
    "#데이터 로딩\n",
    "dir_path='../data/'\n",
    "\n",
    "#pytorch의 dataset 형태 로딩\n",
    "cifar_ds=CIFAR10(dir_path,train=True,download=True,transform=ToTensor())"
   ]
  },
  {
   "cell_type": "code",
   "execution_count": 13,
   "metadata": {},
   "outputs": [
    {
     "data": {
      "text/plain": [
       "torchvision.datasets.cifar.CIFAR10"
      ]
     },
     "execution_count": 13,
     "metadata": {},
     "output_type": "execute_result"
    }
   ],
   "source": [
    "type(cifar_ds)"
   ]
  },
  {
   "cell_type": "code",
   "execution_count": 14,
   "metadata": {},
   "outputs": [
    {
     "name": "stdout",
     "output_type": "stream",
     "text": [
      "classes: ['airplane', 'automobile', 'bird', 'cat', 'deer', 'dog', 'frog', 'horse', 'ship', 'truck']\n",
      "class_to_idx: {'airplane': 0, 'automobile': 1, 'bird': 2, 'cat': 3, 'deer': 4, 'dog': 5, 'frog': 6, 'horse': 7, 'ship': 8, 'truck': 9}\n",
      "shape: (50000, 32, 32, 3)\n",
      "len(cifar_Ds.targets): 50000\n"
     ]
    }
   ],
   "source": [
    "#dataset 속성 확인\n",
    "print(f'classes: {cifar_ds.classes}')\n",
    "print(f'class_to_idx: {cifar_ds.class_to_idx}')\n",
    "print(f'shape: {cifar_ds.data.shape}')\n",
    "print(f'len(cifar_Ds.targets): {len(cifar_ds.targets)}')"
   ]
  },
  {
   "cell_type": "markdown",
   "metadata": {},
   "source": [
    "- - -\n",
    "[2] 데이터 로더\n",
    "- 학습 시 배치 크기만큼 데이터와 타겟(라벨) 로딩"
   ]
  },
  {
   "cell_type": "code",
   "execution_count": 15,
   "metadata": {},
   "outputs": [],
   "source": [
    "batch_size=50\n",
    "\n",
    "cifar_dl=DataLoader(cifar_ds)   #배치사이즈는 디폴트가 1 => 1만 해서 데이터 잘 가져오는 지 확인 먼저"
   ]
  },
  {
   "cell_type": "code",
   "execution_count": 16,
   "metadata": {},
   "outputs": [
    {
     "name": "stdout",
     "output_type": "stream",
     "text": [
      "tensor([6])\n",
      "torch.Size([1, 3, 32, 32])\n"
     ]
    }
   ],
   "source": [
    "for data,target in cifar_dl:\n",
    "    print(target)\n",
    "    print(data.shape)       #print 결과: 배치사이즈, 채널(컬러 이미지라서 3), height, width\n",
    "    break"
   ]
  },
  {
   "cell_type": "code",
   "execution_count": 17,
   "metadata": {},
   "outputs": [
    {
     "name": "stdout",
     "output_type": "stream",
     "text": [
      "tensor([6])\n",
      "(3, 32, 32)\n"
     ]
    }
   ],
   "source": [
    "for data,target in cifar_dl:\n",
    "    print(target)\n",
    "    print(data.numpy().squeeze().shape)\n",
    "    break"
   ]
  },
  {
   "cell_type": "code",
   "execution_count": 18,
   "metadata": {},
   "outputs": [
    {
     "name": "stdout",
     "output_type": "stream",
     "text": [
      "tensor([6])\n",
      "torch.Size([1, 3, 32, 32])\n",
      "(3, 32, 32)\n",
      "(32, 32, 3)\n"
     ]
    }
   ],
   "source": [
    "for data,target in cifar_dl:\n",
    "    print(target)\n",
    "    print(data.shape)\n",
    "    data=data.numpy().squeeze()\n",
    "    print(data.shape)\n",
    "    print(data.T.shape)\n",
    "    break"
   ]
  },
  {
   "cell_type": "code",
   "execution_count": 19,
   "metadata": {},
   "outputs": [
    {
     "name": "stdout",
     "output_type": "stream",
     "text": [
      "tensor([6])\n",
      "torch.Size([1, 3, 32, 32])\n"
     ]
    },
    {
     "data": {
      "image/png": "[encoded data removed]",
      "text/plain": [
       "<Figure size 640x480 with 1 Axes>"
      ]
     },
     "metadata": {},
     "output_type": "display_data"
    }
   ],
   "source": [
    "#dataset & dataloader 테스트\n",
    "\n",
    "for data,target in cifar_dl:\n",
    "    print(target)\n",
    "    print(data.shape)\n",
    "    data1=data.squeeze()\n",
    "    plt.imshow(data1.transpose(0,2))\n",
    "    plt.title(cifar_ds.classes[target.item()])\n",
    "    break"
   ]
  },
  {
   "cell_type": "markdown",
   "metadata": {},
   "source": [
    "- - -\n",
    "[3] 커스텀 모델 설계 및 정의\n",
    "- 이미지 분류 모델\n",
    "    - 학습 방법: 지도 학습 > 분류 > 다중 분류(10가지)\n",
    "    - 클래스 이름: Img_MCF\n",
    "    - 클래스 구조: 특징 추출 부분 CNN + 학습 부분 FC\n",
    "    - 부모 클래스: nn.Module"
   ]
  },
  {
   "cell_type": "code",
   "execution_count": 20,
   "metadata": {},
   "outputs": [],
   "source": [
    "import torch.nn as nn\n",
    "import torch.nn.functional as F"
   ]
  },
  {
   "cell_type": "code",
   "execution_count": 21,
   "metadata": {},
   "outputs": [],
   "source": [
    "class Img_MCF(nn.Module):\n",
    "    #모델 구조 설계: 생성자 메서드\n",
    "    def __init__(self):\n",
    "        #부모 생성\n",
    "        super().__init__()\n",
    "\n",
    "        #모델 층 구성\n",
    "        # 1. 특징 추출 층\n",
    "        self.in_layer=nn.Conv2d(3, 10, 3)    #shape: [배치사이즈, 채널, H, W] = in [1,3,32,32], out [1,10,32,32]\n",
    "        self.in_layer=nn.Conv2d(10, 50, 3)\n",
    "        self.in_layer=nn.Conv2d(50, 10, 3)\n",
    "        self.p_layer=nn.MaxPool2d(2,stride=2)\n",
    "\n",
    "        # 2. 학습 관련 층\n",
    "        self.hd_layer=nn.Linear(10*15*15,50)\n",
    "        self.out_layer=nn.Linear(50,10)\n",
    "\n",
    "    #전방향(순방향) 학습 메서드\n",
    "    def forward(self,input):\n",
    "        output=self.in_layer(input)\n",
    "        print(f'[output 1] {output.shape}')\n",
    "\n",
    "        output=F.relu(output)\n",
    "        print(f'[output 2] {output.shape}')\n",
    "\n",
    "        output=self.p_layer(output)\n",
    "        print(f'[output 3] {output.shape}')\n",
    "\n",
    "        #4D - 2D (샘플 수, 피쳐 수)\n",
    "        output=output.view(output.shape[0],-1)\n",
    "        print(f'[output 4] {output.shape}')\n",
    "\n",
    "        output=F.relu(self.hd_layer(output))\n",
    "        print(f'[output 5] {output.shape}')\n",
    "\n",
    "        output=self.out_layer(output)\n",
    "        print(f'[output 6] {output.shape}')\n",
    "\n",
    "        return output"
   ]
  },
  {
   "cell_type": "code",
   "execution_count": 22,
   "metadata": {},
   "outputs": [],
   "source": [
    "class Img_MCF2(nn.Module):\n",
    "    #모델 구조 설계: 생성자 메서드\n",
    "    def __init__(self):\n",
    "        #부모 생성\n",
    "        super().__init__()\n",
    "\n",
    "        #모델 층 구성\n",
    "        # 1. 특징 추출 층\n",
    "        self.cnn_layer=nn.Sequential(\n",
    "            nn.Conv2d(3,10,3),\n",
    "            nn.ReLU(),\n",
    "            nn.MaxPool2d(2,stride=2)\n",
    "        )\n",
    "\n",
    "        self.cnn_layer2=nn.Sequential(\n",
    "            nn.Conv2d(10,30,3),\n",
    "            nn.ReLU(),\n",
    "            nn.MaxPool2d(2,stride=2)\n",
    "        )\n",
    "\n",
    "        self.cnn_layer3=nn.Sequential(\n",
    "            nn.Conv2d(10,30,3),\n",
    "            nn.ReLU(),\n",
    "            nn.Conv2d(30,10,3),\n",
    "            nn.ReLU(),\n",
    "            nn.Conv2d(10,30,3),\n",
    "            nn.ReLU(),\n",
    "            nn.AvgPool2d(2,stride=2)    #뽑은 특성들의 평균을 내기 위해 마지막에는 AvgPool2d 사용\n",
    "        )\n",
    "\n",
    "        # 2. 학습 관련 층\n",
    "        self.hd_layer=nn.Linear(30*6*6,50)\n",
    "        self.out_layer=nn.Linear(50,10)\n",
    "\n",
    "    #전방향(순방향) 학습 메서드\n",
    "    def forward(self,input):\n",
    "        output=self.cnn_layer(input)\n",
    "        print(f'[cnn layer output] {output.shape}')\n",
    "\n",
    "        output=self.cnn_layer2(output)\n",
    "        print(f'[cnn layer output] {output.shape}')\n",
    "\n",
    "        #4D - 2D (샘플 수, 피쳐 수)\n",
    "        output=output.view(output.shape[0],-1)\n",
    "        print(f'[view output] {output.shape}')\n",
    "\n",
    "        output=F.relu(self.hd_layer(output))\n",
    "        print(f'[hd layer output] {output.shape}')\n",
    "\n",
    "        output=self.out_layer(output)\n",
    "        print(f'[out layer output] {output.shape}')\n",
    "\n",
    "        return output"
   ]
  },
  {
   "cell_type": "code",
   "execution_count": 23,
   "metadata": {},
   "outputs": [],
   "source": [
    "#테스트 모델 인스턴스 생성\n",
    "m=Img_MCF2()"
   ]
  },
  {
   "cell_type": "code",
   "execution_count": 24,
   "metadata": {},
   "outputs": [
    {
     "data": {
      "text/plain": [
       "=================================================================\n",
       "Layer (type:depth-idx)                   Param #\n",
       "=================================================================\n",
       "Img_MCF2                                 --\n",
       "├─Sequential: 1-1                        --\n",
       "│    └─Conv2d: 2-1                       280\n",
       "│    └─ReLU: 2-2                         --\n",
       "│    └─MaxPool2d: 2-3                    --\n",
       "├─Sequential: 1-2                        --\n",
       "│    └─Conv2d: 2-4                       2,730\n",
       "│    └─ReLU: 2-5                         --\n",
       "│    └─MaxPool2d: 2-6                    --\n",
       "├─Sequential: 1-3                        --\n",
       "│    └─Conv2d: 2-7                       2,730\n",
       "│    └─ReLU: 2-8                         --\n",
       "│    └─Conv2d: 2-9                       2,710\n",
       "│    └─ReLU: 2-10                        --\n",
       "│    └─Conv2d: 2-11                      2,730\n",
       "│    └─ReLU: 2-12                        --\n",
       "│    └─AvgPool2d: 2-13                   --\n",
       "├─Linear: 1-4                            54,050\n",
       "├─Linear: 1-5                            510\n",
       "=================================================================\n",
       "Total params: 65,740\n",
       "Trainable params: 65,740\n",
       "Non-trainable params: 0\n",
       "================================================================="
      ]
     },
     "execution_count": 24,
     "metadata": {},
     "output_type": "execute_result"
    }
   ],
   "source": [
    "from torchinfo import summary\n",
    "\n",
    "summary(m)"
   ]
  },
  {
   "cell_type": "code",
   "execution_count": 25,
   "metadata": {},
   "outputs": [
    {
     "name": "stdout",
     "output_type": "stream",
     "text": [
      "[target] tensor([6])\n",
      "torch.Size([1, 3, 32, 32])\n",
      "[cnn layer output] torch.Size([1, 10, 15, 15])\n",
      "[cnn layer output] torch.Size([1, 30, 6, 6])\n",
      "[view output] torch.Size([1, 1080])\n",
      "[hd layer output] torch.Size([1, 50])\n",
      "[out layer output] torch.Size([1, 10])\n",
      "[pre] tensor([3])\n"
     ]
    }
   ],
   "source": [
    "#테스트 데이터셋, 데이터로더\n",
    "\n",
    "for data,target in cifar_dl:\n",
    "    print(f'[target] {target}')\n",
    "    print(data.shape)\n",
    "\n",
    "    #전방향 학습\n",
    "    pre=m(data)\n",
    "    print(f'[pre] {pre.argmax(dim=1)}')\n",
    "    break"
   ]
  },
  {
   "cell_type": "code",
   "execution_count": 26,
   "metadata": {},
   "outputs": [
    {
     "name": "stdout",
     "output_type": "stream",
     "text": [
      "[cnn_layer.0.weight]--------------- \n",
      " torch.Size([10, 3, 3, 3])\n",
      "\n",
      "[cnn_layer.0.bias]--------------- \n",
      " torch.Size([10])\n",
      "\n",
      "[cnn_layer2.0.weight]--------------- \n",
      " torch.Size([30, 10, 3, 3])\n",
      "\n",
      "[cnn_layer2.0.bias]--------------- \n",
      " torch.Size([30])\n",
      "\n",
      "[cnn_layer3.0.weight]--------------- \n",
      " torch.Size([30, 10, 3, 3])\n",
      "\n",
      "[cnn_layer3.0.bias]--------------- \n",
      " torch.Size([30])\n",
      "\n",
      "[cnn_layer3.2.weight]--------------- \n",
      " torch.Size([10, 30, 3, 3])\n",
      "\n",
      "[cnn_layer3.2.bias]--------------- \n",
      " torch.Size([10])\n",
      "\n",
      "[cnn_layer3.4.weight]--------------- \n",
      " torch.Size([30, 10, 3, 3])\n",
      "\n",
      "[cnn_layer3.4.bias]--------------- \n",
      " torch.Size([30])\n",
      "\n",
      "[hd_layer.weight]--------------- \n",
      " torch.Size([50, 1080])\n",
      "\n",
      "[hd_layer.bias]--------------- \n",
      " torch.Size([50])\n",
      "\n",
      "[out_layer.weight]--------------- \n",
      " torch.Size([10, 50])\n",
      "\n",
      "[out_layer.bias]--------------- \n",
      " torch.Size([10])\n",
      "\n"
     ]
    }
   ],
   "source": [
    "#모델 파라미터 확인\n",
    "for name,param in m.named_parameters():\n",
    "    print(f'[{name}]--------------- \\n {param.shape}\\n')"
   ]
  },
  {
   "cell_type": "code",
   "execution_count": 27,
   "metadata": {},
   "outputs": [
    {
     "data": {
      "text/plain": [
       "Linear(in_features=1080, out_features=50, bias=True)"
      ]
     },
     "execution_count": 27,
     "metadata": {},
     "output_type": "execute_result"
    }
   ],
   "source": [
    "#인스턴스 속성 읽기\n",
    "m.hd_layer"
   ]
  },
  {
   "cell_type": "code",
   "execution_count": 32,
   "metadata": {},
   "outputs": [
    {
     "name": "stdout",
     "output_type": "stream",
     "text": [
      "weight\n",
      "Parameter containing:\n",
      "tensor([[ 1.5421e-01, -2.2686e-02,  5.1422e-02,  3.0029e-01, -2.1795e-01,\n",
      "          3.7251e-02,  2.0908e-01,  2.3067e-01,  1.6751e-01,  1.3905e-01],\n",
      "        [ 2.1385e-01, -1.2404e-01, -3.0016e-01,  2.0693e-01,  6.3657e-02,\n",
      "          2.6937e-01, -1.8940e-01, -9.5338e-02,  1.0298e-01,  1.9316e-01],\n",
      "        [-3.0407e-01,  1.4572e-02, -4.4498e-02, -2.2455e-01, -2.9834e-01,\n",
      "          1.5995e-01, -1.2019e-02, -2.2076e-02,  8.1860e-02,  1.1275e-02],\n",
      "        [ 1.1586e-01, -2.4439e-01, -6.6669e-02,  2.3505e-01,  2.3817e-01,\n",
      "          8.3723e-02,  8.1917e-02,  1.5812e-01, -2.9152e-01,  1.7302e-01],\n",
      "        [ 2.4420e-01, -2.5801e-01, -2.9407e-01, -2.8822e-01,  8.9435e-02,\n",
      "          4.1211e-02,  8.4376e-02,  2.5753e-01, -5.0923e-02, -2.0978e-01],\n",
      "        [-9.3819e-02, -8.8307e-02, -6.5209e-02, -7.0881e-02, -1.7867e-01,\n",
      "         -2.9468e-01, -4.6168e-02,  3.1413e-01, -1.6647e-01,  2.4825e-01],\n",
      "        [ 9.9381e-02,  1.4302e-01,  1.2234e-01,  1.3696e-01,  1.4560e-03,\n",
      "          2.6730e-01,  3.3008e-02,  1.3887e-01,  2.9023e-01, -2.6545e-01],\n",
      "        [ 1.7243e-01,  2.2877e-02, -8.0361e-02,  1.5422e-01, -2.6128e-01,\n",
      "          2.1168e-01, -2.6369e-02,  1.2115e-01,  1.8835e-01,  1.4616e-01],\n",
      "        [-1.7706e-01, -8.5362e-02, -2.2491e-01, -1.2295e-01, -2.8276e-01,\n",
      "          3.0695e-01, -1.2492e-01, -2.6358e-01,  2.0534e-01,  2.3146e-02],\n",
      "        [ 2.6138e-01,  1.7531e-01, -1.7077e-01,  2.1856e-02,  5.4369e-02,\n",
      "          2.3684e-03,  3.1517e-01,  6.9919e-02, -1.9053e-01, -1.3034e-01],\n",
      "        [-1.0699e-01,  2.8837e-01, -2.6871e-01, -2.0750e-01,  8.9624e-02,\n",
      "          1.9713e-01,  1.0683e-01,  2.5684e-02, -3.0575e-01, -1.1944e-01],\n",
      "        [ 2.8985e-01, -2.9341e-01, -1.6440e-01,  5.9769e-02,  2.2880e-01,\n",
      "          1.9150e-01,  5.2505e-03, -8.6820e-02,  2.9241e-02, -2.8775e-01],\n",
      "        [ 1.9001e-02, -3.6457e-02, -1.4219e-01,  1.1464e-01,  1.8205e-01,\n",
      "         -4.7889e-02,  1.4261e-01, -7.5841e-03, -6.3951e-02, -1.7914e-01],\n",
      "        [ 2.7596e-01, -1.2580e-01,  1.8192e-01, -6.6586e-03, -1.6924e-01,\n",
      "         -2.8784e-01, -1.2206e-01, -2.4623e-01, -2.4209e-01, -2.2826e-01],\n",
      "        [ 1.4315e-01,  2.0839e-01, -2.6941e-01, -1.0424e-01, -6.1828e-03,\n",
      "         -3.1935e-02, -2.3404e-01,  1.4634e-01,  8.3763e-02, -2.8410e-02],\n",
      "        [-1.3061e-01, -2.0481e-01,  2.0297e-01,  1.5017e-01,  1.4282e-01,\n",
      "         -2.9784e-01, -7.6595e-02,  1.2025e-01, -1.9863e-01,  3.0930e-01],\n",
      "        [ 2.5800e-02,  5.4892e-02,  2.2716e-01,  9.3461e-02, -1.5203e-02,\n",
      "          2.6274e-01, -2.2825e-01,  2.0116e-02,  5.7760e-04,  1.7055e-01],\n",
      "        [-2.6850e-01,  3.8515e-02, -6.4601e-02,  1.4124e-01,  1.2724e-01,\n",
      "         -2.7044e-01,  1.0928e-01,  2.8720e-01,  2.3282e-01, -2.8002e-01],\n",
      "        [-1.9032e-01,  2.8272e-01,  2.5246e-01,  1.5071e-01, -2.8203e-01,\n",
      "         -1.1689e-01, -1.6387e-01,  1.6799e-01,  1.3373e-01, -7.4553e-04],\n",
      "        [-1.8679e-01,  1.5055e-01,  1.0677e-01, -1.6741e-01,  4.0074e-02,\n",
      "         -1.8739e-01, -8.0376e-02, -7.3654e-02,  1.5496e-01, -1.0074e-01],\n",
      "        [ 1.1432e-01,  2.0051e-01, -2.2310e-01,  1.3410e-01, -8.5463e-02,\n",
      "          2.4965e-01, -3.7276e-02,  2.2403e-01,  4.5675e-02, -2.7230e-01],\n",
      "        [ 2.3919e-01,  3.1195e-01,  1.0183e-04,  7.8505e-02,  2.1706e-01,\n",
      "          2.4321e-01,  9.3169e-03, -1.7424e-01,  4.1571e-02,  2.6686e-01],\n",
      "        [-2.3175e-01,  5.1221e-02, -6.2414e-02,  3.0341e-01, -8.0656e-02,\n",
      "         -2.4183e-01, -1.4193e-01, -1.9515e-01, -1.1974e-01,  1.4547e-01],\n",
      "        [-2.6042e-01, -2.2247e-01,  6.3129e-02,  1.0154e-02, -2.9156e-01,\n",
      "          1.3508e-02,  1.1059e-01, -3.6214e-02, -3.0484e-01,  2.0676e-01],\n",
      "        [ 1.7277e-01, -2.5927e-01, -1.8293e-01,  1.2138e-01, -1.3964e-01,\n",
      "          1.8432e-01, -1.8856e-02, -1.6330e-01, -2.6510e-01, -1.3055e-01],\n",
      "        [-1.5089e-01,  4.9024e-02,  2.2162e-01,  8.0779e-02,  1.3495e-01,\n",
      "         -1.8674e-01, -1.8495e-04,  3.2730e-02, -3.1252e-01,  1.6829e-02],\n",
      "        [ 1.5785e-01,  1.4853e-01,  2.9500e-01,  1.7919e-01, -2.7102e-01,\n",
      "          1.7348e-01,  1.7642e-01,  1.7712e-01, -1.0513e-01, -2.5714e-01],\n",
      "        [-3.1587e-02, -2.2306e-01, -2.2338e-01,  4.6269e-02, -1.9350e-01,\n",
      "          3.0021e-01,  2.1495e-01, -6.0666e-02, -2.7481e-01,  2.0880e-01],\n",
      "        [-2.7560e-01, -2.8889e-01, -2.7139e-01, -2.2357e-01,  1.1708e-01,\n",
      "          2.2245e-01,  2.5531e-01,  3.1316e-01, -1.6406e-01, -1.3333e-01],\n",
      "        [ 2.1020e-01, -3.0777e-01,  5.8839e-03,  2.2919e-01,  2.0289e-01,\n",
      "         -7.8470e-02,  1.7555e-01, -1.9377e-02,  1.1662e-01,  1.5191e-01]],\n",
      "       requires_grad=True)\n",
      "bias\n",
      "Parameter containing:\n",
      "tensor([-0.1311, -0.3071,  0.1824,  0.1164,  0.2641,  0.2000,  0.0903,  0.0996,\n",
      "         0.0519,  0.3063,  0.0731,  0.3112, -0.3105, -0.1882,  0.1962, -0.2436,\n",
      "         0.0261, -0.2919,  0.2164,  0.3024,  0.3049,  0.0462,  0.1441,  0.0464,\n",
      "         0.0241, -0.2859,  0.1889,  0.1736,  0.0376,  0.1359],\n",
      "       requires_grad=True)\n"
     ]
    }
   ],
   "source": [
    "#인스턴스 속성 변수 변경\n",
    "m.out_layer=nn.Linear(10,30)\n",
    "\n",
    "for name,param in m.out_layer.named_parameters():\n",
    "    print(name,param,sep='\\n')\n"
   ]
  },
  {
   "cell_type": "code",
   "execution_count": 29,
   "metadata": {},
   "outputs": [
    {
     "data": {
      "text/plain": [
       "Linear(in_features=10, out_features=50, bias=True)"
      ]
     },
     "execution_count": 29,
     "metadata": {},
     "output_type": "execute_result"
    }
   ],
   "source": [
    "m.out_layer"
   ]
  },
  {
   "cell_type": "code",
   "execution_count": null,
   "metadata": {},
   "outputs": [],
   "source": []
  }
 ],
 "metadata": {
  "kernelspec": {
   "display_name": "TORCH_CV_38",
   "language": "python",
   "name": "python3"
  },
  "language_info": {
   "codemirror_mode": {
    "name": "ipython",
    "version": 3
   },
   "file_extension": ".py",
   "mimetype": "text/x-python",
   "name": "python",
   "nbconvert_exporter": "python",
   "pygments_lexer": "ipython3",
   "version": "3.8.19"
  }
 },
 "nbformat": 4,
 "nbformat_minor": 2
}
