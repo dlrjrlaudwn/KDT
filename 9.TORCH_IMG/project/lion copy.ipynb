{
 "cells": [
  {
   "cell_type": "code",
   "execution_count": 116,
   "metadata": {},
   "outputs": [],
   "source": [
    "import torch\n",
    "import torch.nn as nn\n",
    "from torchinfo import summary\n",
    "import matplotlib.pyplot as plt\n",
    "from torchvision.datasets import ImageFolder\n",
    "from torchvision.transforms import v2\n",
    "import torchvision.models as models\n",
    "from PIL import Image\n",
    "from torch.utils.data import DataLoader,Dataset         #데이터셋 관련 모듈\n",
    "import torch.optim as optim\n",
    "from sklearn.metrics import accuracy_score, f1_score\n",
    "import torch.optim.lr_scheduler as lr_scheduler\n"
   ]
  },
  {
   "cell_type": "code",
   "execution_count": 117,
   "metadata": {},
   "outputs": [],
   "source": [
    "train_dir='./data/train1/'\n",
    "test_dir='./data/test1/'"
   ]
  },
  {
   "cell_type": "code",
   "execution_count": 136,
   "metadata": {},
   "outputs": [
    {
     "data": {
      "text/plain": [
       "14"
      ]
     },
     "execution_count": 136,
     "metadata": {},
     "output_type": "execute_result"
    }
   ],
   "source": [
    "len(train_dir)"
   ]
  },
  {
   "cell_type": "code",
   "execution_count": 118,
   "metadata": {},
   "outputs": [],
   "source": [
    "transform = v2.Compose(\n",
    "    [\n",
    "    v2.Resize([224,224]),\n",
    "    v2.RandomResizedCrop(224),\n",
    "    v2.ToImage(),\n",
    "    v2.ConvertImageDtype(torch.float),\n",
    "    v2.Normalize(mean=[0.485, 0.456, 0.406],\n",
    "                    std=[0.229, 0.224, 0.225]),\n",
    "    v2.ToDtype(torch.uint8, scale=True)\n",
    "    ]\n",
    ")"
   ]
  },
  {
   "cell_type": "code",
   "execution_count": 119,
   "metadata": {},
   "outputs": [],
   "source": [
    "train_ds=ImageFolder(root=train_dir,transform=transform)\n",
    "train_dl=DataLoader(train_ds,batch_size=32,shuffle=True)"
   ]
  },
  {
   "cell_type": "code",
   "execution_count": 137,
   "metadata": {},
   "outputs": [
    {
     "data": {
      "text/plain": [
       "1996"
      ]
     },
     "execution_count": 137,
     "metadata": {},
     "output_type": "execute_result"
    }
   ],
   "source": [
    "len(train_ds)"
   ]
  },
  {
   "cell_type": "code",
   "execution_count": 120,
   "metadata": {},
   "outputs": [],
   "source": [
    "test_ds=ImageFolder(root=test_dir,transform=transform)\n",
    "test_dl=DataLoader(test_ds,batch_size=32,shuffle=True)"
   ]
  },
  {
   "cell_type": "code",
   "execution_count": 121,
   "metadata": {},
   "outputs": [
    {
     "name": "stdout",
     "output_type": "stream",
     "text": [
      "train_ds.classes       : ['0', '1']\n",
      "train_ds.class_to_idx  : {'0': 0, '1': 1}\n",
      "train_ds.targets       : [0, 0, 0, 0, 0, 0, 0, 0, 0, 0, 0, 0, 0, 0, 0, 0, 0, 0, 0, 0, 0, 0, 0, 0, 0, 0, 0, 0, 0, 0, 0, 0, 0, 0, 0, 0, 0, 0, 0, 0, 0, 0, 0, 0, 0, 0, 0, 0, 0, 0, 0, 0, 0, 0, 0, 0, 0, 0, 0, 0, 0, 0, 0, 0, 0, 0, 0, 0, 0, 0, 0, 0, 0, 0, 0, 0, 0, 0, 0, 0, 0, 0, 0, 0, 0, 0, 0, 0, 0, 0, 0, 0, 0, 0, 0, 0, 0, 0, 0, 0, 0, 0, 0, 0, 0, 0, 0, 0, 0, 0, 0, 0, 0, 0, 0, 0, 0, 0, 0, 0, 0, 0, 0, 0, 0, 0, 0, 0, 0, 0, 0, 0, 0, 0, 0, 0, 0, 0, 0, 0, 0, 0, 0, 0, 0, 0, 0, 0, 0, 0, 0, 0, 0, 0, 0, 0, 0, 0, 0, 0, 0, 0, 0, 0, 0, 0, 0, 0, 0, 0, 0, 0, 0, 0, 0, 0, 0, 0, 0, 0, 0, 0, 0, 0, 0, 0, 0, 0, 0, 0, 0, 0, 0, 0, 0, 0, 0, 0, 0, 0, 0, 0, 0, 0, 0, 0, 0, 0, 0, 0, 0, 0, 0, 0, 0, 0, 0, 0, 0, 0, 0, 0, 0, 0, 0, 0, 0, 0, 0, 0, 0, 0, 0, 0, 0, 0, 0, 0, 0, 0, 0, 0, 0, 0, 0, 0, 0, 0, 0, 0, 0, 0, 0, 0, 0, 0, 0, 0, 0, 0, 0, 0, 0, 0, 0, 0, 0, 0, 0, 0, 0, 0, 0, 0, 0, 0, 0, 0, 0, 0, 0, 0, 0, 0, 0, 0, 0, 0, 0, 0, 0, 0, 0, 0, 0, 0, 0, 0, 0, 0, 0, 0, 0, 0, 0, 0, 0, 0, 0, 0, 0, 0, 0, 0, 0, 0, 0, 0, 0, 0, 0, 0, 0, 0, 0, 0, 0, 0, 0, 0, 0, 0, 0, 0, 0, 0, 0, 0, 0, 0, 0, 0, 0, 0, 0, 0, 0, 0, 0, 0, 0, 0, 0, 0, 0, 0, 0, 0, 0, 0, 0, 0, 0, 0, 0, 0, 0, 0, 0, 0, 0, 0, 0, 0, 0, 0, 0, 0, 0, 0, 0, 0, 0, 0, 0, 0, 0, 0, 0, 0, 0, 0, 0, 0, 0, 0, 0, 0, 0, 0, 0, 0, 0, 0, 0, 0, 0, 0, 0, 0, 0, 0, 0, 0, 0, 0, 0, 0, 0, 0, 0, 0, 0, 0, 0, 0, 0, 0, 0, 0, 0, 0, 0, 0, 0, 0, 0, 0, 0, 0, 0, 0, 0, 0, 0, 0, 0, 0, 0, 0, 0, 0, 0, 0, 0, 0, 0, 0, 0, 0, 0, 0, 0, 0, 0, 0, 0, 0, 0, 0, 0, 0, 0, 0, 0, 0, 0, 0, 0, 0, 0, 0, 0, 0, 0, 0, 0, 0, 0, 0, 0, 0, 0, 0, 0, 0, 0, 0, 0, 0, 0, 0, 0, 0, 0, 0, 0, 0, 0, 0, 0, 0, 0, 0, 0, 0, 0, 0, 0, 0, 0, 0, 0, 0, 0, 0, 0, 0, 0, 0, 0, 0, 0, 0, 0, 0, 0, 0, 0, 0, 0, 0, 0, 0, 0, 0, 0, 0, 0, 0, 0, 0, 0, 0, 0, 0, 0, 0, 0, 0, 0, 0, 0, 0, 0, 0, 0, 0, 0, 0, 0, 0, 0, 0, 0, 0, 0, 0, 0, 0, 0, 0, 0, 0, 0, 0, 0, 0, 0, 0, 0, 0, 0, 0, 0, 0, 0, 0, 0, 0, 0, 0, 0, 0, 0, 0, 0, 0, 0, 0, 0, 0, 0, 0, 0, 0, 0, 0, 0, 0, 0, 0, 0, 0, 0, 0, 0, 0, 0, 0, 0, 0, 0, 0, 0, 0, 0, 0, 0, 0, 0, 0, 0, 0, 0, 0, 0, 0, 0, 0, 0, 0, 0, 0, 0, 0, 0, 0, 0, 0, 0, 0, 0, 0, 0, 0, 0, 0, 0, 0, 0, 0, 0, 0, 0, 0, 0, 0, 0, 0, 0, 0, 0, 0, 0, 0, 0, 0, 0, 0, 0, 0, 0, 0, 0, 0, 0, 0, 0, 0, 0, 0, 0, 0, 0, 0, 0, 0, 0, 0, 0, 0, 0, 0, 0, 0, 0, 0, 0, 0, 0, 0, 0, 0, 0, 0, 0, 0, 0, 0, 0, 0, 0, 0, 0, 0, 0, 0, 0, 0, 0, 0, 0, 0, 0, 0, 0, 0, 0, 0, 0, 0, 0, 0, 0, 0, 0, 0, 0, 0, 0, 0, 0, 0, 0, 0, 0, 0, 0, 0, 0, 0, 0, 0, 0, 0, 0, 0, 0, 0, 0, 0, 0, 0, 0, 0, 0, 0, 0, 0, 0, 0, 0, 0, 0, 0, 0, 0, 0, 0, 0, 0, 0, 0, 0, 0, 0, 0, 0, 0, 0, 0, 0, 0, 0, 0, 0, 0, 0, 0, 0, 0, 0, 0, 0, 0, 0, 0, 0, 0, 0, 0, 0, 0, 0, 0, 0, 0, 0, 0, 0, 0, 0, 0, 0, 0, 0, 0, 0, 0, 0, 0, 0, 0, 0, 0, 0, 0, 0, 0, 0, 0, 0, 0, 0, 0, 0, 0, 0, 0, 0, 0, 0, 0, 0, 0, 0, 0, 0, 0, 0, 0, 0, 0, 0, 0, 0, 0, 0, 0, 0, 0, 0, 0, 0, 0, 0, 0, 0, 0, 0, 0, 0, 0, 0, 0, 0, 0, 0, 0, 0, 0, 0, 0, 0, 0, 0, 0, 0, 0, 0, 0, 0, 0, 0, 0, 0, 0, 0, 0, 0, 0, 0, 0, 0, 0, 0, 0, 0, 0, 0, 0, 0, 0, 0, 0, 0, 0, 0, 0, 0, 0, 0, 0, 0, 0, 0, 0, 0, 0, 0, 0, 0, 0, 0, 0, 0, 0, 0, 0, 0, 0, 0, 0, 0, 0, 0, 0, 0, 0, 0, 0, 0, 0, 0, 0, 0, 0, 0, 0, 0, 0, 0, 0, 0, 0, 1, 1, 1, 1, 1, 1, 1, 1, 1, 1, 1, 1, 1, 1, 1, 1, 1, 1, 1, 1, 1, 1, 1, 1, 1, 1, 1, 1, 1, 1, 1, 1, 1, 1, 1, 1, 1, 1, 1, 1, 1, 1, 1, 1, 1, 1, 1, 1, 1, 1, 1, 1, 1, 1, 1, 1, 1, 1, 1, 1, 1, 1, 1, 1, 1, 1, 1, 1, 1, 1, 1, 1, 1, 1, 1, 1, 1, 1, 1, 1, 1, 1, 1, 1, 1, 1, 1, 1, 1, 1, 1, 1, 1, 1, 1, 1, 1, 1, 1, 1, 1, 1, 1, 1, 1, 1, 1, 1, 1, 1, 1, 1, 1, 1, 1, 1, 1, 1, 1, 1, 1, 1, 1, 1, 1, 1, 1, 1, 1, 1, 1, 1, 1, 1, 1, 1, 1, 1, 1, 1, 1, 1, 1, 1, 1, 1, 1, 1, 1, 1, 1, 1, 1, 1, 1, 1, 1, 1, 1, 1, 1, 1, 1, 1, 1, 1, 1, 1, 1, 1, 1, 1, 1, 1, 1, 1, 1, 1, 1, 1, 1, 1, 1, 1, 1, 1, 1, 1, 1, 1, 1, 1, 1, 1, 1, 1, 1, 1, 1, 1, 1, 1, 1, 1, 1, 1, 1, 1, 1, 1, 1, 1, 1, 1, 1, 1, 1, 1, 1, 1, 1, 1, 1, 1, 1, 1, 1, 1, 1, 1, 1, 1, 1, 1, 1, 1, 1, 1, 1, 1, 1, 1, 1, 1, 1, 1, 1, 1, 1, 1, 1, 1, 1, 1, 1, 1, 1, 1, 1, 1, 1, 1, 1, 1, 1, 1, 1, 1, 1, 1, 1, 1, 1, 1, 1, 1, 1, 1, 1, 1, 1, 1, 1, 1, 1, 1, 1, 1, 1, 1, 1, 1, 1, 1, 1, 1, 1, 1, 1, 1, 1, 1, 1, 1, 1, 1, 1, 1, 1, 1, 1, 1, 1, 1, 1, 1, 1, 1, 1, 1, 1, 1, 1, 1, 1, 1, 1, 1, 1, 1, 1, 1, 1, 1, 1, 1, 1, 1, 1, 1, 1, 1, 1, 1, 1, 1, 1, 1, 1, 1, 1, 1, 1, 1, 1, 1, 1, 1, 1, 1, 1, 1, 1, 1, 1, 1, 1, 1, 1, 1, 1, 1, 1, 1, 1, 1, 1, 1, 1, 1, 1, 1, 1, 1, 1, 1, 1, 1, 1, 1, 1, 1, 1, 1, 1, 1, 1, 1, 1, 1, 1, 1, 1, 1, 1, 1, 1, 1, 1, 1, 1, 1, 1, 1, 1, 1, 1, 1, 1, 1, 1, 1, 1, 1, 1, 1, 1, 1, 1, 1, 1, 1, 1, 1, 1, 1, 1, 1, 1, 1, 1, 1, 1, 1, 1, 1, 1, 1, 1, 1, 1, 1, 1, 1, 1, 1, 1, 1, 1, 1, 1, 1, 1, 1, 1, 1, 1, 1, 1, 1, 1, 1, 1, 1, 1, 1, 1, 1, 1, 1, 1, 1, 1, 1, 1, 1, 1, 1, 1, 1, 1, 1, 1, 1, 1, 1, 1, 1, 1, 1, 1, 1, 1, 1, 1, 1, 1, 1, 1, 1, 1, 1, 1, 1, 1, 1, 1, 1, 1, 1, 1, 1, 1, 1, 1, 1, 1, 1, 1, 1, 1, 1, 1, 1, 1, 1, 1, 1, 1, 1, 1, 1, 1, 1, 1, 1, 1, 1, 1, 1, 1, 1, 1, 1, 1, 1, 1, 1, 1, 1, 1, 1, 1, 1, 1, 1, 1, 1, 1, 1, 1, 1, 1, 1, 1, 1, 1, 1, 1, 1, 1, 1, 1, 1, 1, 1, 1, 1, 1, 1, 1, 1, 1, 1, 1, 1, 1, 1, 1, 1, 1, 1, 1, 1, 1, 1, 1, 1, 1, 1, 1, 1, 1, 1, 1, 1, 1, 1, 1, 1, 1, 1, 1, 1, 1, 1, 1, 1, 1, 1, 1, 1, 1, 1, 1, 1, 1, 1, 1, 1, 1, 1, 1, 1, 1, 1, 1, 1, 1, 1, 1, 1, 1, 1, 1, 1, 1, 1, 1, 1, 1, 1, 1, 1, 1, 1, 1, 1, 1, 1, 1, 1, 1, 1, 1, 1, 1, 1, 1, 1, 1, 1, 1, 1, 1, 1, 1, 1, 1, 1, 1, 1, 1, 1, 1, 1, 1, 1, 1, 1, 1, 1, 1, 1, 1, 1, 1, 1, 1, 1, 1, 1, 1, 1, 1, 1, 1, 1, 1, 1, 1, 1, 1, 1, 1, 1, 1, 1, 1, 1, 1, 1, 1, 1, 1, 1, 1, 1, 1, 1, 1, 1, 1, 1, 1, 1, 1, 1, 1, 1, 1, 1, 1, 1, 1, 1, 1, 1, 1, 1, 1, 1, 1, 1, 1, 1, 1, 1, 1, 1, 1, 1, 1, 1, 1, 1, 1, 1, 1, 1, 1, 1, 1, 1, 1, 1, 1, 1, 1, 1, 1, 1, 1, 1, 1, 1, 1, 1, 1, 1, 1, 1, 1, 1, 1, 1, 1, 1, 1, 1, 1, 1, 1, 1, 1, 1, 1, 1, 1, 1, 1, 1, 1, 1, 1, 1, 1, 1, 1, 1, 1, 1, 1, 1, 1, 1, 1, 1, 1, 1, 1, 1, 1, 1, 1, 1, 1, 1, 1, 1, 1, 1, 1, 1, 1, 1, 1, 1, 1, 1, 1, 1, 1, 1, 1, 1, 1, 1, 1, 1, 1, 1, 1, 1, 1, 1, 1, 1, 1, 1, 1, 1, 1, 1, 1, 1, 1, 1, 1, 1, 1, 1, 1, 1, 1, 1, 1, 1, 1, 1, 1, 1, 1, 1, 1, 1, 1, 1, 1, 1, 1, 1, 1, 1, 1, 1, 1, 1, 1, 1, 1, 1, 1, 1, 1, 1, 1, 1, 1, 1, 1, 1, 1, 1, 1, 1, 1, 1, 1, 1, 1, 1, 1, 1, 1, 1, 1, 1, 1, 1, 1, 1, 1, 1, 1, 1, 1, 1, 1, 1, 1, 1, 1, 1, 1, 1, 1, 1, 1, 1, 1, 1, 1, 1, 1, 1, 1, 1, 1, 1, 1, 1, 1, 1, 1, 1, 1, 1, 1, 1, 1, 1, 1, 1, 1, 1, 1, 1, 1, 1]\n",
      "train_ds.imgs       : ('./data/train1/0\\\\Inner-Ear-Vital-to-High-Speed-Hunting-for-Cheetah.jpg', 0)\n",
      "train_ds.imgs       : ('./data/train1/0\\\\Kooshki_(Iranian_Cheetah)_03.jpg', 0)\n",
      "train_ds.imgs       : ('./data/train1/0\\\\L20130812.22021193228i1.jpg', 0)\n",
      "train_ds.imgs       : ('./data/train1/0\\\\L20141023.22021193348i1.jpg', 0)\n",
      "train_ds.imgs       : ('./data/train1/0\\\\Leopard (2).jpg', 0)\n",
      "train_ds.imgs       : ('./data/train1/0\\\\Leopard Cat Image Namibie africa.jpg', 0)\n",
      "train_ds.imgs       : ('./data/train1/0\\\\Leopard Cat Image wild big africa.jpg', 0)\n",
      "train_ds.imgs       : ('./data/train1/0\\\\Leopard-BW_1200px.jpg', 0)\n",
      "train_ds.imgs       : ('./data/train1/0\\\\Leopard-Deb-Heath-Botswana.jpg', 0)\n",
      "train_ds.imgs       : ('./data/train1/0\\\\Leopard_1440-768x530.jpg', 0)\n",
      "train_ds.imgs       : ('./data/train1/0\\\\Leopard_PTI.jpg', 0)\n",
      "train_ds.imgs       : ('./data/train1/0\\\\Leopard_standing_in_tree_2.jpg', 0)\n",
      "train_ds.imgs       : ('./data/train1/0\\\\Medium_WW226365.jpg', 0)\n",
      "train_ds.imgs       : ('./data/train1/0\\\\Medium_WW226367.jpg', 0)\n",
      "train_ds.imgs       : ('./data/train1/0\\\\NEW-GALLERY-LEOPARD-THUMBNAIL-960x539.jpg', 0)\n",
      "train_ds.imgs       : ('./data/train1/0\\\\Namibie_Etosha_Leopard_01edit.jpg', 0)\n",
      "train_ds.imgs       : ('./data/train1/0\\\\NorthWest_African_Cheetah_(14846381095).jpg', 0)\n",
      "train_ds.imgs       : ('./data/train1/0\\\\P.t.altaica_Tomak_Male.jpg', 0)\n",
      "train_ds.imgs       : ('./data/train1/0\\\\PAP20230228144701009_P2.jpg', 0)\n",
      "train_ds.imgs       : ('./data/train1/0\\\\POINT-TAKEN-Ross-Couper-Wildlife.jpg', 0)\n",
      "train_ds.imgs       : ('./data/train1/0\\\\Persian_Leopard_sitting.jpg', 0)\n",
      "train_ds.imgs       : ('./data/train1/0\\\\Protecting-Our-Cheetahs.jpg', 0)\n",
      "train_ds.imgs       : ('./data/train1/0\\\\QT6QIxoqRQWRNqdggI4j_Royal-bengal-tiger-desibantu.jpg', 0)\n",
      "train_ds.imgs       : ('./data/train1/0\\\\RTX2V1Z1-1024x683.jpg', 0)\n",
      "train_ds.imgs       : ('./data/train1/0\\\\RememberingCheetahs1603-4.jpg', 0)\n",
      "train_ds.imgs       : ('./data/train1/0\\\\SSI_20090911112444_V.jpg', 0)\n",
      "train_ds.imgs       : ('./data/train1/0\\\\Snow-Leopard.jpg', 0)\n",
      "train_ds.imgs       : ('./data/train1/0\\\\TheCheethcat.jpg', 0)\n",
      "train_ds.imgs       : ('./data/train1/0\\\\Tiger-Main-e1415391390540-1280x720.jpg', 0)\n",
      "train_ds.imgs       : ('./data/train1/0\\\\Tiger.jpg', 0)\n",
      "train_ds.imgs       : ('./data/train1/0\\\\TigerJohnGoodrich-thumb-233x350-50527.jpg', 0)\n",
      "train_ds.imgs       : ('./data/train1/0\\\\Tigers-and-leopards-in-Nepal-NT-1.jpg', 0)\n",
      "train_ds.imgs       : ('./data/train1/0\\\\VDQn1y77J3Ef61X73SwJ.jpg', 0)\n",
      "train_ds.imgs       : ('./data/train1/0\\\\Volunteer-with-Leopards-in-South-Africa-1440x478.jpg', 0)\n",
      "train_ds.imgs       : ('./data/train1/0\\\\Walking_tiger_female.jpg', 0)\n",
      "train_ds.imgs       : ('./data/train1/0\\\\Website_SpeciesPage_Leopard01_Hero_0.jpg', 0)\n",
      "train_ds.imgs       : ('./data/train1/0\\\\Website_SpeciesPage_Leopard02_Challenges.jpg', 0)\n",
      "train_ds.imgs       : ('./data/train1/0\\\\iStock_000019945252_2.jpg', 0)\n",
      "train_ds.imgs       : ('./data/train1/0\\\\iXEHeFQCW8EhAVSRkMaCyV-1200-80.jpeg', 0)\n",
      "train_ds.imgs       : ('./data/train1/0\\\\image-20160507-32047-1eullie.jpg', 0)\n",
      "train_ds.imgs       : ('./data/train1/0\\\\image-20170111-6447-606129.jpg', 0)\n",
      "train_ds.imgs       : ('./data/train1/0\\\\image85.jpg', 0)\n",
      "train_ds.imgs       : ('./data/train1/0\\\\image89.jpg', 0)\n",
      "train_ds.imgs       : ('./data/train1/0\\\\image91.jpg', 0)\n",
      "train_ds.imgs       : ('./data/train1/0\\\\image92.jpg', 0)\n",
      "train_ds.imgs       : ('./data/train1/0\\\\image93.jpg', 0)\n",
      "train_ds.imgs       : ('./data/train1/0\\\\image94.jpg', 0)\n",
      "train_ds.imgs       : ('./data/train1/0\\\\image95.jpg', 0)\n",
      "train_ds.imgs       : ('./data/train1/0\\\\image96.jpg', 0)\n",
      "train_ds.imgs       : ('./data/train1/0\\\\image97.jpg', 0)\n",
      "train_ds.imgs       : ('./data/train1/0\\\\image98.jpg', 0)\n",
      "train_ds.imgs       : ('./data/train1/0\\\\image99.jpg', 0)\n",
      "train_ds.imgs       : ('./data/train1/0\\\\images (1).jpg', 0)\n",
      "train_ds.imgs       : ('./data/train1/0\\\\images (10).jpg', 0)\n",
      "train_ds.imgs       : ('./data/train1/0\\\\images (100).jpg', 0)\n",
      "train_ds.imgs       : ('./data/train1/0\\\\images (101).jpg', 0)\n",
      "train_ds.imgs       : ('./data/train1/0\\\\images (102).jpg', 0)\n",
      "train_ds.imgs       : ('./data/train1/0\\\\images (103).jpg', 0)\n",
      "train_ds.imgs       : ('./data/train1/0\\\\images (104).jpg', 0)\n",
      "train_ds.imgs       : ('./data/train1/0\\\\images (105).jpg', 0)\n",
      "train_ds.imgs       : ('./data/train1/0\\\\images (106).jpg', 0)\n",
      "train_ds.imgs       : ('./data/train1/0\\\\images (107).jpg', 0)\n",
      "train_ds.imgs       : ('./data/train1/0\\\\images (109).jpg', 0)\n",
      "train_ds.imgs       : ('./data/train1/0\\\\images (11).jpg', 0)\n",
      "train_ds.imgs       : ('./data/train1/0\\\\images (110).jpg', 0)\n",
      "train_ds.imgs       : ('./data/train1/0\\\\images (111).jpg', 0)\n",
      "train_ds.imgs       : ('./data/train1/0\\\\images (112).jpg', 0)\n",
      "train_ds.imgs       : ('./data/train1/0\\\\images (113).jpg', 0)\n",
      "train_ds.imgs       : ('./data/train1/0\\\\images (114).jpg', 0)\n",
      "train_ds.imgs       : ('./data/train1/0\\\\images (115).jpg', 0)\n",
      "train_ds.imgs       : ('./data/train1/0\\\\images (116).jpg', 0)\n",
      "train_ds.imgs       : ('./data/train1/0\\\\images (117).jpg', 0)\n",
      "train_ds.imgs       : ('./data/train1/0\\\\images (118).jpg', 0)\n",
      "train_ds.imgs       : ('./data/train1/0\\\\images (119).jpg', 0)\n",
      "train_ds.imgs       : ('./data/train1/0\\\\images (12).jpg', 0)\n",
      "train_ds.imgs       : ('./data/train1/0\\\\images (120).jpg', 0)\n",
      "train_ds.imgs       : ('./data/train1/0\\\\images (121).jpg', 0)\n",
      "train_ds.imgs       : ('./data/train1/0\\\\images (122).jpg', 0)\n",
      "train_ds.imgs       : ('./data/train1/0\\\\images (123).jpg', 0)\n",
      "train_ds.imgs       : ('./data/train1/0\\\\images (124).jpg', 0)\n",
      "train_ds.imgs       : ('./data/train1/0\\\\images (125).jpg', 0)\n",
      "train_ds.imgs       : ('./data/train1/0\\\\images (126).jpg', 0)\n",
      "train_ds.imgs       : ('./data/train1/0\\\\images (127).jpg', 0)\n",
      "train_ds.imgs       : ('./data/train1/0\\\\images (128).jpg', 0)\n",
      "train_ds.imgs       : ('./data/train1/0\\\\images (129).jpg', 0)\n",
      "train_ds.imgs       : ('./data/train1/0\\\\images (13).jpg', 0)\n",
      "train_ds.imgs       : ('./data/train1/0\\\\images (130).jpg', 0)\n",
      "train_ds.imgs       : ('./data/train1/0\\\\images (131).jpg', 0)\n",
      "train_ds.imgs       : ('./data/train1/0\\\\images (132).jpg', 0)\n",
      "train_ds.imgs       : ('./data/train1/0\\\\images (133).jpg', 0)\n",
      "train_ds.imgs       : ('./data/train1/0\\\\images (134).jpg', 0)\n",
      "train_ds.imgs       : ('./data/train1/0\\\\images (135).jpg', 0)\n",
      "train_ds.imgs       : ('./data/train1/0\\\\images (136).jpg', 0)\n",
      "train_ds.imgs       : ('./data/train1/0\\\\images (137).jpg', 0)\n",
      "train_ds.imgs       : ('./data/train1/0\\\\images (138).jpg', 0)\n",
      "train_ds.imgs       : ('./data/train1/0\\\\images (139).jpg', 0)\n",
      "train_ds.imgs       : ('./data/train1/0\\\\images (14).jpg', 0)\n",
      "train_ds.imgs       : ('./data/train1/0\\\\images (140).jpg', 0)\n",
      "train_ds.imgs       : ('./data/train1/0\\\\images (141).jpg', 0)\n",
      "train_ds.imgs       : ('./data/train1/0\\\\images (143).jpg', 0)\n",
      "train_ds.imgs       : ('./data/train1/0\\\\images (144).jpg', 0)\n",
      "train_ds.imgs       : ('./data/train1/0\\\\images (145).jpg', 0)\n",
      "train_ds.imgs       : ('./data/train1/0\\\\images (146).jpg', 0)\n",
      "train_ds.imgs       : ('./data/train1/0\\\\images (147).jpg', 0)\n",
      "train_ds.imgs       : ('./data/train1/0\\\\images (148).jpg', 0)\n",
      "train_ds.imgs       : ('./data/train1/0\\\\images (149).jpg', 0)\n",
      "train_ds.imgs       : ('./data/train1/0\\\\images (15).jpg', 0)\n",
      "train_ds.imgs       : ('./data/train1/0\\\\images (151).jpg', 0)\n",
      "train_ds.imgs       : ('./data/train1/0\\\\images (152).jpg', 0)\n",
      "train_ds.imgs       : ('./data/train1/0\\\\images (153).jpg', 0)\n",
      "train_ds.imgs       : ('./data/train1/0\\\\images (154).jpg', 0)\n",
      "train_ds.imgs       : ('./data/train1/0\\\\images (155).jpg', 0)\n",
      "train_ds.imgs       : ('./data/train1/0\\\\images (156).jpg', 0)\n",
      "train_ds.imgs       : ('./data/train1/0\\\\images (157).jpg', 0)\n",
      "train_ds.imgs       : ('./data/train1/0\\\\images (158).jpg', 0)\n",
      "train_ds.imgs       : ('./data/train1/0\\\\images (16).jpg', 0)\n",
      "train_ds.imgs       : ('./data/train1/0\\\\images (160).jpg', 0)\n",
      "train_ds.imgs       : ('./data/train1/0\\\\images (161).jpg', 0)\n",
      "train_ds.imgs       : ('./data/train1/0\\\\images (162).jpg', 0)\n",
      "train_ds.imgs       : ('./data/train1/0\\\\images (163).jpg', 0)\n",
      "train_ds.imgs       : ('./data/train1/0\\\\images (164).jpg', 0)\n",
      "train_ds.imgs       : ('./data/train1/0\\\\images (165).jpg', 0)\n",
      "train_ds.imgs       : ('./data/train1/0\\\\images (166).jpg', 0)\n",
      "train_ds.imgs       : ('./data/train1/0\\\\images (168).jpg', 0)\n",
      "train_ds.imgs       : ('./data/train1/0\\\\images (17).jpg', 0)\n",
      "train_ds.imgs       : ('./data/train1/0\\\\images (170).jpg', 0)\n",
      "train_ds.imgs       : ('./data/train1/0\\\\images (171).jpg', 0)\n",
      "train_ds.imgs       : ('./data/train1/0\\\\images (172).jpg', 0)\n",
      "train_ds.imgs       : ('./data/train1/0\\\\images (174).jpg', 0)\n",
      "train_ds.imgs       : ('./data/train1/0\\\\images (175).jpg', 0)\n",
      "train_ds.imgs       : ('./data/train1/0\\\\images (176).jpg', 0)\n",
      "train_ds.imgs       : ('./data/train1/0\\\\images (177).jpg', 0)\n",
      "train_ds.imgs       : ('./data/train1/0\\\\images (178).jpg', 0)\n",
      "train_ds.imgs       : ('./data/train1/0\\\\images (179).jpg', 0)\n",
      "train_ds.imgs       : ('./data/train1/0\\\\images (18).jpg', 0)\n",
      "train_ds.imgs       : ('./data/train1/0\\\\images (180).jpg', 0)\n",
      "train_ds.imgs       : ('./data/train1/0\\\\images (181).jpg', 0)\n",
      "train_ds.imgs       : ('./data/train1/0\\\\images (183).jpg', 0)\n",
      "train_ds.imgs       : ('./data/train1/0\\\\images (184).jpg', 0)\n",
      "train_ds.imgs       : ('./data/train1/0\\\\images (185).jpg', 0)\n",
      "train_ds.imgs       : ('./data/train1/0\\\\images (186).jpg', 0)\n",
      "train_ds.imgs       : ('./data/train1/0\\\\images (187).jpg', 0)\n",
      "train_ds.imgs       : ('./data/train1/0\\\\images (188).jpg', 0)\n",
      "train_ds.imgs       : ('./data/train1/0\\\\images (189).jpg', 0)\n",
      "train_ds.imgs       : ('./data/train1/0\\\\images (19).jpg', 0)\n",
      "train_ds.imgs       : ('./data/train1/0\\\\images (190).jpg', 0)\n",
      "train_ds.imgs       : ('./data/train1/0\\\\images (2).jpg', 0)\n",
      "train_ds.imgs       : ('./data/train1/0\\\\images (2)3.jpg', 0)\n",
      "train_ds.imgs       : ('./data/train1/0\\\\images (20).jpg', 0)\n",
      "train_ds.imgs       : ('./data/train1/0\\\\images (21).jpg', 0)\n",
      "train_ds.imgs       : ('./data/train1/0\\\\images (22).jpg', 0)\n",
      "train_ds.imgs       : ('./data/train1/0\\\\images (23).jpg', 0)\n",
      "train_ds.imgs       : ('./data/train1/0\\\\images (24).jpg', 0)\n",
      "train_ds.imgs       : ('./data/train1/0\\\\images (25).jpg', 0)\n",
      "train_ds.imgs       : ('./data/train1/0\\\\images (26).jpg', 0)\n",
      "train_ds.imgs       : ('./data/train1/0\\\\images (27).jpg', 0)\n",
      "train_ds.imgs       : ('./data/train1/0\\\\images (28).jpg', 0)\n",
      "train_ds.imgs       : ('./data/train1/0\\\\images (29).jpg', 0)\n",
      "train_ds.imgs       : ('./data/train1/0\\\\images (3).jpg', 0)\n",
      "train_ds.imgs       : ('./data/train1/0\\\\images (30).jpg', 0)\n",
      "train_ds.imgs       : ('./data/train1/0\\\\images (31).jpg', 0)\n",
      "train_ds.imgs       : ('./data/train1/0\\\\images (32).jpg', 0)\n",
      "train_ds.imgs       : ('./data/train1/0\\\\images (33).jpg', 0)\n",
      "train_ds.imgs       : ('./data/train1/0\\\\images (34).jpg', 0)\n",
      "train_ds.imgs       : ('./data/train1/0\\\\images (3453).jpg', 0)\n",
      "train_ds.imgs       : ('./data/train1/0\\\\images (35).jpg', 0)\n",
      "train_ds.imgs       : ('./data/train1/0\\\\images (36).jpg', 0)\n",
      "train_ds.imgs       : ('./data/train1/0\\\\images (37).jpg', 0)\n",
      "train_ds.imgs       : ('./data/train1/0\\\\images (38).jpg', 0)\n",
      "train_ds.imgs       : ('./data/train1/0\\\\images (39).jpg', 0)\n",
      "train_ds.imgs       : ('./data/train1/0\\\\images (4).jpg', 0)\n",
      "train_ds.imgs       : ('./data/train1/0\\\\images (40).jpg', 0)\n",
      "train_ds.imgs       : ('./data/train1/0\\\\images (41).jpg', 0)\n",
      "train_ds.imgs       : ('./data/train1/0\\\\images (42).jpg', 0)\n",
      "train_ds.imgs       : ('./data/train1/0\\\\images (43).jpg', 0)\n",
      "train_ds.imgs       : ('./data/train1/0\\\\images (44).jpg', 0)\n",
      "train_ds.imgs       : ('./data/train1/0\\\\images (45).jpg', 0)\n",
      "train_ds.imgs       : ('./data/train1/0\\\\images (46).jpg', 0)\n",
      "train_ds.imgs       : ('./data/train1/0\\\\images (47).jpg', 0)\n",
      "train_ds.imgs       : ('./data/train1/0\\\\images (48).jpg', 0)\n",
      "train_ds.imgs       : ('./data/train1/0\\\\images (49).jpg', 0)\n",
      "train_ds.imgs       : ('./data/train1/0\\\\images (5).jpg', 0)\n",
      "train_ds.imgs       : ('./data/train1/0\\\\images (50).jpg', 0)\n",
      "train_ds.imgs       : ('./data/train1/0\\\\images (51).jpg', 0)\n",
      "train_ds.imgs       : ('./data/train1/0\\\\images (52).jpg', 0)\n",
      "train_ds.imgs       : ('./data/train1/0\\\\images (53).jpg', 0)\n",
      "train_ds.imgs       : ('./data/train1/0\\\\images (54).jpg', 0)\n",
      "train_ds.imgs       : ('./data/train1/0\\\\images (55).jpg', 0)\n",
      "train_ds.imgs       : ('./data/train1/0\\\\images (56).jpg', 0)\n",
      "train_ds.imgs       : ('./data/train1/0\\\\images (57).jpg', 0)\n",
      "train_ds.imgs       : ('./data/train1/0\\\\images (58).jpg', 0)\n",
      "train_ds.imgs       : ('./data/train1/0\\\\images (59).jpg', 0)\n",
      "train_ds.imgs       : ('./data/train1/0\\\\images (6).jpg', 0)\n",
      "train_ds.imgs       : ('./data/train1/0\\\\images (60).jpg', 0)\n",
      "train_ds.imgs       : ('./data/train1/0\\\\images (61).jpg', 0)\n",
      "train_ds.imgs       : ('./data/train1/0\\\\images (62).jpg', 0)\n",
      "train_ds.imgs       : ('./data/train1/0\\\\images (63).jpg', 0)\n",
      "train_ds.imgs       : ('./data/train1/0\\\\images (64).jpg', 0)\n",
      "train_ds.imgs       : ('./data/train1/0\\\\images (65).jpg', 0)\n",
      "train_ds.imgs       : ('./data/train1/0\\\\images (66).jpg', 0)\n",
      "train_ds.imgs       : ('./data/train1/0\\\\images (67).jpg', 0)\n",
      "train_ds.imgs       : ('./data/train1/0\\\\images (68).jpg', 0)\n",
      "train_ds.imgs       : ('./data/train1/0\\\\images (69).jpg', 0)\n",
      "train_ds.imgs       : ('./data/train1/0\\\\images (7).jpg', 0)\n",
      "train_ds.imgs       : ('./data/train1/0\\\\images (70).jpg', 0)\n",
      "train_ds.imgs       : ('./data/train1/0\\\\images (71).jpg', 0)\n",
      "train_ds.imgs       : ('./data/train1/0\\\\images (72).jpg', 0)\n",
      "train_ds.imgs       : ('./data/train1/0\\\\images (73).jpg', 0)\n",
      "train_ds.imgs       : ('./data/train1/0\\\\images (74).jpg', 0)\n",
      "train_ds.imgs       : ('./data/train1/0\\\\images (75).jpg', 0)\n",
      "train_ds.imgs       : ('./data/train1/0\\\\images (76).jpg', 0)\n",
      "train_ds.imgs       : ('./data/train1/0\\\\images (77).jpg', 0)\n",
      "train_ds.imgs       : ('./data/train1/0\\\\images (78).jpg', 0)\n",
      "train_ds.imgs       : ('./data/train1/0\\\\images (79).jpg', 0)\n",
      "train_ds.imgs       : ('./data/train1/0\\\\images (8).jpg', 0)\n",
      "train_ds.imgs       : ('./data/train1/0\\\\images (80).jpg', 0)\n",
      "train_ds.imgs       : ('./data/train1/0\\\\images (81).jpg', 0)\n",
      "train_ds.imgs       : ('./data/train1/0\\\\images (82).jpg', 0)\n",
      "train_ds.imgs       : ('./data/train1/0\\\\images (83).jpg', 0)\n",
      "train_ds.imgs       : ('./data/train1/0\\\\images (84).jpg', 0)\n",
      "train_ds.imgs       : ('./data/train1/0\\\\images (85).jpg', 0)\n",
      "train_ds.imgs       : ('./data/train1/0\\\\images (86).jpg', 0)\n",
      "train_ds.imgs       : ('./data/train1/0\\\\images (87).jpg', 0)\n",
      "train_ds.imgs       : ('./data/train1/0\\\\images (88).jpg', 0)\n",
      "train_ds.imgs       : ('./data/train1/0\\\\images (89).jpg', 0)\n",
      "train_ds.imgs       : ('./data/train1/0\\\\images (9).jpg', 0)\n",
      "train_ds.imgs       : ('./data/train1/0\\\\images (90).jpg', 0)\n",
      "train_ds.imgs       : ('./data/train1/0\\\\images (91).jpg', 0)\n",
      "train_ds.imgs       : ('./data/train1/0\\\\images (92).jpg', 0)\n",
      "train_ds.imgs       : ('./data/train1/0\\\\images (93).jpg', 0)\n",
      "train_ds.imgs       : ('./data/train1/0\\\\images (94).jpg', 0)\n",
      "train_ds.imgs       : ('./data/train1/0\\\\images (95).jpg', 0)\n",
      "train_ds.imgs       : ('./data/train1/0\\\\images (96).jpg', 0)\n",
      "train_ds.imgs       : ('./data/train1/0\\\\images (97).jpg', 0)\n",
      "train_ds.imgs       : ('./data/train1/0\\\\images (98).jpg', 0)\n",
      "train_ds.imgs       : ('./data/train1/0\\\\images (99).jpg', 0)\n",
      "train_ds.imgs       : ('./data/train1/0\\\\images - 2020-08-28T125409.837.jpg', 0)\n",
      "train_ds.imgs       : ('./data/train1/0\\\\images - 2020-08-28T125409.838.jpg', 0)\n",
      "train_ds.imgs       : ('./data/train1/0\\\\images - 2020-08-28T125409.839.jpg', 0)\n",
      "train_ds.imgs       : ('./data/train1/0\\\\images - 2020-08-28T125409.840.jpg', 0)\n",
      "train_ds.imgs       : ('./data/train1/0\\\\images - 2020-08-28T125409.841.jpg', 0)\n",
      "train_ds.imgs       : ('./data/train1/0\\\\images - 2020-08-28T125409.843.jpg', 0)\n",
      "train_ds.imgs       : ('./data/train1/0\\\\images - 2020-08-28T125409.844.jpg', 0)\n",
      "train_ds.imgs       : ('./data/train1/0\\\\images - 2020-08-28T125409.859.jpg', 0)\n",
      "train_ds.imgs       : ('./data/train1/0\\\\images - 2020-08-28T125409.868.jpg', 0)\n",
      "train_ds.imgs       : ('./data/train1/0\\\\images - 2020-08-28T125409.928.jpg', 0)\n",
      "train_ds.imgs       : ('./data/train1/0\\\\images - 2020-08-28T125409.963.jpg', 0)\n",
      "train_ds.imgs       : ('./data/train1/0\\\\images - 2020-08-28T125409.964.jpg', 0)\n",
      "train_ds.imgs       : ('./data/train1/0\\\\images - 2020-08-28T125409.965.jpg', 0)\n",
      "train_ds.imgs       : ('./data/train1/0\\\\images - 2020-08-28T125409.967.jpg', 0)\n",
      "train_ds.imgs       : ('./data/train1/0\\\\images - 2020-08-28T125409.968.jpg', 0)\n",
      "train_ds.imgs       : ('./data/train1/0\\\\images - 2020-08-28T125409.986.jpg', 0)\n",
      "train_ds.imgs       : ('./data/train1/0\\\\images - 2020-08-28T125409.987.jpg', 0)\n",
      "train_ds.imgs       : ('./data/train1/0\\\\images - 2020-08-28T125409.992.jpg', 0)\n",
      "train_ds.imgs       : ('./data/train1/0\\\\images - 2020-08-28T125410.022.jpg', 0)\n",
      "train_ds.imgs       : ('./data/train1/0\\\\images - 2020-08-28T125410.059.jpg', 0)\n",
      "train_ds.imgs       : ('./data/train1/0\\\\images - 2020-08-28T125410.060.jpg', 0)\n",
      "train_ds.imgs       : ('./data/train1/0\\\\images - 2020-08-28T125410.173.jpg', 0)\n",
      "train_ds.imgs       : ('./data/train1/0\\\\images - 2020-08-28T125410.191.jpg', 0)\n",
      "train_ds.imgs       : ('./data/train1/0\\\\images - 2020-08-28T125410.194.jpg', 0)\n",
      "train_ds.imgs       : ('./data/train1/0\\\\images - 2020-08-28T125410.196.jpg', 0)\n",
      "train_ds.imgs       : ('./data/train1/0\\\\images - 2020-08-28T125410.197.jpg', 0)\n",
      "train_ds.imgs       : ('./data/train1/0\\\\images - 2020-08-28T125410.206.jpg', 0)\n",
      "train_ds.imgs       : ('./data/train1/0\\\\images - 2020-08-28T125410.213.jpg', 0)\n",
      "train_ds.imgs       : ('./data/train1/0\\\\images - 2020-08-28T125410.292.jpg', 0)\n",
      "train_ds.imgs       : ('./data/train1/0\\\\images - 2020-08-28T125410.318.jpg', 0)\n",
      "train_ds.imgs       : ('./data/train1/0\\\\images - 2020-08-28T125410.361.jpg', 0)\n",
      "train_ds.imgs       : ('./data/train1/0\\\\images - 2020-08-28T125410.367.jpg', 0)\n",
      "train_ds.imgs       : ('./data/train1/0\\\\images - 2020-08-28T125410.519.jpg', 0)\n",
      "train_ds.imgs       : ('./data/train1/0\\\\images - 2020-08-28T125410.520.jpg', 0)\n",
      "train_ds.imgs       : ('./data/train1/0\\\\images - 2020-08-28T125410.533.jpg', 0)\n",
      "train_ds.imgs       : ('./data/train1/0\\\\images - 2020-08-28T125410.592.jpg', 0)\n",
      "train_ds.imgs       : ('./data/train1/0\\\\images - 2020-08-28T125410.670.jpg', 0)\n",
      "train_ds.imgs       : ('./data/train1/0\\\\images - 2020-08-28T125410.671.jpg', 0)\n",
      "train_ds.imgs       : ('./data/train1/0\\\\images - 2020-08-28T125410.986.jpg', 0)\n",
      "train_ds.imgs       : ('./data/train1/0\\\\images - 2020-08-28T125410.992.jpg', 0)\n",
      "train_ds.imgs       : ('./data/train1/0\\\\images - 2020-08-28T125410.993.jpg', 0)\n",
      "train_ds.imgs       : ('./data/train1/0\\\\images - 2020-08-28T125411.009.jpg', 0)\n",
      "train_ds.imgs       : ('./data/train1/0\\\\images - 2020-08-28T125411.011.jpg', 0)\n",
      "train_ds.imgs       : ('./data/train1/0\\\\images - 2020-08-28T125411.013.jpg', 0)\n",
      "train_ds.imgs       : ('./data/train1/0\\\\images - 2020-08-28T125411.014.jpg', 0)\n",
      "train_ds.imgs       : ('./data/train1/0\\\\images - 2020-08-28T125411.015.jpg', 0)\n",
      "train_ds.imgs       : ('./data/train1/0\\\\images - 2020-08-28T125411.016.jpg', 0)\n",
      "train_ds.imgs       : ('./data/train1/0\\\\images - 2020-08-28T125411.017.jpg', 0)\n",
      "train_ds.imgs       : ('./data/train1/0\\\\images - 2020-08-28T125411.062.jpg', 0)\n",
      "train_ds.imgs       : ('./data/train1/0\\\\images - 2020-08-28T125411.064.jpg', 0)\n",
      "train_ds.imgs       : ('./data/train1/0\\\\images - 2020-08-28T125411.065.jpg', 0)\n",
      "train_ds.imgs       : ('./data/train1/0\\\\images - 2020-08-28T125411.066.jpg', 0)\n",
      "train_ds.imgs       : ('./data/train1/0\\\\images - 2020-08-28T125411.067.jpg', 0)\n",
      "train_ds.imgs       : ('./data/train1/0\\\\images - 2020-08-28T125411.096.jpg', 0)\n",
      "train_ds.imgs       : ('./data/train1/0\\\\images - 2020-08-28T125411.097.jpg', 0)\n",
      "train_ds.imgs       : ('./data/train1/0\\\\images - 2020-08-28T125411.099.jpg', 0)\n",
      "train_ds.imgs       : ('./data/train1/0\\\\images - 2020-08-28T125411.100.jpg', 0)\n",
      "train_ds.imgs       : ('./data/train1/0\\\\images - 2020-08-28T125411.130.jpg', 0)\n",
      "train_ds.imgs       : ('./data/train1/0\\\\images - 2020-08-28T125411.131.jpg', 0)\n",
      "train_ds.imgs       : ('./data/train1/0\\\\images - 2020-08-28T125411.132.jpg', 0)\n",
      "train_ds.imgs       : ('./data/train1/0\\\\images - 2020-08-28T125411.133.jpg', 0)\n",
      "train_ds.imgs       : ('./data/train1/0\\\\images - 2020-08-28T125411.135.jpg', 0)\n",
      "train_ds.imgs       : ('./data/train1/0\\\\images - 2020-08-28T125411.136.jpg', 0)\n",
      "train_ds.imgs       : ('./data/train1/0\\\\images - 2020-08-28T125411.138.jpg', 0)\n",
      "train_ds.imgs       : ('./data/train1/0\\\\images - 2020-08-28T125411.210.jpg', 0)\n",
      "train_ds.imgs       : ('./data/train1/0\\\\images - 2020-08-28T125411.307.jpg', 0)\n",
      "train_ds.imgs       : ('./data/train1/0\\\\images - 2020-08-28T125411.308.jpg', 0)\n",
      "train_ds.imgs       : ('./data/train1/0\\\\images - 2020-08-28T125411.312.jpg', 0)\n",
      "train_ds.imgs       : ('./data/train1/0\\\\images - 2020-08-28T125411.314.jpg', 0)\n",
      "train_ds.imgs       : ('./data/train1/0\\\\images - 2020-08-28T125411.315.jpg', 0)\n",
      "train_ds.imgs       : ('./data/train1/0\\\\images - 2020-08-28T125411.316.jpg', 0)\n",
      "train_ds.imgs       : ('./data/train1/0\\\\images - 2020-08-28T125411.333.jpg', 0)\n",
      "train_ds.imgs       : ('./data/train1/0\\\\images - 2020-08-28T125411.337.jpg', 0)\n",
      "train_ds.imgs       : ('./data/train1/0\\\\images - 2020-08-28T125411.339.jpg', 0)\n",
      "train_ds.imgs       : ('./data/train1/0\\\\images - 2020-08-28T125411.340.jpg', 0)\n",
      "train_ds.imgs       : ('./data/train1/0\\\\images - 2020-08-28T125411.344.jpg', 0)\n",
      "train_ds.imgs       : ('./data/train1/0\\\\images - 2020-08-28T125411.367.jpg', 0)\n",
      "train_ds.imgs       : ('./data/train1/0\\\\images - 2020-08-28T125411.379.jpg', 0)\n",
      "train_ds.imgs       : ('./data/train1/0\\\\images - 2020-08-28T125411.417.jpg', 0)\n",
      "train_ds.imgs       : ('./data/train1/0\\\\images - 2020-08-28T125411.418.jpg', 0)\n",
      "train_ds.imgs       : ('./data/train1/0\\\\images - 2020-08-28T125925.269.jpg', 0)\n",
      "train_ds.imgs       : ('./data/train1/0\\\\images - 2020-08-28T125925.270.jpg', 0)\n",
      "train_ds.imgs       : ('./data/train1/0\\\\images - 2020-08-28T125925.274.jpg', 0)\n",
      "train_ds.imgs       : ('./data/train1/0\\\\images - 2020-08-28T125925.288.jpg', 0)\n",
      "train_ds.imgs       : ('./data/train1/0\\\\images - 2020-08-28T125925.304.jpg', 0)\n",
      "train_ds.imgs       : ('./data/train1/0\\\\images - 2020-08-28T125925.306.jpg', 0)\n",
      "train_ds.imgs       : ('./data/train1/0\\\\images - 2020-08-28T125925.307.jpg', 0)\n",
      "train_ds.imgs       : ('./data/train1/0\\\\images - 2020-08-28T125925.335.jpg', 0)\n",
      "train_ds.imgs       : ('./data/train1/0\\\\images - 2020-08-28T125925.336.jpg', 0)\n",
      "train_ds.imgs       : ('./data/train1/0\\\\images - 2020-08-28T125925.337.jpg', 0)\n",
      "train_ds.imgs       : ('./data/train1/0\\\\images - 2020-08-28T125925.338.jpg', 0)\n",
      "train_ds.imgs       : ('./data/train1/0\\\\images - 2020-08-28T125925.339.jpg', 0)\n",
      "train_ds.imgs       : ('./data/train1/0\\\\images - 2020-08-28T125925.357.jpg', 0)\n",
      "train_ds.imgs       : ('./data/train1/0\\\\images - 2020-08-28T125925.360.jpg', 0)\n",
      "train_ds.imgs       : ('./data/train1/0\\\\images - 2020-08-28T125925.361.jpg', 0)\n",
      "train_ds.imgs       : ('./data/train1/0\\\\images - 2020-08-28T125925.363.jpg', 0)\n",
      "train_ds.imgs       : ('./data/train1/0\\\\images - 2020-08-28T125925.364.jpg', 0)\n",
      "train_ds.imgs       : ('./data/train1/0\\\\images - 2020-08-28T125925.366.jpg', 0)\n",
      "train_ds.imgs       : ('./data/train1/0\\\\images - 2020-08-28T125925.367.jpg', 0)\n",
      "train_ds.imgs       : ('./data/train1/0\\\\images - 2020-08-28T125925.368.jpg', 0)\n",
      "train_ds.imgs       : ('./data/train1/0\\\\images - 2020-08-28T125925.369.jpg', 0)\n",
      "train_ds.imgs       : ('./data/train1/0\\\\images - 2020-08-28T125925.415.jpg', 0)\n",
      "train_ds.imgs       : ('./data/train1/0\\\\images - 2020-08-28T125925.506.jpg', 0)\n",
      "train_ds.imgs       : ('./data/train1/0\\\\images - 2020-08-28T125925.699.jpg', 0)\n",
      "train_ds.imgs       : ('./data/train1/0\\\\images - 2020-08-28T125925.706.jpg', 0)\n",
      "train_ds.imgs       : ('./data/train1/0\\\\images - 2020-08-28T125925.707.jpg', 0)\n",
      "train_ds.imgs       : ('./data/train1/0\\\\images - 2020-08-28T125925.710.jpg', 0)\n",
      "train_ds.imgs       : ('./data/train1/0\\\\images - 2020-08-28T125925.728.jpg', 0)\n",
      "train_ds.imgs       : ('./data/train1/0\\\\images - 2020-08-28T125925.730.jpg', 0)\n",
      "train_ds.imgs       : ('./data/train1/0\\\\images - 2020-08-28T125925.731.jpg', 0)\n",
      "train_ds.imgs       : ('./data/train1/0\\\\images - 2020-08-28T125925.733.jpg', 0)\n",
      "train_ds.imgs       : ('./data/train1/0\\\\images - 2020-08-28T125925.734.jpg', 0)\n",
      "train_ds.imgs       : ('./data/train1/0\\\\images - 2020-08-28T125925.735.jpg', 0)\n",
      "train_ds.imgs       : ('./data/train1/0\\\\images - 2020-08-28T125925.736.jpg', 0)\n",
      "train_ds.imgs       : ('./data/train1/0\\\\images - 2020-08-28T125925.737.jpg', 0)\n",
      "train_ds.imgs       : ('./data/train1/0\\\\images - 2020-08-28T125925.792.jpg', 0)\n",
      "train_ds.imgs       : ('./data/train1/0\\\\images - 2020-08-28T125925.794.jpg', 0)\n",
      "train_ds.imgs       : ('./data/train1/0\\\\images - 2020-08-28T125925.796.jpg', 0)\n",
      "train_ds.imgs       : ('./data/train1/0\\\\images - 2020-08-28T125925.797.jpg', 0)\n",
      "train_ds.imgs       : ('./data/train1/0\\\\images - 2020-08-28T125925.798.jpg', 0)\n",
      "train_ds.imgs       : ('./data/train1/0\\\\images - 2020-08-28T125925.799.jpg', 0)\n",
      "train_ds.imgs       : ('./data/train1/0\\\\images - 2020-08-28T125925.804.jpg', 0)\n",
      "train_ds.imgs       : ('./data/train1/0\\\\images - 2020-08-28T125925.805.jpg', 0)\n",
      "train_ds.imgs       : ('./data/train1/0\\\\images - 2020-08-28T125925.869.jpg', 0)\n",
      "train_ds.imgs       : ('./data/train1/0\\\\images - 2020-08-28T125925.873.jpg', 0)\n",
      "train_ds.imgs       : ('./data/train1/0\\\\images - 2020-08-28T125925.874.jpg', 0)\n",
      "train_ds.imgs       : ('./data/train1/0\\\\images - 2020-08-28T125925.877.jpg', 0)\n",
      "train_ds.imgs       : ('./data/train1/0\\\\images - 2020-08-28T125925.878.jpg', 0)\n",
      "train_ds.imgs       : ('./data/train1/0\\\\images - 2020-08-28T125925.913.jpg', 0)\n",
      "train_ds.imgs       : ('./data/train1/0\\\\images - 2020-08-28T125925.914.jpg', 0)\n",
      "train_ds.imgs       : ('./data/train1/0\\\\images - 2020-08-28T125925.915.jpg', 0)\n",
      "train_ds.imgs       : ('./data/train1/0\\\\images - 2020-08-28T125925.916.jpg', 0)\n",
      "train_ds.imgs       : ('./data/train1/0\\\\images - 2020-08-28T125925.930.jpg', 0)\n",
      "train_ds.imgs       : ('./data/train1/0\\\\images - 2020-08-28T125925.931.jpg', 0)\n",
      "train_ds.imgs       : ('./data/train1/0\\\\images - 2020-08-28T125925.953.jpg', 0)\n",
      "train_ds.imgs       : ('./data/train1/0\\\\images - 2020-08-28T125925.972.jpg', 0)\n",
      "train_ds.imgs       : ('./data/train1/0\\\\images - 2020-08-28T125925.974.jpg', 0)\n",
      "train_ds.imgs       : ('./data/train1/0\\\\images - 2020-08-28T125925.976.jpg', 0)\n",
      "train_ds.imgs       : ('./data/train1/0\\\\images - 2020-08-28T125926.047.jpg', 0)\n",
      "train_ds.imgs       : ('./data/train1/0\\\\images - 2020-08-28T125926.073.jpg', 0)\n",
      "train_ds.imgs       : ('./data/train1/0\\\\images - 2020-08-28T125926.074.jpg', 0)\n",
      "train_ds.imgs       : ('./data/train1/0\\\\images - 2020-08-28T125926.075.jpg', 0)\n",
      "train_ds.imgs       : ('./data/train1/0\\\\images - 2020-08-28T125926.076.jpg', 0)\n",
      "train_ds.imgs       : ('./data/train1/0\\\\images - 2020-08-28T125926.077.jpg', 0)\n",
      "train_ds.imgs       : ('./data/train1/0\\\\images - 2020-08-28T125926.207.jpg', 0)\n",
      "train_ds.imgs       : ('./data/train1/0\\\\images - 2020-08-28T125926.210.jpg', 0)\n",
      "train_ds.imgs       : ('./data/train1/0\\\\images - 2020-08-28T125926.214.jpg', 0)\n",
      "train_ds.imgs       : ('./data/train1/0\\\\images - 2020-08-28T125926.216.jpg', 0)\n",
      "train_ds.imgs       : ('./data/train1/0\\\\images - 2020-08-28T125926.243.jpg', 0)\n",
      "train_ds.imgs       : ('./data/train1/0\\\\images - 2020-08-28T130309.093.jpg', 0)\n",
      "train_ds.imgs       : ('./data/train1/0\\\\images - 2020-08-28T130309.094.jpg', 0)\n",
      "train_ds.imgs       : ('./data/train1/0\\\\images - 2020-08-28T130309.097.jpg', 0)\n",
      "train_ds.imgs       : ('./data/train1/0\\\\images - 2020-08-28T130309.151.jpg', 0)\n",
      "train_ds.imgs       : ('./data/train1/0\\\\images - 2020-08-28T130309.152.jpg', 0)\n",
      "train_ds.imgs       : ('./data/train1/0\\\\images - 2020-08-28T130309.159.jpg', 0)\n",
      "train_ds.imgs       : ('./data/train1/0\\\\images - 2020-08-28T130309.179.jpg', 0)\n",
      "train_ds.imgs       : ('./data/train1/0\\\\images - 2020-08-28T130309.180.jpg', 0)\n",
      "train_ds.imgs       : ('./data/train1/0\\\\images - 2020-08-28T130309.192.jpg', 0)\n",
      "train_ds.imgs       : ('./data/train1/0\\\\images - 2020-08-28T130309.193.jpg', 0)\n",
      "train_ds.imgs       : ('./data/train1/0\\\\images - 2020-08-28T130309.194.jpg', 0)\n",
      "train_ds.imgs       : ('./data/train1/0\\\\images - 2020-08-28T130309.200.jpg', 0)\n",
      "train_ds.imgs       : ('./data/train1/0\\\\images - 2020-08-28T130309.272.jpg', 0)\n",
      "train_ds.imgs       : ('./data/train1/0\\\\images - 2020-08-28T130309.509.jpg', 0)\n",
      "train_ds.imgs       : ('./data/train1/0\\\\images - 2020-08-28T130309.510.jpg', 0)\n",
      "train_ds.imgs       : ('./data/train1/0\\\\images - 2020-08-28T130309.515.jpg', 0)\n",
      "train_ds.imgs       : ('./data/train1/0\\\\images - 2020-08-28T130309.537.jpg', 0)\n",
      "train_ds.imgs       : ('./data/train1/0\\\\images - 2020-08-28T130309.539.jpg', 0)\n",
      "train_ds.imgs       : ('./data/train1/0\\\\images - 2020-08-28T130309.556.jpg', 0)\n",
      "train_ds.imgs       : ('./data/train1/0\\\\images - 2020-08-28T130309.557.jpg', 0)\n",
      "train_ds.imgs       : ('./data/train1/0\\\\images - 2020-08-28T130309.565.jpg', 0)\n",
      "train_ds.imgs       : ('./data/train1/0\\\\images - 2020-08-28T130309.567.jpg', 0)\n",
      "train_ds.imgs       : ('./data/train1/0\\\\images - 2020-08-28T130309.597.jpg', 0)\n",
      "train_ds.imgs       : ('./data/train1/0\\\\images - 2020-08-28T130309.598.jpg', 0)\n",
      "train_ds.imgs       : ('./data/train1/0\\\\images - 2020-08-28T130309.599.jpg', 0)\n",
      "train_ds.imgs       : ('./data/train1/0\\\\images - 2020-08-28T130309.600.jpg', 0)\n",
      "train_ds.imgs       : ('./data/train1/0\\\\images - 2020-08-28T130309.601.jpg', 0)\n",
      "train_ds.imgs       : ('./data/train1/0\\\\images - 2020-08-28T130309.602.jpg', 0)\n",
      "train_ds.imgs       : ('./data/train1/0\\\\images - 2020-08-28T130309.603.jpg', 0)\n",
      "train_ds.imgs       : ('./data/train1/0\\\\images - 2020-08-28T130309.605.jpg', 0)\n",
      "train_ds.imgs       : ('./data/train1/0\\\\images - 2020-08-28T130309.622.jpg', 0)\n",
      "train_ds.imgs       : ('./data/train1/0\\\\images - 2020-08-28T130309.626.jpg', 0)\n",
      "train_ds.imgs       : ('./data/train1/0\\\\images - 2020-08-28T130309.685.jpg', 0)\n",
      "train_ds.imgs       : ('./data/train1/0\\\\images - 2020-08-28T130309.700.jpg', 0)\n",
      "train_ds.imgs       : ('./data/train1/0\\\\images - 2020-08-28T130309.701.jpg', 0)\n",
      "train_ds.imgs       : ('./data/train1/0\\\\images - 2020-08-28T130309.702.jpg', 0)\n",
      "train_ds.imgs       : ('./data/train1/0\\\\images - 2020-08-28T130309.717.jpg', 0)\n",
      "train_ds.imgs       : ('./data/train1/0\\\\images - 2020-08-28T130309.739.jpg', 0)\n",
      "train_ds.imgs       : ('./data/train1/0\\\\images - 2020-08-28T130309.740.jpg', 0)\n",
      "train_ds.imgs       : ('./data/train1/0\\\\images - 2020-08-28T130309.741.jpg', 0)\n",
      "train_ds.imgs       : ('./data/train1/0\\\\images - 2020-08-28T130309.763.jpg', 0)\n",
      "train_ds.imgs       : ('./data/train1/0\\\\images - 2020-08-28T130309.765.jpg', 0)\n",
      "train_ds.imgs       : ('./data/train1/0\\\\images - 2020-08-28T130309.766.jpg', 0)\n",
      "train_ds.imgs       : ('./data/train1/0\\\\images - 2020-08-28T130309.953.jpg', 0)\n",
      "train_ds.imgs       : ('./data/train1/0\\\\images - 2020-08-28T130309.963.jpg', 0)\n",
      "train_ds.imgs       : ('./data/train1/0\\\\images - 2020-08-28T130309.965.jpg', 0)\n",
      "train_ds.imgs       : ('./data/train1/0\\\\images - 2020-08-28T130309.966.jpg', 0)\n",
      "train_ds.imgs       : ('./data/train1/0\\\\images - 2020-08-28T130309.967.jpg', 0)\n",
      "train_ds.imgs       : ('./data/train1/0\\\\images - 2020-08-28T130309.968.jpg', 0)\n",
      "train_ds.imgs       : ('./data/train1/0\\\\images - 2020-08-28T130309.969.jpg', 0)\n",
      "train_ds.imgs       : ('./data/train1/0\\\\images - 2020-08-28T130309.970.jpg', 0)\n",
      "train_ds.imgs       : ('./data/train1/0\\\\images - 2020-08-28T130309.973.jpg', 0)\n",
      "train_ds.imgs       : ('./data/train1/0\\\\images - 2020-08-28T130309.975.jpg', 0)\n",
      "train_ds.imgs       : ('./data/train1/0\\\\images - 2020-08-28T130309.977.jpg', 0)\n",
      "train_ds.imgs       : ('./data/train1/0\\\\images - 2020-08-28T130309.978.jpg', 0)\n",
      "train_ds.imgs       : ('./data/train1/0\\\\images - 2020-08-28T130309.997.jpg', 0)\n",
      "train_ds.imgs       : ('./data/train1/0\\\\images - 2020-08-28T130310.000.jpg', 0)\n",
      "train_ds.imgs       : ('./data/train1/0\\\\images - 2020-08-28T130310.001.jpg', 0)\n",
      "train_ds.imgs       : ('./data/train1/0\\\\images - 2020-08-28T130310.003.jpg', 0)\n",
      "train_ds.imgs       : ('./data/train1/0\\\\images - 2020-08-28T130310.004.jpg', 0)\n",
      "train_ds.imgs       : ('./data/train1/0\\\\images - 2020-08-28T130310.005.jpg', 0)\n",
      "train_ds.imgs       : ('./data/train1/0\\\\images - 2020-08-28T130310.006.jpg', 0)\n",
      "train_ds.imgs       : ('./data/train1/0\\\\images - 2020-08-28T130310.007.jpg', 0)\n",
      "train_ds.imgs       : ('./data/train1/0\\\\images - 2020-08-28T130310.008.jpg', 0)\n",
      "train_ds.imgs       : ('./data/train1/0\\\\images - 2020-08-28T130310.015.jpg', 0)\n",
      "train_ds.imgs       : ('./data/train1/0\\\\images - 2020-08-28T130310.016.jpg', 0)\n",
      "train_ds.imgs       : ('./data/train1/0\\\\images - 2020-08-28T130310.019.jpg', 0)\n",
      "train_ds.imgs       : ('./data/train1/0\\\\images - 2020-08-28T130310.020.jpg', 0)\n",
      "train_ds.imgs       : ('./data/train1/0\\\\images - 2020-08-28T130310.023.jpg', 0)\n",
      "train_ds.imgs       : ('./data/train1/0\\\\images - 2020-08-28T130310.024.jpg', 0)\n",
      "train_ds.imgs       : ('./data/train1/0\\\\images - 2020-08-28T130310.026.jpg', 0)\n",
      "train_ds.imgs       : ('./data/train1/0\\\\images - 2020-08-28T130310.036.jpg', 0)\n",
      "train_ds.imgs       : ('./data/train1/0\\\\images - 2020-08-28T130310.038.jpg', 0)\n",
      "train_ds.imgs       : ('./data/train1/0\\\\images - 2020-08-28T130310.039.jpg', 0)\n",
      "train_ds.imgs       : ('./data/train1/0\\\\images - 2020-08-28T130310.040.jpg', 0)\n",
      "train_ds.imgs       : ('./data/train1/0\\\\images - 2020-08-28T130310.041.jpg', 0)\n",
      "train_ds.imgs       : ('./data/train1/0\\\\images - 2020-08-28T130310.042.jpg', 0)\n",
      "train_ds.imgs       : ('./data/train1/0\\\\images - 2020-08-28T130310.043.jpg', 0)\n",
      "train_ds.imgs       : ('./data/train1/0\\\\images - 2020-08-28T130310.044.jpg', 0)\n",
      "train_ds.imgs       : ('./data/train1/0\\\\images - 2020-08-28T130310.045.jpg', 0)\n",
      "train_ds.imgs       : ('./data/train1/0\\\\images - 2020-08-28T130310.046.jpg', 0)\n",
      "train_ds.imgs       : ('./data/train1/0\\\\images - 2020-08-28T130310.047.jpg', 0)\n",
      "train_ds.imgs       : ('./data/train1/0\\\\images - 2020-08-28T130310.048.jpg', 0)\n",
      "train_ds.imgs       : ('./data/train1/0\\\\images - 2020-08-28T130310.053.jpg', 0)\n",
      "train_ds.imgs       : ('./data/train1/0\\\\images - 2020-08-28T130310.054.jpg', 0)\n",
      "train_ds.imgs       : ('./data/train1/0\\\\images - 2020-08-28T130310.055.jpg', 0)\n",
      "train_ds.imgs       : ('./data/train1/0\\\\images - 2020-08-28T130310.057.jpg', 0)\n",
      "train_ds.imgs       : ('./data/train1/0\\\\images - 2020-08-28T130310.058.jpg', 0)\n",
      "train_ds.imgs       : ('./data/train1/0\\\\images - 2020-08-28T130310.061.jpg', 0)\n",
      "train_ds.imgs       : ('./data/train1/0\\\\images - 2020-08-28T130310.063.jpg', 0)\n",
      "train_ds.imgs       : ('./data/train1/0\\\\images - 2020-08-28T130310.064.jpg', 0)\n",
      "train_ds.imgs       : ('./data/train1/0\\\\images - 2020-08-28T130310.067.jpg', 0)\n",
      "train_ds.imgs       : ('./data/train1/0\\\\images - 2020-08-28T130310.072.jpg', 0)\n",
      "train_ds.imgs       : ('./data/train1/0\\\\images - 2020-10-16T121158.824.jpg', 0)\n",
      "train_ds.imgs       : ('./data/train1/0\\\\images - 2020-10-16T121158.899.jpg', 0)\n",
      "train_ds.imgs       : ('./data/train1/0\\\\images - 2020-10-16T121158.900.jpg', 0)\n",
      "train_ds.imgs       : ('./data/train1/0\\\\images - 2020-10-16T121158.910.jpg', 0)\n",
      "train_ds.imgs       : ('./data/train1/0\\\\images - 2020-10-16T121158.912.jpg', 0)\n",
      "train_ds.imgs       : ('./data/train1/0\\\\images - 2020-10-16T121158.923.jpg', 0)\n",
      "train_ds.imgs       : ('./data/train1/0\\\\images - 2020-10-16T121158.980.jpg', 0)\n",
      "train_ds.imgs       : ('./data/train1/0\\\\images - 2020-10-16T121159.124.jpg', 0)\n",
      "train_ds.imgs       : ('./data/train1/0\\\\images - 2020-10-16T121159.146.jpg', 0)\n",
      "train_ds.imgs       : ('./data/train1/0\\\\images - 2020-10-16T121159.147.jpg', 0)\n",
      "train_ds.imgs       : ('./data/train1/0\\\\images - 2020-10-16T121159.202.jpg', 0)\n",
      "train_ds.imgs       : ('./data/train1/0\\\\images - 2020-10-16T121159.239.jpg', 0)\n",
      "train_ds.imgs       : ('./data/train1/0\\\\images - 2020-10-16T121159.242.jpg', 0)\n",
      "train_ds.imgs       : ('./data/train1/0\\\\images - 2020-10-16T121159.254.jpg', 0)\n",
      "train_ds.imgs       : ('./data/train1/0\\\\images - 2020-10-16T121159.255.jpg', 0)\n",
      "train_ds.imgs       : ('./data/train1/0\\\\images - 2020-10-16T121159.430.jpg', 0)\n",
      "train_ds.imgs       : ('./data/train1/0\\\\images - 2020-10-16T121159.582.jpg', 0)\n",
      "train_ds.imgs       : ('./data/train1/0\\\\images - 2020-10-16T121159.943.jpg', 0)\n",
      "train_ds.imgs       : ('./data/train1/0\\\\images - 2020-10-16T121159.944.jpg', 0)\n",
      "train_ds.imgs       : ('./data/train1/0\\\\images - 2020-10-16T121200.040.jpg', 0)\n",
      "train_ds.imgs       : ('./data/train1/0\\\\images - 2020-10-16T121200.066.jpg', 0)\n",
      "train_ds.imgs       : ('./data/train1/0\\\\images - 2020-10-16T121200.092.jpg', 0)\n",
      "train_ds.imgs       : ('./data/train1/0\\\\images - 2020-10-16T121200.108.jpg', 0)\n",
      "train_ds.imgs       : ('./data/train1/0\\\\images - 2020-10-16T121200.128.jpg', 0)\n",
      "train_ds.imgs       : ('./data/train1/0\\\\images - 2020-10-16T121200.167.jpg', 0)\n",
      "train_ds.imgs       : ('./data/train1/0\\\\images - 2020-10-16T121200.231.jpg', 0)\n",
      "train_ds.imgs       : ('./data/train1/0\\\\images - 2020-10-16T121200.232.jpg', 0)\n",
      "train_ds.imgs       : ('./data/train1/0\\\\images - 2020-10-16T121200.539.jpg', 0)\n",
      "train_ds.imgs       : ('./data/train1/0\\\\images - 2020-10-16T121200.716.jpg', 0)\n",
      "train_ds.imgs       : ('./data/train1/0\\\\images - 2020-10-16T121201.076.jpg', 0)\n",
      "train_ds.imgs       : ('./data/train1/0\\\\images - 2020-10-16T121201.166.jpg', 0)\n",
      "train_ds.imgs       : ('./data/train1/0\\\\images - 2020-10-16T121201.210.jpg', 0)\n",
      "train_ds.imgs       : ('./data/train1/0\\\\images - 2020-10-16T121201.563.jpg', 0)\n",
      "train_ds.imgs       : ('./data/train1/0\\\\images - 2020-10-16T121201.564.jpg', 0)\n",
      "train_ds.imgs       : ('./data/train1/0\\\\images - 2020-10-16T121201.732.jpg', 0)\n",
      "train_ds.imgs       : ('./data/train1/0\\\\images - 2020-10-16T121201.952.jpg', 0)\n",
      "train_ds.imgs       : ('./data/train1/0\\\\images - 2020-10-16T121201.959.jpg', 0)\n",
      "train_ds.imgs       : ('./data/train1/0\\\\images - 2020-10-16T121201.971.jpg', 0)\n",
      "train_ds.imgs       : ('./data/train1/0\\\\images - 2020-10-16T121201.983.jpg', 0)\n",
      "train_ds.imgs       : ('./data/train1/0\\\\images - 2020-10-16T121201.986.jpg', 0)\n",
      "train_ds.imgs       : ('./data/train1/0\\\\images - 2020-10-16T121202.032.jpg', 0)\n",
      "train_ds.imgs       : ('./data/train1/0\\\\images - 2020-10-16T121202.402.jpg', 0)\n",
      "train_ds.imgs       : ('./data/train1/0\\\\images - 2020-10-16T121202.436.jpg', 0)\n",
      "train_ds.imgs       : ('./data/train1/0\\\\images - 2020-10-16T121202.453.jpg', 0)\n",
      "train_ds.imgs       : ('./data/train1/0\\\\images - 2020-10-16T121202.454.jpg', 0)\n",
      "train_ds.imgs       : ('./data/train1/0\\\\images - 2020-10-16T121202.748.jpg', 0)\n",
      "train_ds.imgs       : ('./data/train1/0\\\\images - 2020-10-16T121202.786.jpg', 0)\n",
      "train_ds.imgs       : ('./data/train1/0\\\\images - 2020-10-16T121202.787.jpg', 0)\n",
      "train_ds.imgs       : ('./data/train1/0\\\\images - 2020-10-16T121202.790.jpg', 0)\n",
      "train_ds.imgs       : ('./data/train1/0\\\\images - 2020-10-16T121202.792.jpg', 0)\n",
      "train_ds.imgs       : ('./data/train1/0\\\\images - 2020-10-16T121203.008.jpg', 0)\n",
      "train_ds.imgs       : ('./data/train1/0\\\\images - 2020-10-16T121203.012.jpg', 0)\n",
      "train_ds.imgs       : ('./data/train1/0\\\\images - 2020-10-16T121203.013.jpg', 0)\n",
      "train_ds.imgs       : ('./data/train1/0\\\\images - 2020-10-16T121203.199.jpg', 0)\n",
      "train_ds.imgs       : ('./data/train1/0\\\\images - 2020-10-16T121203.200.jpg', 0)\n",
      "train_ds.imgs       : ('./data/train1/0\\\\images - 2020-10-16T121203.218.jpg', 0)\n",
      "train_ds.imgs       : ('./data/train1/0\\\\images - 2020-10-16T121203.312.jpg', 0)\n",
      "train_ds.imgs       : ('./data/train1/0\\\\images - 2020-10-16T121203.334.jpg', 0)\n",
      "train_ds.imgs       : ('./data/train1/0\\\\images - 2020-10-16T121203.335.jpg', 0)\n",
      "train_ds.imgs       : ('./data/train1/0\\\\images - 2020-10-16T121203.360.jpg', 0)\n",
      "train_ds.imgs       : ('./data/train1/0\\\\images - 2020-10-16T121203.363.jpg', 0)\n",
      "train_ds.imgs       : ('./data/train1/0\\\\images - 2020-10-16T121203.368.jpg', 0)\n",
      "train_ds.imgs       : ('./data/train1/0\\\\images - 2020-10-16T121203.369.jpg', 0)\n",
      "train_ds.imgs       : ('./data/train1/0\\\\images - 2020-10-16T121203.370.jpg', 0)\n",
      "train_ds.imgs       : ('./data/train1/0\\\\images - 2020-10-16T121203.401.jpg', 0)\n",
      "train_ds.imgs       : ('./data/train1/0\\\\images - 2020-10-16T121203.412.jpg', 0)\n",
      "train_ds.imgs       : ('./data/train1/0\\\\images - 2020-10-16T121203.413.jpg', 0)\n",
      "train_ds.imgs       : ('./data/train1/0\\\\images - 2020-10-16T121203.415.jpg', 0)\n",
      "train_ds.imgs       : ('./data/train1/0\\\\images - 2020-10-16T121203.423.jpg', 0)\n",
      "train_ds.imgs       : ('./data/train1/0\\\\images - 2020-10-16T121203.622.jpg', 0)\n",
      "train_ds.imgs       : ('./data/train1/0\\\\images - 2020-10-16T121203.651.jpg', 0)\n",
      "train_ds.imgs       : ('./data/train1/0\\\\images - 2020-10-16T121203.726.jpg', 0)\n",
      "train_ds.imgs       : ('./data/train1/0\\\\images - 2020-10-16T121203.792.jpg', 0)\n",
      "train_ds.imgs       : ('./data/train1/0\\\\images - 2020-10-16T121203.817.jpg', 0)\n",
      "train_ds.imgs       : ('./data/train1/0\\\\images - 2020-10-16T121203.819.jpg', 0)\n",
      "train_ds.imgs       : ('./data/train1/0\\\\images - 2020-10-16T121203.823.jpg', 0)\n",
      "train_ds.imgs       : ('./data/train1/0\\\\images - 2020-10-16T121203.824.jpg', 0)\n",
      "train_ds.imgs       : ('./data/train1/0\\\\images - 2020-10-16T121203.829.jpg', 0)\n",
      "train_ds.imgs       : ('./data/train1/0\\\\images - 2020-10-16T121203.841.jpg', 0)\n",
      "train_ds.imgs       : ('./data/train1/0\\\\images - 2020-10-16T121203.871.jpg', 0)\n",
      "train_ds.imgs       : ('./data/train1/0\\\\images - 2020-10-16T121203.874.jpg', 0)\n",
      "train_ds.imgs       : ('./data/train1/0\\\\images - 2020-10-16T121203.876.jpg', 0)\n",
      "train_ds.imgs       : ('./data/train1/0\\\\images - 2020-10-16T121203.880.jpg', 0)\n",
      "train_ds.imgs       : ('./data/train1/0\\\\images - 2020-10-16T121203.881.jpg', 0)\n",
      "train_ds.imgs       : ('./data/train1/0\\\\images - 2020-10-16T121203.923.jpg', 0)\n",
      "train_ds.imgs       : ('./data/train1/0\\\\images - 2020-10-16T121203.924.jpg', 0)\n",
      "train_ds.imgs       : ('./data/train1/0\\\\images - 2020-10-16T121203.935.jpg', 0)\n",
      "train_ds.imgs       : ('./data/train1/0\\\\images - 2020-10-16T121203.952.jpg', 0)\n",
      "train_ds.imgs       : ('./data/train1/0\\\\images - 2020-10-16T121203.965.jpg', 0)\n",
      "train_ds.imgs       : ('./data/train1/0\\\\images - 2020-10-16T121204.004.jpg', 0)\n",
      "train_ds.imgs       : ('./data/train1/0\\\\images - 2020-10-16T121204.026.jpg', 0)\n",
      "train_ds.imgs       : ('./data/train1/0\\\\images - 2020-10-16T121204.027.jpg', 0)\n",
      "train_ds.imgs       : ('./data/train1/0\\\\images - 2020-10-16T121204.081.jpg', 0)\n",
      "train_ds.imgs       : ('./data/train1/0\\\\images - 2020-10-16T121204.082.jpg', 0)\n",
      "train_ds.imgs       : ('./data/train1/0\\\\images - 2020-10-16T121204.103.jpg', 0)\n",
      "train_ds.imgs       : ('./data/train1/0\\\\images - 2020-10-16T121204.127.jpg', 0)\n",
      "train_ds.imgs       : ('./data/train1/0\\\\images - 2020-10-16T121204.197.jpg', 0)\n",
      "train_ds.imgs       : ('./data/train1/0\\\\images - 2020-10-16T121204.210.jpg', 0)\n",
      "train_ds.imgs       : ('./data/train1/0\\\\images - 2020-10-16T121204.241.jpg', 0)\n",
      "train_ds.imgs       : ('./data/train1/0\\\\images - 2020-10-16T121204.267.jpg', 0)\n",
      "train_ds.imgs       : ('./data/train1/0\\\\images - 2020-10-16T121204.360.jpg', 0)\n",
      "train_ds.imgs       : ('./data/train1/0\\\\images - 2020-10-16T121204.634.jpg', 0)\n",
      "train_ds.imgs       : ('./data/train1/0\\\\images - 2020-10-16T121204.688.jpg', 0)\n",
      "train_ds.imgs       : ('./data/train1/0\\\\images - 2020-10-16T121204.755.jpg', 0)\n",
      "train_ds.imgs       : ('./data/train1/0\\\\images - 2020-10-16T121204.756.jpg', 0)\n",
      "train_ds.imgs       : ('./data/train1/0\\\\images - 2020-10-16T121204.777.jpg', 0)\n",
      "train_ds.imgs       : ('./data/train1/0\\\\images - 2020-10-16T121204.813.jpg', 0)\n",
      "train_ds.imgs       : ('./data/train1/0\\\\images - 2020-10-16T121204.814.jpg', 0)\n",
      "train_ds.imgs       : ('./data/train1/0\\\\images - 2020-10-16T121204.817.jpg', 0)\n",
      "train_ds.imgs       : ('./data/train1/0\\\\images - 2020-10-16T121204.827.jpg', 0)\n",
      "train_ds.imgs       : ('./data/train1/0\\\\images - 2020-10-16T121204.840.jpg', 0)\n",
      "train_ds.imgs       : ('./data/train1/0\\\\images - 2020-10-16T121204.871.jpg', 0)\n",
      "train_ds.imgs       : ('./data/train1/0\\\\images - 2020-10-16T121204.872.jpg', 0)\n",
      "train_ds.imgs       : ('./data/train1/0\\\\images - 2020-10-16T121204.913.jpg', 0)\n",
      "train_ds.imgs       : ('./data/train1/0\\\\images - 2020-10-16T121204.920.jpg', 0)\n",
      "train_ds.imgs       : ('./data/train1/0\\\\images - 2020-10-16T121204.924.jpg', 0)\n",
      "train_ds.imgs       : ('./data/train1/0\\\\images - 2020-10-16T121204.933.jpg', 0)\n",
      "train_ds.imgs       : ('./data/train1/0\\\\images - 2020-10-16T121204.946.jpg', 0)\n",
      "train_ds.imgs       : ('./data/train1/0\\\\images - 2020-10-16T121204.960.jpg', 0)\n",
      "train_ds.imgs       : ('./data/train1/0\\\\images - 2020-10-16T121204.979.jpg', 0)\n",
      "train_ds.imgs       : ('./data/train1/0\\\\images - 2020-10-16T121204.982.jpg', 0)\n",
      "train_ds.imgs       : ('./data/train1/0\\\\images - 2020-10-16T121205.026.jpg', 0)\n",
      "train_ds.imgs       : ('./data/train1/0\\\\images - 2020-10-16T121205.030.jpg', 0)\n",
      "train_ds.imgs       : ('./data/train1/0\\\\images - 2020-10-16T121205.031.jpg', 0)\n",
      "train_ds.imgs       : ('./data/train1/0\\\\images - 2020-10-16T121205.060.jpg', 0)\n",
      "train_ds.imgs       : ('./data/train1/0\\\\images - 2020-10-16T121205.061.jpg', 0)\n",
      "train_ds.imgs       : ('./data/train1/0\\\\images - 2020-10-16T121205.085.jpg', 0)\n",
      "train_ds.imgs       : ('./data/train1/0\\\\images - 2020-10-16T121205.121.jpg', 0)\n",
      "train_ds.imgs       : ('./data/train1/0\\\\images - 2020-10-16T121205.283.jpg', 0)\n",
      "train_ds.imgs       : ('./data/train1/0\\\\images - 2020-10-16T121205.363.jpg', 0)\n",
      "train_ds.imgs       : ('./data/train1/0\\\\images - 2020-10-16T121206.022.jpg', 0)\n",
      "train_ds.imgs       : ('./data/train1/0\\\\images - 2020-10-16T121206.023.jpg', 0)\n",
      "train_ds.imgs       : ('./data/train1/0\\\\images - 2020-10-16T121206.024.jpg', 0)\n",
      "train_ds.imgs       : ('./data/train1/0\\\\images - 2020-10-16T121206.025.jpg', 0)\n",
      "train_ds.imgs       : ('./data/train1/0\\\\images - 2020-10-16T121206.073.jpg', 0)\n",
      "train_ds.imgs       : ('./data/train1/0\\\\images - 2020-10-16T121206.108.jpg', 0)\n",
      "train_ds.imgs       : ('./data/train1/0\\\\images - 2020-10-16T121206.109.jpg', 0)\n",
      "train_ds.imgs       : ('./data/train1/0\\\\images - 2020-10-16T121206.385.jpg', 0)\n",
      "train_ds.imgs       : ('./data/train1/0\\\\images - 2020-10-16T121206.435.jpg', 0)\n",
      "train_ds.imgs       : ('./data/train1/0\\\\images - 2020-10-16T121206.447.jpg', 0)\n",
      "train_ds.imgs       : ('./data/train1/0\\\\images - 2020-10-16T121206.449.jpg', 0)\n",
      "train_ds.imgs       : ('./data/train1/0\\\\images - 2020-10-16T121206.451.jpg', 0)\n",
      "train_ds.imgs       : ('./data/train1/0\\\\images - 2020-10-16T121206.453.jpg', 0)\n",
      "train_ds.imgs       : ('./data/train1/0\\\\images - 2020-10-16T121206.457.jpg', 0)\n",
      "train_ds.imgs       : ('./data/train1/0\\\\images - 2020-10-16T121206.500.jpg', 0)\n",
      "train_ds.imgs       : ('./data/train1/0\\\\images - 2020-10-16T121206.514.jpg', 0)\n",
      "train_ds.imgs       : ('./data/train1/0\\\\images - 2020-10-16T121206.783.jpg', 0)\n",
      "train_ds.imgs       : ('./data/train1/0\\\\images - 2020-10-16T121206.784.jpg', 0)\n",
      "train_ds.imgs       : ('./data/train1/0\\\\images - 2020-10-16T121206.892.jpg', 0)\n",
      "train_ds.imgs       : ('./data/train1/0\\\\images - 2020-10-16T121206.893.jpg', 0)\n",
      "train_ds.imgs       : ('./data/train1/0\\\\images - 2020-10-16T121206.894.jpg', 0)\n",
      "train_ds.imgs       : ('./data/train1/0\\\\images - 2020-10-16T121206.917.jpg', 0)\n",
      "train_ds.imgs       : ('./data/train1/0\\\\images - 2020-10-16T121206.937.jpg', 0)\n",
      "train_ds.imgs       : ('./data/train1/0\\\\images - 2020-10-16T121206.938.jpg', 0)\n",
      "train_ds.imgs       : ('./data/train1/0\\\\images - 2020-10-16T121206.939.jpg', 0)\n",
      "train_ds.imgs       : ('./data/train1/0\\\\images - 2020-10-16T121206.945.jpg', 0)\n",
      "train_ds.imgs       : ('./data/train1/0\\\\images - 2020-10-16T121206.947.jpg', 0)\n",
      "train_ds.imgs       : ('./data/train1/0\\\\images - 2020-10-16T121206.990.jpg', 0)\n",
      "train_ds.imgs       : ('./data/train1/0\\\\images - 2020-10-16T121206.992.jpg', 0)\n",
      "train_ds.imgs       : ('./data/train1/0\\\\images - 2020-10-16T121206.993.jpg', 0)\n",
      "train_ds.imgs       : ('./data/train1/0\\\\images - 2020-10-16T121206.996.jpg', 0)\n",
      "train_ds.imgs       : ('./data/train1/0\\\\images - 2020-10-16T121206.998.jpg', 0)\n",
      "train_ds.imgs       : ('./data/train1/0\\\\images - 2020-10-16T121207.268.jpg', 0)\n",
      "train_ds.imgs       : ('./data/train1/0\\\\images - 2020-10-16T121207.269.jpg', 0)\n",
      "train_ds.imgs       : ('./data/train1/0\\\\images - 2020-10-16T121207.271.jpg', 0)\n",
      "train_ds.imgs       : ('./data/train1/0\\\\images - 2020-10-16T200337.343.jpg', 0)\n",
      "train_ds.imgs       : ('./data/train1/0\\\\images - 2020-10-16T200337.344.jpg', 0)\n",
      "train_ds.imgs       : ('./data/train1/0\\\\images - 2020-10-16T200337.346.jpg', 0)\n",
      "train_ds.imgs       : ('./data/train1/0\\\\images - 2020-10-16T200337.351.jpg', 0)\n",
      "train_ds.imgs       : ('./data/train1/0\\\\images - 2020-10-16T200337.353.jpg', 0)\n",
      "train_ds.imgs       : ('./data/train1/0\\\\images - 2020-10-16T200337.354.jpg', 0)\n",
      "train_ds.imgs       : ('./data/train1/0\\\\images - 2020-10-16T200337.372.jpg', 0)\n",
      "train_ds.imgs       : ('./data/train1/0\\\\images - 2020-10-16T200337.417.jpg', 0)\n",
      "train_ds.imgs       : ('./data/train1/0\\\\images - 2020-10-16T200337.421.jpg', 0)\n",
      "train_ds.imgs       : ('./data/train1/0\\\\images - 2020-10-16T200337.422.jpg', 0)\n",
      "train_ds.imgs       : ('./data/train1/0\\\\images - 2020-10-16T200337.573.jpg', 0)\n",
      "train_ds.imgs       : ('./data/train1/0\\\\images - 2020-10-16T200337.590.jpg', 0)\n",
      "train_ds.imgs       : ('./data/train1/0\\\\images - 2020-10-16T200337.742.jpg', 0)\n",
      "train_ds.imgs       : ('./data/train1/0\\\\images - 2020-10-16T200337.752.jpg', 0)\n",
      "train_ds.imgs       : ('./data/train1/0\\\\images - 2020-10-16T200337.753.jpg', 0)\n",
      "train_ds.imgs       : ('./data/train1/0\\\\images - 2020-10-16T200337.755.jpg', 0)\n",
      "train_ds.imgs       : ('./data/train1/0\\\\images - 2020-10-16T200337.758.jpg', 0)\n",
      "train_ds.imgs       : ('./data/train1/0\\\\images - 2020-10-16T200338.770.jpg', 0)\n",
      "train_ds.imgs       : ('./data/train1/0\\\\images - 2020-10-16T200338.771.jpg', 0)\n",
      "train_ds.imgs       : ('./data/train1/0\\\\images - 2020-10-16T200338.772.jpg', 0)\n",
      "train_ds.imgs       : ('./data/train1/0\\\\images - 2020-10-16T200338.773.jpg', 0)\n",
      "train_ds.imgs       : ('./data/train1/0\\\\images - 2020-10-16T200339.293.jpg', 0)\n",
      "train_ds.imgs       : ('./data/train1/0\\\\images - 2020-10-16T200339.403.jpg', 0)\n",
      "train_ds.imgs       : ('./data/train1/0\\\\images - 2020-10-16T200339.406.jpg', 0)\n",
      "train_ds.imgs       : ('./data/train1/0\\\\images - 2020-10-16T200339.616.jpg', 0)\n",
      "train_ds.imgs       : ('./data/train1/0\\\\images - 2020-10-16T200339.681.jpg', 0)\n",
      "train_ds.imgs       : ('./data/train1/0\\\\images - 2020-10-16T200339.791.jpg', 0)\n",
      "train_ds.imgs       : ('./data/train1/0\\\\images - 2020-10-16T200339.889.jpg', 0)\n",
      "train_ds.imgs       : ('./data/train1/0\\\\images - 2020-10-16T200340.238.jpg', 0)\n",
      "train_ds.imgs       : ('./data/train1/0\\\\images - 2020-10-16T200341.050.jpg', 0)\n",
      "train_ds.imgs       : ('./data/train1/0\\\\images - 2020-10-16T200341.069.jpg', 0)\n",
      "train_ds.imgs       : ('./data/train1/0\\\\images - 2020-10-16T200341.072.jpg', 0)\n",
      "train_ds.imgs       : ('./data/train1/0\\\\images - 2020-10-16T200341.103.jpg', 0)\n",
      "train_ds.imgs       : ('./data/train1/0\\\\images - 2020-10-16T200341.104.jpg', 0)\n",
      "train_ds.imgs       : ('./data/train1/0\\\\images - 2020-10-16T200341.507.jpg', 0)\n",
      "train_ds.imgs       : ('./data/train1/0\\\\images - 2020-10-16T200341.590.jpg', 0)\n",
      "train_ds.imgs       : ('./data/train1/0\\\\images - 2020-10-16T200341.597.jpg', 0)\n",
      "train_ds.imgs       : ('./data/train1/0\\\\images - 2020-10-16T200341.598.jpg', 0)\n",
      "train_ds.imgs       : ('./data/train1/0\\\\images - 2020-10-16T200341.599.jpg', 0)\n",
      "train_ds.imgs       : ('./data/train1/0\\\\images - 2020-10-16T200341.601.jpg', 0)\n",
      "train_ds.imgs       : ('./data/train1/0\\\\images - 2020-10-16T200341.602.jpg', 0)\n",
      "train_ds.imgs       : ('./data/train1/0\\\\images - 2020-10-16T200341.603.jpg', 0)\n",
      "train_ds.imgs       : ('./data/train1/0\\\\images - 2020-10-16T200341.711.jpg', 0)\n",
      "train_ds.imgs       : ('./data/train1/0\\\\images - 2020-10-16T200341.859.jpg', 0)\n",
      "train_ds.imgs       : ('./data/train1/0\\\\images - 2020-10-16T200341.860.jpg', 0)\n",
      "train_ds.imgs       : ('./data/train1/0\\\\images - 2020-10-16T200342.912.jpg', 0)\n",
      "train_ds.imgs       : ('./data/train1/0\\\\images - 2020-10-16T200343.075.jpg', 0)\n",
      "train_ds.imgs       : ('./data/train1/0\\\\images - 2020-10-16T200343.076.jpg', 0)\n",
      "train_ds.imgs       : ('./data/train1/0\\\\images - 2020-10-16T200343.293.jpg', 0)\n",
      "train_ds.imgs       : ('./data/train1/0\\\\images - 2020-10-16T200343.294.jpg', 0)\n",
      "train_ds.imgs       : ('./data/train1/0\\\\images - 2020-10-16T200343.298.jpg', 0)\n",
      "train_ds.imgs       : ('./data/train1/0\\\\images - 2020-10-16T200343.301.jpg', 0)\n",
      "train_ds.imgs       : ('./data/train1/0\\\\images - 2020-10-16T200343.858.jpg', 0)\n",
      "train_ds.imgs       : ('./data/train1/0\\\\images - 2020-10-16T200343.859.jpg', 0)\n",
      "train_ds.imgs       : ('./data/train1/0\\\\images - 2020-10-16T200343.860.jpg', 0)\n",
      "train_ds.imgs       : ('./data/train1/0\\\\images - 2020-10-16T200344.670.jpg', 0)\n",
      "train_ds.imgs       : ('./data/train1/0\\\\images - 2020-10-16T200344.945.jpg', 0)\n",
      "train_ds.imgs       : ('./data/train1/0\\\\images - 2020-10-16T200344.947.jpg', 0)\n",
      "train_ds.imgs       : ('./data/train1/0\\\\images - 2020-10-16T200345.663.jpg', 0)\n",
      "train_ds.imgs       : ('./data/train1/0\\\\images - 2020-10-16T200345.664.jpg', 0)\n",
      "train_ds.imgs       : ('./data/train1/0\\\\images - 2020-10-16T200345.977.jpg', 0)\n",
      "train_ds.imgs       : ('./data/train1/0\\\\images - 2020-10-16T200346.158.jpg', 0)\n",
      "train_ds.imgs       : ('./data/train1/0\\\\images - 2020-10-16T200346.160.jpg', 0)\n",
      "train_ds.imgs       : ('./data/train1/0\\\\images - 2020-10-16T200346.176.jpg', 0)\n",
      "train_ds.imgs       : ('./data/train1/0\\\\images - 2020-10-16T200346.178.jpg', 0)\n",
      "train_ds.imgs       : ('./data/train1/0\\\\images - 2020-10-16T200346.183.jpg', 0)\n",
      "train_ds.imgs       : ('./data/train1/0\\\\images - 2020-10-16T200346.305.jpg', 0)\n",
      "train_ds.imgs       : ('./data/train1/0\\\\images - 2020-10-16T200346.913.jpg', 0)\n",
      "train_ds.imgs       : ('./data/train1/0\\\\images - 2020-10-16T200346.915.jpg', 0)\n",
      "train_ds.imgs       : ('./data/train1/0\\\\images - 2020-10-16T200346.916.jpg', 0)\n",
      "train_ds.imgs       : ('./data/train1/0\\\\images - 2020-10-16T200346.918.jpg', 0)\n",
      "train_ds.imgs       : ('./data/train1/0\\\\images - 2020-10-16T200346.919.jpg', 0)\n",
      "train_ds.imgs       : ('./data/train1/0\\\\images - 2020-10-16T200346.920.jpg', 0)\n",
      "train_ds.imgs       : ('./data/train1/0\\\\images - 2020-10-16T200348.680.jpg', 0)\n",
      "train_ds.imgs       : ('./data/train1/0\\\\images - 2020-10-16T200348.759.jpg', 0)\n",
      "train_ds.imgs       : ('./data/train1/0\\\\images - 2020-10-16T200348.760.jpg', 0)\n",
      "train_ds.imgs       : ('./data/train1/0\\\\images - 2020-10-16T200349.119.jpg', 0)\n",
      "train_ds.imgs       : ('./data/train1/0\\\\images - 2020-10-16T200351.070.jpg', 0)\n",
      "train_ds.imgs       : ('./data/train1/0\\\\images - 2020-10-16T200351.813.jpg', 0)\n",
      "train_ds.imgs       : ('./data/train1/0\\\\images - 2020-10-16T200351.814.jpg', 0)\n",
      "train_ds.imgs       : ('./data/train1/0\\\\images - 2020-10-16T200351.815.jpg', 0)\n",
      "train_ds.imgs       : ('./data/train1/0\\\\images - 2020-10-16T200351.816.jpg', 0)\n",
      "train_ds.imgs       : ('./data/train1/0\\\\images - 2020-10-16T200352.223.jpg', 0)\n",
      "train_ds.imgs       : ('./data/train1/0\\\\images - 2020-10-16T200353.070.jpg', 0)\n",
      "train_ds.imgs       : ('./data/train1/0\\\\images - 2020-10-16T200353.071.jpg', 0)\n",
      "train_ds.imgs       : ('./data/train1/0\\\\images - 2020-10-16T200353.260.jpg', 0)\n",
      "train_ds.imgs       : ('./data/train1/0\\\\images - 2020-10-16T200353.261.jpg', 0)\n",
      "train_ds.imgs       : ('./data/train1/0\\\\images - 2020-10-16T200353.481.jpg', 0)\n",
      "train_ds.imgs       : ('./data/train1/0\\\\images - 2020-10-16T200353.483.jpg', 0)\n",
      "train_ds.imgs       : ('./data/train1/0\\\\images - 2020-10-16T200353.484.jpg', 0)\n",
      "train_ds.imgs       : ('./data/train1/0\\\\images - 2020-10-16T200353.486.jpg', 0)\n",
      "train_ds.imgs       : ('./data/train1/0\\\\images - 2020-10-16T200353.570.jpg', 0)\n",
      "train_ds.imgs       : ('./data/train1/0\\\\images - 2020-10-16T200353.571.jpg', 0)\n",
      "train_ds.imgs       : ('./data/train1/0\\\\images - 2020-10-16T200353.646.jpg', 0)\n",
      "train_ds.imgs       : ('./data/train1/0\\\\images - 2020-10-16T200353.647.jpg', 0)\n",
      "train_ds.imgs       : ('./data/train1/0\\\\images - 2020-10-16T200353.654.jpg', 0)\n",
      "train_ds.imgs       : ('./data/train1/0\\\\images - 2020-10-16T200353.656.jpg', 0)\n",
      "train_ds.imgs       : ('./data/train1/0\\\\images - 2020-10-16T200353.657.jpg', 0)\n",
      "train_ds.imgs       : ('./data/train1/0\\\\images - 2020-10-16T200353.802.jpg', 0)\n",
      "train_ds.imgs       : ('./data/train1/0\\\\images - 2020-10-16T200353.807.jpg', 0)\n",
      "train_ds.imgs       : ('./data/train1/0\\\\images - 2020-10-16T200353.808.jpg', 0)\n",
      "train_ds.imgs       : ('./data/train1/0\\\\images - 2020-10-16T200353.809.jpg', 0)\n",
      "train_ds.imgs       : ('./data/train1/0\\\\images - 2020-10-16T200353.977.jpg', 0)\n",
      "train_ds.imgs       : ('./data/train1/0\\\\images - 2020-10-16T200353.978.jpg', 0)\n",
      "train_ds.imgs       : ('./data/train1/0\\\\images - 2020-10-16T200353.979.jpg', 0)\n",
      "train_ds.imgs       : ('./data/train1/0\\\\images - 2020-10-16T200353.980.jpg', 0)\n",
      "train_ds.imgs       : ('./data/train1/0\\\\images - 2020-10-16T200353.982.jpg', 0)\n",
      "train_ds.imgs       : ('./data/train1/0\\\\images - 2020-10-16T201557.231.jpg', 0)\n",
      "train_ds.imgs       : ('./data/train1/0\\\\images - 2020-10-16T201557.232.jpg', 0)\n",
      "train_ds.imgs       : ('./data/train1/0\\\\images - 2020-10-16T201557.306.jpg', 0)\n",
      "train_ds.imgs       : ('./data/train1/0\\\\images - 2020-10-16T201557.307.jpg', 0)\n",
      "train_ds.imgs       : ('./data/train1/0\\\\images - 2020-10-16T201557.309.jpg', 0)\n",
      "train_ds.imgs       : ('./data/train1/0\\\\images - 2020-10-16T201557.312.jpg', 0)\n",
      "train_ds.imgs       : ('./data/train1/0\\\\images - 2020-10-16T201557.313.jpg', 0)\n",
      "train_ds.imgs       : ('./data/train1/0\\\\images - 2020-10-16T201557.362.jpg', 0)\n",
      "train_ds.imgs       : ('./data/train1/0\\\\images - 2020-10-16T201557.365.jpg', 0)\n",
      "train_ds.imgs       : ('./data/train1/0\\\\images - 2020-10-16T201557.366.jpg', 0)\n",
      "train_ds.imgs       : ('./data/train1/0\\\\images - 2020-10-16T201557.446.jpg', 0)\n",
      "train_ds.imgs       : ('./data/train1/0\\\\images - 2020-10-16T201557.447.jpg', 0)\n",
      "train_ds.imgs       : ('./data/train1/0\\\\images - 2020-10-16T201557.448.jpg', 0)\n",
      "train_ds.imgs       : ('./data/train1/0\\\\images - 2020-10-16T201557.475.jpg', 0)\n",
      "train_ds.imgs       : ('./data/train1/0\\\\images - 2020-10-16T201557.585.jpg', 0)\n",
      "train_ds.imgs       : ('./data/train1/0\\\\images - 2020-10-16T201557.587.jpg', 0)\n",
      "train_ds.imgs       : ('./data/train1/0\\\\images - 2020-10-16T201557.609.jpg', 0)\n",
      "train_ds.imgs       : ('./data/train1/0\\\\images - 2020-10-16T201557.624.jpg', 0)\n",
      "train_ds.imgs       : ('./data/train1/0\\\\images - 2020-10-16T201557.626.jpg', 0)\n",
      "train_ds.imgs       : ('./data/train1/0\\\\images - 2020-10-16T201557.633.jpg', 0)\n",
      "train_ds.imgs       : ('./data/train1/0\\\\images - 2020-10-16T201557.635.jpg', 0)\n",
      "train_ds.imgs       : ('./data/train1/0\\\\images - 2020-10-16T201557.655.jpg', 0)\n",
      "train_ds.imgs       : ('./data/train1/0\\\\images - 2020-10-16T201557.656.jpg', 0)\n",
      "train_ds.imgs       : ('./data/train1/0\\\\images - 2020-10-16T201557.658.jpg', 0)\n",
      "train_ds.imgs       : ('./data/train1/0\\\\images - 2020-10-16T201557.659.jpg', 0)\n",
      "train_ds.imgs       : ('./data/train1/0\\\\images - 2020-10-16T201557.702.jpg', 0)\n",
      "train_ds.imgs       : ('./data/train1/0\\\\images - 2020-10-16T201557.705.jpg', 0)\n",
      "train_ds.imgs       : ('./data/train1/0\\\\images - 2020-10-16T201557.758.jpg', 0)\n",
      "train_ds.imgs       : ('./data/train1/0\\\\images - 2020-10-16T201557.759.jpg', 0)\n",
      "train_ds.imgs       : ('./data/train1/0\\\\images - 2020-10-16T201557.762.jpg', 0)\n",
      "train_ds.imgs       : ('./data/train1/0\\\\images - 2020-10-16T201557.766.jpg', 0)\n",
      "train_ds.imgs       : ('./data/train1/0\\\\images - 2020-10-16T201557.894.jpg', 0)\n",
      "train_ds.imgs       : ('./data/train1/0\\\\images - 2020-10-16T201557.949.jpg', 0)\n",
      "train_ds.imgs       : ('./data/train1/0\\\\images - 2020-10-16T201557.968.jpg', 0)\n",
      "train_ds.imgs       : ('./data/train1/0\\\\images - 2020-10-16T201557.988.jpg', 0)\n",
      "train_ds.imgs       : ('./data/train1/0\\\\images - 2020-10-16T201558.003.jpg', 0)\n",
      "train_ds.imgs       : ('./data/train1/0\\\\images - 2020-10-16T201558.019.jpg', 0)\n",
      "train_ds.imgs       : ('./data/train1/0\\\\images - 2020-10-16T201558.090.jpg', 0)\n",
      "train_ds.imgs       : ('./data/train1/0\\\\images - 2020-10-16T201558.097.jpg', 0)\n",
      "train_ds.imgs       : ('./data/train1/0\\\\images - 2020-10-16T201558.125.jpg', 0)\n",
      "train_ds.imgs       : ('./data/train1/0\\\\images - 2020-10-16T201558.128.jpg', 0)\n",
      "train_ds.imgs       : ('./data/train1/0\\\\images - 2020-10-16T201558.253.jpg', 0)\n",
      "train_ds.imgs       : ('./data/train1/0\\\\images - 2020-10-16T201558.291.jpg', 0)\n",
      "train_ds.imgs       : ('./data/train1/0\\\\images - 2020-10-16T201558.293.jpg', 0)\n",
      "train_ds.imgs       : ('./data/train1/0\\\\images - 2020-10-16T201558.297.jpg', 0)\n",
      "train_ds.imgs       : ('./data/train1/0\\\\images - 2020-10-16T201558.298.jpg', 0)\n",
      "train_ds.imgs       : ('./data/train1/0\\\\images - 2020-10-16T201558.311.jpg', 0)\n",
      "train_ds.imgs       : ('./data/train1/0\\\\images - 2020-10-16T201558.312.jpg', 0)\n",
      "train_ds.imgs       : ('./data/train1/0\\\\images - 2020-10-16T201558.313.jpg', 0)\n",
      "train_ds.imgs       : ('./data/train1/0\\\\images - 2020-10-16T201558.314.jpg', 0)\n",
      "train_ds.imgs       : ('./data/train1/0\\\\images - 2020-10-16T201558.331.jpg', 0)\n",
      "train_ds.imgs       : ('./data/train1/0\\\\images - 2020-10-16T201558.353.jpg', 0)\n",
      "train_ds.imgs       : ('./data/train1/0\\\\images - 2020-10-16T201558.465.jpg', 0)\n",
      "train_ds.imgs       : ('./data/train1/0\\\\images - 2020-10-16T201558.466.jpg', 0)\n",
      "train_ds.imgs       : ('./data/train1/0\\\\images - 2020-10-16T201558.467.jpg', 0)\n",
      "train_ds.imgs       : ('./data/train1/0\\\\images - 2020-10-16T201558.540.jpg', 0)\n",
      "train_ds.imgs       : ('./data/train1/0\\\\images - 2020-10-16T201558.541.jpg', 0)\n",
      "train_ds.imgs       : ('./data/train1/0\\\\images - 2020-10-16T201558.860.jpg', 0)\n",
      "train_ds.imgs       : ('./data/train1/0\\\\images - 2020-10-16T201558.866.jpg', 0)\n",
      "train_ds.imgs       : ('./data/train1/0\\\\images - 2020-10-16T201558.881.jpg', 0)\n",
      "train_ds.imgs       : ('./data/train1/0\\\\images - 2020-10-16T201558.886.jpg', 0)\n",
      "train_ds.imgs       : ('./data/train1/0\\\\images - 2020-10-16T201558.887.jpg', 0)\n",
      "train_ds.imgs       : ('./data/train1/0\\\\images - 2020-10-16T201558.888.jpg', 0)\n",
      "train_ds.imgs       : ('./data/train1/0\\\\images - 2020-10-16T201558.889.jpg', 0)\n",
      "train_ds.imgs       : ('./data/train1/0\\\\images - 2020-10-16T201558.907.jpg', 0)\n",
      "train_ds.imgs       : ('./data/train1/0\\\\images - 2020-10-16T201558.995.jpg', 0)\n",
      "train_ds.imgs       : ('./data/train1/0\\\\images - 2020-10-16T201559.025.jpg', 0)\n",
      "train_ds.imgs       : ('./data/train1/0\\\\images - 2020-10-16T201559.044.jpg', 0)\n",
      "train_ds.imgs       : ('./data/train1/0\\\\images - 2020-10-16T201559.149.jpg', 0)\n",
      "train_ds.imgs       : ('./data/train1/0\\\\images - 2020-10-16T201559.151.jpg', 0)\n",
      "train_ds.imgs       : ('./data/train1/0\\\\images - 2020-10-16T201559.194.jpg', 0)\n",
      "train_ds.imgs       : ('./data/train1/0\\\\images - 2020-10-16T201559.277.jpg', 0)\n",
      "train_ds.imgs       : ('./data/train1/0\\\\images - 2020-10-16T201559.288.jpg', 0)\n",
      "train_ds.imgs       : ('./data/train1/0\\\\images - 2020-10-16T201559.307.jpg', 0)\n",
      "train_ds.imgs       : ('./data/train1/0\\\\images - 2020-10-16T201559.308.jpg', 0)\n",
      "train_ds.imgs       : ('./data/train1/0\\\\images - 2020-10-16T201559.354.jpg', 0)\n",
      "train_ds.imgs       : ('./data/train1/0\\\\images - 2020-10-16T201559.359.jpg', 0)\n",
      "train_ds.imgs       : ('./data/train1/0\\\\images - 2020-10-16T201559.362.jpg', 0)\n",
      "train_ds.imgs       : ('./data/train1/0\\\\images - 2020-10-16T201559.463.jpg', 0)\n",
      "train_ds.imgs       : ('./data/train1/0\\\\images - 2020-10-16T201559.493.jpg', 0)\n",
      "train_ds.imgs       : ('./data/train1/0\\\\images - 2020-10-16T201559.494.jpg', 0)\n",
      "train_ds.imgs       : ('./data/train1/0\\\\images - 2020-10-16T201559.526.jpg', 0)\n",
      "train_ds.imgs       : ('./data/train1/0\\\\images - 2020-10-16T201559.536.jpg', 0)\n",
      "train_ds.imgs       : ('./data/train1/0\\\\images - 2020-10-16T201559.537.jpg', 0)\n",
      "train_ds.imgs       : ('./data/train1/0\\\\images - 2020-10-16T201559.539.jpg', 0)\n",
      "train_ds.imgs       : ('./data/train1/0\\\\images - 2020-10-16T201559.540.jpg', 0)\n",
      "train_ds.imgs       : ('./data/train1/0\\\\images - 2020-10-16T201559.541.jpg', 0)\n",
      "train_ds.imgs       : ('./data/train1/0\\\\images - 2020-10-16T201559.542.jpg', 0)\n",
      "train_ds.imgs       : ('./data/train1/0\\\\images - 2020-10-16T201559.561.jpg', 0)\n",
      "train_ds.imgs       : ('./data/train1/0\\\\images - 2020-10-16T201559.563.jpg', 0)\n",
      "train_ds.imgs       : ('./data/train1/0\\\\images - 2020-10-16T201559.564.jpg', 0)\n",
      "train_ds.imgs       : ('./data/train1/0\\\\images - 2020-10-16T201559.565.jpg', 0)\n",
      "train_ds.imgs       : ('./data/train1/0\\\\images - 2020-10-16T201559.566.jpg', 0)\n",
      "train_ds.imgs       : ('./data/train1/0\\\\images - 2020-10-16T201559.567.jpg', 0)\n",
      "train_ds.imgs       : ('./data/train1/0\\\\images - 2020-10-16T201559.571.jpg', 0)\n",
      "train_ds.imgs       : ('./data/train1/0\\\\images - 2020-10-16T201559.572.jpg', 0)\n",
      "train_ds.imgs       : ('./data/train1/0\\\\images - 2020-10-16T201559.573.jpg', 0)\n",
      "train_ds.imgs       : ('./data/train1/0\\\\images - 2020-10-16T201559.593.jpg', 0)\n",
      "train_ds.imgs       : ('./data/train1/0\\\\images - 2020-10-16T201559.595.jpg', 0)\n",
      "train_ds.imgs       : ('./data/train1/0\\\\images - 2020-10-16T201559.596.jpg', 0)\n",
      "train_ds.imgs       : ('./data/train1/0\\\\images - 2020-10-16T201559.597.jpg', 0)\n",
      "train_ds.imgs       : ('./data/train1/0\\\\images - 2020-10-16T201559.598.jpg', 0)\n",
      "train_ds.imgs       : ('./data/train1/0\\\\images - 2020-10-16T201559.600.jpg', 0)\n",
      "train_ds.imgs       : ('./data/train1/0\\\\images - 2020-10-16T201559.601.jpg', 0)\n",
      "train_ds.imgs       : ('./data/train1/0\\\\images - 2020-10-16T201559.841.jpg', 0)\n",
      "train_ds.imgs       : ('./data/train1/0\\\\images - 2020-10-16T201559.879.jpg', 0)\n",
      "train_ds.imgs       : ('./data/train1/0\\\\images - 2020-10-16T201559.880.jpg', 0)\n",
      "train_ds.imgs       : ('./data/train1/0\\\\images - 2020-10-16T201559.881.jpg', 0)\n",
      "train_ds.imgs       : ('./data/train1/0\\\\images - 2020-10-16T201559.883.jpg', 0)\n",
      "train_ds.imgs       : ('./data/train1/0\\\\images - 2020-10-16T201559.899.jpg', 0)\n",
      "train_ds.imgs       : ('./data/train1/0\\\\images - 2020-10-16T201559.900.jpg', 0)\n",
      "train_ds.imgs       : ('./data/train1/0\\\\images - 2020-10-16T201559.901.jpg', 0)\n",
      "train_ds.imgs       : ('./data/train1/0\\\\images - 2020-10-16T201600.030.jpg', 0)\n",
      "train_ds.imgs       : ('./data/train1/0\\\\images - 2020-10-16T201600.068.jpg', 0)\n",
      "train_ds.imgs       : ('./data/train1/0\\\\images - 2020-10-16T201600.069.jpg', 0)\n",
      "train_ds.imgs       : ('./data/train1/0\\\\images - 2020-10-16T201600.070.jpg', 0)\n",
      "train_ds.imgs       : ('./data/train1/0\\\\images - 2020-10-16T201600.074.jpg', 0)\n",
      "train_ds.imgs       : ('./data/train1/0\\\\images - 2020-10-16T201600.076.jpg', 0)\n",
      "train_ds.imgs       : ('./data/train1/0\\\\images - 2020-10-16T201600.077.jpg', 0)\n",
      "train_ds.imgs       : ('./data/train1/0\\\\images - 2020-10-16T201600.078.jpg', 0)\n",
      "train_ds.imgs       : ('./data/train1/0\\\\images - 2020-10-16T201600.236.jpg', 0)\n",
      "train_ds.imgs       : ('./data/train1/0\\\\images - 2020-10-16T201600.239.jpg', 0)\n",
      "train_ds.imgs       : ('./data/train1/0\\\\images - 2020-10-16T201600.255.jpg', 0)\n",
      "train_ds.imgs       : ('./data/train1/0\\\\images - 2020-10-16T201600.268.jpg', 0)\n",
      "train_ds.imgs       : ('./data/train1/0\\\\images - 2020-10-16T201600.706.jpg', 0)\n",
      "train_ds.imgs       : ('./data/train1/0\\\\images - 2020-10-16T201600.707.jpg', 0)\n",
      "train_ds.imgs       : ('./data/train1/0\\\\images - 2024-09-27T171628.157.jpg', 0)\n",
      "train_ds.imgs       : ('./data/train1/0\\\\images - 2024-09-27T171628.277.jpg', 0)\n",
      "train_ds.imgs       : ('./data/train1/0\\\\images - 2024-09-27T171628.355.jpg', 0)\n",
      "train_ds.imgs       : ('./data/train1/0\\\\images - 2024-09-27T171628.483.jpg', 0)\n",
      "train_ds.imgs       : ('./data/train1/0\\\\images - 2024-09-27T171628.605.jpg', 0)\n",
      "train_ds.imgs       : ('./data/train1/0\\\\images - 2024-09-27T171628.734.jpg', 0)\n",
      "train_ds.imgs       : ('./data/train1/0\\\\images - 2024-09-27T171628.875.jpg', 0)\n",
      "train_ds.imgs       : ('./data/train1/0\\\\images - 2024-09-27T171629.018.jpg', 0)\n",
      "train_ds.imgs       : ('./data/train1/0\\\\images - 2024-09-27T171629.139.jpg', 0)\n",
      "train_ds.imgs       : ('./data/train1/0\\\\images - 2024-09-27T171629.252.jpg', 0)\n",
      "train_ds.imgs       : ('./data/train1/0\\\\images - 2024-09-27T171629.393.jpg', 0)\n",
      "train_ds.imgs       : ('./data/train1/0\\\\images - 2024-09-27T171629.509.jpg', 0)\n",
      "train_ds.imgs       : ('./data/train1/0\\\\images - 2024-09-27T171629.584.jpg', 0)\n",
      "train_ds.imgs       : ('./data/train1/0\\\\images - 2024-09-27T171629.672.jpg', 0)\n",
      "train_ds.imgs       : ('./data/train1/0\\\\images - 2024-09-27T171629.825.jpg', 0)\n",
      "train_ds.imgs       : ('./data/train1/0\\\\images.jpg', 0)\n",
      "train_ds.imgs       : ('./data/train1/0\\\\images43.jpg', 0)\n",
      "train_ds.imgs       : ('./data/train1/0\\\\images435.jpg', 0)\n",
      "train_ds.imgs       : ('./data/train1/0\\\\images_1556797819887_819080_leopard_4.jpg', 0)\n",
      "train_ds.imgs       : ('./data/train1/0\\\\img (1).jpg', 0)\n",
      "train_ds.imgs       : ('./data/train1/0\\\\img.jpg', 0)\n",
      "train_ds.imgs       : ('./data/train1/0\\\\iranian_cheetah_roars.jpg', 0)\n",
      "train_ds.imgs       : ('./data/train1/0\\\\jA3IszD.jpg', 0)\n",
      "train_ds.imgs       : ('./data/train1/0\\\\l_2021122701003401500296682.jpg', 0)\n",
      "train_ds.imgs       : ('./data/train1/0\\\\leopard (3).jpg', 0)\n",
      "train_ds.imgs       : ('./data/train1/0\\\\leopard--asien--18de1deb55137d05537155b661ba7908.jpg', 0)\n",
      "train_ds.imgs       : ('./data/train1/0\\\\leopard-africa-safari.jpg', 0)\n",
      "train_ds.imgs       : ('./data/train1/0\\\\leopard-africa-shutterstock_295699271.jpg', 0)\n",
      "train_ds.imgs       : ('./data/train1/0\\\\leopard-and-cub-showing-affection-care-of-the-wildlife.jpg', 0)\n",
      "train_ds.imgs       : ('./data/train1/0\\\\leopard-conservation-banner.jpg', 0)\n",
      "train_ds.imgs       : ('./data/train1/0\\\\leopard-odmara.jpg', 0)\n",
      "train_ds.imgs       : ('./data/train1/0\\\\leopard-tree-shem-compion-590x390.jpg', 0)\n",
      "train_ds.imgs       : ('./data/train1/0\\\\leopard.jpeg', 0)\n",
      "train_ds.imgs       : ('./data/train1/0\\\\leopard.jpg', 0)\n",
      "train_ds.imgs       : ('./data/train1/0\\\\leopard_10-600x400.jpg', 0)\n",
      "train_ds.imgs       : ('./data/train1/0\\\\leopard_12-600x400.jpg', 0)\n",
      "train_ds.imgs       : ('./data/train1/0\\\\leopard_p.meier_.jpg', 0)\n",
      "train_ds.imgs       : ('./data/train1/0\\\\leopard_web-1024x683.jpg', 0)\n",
      "train_ds.imgs       : ('./data/train1/0\\\\moving_cheetah_with_collar.jpg', 0)\n",
      "train_ds.imgs       : ('./data/train1/0\\\\newstudyconf.jpg', 0)\n",
      "train_ds.imgs       : ('./data/train1/0\\\\nws-st-bengal-tiger.jpg', 0)\n",
      "train_ds.imgs       : ('./data/train1/0\\\\p08ppfdz.jpg', 0)\n",
      "train_ds.imgs       : ('./data/train1/0\\\\panthera-tigris-altaica-tiger-siberian-amurtiger-162173.jpeg', 0)\n",
      "train_ds.imgs       : ('./data/train1/0\\\\panthera-tigris-altaica-tiger-siberian-amurtiger-162203.jpeg', 0)\n",
      "train_ds.imgs       : ('./data/train1/0\\\\panthera_tigris_tigris_tadoba_india_wild_tiger_0.jpg', 0)\n",
      "train_ds.imgs       : ('./data/train1/0\\\\pexels-photo-133408.jpeg', 0)\n",
      "train_ds.imgs       : ('./data/train1/0\\\\pexels-photo-145899 (1).jpeg', 0)\n",
      "train_ds.imgs       : ('./data/train1/0\\\\pexels-photo-145899.jpeg', 0)\n",
      "train_ds.imgs       : ('./data/train1/0\\\\pexels-photo-145900.jpeg', 0)\n",
      "train_ds.imgs       : ('./data/train1/0\\\\pexels-photo-145932.jpeg', 0)\n",
      "train_ds.imgs       : ('./data/train1/0\\\\pexels-photo-145933.jpeg', 0)\n",
      "train_ds.imgs       : ('./data/train1/0\\\\pexels-photo-145939.jpeg', 0)\n",
      "train_ds.imgs       : ('./data/train1/0\\\\pexels-photo-145971.jpeg', 0)\n",
      "train_ds.imgs       : ('./data/train1/0\\\\pexels-photo-145973.jpeg', 0)\n",
      "train_ds.imgs       : ('./data/train1/0\\\\pexels-photo-145979.jpeg', 0)\n",
      "train_ds.imgs       : ('./data/train1/0\\\\pexels-photo-1642070.jpeg', 0)\n",
      "train_ds.imgs       : ('./data/train1/0\\\\pexels-photo-2055100.jpeg', 0)\n",
      "train_ds.imgs       : ('./data/train1/0\\\\pexels-photo-2263936.jpeg', 0)\n",
      "train_ds.imgs       : ('./data/train1/0\\\\pexels-photo-236599.jpeg', 0)\n",
      "train_ds.imgs       : ('./data/train1/0\\\\pexels-photo-236601.jpeg', 0)\n",
      "train_ds.imgs       : ('./data/train1/0\\\\pexels-photo-247615.jpeg', 0)\n",
      "train_ds.imgs       : ('./data/train1/0\\\\pexels-photo-2541239.jpeg', 0)\n",
      "train_ds.imgs       : ('./data/train1/0\\\\pexels-photo-2642250.jpeg', 0)\n",
      "train_ds.imgs       : ('./data/train1/0\\\\pexels-photo-2649841.jpeg', 0)\n",
      "train_ds.imgs       : ('./data/train1/0\\\\pexels-photo-2668605.jpeg', 0)\n",
      "train_ds.imgs       : ('./data/train1/0\\\\pexels-photo-2689436.jpeg', 0)\n",
      "train_ds.imgs       : ('./data/train1/0\\\\pexels-photo-302276.jpeg', 0)\n",
      "train_ds.imgs       : ('./data/train1/0\\\\pexels-photo-302304.jpeg', 0)\n",
      "train_ds.imgs       : ('./data/train1/0\\\\pexels-photo-3275319.jpeg', 0)\n",
      "train_ds.imgs       : ('./data/train1/0\\\\pexels-photo-357783.jpeg', 0)\n",
      "train_ds.imgs       : ('./data/train1/0\\\\pexels-photo-3777200.jpeg', 0)\n",
      "train_ds.imgs       : ('./data/train1/0\\\\pexels-photo-3860030.jpeg', 0)\n",
      "train_ds.imgs       : ('./data/train1/0\\\\pexels-photo-572861.jpeg', 0)\n",
      "train_ds.imgs       : ('./data/train1/0\\\\pexels-photo-774544.jpeg', 0)\n",
      "train_ds.imgs       : ('./data/train1/0\\\\pexels-photo-792381.jpeg', 0)\n",
      "train_ds.imgs       : ('./data/train1/0\\\\pexels-photo-814898.jpeg', 0)\n",
      "train_ds.imgs       : ('./data/train1/0\\\\pexels-photo-951007.jpeg', 0)\n",
      "train_ds.imgs       : ('./data/train1/0\\\\pexels-photo-982240.jpeg', 0)\n",
      "train_ds.imgs       : ('./data/train1/0\\\\pngtree-close-up-image-of-a-cheetah-image_2883067.jpg', 0)\n",
      "train_ds.imgs       : ('./data/train1/0\\\\q_70.jpg', 0)\n",
      "train_ds.imgs       : ('./data/train1/0\\\\rytmbwxn-720.jpg', 0)\n",
      "train_ds.imgs       : ('./data/train1/0\\\\shutterstock-750338695.jpg', 0)\n",
      "train_ds.imgs       : ('./data/train1/0\\\\shutterstock_151241768.jpg', 0)\n",
      "train_ds.imgs       : ('./data/train1/0\\\\sn-leopard.jpg', 0)\n",
      "train_ds.imgs       : ('./data/train1/0\\\\sumatran-tiger-tiger-big-cat-stripes-46251.jpeg', 0)\n",
      "train_ds.imgs       : ('./data/train1/0\\\\swarajya_2018-04_e6befcf9-b3c8-413d-8084-7248956444a9_9687c403-5bd7-446b-a8cc-3c28ef068c40.jpg', 0)\n",
      "train_ds.imgs       : ('./data/train1/0\\\\thesundarban.jpg', 0)\n",
      "train_ds.imgs       : ('./data/train1/0\\\\thumb-cheetah.jpg', 0)\n",
      "train_ds.imgs       : ('./data/train1/0\\\\tiger (1).jpg', 0)\n",
      "train_ds.imgs       : ('./data/train1/0\\\\tiger (2).jpg', 0)\n",
      "train_ds.imgs       : ('./data/train1/0\\\\tiger-cub-tiger-cub-big-cat-64152.jpeg', 0)\n",
      "train_ds.imgs       : ('./data/train1/0\\\\tiger-population-1.jpg', 0)\n",
      "train_ds.imgs       : ('./data/train1/0\\\\tiger-predator-animal-tooth-47312.jpeg', 0)\n",
      "train_ds.imgs       : ('./data/train1/0\\\\tiger-snow-growling-zoo-40661.jpeg', 0)\n",
      "train_ds.imgs       : ('./data/train1/0\\\\tiger.unsplash3.jpg', 0)\n",
      "train_ds.imgs       : ('./data/train1/0\\\\tiger_panthera_tigris_c_alex_sliwa_website.jpg', 0)\n",
      "train_ds.imgs       : ('./data/train1/0\\\\tigerisland-khan2020-512x320.jpg', 0)\n",
      "train_ds.imgs       : ('./data/train1/0\\\\untAHCdsL4yKbVHMTTD5W6-1200-80.jpg', 0)\n",
      "train_ds.imgs       : ('./data/train1/0\\\\update_snowleopard_winter2019.jpg', 0)\n",
      "train_ds.imgs       : ('./data/train1/0\\\\다운로드 (1).jpg', 0)\n",
      "train_ds.imgs       : ('./data/train1/0\\\\다운로드 (10).jpg', 0)\n",
      "train_ds.imgs       : ('./data/train1/0\\\\다운로드 (11).jpg', 0)\n",
      "train_ds.imgs       : ('./data/train1/0\\\\다운로드 (12).jpg', 0)\n",
      "train_ds.imgs       : ('./data/train1/0\\\\다운로드 (13).jpg', 0)\n",
      "train_ds.imgs       : ('./data/train1/0\\\\다운로드 (14).jpg', 0)\n",
      "train_ds.imgs       : ('./data/train1/0\\\\다운로드 (15).jpg', 0)\n",
      "train_ds.imgs       : ('./data/train1/0\\\\다운로드 (16).jpg', 0)\n",
      "train_ds.imgs       : ('./data/train1/0\\\\다운로드 (17).jpg', 0)\n",
      "train_ds.imgs       : ('./data/train1/0\\\\다운로드 (18).jpg', 0)\n",
      "train_ds.imgs       : ('./data/train1/0\\\\다운로드 (19).jpg', 0)\n",
      "train_ds.imgs       : ('./data/train1/0\\\\다운로드 (2).jpg', 0)\n",
      "train_ds.imgs       : ('./data/train1/0\\\\다운로드 (20).jpg', 0)\n",
      "train_ds.imgs       : ('./data/train1/0\\\\다운로드 (3).jpg', 0)\n",
      "train_ds.imgs       : ('./data/train1/0\\\\다운로드 (4).jpg', 0)\n",
      "train_ds.imgs       : ('./data/train1/0\\\\다운로드 (5).jpg', 0)\n",
      "train_ds.imgs       : ('./data/train1/0\\\\다운로드 (6).jpg', 0)\n",
      "train_ds.imgs       : ('./data/train1/0\\\\다운로드 (7).jpg', 0)\n",
      "train_ds.imgs       : ('./data/train1/0\\\\다운로드 (8).jpg', 0)\n",
      "train_ds.imgs       : ('./data/train1/0\\\\다운로드 (9).jpg', 0)\n",
      "train_ds.imgs       : ('./data/train1/0\\\\다운로드.jpg', 0)\n",
      "train_ds.imgs       : ('./data/train1/1\\\\020_The_lion_king_Snyggve_in_the_Serengeti_National_Park_Photo_by_Giles_Laurent.jpg', 1)\n",
      "train_ds.imgs       : ('./data/train1/1\\\\1000_F_617883_WueAKU9WBpqM13Q5xyUeJSc9WBqqsO.jpg', 1)\n",
      "train_ds.imgs       : ('./data/train1/1\\\\9c6a60071d2aa2b61c783cd553868ece.jpg', 1)\n",
      "train_ds.imgs       : ('./data/train1/1\\\\African-lion.jpg', 1)\n",
      "train_ds.imgs       : ('./data/train1/1\\\\AfricanLion4Slider.jpg', 1)\n",
      "train_ds.imgs       : ('./data/train1/1\\\\Britain-s+Stone+Age+animals+the+cave+lion+-2.jpg', 1)\n",
      "train_ds.imgs       : ('./data/train1/1\\\\DSC_0101-scaled.jpg', 1)\n",
      "train_ds.imgs       : ('./data/train1/1\\\\Full-Body-Background-edited-MP-480x330.jpg', 1)\n",
      "train_ds.imgs       : ('./data/train1/1\\\\Lion-conservation-hero.jpg', 1)\n",
      "train_ds.imgs       : ('./data/train1/1\\\\Lion-species-hero-c-George-Logan.jpg', 1)\n",
      "train_ds.imgs       : ('./data/train1/1\\\\Lion_030818-1472x900.jpg', 1)\n",
      "train_ds.imgs       : ('./data/train1/1\\\\Lion_Download_train_0.jpg', 1)\n",
      "train_ds.imgs       : ('./data/train1/1\\\\Lion_Download_train_1.jpg', 1)\n",
      "train_ds.imgs       : ('./data/train1/1\\\\Lion_Download_train_10.jpg', 1)\n",
      "train_ds.imgs       : ('./data/train1/1\\\\Lion_Download_train_100.jpg', 1)\n",
      "train_ds.imgs       : ('./data/train1/1\\\\Lion_Download_train_1000.jpg', 1)\n",
      "train_ds.imgs       : ('./data/train1/1\\\\Lion_Download_train_1001.jpg', 1)\n",
      "train_ds.imgs       : ('./data/train1/1\\\\Lion_Download_train_1002.jpg', 1)\n",
      "train_ds.imgs       : ('./data/train1/1\\\\Lion_Download_train_1003.jpg', 1)\n",
      "train_ds.imgs       : ('./data/train1/1\\\\Lion_Download_train_1004.jpg', 1)\n",
      "train_ds.imgs       : ('./data/train1/1\\\\Lion_Download_train_1005.jpg', 1)\n",
      "train_ds.imgs       : ('./data/train1/1\\\\Lion_Download_train_1006.jpg', 1)\n",
      "train_ds.imgs       : ('./data/train1/1\\\\Lion_Download_train_1007.jpg', 1)\n",
      "train_ds.imgs       : ('./data/train1/1\\\\Lion_Download_train_1008.jpg', 1)\n",
      "train_ds.imgs       : ('./data/train1/1\\\\Lion_Download_train_1009.jpg', 1)\n",
      "train_ds.imgs       : ('./data/train1/1\\\\Lion_Download_train_101.jpg', 1)\n",
      "train_ds.imgs       : ('./data/train1/1\\\\Lion_Download_train_1010.jpg', 1)\n",
      "train_ds.imgs       : ('./data/train1/1\\\\Lion_Download_train_1011.jpg', 1)\n",
      "train_ds.imgs       : ('./data/train1/1\\\\Lion_Download_train_1012.jpg', 1)\n",
      "train_ds.imgs       : ('./data/train1/1\\\\Lion_Download_train_1013.jpg', 1)\n",
      "train_ds.imgs       : ('./data/train1/1\\\\Lion_Download_train_1014.jpg', 1)\n",
      "train_ds.imgs       : ('./data/train1/1\\\\Lion_Download_train_1015.jpg', 1)\n",
      "train_ds.imgs       : ('./data/train1/1\\\\Lion_Download_train_1016.jpg', 1)\n",
      "train_ds.imgs       : ('./data/train1/1\\\\Lion_Download_train_1017.jpg', 1)\n",
      "train_ds.imgs       : ('./data/train1/1\\\\Lion_Download_train_102.jpg', 1)\n",
      "train_ds.imgs       : ('./data/train1/1\\\\Lion_Download_train_1027.jpg', 1)\n",
      "train_ds.imgs       : ('./data/train1/1\\\\Lion_Download_train_1028.jpg', 1)\n",
      "train_ds.imgs       : ('./data/train1/1\\\\Lion_Download_train_1029.jpg', 1)\n",
      "train_ds.imgs       : ('./data/train1/1\\\\Lion_Download_train_103.jpg', 1)\n",
      "train_ds.imgs       : ('./data/train1/1\\\\Lion_Download_train_1030.jpg', 1)\n",
      "train_ds.imgs       : ('./data/train1/1\\\\Lion_Download_train_1031.jpg', 1)\n",
      "train_ds.imgs       : ('./data/train1/1\\\\Lion_Download_train_1037.jpg', 1)\n",
      "train_ds.imgs       : ('./data/train1/1\\\\Lion_Download_train_1038.jpg', 1)\n",
      "train_ds.imgs       : ('./data/train1/1\\\\Lion_Download_train_1039.jpg', 1)\n",
      "train_ds.imgs       : ('./data/train1/1\\\\Lion_Download_train_104.jpg', 1)\n",
      "train_ds.imgs       : ('./data/train1/1\\\\Lion_Download_train_1040.jpg', 1)\n",
      "train_ds.imgs       : ('./data/train1/1\\\\Lion_Download_train_1041.jpg', 1)\n",
      "train_ds.imgs       : ('./data/train1/1\\\\Lion_Download_train_1045.jpg', 1)\n",
      "train_ds.imgs       : ('./data/train1/1\\\\Lion_Download_train_1046.jpg', 1)\n",
      "train_ds.imgs       : ('./data/train1/1\\\\Lion_Download_train_1048.jpg', 1)\n",
      "train_ds.imgs       : ('./data/train1/1\\\\Lion_Download_train_1053.jpg', 1)\n",
      "train_ds.imgs       : ('./data/train1/1\\\\Lion_Download_train_1054.jpg', 1)\n",
      "train_ds.imgs       : ('./data/train1/1\\\\Lion_Download_train_1055.jpg', 1)\n",
      "train_ds.imgs       : ('./data/train1/1\\\\Lion_Download_train_1056.jpg', 1)\n",
      "train_ds.imgs       : ('./data/train1/1\\\\Lion_Download_train_1057.jpg', 1)\n",
      "train_ds.imgs       : ('./data/train1/1\\\\Lion_Download_train_1058.jpg', 1)\n",
      "train_ds.imgs       : ('./data/train1/1\\\\Lion_Download_train_1059.jpg', 1)\n",
      "train_ds.imgs       : ('./data/train1/1\\\\Lion_Download_train_1060.jpg', 1)\n",
      "train_ds.imgs       : ('./data/train1/1\\\\Lion_Download_train_1061.jpg', 1)\n",
      "train_ds.imgs       : ('./data/train1/1\\\\Lion_Download_train_1062.jpg', 1)\n",
      "train_ds.imgs       : ('./data/train1/1\\\\Lion_Download_train_1063.jpg', 1)\n",
      "train_ds.imgs       : ('./data/train1/1\\\\Lion_Download_train_1064.jpg', 1)\n",
      "train_ds.imgs       : ('./data/train1/1\\\\Lion_Download_train_1065.jpg', 1)\n",
      "train_ds.imgs       : ('./data/train1/1\\\\Lion_Download_train_1066.jpg', 1)\n",
      "train_ds.imgs       : ('./data/train1/1\\\\Lion_Download_train_1067.jpg', 1)\n",
      "train_ds.imgs       : ('./data/train1/1\\\\Lion_Download_train_1068.jpg', 1)\n",
      "train_ds.imgs       : ('./data/train1/1\\\\Lion_Download_train_1069.jpg', 1)\n",
      "train_ds.imgs       : ('./data/train1/1\\\\Lion_Download_train_1070.jpg', 1)\n",
      "train_ds.imgs       : ('./data/train1/1\\\\Lion_Download_train_1071.jpg', 1)\n",
      "train_ds.imgs       : ('./data/train1/1\\\\Lion_Download_train_1072.jpg', 1)\n",
      "train_ds.imgs       : ('./data/train1/1\\\\Lion_Download_train_1073.jpg', 1)\n",
      "train_ds.imgs       : ('./data/train1/1\\\\Lion_Download_train_1078.jpg', 1)\n",
      "train_ds.imgs       : ('./data/train1/1\\\\Lion_Download_train_1079.jpg', 1)\n",
      "train_ds.imgs       : ('./data/train1/1\\\\Lion_Download_train_108.jpg', 1)\n",
      "train_ds.imgs       : ('./data/train1/1\\\\Lion_Download_train_1080.jpg', 1)\n",
      "train_ds.imgs       : ('./data/train1/1\\\\Lion_Download_train_1081.jpg', 1)\n",
      "train_ds.imgs       : ('./data/train1/1\\\\Lion_Download_train_1082.jpg', 1)\n",
      "train_ds.imgs       : ('./data/train1/1\\\\Lion_Download_train_1083.jpg', 1)\n",
      "train_ds.imgs       : ('./data/train1/1\\\\Lion_Download_train_1084.jpg', 1)\n",
      "train_ds.imgs       : ('./data/train1/1\\\\Lion_Download_train_1085.jpg', 1)\n",
      "train_ds.imgs       : ('./data/train1/1\\\\Lion_Download_train_1086.jpg', 1)\n",
      "train_ds.imgs       : ('./data/train1/1\\\\Lion_Download_train_1087.jpg', 1)\n",
      "train_ds.imgs       : ('./data/train1/1\\\\Lion_Download_train_1089.jpg', 1)\n",
      "train_ds.imgs       : ('./data/train1/1\\\\Lion_Download_train_109.jpg', 1)\n",
      "train_ds.imgs       : ('./data/train1/1\\\\Lion_Download_train_1098.jpg', 1)\n",
      "train_ds.imgs       : ('./data/train1/1\\\\Lion_Download_train_1099.jpg', 1)\n",
      "train_ds.imgs       : ('./data/train1/1\\\\Lion_Download_train_11.jpg', 1)\n",
      "train_ds.imgs       : ('./data/train1/1\\\\Lion_Download_train_110.jpg', 1)\n",
      "train_ds.imgs       : ('./data/train1/1\\\\Lion_Download_train_1100.jpg', 1)\n",
      "train_ds.imgs       : ('./data/train1/1\\\\Lion_Download_train_1101.jpg', 1)\n",
      "train_ds.imgs       : ('./data/train1/1\\\\Lion_Download_train_1102.jpg', 1)\n",
      "train_ds.imgs       : ('./data/train1/1\\\\Lion_Download_train_1104.jpg', 1)\n",
      "train_ds.imgs       : ('./data/train1/1\\\\Lion_Download_train_1105.jpg', 1)\n",
      "train_ds.imgs       : ('./data/train1/1\\\\Lion_Download_train_1106.jpg', 1)\n",
      "train_ds.imgs       : ('./data/train1/1\\\\Lion_Download_train_1107.jpg', 1)\n",
      "train_ds.imgs       : ('./data/train1/1\\\\Lion_Download_train_1108.jpg', 1)\n",
      "train_ds.imgs       : ('./data/train1/1\\\\Lion_Download_train_1109.jpg', 1)\n",
      "train_ds.imgs       : ('./data/train1/1\\\\Lion_Download_train_1110.jpg', 1)\n",
      "train_ds.imgs       : ('./data/train1/1\\\\Lion_Download_train_1111.jpg', 1)\n",
      "train_ds.imgs       : ('./data/train1/1\\\\Lion_Download_train_1112.jpg', 1)\n",
      "train_ds.imgs       : ('./data/train1/1\\\\Lion_Download_train_1113.jpg', 1)\n",
      "train_ds.imgs       : ('./data/train1/1\\\\Lion_Download_train_1114.jpg', 1)\n",
      "train_ds.imgs       : ('./data/train1/1\\\\Lion_Download_train_1115.jpg', 1)\n",
      "train_ds.imgs       : ('./data/train1/1\\\\Lion_Download_train_1116.jpg', 1)\n",
      "train_ds.imgs       : ('./data/train1/1\\\\Lion_Download_train_1117.jpg', 1)\n",
      "train_ds.imgs       : ('./data/train1/1\\\\Lion_Download_train_1118.jpg', 1)\n",
      "train_ds.imgs       : ('./data/train1/1\\\\Lion_Download_train_1119.jpg', 1)\n",
      "train_ds.imgs       : ('./data/train1/1\\\\Lion_Download_train_1120.jpg', 1)\n",
      "train_ds.imgs       : ('./data/train1/1\\\\Lion_Download_train_1126.jpg', 1)\n",
      "train_ds.imgs       : ('./data/train1/1\\\\Lion_Download_train_1127.jpg', 1)\n",
      "train_ds.imgs       : ('./data/train1/1\\\\Lion_Download_train_1128.jpg', 1)\n",
      "train_ds.imgs       : ('./data/train1/1\\\\Lion_Download_train_1129.jpg', 1)\n",
      "train_ds.imgs       : ('./data/train1/1\\\\Lion_Download_train_1130.jpg', 1)\n",
      "train_ds.imgs       : ('./data/train1/1\\\\Lion_Download_train_1131.jpg', 1)\n",
      "train_ds.imgs       : ('./data/train1/1\\\\Lion_Download_train_1132.jpg', 1)\n",
      "train_ds.imgs       : ('./data/train1/1\\\\Lion_Download_train_1133.jpg', 1)\n",
      "train_ds.imgs       : ('./data/train1/1\\\\Lion_Download_train_1134.jpg', 1)\n",
      "train_ds.imgs       : ('./data/train1/1\\\\Lion_Download_train_1135.jpg', 1)\n",
      "train_ds.imgs       : ('./data/train1/1\\\\Lion_Download_train_114.jpg', 1)\n",
      "train_ds.imgs       : ('./data/train1/1\\\\Lion_Download_train_1140.jpg', 1)\n",
      "train_ds.imgs       : ('./data/train1/1\\\\Lion_Download_train_1141.jpg', 1)\n",
      "train_ds.imgs       : ('./data/train1/1\\\\Lion_Download_train_1142.jpg', 1)\n",
      "train_ds.imgs       : ('./data/train1/1\\\\Lion_Download_train_1143.jpg', 1)\n",
      "train_ds.imgs       : ('./data/train1/1\\\\Lion_Download_train_1145.jpg', 1)\n",
      "train_ds.imgs       : ('./data/train1/1\\\\Lion_Download_train_1149.jpg', 1)\n",
      "train_ds.imgs       : ('./data/train1/1\\\\Lion_Download_train_115.jpg', 1)\n",
      "train_ds.imgs       : ('./data/train1/1\\\\Lion_Download_train_1150.jpg', 1)\n",
      "train_ds.imgs       : ('./data/train1/1\\\\Lion_Download_train_1151.jpg', 1)\n",
      "train_ds.imgs       : ('./data/train1/1\\\\Lion_Download_train_1152.jpg', 1)\n",
      "train_ds.imgs       : ('./data/train1/1\\\\Lion_Download_train_1158.jpg', 1)\n",
      "train_ds.imgs       : ('./data/train1/1\\\\Lion_Download_train_1159.jpg', 1)\n",
      "train_ds.imgs       : ('./data/train1/1\\\\Lion_Download_train_116.jpg', 1)\n",
      "train_ds.imgs       : ('./data/train1/1\\\\Lion_Download_train_1160.jpg', 1)\n",
      "train_ds.imgs       : ('./data/train1/1\\\\Lion_Download_train_1161.jpg', 1)\n",
      "train_ds.imgs       : ('./data/train1/1\\\\Lion_Download_train_1162.jpg', 1)\n",
      "train_ds.imgs       : ('./data/train1/1\\\\Lion_Download_train_1163.jpg', 1)\n",
      "train_ds.imgs       : ('./data/train1/1\\\\Lion_Download_train_1164.jpg', 1)\n",
      "train_ds.imgs       : ('./data/train1/1\\\\Lion_Download_train_1165.jpg', 1)\n",
      "train_ds.imgs       : ('./data/train1/1\\\\Lion_Download_train_1166.jpg', 1)\n",
      "train_ds.imgs       : ('./data/train1/1\\\\Lion_Download_train_1167.jpg', 1)\n",
      "train_ds.imgs       : ('./data/train1/1\\\\Lion_Download_train_117.jpg', 1)\n",
      "train_ds.imgs       : ('./data/train1/1\\\\Lion_Download_train_1172.jpg', 1)\n",
      "train_ds.imgs       : ('./data/train1/1\\\\Lion_Download_train_1173.jpg', 1)\n",
      "train_ds.imgs       : ('./data/train1/1\\\\Lion_Download_train_1174.jpg', 1)\n",
      "train_ds.imgs       : ('./data/train1/1\\\\Lion_Download_train_1175.jpg', 1)\n",
      "train_ds.imgs       : ('./data/train1/1\\\\Lion_Download_train_1176.jpg', 1)\n",
      "train_ds.imgs       : ('./data/train1/1\\\\Lion_Download_train_1177.jpg', 1)\n",
      "train_ds.imgs       : ('./data/train1/1\\\\Lion_Download_train_1178.jpg', 1)\n",
      "train_ds.imgs       : ('./data/train1/1\\\\Lion_Download_train_1179.jpg', 1)\n",
      "train_ds.imgs       : ('./data/train1/1\\\\Lion_Download_train_118.jpg', 1)\n",
      "train_ds.imgs       : ('./data/train1/1\\\\Lion_Download_train_1180.jpg', 1)\n",
      "train_ds.imgs       : ('./data/train1/1\\\\Lion_Download_train_1181.jpg', 1)\n",
      "train_ds.imgs       : ('./data/train1/1\\\\Lion_Download_train_1182.jpg', 1)\n",
      "train_ds.imgs       : ('./data/train1/1\\\\Lion_Download_train_1183.jpg', 1)\n",
      "train_ds.imgs       : ('./data/train1/1\\\\Lion_Download_train_1184.jpg', 1)\n",
      "train_ds.imgs       : ('./data/train1/1\\\\Lion_Download_train_1185.jpg', 1)\n",
      "train_ds.imgs       : ('./data/train1/1\\\\Lion_Download_train_1186.jpg', 1)\n",
      "train_ds.imgs       : ('./data/train1/1\\\\Lion_Download_train_1187.jpg', 1)\n",
      "train_ds.imgs       : ('./data/train1/1\\\\Lion_Download_train_1188.jpg', 1)\n",
      "train_ds.imgs       : ('./data/train1/1\\\\Lion_Download_train_1189.jpg', 1)\n",
      "train_ds.imgs       : ('./data/train1/1\\\\Lion_Download_train_119.jpg', 1)\n",
      "train_ds.imgs       : ('./data/train1/1\\\\Lion_Download_train_1190.jpg', 1)\n",
      "train_ds.imgs       : ('./data/train1/1\\\\Lion_Download_train_1191.jpg', 1)\n",
      "train_ds.imgs       : ('./data/train1/1\\\\Lion_Download_train_1192.jpg', 1)\n",
      "train_ds.imgs       : ('./data/train1/1\\\\Lion_Download_train_1193.jpg', 1)\n",
      "train_ds.imgs       : ('./data/train1/1\\\\Lion_Download_train_1194.jpg', 1)\n",
      "train_ds.imgs       : ('./data/train1/1\\\\Lion_Download_train_12.jpg', 1)\n",
      "train_ds.imgs       : ('./data/train1/1\\\\Lion_Download_train_120.jpg', 1)\n",
      "train_ds.imgs       : ('./data/train1/1\\\\Lion_Download_train_124.jpg', 1)\n",
      "train_ds.imgs       : ('./data/train1/1\\\\Lion_Download_train_125.jpg', 1)\n",
      "train_ds.imgs       : ('./data/train1/1\\\\Lion_Download_train_126.jpg', 1)\n",
      "train_ds.imgs       : ('./data/train1/1\\\\Lion_Download_train_127.jpg', 1)\n",
      "train_ds.imgs       : ('./data/train1/1\\\\Lion_Download_train_128.jpg', 1)\n",
      "train_ds.imgs       : ('./data/train1/1\\\\Lion_Download_train_129.jpg', 1)\n",
      "train_ds.imgs       : ('./data/train1/1\\\\Lion_Download_train_1292.jpg', 1)\n",
      "train_ds.imgs       : ('./data/train1/1\\\\Lion_Download_train_1293.jpg', 1)\n",
      "train_ds.imgs       : ('./data/train1/1\\\\Lion_Download_train_1297.jpg', 1)\n",
      "train_ds.imgs       : ('./data/train1/1\\\\Lion_Download_train_1298.jpg', 1)\n",
      "train_ds.imgs       : ('./data/train1/1\\\\Lion_Download_train_1299.jpg', 1)\n",
      "train_ds.imgs       : ('./data/train1/1\\\\Lion_Download_train_13.jpg', 1)\n",
      "train_ds.imgs       : ('./data/train1/1\\\\Lion_Download_train_130.jpg', 1)\n",
      "train_ds.imgs       : ('./data/train1/1\\\\Lion_Download_train_1307.jpg', 1)\n",
      "train_ds.imgs       : ('./data/train1/1\\\\Lion_Download_train_1308.jpg', 1)\n",
      "train_ds.imgs       : ('./data/train1/1\\\\Lion_Download_train_1309.jpg', 1)\n",
      "train_ds.imgs       : ('./data/train1/1\\\\Lion_Download_train_131.jpg', 1)\n",
      "train_ds.imgs       : ('./data/train1/1\\\\Lion_Download_train_1310.jpg', 1)\n",
      "train_ds.imgs       : ('./data/train1/1\\\\Lion_Download_train_1311.jpg', 1)\n",
      "train_ds.imgs       : ('./data/train1/1\\\\Lion_Download_train_1312.jpg', 1)\n",
      "train_ds.imgs       : ('./data/train1/1\\\\Lion_Download_train_132.jpg', 1)\n",
      "train_ds.imgs       : ('./data/train1/1\\\\Lion_Download_train_1322.jpg', 1)\n",
      "train_ds.imgs       : ('./data/train1/1\\\\Lion_Download_train_1323.jpg', 1)\n",
      "train_ds.imgs       : ('./data/train1/1\\\\Lion_Download_train_1324.jpg', 1)\n",
      "train_ds.imgs       : ('./data/train1/1\\\\Lion_Download_train_1325.jpg', 1)\n",
      "train_ds.imgs       : ('./data/train1/1\\\\Lion_Download_train_1326.jpg', 1)\n",
      "train_ds.imgs       : ('./data/train1/1\\\\Lion_Download_train_1327.jpg', 1)\n",
      "train_ds.imgs       : ('./data/train1/1\\\\Lion_Download_train_1328.jpg', 1)\n",
      "train_ds.imgs       : ('./data/train1/1\\\\Lion_Download_train_1329.jpg', 1)\n",
      "train_ds.imgs       : ('./data/train1/1\\\\Lion_Download_train_133.jpg', 1)\n",
      "train_ds.imgs       : ('./data/train1/1\\\\Lion_Download_train_1331.jpg', 1)\n",
      "train_ds.imgs       : ('./data/train1/1\\\\Lion_Download_train_1333.jpg', 1)\n",
      "train_ds.imgs       : ('./data/train1/1\\\\Lion_Download_train_134.jpg', 1)\n",
      "train_ds.imgs       : ('./data/train1/1\\\\Lion_Download_train_1345.jpg', 1)\n",
      "train_ds.imgs       : ('./data/train1/1\\\\Lion_Download_train_1346.jpg', 1)\n",
      "train_ds.imgs       : ('./data/train1/1\\\\Lion_Download_train_1347.jpg', 1)\n",
      "train_ds.imgs       : ('./data/train1/1\\\\Lion_Download_train_1348.jpg', 1)\n",
      "train_ds.imgs       : ('./data/train1/1\\\\Lion_Download_train_1349.jpg', 1)\n",
      "train_ds.imgs       : ('./data/train1/1\\\\Lion_Download_train_135.jpg', 1)\n",
      "train_ds.imgs       : ('./data/train1/1\\\\Lion_Download_train_1350.jpg', 1)\n",
      "train_ds.imgs       : ('./data/train1/1\\\\Lion_Download_train_1351.jpg', 1)\n",
      "train_ds.imgs       : ('./data/train1/1\\\\Lion_Download_train_1352.jpg', 1)\n",
      "train_ds.imgs       : ('./data/train1/1\\\\Lion_Download_train_1353.jpg', 1)\n",
      "train_ds.imgs       : ('./data/train1/1\\\\Lion_Download_train_136.jpg', 1)\n",
      "train_ds.imgs       : ('./data/train1/1\\\\Lion_Download_train_137.jpg', 1)\n",
      "train_ds.imgs       : ('./data/train1/1\\\\Lion_Download_train_1374.jpg', 1)\n",
      "train_ds.imgs       : ('./data/train1/1\\\\Lion_Download_train_1377.jpg', 1)\n",
      "train_ds.imgs       : ('./data/train1/1\\\\Lion_Download_train_1378.jpg', 1)\n",
      "train_ds.imgs       : ('./data/train1/1\\\\Lion_Download_train_1379.jpg', 1)\n",
      "train_ds.imgs       : ('./data/train1/1\\\\Lion_Download_train_138.jpg', 1)\n",
      "train_ds.imgs       : ('./data/train1/1\\\\Lion_Download_train_1380.jpg', 1)\n",
      "train_ds.imgs       : ('./data/train1/1\\\\Lion_Download_train_1381.jpg', 1)\n",
      "train_ds.imgs       : ('./data/train1/1\\\\Lion_Download_train_1388.jpg', 1)\n",
      "train_ds.imgs       : ('./data/train1/1\\\\Lion_Download_train_139.jpg', 1)\n",
      "train_ds.imgs       : ('./data/train1/1\\\\Lion_Download_train_1393.jpg', 1)\n",
      "train_ds.imgs       : ('./data/train1/1\\\\Lion_Download_train_1394.jpg', 1)\n",
      "train_ds.imgs       : ('./data/train1/1\\\\Lion_Download_train_1395.jpg', 1)\n",
      "train_ds.imgs       : ('./data/train1/1\\\\Lion_Download_train_1396.jpg', 1)\n",
      "train_ds.imgs       : ('./data/train1/1\\\\Lion_Download_train_1397.jpg', 1)\n",
      "train_ds.imgs       : ('./data/train1/1\\\\Lion_Download_train_1398.jpg', 1)\n",
      "train_ds.imgs       : ('./data/train1/1\\\\Lion_Download_train_14.jpg', 1)\n",
      "train_ds.imgs       : ('./data/train1/1\\\\Lion_Download_train_140.jpg', 1)\n",
      "train_ds.imgs       : ('./data/train1/1\\\\Lion_Download_train_1403.jpg', 1)\n",
      "train_ds.imgs       : ('./data/train1/1\\\\Lion_Download_train_1404.jpg', 1)\n",
      "train_ds.imgs       : ('./data/train1/1\\\\Lion_Download_train_1405.jpg', 1)\n",
      "train_ds.imgs       : ('./data/train1/1\\\\Lion_Download_train_141.jpg', 1)\n",
      "train_ds.imgs       : ('./data/train1/1\\\\Lion_Download_train_1414.jpg', 1)\n",
      "train_ds.imgs       : ('./data/train1/1\\\\Lion_Download_train_1415.jpg', 1)\n",
      "train_ds.imgs       : ('./data/train1/1\\\\Lion_Download_train_1416.jpg', 1)\n",
      "train_ds.imgs       : ('./data/train1/1\\\\Lion_Download_train_1417.jpg', 1)\n",
      "train_ds.imgs       : ('./data/train1/1\\\\Lion_Download_train_1418.jpg', 1)\n",
      "train_ds.imgs       : ('./data/train1/1\\\\Lion_Download_train_1419.jpg', 1)\n",
      "train_ds.imgs       : ('./data/train1/1\\\\Lion_Download_train_142.jpg', 1)\n",
      "train_ds.imgs       : ('./data/train1/1\\\\Lion_Download_train_1420.jpg', 1)\n",
      "train_ds.imgs       : ('./data/train1/1\\\\Lion_Download_train_1421.jpg', 1)\n",
      "train_ds.imgs       : ('./data/train1/1\\\\Lion_Download_train_143.jpg', 1)\n",
      "train_ds.imgs       : ('./data/train1/1\\\\Lion_Download_train_144.jpg', 1)\n",
      "train_ds.imgs       : ('./data/train1/1\\\\Lion_Download_train_145.jpg', 1)\n",
      "train_ds.imgs       : ('./data/train1/1\\\\Lion_Download_train_146.jpg', 1)\n",
      "train_ds.imgs       : ('./data/train1/1\\\\Lion_Download_train_147.jpg', 1)\n",
      "train_ds.imgs       : ('./data/train1/1\\\\Lion_Download_train_148.jpg', 1)\n",
      "train_ds.imgs       : ('./data/train1/1\\\\Lion_Download_train_149.jpg', 1)\n",
      "train_ds.imgs       : ('./data/train1/1\\\\Lion_Download_train_15.jpg', 1)\n",
      "train_ds.imgs       : ('./data/train1/1\\\\Lion_Download_train_150.jpg', 1)\n",
      "train_ds.imgs       : ('./data/train1/1\\\\Lion_Download_train_151.jpg', 1)\n",
      "train_ds.imgs       : ('./data/train1/1\\\\Lion_Download_train_152.jpg', 1)\n",
      "train_ds.imgs       : ('./data/train1/1\\\\Lion_Download_train_153.jpg', 1)\n",
      "train_ds.imgs       : ('./data/train1/1\\\\Lion_Download_train_154.jpg', 1)\n",
      "train_ds.imgs       : ('./data/train1/1\\\\Lion_Download_train_155.jpg', 1)\n",
      "train_ds.imgs       : ('./data/train1/1\\\\Lion_Download_train_156.jpg', 1)\n",
      "train_ds.imgs       : ('./data/train1/1\\\\Lion_Download_train_157.jpg', 1)\n",
      "train_ds.imgs       : ('./data/train1/1\\\\Lion_Download_train_163.jpg', 1)\n",
      "train_ds.imgs       : ('./data/train1/1\\\\Lion_Download_train_164.jpg', 1)\n",
      "train_ds.imgs       : ('./data/train1/1\\\\Lion_Download_train_168.jpg', 1)\n",
      "train_ds.imgs       : ('./data/train1/1\\\\Lion_Download_train_169.jpg', 1)\n",
      "train_ds.imgs       : ('./data/train1/1\\\\Lion_Download_train_170.jpg', 1)\n",
      "train_ds.imgs       : ('./data/train1/1\\\\Lion_Download_train_171.jpg', 1)\n",
      "train_ds.imgs       : ('./data/train1/1\\\\Lion_Download_train_172.jpg', 1)\n",
      "train_ds.imgs       : ('./data/train1/1\\\\Lion_Download_train_173.jpg', 1)\n",
      "train_ds.imgs       : ('./data/train1/1\\\\Lion_Download_train_176.jpg', 1)\n",
      "train_ds.imgs       : ('./data/train1/1\\\\Lion_Download_train_177.jpg', 1)\n",
      "train_ds.imgs       : ('./data/train1/1\\\\Lion_Download_train_178.jpg', 1)\n",
      "train_ds.imgs       : ('./data/train1/1\\\\Lion_Download_train_179.jpg', 1)\n",
      "train_ds.imgs       : ('./data/train1/1\\\\Lion_Download_train_180.jpg', 1)\n",
      "train_ds.imgs       : ('./data/train1/1\\\\Lion_Download_train_181.jpg', 1)\n",
      "train_ds.imgs       : ('./data/train1/1\\\\Lion_Download_train_182.jpg', 1)\n",
      "train_ds.imgs       : ('./data/train1/1\\\\Lion_Download_train_183.jpg', 1)\n",
      "train_ds.imgs       : ('./data/train1/1\\\\Lion_Download_train_184.jpg', 1)\n",
      "train_ds.imgs       : ('./data/train1/1\\\\Lion_Download_train_185.jpg', 1)\n",
      "train_ds.imgs       : ('./data/train1/1\\\\Lion_Download_train_186.jpg', 1)\n",
      "train_ds.imgs       : ('./data/train1/1\\\\Lion_Download_train_187.jpg', 1)\n",
      "train_ds.imgs       : ('./data/train1/1\\\\Lion_Download_train_188.jpg', 1)\n",
      "train_ds.imgs       : ('./data/train1/1\\\\Lion_Download_train_189.jpg', 1)\n",
      "train_ds.imgs       : ('./data/train1/1\\\\Lion_Download_train_191.jpg', 1)\n",
      "train_ds.imgs       : ('./data/train1/1\\\\Lion_Download_train_192.jpg', 1)\n",
      "train_ds.imgs       : ('./data/train1/1\\\\Lion_Download_train_193.jpg', 1)\n",
      "train_ds.imgs       : ('./data/train1/1\\\\Lion_Download_train_194.jpg', 1)\n",
      "train_ds.imgs       : ('./data/train1/1\\\\Lion_Download_train_195.jpg', 1)\n",
      "train_ds.imgs       : ('./data/train1/1\\\\Lion_Download_train_196.jpg', 1)\n",
      "train_ds.imgs       : ('./data/train1/1\\\\Lion_Download_train_197.jpg', 1)\n",
      "train_ds.imgs       : ('./data/train1/1\\\\Lion_Download_train_198.jpg', 1)\n",
      "train_ds.imgs       : ('./data/train1/1\\\\Lion_Download_train_199.jpg', 1)\n",
      "train_ds.imgs       : ('./data/train1/1\\\\Lion_Download_train_200.jpg', 1)\n",
      "train_ds.imgs       : ('./data/train1/1\\\\Lion_Download_train_201.jpg', 1)\n",
      "train_ds.imgs       : ('./data/train1/1\\\\Lion_Download_train_202.jpg', 1)\n",
      "train_ds.imgs       : ('./data/train1/1\\\\Lion_Download_train_203.jpg', 1)\n",
      "train_ds.imgs       : ('./data/train1/1\\\\Lion_Download_train_204.jpg', 1)\n",
      "train_ds.imgs       : ('./data/train1/1\\\\Lion_Download_train_205.jpg', 1)\n",
      "train_ds.imgs       : ('./data/train1/1\\\\Lion_Download_train_206.jpg', 1)\n",
      "train_ds.imgs       : ('./data/train1/1\\\\Lion_Download_train_207.jpg', 1)\n",
      "train_ds.imgs       : ('./data/train1/1\\\\Lion_Download_train_208.jpg', 1)\n",
      "train_ds.imgs       : ('./data/train1/1\\\\Lion_Download_train_209.jpg', 1)\n",
      "train_ds.imgs       : ('./data/train1/1\\\\Lion_Download_train_21.jpg', 1)\n",
      "train_ds.imgs       : ('./data/train1/1\\\\Lion_Download_train_211.jpg', 1)\n",
      "train_ds.imgs       : ('./data/train1/1\\\\Lion_Download_train_212.jpg', 1)\n",
      "train_ds.imgs       : ('./data/train1/1\\\\Lion_Download_train_213.jpg', 1)\n",
      "train_ds.imgs       : ('./data/train1/1\\\\Lion_Download_train_214.jpg', 1)\n",
      "train_ds.imgs       : ('./data/train1/1\\\\Lion_Download_train_215.jpg', 1)\n",
      "train_ds.imgs       : ('./data/train1/1\\\\Lion_Download_train_216.jpg', 1)\n",
      "train_ds.imgs       : ('./data/train1/1\\\\Lion_Download_train_217.jpg', 1)\n",
      "train_ds.imgs       : ('./data/train1/1\\\\Lion_Download_train_218.jpg', 1)\n",
      "train_ds.imgs       : ('./data/train1/1\\\\Lion_Download_train_22.jpg', 1)\n",
      "train_ds.imgs       : ('./data/train1/1\\\\Lion_Download_train_221.jpg', 1)\n",
      "train_ds.imgs       : ('./data/train1/1\\\\Lion_Download_train_222.jpg', 1)\n",
      "train_ds.imgs       : ('./data/train1/1\\\\Lion_Download_train_223.jpg', 1)\n",
      "train_ds.imgs       : ('./data/train1/1\\\\Lion_Download_train_224.jpg', 1)\n",
      "train_ds.imgs       : ('./data/train1/1\\\\Lion_Download_train_225.jpg', 1)\n",
      "train_ds.imgs       : ('./data/train1/1\\\\Lion_Download_train_226.jpg', 1)\n",
      "train_ds.imgs       : ('./data/train1/1\\\\Lion_Download_train_227.jpg', 1)\n",
      "train_ds.imgs       : ('./data/train1/1\\\\Lion_Download_train_228.jpg', 1)\n",
      "train_ds.imgs       : ('./data/train1/1\\\\Lion_Download_train_229.jpg', 1)\n",
      "train_ds.imgs       : ('./data/train1/1\\\\Lion_Download_train_23.jpg', 1)\n",
      "train_ds.imgs       : ('./data/train1/1\\\\Lion_Download_train_230.jpg', 1)\n",
      "train_ds.imgs       : ('./data/train1/1\\\\Lion_Download_train_231.jpg', 1)\n",
      "train_ds.imgs       : ('./data/train1/1\\\\Lion_Download_train_232.jpg', 1)\n",
      "train_ds.imgs       : ('./data/train1/1\\\\Lion_Download_train_233.jpg', 1)\n",
      "train_ds.imgs       : ('./data/train1/1\\\\Lion_Download_train_234.jpg', 1)\n",
      "train_ds.imgs       : ('./data/train1/1\\\\Lion_Download_train_238.jpg', 1)\n",
      "train_ds.imgs       : ('./data/train1/1\\\\Lion_Download_train_239.jpg', 1)\n",
      "train_ds.imgs       : ('./data/train1/1\\\\Lion_Download_train_24.jpg', 1)\n",
      "train_ds.imgs       : ('./data/train1/1\\\\Lion_Download_train_240.jpg', 1)\n",
      "train_ds.imgs       : ('./data/train1/1\\\\Lion_Download_train_241.jpg', 1)\n",
      "train_ds.imgs       : ('./data/train1/1\\\\Lion_Download_train_242.jpg', 1)\n",
      "train_ds.imgs       : ('./data/train1/1\\\\Lion_Download_train_243.jpg', 1)\n",
      "train_ds.imgs       : ('./data/train1/1\\\\Lion_Download_train_244.jpg', 1)\n",
      "train_ds.imgs       : ('./data/train1/1\\\\Lion_Download_train_245.jpg', 1)\n",
      "train_ds.imgs       : ('./data/train1/1\\\\Lion_Download_train_246.jpg', 1)\n",
      "train_ds.imgs       : ('./data/train1/1\\\\Lion_Download_train_247.jpg', 1)\n",
      "train_ds.imgs       : ('./data/train1/1\\\\Lion_Download_train_248.jpg', 1)\n",
      "train_ds.imgs       : ('./data/train1/1\\\\Lion_Download_train_249.jpg', 1)\n",
      "train_ds.imgs       : ('./data/train1/1\\\\Lion_Download_train_25.jpg', 1)\n",
      "train_ds.imgs       : ('./data/train1/1\\\\Lion_Download_train_250.jpg', 1)\n",
      "train_ds.imgs       : ('./data/train1/1\\\\Lion_Download_train_251.jpg', 1)\n",
      "train_ds.imgs       : ('./data/train1/1\\\\Lion_Download_train_252.jpg', 1)\n",
      "train_ds.imgs       : ('./data/train1/1\\\\Lion_Download_train_253.jpg', 1)\n",
      "train_ds.imgs       : ('./data/train1/1\\\\Lion_Download_train_254.jpg', 1)\n",
      "train_ds.imgs       : ('./data/train1/1\\\\Lion_Download_train_257.jpg', 1)\n",
      "train_ds.imgs       : ('./data/train1/1\\\\Lion_Download_train_258.jpg', 1)\n",
      "train_ds.imgs       : ('./data/train1/1\\\\Lion_Download_train_259.jpg', 1)\n",
      "train_ds.imgs       : ('./data/train1/1\\\\Lion_Download_train_26.jpg', 1)\n",
      "train_ds.imgs       : ('./data/train1/1\\\\Lion_Download_train_260.jpg', 1)\n",
      "train_ds.imgs       : ('./data/train1/1\\\\Lion_Download_train_261.jpg', 1)\n",
      "train_ds.imgs       : ('./data/train1/1\\\\Lion_Download_train_262.jpg', 1)\n",
      "train_ds.imgs       : ('./data/train1/1\\\\Lion_Download_train_263.jpg', 1)\n",
      "train_ds.imgs       : ('./data/train1/1\\\\Lion_Download_train_264.jpg', 1)\n",
      "train_ds.imgs       : ('./data/train1/1\\\\Lion_Download_train_265.jpg', 1)\n",
      "train_ds.imgs       : ('./data/train1/1\\\\Lion_Download_train_266.jpg', 1)\n",
      "train_ds.imgs       : ('./data/train1/1\\\\Lion_Download_train_267.jpg', 1)\n",
      "train_ds.imgs       : ('./data/train1/1\\\\Lion_Download_train_268.jpg', 1)\n",
      "train_ds.imgs       : ('./data/train1/1\\\\Lion_Download_train_269.jpg', 1)\n",
      "train_ds.imgs       : ('./data/train1/1\\\\Lion_Download_train_27.jpg', 1)\n",
      "train_ds.imgs       : ('./data/train1/1\\\\Lion_Download_train_270.jpg', 1)\n",
      "train_ds.imgs       : ('./data/train1/1\\\\Lion_Download_train_272.jpg', 1)\n",
      "train_ds.imgs       : ('./data/train1/1\\\\Lion_Download_train_273.jpg', 1)\n",
      "train_ds.imgs       : ('./data/train1/1\\\\Lion_Download_train_274.jpg', 1)\n",
      "train_ds.imgs       : ('./data/train1/1\\\\Lion_Download_train_275.jpg', 1)\n",
      "train_ds.imgs       : ('./data/train1/1\\\\Lion_Download_train_28.jpg', 1)\n",
      "train_ds.imgs       : ('./data/train1/1\\\\Lion_Download_train_280.jpg', 1)\n",
      "train_ds.imgs       : ('./data/train1/1\\\\Lion_Download_train_281.jpg', 1)\n",
      "train_ds.imgs       : ('./data/train1/1\\\\Lion_Download_train_282.jpg', 1)\n",
      "train_ds.imgs       : ('./data/train1/1\\\\Lion_Download_train_283.jpg', 1)\n",
      "train_ds.imgs       : ('./data/train1/1\\\\Lion_Download_train_284.jpg', 1)\n",
      "train_ds.imgs       : ('./data/train1/1\\\\Lion_Download_train_285.jpg', 1)\n",
      "train_ds.imgs       : ('./data/train1/1\\\\Lion_Download_train_286.jpg', 1)\n",
      "train_ds.imgs       : ('./data/train1/1\\\\Lion_Download_train_287.jpg', 1)\n",
      "train_ds.imgs       : ('./data/train1/1\\\\Lion_Download_train_288.jpg', 1)\n",
      "train_ds.imgs       : ('./data/train1/1\\\\Lion_Download_train_289.jpg', 1)\n",
      "train_ds.imgs       : ('./data/train1/1\\\\Lion_Download_train_29.jpg', 1)\n",
      "train_ds.imgs       : ('./data/train1/1\\\\Lion_Download_train_290.jpg', 1)\n",
      "train_ds.imgs       : ('./data/train1/1\\\\Lion_Download_train_291.jpg', 1)\n",
      "train_ds.imgs       : ('./data/train1/1\\\\Lion_Download_train_292.jpg', 1)\n",
      "train_ds.imgs       : ('./data/train1/1\\\\Lion_Download_train_293.jpg', 1)\n",
      "train_ds.imgs       : ('./data/train1/1\\\\Lion_Download_train_294.jpg', 1)\n",
      "train_ds.imgs       : ('./data/train1/1\\\\Lion_Download_train_295.jpg', 1)\n",
      "train_ds.imgs       : ('./data/train1/1\\\\Lion_Download_train_296.jpg', 1)\n",
      "train_ds.imgs       : ('./data/train1/1\\\\Lion_Download_train_297.jpg', 1)\n",
      "train_ds.imgs       : ('./data/train1/1\\\\Lion_Download_train_298.jpg', 1)\n",
      "train_ds.imgs       : ('./data/train1/1\\\\Lion_Download_train_299.jpg', 1)\n",
      "train_ds.imgs       : ('./data/train1/1\\\\Lion_Download_train_30.jpg', 1)\n",
      "train_ds.imgs       : ('./data/train1/1\\\\Lion_Download_train_300.jpg', 1)\n",
      "train_ds.imgs       : ('./data/train1/1\\\\Lion_Download_train_301.jpg', 1)\n",
      "train_ds.imgs       : ('./data/train1/1\\\\Lion_Download_train_302.jpg', 1)\n",
      "train_ds.imgs       : ('./data/train1/1\\\\Lion_Download_train_303.jpg', 1)\n",
      "train_ds.imgs       : ('./data/train1/1\\\\Lion_Download_train_304.jpg', 1)\n",
      "train_ds.imgs       : ('./data/train1/1\\\\Lion_Download_train_305.jpg', 1)\n",
      "train_ds.imgs       : ('./data/train1/1\\\\Lion_Download_train_306.jpg', 1)\n",
      "train_ds.imgs       : ('./data/train1/1\\\\Lion_Download_train_307.jpg', 1)\n",
      "train_ds.imgs       : ('./data/train1/1\\\\Lion_Download_train_31.jpg', 1)\n",
      "train_ds.imgs       : ('./data/train1/1\\\\Lion_Download_train_311.jpg', 1)\n",
      "train_ds.imgs       : ('./data/train1/1\\\\Lion_Download_train_312.jpg', 1)\n",
      "train_ds.imgs       : ('./data/train1/1\\\\Lion_Download_train_313.jpg', 1)\n",
      "train_ds.imgs       : ('./data/train1/1\\\\Lion_Download_train_32.jpg', 1)\n",
      "train_ds.imgs       : ('./data/train1/1\\\\Lion_Download_train_323.jpg', 1)\n",
      "train_ds.imgs       : ('./data/train1/1\\\\Lion_Download_train_324.jpg', 1)\n",
      "train_ds.imgs       : ('./data/train1/1\\\\Lion_Download_train_325.jpg', 1)\n",
      "train_ds.imgs       : ('./data/train1/1\\\\Lion_Download_train_326.jpg', 1)\n",
      "train_ds.imgs       : ('./data/train1/1\\\\Lion_Download_train_327.jpg', 1)\n",
      "train_ds.imgs       : ('./data/train1/1\\\\Lion_Download_train_328.jpg', 1)\n",
      "train_ds.imgs       : ('./data/train1/1\\\\Lion_Download_train_329.jpg', 1)\n",
      "train_ds.imgs       : ('./data/train1/1\\\\Lion_Download_train_33.jpg', 1)\n",
      "train_ds.imgs       : ('./data/train1/1\\\\Lion_Download_train_330.jpg', 1)\n",
      "train_ds.imgs       : ('./data/train1/1\\\\Lion_Download_train_331.jpg', 1)\n",
      "train_ds.imgs       : ('./data/train1/1\\\\Lion_Download_train_332.jpg', 1)\n",
      "train_ds.imgs       : ('./data/train1/1\\\\Lion_Download_train_333.jpg', 1)\n",
      "train_ds.imgs       : ('./data/train1/1\\\\Lion_Download_train_334.jpg', 1)\n",
      "train_ds.imgs       : ('./data/train1/1\\\\Lion_Download_train_335.jpg', 1)\n",
      "train_ds.imgs       : ('./data/train1/1\\\\Lion_Download_train_336.jpg', 1)\n",
      "train_ds.imgs       : ('./data/train1/1\\\\Lion_Download_train_337.jpg', 1)\n",
      "train_ds.imgs       : ('./data/train1/1\\\\Lion_Download_train_338.jpg', 1)\n",
      "train_ds.imgs       : ('./data/train1/1\\\\Lion_Download_train_339.jpg', 1)\n",
      "train_ds.imgs       : ('./data/train1/1\\\\Lion_Download_train_34.jpg', 1)\n",
      "train_ds.imgs       : ('./data/train1/1\\\\Lion_Download_train_340.jpg', 1)\n",
      "train_ds.imgs       : ('./data/train1/1\\\\Lion_Download_train_341.jpg', 1)\n",
      "train_ds.imgs       : ('./data/train1/1\\\\Lion_Download_train_342.jpg', 1)\n",
      "train_ds.imgs       : ('./data/train1/1\\\\Lion_Download_train_343.jpg', 1)\n",
      "train_ds.imgs       : ('./data/train1/1\\\\Lion_Download_train_344.jpg', 1)\n",
      "train_ds.imgs       : ('./data/train1/1\\\\Lion_Download_train_345.jpg', 1)\n",
      "train_ds.imgs       : ('./data/train1/1\\\\Lion_Download_train_346.jpg', 1)\n",
      "train_ds.imgs       : ('./data/train1/1\\\\Lion_Download_train_347.jpg', 1)\n",
      "train_ds.imgs       : ('./data/train1/1\\\\Lion_Download_train_348.jpg', 1)\n",
      "train_ds.imgs       : ('./data/train1/1\\\\Lion_Download_train_349.jpg', 1)\n",
      "train_ds.imgs       : ('./data/train1/1\\\\Lion_Download_train_350.jpg', 1)\n",
      "train_ds.imgs       : ('./data/train1/1\\\\Lion_Download_train_353.jpg', 1)\n",
      "train_ds.imgs       : ('./data/train1/1\\\\Lion_Download_train_354.jpg', 1)\n",
      "train_ds.imgs       : ('./data/train1/1\\\\Lion_Download_train_355.jpg', 1)\n",
      "train_ds.imgs       : ('./data/train1/1\\\\Lion_Download_train_356.jpg', 1)\n",
      "train_ds.imgs       : ('./data/train1/1\\\\Lion_Download_train_357.jpg', 1)\n",
      "train_ds.imgs       : ('./data/train1/1\\\\Lion_Download_train_359.jpg', 1)\n",
      "train_ds.imgs       : ('./data/train1/1\\\\Lion_Download_train_360.jpg', 1)\n",
      "train_ds.imgs       : ('./data/train1/1\\\\Lion_Download_train_361.jpg', 1)\n",
      "train_ds.imgs       : ('./data/train1/1\\\\Lion_Download_train_362.jpg', 1)\n",
      "train_ds.imgs       : ('./data/train1/1\\\\Lion_Download_train_363.jpg', 1)\n",
      "train_ds.imgs       : ('./data/train1/1\\\\Lion_Download_train_364.jpg', 1)\n",
      "train_ds.imgs       : ('./data/train1/1\\\\Lion_Download_train_365.jpg', 1)\n",
      "train_ds.imgs       : ('./data/train1/1\\\\Lion_Download_train_366.jpg', 1)\n",
      "train_ds.imgs       : ('./data/train1/1\\\\Lion_Download_train_367.jpg', 1)\n",
      "train_ds.imgs       : ('./data/train1/1\\\\Lion_Download_train_368.jpg', 1)\n",
      "train_ds.imgs       : ('./data/train1/1\\\\Lion_Download_train_369.jpg', 1)\n",
      "train_ds.imgs       : ('./data/train1/1\\\\Lion_Download_train_37.jpg', 1)\n",
      "train_ds.imgs       : ('./data/train1/1\\\\Lion_Download_train_373.jpg', 1)\n",
      "train_ds.imgs       : ('./data/train1/1\\\\Lion_Download_train_374.jpg', 1)\n",
      "train_ds.imgs       : ('./data/train1/1\\\\Lion_Download_train_375.jpg', 1)\n",
      "train_ds.imgs       : ('./data/train1/1\\\\Lion_Download_train_377.jpg', 1)\n",
      "train_ds.imgs       : ('./data/train1/1\\\\Lion_Download_train_379.jpg', 1)\n",
      "train_ds.imgs       : ('./data/train1/1\\\\Lion_Download_train_38.jpg', 1)\n",
      "train_ds.imgs       : ('./data/train1/1\\\\Lion_Download_train_380.jpg', 1)\n",
      "train_ds.imgs       : ('./data/train1/1\\\\Lion_Download_train_381.jpg', 1)\n",
      "train_ds.imgs       : ('./data/train1/1\\\\Lion_Download_train_382.jpg', 1)\n",
      "train_ds.imgs       : ('./data/train1/1\\\\Lion_Download_train_383.jpg', 1)\n",
      "train_ds.imgs       : ('./data/train1/1\\\\Lion_Download_train_384.jpg', 1)\n",
      "train_ds.imgs       : ('./data/train1/1\\\\Lion_Download_train_385.jpg', 1)\n",
      "train_ds.imgs       : ('./data/train1/1\\\\Lion_Download_train_386.jpg', 1)\n",
      "train_ds.imgs       : ('./data/train1/1\\\\Lion_Download_train_387.jpg', 1)\n",
      "train_ds.imgs       : ('./data/train1/1\\\\Lion_Download_train_388.jpg', 1)\n",
      "train_ds.imgs       : ('./data/train1/1\\\\Lion_Download_train_389.jpg', 1)\n",
      "train_ds.imgs       : ('./data/train1/1\\\\Lion_Download_train_39.jpg', 1)\n",
      "train_ds.imgs       : ('./data/train1/1\\\\Lion_Download_train_390.jpg', 1)\n",
      "train_ds.imgs       : ('./data/train1/1\\\\Lion_Download_train_391.jpg', 1)\n",
      "train_ds.imgs       : ('./data/train1/1\\\\Lion_Download_train_392.jpg', 1)\n",
      "train_ds.imgs       : ('./data/train1/1\\\\Lion_Download_train_393.jpg', 1)\n",
      "train_ds.imgs       : ('./data/train1/1\\\\Lion_Download_train_394.jpg', 1)\n",
      "train_ds.imgs       : ('./data/train1/1\\\\Lion_Download_train_395.jpg', 1)\n",
      "train_ds.imgs       : ('./data/train1/1\\\\Lion_Download_train_396.jpg', 1)\n",
      "train_ds.imgs       : ('./data/train1/1\\\\Lion_Download_train_397.jpg', 1)\n",
      "train_ds.imgs       : ('./data/train1/1\\\\Lion_Download_train_398.jpg', 1)\n",
      "train_ds.imgs       : ('./data/train1/1\\\\Lion_Download_train_399.jpg', 1)\n",
      "train_ds.imgs       : ('./data/train1/1\\\\Lion_Download_train_4.jpg', 1)\n",
      "train_ds.imgs       : ('./data/train1/1\\\\Lion_Download_train_40.jpg', 1)\n",
      "train_ds.imgs       : ('./data/train1/1\\\\Lion_Download_train_400.jpg', 1)\n",
      "train_ds.imgs       : ('./data/train1/1\\\\Lion_Download_train_401.jpg', 1)\n",
      "train_ds.imgs       : ('./data/train1/1\\\\Lion_Download_train_402.jpg', 1)\n",
      "train_ds.imgs       : ('./data/train1/1\\\\Lion_Download_train_403.jpg', 1)\n",
      "train_ds.imgs       : ('./data/train1/1\\\\Lion_Download_train_404.jpg', 1)\n",
      "train_ds.imgs       : ('./data/train1/1\\\\Lion_Download_train_405.jpg', 1)\n",
      "train_ds.imgs       : ('./data/train1/1\\\\Lion_Download_train_406.jpg', 1)\n",
      "train_ds.imgs       : ('./data/train1/1\\\\Lion_Download_train_407.jpg', 1)\n",
      "train_ds.imgs       : ('./data/train1/1\\\\Lion_Download_train_408.jpg', 1)\n",
      "train_ds.imgs       : ('./data/train1/1\\\\Lion_Download_train_41.jpg', 1)\n",
      "train_ds.imgs       : ('./data/train1/1\\\\Lion_Download_train_410.jpg', 1)\n",
      "train_ds.imgs       : ('./data/train1/1\\\\Lion_Download_train_411.jpg', 1)\n",
      "train_ds.imgs       : ('./data/train1/1\\\\Lion_Download_train_417.jpg', 1)\n",
      "train_ds.imgs       : ('./data/train1/1\\\\Lion_Download_train_418.jpg', 1)\n",
      "train_ds.imgs       : ('./data/train1/1\\\\Lion_Download_train_419.jpg', 1)\n",
      "train_ds.imgs       : ('./data/train1/1\\\\Lion_Download_train_420.jpg', 1)\n",
      "train_ds.imgs       : ('./data/train1/1\\\\Lion_Download_train_421.jpg', 1)\n",
      "train_ds.imgs       : ('./data/train1/1\\\\Lion_Download_train_422.jpg', 1)\n",
      "train_ds.imgs       : ('./data/train1/1\\\\Lion_Download_train_423.jpg', 1)\n",
      "train_ds.imgs       : ('./data/train1/1\\\\Lion_Download_train_424.jpg', 1)\n",
      "train_ds.imgs       : ('./data/train1/1\\\\Lion_Download_train_425.jpg', 1)\n",
      "train_ds.imgs       : ('./data/train1/1\\\\Lion_Download_train_426.jpg', 1)\n",
      "train_ds.imgs       : ('./data/train1/1\\\\Lion_Download_train_427.jpg', 1)\n",
      "train_ds.imgs       : ('./data/train1/1\\\\Lion_Download_train_428.jpg', 1)\n",
      "train_ds.imgs       : ('./data/train1/1\\\\Lion_Download_train_429.jpg', 1)\n",
      "train_ds.imgs       : ('./data/train1/1\\\\Lion_Download_train_430.jpg', 1)\n",
      "train_ds.imgs       : ('./data/train1/1\\\\Lion_Download_train_431.jpg', 1)\n",
      "train_ds.imgs       : ('./data/train1/1\\\\Lion_Download_train_432.jpg', 1)\n",
      "train_ds.imgs       : ('./data/train1/1\\\\Lion_Download_train_433.jpg', 1)\n",
      "train_ds.imgs       : ('./data/train1/1\\\\Lion_Download_train_434.jpg', 1)\n",
      "train_ds.imgs       : ('./data/train1/1\\\\Lion_Download_train_435.jpg', 1)\n",
      "train_ds.imgs       : ('./data/train1/1\\\\Lion_Download_train_436.jpg', 1)\n",
      "train_ds.imgs       : ('./data/train1/1\\\\Lion_Download_train_437.jpg', 1)\n",
      "train_ds.imgs       : ('./data/train1/1\\\\Lion_Download_train_438.jpg', 1)\n",
      "train_ds.imgs       : ('./data/train1/1\\\\Lion_Download_train_439.jpg', 1)\n",
      "train_ds.imgs       : ('./data/train1/1\\\\Lion_Download_train_44.jpg', 1)\n",
      "train_ds.imgs       : ('./data/train1/1\\\\Lion_Download_train_440.jpg', 1)\n",
      "train_ds.imgs       : ('./data/train1/1\\\\Lion_Download_train_441.jpg', 1)\n",
      "train_ds.imgs       : ('./data/train1/1\\\\Lion_Download_train_442.jpg', 1)\n",
      "train_ds.imgs       : ('./data/train1/1\\\\Lion_Download_train_443.jpg', 1)\n",
      "train_ds.imgs       : ('./data/train1/1\\\\Lion_Download_train_444.jpg', 1)\n",
      "train_ds.imgs       : ('./data/train1/1\\\\Lion_Download_train_445.jpg', 1)\n",
      "train_ds.imgs       : ('./data/train1/1\\\\Lion_Download_train_446.jpg', 1)\n",
      "train_ds.imgs       : ('./data/train1/1\\\\Lion_Download_train_447.jpg', 1)\n",
      "train_ds.imgs       : ('./data/train1/1\\\\Lion_Download_train_448.jpg', 1)\n",
      "train_ds.imgs       : ('./data/train1/1\\\\Lion_Download_train_449.jpg', 1)\n",
      "train_ds.imgs       : ('./data/train1/1\\\\Lion_Download_train_45.jpg', 1)\n",
      "train_ds.imgs       : ('./data/train1/1\\\\Lion_Download_train_450.jpg', 1)\n",
      "train_ds.imgs       : ('./data/train1/1\\\\Lion_Download_train_453.jpg', 1)\n",
      "train_ds.imgs       : ('./data/train1/1\\\\Lion_Download_train_454.jpg', 1)\n",
      "train_ds.imgs       : ('./data/train1/1\\\\Lion_Download_train_455.jpg', 1)\n",
      "train_ds.imgs       : ('./data/train1/1\\\\Lion_Download_train_456.jpg', 1)\n",
      "train_ds.imgs       : ('./data/train1/1\\\\Lion_Download_train_457.jpg', 1)\n",
      "train_ds.imgs       : ('./data/train1/1\\\\Lion_Download_train_458.jpg', 1)\n",
      "train_ds.imgs       : ('./data/train1/1\\\\Lion_Download_train_474.jpg', 1)\n",
      "train_ds.imgs       : ('./data/train1/1\\\\Lion_Download_train_475.jpg', 1)\n",
      "train_ds.imgs       : ('./data/train1/1\\\\Lion_Download_train_476.jpg', 1)\n",
      "train_ds.imgs       : ('./data/train1/1\\\\Lion_Download_train_477.jpg', 1)\n",
      "train_ds.imgs       : ('./data/train1/1\\\\Lion_Download_train_478.jpg', 1)\n",
      "train_ds.imgs       : ('./data/train1/1\\\\Lion_Download_train_479.jpg', 1)\n",
      "train_ds.imgs       : ('./data/train1/1\\\\Lion_Download_train_480.jpg', 1)\n",
      "train_ds.imgs       : ('./data/train1/1\\\\Lion_Download_train_481.jpg', 1)\n",
      "train_ds.imgs       : ('./data/train1/1\\\\Lion_Download_train_487.jpg', 1)\n",
      "train_ds.imgs       : ('./data/train1/1\\\\Lion_Download_train_488.jpg', 1)\n",
      "train_ds.imgs       : ('./data/train1/1\\\\Lion_Download_train_489.jpg', 1)\n",
      "train_ds.imgs       : ('./data/train1/1\\\\Lion_Download_train_49.jpg', 1)\n",
      "train_ds.imgs       : ('./data/train1/1\\\\Lion_Download_train_490.jpg', 1)\n",
      "train_ds.imgs       : ('./data/train1/1\\\\Lion_Download_train_491.jpg', 1)\n",
      "train_ds.imgs       : ('./data/train1/1\\\\Lion_Download_train_492.jpg', 1)\n",
      "train_ds.imgs       : ('./data/train1/1\\\\Lion_Download_train_493.jpg', 1)\n",
      "train_ds.imgs       : ('./data/train1/1\\\\Lion_Download_train_494.jpg', 1)\n",
      "train_ds.imgs       : ('./data/train1/1\\\\Lion_Download_train_495.jpg', 1)\n",
      "train_ds.imgs       : ('./data/train1/1\\\\Lion_Download_train_496.jpg', 1)\n",
      "train_ds.imgs       : ('./data/train1/1\\\\Lion_Download_train_497.jpg', 1)\n",
      "train_ds.imgs       : ('./data/train1/1\\\\Lion_Download_train_498.jpg', 1)\n",
      "train_ds.imgs       : ('./data/train1/1\\\\Lion_Download_train_499.jpg', 1)\n",
      "train_ds.imgs       : ('./data/train1/1\\\\Lion_Download_train_5.jpg', 1)\n",
      "train_ds.imgs       : ('./data/train1/1\\\\Lion_Download_train_50.jpg', 1)\n",
      "train_ds.imgs       : ('./data/train1/1\\\\Lion_Download_train_504.jpg', 1)\n",
      "train_ds.imgs       : ('./data/train1/1\\\\Lion_Download_train_505.jpg', 1)\n",
      "train_ds.imgs       : ('./data/train1/1\\\\Lion_Download_train_506.jpg', 1)\n",
      "train_ds.imgs       : ('./data/train1/1\\\\Lion_Download_train_507.jpg', 1)\n",
      "train_ds.imgs       : ('./data/train1/1\\\\Lion_Download_train_508.jpg', 1)\n",
      "train_ds.imgs       : ('./data/train1/1\\\\Lion_Download_train_509.jpg', 1)\n",
      "train_ds.imgs       : ('./data/train1/1\\\\Lion_Download_train_51.jpg', 1)\n",
      "train_ds.imgs       : ('./data/train1/1\\\\Lion_Download_train_510.jpg', 1)\n",
      "train_ds.imgs       : ('./data/train1/1\\\\Lion_Download_train_511.jpg', 1)\n",
      "train_ds.imgs       : ('./data/train1/1\\\\Lion_Download_train_512.jpg', 1)\n",
      "train_ds.imgs       : ('./data/train1/1\\\\Lion_Download_train_513.jpg', 1)\n",
      "train_ds.imgs       : ('./data/train1/1\\\\Lion_Download_train_514.jpg', 1)\n",
      "train_ds.imgs       : ('./data/train1/1\\\\Lion_Download_train_515.jpg', 1)\n",
      "train_ds.imgs       : ('./data/train1/1\\\\Lion_Download_train_516.jpg', 1)\n",
      "train_ds.imgs       : ('./data/train1/1\\\\Lion_Download_train_517.jpg', 1)\n",
      "train_ds.imgs       : ('./data/train1/1\\\\Lion_Download_train_518.jpg', 1)\n",
      "train_ds.imgs       : ('./data/train1/1\\\\Lion_Download_train_519.jpg', 1)\n",
      "train_ds.imgs       : ('./data/train1/1\\\\Lion_Download_train_52.jpg', 1)\n",
      "train_ds.imgs       : ('./data/train1/1\\\\Lion_Download_train_521.jpg', 1)\n",
      "train_ds.imgs       : ('./data/train1/1\\\\Lion_Download_train_522.jpg', 1)\n",
      "train_ds.imgs       : ('./data/train1/1\\\\Lion_Download_train_523.jpg', 1)\n",
      "train_ds.imgs       : ('./data/train1/1\\\\Lion_Download_train_524.jpg', 1)\n",
      "train_ds.imgs       : ('./data/train1/1\\\\Lion_Download_train_525.jpg', 1)\n",
      "train_ds.imgs       : ('./data/train1/1\\\\Lion_Download_train_526.jpg', 1)\n",
      "train_ds.imgs       : ('./data/train1/1\\\\Lion_Download_train_527.jpg', 1)\n",
      "train_ds.imgs       : ('./data/train1/1\\\\Lion_Download_train_528.jpg', 1)\n",
      "train_ds.imgs       : ('./data/train1/1\\\\Lion_Download_train_529.jpg', 1)\n",
      "train_ds.imgs       : ('./data/train1/1\\\\Lion_Download_train_53.jpg', 1)\n",
      "train_ds.imgs       : ('./data/train1/1\\\\Lion_Download_train_530.jpg', 1)\n",
      "train_ds.imgs       : ('./data/train1/1\\\\Lion_Download_train_531.jpg', 1)\n",
      "train_ds.imgs       : ('./data/train1/1\\\\Lion_Download_train_536.jpg', 1)\n",
      "train_ds.imgs       : ('./data/train1/1\\\\Lion_Download_train_537.jpg', 1)\n",
      "train_ds.imgs       : ('./data/train1/1\\\\Lion_Download_train_539.jpg', 1)\n",
      "train_ds.imgs       : ('./data/train1/1\\\\Lion_Download_train_54.jpg', 1)\n",
      "train_ds.imgs       : ('./data/train1/1\\\\Lion_Download_train_540.jpg', 1)\n",
      "train_ds.imgs       : ('./data/train1/1\\\\Lion_Download_train_541.jpg', 1)\n",
      "train_ds.imgs       : ('./data/train1/1\\\\Lion_Download_train_542.jpg', 1)\n",
      "train_ds.imgs       : ('./data/train1/1\\\\Lion_Download_train_543.jpg', 1)\n",
      "train_ds.imgs       : ('./data/train1/1\\\\Lion_Download_train_544.jpg', 1)\n",
      "train_ds.imgs       : ('./data/train1/1\\\\Lion_Download_train_545.jpg', 1)\n",
      "train_ds.imgs       : ('./data/train1/1\\\\Lion_Download_train_546.jpg', 1)\n",
      "train_ds.imgs       : ('./data/train1/1\\\\Lion_Download_train_547.jpg', 1)\n",
      "train_ds.imgs       : ('./data/train1/1\\\\Lion_Download_train_548.jpg', 1)\n",
      "train_ds.imgs       : ('./data/train1/1\\\\Lion_Download_train_549.jpg', 1)\n",
      "train_ds.imgs       : ('./data/train1/1\\\\Lion_Download_train_55.jpg', 1)\n",
      "train_ds.imgs       : ('./data/train1/1\\\\Lion_Download_train_550.jpg', 1)\n",
      "train_ds.imgs       : ('./data/train1/1\\\\Lion_Download_train_551.jpg', 1)\n",
      "train_ds.imgs       : ('./data/train1/1\\\\Lion_Download_train_552.jpg', 1)\n",
      "train_ds.imgs       : ('./data/train1/1\\\\Lion_Download_train_553.jpg', 1)\n",
      "train_ds.imgs       : ('./data/train1/1\\\\Lion_Download_train_554.jpg', 1)\n",
      "train_ds.imgs       : ('./data/train1/1\\\\Lion_Download_train_555.jpg', 1)\n",
      "train_ds.imgs       : ('./data/train1/1\\\\Lion_Download_train_556.jpg', 1)\n",
      "train_ds.imgs       : ('./data/train1/1\\\\Lion_Download_train_561.jpg', 1)\n",
      "train_ds.imgs       : ('./data/train1/1\\\\Lion_Download_train_562.jpg', 1)\n",
      "train_ds.imgs       : ('./data/train1/1\\\\Lion_Download_train_565.jpg', 1)\n",
      "train_ds.imgs       : ('./data/train1/1\\\\Lion_Download_train_566.jpg', 1)\n",
      "train_ds.imgs       : ('./data/train1/1\\\\Lion_Download_train_567.jpg', 1)\n",
      "train_ds.imgs       : ('./data/train1/1\\\\Lion_Download_train_568.jpg', 1)\n",
      "train_ds.imgs       : ('./data/train1/1\\\\Lion_Download_train_569.jpg', 1)\n",
      "train_ds.imgs       : ('./data/train1/1\\\\Lion_Download_train_570.jpg', 1)\n",
      "train_ds.imgs       : ('./data/train1/1\\\\Lion_Download_train_571.jpg', 1)\n",
      "train_ds.imgs       : ('./data/train1/1\\\\Lion_Download_train_572.jpg', 1)\n",
      "train_ds.imgs       : ('./data/train1/1\\\\Lion_Download_train_573.jpg', 1)\n",
      "train_ds.imgs       : ('./data/train1/1\\\\Lion_Download_train_574.jpg', 1)\n",
      "train_ds.imgs       : ('./data/train1/1\\\\Lion_Download_train_578.jpg', 1)\n",
      "train_ds.imgs       : ('./data/train1/1\\\\Lion_Download_train_579.jpg', 1)\n",
      "train_ds.imgs       : ('./data/train1/1\\\\Lion_Download_train_580.jpg', 1)\n",
      "train_ds.imgs       : ('./data/train1/1\\\\Lion_Download_train_581.jpg', 1)\n",
      "train_ds.imgs       : ('./data/train1/1\\\\Lion_Download_train_587.jpg', 1)\n",
      "train_ds.imgs       : ('./data/train1/1\\\\Lion_Download_train_588.jpg', 1)\n",
      "train_ds.imgs       : ('./data/train1/1\\\\Lion_Download_train_589.jpg', 1)\n",
      "train_ds.imgs       : ('./data/train1/1\\\\Lion_Download_train_59.jpg', 1)\n",
      "train_ds.imgs       : ('./data/train1/1\\\\Lion_Download_train_6.jpg', 1)\n",
      "train_ds.imgs       : ('./data/train1/1\\\\Lion_Download_train_60.jpg', 1)\n",
      "train_ds.imgs       : ('./data/train1/1\\\\Lion_Download_train_602.jpg', 1)\n",
      "train_ds.imgs       : ('./data/train1/1\\\\Lion_Download_train_603.jpg', 1)\n",
      "train_ds.imgs       : ('./data/train1/1\\\\Lion_Download_train_604.jpg', 1)\n",
      "train_ds.imgs       : ('./data/train1/1\\\\Lion_Download_train_605.jpg', 1)\n",
      "train_ds.imgs       : ('./data/train1/1\\\\Lion_Download_train_606.jpg', 1)\n",
      "train_ds.imgs       : ('./data/train1/1\\\\Lion_Download_train_607.jpg', 1)\n",
      "train_ds.imgs       : ('./data/train1/1\\\\Lion_Download_train_608.jpg', 1)\n",
      "train_ds.imgs       : ('./data/train1/1\\\\Lion_Download_train_609.jpg', 1)\n",
      "train_ds.imgs       : ('./data/train1/1\\\\Lion_Download_train_61.jpg', 1)\n",
      "train_ds.imgs       : ('./data/train1/1\\\\Lion_Download_train_610.jpg', 1)\n",
      "train_ds.imgs       : ('./data/train1/1\\\\Lion_Download_train_611.jpg', 1)\n",
      "train_ds.imgs       : ('./data/train1/1\\\\Lion_Download_train_612.jpg', 1)\n",
      "train_ds.imgs       : ('./data/train1/1\\\\Lion_Download_train_613.jpg', 1)\n",
      "train_ds.imgs       : ('./data/train1/1\\\\Lion_Download_train_614.jpg', 1)\n",
      "train_ds.imgs       : ('./data/train1/1\\\\Lion_Download_train_615.jpg', 1)\n",
      "train_ds.imgs       : ('./data/train1/1\\\\Lion_Download_train_616.jpg', 1)\n",
      "train_ds.imgs       : ('./data/train1/1\\\\Lion_Download_train_617.jpg', 1)\n",
      "train_ds.imgs       : ('./data/train1/1\\\\Lion_Download_train_618.jpg', 1)\n",
      "train_ds.imgs       : ('./data/train1/1\\\\Lion_Download_train_619.jpg', 1)\n",
      "train_ds.imgs       : ('./data/train1/1\\\\Lion_Download_train_62.jpg', 1)\n",
      "train_ds.imgs       : ('./data/train1/1\\\\Lion_Download_train_620.jpg', 1)\n",
      "train_ds.imgs       : ('./data/train1/1\\\\Lion_Download_train_621.jpg', 1)\n",
      "train_ds.imgs       : ('./data/train1/1\\\\Lion_Download_train_622.jpg', 1)\n",
      "train_ds.imgs       : ('./data/train1/1\\\\Lion_Download_train_623.jpg', 1)\n",
      "train_ds.imgs       : ('./data/train1/1\\\\Lion_Download_train_624.jpg', 1)\n",
      "train_ds.imgs       : ('./data/train1/1\\\\Lion_Download_train_625.jpg', 1)\n",
      "train_ds.imgs       : ('./data/train1/1\\\\Lion_Download_train_626.jpg', 1)\n",
      "train_ds.imgs       : ('./data/train1/1\\\\Lion_Download_train_627.jpg', 1)\n",
      "train_ds.imgs       : ('./data/train1/1\\\\Lion_Download_train_628.jpg', 1)\n",
      "train_ds.imgs       : ('./data/train1/1\\\\Lion_Download_train_629.jpg', 1)\n",
      "train_ds.imgs       : ('./data/train1/1\\\\Lion_Download_train_63.jpg', 1)\n",
      "train_ds.imgs       : ('./data/train1/1\\\\Lion_Download_train_630.jpg', 1)\n",
      "train_ds.imgs       : ('./data/train1/1\\\\Lion_Download_train_631.jpg', 1)\n",
      "train_ds.imgs       : ('./data/train1/1\\\\Lion_Download_train_632.jpg', 1)\n",
      "train_ds.imgs       : ('./data/train1/1\\\\Lion_Download_train_633.jpg', 1)\n",
      "train_ds.imgs       : ('./data/train1/1\\\\Lion_Download_train_634.jpg', 1)\n",
      "train_ds.imgs       : ('./data/train1/1\\\\Lion_Download_train_635.jpg', 1)\n",
      "train_ds.imgs       : ('./data/train1/1\\\\Lion_Download_train_636.jpg', 1)\n",
      "train_ds.imgs       : ('./data/train1/1\\\\Lion_Download_train_637.jpg', 1)\n",
      "train_ds.imgs       : ('./data/train1/1\\\\Lion_Download_train_638.jpg', 1)\n",
      "train_ds.imgs       : ('./data/train1/1\\\\Lion_Download_train_639.jpg', 1)\n",
      "train_ds.imgs       : ('./data/train1/1\\\\Lion_Download_train_64.jpg', 1)\n",
      "train_ds.imgs       : ('./data/train1/1\\\\Lion_Download_train_640.jpg', 1)\n",
      "train_ds.imgs       : ('./data/train1/1\\\\Lion_Download_train_641.jpg', 1)\n",
      "train_ds.imgs       : ('./data/train1/1\\\\Lion_Download_train_642.jpg', 1)\n",
      "train_ds.imgs       : ('./data/train1/1\\\\Lion_Download_train_643.jpg', 1)\n",
      "train_ds.imgs       : ('./data/train1/1\\\\Lion_Download_train_644.jpg', 1)\n",
      "train_ds.imgs       : ('./data/train1/1\\\\Lion_Download_train_645.jpg', 1)\n",
      "train_ds.imgs       : ('./data/train1/1\\\\Lion_Download_train_646.jpg', 1)\n",
      "train_ds.imgs       : ('./data/train1/1\\\\Lion_Download_train_647.jpg', 1)\n",
      "train_ds.imgs       : ('./data/train1/1\\\\Lion_Download_train_649.jpg', 1)\n",
      "train_ds.imgs       : ('./data/train1/1\\\\Lion_Download_train_65.jpg', 1)\n",
      "train_ds.imgs       : ('./data/train1/1\\\\Lion_Download_train_650.jpg', 1)\n",
      "train_ds.imgs       : ('./data/train1/1\\\\Lion_Download_train_651.jpg', 1)\n",
      "train_ds.imgs       : ('./data/train1/1\\\\Lion_Download_train_652.jpg', 1)\n",
      "train_ds.imgs       : ('./data/train1/1\\\\Lion_Download_train_653.jpg', 1)\n",
      "train_ds.imgs       : ('./data/train1/1\\\\Lion_Download_train_654.jpg', 1)\n",
      "train_ds.imgs       : ('./data/train1/1\\\\Lion_Download_train_655.jpg', 1)\n",
      "train_ds.imgs       : ('./data/train1/1\\\\Lion_Download_train_656.jpg', 1)\n",
      "train_ds.imgs       : ('./data/train1/1\\\\Lion_Download_train_657.jpg', 1)\n",
      "train_ds.imgs       : ('./data/train1/1\\\\Lion_Download_train_658.jpg', 1)\n",
      "train_ds.imgs       : ('./data/train1/1\\\\Lion_Download_train_659.jpg', 1)\n",
      "train_ds.imgs       : ('./data/train1/1\\\\Lion_Download_train_66.jpg', 1)\n",
      "train_ds.imgs       : ('./data/train1/1\\\\Lion_Download_train_660.jpg', 1)\n",
      "train_ds.imgs       : ('./data/train1/1\\\\Lion_Download_train_663.jpg', 1)\n",
      "train_ds.imgs       : ('./data/train1/1\\\\Lion_Download_train_664.jpg', 1)\n",
      "train_ds.imgs       : ('./data/train1/1\\\\Lion_Download_train_666.jpg', 1)\n",
      "train_ds.imgs       : ('./data/train1/1\\\\Lion_Download_train_667.jpg', 1)\n",
      "train_ds.imgs       : ('./data/train1/1\\\\Lion_Download_train_668.jpg', 1)\n",
      "train_ds.imgs       : ('./data/train1/1\\\\Lion_Download_train_669.jpg', 1)\n",
      "train_ds.imgs       : ('./data/train1/1\\\\Lion_Download_train_67.jpg', 1)\n",
      "train_ds.imgs       : ('./data/train1/1\\\\Lion_Download_train_670.jpg', 1)\n",
      "train_ds.imgs       : ('./data/train1/1\\\\Lion_Download_train_671.jpg', 1)\n",
      "train_ds.imgs       : ('./data/train1/1\\\\Lion_Download_train_672.jpg', 1)\n",
      "train_ds.imgs       : ('./data/train1/1\\\\Lion_Download_train_673.jpg', 1)\n",
      "train_ds.imgs       : ('./data/train1/1\\\\Lion_Download_train_674.jpg', 1)\n",
      "train_ds.imgs       : ('./data/train1/1\\\\Lion_Download_train_675.jpg', 1)\n",
      "train_ds.imgs       : ('./data/train1/1\\\\Lion_Download_train_676.jpg', 1)\n",
      "train_ds.imgs       : ('./data/train1/1\\\\Lion_Download_train_677.jpg', 1)\n",
      "train_ds.imgs       : ('./data/train1/1\\\\Lion_Download_train_678.jpg', 1)\n",
      "train_ds.imgs       : ('./data/train1/1\\\\Lion_Download_train_679.jpg', 1)\n",
      "train_ds.imgs       : ('./data/train1/1\\\\Lion_Download_train_68.jpg', 1)\n",
      "train_ds.imgs       : ('./data/train1/1\\\\Lion_Download_train_680.jpg', 1)\n",
      "train_ds.imgs       : ('./data/train1/1\\\\Lion_Download_train_681.jpg', 1)\n",
      "train_ds.imgs       : ('./data/train1/1\\\\Lion_Download_train_682.jpg', 1)\n",
      "train_ds.imgs       : ('./data/train1/1\\\\Lion_Download_train_683.jpg', 1)\n",
      "train_ds.imgs       : ('./data/train1/1\\\\Lion_Download_train_684.jpg', 1)\n",
      "train_ds.imgs       : ('./data/train1/1\\\\Lion_Download_train_685.jpg', 1)\n",
      "train_ds.imgs       : ('./data/train1/1\\\\Lion_Download_train_686.jpg', 1)\n",
      "train_ds.imgs       : ('./data/train1/1\\\\Lion_Download_train_687.jpg', 1)\n",
      "train_ds.imgs       : ('./data/train1/1\\\\Lion_Download_train_688.jpg', 1)\n",
      "train_ds.imgs       : ('./data/train1/1\\\\Lion_Download_train_689.jpg', 1)\n",
      "train_ds.imgs       : ('./data/train1/1\\\\Lion_Download_train_690.jpg', 1)\n",
      "train_ds.imgs       : ('./data/train1/1\\\\Lion_Download_train_691.jpg', 1)\n",
      "train_ds.imgs       : ('./data/train1/1\\\\Lion_Download_train_692.jpg', 1)\n",
      "train_ds.imgs       : ('./data/train1/1\\\\Lion_Download_train_693.jpg', 1)\n",
      "train_ds.imgs       : ('./data/train1/1\\\\Lion_Download_train_694.jpg', 1)\n",
      "train_ds.imgs       : ('./data/train1/1\\\\Lion_Download_train_695.jpg', 1)\n",
      "train_ds.imgs       : ('./data/train1/1\\\\Lion_Download_train_696.jpg', 1)\n",
      "train_ds.imgs       : ('./data/train1/1\\\\Lion_Download_train_698.jpg', 1)\n",
      "train_ds.imgs       : ('./data/train1/1\\\\Lion_Download_train_699.jpg', 1)\n",
      "train_ds.imgs       : ('./data/train1/1\\\\Lion_Download_train_7.jpg', 1)\n",
      "train_ds.imgs       : ('./data/train1/1\\\\Lion_Download_train_70.jpg', 1)\n",
      "train_ds.imgs       : ('./data/train1/1\\\\Lion_Download_train_700.jpg', 1)\n",
      "train_ds.imgs       : ('./data/train1/1\\\\Lion_Download_train_701.jpg', 1)\n",
      "train_ds.imgs       : ('./data/train1/1\\\\Lion_Download_train_702.jpg', 1)\n",
      "train_ds.imgs       : ('./data/train1/1\\\\Lion_Download_train_703.jpg', 1)\n",
      "train_ds.imgs       : ('./data/train1/1\\\\Lion_Download_train_704.jpg', 1)\n",
      "train_ds.imgs       : ('./data/train1/1\\\\Lion_Download_train_705.jpg', 1)\n",
      "train_ds.imgs       : ('./data/train1/1\\\\Lion_Download_train_706.jpg', 1)\n",
      "train_ds.imgs       : ('./data/train1/1\\\\Lion_Download_train_707.jpg', 1)\n",
      "train_ds.imgs       : ('./data/train1/1\\\\Lion_Download_train_708.jpg', 1)\n",
      "train_ds.imgs       : ('./data/train1/1\\\\Lion_Download_train_709.jpg', 1)\n",
      "train_ds.imgs       : ('./data/train1/1\\\\Lion_Download_train_71.jpg', 1)\n",
      "train_ds.imgs       : ('./data/train1/1\\\\Lion_Download_train_710.jpg', 1)\n",
      "train_ds.imgs       : ('./data/train1/1\\\\Lion_Download_train_711.jpg', 1)\n",
      "train_ds.imgs       : ('./data/train1/1\\\\Lion_Download_train_712.jpg', 1)\n",
      "train_ds.imgs       : ('./data/train1/1\\\\Lion_Download_train_713.jpg', 1)\n",
      "train_ds.imgs       : ('./data/train1/1\\\\Lion_Download_train_715.jpg', 1)\n",
      "train_ds.imgs       : ('./data/train1/1\\\\Lion_Download_train_716.jpg', 1)\n",
      "train_ds.imgs       : ('./data/train1/1\\\\Lion_Download_train_717.jpg', 1)\n",
      "train_ds.imgs       : ('./data/train1/1\\\\Lion_Download_train_718.jpg', 1)\n",
      "train_ds.imgs       : ('./data/train1/1\\\\Lion_Download_train_719.jpg', 1)\n",
      "train_ds.imgs       : ('./data/train1/1\\\\Lion_Download_train_72.jpg', 1)\n",
      "train_ds.imgs       : ('./data/train1/1\\\\Lion_Download_train_720.jpg', 1)\n",
      "train_ds.imgs       : ('./data/train1/1\\\\Lion_Download_train_721.jpg', 1)\n",
      "train_ds.imgs       : ('./data/train1/1\\\\Lion_Download_train_722.jpg', 1)\n",
      "train_ds.imgs       : ('./data/train1/1\\\\Lion_Download_train_723.jpg', 1)\n",
      "train_ds.imgs       : ('./data/train1/1\\\\Lion_Download_train_725.jpg', 1)\n",
      "train_ds.imgs       : ('./data/train1/1\\\\Lion_Download_train_726.jpg', 1)\n",
      "train_ds.imgs       : ('./data/train1/1\\\\Lion_Download_train_727.jpg', 1)\n",
      "train_ds.imgs       : ('./data/train1/1\\\\Lion_Download_train_728.jpg', 1)\n",
      "train_ds.imgs       : ('./data/train1/1\\\\Lion_Download_train_729.jpg', 1)\n",
      "train_ds.imgs       : ('./data/train1/1\\\\Lion_Download_train_73.jpg', 1)\n",
      "train_ds.imgs       : ('./data/train1/1\\\\Lion_Download_train_730.jpg', 1)\n",
      "train_ds.imgs       : ('./data/train1/1\\\\Lion_Download_train_735.jpg', 1)\n",
      "train_ds.imgs       : ('./data/train1/1\\\\Lion_Download_train_736.jpg', 1)\n",
      "train_ds.imgs       : ('./data/train1/1\\\\Lion_Download_train_737.jpg', 1)\n",
      "train_ds.imgs       : ('./data/train1/1\\\\Lion_Download_train_738.jpg', 1)\n",
      "train_ds.imgs       : ('./data/train1/1\\\\Lion_Download_train_739.jpg', 1)\n",
      "train_ds.imgs       : ('./data/train1/1\\\\Lion_Download_train_74.jpg', 1)\n",
      "train_ds.imgs       : ('./data/train1/1\\\\Lion_Download_train_740.jpg', 1)\n",
      "train_ds.imgs       : ('./data/train1/1\\\\Lion_Download_train_741.jpg', 1)\n",
      "train_ds.imgs       : ('./data/train1/1\\\\Lion_Download_train_742.jpg', 1)\n",
      "train_ds.imgs       : ('./data/train1/1\\\\Lion_Download_train_743.jpg', 1)\n",
      "train_ds.imgs       : ('./data/train1/1\\\\Lion_Download_train_744.jpg', 1)\n",
      "train_ds.imgs       : ('./data/train1/1\\\\Lion_Download_train_745.jpg', 1)\n",
      "train_ds.imgs       : ('./data/train1/1\\\\Lion_Download_train_746.jpg', 1)\n",
      "train_ds.imgs       : ('./data/train1/1\\\\Lion_Download_train_747.jpg', 1)\n",
      "train_ds.imgs       : ('./data/train1/1\\\\Lion_Download_train_748.jpg', 1)\n",
      "train_ds.imgs       : ('./data/train1/1\\\\Lion_Download_train_749.jpg', 1)\n",
      "train_ds.imgs       : ('./data/train1/1\\\\Lion_Download_train_750.jpg', 1)\n",
      "train_ds.imgs       : ('./data/train1/1\\\\Lion_Download_train_751.jpg', 1)\n",
      "train_ds.imgs       : ('./data/train1/1\\\\Lion_Download_train_752.jpg', 1)\n",
      "train_ds.imgs       : ('./data/train1/1\\\\Lion_Download_train_753.jpg', 1)\n",
      "train_ds.imgs       : ('./data/train1/1\\\\Lion_Download_train_759.jpg', 1)\n",
      "train_ds.imgs       : ('./data/train1/1\\\\Lion_Download_train_760.jpg', 1)\n",
      "train_ds.imgs       : ('./data/train1/1\\\\Lion_Download_train_761.jpg', 1)\n",
      "train_ds.imgs       : ('./data/train1/1\\\\Lion_Download_train_762.jpg', 1)\n",
      "train_ds.imgs       : ('./data/train1/1\\\\Lion_Download_train_768.jpg', 1)\n",
      "train_ds.imgs       : ('./data/train1/1\\\\Lion_Download_train_769.jpg', 1)\n",
      "train_ds.imgs       : ('./data/train1/1\\\\Lion_Download_train_770.jpg', 1)\n",
      "train_ds.imgs       : ('./data/train1/1\\\\Lion_Download_train_771.jpg', 1)\n",
      "train_ds.imgs       : ('./data/train1/1\\\\Lion_Download_train_772.jpg', 1)\n",
      "train_ds.imgs       : ('./data/train1/1\\\\Lion_Download_train_773.jpg', 1)\n",
      "train_ds.imgs       : ('./data/train1/1\\\\Lion_Download_train_774.jpg', 1)\n",
      "train_ds.imgs       : ('./data/train1/1\\\\Lion_Download_train_775.jpg', 1)\n",
      "train_ds.imgs       : ('./data/train1/1\\\\Lion_Download_train_776.jpg', 1)\n",
      "train_ds.imgs       : ('./data/train1/1\\\\Lion_Download_train_777.jpg', 1)\n",
      "train_ds.imgs       : ('./data/train1/1\\\\Lion_Download_train_778.jpg', 1)\n",
      "train_ds.imgs       : ('./data/train1/1\\\\Lion_Download_train_779.jpg', 1)\n",
      "train_ds.imgs       : ('./data/train1/1\\\\Lion_Download_train_78.jpg', 1)\n",
      "train_ds.imgs       : ('./data/train1/1\\\\Lion_Download_train_780.jpg', 1)\n",
      "train_ds.imgs       : ('./data/train1/1\\\\Lion_Download_train_781.jpg', 1)\n",
      "train_ds.imgs       : ('./data/train1/1\\\\Lion_Download_train_782.jpg', 1)\n",
      "train_ds.imgs       : ('./data/train1/1\\\\Lion_Download_train_783.jpg', 1)\n",
      "train_ds.imgs       : ('./data/train1/1\\\\Lion_Download_train_784.jpg', 1)\n",
      "train_ds.imgs       : ('./data/train1/1\\\\Lion_Download_train_785.jpg', 1)\n",
      "train_ds.imgs       : ('./data/train1/1\\\\Lion_Download_train_786.jpg', 1)\n",
      "train_ds.imgs       : ('./data/train1/1\\\\Lion_Download_train_787.jpg', 1)\n",
      "train_ds.imgs       : ('./data/train1/1\\\\Lion_Download_train_79.jpg', 1)\n",
      "train_ds.imgs       : ('./data/train1/1\\\\Lion_Download_train_793.jpg', 1)\n",
      "train_ds.imgs       : ('./data/train1/1\\\\Lion_Download_train_794.jpg', 1)\n",
      "train_ds.imgs       : ('./data/train1/1\\\\Lion_Download_train_795.jpg', 1)\n",
      "train_ds.imgs       : ('./data/train1/1\\\\Lion_Download_train_796.jpg', 1)\n",
      "train_ds.imgs       : ('./data/train1/1\\\\Lion_Download_train_797.jpg', 1)\n",
      "train_ds.imgs       : ('./data/train1/1\\\\Lion_Download_train_8.jpg', 1)\n",
      "train_ds.imgs       : ('./data/train1/1\\\\Lion_Download_train_803.jpg', 1)\n",
      "train_ds.imgs       : ('./data/train1/1\\\\Lion_Download_train_804.jpg', 1)\n",
      "train_ds.imgs       : ('./data/train1/1\\\\Lion_Download_train_805.jpg', 1)\n",
      "train_ds.imgs       : ('./data/train1/1\\\\Lion_Download_train_806.jpg', 1)\n",
      "train_ds.imgs       : ('./data/train1/1\\\\Lion_Download_train_807.jpg', 1)\n",
      "train_ds.imgs       : ('./data/train1/1\\\\Lion_Download_train_817.jpg', 1)\n",
      "train_ds.imgs       : ('./data/train1/1\\\\Lion_Download_train_818.jpg', 1)\n",
      "train_ds.imgs       : ('./data/train1/1\\\\Lion_Download_train_819.jpg', 1)\n",
      "train_ds.imgs       : ('./data/train1/1\\\\Lion_Download_train_82.jpg', 1)\n",
      "train_ds.imgs       : ('./data/train1/1\\\\Lion_Download_train_820.jpg', 1)\n",
      "train_ds.imgs       : ('./data/train1/1\\\\Lion_Download_train_821.jpg', 1)\n",
      "train_ds.imgs       : ('./data/train1/1\\\\Lion_Download_train_822.jpg', 1)\n",
      "train_ds.imgs       : ('./data/train1/1\\\\Lion_Download_train_823.jpg', 1)\n",
      "train_ds.imgs       : ('./data/train1/1\\\\Lion_Download_train_824.jpg', 1)\n",
      "train_ds.imgs       : ('./data/train1/1\\\\Lion_Download_train_825.jpg', 1)\n",
      "train_ds.imgs       : ('./data/train1/1\\\\Lion_Download_train_826.jpg', 1)\n",
      "train_ds.imgs       : ('./data/train1/1\\\\Lion_Download_train_827.jpg', 1)\n",
      "train_ds.imgs       : ('./data/train1/1\\\\Lion_Download_train_828.jpg', 1)\n",
      "train_ds.imgs       : ('./data/train1/1\\\\Lion_Download_train_829.jpg', 1)\n",
      "train_ds.imgs       : ('./data/train1/1\\\\Lion_Download_train_83.jpg', 1)\n",
      "train_ds.imgs       : ('./data/train1/1\\\\Lion_Download_train_830.jpg', 1)\n",
      "train_ds.imgs       : ('./data/train1/1\\\\Lion_Download_train_831.jpg', 1)\n",
      "train_ds.imgs       : ('./data/train1/1\\\\Lion_Download_train_832.jpg', 1)\n",
      "train_ds.imgs       : ('./data/train1/1\\\\Lion_Download_train_833.jpg', 1)\n",
      "train_ds.imgs       : ('./data/train1/1\\\\Lion_Download_train_834.jpg', 1)\n",
      "train_ds.imgs       : ('./data/train1/1\\\\Lion_Download_train_835.jpg', 1)\n",
      "train_ds.imgs       : ('./data/train1/1\\\\Lion_Download_train_836.jpg', 1)\n",
      "train_ds.imgs       : ('./data/train1/1\\\\Lion_Download_train_837.jpg', 1)\n",
      "train_ds.imgs       : ('./data/train1/1\\\\Lion_Download_train_838.jpg', 1)\n",
      "train_ds.imgs       : ('./data/train1/1\\\\Lion_Download_train_839.jpg', 1)\n",
      "train_ds.imgs       : ('./data/train1/1\\\\Lion_Download_train_84.jpg', 1)\n",
      "train_ds.imgs       : ('./data/train1/1\\\\Lion_Download_train_840.jpg', 1)\n",
      "train_ds.imgs       : ('./data/train1/1\\\\Lion_Download_train_841.jpg', 1)\n",
      "train_ds.imgs       : ('./data/train1/1\\\\Lion_Download_train_842.jpg', 1)\n",
      "train_ds.imgs       : ('./data/train1/1\\\\Lion_Download_train_843.jpg', 1)\n",
      "train_ds.imgs       : ('./data/train1/1\\\\Lion_Download_train_844.jpg', 1)\n",
      "train_ds.imgs       : ('./data/train1/1\\\\Lion_Download_train_845.jpg', 1)\n",
      "train_ds.imgs       : ('./data/train1/1\\\\Lion_Download_train_846.jpg', 1)\n",
      "train_ds.imgs       : ('./data/train1/1\\\\Lion_Download_train_847.jpg', 1)\n",
      "train_ds.imgs       : ('./data/train1/1\\\\Lion_Download_train_848.jpg', 1)\n",
      "train_ds.imgs       : ('./data/train1/1\\\\Lion_Download_train_85.jpg', 1)\n",
      "train_ds.imgs       : ('./data/train1/1\\\\Lion_Download_train_853.jpg', 1)\n",
      "train_ds.imgs       : ('./data/train1/1\\\\Lion_Download_train_854.jpg', 1)\n",
      "train_ds.imgs       : ('./data/train1/1\\\\Lion_Download_train_855.jpg', 1)\n",
      "train_ds.imgs       : ('./data/train1/1\\\\Lion_Download_train_856.jpg', 1)\n",
      "train_ds.imgs       : ('./data/train1/1\\\\Lion_Download_train_857.jpg', 1)\n",
      "train_ds.imgs       : ('./data/train1/1\\\\Lion_Download_train_86.jpg', 1)\n",
      "train_ds.imgs       : ('./data/train1/1\\\\Lion_Download_train_863.jpg', 1)\n",
      "train_ds.imgs       : ('./data/train1/1\\\\Lion_Download_train_864.jpg', 1)\n",
      "train_ds.imgs       : ('./data/train1/1\\\\Lion_Download_train_865.jpg', 1)\n",
      "train_ds.imgs       : ('./data/train1/1\\\\Lion_Download_train_866.jpg', 1)\n",
      "train_ds.imgs       : ('./data/train1/1\\\\Lion_Download_train_867.jpg', 1)\n",
      "train_ds.imgs       : ('./data/train1/1\\\\Lion_Download_train_868.jpg', 1)\n",
      "train_ds.imgs       : ('./data/train1/1\\\\Lion_Download_train_869.jpg', 1)\n",
      "train_ds.imgs       : ('./data/train1/1\\\\Lion_Download_train_87.jpg', 1)\n",
      "train_ds.imgs       : ('./data/train1/1\\\\Lion_Download_train_870.jpg', 1)\n",
      "train_ds.imgs       : ('./data/train1/1\\\\Lion_Download_train_871.jpg', 1)\n",
      "train_ds.imgs       : ('./data/train1/1\\\\Lion_Download_train_872.jpg', 1)\n",
      "train_ds.imgs       : ('./data/train1/1\\\\Lion_Download_train_873.jpg', 1)\n",
      "train_ds.imgs       : ('./data/train1/1\\\\Lion_Download_train_874.jpg', 1)\n",
      "train_ds.imgs       : ('./data/train1/1\\\\Lion_Download_train_875.jpg', 1)\n",
      "train_ds.imgs       : ('./data/train1/1\\\\Lion_Download_train_876.jpg', 1)\n",
      "train_ds.imgs       : ('./data/train1/1\\\\Lion_Download_train_877.jpg', 1)\n",
      "train_ds.imgs       : ('./data/train1/1\\\\Lion_Download_train_878.jpg', 1)\n",
      "train_ds.imgs       : ('./data/train1/1\\\\Lion_Download_train_879.jpg', 1)\n",
      "train_ds.imgs       : ('./data/train1/1\\\\Lion_Download_train_88.jpg', 1)\n",
      "train_ds.imgs       : ('./data/train1/1\\\\Lion_Download_train_880.jpg', 1)\n",
      "train_ds.imgs       : ('./data/train1/1\\\\Lion_Download_train_881.jpg', 1)\n",
      "train_ds.imgs       : ('./data/train1/1\\\\Lion_Download_train_882.jpg', 1)\n",
      "train_ds.imgs       : ('./data/train1/1\\\\Lion_Download_train_883.jpg', 1)\n",
      "train_ds.imgs       : ('./data/train1/1\\\\Lion_Download_train_884.jpg', 1)\n",
      "train_ds.imgs       : ('./data/train1/1\\\\Lion_Download_train_885.jpg', 1)\n",
      "train_ds.imgs       : ('./data/train1/1\\\\Lion_Download_train_89.jpg', 1)\n",
      "train_ds.imgs       : ('./data/train1/1\\\\Lion_Download_train_891.jpg', 1)\n",
      "train_ds.imgs       : ('./data/train1/1\\\\Lion_Download_train_892.jpg', 1)\n",
      "train_ds.imgs       : ('./data/train1/1\\\\Lion_Download_train_893.jpg', 1)\n",
      "train_ds.imgs       : ('./data/train1/1\\\\Lion_Download_train_894.jpg', 1)\n",
      "train_ds.imgs       : ('./data/train1/1\\\\Lion_Download_train_895.jpg', 1)\n",
      "train_ds.imgs       : ('./data/train1/1\\\\Lion_Download_train_896.jpg', 1)\n",
      "train_ds.imgs       : ('./data/train1/1\\\\Lion_Download_train_898.jpg', 1)\n",
      "train_ds.imgs       : ('./data/train1/1\\\\Lion_Download_train_899.jpg', 1)\n",
      "train_ds.imgs       : ('./data/train1/1\\\\Lion_Download_train_9.jpg', 1)\n",
      "train_ds.imgs       : ('./data/train1/1\\\\Lion_Download_train_90.jpg', 1)\n",
      "train_ds.imgs       : ('./data/train1/1\\\\Lion_Download_train_900.jpg', 1)\n",
      "train_ds.imgs       : ('./data/train1/1\\\\Lion_Download_train_901.jpg', 1)\n",
      "train_ds.imgs       : ('./data/train1/1\\\\Lion_Download_train_902.jpg', 1)\n",
      "train_ds.imgs       : ('./data/train1/1\\\\Lion_Download_train_903.jpg', 1)\n",
      "train_ds.imgs       : ('./data/train1/1\\\\Lion_Download_train_904.jpg', 1)\n",
      "train_ds.imgs       : ('./data/train1/1\\\\Lion_Download_train_905.jpg', 1)\n",
      "train_ds.imgs       : ('./data/train1/1\\\\Lion_Download_train_906.jpg', 1)\n",
      "train_ds.imgs       : ('./data/train1/1\\\\Lion_Download_train_907.jpg', 1)\n",
      "train_ds.imgs       : ('./data/train1/1\\\\Lion_Download_train_908.jpg', 1)\n",
      "train_ds.imgs       : ('./data/train1/1\\\\Lion_Download_train_909.jpg', 1)\n",
      "train_ds.imgs       : ('./data/train1/1\\\\Lion_Download_train_91.jpg', 1)\n",
      "train_ds.imgs       : ('./data/train1/1\\\\Lion_Download_train_910.jpg', 1)\n",
      "train_ds.imgs       : ('./data/train1/1\\\\Lion_Download_train_911.jpg', 1)\n",
      "train_ds.imgs       : ('./data/train1/1\\\\Lion_Download_train_912.jpg', 1)\n",
      "train_ds.imgs       : ('./data/train1/1\\\\Lion_Download_train_913.jpg', 1)\n",
      "train_ds.imgs       : ('./data/train1/1\\\\Lion_Download_train_914.jpg', 1)\n",
      "train_ds.imgs       : ('./data/train1/1\\\\Lion_Download_train_915.jpg', 1)\n",
      "train_ds.imgs       : ('./data/train1/1\\\\Lion_Download_train_916.jpg', 1)\n",
      "train_ds.imgs       : ('./data/train1/1\\\\Lion_Download_train_917.jpg', 1)\n",
      "train_ds.imgs       : ('./data/train1/1\\\\Lion_Download_train_918.jpg', 1)\n",
      "train_ds.imgs       : ('./data/train1/1\\\\Lion_Download_train_92.jpg', 1)\n",
      "train_ds.imgs       : ('./data/train1/1\\\\Lion_Download_train_923.jpg', 1)\n",
      "train_ds.imgs       : ('./data/train1/1\\\\Lion_Download_train_924.jpg', 1)\n",
      "train_ds.imgs       : ('./data/train1/1\\\\Lion_Download_train_925.jpg', 1)\n",
      "train_ds.imgs       : ('./data/train1/1\\\\Lion_Download_train_926.jpg', 1)\n",
      "train_ds.imgs       : ('./data/train1/1\\\\Lion_Download_train_927.jpg', 1)\n",
      "train_ds.imgs       : ('./data/train1/1\\\\Lion_Download_train_93.jpg', 1)\n",
      "train_ds.imgs       : ('./data/train1/1\\\\Lion_Download_train_931.jpg', 1)\n",
      "train_ds.imgs       : ('./data/train1/1\\\\Lion_Download_train_933.jpg', 1)\n",
      "train_ds.imgs       : ('./data/train1/1\\\\Lion_Download_train_934.jpg', 1)\n",
      "train_ds.imgs       : ('./data/train1/1\\\\Lion_Download_train_935.jpg', 1)\n",
      "train_ds.imgs       : ('./data/train1/1\\\\Lion_Download_train_936.jpg', 1)\n",
      "train_ds.imgs       : ('./data/train1/1\\\\Lion_Download_train_937.jpg', 1)\n",
      "train_ds.imgs       : ('./data/train1/1\\\\Lion_Download_train_938.jpg', 1)\n",
      "train_ds.imgs       : ('./data/train1/1\\\\Lion_Download_train_939.jpg', 1)\n",
      "train_ds.imgs       : ('./data/train1/1\\\\Lion_Download_train_94.jpg', 1)\n",
      "train_ds.imgs       : ('./data/train1/1\\\\Lion_Download_train_940.jpg', 1)\n",
      "train_ds.imgs       : ('./data/train1/1\\\\Lion_Download_train_941.jpg', 1)\n",
      "train_ds.imgs       : ('./data/train1/1\\\\Lion_Download_train_942.jpg', 1)\n",
      "train_ds.imgs       : ('./data/train1/1\\\\Lion_Download_train_943.jpg', 1)\n",
      "train_ds.imgs       : ('./data/train1/1\\\\Lion_Download_train_945.jpg', 1)\n",
      "train_ds.imgs       : ('./data/train1/1\\\\Lion_Download_train_946.jpg', 1)\n",
      "train_ds.imgs       : ('./data/train1/1\\\\Lion_Download_train_947.jpg', 1)\n",
      "train_ds.imgs       : ('./data/train1/1\\\\Lion_Download_train_948.jpg', 1)\n",
      "train_ds.imgs       : ('./data/train1/1\\\\Lion_Download_train_949.jpg', 1)\n",
      "train_ds.imgs       : ('./data/train1/1\\\\Lion_Download_train_95.jpg', 1)\n",
      "train_ds.imgs       : ('./data/train1/1\\\\Lion_Download_train_950.jpg', 1)\n",
      "train_ds.imgs       : ('./data/train1/1\\\\Lion_Download_train_951.jpg', 1)\n",
      "train_ds.imgs       : ('./data/train1/1\\\\Lion_Download_train_952.jpg', 1)\n",
      "train_ds.imgs       : ('./data/train1/1\\\\Lion_Download_train_953.jpg', 1)\n",
      "train_ds.imgs       : ('./data/train1/1\\\\Lion_Download_train_954.jpg', 1)\n",
      "train_ds.imgs       : ('./data/train1/1\\\\Lion_Download_train_955.jpg', 1)\n",
      "train_ds.imgs       : ('./data/train1/1\\\\Lion_Download_train_956.jpg', 1)\n",
      "train_ds.imgs       : ('./data/train1/1\\\\Lion_Download_train_957.jpg', 1)\n",
      "train_ds.imgs       : ('./data/train1/1\\\\Lion_Download_train_958.jpg', 1)\n",
      "train_ds.imgs       : ('./data/train1/1\\\\Lion_Download_train_959.jpg', 1)\n",
      "train_ds.imgs       : ('./data/train1/1\\\\Lion_Download_train_960.jpg', 1)\n",
      "train_ds.imgs       : ('./data/train1/1\\\\Lion_Download_train_961.jpg', 1)\n",
      "train_ds.imgs       : ('./data/train1/1\\\\Lion_Download_train_962.jpg', 1)\n",
      "train_ds.imgs       : ('./data/train1/1\\\\Lion_Download_train_965.jpg', 1)\n",
      "train_ds.imgs       : ('./data/train1/1\\\\Lion_Download_train_967.jpg', 1)\n",
      "train_ds.imgs       : ('./data/train1/1\\\\Lion_Download_train_968.jpg', 1)\n",
      "train_ds.imgs       : ('./data/train1/1\\\\Lion_Download_train_969.jpg', 1)\n",
      "train_ds.imgs       : ('./data/train1/1\\\\Lion_Download_train_970.jpg', 1)\n",
      "train_ds.imgs       : ('./data/train1/1\\\\Lion_Download_train_976.jpg', 1)\n",
      "train_ds.imgs       : ('./data/train1/1\\\\Lion_Download_train_977.jpg', 1)\n",
      "train_ds.imgs       : ('./data/train1/1\\\\Lion_Download_train_978.jpg', 1)\n",
      "train_ds.imgs       : ('./data/train1/1\\\\Lion_Download_train_979.jpg', 1)\n",
      "train_ds.imgs       : ('./data/train1/1\\\\Lion_Download_train_980.jpg', 1)\n",
      "train_ds.imgs       : ('./data/train1/1\\\\Lion_Download_train_981.jpg', 1)\n",
      "train_ds.imgs       : ('./data/train1/1\\\\Lion_Download_train_982.jpg', 1)\n",
      "train_ds.imgs       : ('./data/train1/1\\\\Lion_Download_train_983.jpg', 1)\n",
      "train_ds.imgs       : ('./data/train1/1\\\\Lion_Download_train_984.jpg', 1)\n",
      "train_ds.imgs       : ('./data/train1/1\\\\Lion_Download_train_985.jpg', 1)\n",
      "train_ds.imgs       : ('./data/train1/1\\\\Lion_Download_train_986.jpg', 1)\n",
      "train_ds.imgs       : ('./data/train1/1\\\\Lion_Download_train_987.jpg', 1)\n",
      "train_ds.imgs       : ('./data/train1/1\\\\Lion_Download_train_988.jpg', 1)\n",
      "train_ds.imgs       : ('./data/train1/1\\\\Lion_Download_train_989.jpg', 1)\n",
      "train_ds.imgs       : ('./data/train1/1\\\\Lion_Download_train_99.jpg', 1)\n",
      "train_ds.imgs       : ('./data/train1/1\\\\Lion_Download_train_990.jpg', 1)\n",
      "train_ds.imgs       : ('./data/train1/1\\\\Lion_Download_train_991.jpg', 1)\n",
      "train_ds.imgs       : ('./data/train1/1\\\\Lion_Download_train_992.jpg', 1)\n",
      "train_ds.imgs       : ('./data/train1/1\\\\Lion_Download_train_993.jpg', 1)\n",
      "train_ds.imgs       : ('./data/train1/1\\\\Lion_Download_train_997.jpg', 1)\n",
      "train_ds.imgs       : ('./data/train1/1\\\\Lion_Download_train_999.jpg', 1)\n",
      "train_ds.imgs       : (\"./data/train1/1\\\\Lion_d'Afrique.jpg\", 1)\n",
      "train_ds.imgs       : ('./data/train1/1\\\\Male-Lion-Africa.jpg', 1)\n",
      "train_ds.imgs       : ('./data/train1/1\\\\VIER PFOTEN_2012-05-15_002 (1)-1927x1333.jpg', 1)\n",
      "train_ds.imgs       : ('./data/train1/1\\\\Watermark-Andrew-Macdonald-Male-Lion-Liuwa-Plain-Zambia-1.jpg', 1)\n",
      "train_ds.imgs       : ('./data/train1/1\\\\Web-image-iStock-492611032.jpg', 1)\n",
      "train_ds.imgs       : ('./data/train1/1\\\\african-lion-feature.png', 1)\n",
      "train_ds.imgs       : ('./data/train1/1\\\\amazing-dangerous-image-lion-260nw-2461984617.jpg', 1)\n",
      "train_ds.imgs       : ('./data/train1/1\\\\animals_hero_lions_0.jpg', 1)\n",
      "train_ds.imgs       : ('./data/train1/1\\\\black-maned-lion-shem-compion-786x500.jpg', 1)\n",
      "train_ds.imgs       : ('./data/train1/1\\\\hassan-pond-2022-1024x686.jpg', 1)\n",
      "train_ds.imgs       : ('./data/train1/1\\\\lion-Kenya-Masai-Mara-National-Reserve.jpg', 1)\n",
      "train_ds.imgs       : ('./data/train1/1\\\\lion-king-forest-260nw-2482067871.jpg', 1)\n",
      "train_ds.imgs       : ('./data/train1/1\\\\lion-wall-art.jpg', 1)\n",
      "train_ds.imgs       : ('./data/train1/1\\\\lion.jpg', 1)\n",
      "train_ds.imgs       : ('./data/train1/1\\\\lion_Sue-MCConnell_J7I7672-Edit.jpg', 1)\n",
      "train_ds.imgs       : ('./data/train1/1\\\\pexels-marik-elikishvili-4224300.jpg', 1)\n",
      "train_ds.imgs       : ('./data/train1/1\\\\proteger-lion-roi-animaux.jpg', 1)\n"
     ]
    }
   ],
   "source": [
    "print(f'train_ds.classes       : {train_ds.classes}')\n",
    "print(f'train_ds.class_to_idx  : {train_ds.class_to_idx}')\n",
    "print(f'train_ds.targets       : {train_ds.targets}')\n",
    "for img in train_ds.imgs:\n",
    "    print(f'train_ds.imgs       : {img}')"
   ]
  },
  {
   "cell_type": "code",
   "execution_count": 122,
   "metadata": {},
   "outputs": [
    {
     "data": {
      "image/png": "[encoded data removed]",
      "text/plain": [
       "<Figure size 1000x400 with 5 Axes>"
      ]
     },
     "metadata": {},
     "output_type": "display_data"
    }
   ],
   "source": [
    "label_names=train_ds.classes\n",
    "classes={0:'other', 1:'LION'}\n",
    "fig,axes=plt.subplots(1,5,figsize=(10,4))\n",
    "for idx,(img_data,target) in enumerate(train_ds):\n",
    "    axes[idx].imshow(img_data.permute(1,2,0))\n",
    "    axes[idx].set_title(classes[target])\n",
    "    if idx==4: break\n",
    "plt.show()"
   ]
  },
  {
   "cell_type": "code",
   "execution_count": 123,
   "metadata": {},
   "outputs": [],
   "source": [
    "model=models.vgg16(weights=models.VGG16_Weights.IMAGENET1K_V1)"
   ]
  },
  {
   "cell_type": "code",
   "execution_count": 124,
   "metadata": {},
   "outputs": [
    {
     "name": "stdout",
     "output_type": "stream",
     "text": [
      "VGG(\n",
      "  (features): Sequential(\n",
      "    (0): Conv2d(3, 64, kernel_size=(3, 3), stride=(1, 1), padding=(1, 1))\n",
      "    (1): ReLU(inplace=True)\n",
      "    (2): Conv2d(64, 64, kernel_size=(3, 3), stride=(1, 1), padding=(1, 1))\n",
      "    (3): ReLU(inplace=True)\n",
      "    (4): MaxPool2d(kernel_size=2, stride=2, padding=0, dilation=1, ceil_mode=False)\n",
      "    (5): Conv2d(64, 128, kernel_size=(3, 3), stride=(1, 1), padding=(1, 1))\n",
      "    (6): ReLU(inplace=True)\n",
      "    (7): Conv2d(128, 128, kernel_size=(3, 3), stride=(1, 1), padding=(1, 1))\n",
      "    (8): ReLU(inplace=True)\n",
      "    (9): MaxPool2d(kernel_size=2, stride=2, padding=0, dilation=1, ceil_mode=False)\n",
      "    (10): Conv2d(128, 256, kernel_size=(3, 3), stride=(1, 1), padding=(1, 1))\n",
      "    (11): ReLU(inplace=True)\n",
      "    (12): Conv2d(256, 256, kernel_size=(3, 3), stride=(1, 1), padding=(1, 1))\n",
      "    (13): ReLU(inplace=True)\n",
      "    (14): Conv2d(256, 256, kernel_size=(3, 3), stride=(1, 1), padding=(1, 1))\n",
      "    (15): ReLU(inplace=True)\n",
      "    (16): MaxPool2d(kernel_size=2, stride=2, padding=0, dilation=1, ceil_mode=False)\n",
      "    (17): Conv2d(256, 512, kernel_size=(3, 3), stride=(1, 1), padding=(1, 1))\n",
      "    (18): ReLU(inplace=True)\n",
      "    (19): Conv2d(512, 512, kernel_size=(3, 3), stride=(1, 1), padding=(1, 1))\n",
      "    (20): ReLU(inplace=True)\n",
      "    (21): Conv2d(512, 512, kernel_size=(3, 3), stride=(1, 1), padding=(1, 1))\n",
      "    (22): ReLU(inplace=True)\n",
      "    (23): MaxPool2d(kernel_size=2, stride=2, padding=0, dilation=1, ceil_mode=False)\n",
      "    (24): Conv2d(512, 512, kernel_size=(3, 3), stride=(1, 1), padding=(1, 1))\n",
      "    (25): ReLU(inplace=True)\n",
      "    (26): Conv2d(512, 512, kernel_size=(3, 3), stride=(1, 1), padding=(1, 1))\n",
      "    (27): ReLU(inplace=True)\n",
      "    (28): Conv2d(512, 512, kernel_size=(3, 3), stride=(1, 1), padding=(1, 1))\n",
      "    (29): ReLU(inplace=True)\n",
      "    (30): MaxPool2d(kernel_size=2, stride=2, padding=0, dilation=1, ceil_mode=False)\n",
      "  )\n",
      "  (avgpool): AdaptiveAvgPool2d(output_size=(7, 7))\n",
      "  (classifier): Sequential(\n",
      "    (0): Linear(in_features=25088, out_features=4096, bias=True)\n",
      "    (1): ReLU(inplace=True)\n",
      "    (2): Dropout(p=0.5, inplace=False)\n",
      "    (3): Linear(in_features=4096, out_features=4096, bias=True)\n",
      "    (4): ReLU(inplace=True)\n",
      "    (5): Dropout(p=0.5, inplace=False)\n",
      "    (6): Linear(in_features=4096, out_features=1000, bias=True)\n",
      "  )\n",
      ")\n"
     ]
    }
   ],
   "source": [
    "print(model)"
   ]
  },
  {
   "cell_type": "code",
   "execution_count": 125,
   "metadata": {},
   "outputs": [
    {
     "data": {
      "text/plain": [
       "=================================================================\n",
       "Layer (type:depth-idx)                   Param #\n",
       "=================================================================\n",
       "VGG                                      --\n",
       "├─Sequential: 1-1                        --\n",
       "│    └─Conv2d: 2-1                       1,792\n",
       "│    └─ReLU: 2-2                         --\n",
       "│    └─Conv2d: 2-3                       36,928\n",
       "│    └─ReLU: 2-4                         --\n",
       "│    └─MaxPool2d: 2-5                    --\n",
       "│    └─Conv2d: 2-6                       73,856\n",
       "│    └─ReLU: 2-7                         --\n",
       "│    └─Conv2d: 2-8                       147,584\n",
       "│    └─ReLU: 2-9                         --\n",
       "│    └─MaxPool2d: 2-10                   --\n",
       "│    └─Conv2d: 2-11                      295,168\n",
       "│    └─ReLU: 2-12                        --\n",
       "│    └─Conv2d: 2-13                      590,080\n",
       "│    └─ReLU: 2-14                        --\n",
       "│    └─Conv2d: 2-15                      590,080\n",
       "│    └─ReLU: 2-16                        --\n",
       "│    └─MaxPool2d: 2-17                   --\n",
       "│    └─Conv2d: 2-18                      1,180,160\n",
       "│    └─ReLU: 2-19                        --\n",
       "│    └─Conv2d: 2-20                      2,359,808\n",
       "│    └─ReLU: 2-21                        --\n",
       "│    └─Conv2d: 2-22                      2,359,808\n",
       "│    └─ReLU: 2-23                        --\n",
       "│    └─MaxPool2d: 2-24                   --\n",
       "│    └─Conv2d: 2-25                      2,359,808\n",
       "│    └─ReLU: 2-26                        --\n",
       "│    └─Conv2d: 2-27                      2,359,808\n",
       "│    └─ReLU: 2-28                        --\n",
       "│    └─Conv2d: 2-29                      2,359,808\n",
       "│    └─ReLU: 2-30                        --\n",
       "│    └─MaxPool2d: 2-31                   --\n",
       "├─AdaptiveAvgPool2d: 1-2                 --\n",
       "├─Sequential: 1-3                        --\n",
       "│    └─Linear: 2-32                      102,764,544\n",
       "│    └─ReLU: 2-33                        --\n",
       "│    └─Dropout: 2-34                     --\n",
       "│    └─Linear: 2-35                      16,781,312\n",
       "│    └─ReLU: 2-36                        --\n",
       "│    └─Dropout: 2-37                     --\n",
       "│    └─Linear: 2-38                      4,097,000\n",
       "=================================================================\n",
       "Total params: 138,357,544\n",
       "Trainable params: 138,357,544\n",
       "Non-trainable params: 0\n",
       "================================================================="
      ]
     },
     "execution_count": 125,
     "metadata": {},
     "output_type": "execute_result"
    }
   ],
   "source": [
    "summary(model)"
   ]
  },
  {
   "cell_type": "code",
   "execution_count": 126,
   "metadata": {},
   "outputs": [
    {
     "name": "stdout",
     "output_type": "stream",
     "text": [
      "[features.0.weight] - torch.Size([64, 3, 3, 3])\n",
      "[features.0.bias] - torch.Size([64])\n",
      "[features.2.weight] - torch.Size([64, 64, 3, 3])\n",
      "[features.2.bias] - torch.Size([64])\n",
      "[features.5.weight] - torch.Size([128, 64, 3, 3])\n",
      "[features.5.bias] - torch.Size([128])\n",
      "[features.7.weight] - torch.Size([128, 128, 3, 3])\n",
      "[features.7.bias] - torch.Size([128])\n",
      "[features.10.weight] - torch.Size([256, 128, 3, 3])\n",
      "[features.10.bias] - torch.Size([256])\n",
      "[features.12.weight] - torch.Size([256, 256, 3, 3])\n",
      "[features.12.bias] - torch.Size([256])\n",
      "[features.14.weight] - torch.Size([256, 256, 3, 3])\n",
      "[features.14.bias] - torch.Size([256])\n",
      "[features.17.weight] - torch.Size([512, 256, 3, 3])\n",
      "[features.17.bias] - torch.Size([512])\n",
      "[features.19.weight] - torch.Size([512, 512, 3, 3])\n",
      "[features.19.bias] - torch.Size([512])\n",
      "[features.21.weight] - torch.Size([512, 512, 3, 3])\n",
      "[features.21.bias] - torch.Size([512])\n",
      "[features.24.weight] - torch.Size([512, 512, 3, 3])\n",
      "[features.24.bias] - torch.Size([512])\n",
      "[features.26.weight] - torch.Size([512, 512, 3, 3])\n",
      "[features.26.bias] - torch.Size([512])\n",
      "[features.28.weight] - torch.Size([512, 512, 3, 3])\n",
      "[features.28.bias] - torch.Size([512])\n",
      "[classifier.0.weight] - torch.Size([4096, 25088])\n",
      "[classifier.0.bias] - torch.Size([4096])\n",
      "[classifier.3.weight] - torch.Size([4096, 4096])\n",
      "[classifier.3.bias] - torch.Size([4096])\n",
      "[classifier.6.weight] - torch.Size([1000, 4096])\n",
      "[classifier.6.bias] - torch.Size([1000])\n"
     ]
    }
   ],
   "source": [
    "for named,param in model.named_parameters():\n",
    "    print(f'[{named}] - {param.shape}')\n",
    "    \n",
    "    param.requires_grad=False"
   ]
  },
  {
   "cell_type": "code",
   "execution_count": 127,
   "metadata": {},
   "outputs": [
    {
     "data": {
      "text/plain": [
       "Sequential(\n",
       "  (0): Linear(in_features=25088, out_features=4096, bias=True)\n",
       "  (1): ReLU(inplace=True)\n",
       "  (2): Dropout(p=0.5, inplace=False)\n",
       "  (3): Linear(in_features=4096, out_features=4096, bias=True)\n",
       "  (4): ReLU(inplace=True)\n",
       "  (5): Dropout(p=0.5, inplace=False)\n",
       "  (6): Linear(in_features=4096, out_features=1000, bias=True)\n",
       ")"
      ]
     },
     "execution_count": 127,
     "metadata": {},
     "output_type": "execute_result"
    }
   ],
   "source": [
    "model.classifier"
   ]
  },
  {
   "cell_type": "code",
   "execution_count": 128,
   "metadata": {},
   "outputs": [],
   "source": [
    "class VGG16WithFC(nn.Module):\n",
    "    def __init__(self):\n",
    "        super(VGG16WithFC, self).__init__()\n",
    "\n",
    "        self.vgg16 = models.vgg16(pretrained=True)\n",
    "\n",
    "        self.features=model.features\n",
    "        self.avgpool=model.avgpool\n",
    "        self.classifier = self.vgg16.classifier\n",
    "\n",
    "        self.extra_fc = nn.Sequential(\n",
    "            nn.ReLU(),\n",
    "            nn.Linear(1000,500),\n",
    "            nn.ReLU(),\n",
    "            nn.Linear(500,1)\n",
    "        )\n",
    "\n",
    "    def forward(self, x):\n",
    "        x = self.features(x) \n",
    "        x = self.avgpool(x)\n",
    "        x = torch.flatten(x, 1)\n",
    "        x = self.classifier(x)  \n",
    "        x = self.extra_fc(x)  \n",
    "        return x"
   ]
  },
  {
   "cell_type": "code",
   "execution_count": null,
   "metadata": {},
   "outputs": [],
   "source": [
    "DEVICE='cuda' if torch.cuda.is_available else 'cpu'"
   ]
  },
  {
   "cell_type": "code",
   "execution_count": 129,
   "metadata": {},
   "outputs": [
    {
     "name": "stderr",
     "output_type": "stream",
     "text": [
      "c:\\Users\\desktop\\anaconda3\\envs\\TORCH_CV_38\\lib\\site-packages\\torchvision\\models\\_utils.py:208: UserWarning: The parameter 'pretrained' is deprecated since 0.13 and may be removed in the future, please use 'weights' instead.\n",
      "  warnings.warn(\n",
      "c:\\Users\\desktop\\anaconda3\\envs\\TORCH_CV_38\\lib\\site-packages\\torchvision\\models\\_utils.py:223: UserWarning: Arguments other than a weight enum or `None` for 'weights' are deprecated since 0.13 and may be removed in the future. The current behavior is equivalent to passing `weights=VGG16_Weights.IMAGENET1K_V1`. You can also use `weights=VGG16_Weights.DEFAULT` to get the most up-to-date weights.\n",
      "  warnings.warn(msg)\n"
     ]
    }
   ],
   "source": [
    "model = VGG16WithFC()"
   ]
  },
  {
   "cell_type": "code",
   "execution_count": 130,
   "metadata": {},
   "outputs": [
    {
     "name": "stdout",
     "output_type": "stream",
     "text": [
      "VGG16WithFC(\n",
      "  (vgg16): VGG(\n",
      "    (features): Sequential(\n",
      "      (0): Conv2d(3, 64, kernel_size=(3, 3), stride=(1, 1), padding=(1, 1))\n",
      "      (1): ReLU(inplace=True)\n",
      "      (2): Conv2d(64, 64, kernel_size=(3, 3), stride=(1, 1), padding=(1, 1))\n",
      "      (3): ReLU(inplace=True)\n",
      "      (4): MaxPool2d(kernel_size=2, stride=2, padding=0, dilation=1, ceil_mode=False)\n",
      "      (5): Conv2d(64, 128, kernel_size=(3, 3), stride=(1, 1), padding=(1, 1))\n",
      "      (6): ReLU(inplace=True)\n",
      "      (7): Conv2d(128, 128, kernel_size=(3, 3), stride=(1, 1), padding=(1, 1))\n",
      "      (8): ReLU(inplace=True)\n",
      "      (9): MaxPool2d(kernel_size=2, stride=2, padding=0, dilation=1, ceil_mode=False)\n",
      "      (10): Conv2d(128, 256, kernel_size=(3, 3), stride=(1, 1), padding=(1, 1))\n",
      "      (11): ReLU(inplace=True)\n",
      "      (12): Conv2d(256, 256, kernel_size=(3, 3), stride=(1, 1), padding=(1, 1))\n",
      "      (13): ReLU(inplace=True)\n",
      "      (14): Conv2d(256, 256, kernel_size=(3, 3), stride=(1, 1), padding=(1, 1))\n",
      "      (15): ReLU(inplace=True)\n",
      "      (16): MaxPool2d(kernel_size=2, stride=2, padding=0, dilation=1, ceil_mode=False)\n",
      "      (17): Conv2d(256, 512, kernel_size=(3, 3), stride=(1, 1), padding=(1, 1))\n",
      "      (18): ReLU(inplace=True)\n",
      "      (19): Conv2d(512, 512, kernel_size=(3, 3), stride=(1, 1), padding=(1, 1))\n",
      "      (20): ReLU(inplace=True)\n",
      "      (21): Conv2d(512, 512, kernel_size=(3, 3), stride=(1, 1), padding=(1, 1))\n",
      "      (22): ReLU(inplace=True)\n",
      "      (23): MaxPool2d(kernel_size=2, stride=2, padding=0, dilation=1, ceil_mode=False)\n",
      "      (24): Conv2d(512, 512, kernel_size=(3, 3), stride=(1, 1), padding=(1, 1))\n",
      "      (25): ReLU(inplace=True)\n",
      "      (26): Conv2d(512, 512, kernel_size=(3, 3), stride=(1, 1), padding=(1, 1))\n",
      "      (27): ReLU(inplace=True)\n",
      "      (28): Conv2d(512, 512, kernel_size=(3, 3), stride=(1, 1), padding=(1, 1))\n",
      "      (29): ReLU(inplace=True)\n",
      "      (30): MaxPool2d(kernel_size=2, stride=2, padding=0, dilation=1, ceil_mode=False)\n",
      "    )\n",
      "    (avgpool): AdaptiveAvgPool2d(output_size=(7, 7))\n",
      "    (classifier): Sequential(\n",
      "      (0): Linear(in_features=25088, out_features=4096, bias=True)\n",
      "      (1): ReLU(inplace=True)\n",
      "      (2): Dropout(p=0.5, inplace=False)\n",
      "      (3): Linear(in_features=4096, out_features=4096, bias=True)\n",
      "      (4): ReLU(inplace=True)\n",
      "      (5): Dropout(p=0.5, inplace=False)\n",
      "      (6): Linear(in_features=4096, out_features=1000, bias=True)\n",
      "    )\n",
      "  )\n",
      "  (features): Sequential(\n",
      "    (0): Conv2d(3, 64, kernel_size=(3, 3), stride=(1, 1), padding=(1, 1))\n",
      "    (1): ReLU(inplace=True)\n",
      "    (2): Conv2d(64, 64, kernel_size=(3, 3), stride=(1, 1), padding=(1, 1))\n",
      "    (3): ReLU(inplace=True)\n",
      "    (4): MaxPool2d(kernel_size=2, stride=2, padding=0, dilation=1, ceil_mode=False)\n",
      "    (5): Conv2d(64, 128, kernel_size=(3, 3), stride=(1, 1), padding=(1, 1))\n",
      "    (6): ReLU(inplace=True)\n",
      "    (7): Conv2d(128, 128, kernel_size=(3, 3), stride=(1, 1), padding=(1, 1))\n",
      "    (8): ReLU(inplace=True)\n",
      "    (9): MaxPool2d(kernel_size=2, stride=2, padding=0, dilation=1, ceil_mode=False)\n",
      "    (10): Conv2d(128, 256, kernel_size=(3, 3), stride=(1, 1), padding=(1, 1))\n",
      "    (11): ReLU(inplace=True)\n",
      "    (12): Conv2d(256, 256, kernel_size=(3, 3), stride=(1, 1), padding=(1, 1))\n",
      "    (13): ReLU(inplace=True)\n",
      "    (14): Conv2d(256, 256, kernel_size=(3, 3), stride=(1, 1), padding=(1, 1))\n",
      "    (15): ReLU(inplace=True)\n",
      "    (16): MaxPool2d(kernel_size=2, stride=2, padding=0, dilation=1, ceil_mode=False)\n",
      "    (17): Conv2d(256, 512, kernel_size=(3, 3), stride=(1, 1), padding=(1, 1))\n",
      "    (18): ReLU(inplace=True)\n",
      "    (19): Conv2d(512, 512, kernel_size=(3, 3), stride=(1, 1), padding=(1, 1))\n",
      "    (20): ReLU(inplace=True)\n",
      "    (21): Conv2d(512, 512, kernel_size=(3, 3), stride=(1, 1), padding=(1, 1))\n",
      "    (22): ReLU(inplace=True)\n",
      "    (23): MaxPool2d(kernel_size=2, stride=2, padding=0, dilation=1, ceil_mode=False)\n",
      "    (24): Conv2d(512, 512, kernel_size=(3, 3), stride=(1, 1), padding=(1, 1))\n",
      "    (25): ReLU(inplace=True)\n",
      "    (26): Conv2d(512, 512, kernel_size=(3, 3), stride=(1, 1), padding=(1, 1))\n",
      "    (27): ReLU(inplace=True)\n",
      "    (28): Conv2d(512, 512, kernel_size=(3, 3), stride=(1, 1), padding=(1, 1))\n",
      "    (29): ReLU(inplace=True)\n",
      "    (30): MaxPool2d(kernel_size=2, stride=2, padding=0, dilation=1, ceil_mode=False)\n",
      "  )\n",
      "  (avgpool): AdaptiveAvgPool2d(output_size=(7, 7))\n",
      "  (classifier): Sequential(\n",
      "    (0): Linear(in_features=25088, out_features=4096, bias=True)\n",
      "    (1): ReLU(inplace=True)\n",
      "    (2): Dropout(p=0.5, inplace=False)\n",
      "    (3): Linear(in_features=4096, out_features=4096, bias=True)\n",
      "    (4): ReLU(inplace=True)\n",
      "    (5): Dropout(p=0.5, inplace=False)\n",
      "    (6): Linear(in_features=4096, out_features=1000, bias=True)\n",
      "  )\n",
      "  (extra_fc): Sequential(\n",
      "    (0): ReLU()\n",
      "    (1): Linear(in_features=1000, out_features=500, bias=True)\n",
      "    (2): ReLU()\n",
      "    (3): Linear(in_features=500, out_features=1, bias=True)\n",
      "  )\n",
      ")\n"
     ]
    }
   ],
   "source": [
    "print(model)"
   ]
  },
  {
   "cell_type": "code",
   "execution_count": 131,
   "metadata": {},
   "outputs": [
    {
     "name": "stderr",
     "output_type": "stream",
     "text": [
      "c:\\Users\\desktop\\anaconda3\\envs\\TORCH_CV_38\\lib\\site-packages\\torch\\optim\\lr_scheduler.py:60: UserWarning: The verbose parameter is deprecated. Please use get_last_lr() to access the learning rate.\n",
      "  warnings.warn(\n"
     ]
    }
   ],
   "source": [
    "criterion=nn.BCEWithLogitsLoss()\n",
    "optimizer=optim.Adam(model.parameters(),lr=0.001)\n",
    "scheduler=lr_scheduler.ReduceLROnPlateau(optimizer,mode='max',patience=10,verbose=True)"
   ]
  },
  {
   "cell_type": "code",
   "execution_count": 132,
   "metadata": {},
   "outputs": [],
   "source": [
    "param_to_update=[]\n",
    "for name, param in model.named_parameters():\n",
    "    if param.requires_grad==True:\n",
    "        param_to_update.append(param)\n",
    "\n",
    "optimizer=optim.Adam(param_to_update,lr=0.001)"
   ]
  },
  {
   "cell_type": "code",
   "execution_count": 133,
   "metadata": {},
   "outputs": [],
   "source": [
    "## models 폴더 아래 프로젝트 폴더 아래 모델 파일저장\n",
    "import os\n",
    "\n",
    "# 저장 경로\n",
    "SAVE_PATH = './models/'\n",
    "# 저장 파일명\n",
    "SAVE_FILE = 'lion_model_train_wbs.pth'\n",
    "# 저장 모델구조 및 파라미터 모두 저장\n",
    "SAVE_MODEL = 'lion_model_all.pth'\n",
    "\n",
    "if not os.path.exists(SAVE_PATH):\n",
    "    os.makedirs(SAVE_PATH)"
   ]
  },
  {
   "cell_type": "code",
   "execution_count": 134,
   "metadata": {},
   "outputs": [
    {
     "name": "stdout",
     "output_type": "stream",
     "text": [
      "torch.Size([32, 3, 224, 224]) torch.Size([32])\n"
     ]
    }
   ],
   "source": [
    "for feature,target in train_dl:\n",
    "    print(feature.shape,target.shape)\n",
    "    break\n"
   ]
  },
  {
   "cell_type": "code",
   "execution_count": 135,
   "metadata": {},
   "outputs": [
    {
     "name": "stderr",
     "output_type": "stream",
     "text": [
      "c:\\Users\\desktop\\anaconda3\\envs\\TORCH_CV_38\\lib\\site-packages\\PIL\\Image.py:1056: UserWarning: Palette images with Transparency expressed in bytes should be converted to RGBA images\n",
      "  warnings.warn(\n"
     ]
    },
    {
     "name": "stdout",
     "output_type": "stream",
     "text": [
      "EPOCH [1/100]\n",
      "[TRAIN] Loss: 2.550644357999166, Score: 0.5402572653644593\n"
     ]
    },
    {
     "name": "stderr",
     "output_type": "stream",
     "text": [
      "c:\\Users\\desktop\\anaconda3\\envs\\TORCH_CV_38\\lib\\site-packages\\PIL\\Image.py:1056: UserWarning: Palette images with Transparency expressed in bytes should be converted to RGBA images\n",
      "  warnings.warn(\n"
     ]
    },
    {
     "name": "stdout",
     "output_type": "stream",
     "text": [
      "EPOCH [2/100]\n",
      "[TRAIN] Loss: 0.7283593775734069, Score: 0.6200772200772202\n"
     ]
    },
    {
     "name": "stderr",
     "output_type": "stream",
     "text": [
      "c:\\Users\\desktop\\anaconda3\\envs\\TORCH_CV_38\\lib\\site-packages\\PIL\\Image.py:1056: UserWarning: Palette images with Transparency expressed in bytes should be converted to RGBA images\n",
      "  warnings.warn(\n"
     ]
    },
    {
     "name": "stdout",
     "output_type": "stream",
     "text": [
      "EPOCH [3/100]\n",
      "[TRAIN] Loss: 0.7089506075495765, Score: 0.6487617718869899\n"
     ]
    },
    {
     "name": "stderr",
     "output_type": "stream",
     "text": [
      "c:\\Users\\desktop\\anaconda3\\envs\\TORCH_CV_38\\lib\\site-packages\\PIL\\Image.py:1056: UserWarning: Palette images with Transparency expressed in bytes should be converted to RGBA images\n",
      "  warnings.warn(\n"
     ]
    },
    {
     "name": "stdout",
     "output_type": "stream",
     "text": [
      "EPOCH [4/100]\n",
      "[TRAIN] Loss: 0.7120305545746334, Score: 0.6425501432664755\n"
     ]
    },
    {
     "name": "stderr",
     "output_type": "stream",
     "text": [
      "c:\\Users\\desktop\\anaconda3\\envs\\TORCH_CV_38\\lib\\site-packages\\PIL\\Image.py:1056: UserWarning: Palette images with Transparency expressed in bytes should be converted to RGBA images\n",
      "  warnings.warn(\n"
     ]
    },
    {
     "name": "stdout",
     "output_type": "stream",
     "text": [
      "EPOCH [5/100]\n",
      "[TRAIN] Loss: 0.7065355143849812, Score: 0.6453313253012049\n"
     ]
    },
    {
     "name": "stderr",
     "output_type": "stream",
     "text": [
      "c:\\Users\\desktop\\anaconda3\\envs\\TORCH_CV_38\\lib\\site-packages\\PIL\\Image.py:1056: UserWarning: Palette images with Transparency expressed in bytes should be converted to RGBA images\n",
      "  warnings.warn(\n"
     ]
    },
    {
     "name": "stdout",
     "output_type": "stream",
     "text": [
      "EPOCH [6/100]\n",
      "[TRAIN] Loss: 0.6920766972360157, Score: 0.6659226190476191\n"
     ]
    },
    {
     "name": "stderr",
     "output_type": "stream",
     "text": [
      "c:\\Users\\desktop\\anaconda3\\envs\\TORCH_CV_38\\lib\\site-packages\\PIL\\Image.py:1056: UserWarning: Palette images with Transparency expressed in bytes should be converted to RGBA images\n",
      "  warnings.warn(\n"
     ]
    },
    {
     "name": "stdout",
     "output_type": "stream",
     "text": [
      "EPOCH [7/100]\n",
      "[TRAIN] Loss: 0.6957116855515374, Score: 0.6683880486905202\n"
     ]
    },
    {
     "name": "stderr",
     "output_type": "stream",
     "text": [
      "c:\\Users\\desktop\\anaconda3\\envs\\TORCH_CV_38\\lib\\site-packages\\PIL\\Image.py:1056: UserWarning: Palette images with Transparency expressed in bytes should be converted to RGBA images\n",
      "  warnings.warn(\n"
     ]
    },
    {
     "name": "stdout",
     "output_type": "stream",
     "text": [
      "EPOCH [8/100]\n",
      "[TRAIN] Loss: 0.6660743374673147, Score: 0.6753246753246752\n"
     ]
    },
    {
     "name": "stderr",
     "output_type": "stream",
     "text": [
      "c:\\Users\\desktop\\anaconda3\\envs\\TORCH_CV_38\\lib\\site-packages\\PIL\\Image.py:1056: UserWarning: Palette images with Transparency expressed in bytes should be converted to RGBA images\n",
      "  warnings.warn(\n"
     ]
    },
    {
     "name": "stdout",
     "output_type": "stream",
     "text": [
      "EPOCH [9/100]\n",
      "[TRAIN] Loss: 0.6468772282676091, Score: 0.6854304635761589\n"
     ]
    },
    {
     "name": "stderr",
     "output_type": "stream",
     "text": [
      "c:\\Users\\desktop\\anaconda3\\envs\\TORCH_CV_38\\lib\\site-packages\\PIL\\Image.py:1056: UserWarning: Palette images with Transparency expressed in bytes should be converted to RGBA images\n",
      "  warnings.warn(\n"
     ]
    },
    {
     "name": "stdout",
     "output_type": "stream",
     "text": [
      "EPOCH [10/100]\n",
      "[TRAIN] Loss: 0.643570594844364, Score: 0.6823087752228999\n"
     ]
    },
    {
     "name": "stderr",
     "output_type": "stream",
     "text": [
      "c:\\Users\\desktop\\anaconda3\\envs\\TORCH_CV_38\\lib\\site-packages\\PIL\\Image.py:1056: UserWarning: Palette images with Transparency expressed in bytes should be converted to RGBA images\n",
      "  warnings.warn(\n"
     ]
    },
    {
     "name": "stdout",
     "output_type": "stream",
     "text": [
      "EPOCH [11/100]\n",
      "[TRAIN] Loss: 0.603360988317974, Score: 0.7230702136938509\n"
     ]
    },
    {
     "name": "stderr",
     "output_type": "stream",
     "text": [
      "c:\\Users\\desktop\\anaconda3\\envs\\TORCH_CV_38\\lib\\site-packages\\PIL\\Image.py:1056: UserWarning: Palette images with Transparency expressed in bytes should be converted to RGBA images\n",
      "  warnings.warn(\n"
     ]
    },
    {
     "name": "stdout",
     "output_type": "stream",
     "text": [
      "EPOCH [12/100]\n",
      "[TRAIN] Loss: 0.558844958978986, Score: 0.742526518804243\n"
     ]
    },
    {
     "name": "stderr",
     "output_type": "stream",
     "text": [
      "c:\\Users\\desktop\\anaconda3\\envs\\TORCH_CV_38\\lib\\site-packages\\PIL\\Image.py:1056: UserWarning: Palette images with Transparency expressed in bytes should be converted to RGBA images\n",
      "  warnings.warn(\n"
     ]
    },
    {
     "name": "stdout",
     "output_type": "stream",
     "text": [
      "EPOCH [13/100]\n",
      "[TRAIN] Loss: 0.5185052754860076, Score: 0.7625615763546798\n"
     ]
    },
    {
     "name": "stderr",
     "output_type": "stream",
     "text": [
      "c:\\Users\\desktop\\anaconda3\\envs\\TORCH_CV_38\\lib\\site-packages\\PIL\\Image.py:1056: UserWarning: Palette images with Transparency expressed in bytes should be converted to RGBA images\n",
      "  warnings.warn(\n"
     ]
    },
    {
     "name": "stdout",
     "output_type": "stream",
     "text": [
      "EPOCH [14/100]\n",
      "[TRAIN] Loss: 0.5339897239492053, Score: 0.7818361303060217\n"
     ]
    },
    {
     "name": "stderr",
     "output_type": "stream",
     "text": [
      "c:\\Users\\desktop\\anaconda3\\envs\\TORCH_CV_38\\lib\\site-packages\\PIL\\Image.py:1056: UserWarning: Palette images with Transparency expressed in bytes should be converted to RGBA images\n",
      "  warnings.warn(\n"
     ]
    },
    {
     "name": "stdout",
     "output_type": "stream",
     "text": [
      "EPOCH [15/100]\n",
      "[TRAIN] Loss: 0.5958793607969133, Score: 0.7813244402096237\n"
     ]
    },
    {
     "name": "stderr",
     "output_type": "stream",
     "text": [
      "c:\\Users\\desktop\\anaconda3\\envs\\TORCH_CV_38\\lib\\site-packages\\PIL\\Image.py:1056: UserWarning: Palette images with Transparency expressed in bytes should be converted to RGBA images\n",
      "  warnings.warn(\n"
     ]
    },
    {
     "name": "stdout",
     "output_type": "stream",
     "text": [
      "EPOCH [16/100]\n",
      "[TRAIN] Loss: 0.5445176980325154, Score: 0.7732201791607731\n"
     ]
    },
    {
     "name": "stderr",
     "output_type": "stream",
     "text": [
      "c:\\Users\\desktop\\anaconda3\\envs\\TORCH_CV_38\\lib\\site-packages\\PIL\\Image.py:1056: UserWarning: Palette images with Transparency expressed in bytes should be converted to RGBA images\n",
      "  warnings.warn(\n"
     ]
    },
    {
     "name": "stdout",
     "output_type": "stream",
     "text": [
      "EPOCH [17/100]\n",
      "[TRAIN] Loss: 0.6575292807722849, Score: 0.7785356980445657\n"
     ]
    },
    {
     "name": "stderr",
     "output_type": "stream",
     "text": [
      "c:\\Users\\desktop\\anaconda3\\envs\\TORCH_CV_38\\lib\\site-packages\\PIL\\Image.py:1056: UserWarning: Palette images with Transparency expressed in bytes should be converted to RGBA images\n",
      "  warnings.warn(\n"
     ]
    },
    {
     "name": "stdout",
     "output_type": "stream",
     "text": [
      "EPOCH [18/100]\n",
      "[TRAIN] Loss: 0.6521687256911445, Score: 0.7442414614773629\n"
     ]
    },
    {
     "name": "stderr",
     "output_type": "stream",
     "text": [
      "c:\\Users\\desktop\\anaconda3\\envs\\TORCH_CV_38\\lib\\site-packages\\PIL\\Image.py:1056: UserWarning: Palette images with Transparency expressed in bytes should be converted to RGBA images\n",
      "  warnings.warn(\n"
     ]
    },
    {
     "name": "stdout",
     "output_type": "stream",
     "text": [
      "EPOCH [19/100]\n",
      "[TRAIN] Loss: 0.7692989021066635, Score: 0.7448896156991005\n"
     ]
    },
    {
     "name": "stderr",
     "output_type": "stream",
     "text": [
      "c:\\Users\\desktop\\anaconda3\\envs\\TORCH_CV_38\\lib\\site-packages\\PIL\\Image.py:1056: UserWarning: Palette images with Transparency expressed in bytes should be converted to RGBA images\n",
      "  warnings.warn(\n"
     ]
    },
    {
     "name": "stdout",
     "output_type": "stream",
     "text": [
      "EPOCH [20/100]\n",
      "[TRAIN] Loss: 0.6904901228253804, Score: 0.7409326424870467\n"
     ]
    },
    {
     "name": "stderr",
     "output_type": "stream",
     "text": [
      "c:\\Users\\desktop\\anaconda3\\envs\\TORCH_CV_38\\lib\\site-packages\\PIL\\Image.py:1056: UserWarning: Palette images with Transparency expressed in bytes should be converted to RGBA images\n",
      "  warnings.warn(\n"
     ]
    },
    {
     "name": "stdout",
     "output_type": "stream",
     "text": [
      "EPOCH [21/100]\n",
      "[TRAIN] Loss: 0.7194433335273985, Score: 0.6671232876712329\n"
     ]
    },
    {
     "name": "stderr",
     "output_type": "stream",
     "text": [
      "c:\\Users\\desktop\\anaconda3\\envs\\TORCH_CV_38\\lib\\site-packages\\PIL\\Image.py:1056: UserWarning: Palette images with Transparency expressed in bytes should be converted to RGBA images\n",
      "  warnings.warn(\n"
     ]
    },
    {
     "name": "stdout",
     "output_type": "stream",
     "text": [
      "EPOCH [22/100]\n",
      "[TRAIN] Loss: 0.7031504833509051, Score: 0.6675567423230975\n"
     ]
    },
    {
     "name": "stderr",
     "output_type": "stream",
     "text": [
      "c:\\Users\\desktop\\anaconda3\\envs\\TORCH_CV_38\\lib\\site-packages\\PIL\\Image.py:1056: UserWarning: Palette images with Transparency expressed in bytes should be converted to RGBA images\n",
      "  warnings.warn(\n"
     ]
    },
    {
     "name": "stdout",
     "output_type": "stream",
     "text": [
      "EPOCH [23/100]\n",
      "[TRAIN] Loss: 0.6951487736096458, Score: 0.6675567423230975\n"
     ]
    },
    {
     "name": "stderr",
     "output_type": "stream",
     "text": [
      "c:\\Users\\desktop\\anaconda3\\envs\\TORCH_CV_38\\lib\\site-packages\\PIL\\Image.py:1056: UserWarning: Palette images with Transparency expressed in bytes should be converted to RGBA images\n",
      "  warnings.warn(\n"
     ]
    },
    {
     "name": "stdout",
     "output_type": "stream",
     "text": [
      "EPOCH [24/100]\n",
      "[TRAIN] Loss: 0.6945313186872573, Score: 0.6675567423230975\n"
     ]
    },
    {
     "name": "stderr",
     "output_type": "stream",
     "text": [
      "c:\\Users\\desktop\\anaconda3\\envs\\TORCH_CV_38\\lib\\site-packages\\PIL\\Image.py:1056: UserWarning: Palette images with Transparency expressed in bytes should be converted to RGBA images\n",
      "  warnings.warn(\n"
     ]
    },
    {
     "name": "stdout",
     "output_type": "stream",
     "text": [
      "EPOCH [25/100]\n",
      "[TRAIN] Loss: 0.6945427561563159, Score: 0.6675567423230975\n"
     ]
    },
    {
     "name": "stderr",
     "output_type": "stream",
     "text": [
      "c:\\Users\\desktop\\anaconda3\\envs\\TORCH_CV_38\\lib\\site-packages\\PIL\\Image.py:1056: UserWarning: Palette images with Transparency expressed in bytes should be converted to RGBA images\n",
      "  warnings.warn(\n"
     ]
    },
    {
     "name": "stdout",
     "output_type": "stream",
     "text": [
      "EPOCH [26/100]\n",
      "[TRAIN] Loss: 0.6940807756923494, Score: 0.6675567423230975\n"
     ]
    },
    {
     "name": "stderr",
     "output_type": "stream",
     "text": [
      "c:\\Users\\desktop\\anaconda3\\envs\\TORCH_CV_38\\lib\\site-packages\\PIL\\Image.py:1056: UserWarning: Palette images with Transparency expressed in bytes should be converted to RGBA images\n",
      "  warnings.warn(\n"
     ]
    },
    {
     "name": "stdout",
     "output_type": "stream",
     "text": [
      "EPOCH [27/100]\n",
      "[TRAIN] Loss: 0.6938627929914565, Score: 0.6675567423230975\n"
     ]
    },
    {
     "name": "stderr",
     "output_type": "stream",
     "text": [
      "c:\\Users\\desktop\\anaconda3\\envs\\TORCH_CV_38\\lib\\site-packages\\PIL\\Image.py:1056: UserWarning: Palette images with Transparency expressed in bytes should be converted to RGBA images\n",
      "  warnings.warn(\n"
     ]
    },
    {
     "name": "stdout",
     "output_type": "stream",
     "text": [
      "EPOCH [28/100]\n",
      "[TRAIN] Loss: 0.6936940579187303, Score: 0.6675567423230975\n"
     ]
    },
    {
     "name": "stderr",
     "output_type": "stream",
     "text": [
      "c:\\Users\\desktop\\anaconda3\\envs\\TORCH_CV_38\\lib\\site-packages\\PIL\\Image.py:1056: UserWarning: Palette images with Transparency expressed in bytes should be converted to RGBA images\n",
      "  warnings.warn(\n"
     ]
    },
    {
     "name": "stdout",
     "output_type": "stream",
     "text": [
      "EPOCH [29/100]\n",
      "[TRAIN] Loss: 0.6934487904821124, Score: 0.6675567423230975\n"
     ]
    },
    {
     "name": "stderr",
     "output_type": "stream",
     "text": [
      "c:\\Users\\desktop\\anaconda3\\envs\\TORCH_CV_38\\lib\\site-packages\\PIL\\Image.py:1056: UserWarning: Palette images with Transparency expressed in bytes should be converted to RGBA images\n",
      "  warnings.warn(\n"
     ]
    },
    {
     "name": "stdout",
     "output_type": "stream",
     "text": [
      "EPOCH [30/100]\n",
      "[TRAIN] Loss: 0.6934864814319308, Score: 0.6675567423230975\n"
     ]
    },
    {
     "name": "stderr",
     "output_type": "stream",
     "text": [
      "c:\\Users\\desktop\\anaconda3\\envs\\TORCH_CV_38\\lib\\site-packages\\PIL\\Image.py:1056: UserWarning: Palette images with Transparency expressed in bytes should be converted to RGBA images\n",
      "  warnings.warn(\n"
     ]
    },
    {
     "name": "stdout",
     "output_type": "stream",
     "text": [
      "EPOCH [31/100]\n",
      "[TRAIN] Loss: 0.6935608547831339, Score: 0.6675567423230975\n"
     ]
    },
    {
     "name": "stderr",
     "output_type": "stream",
     "text": [
      "c:\\Users\\desktop\\anaconda3\\envs\\TORCH_CV_38\\lib\\site-packages\\PIL\\Image.py:1056: UserWarning: Palette images with Transparency expressed in bytes should be converted to RGBA images\n",
      "  warnings.warn(\n"
     ]
    },
    {
     "name": "stdout",
     "output_type": "stream",
     "text": [
      "EPOCH [32/100]\n",
      "[TRAIN] Loss: 0.6933844127352276, Score: 0.6675567423230975\n"
     ]
    },
    {
     "name": "stderr",
     "output_type": "stream",
     "text": [
      "c:\\Users\\desktop\\anaconda3\\envs\\TORCH_CV_38\\lib\\site-packages\\PIL\\Image.py:1056: UserWarning: Palette images with Transparency expressed in bytes should be converted to RGBA images\n",
      "  warnings.warn(\n"
     ]
    },
    {
     "name": "stdout",
     "output_type": "stream",
     "text": [
      "EPOCH [33/100]\n",
      "[TRAIN] Loss: 0.6933145239239648, Score: 0.6675567423230975\n"
     ]
    },
    {
     "name": "stderr",
     "output_type": "stream",
     "text": [
      "c:\\Users\\desktop\\anaconda3\\envs\\TORCH_CV_38\\lib\\site-packages\\PIL\\Image.py:1056: UserWarning: Palette images with Transparency expressed in bytes should be converted to RGBA images\n",
      "  warnings.warn(\n"
     ]
    },
    {
     "name": "stdout",
     "output_type": "stream",
     "text": [
      "EPOCH [34/100]\n",
      "[TRAIN] Loss: 0.6931741852608938, Score: 0.6675567423230975\n"
     ]
    },
    {
     "name": "stderr",
     "output_type": "stream",
     "text": [
      "c:\\Users\\desktop\\anaconda3\\envs\\TORCH_CV_38\\lib\\site-packages\\PIL\\Image.py:1056: UserWarning: Palette images with Transparency expressed in bytes should be converted to RGBA images\n",
      "  warnings.warn(\n"
     ]
    },
    {
     "name": "stdout",
     "output_type": "stream",
     "text": [
      "EPOCH [35/100]\n",
      "[TRAIN] Loss: 0.6932118506658644, Score: 0.6675567423230975\n"
     ]
    },
    {
     "name": "stderr",
     "output_type": "stream",
     "text": [
      "c:\\Users\\desktop\\anaconda3\\envs\\TORCH_CV_38\\lib\\site-packages\\PIL\\Image.py:1056: UserWarning: Palette images with Transparency expressed in bytes should be converted to RGBA images\n",
      "  warnings.warn(\n"
     ]
    },
    {
     "name": "stdout",
     "output_type": "stream",
     "text": [
      "EPOCH [36/100]\n",
      "[TRAIN] Loss: 0.6932339441208613, Score: 0.6671118530884809\n"
     ]
    },
    {
     "name": "stderr",
     "output_type": "stream",
     "text": [
      "c:\\Users\\desktop\\anaconda3\\envs\\TORCH_CV_38\\lib\\site-packages\\PIL\\Image.py:1056: UserWarning: Palette images with Transparency expressed in bytes should be converted to RGBA images\n",
      "  warnings.warn(\n"
     ]
    },
    {
     "name": "stdout",
     "output_type": "stream",
     "text": [
      "EPOCH [37/100]\n",
      "[TRAIN] Loss: 0.6931378453496903, Score: 0.6675567423230975\n"
     ]
    },
    {
     "name": "stderr",
     "output_type": "stream",
     "text": [
      "c:\\Users\\desktop\\anaconda3\\envs\\TORCH_CV_38\\lib\\site-packages\\PIL\\Image.py:1056: UserWarning: Palette images with Transparency expressed in bytes should be converted to RGBA images\n",
      "  warnings.warn(\n"
     ]
    },
    {
     "name": "stdout",
     "output_type": "stream",
     "text": [
      "EPOCH [38/100]\n",
      "[TRAIN] Loss: 0.6931831202809773, Score: 0.6675567423230975\n"
     ]
    },
    {
     "name": "stderr",
     "output_type": "stream",
     "text": [
      "c:\\Users\\desktop\\anaconda3\\envs\\TORCH_CV_38\\lib\\site-packages\\PIL\\Image.py:1056: UserWarning: Palette images with Transparency expressed in bytes should be converted to RGBA images\n",
      "  warnings.warn(\n"
     ]
    },
    {
     "name": "stdout",
     "output_type": "stream",
     "text": [
      "EPOCH [39/100]\n",
      "[TRAIN] Loss: 0.6931598432480343, Score: 0.6675567423230975\n"
     ]
    },
    {
     "name": "stderr",
     "output_type": "stream",
     "text": [
      "c:\\Users\\desktop\\anaconda3\\envs\\TORCH_CV_38\\lib\\site-packages\\PIL\\Image.py:1056: UserWarning: Palette images with Transparency expressed in bytes should be converted to RGBA images\n",
      "  warnings.warn(\n"
     ]
    },
    {
     "name": "stdout",
     "output_type": "stream",
     "text": [
      "EPOCH [40/100]\n",
      "[TRAIN] Loss: 0.6931847409596519, Score: 0.6675567423230975\n"
     ]
    },
    {
     "name": "stderr",
     "output_type": "stream",
     "text": [
      "c:\\Users\\desktop\\anaconda3\\envs\\TORCH_CV_38\\lib\\site-packages\\PIL\\Image.py:1056: UserWarning: Palette images with Transparency expressed in bytes should be converted to RGBA images\n",
      "  warnings.warn(\n"
     ]
    },
    {
     "name": "stdout",
     "output_type": "stream",
     "text": [
      "EPOCH [41/100]\n",
      "[TRAIN] Loss: 0.6932023924494547, Score: 0.6675567423230975\n"
     ]
    },
    {
     "name": "stderr",
     "output_type": "stream",
     "text": [
      "c:\\Users\\desktop\\anaconda3\\envs\\TORCH_CV_38\\lib\\site-packages\\PIL\\Image.py:1056: UserWarning: Palette images with Transparency expressed in bytes should be converted to RGBA images\n",
      "  warnings.warn(\n"
     ]
    },
    {
     "name": "stdout",
     "output_type": "stream",
     "text": [
      "EPOCH [42/100]\n",
      "[TRAIN] Loss: 0.6931735438013834, Score: 0.6675567423230975\n"
     ]
    },
    {
     "name": "stderr",
     "output_type": "stream",
     "text": [
      "c:\\Users\\desktop\\anaconda3\\envs\\TORCH_CV_38\\lib\\site-packages\\PIL\\Image.py:1056: UserWarning: Palette images with Transparency expressed in bytes should be converted to RGBA images\n",
      "  warnings.warn(\n"
     ]
    },
    {
     "name": "stdout",
     "output_type": "stream",
     "text": [
      "EPOCH [43/100]\n",
      "[TRAIN] Loss: 0.6931787341360062, Score: 0.6675567423230975\n"
     ]
    },
    {
     "name": "stderr",
     "output_type": "stream",
     "text": [
      "c:\\Users\\desktop\\anaconda3\\envs\\TORCH_CV_38\\lib\\site-packages\\PIL\\Image.py:1056: UserWarning: Palette images with Transparency expressed in bytes should be converted to RGBA images\n",
      "  warnings.warn(\n"
     ]
    },
    {
     "name": "stdout",
     "output_type": "stream",
     "text": [
      "EPOCH [44/100]\n",
      "[TRAIN] Loss: 0.6931782818975902, Score: 0.6675567423230975\n"
     ]
    },
    {
     "name": "stderr",
     "output_type": "stream",
     "text": [
      "c:\\Users\\desktop\\anaconda3\\envs\\TORCH_CV_38\\lib\\site-packages\\PIL\\Image.py:1056: UserWarning: Palette images with Transparency expressed in bytes should be converted to RGBA images\n",
      "  warnings.warn(\n"
     ]
    },
    {
     "name": "stdout",
     "output_type": "stream",
     "text": [
      "EPOCH [45/100]\n",
      "[TRAIN] Loss: 0.693174714133853, Score: 0.6675567423230975\n"
     ]
    },
    {
     "name": "stderr",
     "output_type": "stream",
     "text": [
      "c:\\Users\\desktop\\anaconda3\\envs\\TORCH_CV_38\\lib\\site-packages\\PIL\\Image.py:1056: UserWarning: Palette images with Transparency expressed in bytes should be converted to RGBA images\n",
      "  warnings.warn(\n"
     ]
    },
    {
     "name": "stdout",
     "output_type": "stream",
     "text": [
      "EPOCH [46/100]\n",
      "[TRAIN] Loss: 0.6931565763458373, Score: 0.6675567423230975\n"
     ]
    },
    {
     "name": "stderr",
     "output_type": "stream",
     "text": [
      "c:\\Users\\desktop\\anaconda3\\envs\\TORCH_CV_38\\lib\\site-packages\\PIL\\Image.py:1056: UserWarning: Palette images with Transparency expressed in bytes should be converted to RGBA images\n",
      "  warnings.warn(\n"
     ]
    },
    {
     "name": "stdout",
     "output_type": "stream",
     "text": [
      "EPOCH [47/100]\n",
      "[TRAIN] Loss: 0.6931452921458653, Score: 0.6675567423230975\n"
     ]
    },
    {
     "name": "stderr",
     "output_type": "stream",
     "text": [
      "c:\\Users\\desktop\\anaconda3\\envs\\TORCH_CV_38\\lib\\site-packages\\PIL\\Image.py:1056: UserWarning: Palette images with Transparency expressed in bytes should be converted to RGBA images\n",
      "  warnings.warn(\n"
     ]
    },
    {
     "name": "stdout",
     "output_type": "stream",
     "text": [
      "EPOCH [48/100]\n",
      "[TRAIN] Loss: 0.6931967792056856, Score: 0.6675567423230975\n"
     ]
    },
    {
     "name": "stderr",
     "output_type": "stream",
     "text": [
      "c:\\Users\\desktop\\anaconda3\\envs\\TORCH_CV_38\\lib\\site-packages\\PIL\\Image.py:1056: UserWarning: Palette images with Transparency expressed in bytes should be converted to RGBA images\n",
      "  warnings.warn(\n"
     ]
    },
    {
     "name": "stdout",
     "output_type": "stream",
     "text": [
      "EPOCH [49/100]\n",
      "[TRAIN] Loss: 0.6932175897416615, Score: 0.6675567423230975\n"
     ]
    },
    {
     "name": "stderr",
     "output_type": "stream",
     "text": [
      "c:\\Users\\desktop\\anaconda3\\envs\\TORCH_CV_38\\lib\\site-packages\\PIL\\Image.py:1056: UserWarning: Palette images with Transparency expressed in bytes should be converted to RGBA images\n",
      "  warnings.warn(\n"
     ]
    },
    {
     "name": "stdout",
     "output_type": "stream",
     "text": [
      "EPOCH [50/100]\n",
      "[TRAIN] Loss: 0.6931638651423984, Score: 0.6675567423230975\n"
     ]
    },
    {
     "name": "stderr",
     "output_type": "stream",
     "text": [
      "c:\\Users\\desktop\\anaconda3\\envs\\TORCH_CV_38\\lib\\site-packages\\PIL\\Image.py:1056: UserWarning: Palette images with Transparency expressed in bytes should be converted to RGBA images\n",
      "  warnings.warn(\n"
     ]
    },
    {
     "name": "stdout",
     "output_type": "stream",
     "text": [
      "EPOCH [51/100]\n",
      "[TRAIN] Loss: 0.6931554088516841, Score: 0.6675567423230975\n"
     ]
    },
    {
     "name": "stderr",
     "output_type": "stream",
     "text": [
      "c:\\Users\\desktop\\anaconda3\\envs\\TORCH_CV_38\\lib\\site-packages\\PIL\\Image.py:1056: UserWarning: Palette images with Transparency expressed in bytes should be converted to RGBA images\n",
      "  warnings.warn(\n"
     ]
    },
    {
     "name": "stdout",
     "output_type": "stream",
     "text": [
      "EPOCH [52/100]\n",
      "[TRAIN] Loss: 0.6931723422474332, Score: 0.6675567423230975\n"
     ]
    },
    {
     "name": "stderr",
     "output_type": "stream",
     "text": [
      "c:\\Users\\desktop\\anaconda3\\envs\\TORCH_CV_38\\lib\\site-packages\\PIL\\Image.py:1056: UserWarning: Palette images with Transparency expressed in bytes should be converted to RGBA images\n",
      "  warnings.warn(\n"
     ]
    },
    {
     "name": "stdout",
     "output_type": "stream",
     "text": [
      "EPOCH [53/100]\n",
      "[TRAIN] Loss: 0.693180659460643, Score: 0.6562073669849932\n"
     ]
    },
    {
     "name": "stderr",
     "output_type": "stream",
     "text": [
      "c:\\Users\\desktop\\anaconda3\\envs\\TORCH_CV_38\\lib\\site-packages\\PIL\\Image.py:1056: UserWarning: Palette images with Transparency expressed in bytes should be converted to RGBA images\n",
      "  warnings.warn(\n"
     ]
    },
    {
     "name": "stdout",
     "output_type": "stream",
     "text": [
      "EPOCH [54/100]\n",
      "[TRAIN] Loss: 0.6932221461856176, Score: 0.6671118530884809\n"
     ]
    },
    {
     "name": "stderr",
     "output_type": "stream",
     "text": [
      "c:\\Users\\desktop\\anaconda3\\envs\\TORCH_CV_38\\lib\\site-packages\\PIL\\Image.py:1056: UserWarning: Palette images with Transparency expressed in bytes should be converted to RGBA images\n",
      "  warnings.warn(\n"
     ]
    },
    {
     "name": "stdout",
     "output_type": "stream",
     "text": [
      "EPOCH [55/100]\n",
      "[TRAIN] Loss: 0.6931696950443207, Score: 0.6675567423230975\n"
     ]
    },
    {
     "name": "stderr",
     "output_type": "stream",
     "text": [
      "c:\\Users\\desktop\\anaconda3\\envs\\TORCH_CV_38\\lib\\site-packages\\PIL\\Image.py:1056: UserWarning: Palette images with Transparency expressed in bytes should be converted to RGBA images\n",
      "  warnings.warn(\n"
     ]
    },
    {
     "name": "stdout",
     "output_type": "stream",
     "text": [
      "EPOCH [56/100]\n",
      "[TRAIN] Loss: 0.6931710441907247, Score: 0.6675567423230975\n"
     ]
    },
    {
     "name": "stderr",
     "output_type": "stream",
     "text": [
      "c:\\Users\\desktop\\anaconda3\\envs\\TORCH_CV_38\\lib\\site-packages\\PIL\\Image.py:1056: UserWarning: Palette images with Transparency expressed in bytes should be converted to RGBA images\n",
      "  warnings.warn(\n"
     ]
    },
    {
     "name": "stdout",
     "output_type": "stream",
     "text": [
      "EPOCH [57/100]\n",
      "[TRAIN] Loss: 0.6931706818323287, Score: 0.6675567423230975\n"
     ]
    },
    {
     "name": "stderr",
     "output_type": "stream",
     "text": [
      "c:\\Users\\desktop\\anaconda3\\envs\\TORCH_CV_38\\lib\\site-packages\\PIL\\Image.py:1056: UserWarning: Palette images with Transparency expressed in bytes should be converted to RGBA images\n",
      "  warnings.warn(\n"
     ]
    },
    {
     "name": "stdout",
     "output_type": "stream",
     "text": [
      "EPOCH [58/100]\n",
      "[TRAIN] Loss: 0.6931606937968542, Score: 0.6675567423230975\n"
     ]
    },
    {
     "name": "stderr",
     "output_type": "stream",
     "text": [
      "c:\\Users\\desktop\\anaconda3\\envs\\TORCH_CV_38\\lib\\site-packages\\PIL\\Image.py:1056: UserWarning: Palette images with Transparency expressed in bytes should be converted to RGBA images\n",
      "  warnings.warn(\n"
     ]
    },
    {
     "name": "stdout",
     "output_type": "stream",
     "text": [
      "EPOCH [59/100]\n",
      "[TRAIN] Loss: 0.6931783102807545, Score: 0.6675567423230975\n"
     ]
    },
    {
     "name": "stderr",
     "output_type": "stream",
     "text": [
      "c:\\Users\\desktop\\anaconda3\\envs\\TORCH_CV_38\\lib\\site-packages\\PIL\\Image.py:1056: UserWarning: Palette images with Transparency expressed in bytes should be converted to RGBA images\n",
      "  warnings.warn(\n"
     ]
    },
    {
     "name": "stdout",
     "output_type": "stream",
     "text": [
      "EPOCH [60/100]\n",
      "[TRAIN] Loss: 0.6931714604771326, Score: 0.6675567423230975\n"
     ]
    },
    {
     "name": "stderr",
     "output_type": "stream",
     "text": [
      "c:\\Users\\desktop\\anaconda3\\envs\\TORCH_CV_38\\lib\\site-packages\\PIL\\Image.py:1056: UserWarning: Palette images with Transparency expressed in bytes should be converted to RGBA images\n",
      "  warnings.warn(\n"
     ]
    },
    {
     "name": "stdout",
     "output_type": "stream",
     "text": [
      "EPOCH [61/100]\n",
      "[TRAIN] Loss: 0.6933381074950808, Score: 0.6675567423230975\n"
     ]
    },
    {
     "name": "stderr",
     "output_type": "stream",
     "text": [
      "c:\\Users\\desktop\\anaconda3\\envs\\TORCH_CV_38\\lib\\site-packages\\PIL\\Image.py:1056: UserWarning: Palette images with Transparency expressed in bytes should be converted to RGBA images\n",
      "  warnings.warn(\n"
     ]
    },
    {
     "name": "stdout",
     "output_type": "stream",
     "text": [
      "EPOCH [62/100]\n",
      "[TRAIN] Loss: 0.6931963771108597, Score: 0.6675567423230975\n"
     ]
    },
    {
     "name": "stderr",
     "output_type": "stream",
     "text": [
      "c:\\Users\\desktop\\anaconda3\\envs\\TORCH_CV_38\\lib\\site-packages\\PIL\\Image.py:1056: UserWarning: Palette images with Transparency expressed in bytes should be converted to RGBA images\n",
      "  warnings.warn(\n"
     ]
    },
    {
     "name": "stdout",
     "output_type": "stream",
     "text": [
      "EPOCH [63/100]\n",
      "[TRAIN] Loss: 0.6931712759865655, Score: 0.6675567423230975\n"
     ]
    },
    {
     "name": "stderr",
     "output_type": "stream",
     "text": [
      "c:\\Users\\desktop\\anaconda3\\envs\\TORCH_CV_38\\lib\\site-packages\\PIL\\Image.py:1056: UserWarning: Palette images with Transparency expressed in bytes should be converted to RGBA images\n",
      "  warnings.warn(\n"
     ]
    },
    {
     "name": "stdout",
     "output_type": "stream",
     "text": [
      "EPOCH [64/100]\n",
      "[TRAIN] Loss: 0.6931601904687428, Score: 0.6675567423230975\n"
     ]
    },
    {
     "name": "stderr",
     "output_type": "stream",
     "text": [
      "c:\\Users\\desktop\\anaconda3\\envs\\TORCH_CV_38\\lib\\site-packages\\PIL\\Image.py:1056: UserWarning: Palette images with Transparency expressed in bytes should be converted to RGBA images\n",
      "  warnings.warn(\n"
     ]
    },
    {
     "name": "stdout",
     "output_type": "stream",
     "text": [
      "EPOCH [65/100]\n",
      "[TRAIN] Loss: 0.6932138441100953, Score: 0.6675567423230975\n"
     ]
    },
    {
     "name": "stderr",
     "output_type": "stream",
     "text": [
      "c:\\Users\\desktop\\anaconda3\\envs\\TORCH_CV_38\\lib\\site-packages\\PIL\\Image.py:1056: UserWarning: Palette images with Transparency expressed in bytes should be converted to RGBA images\n",
      "  warnings.warn(\n"
     ]
    },
    {
     "name": "stdout",
     "output_type": "stream",
     "text": [
      "EPOCH [66/100]\n",
      "[TRAIN] Loss: 0.6931457614141797, Score: 0.6675567423230975\n"
     ]
    },
    {
     "name": "stderr",
     "output_type": "stream",
     "text": [
      "c:\\Users\\desktop\\anaconda3\\envs\\TORCH_CV_38\\lib\\site-packages\\PIL\\Image.py:1056: UserWarning: Palette images with Transparency expressed in bytes should be converted to RGBA images\n",
      "  warnings.warn(\n"
     ]
    },
    {
     "name": "stdout",
     "output_type": "stream",
     "text": [
      "EPOCH [67/100]\n",
      "[TRAIN] Loss: 0.6931888782788836, Score: 0.6675567423230975\n"
     ]
    },
    {
     "name": "stderr",
     "output_type": "stream",
     "text": [
      "c:\\Users\\desktop\\anaconda3\\envs\\TORCH_CV_38\\lib\\site-packages\\PIL\\Image.py:1056: UserWarning: Palette images with Transparency expressed in bytes should be converted to RGBA images\n",
      "  warnings.warn(\n"
     ]
    },
    {
     "name": "stdout",
     "output_type": "stream",
     "text": [
      "EPOCH [68/100]\n",
      "[TRAIN] Loss: 0.693148398210132, Score: 0.6675567423230975\n"
     ]
    },
    {
     "name": "stderr",
     "output_type": "stream",
     "text": [
      "c:\\Users\\desktop\\anaconda3\\envs\\TORCH_CV_38\\lib\\site-packages\\PIL\\Image.py:1056: UserWarning: Palette images with Transparency expressed in bytes should be converted to RGBA images\n",
      "  warnings.warn(\n"
     ]
    },
    {
     "name": "stdout",
     "output_type": "stream",
     "text": [
      "EPOCH [69/100]\n",
      "[TRAIN] Loss: 0.6931522091229757, Score: 0.6675567423230975\n"
     ]
    },
    {
     "name": "stderr",
     "output_type": "stream",
     "text": [
      "c:\\Users\\desktop\\anaconda3\\envs\\TORCH_CV_38\\lib\\site-packages\\PIL\\Image.py:1056: UserWarning: Palette images with Transparency expressed in bytes should be converted to RGBA images\n",
      "  warnings.warn(\n"
     ]
    },
    {
     "name": "stdout",
     "output_type": "stream",
     "text": [
      "EPOCH [70/100]\n",
      "[TRAIN] Loss: 0.6931525175533597, Score: 0.6675567423230975\n"
     ]
    },
    {
     "name": "stderr",
     "output_type": "stream",
     "text": [
      "c:\\Users\\desktop\\anaconda3\\envs\\TORCH_CV_38\\lib\\site-packages\\PIL\\Image.py:1056: UserWarning: Palette images with Transparency expressed in bytes should be converted to RGBA images\n",
      "  warnings.warn(\n"
     ]
    },
    {
     "name": "stdout",
     "output_type": "stream",
     "text": [
      "EPOCH [71/100]\n",
      "[TRAIN] Loss: 0.6931489914182632, Score: 0.6675567423230975\n"
     ]
    },
    {
     "name": "stderr",
     "output_type": "stream",
     "text": [
      "c:\\Users\\desktop\\anaconda3\\envs\\TORCH_CV_38\\lib\\site-packages\\PIL\\Image.py:1056: UserWarning: Palette images with Transparency expressed in bytes should be converted to RGBA images\n",
      "  warnings.warn(\n"
     ]
    },
    {
     "name": "stdout",
     "output_type": "stream",
     "text": [
      "EPOCH [72/100]\n",
      "[TRAIN] Loss: 0.6931873503185454, Score: 0.6675567423230975\n"
     ]
    },
    {
     "name": "stderr",
     "output_type": "stream",
     "text": [
      "c:\\Users\\desktop\\anaconda3\\envs\\TORCH_CV_38\\lib\\site-packages\\PIL\\Image.py:1056: UserWarning: Palette images with Transparency expressed in bytes should be converted to RGBA images\n",
      "  warnings.warn(\n"
     ]
    },
    {
     "name": "stdout",
     "output_type": "stream",
     "text": [
      "EPOCH [73/100]\n",
      "[TRAIN] Loss: 0.6931952039400736, Score: 0.6675567423230975\n"
     ]
    },
    {
     "name": "stderr",
     "output_type": "stream",
     "text": [
      "c:\\Users\\desktop\\anaconda3\\envs\\TORCH_CV_38\\lib\\site-packages\\PIL\\Image.py:1056: UserWarning: Palette images with Transparency expressed in bytes should be converted to RGBA images\n",
      "  warnings.warn(\n"
     ]
    },
    {
     "name": "stdout",
     "output_type": "stream",
     "text": [
      "EPOCH [74/100]\n",
      "[TRAIN] Loss: 0.6931819613017733, Score: 0.6675567423230975\n"
     ]
    },
    {
     "name": "stderr",
     "output_type": "stream",
     "text": [
      "c:\\Users\\desktop\\anaconda3\\envs\\TORCH_CV_38\\lib\\site-packages\\PIL\\Image.py:1056: UserWarning: Palette images with Transparency expressed in bytes should be converted to RGBA images\n",
      "  warnings.warn(\n"
     ]
    },
    {
     "name": "stdout",
     "output_type": "stream",
     "text": [
      "EPOCH [75/100]\n",
      "[TRAIN] Loss: 0.6931914138415504, Score: 0.6675567423230975\n"
     ]
    },
    {
     "name": "stderr",
     "output_type": "stream",
     "text": [
      "c:\\Users\\desktop\\anaconda3\\envs\\TORCH_CV_38\\lib\\site-packages\\PIL\\Image.py:1056: UserWarning: Palette images with Transparency expressed in bytes should be converted to RGBA images\n",
      "  warnings.warn(\n"
     ]
    },
    {
     "name": "stdout",
     "output_type": "stream",
     "text": [
      "EPOCH [76/100]\n",
      "[TRAIN] Loss: 0.6931663761063228, Score: 0.6675567423230975\n"
     ]
    },
    {
     "name": "stderr",
     "output_type": "stream",
     "text": [
      "c:\\Users\\desktop\\anaconda3\\envs\\TORCH_CV_38\\lib\\site-packages\\PIL\\Image.py:1056: UserWarning: Palette images with Transparency expressed in bytes should be converted to RGBA images\n",
      "  warnings.warn(\n"
     ]
    },
    {
     "name": "stdout",
     "output_type": "stream",
     "text": [
      "EPOCH [77/100]\n",
      "[TRAIN] Loss: 0.6932054237713889, Score: 0.6675567423230975\n"
     ]
    },
    {
     "name": "stderr",
     "output_type": "stream",
     "text": [
      "c:\\Users\\desktop\\anaconda3\\envs\\TORCH_CV_38\\lib\\site-packages\\PIL\\Image.py:1056: UserWarning: Palette images with Transparency expressed in bytes should be converted to RGBA images\n",
      "  warnings.warn(\n"
     ]
    },
    {
     "name": "stdout",
     "output_type": "stream",
     "text": [
      "EPOCH [78/100]\n",
      "[TRAIN] Loss: 0.6931700905164083, Score: 0.6675567423230975\n"
     ]
    },
    {
     "name": "stderr",
     "output_type": "stream",
     "text": [
      "c:\\Users\\desktop\\anaconda3\\envs\\TORCH_CV_38\\lib\\site-packages\\PIL\\Image.py:1056: UserWarning: Palette images with Transparency expressed in bytes should be converted to RGBA images\n",
      "  warnings.warn(\n"
     ]
    },
    {
     "name": "stdout",
     "output_type": "stream",
     "text": [
      "EPOCH [79/100]\n",
      "[TRAIN] Loss: 0.6931777955993773, Score: 0.5295748613678374\n"
     ]
    },
    {
     "name": "stderr",
     "output_type": "stream",
     "text": [
      "c:\\Users\\desktop\\anaconda3\\envs\\TORCH_CV_38\\lib\\site-packages\\PIL\\Image.py:1056: UserWarning: Palette images with Transparency expressed in bytes should be converted to RGBA images\n",
      "  warnings.warn(\n"
     ]
    },
    {
     "name": "stdout",
     "output_type": "stream",
     "text": [
      "EPOCH [80/100]\n",
      "[TRAIN] Loss: 0.69317774072526, Score: 0.6675567423230975\n"
     ]
    },
    {
     "name": "stderr",
     "output_type": "stream",
     "text": [
      "c:\\Users\\desktop\\anaconda3\\envs\\TORCH_CV_38\\lib\\site-packages\\PIL\\Image.py:1056: UserWarning: Palette images with Transparency expressed in bytes should be converted to RGBA images\n",
      "  warnings.warn(\n"
     ]
    },
    {
     "name": "stdout",
     "output_type": "stream",
     "text": [
      "EPOCH [81/100]\n",
      "[TRAIN] Loss: 0.6931897259893871, Score: 0.6675567423230975\n"
     ]
    },
    {
     "name": "stderr",
     "output_type": "stream",
     "text": [
      "c:\\Users\\desktop\\anaconda3\\envs\\TORCH_CV_38\\lib\\site-packages\\PIL\\Image.py:1056: UserWarning: Palette images with Transparency expressed in bytes should be converted to RGBA images\n",
      "  warnings.warn(\n"
     ]
    },
    {
     "name": "stdout",
     "output_type": "stream",
     "text": [
      "EPOCH [82/100]\n",
      "[TRAIN] Loss: 0.6931733271432301, Score: 0.4560085836909871\n"
     ]
    },
    {
     "name": "stderr",
     "output_type": "stream",
     "text": [
      "c:\\Users\\desktop\\anaconda3\\envs\\TORCH_CV_38\\lib\\site-packages\\PIL\\Image.py:1056: UserWarning: Palette images with Transparency expressed in bytes should be converted to RGBA images\n",
      "  warnings.warn(\n"
     ]
    },
    {
     "name": "stdout",
     "output_type": "stream",
     "text": [
      "EPOCH [83/100]\n",
      "[TRAIN] Loss: 0.69323192986231, Score: 0.6534788540245566\n"
     ]
    },
    {
     "name": "stderr",
     "output_type": "stream",
     "text": [
      "c:\\Users\\desktop\\anaconda3\\envs\\TORCH_CV_38\\lib\\site-packages\\PIL\\Image.py:1056: UserWarning: Palette images with Transparency expressed in bytes should be converted to RGBA images\n",
      "  warnings.warn(\n"
     ]
    },
    {
     "name": "stdout",
     "output_type": "stream",
     "text": [
      "EPOCH [84/100]\n",
      "[TRAIN] Loss: 0.6931673647865416, Score: 0.4990421455938697\n"
     ]
    },
    {
     "name": "stderr",
     "output_type": "stream",
     "text": [
      "c:\\Users\\desktop\\anaconda3\\envs\\TORCH_CV_38\\lib\\site-packages\\PIL\\Image.py:1056: UserWarning: Palette images with Transparency expressed in bytes should be converted to RGBA images\n",
      "  warnings.warn(\n"
     ]
    },
    {
     "name": "stdout",
     "output_type": "stream",
     "text": [
      "EPOCH [85/100]\n",
      "[TRAIN] Loss: 0.6931741568777297, Score: 0.5678391959798995\n"
     ]
    },
    {
     "name": "stderr",
     "output_type": "stream",
     "text": [
      "c:\\Users\\desktop\\anaconda3\\envs\\TORCH_CV_38\\lib\\site-packages\\PIL\\Image.py:1056: UserWarning: Palette images with Transparency expressed in bytes should be converted to RGBA images\n",
      "  warnings.warn(\n"
     ]
    },
    {
     "name": "stdout",
     "output_type": "stream",
     "text": [
      "EPOCH [86/100]\n",
      "[TRAIN] Loss: 0.6932157703808376, Score: 0.5258780036968576\n"
     ]
    },
    {
     "name": "stderr",
     "output_type": "stream",
     "text": [
      "c:\\Users\\desktop\\anaconda3\\envs\\TORCH_CV_38\\lib\\site-packages\\PIL\\Image.py:1056: UserWarning: Palette images with Transparency expressed in bytes should be converted to RGBA images\n",
      "  warnings.warn(\n"
     ]
    },
    {
     "name": "stdout",
     "output_type": "stream",
     "text": [
      "EPOCH [87/100]\n",
      "[TRAIN] Loss: 0.6931865650510031, Score: 0.5517543859649122\n"
     ]
    },
    {
     "name": "stderr",
     "output_type": "stream",
     "text": [
      "c:\\Users\\desktop\\anaconda3\\envs\\TORCH_CV_38\\lib\\site-packages\\PIL\\Image.py:1056: UserWarning: Palette images with Transparency expressed in bytes should be converted to RGBA images\n",
      "  warnings.warn(\n"
     ]
    },
    {
     "name": "stdout",
     "output_type": "stream",
     "text": [
      "EPOCH [88/100]\n",
      "[TRAIN] Loss: 0.6931858119510469, Score: 0.6675567423230975\n"
     ]
    },
    {
     "name": "stderr",
     "output_type": "stream",
     "text": [
      "c:\\Users\\desktop\\anaconda3\\envs\\TORCH_CV_38\\lib\\site-packages\\PIL\\Image.py:1056: UserWarning: Palette images with Transparency expressed in bytes should be converted to RGBA images\n",
      "  warnings.warn(\n"
     ]
    },
    {
     "name": "stdout",
     "output_type": "stream",
     "text": [
      "EPOCH [89/100]\n",
      "[TRAIN] Loss: 0.6931749374147446, Score: 0.6370851370851371\n"
     ]
    },
    {
     "ename": "KeyboardInterrupt",
     "evalue": "",
     "output_type": "error",
     "traceback": [
      "\u001b[1;31m---------------------------------------------------------------------------\u001b[0m",
      "\u001b[1;31mKeyboardInterrupt\u001b[0m                         Traceback (most recent call last)",
      "Cell \u001b[1;32mIn[135], line 15\u001b[0m\n\u001b[0;32m     12\u001b[0m \u001b[38;5;28;01mfor\u001b[39;00m features,targets \u001b[38;5;129;01min\u001b[39;00m train_dl:\n\u001b[0;32m     13\u001b[0m     optimizer\u001b[38;5;241m.\u001b[39mzero_grad()\n\u001b[1;32m---> 15\u001b[0m     outputs\u001b[38;5;241m=\u001b[39m\u001b[43mmodel\u001b[49m\u001b[43m(\u001b[49m\u001b[43mfeatures\u001b[49m\u001b[38;5;241;43m.\u001b[39;49m\u001b[43mfloat\u001b[49m\u001b[43m(\u001b[49m\u001b[43m)\u001b[49m\u001b[43m)\u001b[49m\n\u001b[0;32m     16\u001b[0m     predicted\u001b[38;5;241m=\u001b[39mtorch\u001b[38;5;241m.\u001b[39mround(torch\u001b[38;5;241m.\u001b[39msigmoid(outputs))\n\u001b[0;32m     17\u001b[0m     loss\u001b[38;5;241m=\u001b[39mcriterion(outputs,targets\u001b[38;5;241m.\u001b[39mfloat()\u001b[38;5;241m.\u001b[39mview(\u001b[38;5;241m-\u001b[39m\u001b[38;5;241m1\u001b[39m,\u001b[38;5;241m1\u001b[39m))\n",
      "File \u001b[1;32mc:\\Users\\desktop\\anaconda3\\envs\\TORCH_CV_38\\lib\\site-packages\\torch\\nn\\modules\\module.py:1553\u001b[0m, in \u001b[0;36mModule._wrapped_call_impl\u001b[1;34m(self, *args, **kwargs)\u001b[0m\n\u001b[0;32m   1551\u001b[0m     \u001b[38;5;28;01mreturn\u001b[39;00m \u001b[38;5;28mself\u001b[39m\u001b[38;5;241m.\u001b[39m_compiled_call_impl(\u001b[38;5;241m*\u001b[39margs, \u001b[38;5;241m*\u001b[39m\u001b[38;5;241m*\u001b[39mkwargs)  \u001b[38;5;66;03m# type: ignore[misc]\u001b[39;00m\n\u001b[0;32m   1552\u001b[0m \u001b[38;5;28;01melse\u001b[39;00m:\n\u001b[1;32m-> 1553\u001b[0m     \u001b[38;5;28;01mreturn\u001b[39;00m \u001b[38;5;28;43mself\u001b[39;49m\u001b[38;5;241;43m.\u001b[39;49m\u001b[43m_call_impl\u001b[49m\u001b[43m(\u001b[49m\u001b[38;5;241;43m*\u001b[39;49m\u001b[43margs\u001b[49m\u001b[43m,\u001b[49m\u001b[43m \u001b[49m\u001b[38;5;241;43m*\u001b[39;49m\u001b[38;5;241;43m*\u001b[39;49m\u001b[43mkwargs\u001b[49m\u001b[43m)\u001b[49m\n",
      "File \u001b[1;32mc:\\Users\\desktop\\anaconda3\\envs\\TORCH_CV_38\\lib\\site-packages\\torch\\nn\\modules\\module.py:1562\u001b[0m, in \u001b[0;36mModule._call_impl\u001b[1;34m(self, *args, **kwargs)\u001b[0m\n\u001b[0;32m   1557\u001b[0m \u001b[38;5;66;03m# If we don't have any hooks, we want to skip the rest of the logic in\u001b[39;00m\n\u001b[0;32m   1558\u001b[0m \u001b[38;5;66;03m# this function, and just call forward.\u001b[39;00m\n\u001b[0;32m   1559\u001b[0m \u001b[38;5;28;01mif\u001b[39;00m \u001b[38;5;129;01mnot\u001b[39;00m (\u001b[38;5;28mself\u001b[39m\u001b[38;5;241m.\u001b[39m_backward_hooks \u001b[38;5;129;01mor\u001b[39;00m \u001b[38;5;28mself\u001b[39m\u001b[38;5;241m.\u001b[39m_backward_pre_hooks \u001b[38;5;129;01mor\u001b[39;00m \u001b[38;5;28mself\u001b[39m\u001b[38;5;241m.\u001b[39m_forward_hooks \u001b[38;5;129;01mor\u001b[39;00m \u001b[38;5;28mself\u001b[39m\u001b[38;5;241m.\u001b[39m_forward_pre_hooks\n\u001b[0;32m   1560\u001b[0m         \u001b[38;5;129;01mor\u001b[39;00m _global_backward_pre_hooks \u001b[38;5;129;01mor\u001b[39;00m _global_backward_hooks\n\u001b[0;32m   1561\u001b[0m         \u001b[38;5;129;01mor\u001b[39;00m _global_forward_hooks \u001b[38;5;129;01mor\u001b[39;00m _global_forward_pre_hooks):\n\u001b[1;32m-> 1562\u001b[0m     \u001b[38;5;28;01mreturn\u001b[39;00m \u001b[43mforward_call\u001b[49m\u001b[43m(\u001b[49m\u001b[38;5;241;43m*\u001b[39;49m\u001b[43margs\u001b[49m\u001b[43m,\u001b[49m\u001b[43m \u001b[49m\u001b[38;5;241;43m*\u001b[39;49m\u001b[38;5;241;43m*\u001b[39;49m\u001b[43mkwargs\u001b[49m\u001b[43m)\u001b[49m\n\u001b[0;32m   1564\u001b[0m \u001b[38;5;28;01mtry\u001b[39;00m:\n\u001b[0;32m   1565\u001b[0m     result \u001b[38;5;241m=\u001b[39m \u001b[38;5;28;01mNone\u001b[39;00m\n",
      "Cell \u001b[1;32mIn[128], line 19\u001b[0m, in \u001b[0;36mVGG16WithFC.forward\u001b[1;34m(self, x)\u001b[0m\n\u001b[0;32m     18\u001b[0m \u001b[38;5;28;01mdef\u001b[39;00m \u001b[38;5;21mforward\u001b[39m(\u001b[38;5;28mself\u001b[39m, x):\n\u001b[1;32m---> 19\u001b[0m     x \u001b[38;5;241m=\u001b[39m \u001b[38;5;28;43mself\u001b[39;49m\u001b[38;5;241;43m.\u001b[39;49m\u001b[43mfeatures\u001b[49m\u001b[43m(\u001b[49m\u001b[43mx\u001b[49m\u001b[43m)\u001b[49m \n\u001b[0;32m     20\u001b[0m     x \u001b[38;5;241m=\u001b[39m \u001b[38;5;28mself\u001b[39m\u001b[38;5;241m.\u001b[39mavgpool(x)\n\u001b[0;32m     21\u001b[0m     x \u001b[38;5;241m=\u001b[39m torch\u001b[38;5;241m.\u001b[39mflatten(x, \u001b[38;5;241m1\u001b[39m)\n",
      "File \u001b[1;32mc:\\Users\\desktop\\anaconda3\\envs\\TORCH_CV_38\\lib\\site-packages\\torch\\nn\\modules\\module.py:1553\u001b[0m, in \u001b[0;36mModule._wrapped_call_impl\u001b[1;34m(self, *args, **kwargs)\u001b[0m\n\u001b[0;32m   1551\u001b[0m     \u001b[38;5;28;01mreturn\u001b[39;00m \u001b[38;5;28mself\u001b[39m\u001b[38;5;241m.\u001b[39m_compiled_call_impl(\u001b[38;5;241m*\u001b[39margs, \u001b[38;5;241m*\u001b[39m\u001b[38;5;241m*\u001b[39mkwargs)  \u001b[38;5;66;03m# type: ignore[misc]\u001b[39;00m\n\u001b[0;32m   1552\u001b[0m \u001b[38;5;28;01melse\u001b[39;00m:\n\u001b[1;32m-> 1553\u001b[0m     \u001b[38;5;28;01mreturn\u001b[39;00m \u001b[38;5;28;43mself\u001b[39;49m\u001b[38;5;241;43m.\u001b[39;49m\u001b[43m_call_impl\u001b[49m\u001b[43m(\u001b[49m\u001b[38;5;241;43m*\u001b[39;49m\u001b[43margs\u001b[49m\u001b[43m,\u001b[49m\u001b[43m \u001b[49m\u001b[38;5;241;43m*\u001b[39;49m\u001b[38;5;241;43m*\u001b[39;49m\u001b[43mkwargs\u001b[49m\u001b[43m)\u001b[49m\n",
      "File \u001b[1;32mc:\\Users\\desktop\\anaconda3\\envs\\TORCH_CV_38\\lib\\site-packages\\torch\\nn\\modules\\module.py:1562\u001b[0m, in \u001b[0;36mModule._call_impl\u001b[1;34m(self, *args, **kwargs)\u001b[0m\n\u001b[0;32m   1557\u001b[0m \u001b[38;5;66;03m# If we don't have any hooks, we want to skip the rest of the logic in\u001b[39;00m\n\u001b[0;32m   1558\u001b[0m \u001b[38;5;66;03m# this function, and just call forward.\u001b[39;00m\n\u001b[0;32m   1559\u001b[0m \u001b[38;5;28;01mif\u001b[39;00m \u001b[38;5;129;01mnot\u001b[39;00m (\u001b[38;5;28mself\u001b[39m\u001b[38;5;241m.\u001b[39m_backward_hooks \u001b[38;5;129;01mor\u001b[39;00m \u001b[38;5;28mself\u001b[39m\u001b[38;5;241m.\u001b[39m_backward_pre_hooks \u001b[38;5;129;01mor\u001b[39;00m \u001b[38;5;28mself\u001b[39m\u001b[38;5;241m.\u001b[39m_forward_hooks \u001b[38;5;129;01mor\u001b[39;00m \u001b[38;5;28mself\u001b[39m\u001b[38;5;241m.\u001b[39m_forward_pre_hooks\n\u001b[0;32m   1560\u001b[0m         \u001b[38;5;129;01mor\u001b[39;00m _global_backward_pre_hooks \u001b[38;5;129;01mor\u001b[39;00m _global_backward_hooks\n\u001b[0;32m   1561\u001b[0m         \u001b[38;5;129;01mor\u001b[39;00m _global_forward_hooks \u001b[38;5;129;01mor\u001b[39;00m _global_forward_pre_hooks):\n\u001b[1;32m-> 1562\u001b[0m     \u001b[38;5;28;01mreturn\u001b[39;00m \u001b[43mforward_call\u001b[49m\u001b[43m(\u001b[49m\u001b[38;5;241;43m*\u001b[39;49m\u001b[43margs\u001b[49m\u001b[43m,\u001b[49m\u001b[43m \u001b[49m\u001b[38;5;241;43m*\u001b[39;49m\u001b[38;5;241;43m*\u001b[39;49m\u001b[43mkwargs\u001b[49m\u001b[43m)\u001b[49m\n\u001b[0;32m   1564\u001b[0m \u001b[38;5;28;01mtry\u001b[39;00m:\n\u001b[0;32m   1565\u001b[0m     result \u001b[38;5;241m=\u001b[39m \u001b[38;5;28;01mNone\u001b[39;00m\n",
      "File \u001b[1;32mc:\\Users\\desktop\\anaconda3\\envs\\TORCH_CV_38\\lib\\site-packages\\torch\\nn\\modules\\container.py:219\u001b[0m, in \u001b[0;36mSequential.forward\u001b[1;34m(self, input)\u001b[0m\n\u001b[0;32m    217\u001b[0m \u001b[38;5;28;01mdef\u001b[39;00m \u001b[38;5;21mforward\u001b[39m(\u001b[38;5;28mself\u001b[39m, \u001b[38;5;28minput\u001b[39m):\n\u001b[0;32m    218\u001b[0m     \u001b[38;5;28;01mfor\u001b[39;00m module \u001b[38;5;129;01min\u001b[39;00m \u001b[38;5;28mself\u001b[39m:\n\u001b[1;32m--> 219\u001b[0m         \u001b[38;5;28minput\u001b[39m \u001b[38;5;241m=\u001b[39m \u001b[43mmodule\u001b[49m\u001b[43m(\u001b[49m\u001b[38;5;28;43minput\u001b[39;49m\u001b[43m)\u001b[49m\n\u001b[0;32m    220\u001b[0m     \u001b[38;5;28;01mreturn\u001b[39;00m \u001b[38;5;28minput\u001b[39m\n",
      "File \u001b[1;32mc:\\Users\\desktop\\anaconda3\\envs\\TORCH_CV_38\\lib\\site-packages\\torch\\nn\\modules\\module.py:1553\u001b[0m, in \u001b[0;36mModule._wrapped_call_impl\u001b[1;34m(self, *args, **kwargs)\u001b[0m\n\u001b[0;32m   1551\u001b[0m     \u001b[38;5;28;01mreturn\u001b[39;00m \u001b[38;5;28mself\u001b[39m\u001b[38;5;241m.\u001b[39m_compiled_call_impl(\u001b[38;5;241m*\u001b[39margs, \u001b[38;5;241m*\u001b[39m\u001b[38;5;241m*\u001b[39mkwargs)  \u001b[38;5;66;03m# type: ignore[misc]\u001b[39;00m\n\u001b[0;32m   1552\u001b[0m \u001b[38;5;28;01melse\u001b[39;00m:\n\u001b[1;32m-> 1553\u001b[0m     \u001b[38;5;28;01mreturn\u001b[39;00m \u001b[38;5;28;43mself\u001b[39;49m\u001b[38;5;241;43m.\u001b[39;49m\u001b[43m_call_impl\u001b[49m\u001b[43m(\u001b[49m\u001b[38;5;241;43m*\u001b[39;49m\u001b[43margs\u001b[49m\u001b[43m,\u001b[49m\u001b[43m \u001b[49m\u001b[38;5;241;43m*\u001b[39;49m\u001b[38;5;241;43m*\u001b[39;49m\u001b[43mkwargs\u001b[49m\u001b[43m)\u001b[49m\n",
      "File \u001b[1;32mc:\\Users\\desktop\\anaconda3\\envs\\TORCH_CV_38\\lib\\site-packages\\torch\\nn\\modules\\module.py:1562\u001b[0m, in \u001b[0;36mModule._call_impl\u001b[1;34m(self, *args, **kwargs)\u001b[0m\n\u001b[0;32m   1557\u001b[0m \u001b[38;5;66;03m# If we don't have any hooks, we want to skip the rest of the logic in\u001b[39;00m\n\u001b[0;32m   1558\u001b[0m \u001b[38;5;66;03m# this function, and just call forward.\u001b[39;00m\n\u001b[0;32m   1559\u001b[0m \u001b[38;5;28;01mif\u001b[39;00m \u001b[38;5;129;01mnot\u001b[39;00m (\u001b[38;5;28mself\u001b[39m\u001b[38;5;241m.\u001b[39m_backward_hooks \u001b[38;5;129;01mor\u001b[39;00m \u001b[38;5;28mself\u001b[39m\u001b[38;5;241m.\u001b[39m_backward_pre_hooks \u001b[38;5;129;01mor\u001b[39;00m \u001b[38;5;28mself\u001b[39m\u001b[38;5;241m.\u001b[39m_forward_hooks \u001b[38;5;129;01mor\u001b[39;00m \u001b[38;5;28mself\u001b[39m\u001b[38;5;241m.\u001b[39m_forward_pre_hooks\n\u001b[0;32m   1560\u001b[0m         \u001b[38;5;129;01mor\u001b[39;00m _global_backward_pre_hooks \u001b[38;5;129;01mor\u001b[39;00m _global_backward_hooks\n\u001b[0;32m   1561\u001b[0m         \u001b[38;5;129;01mor\u001b[39;00m _global_forward_hooks \u001b[38;5;129;01mor\u001b[39;00m _global_forward_pre_hooks):\n\u001b[1;32m-> 1562\u001b[0m     \u001b[38;5;28;01mreturn\u001b[39;00m \u001b[43mforward_call\u001b[49m\u001b[43m(\u001b[49m\u001b[38;5;241;43m*\u001b[39;49m\u001b[43margs\u001b[49m\u001b[43m,\u001b[49m\u001b[43m \u001b[49m\u001b[38;5;241;43m*\u001b[39;49m\u001b[38;5;241;43m*\u001b[39;49m\u001b[43mkwargs\u001b[49m\u001b[43m)\u001b[49m\n\u001b[0;32m   1564\u001b[0m \u001b[38;5;28;01mtry\u001b[39;00m:\n\u001b[0;32m   1565\u001b[0m     result \u001b[38;5;241m=\u001b[39m \u001b[38;5;28;01mNone\u001b[39;00m\n",
      "File \u001b[1;32mc:\\Users\\desktop\\anaconda3\\envs\\TORCH_CV_38\\lib\\site-packages\\torch\\nn\\modules\\conv.py:458\u001b[0m, in \u001b[0;36mConv2d.forward\u001b[1;34m(self, input)\u001b[0m\n\u001b[0;32m    457\u001b[0m \u001b[38;5;28;01mdef\u001b[39;00m \u001b[38;5;21mforward\u001b[39m(\u001b[38;5;28mself\u001b[39m, \u001b[38;5;28minput\u001b[39m: Tensor) \u001b[38;5;241m-\u001b[39m\u001b[38;5;241m>\u001b[39m Tensor:\n\u001b[1;32m--> 458\u001b[0m     \u001b[38;5;28;01mreturn\u001b[39;00m \u001b[38;5;28;43mself\u001b[39;49m\u001b[38;5;241;43m.\u001b[39;49m\u001b[43m_conv_forward\u001b[49m\u001b[43m(\u001b[49m\u001b[38;5;28;43minput\u001b[39;49m\u001b[43m,\u001b[49m\u001b[43m \u001b[49m\u001b[38;5;28;43mself\u001b[39;49m\u001b[38;5;241;43m.\u001b[39;49m\u001b[43mweight\u001b[49m\u001b[43m,\u001b[49m\u001b[43m \u001b[49m\u001b[38;5;28;43mself\u001b[39;49m\u001b[38;5;241;43m.\u001b[39;49m\u001b[43mbias\u001b[49m\u001b[43m)\u001b[49m\n",
      "File \u001b[1;32mc:\\Users\\desktop\\anaconda3\\envs\\TORCH_CV_38\\lib\\site-packages\\torch\\nn\\modules\\conv.py:454\u001b[0m, in \u001b[0;36mConv2d._conv_forward\u001b[1;34m(self, input, weight, bias)\u001b[0m\n\u001b[0;32m    450\u001b[0m \u001b[38;5;28;01mif\u001b[39;00m \u001b[38;5;28mself\u001b[39m\u001b[38;5;241m.\u001b[39mpadding_mode \u001b[38;5;241m!=\u001b[39m \u001b[38;5;124m'\u001b[39m\u001b[38;5;124mzeros\u001b[39m\u001b[38;5;124m'\u001b[39m:\n\u001b[0;32m    451\u001b[0m     \u001b[38;5;28;01mreturn\u001b[39;00m F\u001b[38;5;241m.\u001b[39mconv2d(F\u001b[38;5;241m.\u001b[39mpad(\u001b[38;5;28minput\u001b[39m, \u001b[38;5;28mself\u001b[39m\u001b[38;5;241m.\u001b[39m_reversed_padding_repeated_twice, mode\u001b[38;5;241m=\u001b[39m\u001b[38;5;28mself\u001b[39m\u001b[38;5;241m.\u001b[39mpadding_mode),\n\u001b[0;32m    452\u001b[0m                     weight, bias, \u001b[38;5;28mself\u001b[39m\u001b[38;5;241m.\u001b[39mstride,\n\u001b[0;32m    453\u001b[0m                     _pair(\u001b[38;5;241m0\u001b[39m), \u001b[38;5;28mself\u001b[39m\u001b[38;5;241m.\u001b[39mdilation, \u001b[38;5;28mself\u001b[39m\u001b[38;5;241m.\u001b[39mgroups)\n\u001b[1;32m--> 454\u001b[0m \u001b[38;5;28;01mreturn\u001b[39;00m \u001b[43mF\u001b[49m\u001b[38;5;241;43m.\u001b[39;49m\u001b[43mconv2d\u001b[49m\u001b[43m(\u001b[49m\u001b[38;5;28;43minput\u001b[39;49m\u001b[43m,\u001b[49m\u001b[43m \u001b[49m\u001b[43mweight\u001b[49m\u001b[43m,\u001b[49m\u001b[43m \u001b[49m\u001b[43mbias\u001b[49m\u001b[43m,\u001b[49m\u001b[43m \u001b[49m\u001b[38;5;28;43mself\u001b[39;49m\u001b[38;5;241;43m.\u001b[39;49m\u001b[43mstride\u001b[49m\u001b[43m,\u001b[49m\n\u001b[0;32m    455\u001b[0m \u001b[43m                \u001b[49m\u001b[38;5;28;43mself\u001b[39;49m\u001b[38;5;241;43m.\u001b[39;49m\u001b[43mpadding\u001b[49m\u001b[43m,\u001b[49m\u001b[43m \u001b[49m\u001b[38;5;28;43mself\u001b[39;49m\u001b[38;5;241;43m.\u001b[39;49m\u001b[43mdilation\u001b[49m\u001b[43m,\u001b[49m\u001b[43m \u001b[49m\u001b[38;5;28;43mself\u001b[39;49m\u001b[38;5;241;43m.\u001b[39;49m\u001b[43mgroups\u001b[49m\u001b[43m)\u001b[49m\n",
      "\u001b[1;31mKeyboardInterrupt\u001b[0m: "
     ]
    }
   ],
   "source": [
    "epochs=100\n",
    "loss_history=[]\n",
    "score_history=[]\n",
    "\n",
    "for epoch in range(epochs):\n",
    "    model.train()\n",
    "    \n",
    "    epoch_loss=0\n",
    "    train_pred=[]\n",
    "    train_true=[]\n",
    "\n",
    "    for features,targets in train_dl:\n",
    "\n",
    "        features=features.to(DEVICE)\n",
    "        targets=targets.to(DEVICE)\n",
    "\n",
    "        optimizer.zero_grad()\n",
    "\n",
    "        outputs=model(features.float())\n",
    "        predicted=torch.round(torch.sigmoid(outputs))\n",
    "        loss=criterion(outputs,targets.float().view(-1,1)).to(DEVICE)\n",
    "\n",
    "        loss.backward()\n",
    "        optimizer.step()\n",
    "\n",
    "        epoch_loss+=loss.item()\n",
    "        \n",
    "        train_pred.extend(predicted.detach().cpu().numpy())\n",
    "        train_true.extend(targets.detach().cpu().numpy())\n",
    "\n",
    "    train_f1=f1_score(train_true,train_pred)\n",
    "    avg_loss_train=epoch_loss/len(train_dl)\n",
    "\n",
    "    print(f'EPOCH [{epoch+1}/{epochs}]')\n",
    "    print(f'[TRAIN] Loss: {avg_loss_train}, Score: {train_f1}')\n",
    "\n",
    "    loss_history.append(avg_loss_train)\n",
    "    score_history.append(train_f1)\n",
    "\n",
    "    #최적화 스케줄러\n",
    "    scheduler.step(loss)\n",
    "    print()\n",
    "    print(f'scheduler.num_bad_epochs: {scheduler.num_bad_epochs}',end=' ')\n",
    "    print(f'scheduler.patience: {scheduler.patience}')\n",
    "    print()\n",
    "\n",
    "    if len(score_history) == 1:\n",
    "\n",
    "        # 첫번째라서 무조건 모델 파라미터 저장\n",
    "        torch.save(model.state_dict(),SAVE_PATH+SAVE_FILE)\n",
    "\n",
    "        # 모델 전체 저장\n",
    "        torch.save(model,SAVE_PATH+SAVE_MODEL)\n",
    "\n",
    "    else:\n",
    "        if score_history[-1] >= max(score_history):\n",
    "            torch.save(model.state_dict(),SAVE_PATH+SAVE_FILE)\n",
    "            # 모델 전체 저장\n",
    "            torch.save(model,SAVE_PATH+SAVE_MODEL)\n",
    "\n",
    "    #손실 감소(성능 개선) 안 되는 경우 조기 종료\n",
    "    if scheduler.num_bad_epochs >= scheduler.patience:\n",
    "        print()\n",
    "        print(f'{scheduler.patience} EPOCH 성능 개선 없어서 조기 종료')\n",
    "        break\n",
    "\n",
    "#테스트\n",
    "model.eval()\n",
    "y_pred = []\n",
    "y_true = []\n",
    "\n",
    "with torch.no_grad():\n",
    "    for features, targets in test_dl:\n",
    "\n",
    "        features=features.to(DEVICE)\n",
    "        targets=targets.to(DEVICE)\n",
    "\n",
    "        outputs = model(features).view(-1)\n",
    "        predicted = torch.round(torch.sigmoid(outputs))\n",
    "        y_pred.extend(predicted.cpu().numpy())\n",
    "        y_true.extend(targets.cpu().numpy())\n",
    "\n",
    "# 성능 지표 계산\n",
    "accuracy = accuracy_score(y_true, y_pred).to(DEVICE)\n",
    "f1 = f1_score(y_true, y_pred).to(DEVICE)\n",
    "\n",
    "print(f'Accuracy: {accuracy:.4f}')\n",
    "print(f'F1 Score: {f1:.4f}')\n"
   ]
  },
  {
   "cell_type": "markdown",
   "metadata": {},
   "source": []
  },
  {
   "cell_type": "code",
   "execution_count": null,
   "metadata": {},
   "outputs": [],
   "source": []
  }
 ],
 "metadata": {
  "kernelspec": {
   "display_name": "TORCH_CV_38",
   "language": "python",
   "name": "python3"
  },
  "language_info": {
   "codemirror_mode": {
    "name": "ipython",
    "version": 3
   },
   "file_extension": ".py",
   "mimetype": "text/x-python",
   "name": "python",
   "nbconvert_exporter": "python",
   "pygments_lexer": "ipython3",
   "version": "3.8.19"
  }
 },
 "nbformat": 4,
 "nbformat_minor": 2
}
