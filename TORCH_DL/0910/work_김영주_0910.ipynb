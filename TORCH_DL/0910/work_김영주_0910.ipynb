{
 "cells": [
  {
   "cell_type": "markdown",
   "metadata": {},
   "source": [
    "[boston 데이터셋을 활용한 집값 예측]\n",
    "- 데이터셋: boston.csv\n",
    "- 구현 프레임워크: Pytorch"
   ]
  },
  {
   "cell_type": "markdown",
   "metadata": {},
   "source": [
    "[1] 모듈 로딩 및 데이터 준비    "
   ]
  },
  {
   "cell_type": "code",
   "execution_count": 327,
   "metadata": {},
   "outputs": [],
   "source": [
    "#모듈 로딩\n",
    "import torch\n",
    "import torch.nn as nn\n",
    "import torch.nn.functional as F\n",
    "import torch.optim as optimizer\n",
    "import pandas as pd\n",
    "from sklearn.model_selection import train_test_split\n",
    "import matplotlib.pyplot as plt"
   ]
  },
  {
   "cell_type": "code",
   "execution_count": 328,
   "metadata": {},
   "outputs": [
    {
     "data": {
      "text/html": [
       "<div>\n",
       "<style scoped>\n",
       "    .dataframe tbody tr th:only-of-type {\n",
       "        vertical-align: middle;\n",
       "    }\n",
       "\n",
       "    .dataframe tbody tr th {\n",
       "        vertical-align: top;\n",
       "    }\n",
       "\n",
       "    .dataframe thead th {\n",
       "        text-align: right;\n",
       "    }\n",
       "</style>\n",
       "<table border=\"1\" class=\"dataframe\">\n",
       "  <thead>\n",
       "    <tr style=\"text-align: right;\">\n",
       "      <th></th>\n",
       "      <th>CRIM</th>\n",
       "      <th>ZN</th>\n",
       "      <th>INDUS</th>\n",
       "      <th>CHAS</th>\n",
       "      <th>NOX</th>\n",
       "      <th>RM</th>\n",
       "      <th>AGE</th>\n",
       "      <th>DIS</th>\n",
       "      <th>RAD</th>\n",
       "      <th>TAX</th>\n",
       "      <th>PTRATIO</th>\n",
       "      <th>B</th>\n",
       "      <th>LSTAT</th>\n",
       "      <th>MEDV</th>\n",
       "    </tr>\n",
       "  </thead>\n",
       "  <tbody>\n",
       "    <tr>\n",
       "      <th>0</th>\n",
       "      <td>0.00632</td>\n",
       "      <td>18.0</td>\n",
       "      <td>2.31</td>\n",
       "      <td>0</td>\n",
       "      <td>0.538</td>\n",
       "      <td>6.575</td>\n",
       "      <td>65.2</td>\n",
       "      <td>4.0900</td>\n",
       "      <td>1</td>\n",
       "      <td>296.0</td>\n",
       "      <td>15.3</td>\n",
       "      <td>396.9</td>\n",
       "      <td>4.98</td>\n",
       "      <td>24.0</td>\n",
       "    </tr>\n",
       "    <tr>\n",
       "      <th>1</th>\n",
       "      <td>0.02731</td>\n",
       "      <td>0.0</td>\n",
       "      <td>7.07</td>\n",
       "      <td>0</td>\n",
       "      <td>0.469</td>\n",
       "      <td>6.421</td>\n",
       "      <td>78.9</td>\n",
       "      <td>4.9671</td>\n",
       "      <td>2</td>\n",
       "      <td>242.0</td>\n",
       "      <td>17.8</td>\n",
       "      <td>396.9</td>\n",
       "      <td>9.14</td>\n",
       "      <td>21.6</td>\n",
       "    </tr>\n",
       "  </tbody>\n",
       "</table>\n",
       "</div>"
      ],
      "text/plain": [
       "      CRIM    ZN  INDUS  CHAS    NOX     RM   AGE     DIS  RAD    TAX  \\\n",
       "0  0.00632  18.0   2.31     0  0.538  6.575  65.2  4.0900    1  296.0   \n",
       "1  0.02731   0.0   7.07     0  0.469  6.421  78.9  4.9671    2  242.0   \n",
       "\n",
       "   PTRATIO      B  LSTAT  MEDV  \n",
       "0     15.3  396.9   4.98  24.0  \n",
       "1     17.8  396.9   9.14  21.6  "
      ]
     },
     "execution_count": 328,
     "metadata": {},
     "output_type": "execute_result"
    }
   ],
   "source": [
    "#데이터 로딩\n",
    "data_file='../data/boston.csv'\n",
    "bostonDF=pd.read_csv(data_file)\n",
    "bostonDF.head(2)"
   ]
  },
  {
   "cell_type": "markdown",
   "metadata": {},
   "source": [
    "[2] 모델 준비\n",
    "- 학습 방법: 지도학습 중 회귀\n",
    "- 알고리즘: 선형모델(nn.Linear)"
   ]
  },
  {
   "cell_type": "code",
   "execution_count": 329,
   "metadata": {},
   "outputs": [],
   "source": [
    "model=nn.Linear(13,1)"
   ]
  },
  {
   "cell_type": "code",
   "execution_count": 330,
   "metadata": {},
   "outputs": [
    {
     "name": "stdout",
     "output_type": "stream",
     "text": [
      "[weight] Parameter containing:\n",
      "tensor([[ 0.2409, -0.0810,  0.1040,  0.0819,  0.1446,  0.1404,  0.1097,  0.1031,\n",
      "          0.2749, -0.2675,  0.0296, -0.1317, -0.1587]], requires_grad=True) \n",
      "\n",
      "[bias] Parameter containing:\n",
      "tensor([-0.1912], requires_grad=True) \n",
      "\n"
     ]
    }
   ],
   "source": [
    "for name,param in model.named_parameters():\n",
    "    print(f'[{name}] {param} \\n')"
   ]
  },
  {
   "cell_type": "markdown",
   "metadata": {},
   "source": [
    "[3] 최적화 인스턴스 준비"
   ]
  },
  {
   "cell_type": "code",
   "execution_count": 331,
   "metadata": {},
   "outputs": [],
   "source": [
    "adam_optim=optimizer.Adam(model.parameters(),lr=0.085)"
   ]
  },
  {
   "cell_type": "markdown",
   "metadata": {},
   "source": [
    "[4] 학습"
   ]
  },
  {
   "cell_type": "code",
   "execution_count": 332,
   "metadata": {},
   "outputs": [
    {
     "data": {
      "text/plain": [
       "torch.Size([506, 13])"
      ]
     },
     "execution_count": 332,
     "metadata": {},
     "output_type": "execute_result"
    }
   ],
   "source": [
    "featureTS=torch.from_numpy(bostonDF[bostonDF.columns[:-1]].values).float()\n",
    "featureTS.shape"
   ]
  },
  {
   "cell_type": "code",
   "execution_count": 333,
   "metadata": {},
   "outputs": [
    {
     "data": {
      "text/plain": [
       "torch.Size([506, 1])"
      ]
     },
     "execution_count": 333,
     "metadata": {},
     "output_type": "execute_result"
    }
   ],
   "source": [
    "targetTS=torch.from_numpy(bostonDF[['MEDV']].values).float()\n",
    "targetTS.shape"
   ]
  },
  {
   "cell_type": "code",
   "execution_count": 334,
   "metadata": {},
   "outputs": [
    {
     "name": "stdout",
     "output_type": "stream",
     "text": [
      "[FEATURE] TRAIN torch.Size([323, 13]), TEST torch.Size([102, 13]) VALIDATE torch.Size([81, 13])\n",
      "[TARGET] TRAIN torch.Size([323, 1]), TEST torch.Size([102, 1]) VALIDATE torch.Size([81, 1])\n"
     ]
    }
   ],
   "source": [
    "x_train,x_test,y_train,y_test=train_test_split(featureTS,targetTS,test_size=0.2)\n",
    "\n",
    "x_train,x_val,y_train,y_val=train_test_split(x_train,y_train,test_size=0.2)\n",
    "\n",
    "print(f'[FEATURE] TRAIN {x_train.shape}, TEST {x_test.shape} VALIDATE {x_val.shape}')\n",
    "print(f'[TARGET] TRAIN {y_train.shape}, TEST {y_test.shape} VALIDATE {y_val.shape}')"
   ]
  },
  {
   "cell_type": "code",
   "execution_count": 335,
   "metadata": {},
   "outputs": [],
   "source": [
    "EPOCH=50"
   ]
  },
  {
   "cell_type": "code",
   "execution_count": 336,
   "metadata": {},
   "outputs": [],
   "source": [
    "def testing(testTS,targetTS,kind='val'):\n",
    "    with torch.no_grad():\n",
    "        pre_y=model(testTS)\n",
    "\n",
    "        loss=F.mse_loss(pre_y,targetTS)\n",
    "\n",
    "        print('f[{kind}] LOSS: {loss}')\n",
    "\n",
    "    return loss"
   ]
  },
  {
   "cell_type": "code",
   "execution_count": 337,
   "metadata": {},
   "outputs": [],
   "source": [
    "def training(featureTS,targetTS,valTS,val_target_TS):\n",
    "    loss_history=[[],[]]\n",
    "\n",
    "    for epoch in range(EPOCH):\n",
    "        pre_y=model(featureTS)\n",
    "\n",
    "        loss=F.mse_loss(pre_y,targetTS)\n",
    "        loss_history[0].append(loss.item())\n",
    "\n",
    "        adam_optim.zero_grad()\n",
    "        loss.backward()\n",
    "        adam_optim.step()\n",
    "\n",
    "        val_loss=testing(valTS,val_target_TS)\n",
    "        loss_history[1].append(val_loss.item())\n",
    "\n",
    "        print(f'[{epoch}/{EPOCH}] LOSS: {loss}')\n",
    "\n",
    "    return loss_history"
   ]
  },
  {
   "cell_type": "code",
   "execution_count": 338,
   "metadata": {},
   "outputs": [
    {
     "name": "stdout",
     "output_type": "stream",
     "text": [
      "f[{kind}] LOSS: {loss}\n",
      "[0/50] LOSS: 29128.3125\n",
      "f[{kind}] LOSS: {loss}\n",
      "[1/50] LOSS: 8510.9765625\n",
      "f[{kind}] LOSS: {loss}\n",
      "[2/50] LOSS: 441.78338623046875\n",
      "f[{kind}] LOSS: {loss}\n",
      "[3/50] LOSS: 2118.304931640625\n",
      "f[{kind}] LOSS: {loss}\n",
      "[4/50] LOSS: 7098.3466796875\n",
      "f[{kind}] LOSS: {loss}\n",
      "[5/50] LOSS: 9576.982421875\n",
      "f[{kind}] LOSS: {loss}\n",
      "[6/50] LOSS: 8424.314453125\n",
      "f[{kind}] LOSS: {loss}\n",
      "[7/50] LOSS: 5276.8837890625\n",
      "f[{kind}] LOSS: {loss}\n",
      "[8/50] LOSS: 2128.05029296875\n",
      "f[{kind}] LOSS: {loss}\n",
      "[9/50] LOSS: 342.7642517089844\n",
      "f[{kind}] LOSS: {loss}\n",
      "[10/50] LOSS: 335.4668884277344\n",
      "f[{kind}] LOSS: {loss}\n",
      "[11/50] LOSS: 1586.2392578125\n",
      "f[{kind}] LOSS: {loss}\n",
      "[12/50] LOSS: 3045.219482421875\n",
      "f[{kind}] LOSS: {loss}\n",
      "[13/50] LOSS: 3792.318603515625\n",
      "f[{kind}] LOSS: {loss}\n",
      "[14/50] LOSS: 3501.109619140625\n",
      "f[{kind}] LOSS: {loss}\n",
      "[15/50] LOSS: 2444.802734375\n",
      "f[{kind}] LOSS: {loss}\n",
      "[16/50] LOSS: 1204.561767578125\n",
      "f[{kind}] LOSS: {loss}\n",
      "[17/50] LOSS: 335.16400146484375\n",
      "f[{kind}] LOSS: {loss}\n",
      "[18/50] LOSS: 124.23567962646484\n",
      "f[{kind}] LOSS: {loss}\n",
      "[19/50] LOSS: 501.79876708984375\n",
      "f[{kind}] LOSS: {loss}\n",
      "[20/50] LOSS: 1123.023681640625\n",
      "f[{kind}] LOSS: {loss}\n",
      "[21/50] LOSS: 1581.83984375\n",
      "f[{kind}] LOSS: {loss}\n",
      "[22/50] LOSS: 1630.4110107421875\n",
      "f[{kind}] LOSS: {loss}\n",
      "[23/50] LOSS: 1277.7431640625\n",
      "f[{kind}] LOSS: {loss}\n",
      "[24/50] LOSS: 736.6578979492188\n",
      "f[{kind}] LOSS: {loss}\n",
      "[25/50] LOSS: 280.9113464355469\n",
      "f[{kind}] LOSS: {loss}\n",
      "[26/50] LOSS: 99.08757781982422\n",
      "f[{kind}] LOSS: {loss}\n",
      "[27/50] LOSS: 211.9680938720703\n",
      "f[{kind}] LOSS: {loss}\n",
      "[28/50] LOSS: 484.9721984863281\n",
      "f[{kind}] LOSS: {loss}\n",
      "[29/50] LOSS: 721.4345703125\n",
      "f[{kind}] LOSS: {loss}\n",
      "[30/50] LOSS: 778.2998046875\n",
      "f[{kind}] LOSS: {loss}\n",
      "[31/50] LOSS: 635.6580200195312\n",
      "f[{kind}] LOSS: {loss}\n",
      "[32/50] LOSS: 387.4795837402344\n",
      "f[{kind}] LOSS: {loss}\n",
      "[33/50] LOSS: 171.85308837890625\n",
      "f[{kind}] LOSS: {loss}\n",
      "[34/50] LOSS: 88.23328399658203\n",
      "f[{kind}] LOSS: {loss}\n",
      "[35/50] LOSS: 147.7445831298828\n",
      "f[{kind}] LOSS: {loss}\n",
      "[36/50] LOSS: 279.5323791503906\n",
      "f[{kind}] LOSS: {loss}\n",
      "[37/50] LOSS: 383.3897399902344\n",
      "f[{kind}] LOSS: {loss}\n",
      "[38/50] LOSS: 392.5471496582031\n",
      "f[{kind}] LOSS: {loss}\n",
      "[39/50] LOSS: 307.7288513183594\n",
      "f[{kind}] LOSS: {loss}\n",
      "[40/50] LOSS: 186.08432006835938\n",
      "f[{kind}] LOSS: {loss}\n",
      "[41/50] LOSS: 98.31443786621094\n",
      "f[{kind}] LOSS: {loss}\n",
      "[42/50] LOSS: 84.08375549316406\n",
      "f[{kind}] LOSS: {loss}\n",
      "[43/50] LOSS: 132.53236389160156\n",
      "f[{kind}] LOSS: {loss}\n",
      "[44/50] LOSS: 196.4761505126953\n",
      "f[{kind}] LOSS: {loss}\n",
      "[45/50] LOSS: 227.25888061523438\n",
      "f[{kind}] LOSS: {loss}\n",
      "[46/50] LOSS: 205.55630493164062\n",
      "f[{kind}] LOSS: {loss}\n",
      "[47/50] LOSS: 149.01087951660156\n",
      "f[{kind}] LOSS: {loss}\n",
      "[48/50] LOSS: 95.12277221679688\n",
      "f[{kind}] LOSS: {loss}\n",
      "[49/50] LOSS: 73.96158599853516\n"
     ]
    }
   ],
   "source": [
    "loss=training(x_train,y_train,x_val,y_val)"
   ]
  },
  {
   "cell_type": "code",
   "execution_count": 339,
   "metadata": {},
   "outputs": [
    {
     "data": {
      "image/png": "[encoded data removed]",
      "text/plain": [
       "<Figure size 640x480 with 1 Axes>"
      ]
     },
     "metadata": {},
     "output_type": "display_data"
    }
   ],
   "source": [
    "plt.plot(range(1,51),loss[0],label='Train')\n",
    "plt.plot(range(1,51),loss[1],label='Val')\n",
    "plt.title('Train & Validate')\n",
    "plt.xlabel('Epoch')\n",
    "plt.ylabel('loss')\n",
    "plt.grid()\n",
    "plt.legend()\n",
    "plt.show()"
   ]
  },
  {
   "cell_type": "code",
   "execution_count": null,
   "metadata": {},
   "outputs": [],
   "source": []
  }
 ],
 "metadata": {
  "kernelspec": {
   "display_name": "TORCH_38",
   "language": "python",
   "name": "python3"
  },
  "language_info": {
   "codemirror_mode": {
    "name": "ipython",
    "version": 3
   },
   "file_extension": ".py",
   "mimetype": "text/x-python",
   "name": "python",
   "nbconvert_exporter": "python",
   "pygments_lexer": "ipython3",
   "version": "3.8.19"
  }
 },
 "nbformat": 4,
 "nbformat_minor": 2
}
