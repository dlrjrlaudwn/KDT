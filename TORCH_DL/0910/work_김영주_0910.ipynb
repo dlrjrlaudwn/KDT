{
 "cells": [
  {
   "cell_type": "markdown",
   "metadata": {},
   "source": [
    "[boston 데이터셋을 활용한 집값 예측]\n",
    "- 데이터셋: boston.csv\n",
    "- 구현 프레임워크: Pytorch"
   ]
  },
  {
   "cell_type": "markdown",
   "metadata": {},
   "source": [
    "[1] 모듈 로딩 및 데이터 준비    "
   ]
  },
  {
   "cell_type": "code",
   "execution_count": 37,
   "metadata": {},
   "outputs": [],
   "source": [
    "#모듈 로딩\n",
    "import torch\n",
    "import torch.nn as nn\n",
    "import torch.nn.functional as F\n",
    "import torch.optim as optimizer\n",
    "import pandas as pd\n",
    "from sklearn.model_selection import train_test_split\n",
    "import matplotlib.pyplot as plt"
   ]
  },
  {
   "cell_type": "code",
   "execution_count": 38,
   "metadata": {},
   "outputs": [
    {
     "data": {
      "text/html": [
       "<div>\n",
       "<style scoped>\n",
       "    .dataframe tbody tr th:only-of-type {\n",
       "        vertical-align: middle;\n",
       "    }\n",
       "\n",
       "    .dataframe tbody tr th {\n",
       "        vertical-align: top;\n",
       "    }\n",
       "\n",
       "    .dataframe thead th {\n",
       "        text-align: right;\n",
       "    }\n",
       "</style>\n",
       "<table border=\"1\" class=\"dataframe\">\n",
       "  <thead>\n",
       "    <tr style=\"text-align: right;\">\n",
       "      <th></th>\n",
       "      <th>CRIM</th>\n",
       "      <th>ZN</th>\n",
       "      <th>INDUS</th>\n",
       "      <th>CHAS</th>\n",
       "      <th>NOX</th>\n",
       "      <th>RM</th>\n",
       "      <th>AGE</th>\n",
       "      <th>DIS</th>\n",
       "      <th>RAD</th>\n",
       "      <th>TAX</th>\n",
       "      <th>PTRATIO</th>\n",
       "      <th>B</th>\n",
       "      <th>LSTAT</th>\n",
       "      <th>MEDV</th>\n",
       "    </tr>\n",
       "  </thead>\n",
       "  <tbody>\n",
       "    <tr>\n",
       "      <th>0</th>\n",
       "      <td>0.00632</td>\n",
       "      <td>18.0</td>\n",
       "      <td>2.31</td>\n",
       "      <td>0</td>\n",
       "      <td>0.538</td>\n",
       "      <td>6.575</td>\n",
       "      <td>65.2</td>\n",
       "      <td>4.0900</td>\n",
       "      <td>1</td>\n",
       "      <td>296.0</td>\n",
       "      <td>15.3</td>\n",
       "      <td>396.9</td>\n",
       "      <td>4.98</td>\n",
       "      <td>24.0</td>\n",
       "    </tr>\n",
       "    <tr>\n",
       "      <th>1</th>\n",
       "      <td>0.02731</td>\n",
       "      <td>0.0</td>\n",
       "      <td>7.07</td>\n",
       "      <td>0</td>\n",
       "      <td>0.469</td>\n",
       "      <td>6.421</td>\n",
       "      <td>78.9</td>\n",
       "      <td>4.9671</td>\n",
       "      <td>2</td>\n",
       "      <td>242.0</td>\n",
       "      <td>17.8</td>\n",
       "      <td>396.9</td>\n",
       "      <td>9.14</td>\n",
       "      <td>21.6</td>\n",
       "    </tr>\n",
       "  </tbody>\n",
       "</table>\n",
       "</div>"
      ],
      "text/plain": [
       "      CRIM    ZN  INDUS  CHAS    NOX     RM   AGE     DIS  RAD    TAX  \\\n",
       "0  0.00632  18.0   2.31     0  0.538  6.575  65.2  4.0900    1  296.0   \n",
       "1  0.02731   0.0   7.07     0  0.469  6.421  78.9  4.9671    2  242.0   \n",
       "\n",
       "   PTRATIO      B  LSTAT  MEDV  \n",
       "0     15.3  396.9   4.98  24.0  \n",
       "1     17.8  396.9   9.14  21.6  "
      ]
     },
     "execution_count": 38,
     "metadata": {},
     "output_type": "execute_result"
    }
   ],
   "source": [
    "#데이터 로딩\n",
    "data_file='../data/boston.csv'\n",
    "bostonDF=pd.read_csv(data_file)\n",
    "bostonDF.head(2)"
   ]
  },
  {
   "cell_type": "markdown",
   "metadata": {},
   "source": [
    "[2] 모델 준비\n",
    "- 학습 방법: 지도학습 중 회귀\n",
    "- 알고리즘: 선형모델(nn.Linear)"
   ]
  },
  {
   "cell_type": "code",
   "execution_count": 39,
   "metadata": {},
   "outputs": [],
   "source": [
    "model=nn.Linear(13,1)"
   ]
  },
  {
   "cell_type": "code",
   "execution_count": 40,
   "metadata": {},
   "outputs": [
    {
     "name": "stdout",
     "output_type": "stream",
     "text": [
      "[weight] Parameter containing:\n",
      "tensor([[ 0.2234, -0.1348, -0.1922, -0.1382,  0.0030,  0.1416,  0.2286,  0.0453,\n",
      "          0.2560,  0.0800, -0.0298,  0.1150,  0.1852]], requires_grad=True) \n",
      "\n",
      "[bias] Parameter containing:\n",
      "tensor([-0.2547], requires_grad=True) \n",
      "\n"
     ]
    }
   ],
   "source": [
    "for name,param in model.named_parameters():\n",
    "    print(f'[{name}] {param} \\n')"
   ]
  },
  {
   "cell_type": "markdown",
   "metadata": {},
   "source": [
    "[3] 최적화 인스턴스 준비"
   ]
  },
  {
   "cell_type": "code",
   "execution_count": 41,
   "metadata": {},
   "outputs": [],
   "source": [
    "adam_optim=optimizer.Adam(model.parameters(),lr=0.085)"
   ]
  },
  {
   "cell_type": "markdown",
   "metadata": {},
   "source": [
    "[4] 학습"
   ]
  },
  {
   "cell_type": "code",
   "execution_count": 42,
   "metadata": {},
   "outputs": [
    {
     "data": {
      "text/plain": [
       "torch.Size([506, 13])"
      ]
     },
     "execution_count": 42,
     "metadata": {},
     "output_type": "execute_result"
    }
   ],
   "source": [
    "featureTS=torch.from_numpy(bostonDF[bostonDF.columns[:-1]].values).float()\n",
    "featureTS.shape"
   ]
  },
  {
   "cell_type": "code",
   "execution_count": 43,
   "metadata": {},
   "outputs": [
    {
     "data": {
      "text/plain": [
       "torch.Size([506, 1])"
      ]
     },
     "execution_count": 43,
     "metadata": {},
     "output_type": "execute_result"
    }
   ],
   "source": [
    "targetTS=torch.from_numpy(bostonDF[['MEDV']].values).float()\n",
    "targetTS.shape"
   ]
  },
  {
   "cell_type": "code",
   "execution_count": 44,
   "metadata": {},
   "outputs": [
    {
     "name": "stdout",
     "output_type": "stream",
     "text": [
      "[FEATURE] TRAIN torch.Size([323, 13]), TEST torch.Size([102, 13]) VALIDATE torch.Size([81, 13])\n",
      "[TARGET] TRAIN torch.Size([323, 1]), TEST torch.Size([102, 1]) VALIDATE torch.Size([81, 1])\n"
     ]
    }
   ],
   "source": [
    "x_train,x_test,y_train,y_test=train_test_split(featureTS,targetTS,test_size=0.2)\n",
    "\n",
    "x_train,x_val,y_train,y_val=train_test_split(x_train,y_train,test_size=0.2)\n",
    "\n",
    "print(f'[FEATURE] TRAIN {x_train.shape}, TEST {x_test.shape} VALIDATE {x_val.shape}')\n",
    "print(f'[TARGET] TRAIN {y_train.shape}, TEST {y_test.shape} VALIDATE {y_val.shape}')"
   ]
  },
  {
   "cell_type": "code",
   "execution_count": 45,
   "metadata": {},
   "outputs": [],
   "source": [
    "EPOCH=50"
   ]
  },
  {
   "cell_type": "code",
   "execution_count": 46,
   "metadata": {},
   "outputs": [],
   "source": [
    "def testing(testTS,targetTS,kind='val'):\n",
    "    with torch.no_grad():\n",
    "        pre_y=model(testTS)\n",
    "\n",
    "        loss=F.mse_loss(pre_y,targetTS)\n",
    "\n",
    "        print(f'[{kind}] LOSS: {loss}')\n",
    "\n",
    "    return loss"
   ]
  },
  {
   "cell_type": "code",
   "execution_count": 47,
   "metadata": {},
   "outputs": [],
   "source": [
    "def training(featureTS,targetTS,valTS,val_target_TS):\n",
    "    #loss_history=[[],[]]\n",
    "    loss_history={'loss':[],'val':[]}\n",
    "\n",
    "    for epoch in range(EPOCH):\n",
    "        pre_y=model(featureTS)\n",
    "\n",
    "        loss=F.mse_loss(pre_y,targetTS)\n",
    "        loss_history['loss'].append(loss.item())\n",
    "\n",
    "        adam_optim.zero_grad()\n",
    "        loss.backward()\n",
    "        adam_optim.step()\n",
    "\n",
    "        val_loss=testing(valTS,val_target_TS)\n",
    "        loss_history['val'].append(val_loss.item())\n",
    "\n",
    "        print(f'[{epoch}/{EPOCH}] LOSS: {loss}')\n",
    "\n",
    "    return loss_history"
   ]
  },
  {
   "cell_type": "code",
   "execution_count": 48,
   "metadata": {},
   "outputs": [
    {
     "name": "stdout",
     "output_type": "stream",
     "text": [
      "[val] LOSS: 268.9967346191406\n",
      "[0/50] LOSS: 5416.3310546875\n",
      "[val] LOSS: 3126.670654296875\n",
      "[1/50] LOSS: 257.3198547363281\n",
      "[val] LOSS: 3003.98681640625\n",
      "[2/50] LOSS: 3089.243408203125\n",
      "[val] LOSS: 1032.26806640625\n",
      "[3/50] LOSS: 2953.793701171875\n",
      "[val] LOSS: 125.28302001953125\n",
      "[4/50] LOSS: 975.8682250976562\n",
      "[val] LOSS: 790.1690673828125\n",
      "[5/50] LOSS: 123.19194793701172\n",
      "[val] LOSS: 1526.54052734375\n",
      "[6/50] LOSS: 885.0224609375\n",
      "[val] LOSS: 1286.36279296875\n",
      "[7/50] LOSS: 1684.6180419921875\n",
      "[val] LOSS: 514.22265625\n",
      "[8/50] LOSS: 1431.283935546875\n",
      "[val] LOSS: 93.94355010986328\n",
      "[9/50] LOSS: 591.5677490234375\n",
      "[val] LOSS: 363.1542663574219\n",
      "[10/50] LOSS: 93.30569458007812\n",
      "[val] LOSS: 884.06103515625\n",
      "[11/50] LOSS: 305.4854736328125\n",
      "[val] LOSS: 1034.6966552734375\n",
      "[12/50] LOSS: 797.6585083007812\n",
      "[val] LOSS: 700.4456787109375\n",
      "[13/50] LOSS: 941.3711547851562\n",
      "[val] LOSS: 256.767333984375\n",
      "[14/50] LOSS: 618.6605224609375\n",
      "[val] LOSS: 95.87877655029297\n",
      "[15/50] LOSS: 207.08154296875\n",
      "[val] LOSS: 257.8885803222656\n",
      "[16/50] LOSS: 95.9934310913086\n",
      "[val] LOSS: 457.7628173828125\n",
      "[17/50] LOSS: 309.9414978027344\n",
      "[val] LOSS: 441.3022766113281\n",
      "[18/50] LOSS: 541.3834838867188\n",
      "[val] LOSS: 244.3690948486328\n",
      "[19/50] LOSS: 522.5393676757812\n",
      "[val] LOSS: 96.283935546875\n",
      "[20/50] LOSS: 293.69256591796875\n",
      "[val] LOSS: 148.140380859375\n",
      "[21/50] LOSS: 101.08042907714844\n",
      "[val] LOSS: 322.0984802246094\n",
      "[22/50] LOSS: 113.35519409179688\n",
      "[val] LOSS: 417.6713562011719\n",
      "[23/50] LOSS: 262.53912353515625\n",
      "[val] LOSS: 338.6042785644531\n",
      "[24/50] LOSS: 349.8185119628906\n",
      "[val] LOSS: 176.55690002441406\n",
      "[25/50] LOSS: 277.17437744140625\n",
      "[val] LOSS: 86.1670913696289\n",
      "[26/50] LOSS: 134.113037109375\n",
      "[val] LOSS: 117.74588012695312\n",
      "[27/50] LOSS: 71.13967895507812\n",
      "[val] LOSS: 185.75497436523438\n",
      "[28/50] LOSS: 130.15835571289062\n",
      "[val] LOSS: 188.95425415039062\n",
      "[29/50] LOSS: 215.01756286621094\n",
      "[val] LOSS: 127.71585845947266\n",
      "[30/50] LOSS: 217.81788635253906\n",
      "[val] LOSS: 85.51404571533203\n",
      "[31/50] LOSS: 140.59347534179688\n",
      "[val] LOSS: 117.439453125\n",
      "[32/50] LOSS: 75.13169860839844\n",
      "[val] LOSS: 185.59561157226562\n",
      "[33/50] LOSS: 85.89115905761719\n",
      "[val] LOSS: 210.80406188964844\n",
      "[34/50] LOSS: 140.8939971923828\n",
      "[val] LOSS: 167.83245849609375\n",
      "[35/50] LOSS: 162.77947998046875\n",
      "[val] LOSS: 106.4979248046875\n",
      "[36/50] LOSS: 125.78025817871094\n",
      "[val] LOSS: 84.29583740234375\n",
      "[37/50] LOSS: 77.75049591064453\n",
      "[val] LOSS: 101.80130004882812\n",
      "[38/50] LOSS: 72.14844512939453\n",
      "[val] LOSS: 115.71195220947266\n",
      "[39/50] LOSS: 103.4912338256836\n",
      "[val] LOSS: 101.81353759765625\n",
      "[40/50] LOSS: 122.88589477539062\n",
      "[val] LOSS: 82.36530303955078\n",
      "[41/50] LOSS: 104.33308410644531\n",
      "[val] LOSS: 88.96121978759766\n",
      "[42/50] LOSS: 73.10832214355469\n",
      "[val] LOSS: 117.38713836669922\n",
      "[43/50] LOSS: 66.41942596435547\n",
      "[val] LOSS: 133.91824340820312\n",
      "[44/50] LOSS: 85.07239532470703\n",
      "[val] LOSS: 119.74166870117188\n",
      "[45/50] LOSS: 98.0548324584961\n",
      "[val] LOSS: 92.08695983886719\n",
      "[46/50] LOSS: 87.01366424560547\n",
      "[val] LOSS: 78.12326049804688\n",
      "[47/50] LOSS: 67.82032775878906\n",
      "[val] LOSS: 81.58765411376953\n",
      "[48/50] LOSS: 64.55818939208984\n",
      "[val] LOSS: 85.47039031982422\n",
      "[49/50] LOSS: 76.73017883300781\n"
     ]
    }
   ],
   "source": [
    "loss=training(x_train,y_train,x_val,y_val)"
   ]
  },
  {
   "cell_type": "code",
   "execution_count": 50,
   "metadata": {},
   "outputs": [
    {
     "data": {
      "image/png": "[encoded data removed]",
      "text/plain": [
       "<Figure size 640x480 with 1 Axes>"
      ]
     },
     "metadata": {},
     "output_type": "display_data"
    }
   ],
   "source": [
    "plt.plot(range(1,51),loss['loss'],label='Train')\n",
    "plt.plot(range(1,51),loss['val'],label='Val')\n",
    "plt.title('Train & Validate')\n",
    "plt.xlabel('Epoch')\n",
    "plt.ylabel('loss')\n",
    "plt.grid()\n",
    "plt.legend()\n",
    "plt.show()"
   ]
  },
  {
   "cell_type": "code",
   "execution_count": null,
   "metadata": {},
   "outputs": [],
   "source": []
  }
 ],
 "metadata": {
  "kernelspec": {
   "display_name": "TORCH_38",
   "language": "python",
   "name": "python3"
  },
  "language_info": {
   "codemirror_mode": {
    "name": "ipython",
    "version": 3
   },
   "file_extension": ".py",
   "mimetype": "text/x-python",
   "name": "python",
   "nbconvert_exporter": "python",
   "pygments_lexer": "ipython3",
   "version": "3.8.19"
  }
 },
 "nbformat": 4,
 "nbformat_minor": 2
}
