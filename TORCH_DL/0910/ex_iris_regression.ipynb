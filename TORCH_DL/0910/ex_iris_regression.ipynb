{
 "cells": [
  {
   "cell_type": "markdown",
   "metadata": {},
   "source": [
    "[iris 데이터셋을 활용한 꽃잎 너비 예측]\n",
    "- 데이터셋: iris.csv에서 2개의 feature 사용\n",
    "- 구현 프레임워크: Pytorch"
   ]
  },
  {
   "cell_type": "markdown",
   "metadata": {},
   "source": [
    "[1] 모듈 로딩 및 데이터 준비"
   ]
  },
  {
   "cell_type": "code",
   "execution_count": 1,
   "metadata": {},
   "outputs": [],
   "source": [
    "#모듈 로딩\n",
    "import torch                        #텐서 및 수치 계산 함수 관련 모듈\n",
    "import torch.nn as nn               #인공신경망 관련 모듈\n",
    "import torch.nn.functional as F        #손실함수, 거래함수 등 관련 모듈\n",
    "import torch.optim as optimizer     #최적화 기법 관련 모듈"
   ]
  },
  {
   "cell_type": "code",
   "execution_count": 2,
   "metadata": {},
   "outputs": [],
   "source": [
    "import pandas as pd"
   ]
  },
  {
   "cell_type": "code",
   "execution_count": 3,
   "metadata": {},
   "outputs": [
    {
     "data": {
      "text/html": [
       "<div>\n",
       "<style scoped>\n",
       "    .dataframe tbody tr th:only-of-type {\n",
       "        vertical-align: middle;\n",
       "    }\n",
       "\n",
       "    .dataframe tbody tr th {\n",
       "        vertical-align: top;\n",
       "    }\n",
       "\n",
       "    .dataframe thead th {\n",
       "        text-align: right;\n",
       "    }\n",
       "</style>\n",
       "<table border=\"1\" class=\"dataframe\">\n",
       "  <thead>\n",
       "    <tr style=\"text-align: right;\">\n",
       "      <th></th>\n",
       "      <th>petal.length</th>\n",
       "      <th>petal.width</th>\n",
       "    </tr>\n",
       "  </thead>\n",
       "  <tbody>\n",
       "    <tr>\n",
       "      <th>0</th>\n",
       "      <td>1.4</td>\n",
       "      <td>0.2</td>\n",
       "    </tr>\n",
       "    <tr>\n",
       "      <th>1</th>\n",
       "      <td>1.4</td>\n",
       "      <td>0.2</td>\n",
       "    </tr>\n",
       "  </tbody>\n",
       "</table>\n",
       "</div>"
      ],
      "text/plain": [
       "   petal.length  petal.width\n",
       "0           1.4          0.2\n",
       "1           1.4          0.2"
      ]
     },
     "execution_count": 3,
     "metadata": {},
     "output_type": "execute_result"
    }
   ],
   "source": [
    "#데이터 로딩:  csv -> DataFrame\n",
    "data_file='../data/iris.csv'\n",
    "irisDF=pd.read_csv(data_file,usecols=[2,3])\n",
    "irisDF.head(2)"
   ]
  },
  {
   "cell_type": "markdown",
   "metadata": {},
   "source": [
    "[2] 모델 준비\n",
    "- 학습 방법: 지도학습 중 회귀\n",
    "- 알고리즘: 선형모델 (nn.Linear)\n"
   ]
  },
  {
   "cell_type": "code",
   "execution_count": 4,
   "metadata": {},
   "outputs": [],
   "source": [
    "#in_features: petal.length 1개\n",
    "#out_features: petal.width 1개\n",
    "\n",
    "model=nn.Linear(1,1)"
   ]
  },
  {
   "cell_type": "code",
   "execution_count": 5,
   "metadata": {},
   "outputs": [
    {
     "name": "stdout",
     "output_type": "stream",
     "text": [
      "[weight] Parameter containing:\n",
      "tensor([[-0.4465]], requires_grad=True) \n",
      "\n",
      "[bias] Parameter containing:\n",
      "tensor([-0.7782], requires_grad=True) \n",
      "\n"
     ]
    }
   ],
   "source": [
    "#가중치와 절편 확인\n",
    "for name, param in model.named_parameters():\n",
    "    print(f'[{name}] {param} \\n')"
   ]
  },
  {
   "cell_type": "markdown",
   "metadata": {},
   "source": [
    "[3] 최적화 인스턴스 준비"
   ]
  },
  {
   "cell_type": "code",
   "execution_count": 6,
   "metadata": {},
   "outputs": [],
   "source": [
    "#모델의 가중치와 절편 최적화 -> 인스턴스에 전달\n",
    "adam_optim=optimizer.Adam(model.parameters(),lr=0.1)"
   ]
  },
  {
   "cell_type": "markdown",
   "metadata": {},
   "source": [
    "[4] 학습: 개발자가 구현\n",
    "1) DS Tensor화\n",
    "- 데이터 준비 시 진행하거나 학습 전 진행\n",
    "    - 하고싶을 때 하면 된다~~~~~~~"
   ]
  },
  {
   "cell_type": "code",
   "execution_count": 7,
   "metadata": {},
   "outputs": [
    {
     "data": {
      "text/plain": [
       "torch.Size([150, 1])"
      ]
     },
     "execution_count": 7,
     "metadata": {},
     "output_type": "execute_result"
    }
   ],
   "source": [
    "featureTS=torch.from_numpy(irisDF[['petal.length']].values).float()\n",
    "featureTS.shape"
   ]
  },
  {
   "cell_type": "code",
   "execution_count": 8,
   "metadata": {},
   "outputs": [
    {
     "data": {
      "text/plain": [
       "torch.Size([150, 1])"
      ]
     },
     "execution_count": 8,
     "metadata": {},
     "output_type": "execute_result"
    }
   ],
   "source": [
    "targetTS=torch.from_numpy(irisDF[['petal.width']].values).float()\n",
    "targetTS.shape"
   ]
  },
  {
   "cell_type": "markdown",
   "metadata": {},
   "source": [
    "2) 학습 진행\n",
    "- 학습 횟수 결정: 에포크 설정\n",
    "- 학습 결과 저장: 손실 저장 변수 생성"
   ]
  },
  {
   "cell_type": "code",
   "execution_count": 9,
   "metadata": {},
   "outputs": [],
   "source": [
    "EPOCH=10          #1부터 돌리면서 error 확인하기\n"
   ]
  },
  {
   "cell_type": "code",
   "execution_count": 10,
   "metadata": {},
   "outputs": [],
   "source": [
    "#모델 학습 함수\n",
    "\n",
    "def training(): \n",
    "\n",
    "    loss_history=[]\n",
    "\n",
    "    for epoch in range(EPOCH):\n",
    "        #학습 진행 - forward\n",
    "        pre_y=model(featureTS)\n",
    "\n",
    "        #오차 계산 - 손실함수\n",
    "        loss=F.mse_loss(pre_y,targetTS)\n",
    "        loss_history.append(loss.item())\n",
    "\n",
    "        #최적화 -  가중치, 절편 업데이트(backward)\n",
    "        adam_optim.zero_grad()\n",
    "        loss.backward()\n",
    "        adam_optim.step()\n",
    "\n",
    "        #학습 결과 출력 및 저장\n",
    "        print(f'[{epoch}/{EPOCH}] LOSS: {loss}')\n",
    "\n",
    "    return loss_history"
   ]
  },
  {
   "cell_type": "code",
   "execution_count": 15,
   "metadata": {},
   "outputs": [
    {
     "name": "stdout",
     "output_type": "stream",
     "text": [
      "[0/10] LOSS: 0.9032248854637146\n",
      "[1/10] LOSS: 0.650210976600647\n",
      "[2/10] LOSS: 0.4281255006790161\n",
      "[3/10] LOSS: 0.253324955701828\n",
      "[4/10] LOSS: 0.134414941072464\n",
      "[5/10] LOSS: 0.07234187424182892\n",
      "[6/10] LOSS: 0.06128096207976341\n",
      "[7/10] LOSS: 0.09020490944385529\n",
      "[8/10] LOSS: 0.14493225514888763\n",
      "[9/10] LOSS: 0.21037474274635315\n"
     ]
    }
   ],
   "source": [
    "#모델 학습 진행\n",
    "loss=training()"
   ]
  },
  {
   "cell_type": "code",
   "execution_count": 17,
   "metadata": {},
   "outputs": [
    {
     "data": {
      "image/png": "[encoded data removed]",
      "text/plain": [
       "<Figure size 640x480 with 1 Axes>"
      ]
     },
     "metadata": {},
     "output_type": "display_data"
    }
   ],
   "source": [
    "#학습 후 loss 시각화\n",
    "import matplotlib.pyplot as plt\n",
    "\n",
    "plt.plot(loss)\n",
    "plt.xlabel('Epoch')\n",
    "plt.ylabel('loss')\n",
    "plt.grid()\n",
    "plt.show()"
   ]
  },
  {
   "cell_type": "code",
   "execution_count": null,
   "metadata": {},
   "outputs": [],
   "source": []
  }
 ],
 "metadata": {
  "kernelspec": {
   "display_name": "TORCH_38",
   "language": "python",
   "name": "python3"
  },
  "language_info": {
   "codemirror_mode": {
    "name": "ipython",
    "version": 3
   },
   "file_extension": ".py",
   "mimetype": "text/x-python",
   "name": "python",
   "nbconvert_exporter": "python",
   "pygments_lexer": "ipython3",
   "version": "3.8.19"
  }
 },
 "nbformat": 4,
 "nbformat_minor": 2
}
