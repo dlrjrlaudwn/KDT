{
 "cells": [
  {
   "cell_type": "markdown",
   "metadata": {},
   "source": [
    "[iris 데이터셋을 활용한 꽃잎 너비 예측]\n",
    "- 데이터셋: iris.csv에서 2개의 feature 사용\n",
    "- 구현 프레임워크: Pytorch"
   ]
  },
  {
   "cell_type": "markdown",
   "metadata": {},
   "source": [
    "[1] 모듈 로딩 및 데이터 준비"
   ]
  },
  {
   "cell_type": "code",
   "execution_count": 149,
   "metadata": {},
   "outputs": [],
   "source": [
    "#모듈 로딩\n",
    "import torch                        #텐서 및 수치 계산 함수 관련 모듈\n",
    "import torch.nn as nn               #인공신경망 관련 모듈\n",
    "import torch.nn.functional as F     #손실함수, 거래함수 등 관련 모듈\n",
    "import torch.optim as optimizer     #최적화 기법 관련 모듈"
   ]
  },
  {
   "cell_type": "code",
   "execution_count": 161,
   "metadata": {},
   "outputs": [],
   "source": [
    "import pandas as pd\n",
    "from sklearn.model_selection import train_test_split"
   ]
  },
  {
   "cell_type": "code",
   "execution_count": 151,
   "metadata": {},
   "outputs": [
    {
     "data": {
      "text/html": [
       "<div>\n",
       "<style scoped>\n",
       "    .dataframe tbody tr th:only-of-type {\n",
       "        vertical-align: middle;\n",
       "    }\n",
       "\n",
       "    .dataframe tbody tr th {\n",
       "        vertical-align: top;\n",
       "    }\n",
       "\n",
       "    .dataframe thead th {\n",
       "        text-align: right;\n",
       "    }\n",
       "</style>\n",
       "<table border=\"1\" class=\"dataframe\">\n",
       "  <thead>\n",
       "    <tr style=\"text-align: right;\">\n",
       "      <th></th>\n",
       "      <th>sepal.length</th>\n",
       "      <th>sepal.width</th>\n",
       "      <th>petal.length</th>\n",
       "      <th>petal.width</th>\n",
       "    </tr>\n",
       "  </thead>\n",
       "  <tbody>\n",
       "    <tr>\n",
       "      <th>0</th>\n",
       "      <td>5.1</td>\n",
       "      <td>3.5</td>\n",
       "      <td>1.4</td>\n",
       "      <td>0.2</td>\n",
       "    </tr>\n",
       "    <tr>\n",
       "      <th>1</th>\n",
       "      <td>4.9</td>\n",
       "      <td>3.0</td>\n",
       "      <td>1.4</td>\n",
       "      <td>0.2</td>\n",
       "    </tr>\n",
       "  </tbody>\n",
       "</table>\n",
       "</div>"
      ],
      "text/plain": [
       "   sepal.length  sepal.width  petal.length  petal.width\n",
       "0           5.1          3.5           1.4          0.2\n",
       "1           4.9          3.0           1.4          0.2"
      ]
     },
     "execution_count": 151,
     "metadata": {},
     "output_type": "execute_result"
    }
   ],
   "source": [
    "#데이터 로딩:  csv -> DataFrame\n",
    "data_file='../data/iris.csv'\n",
    "irisDF=pd.read_csv(data_file,usecols=[0,1,2,3])\n",
    "irisDF.head(2)"
   ]
  },
  {
   "cell_type": "markdown",
   "metadata": {},
   "source": [
    "[2] 모델 준비\n",
    "- 학습 방법: 지도학습 중 회귀\n",
    "- 알고리즘: 선형모델 (nn.Linear)\n"
   ]
  },
  {
   "cell_type": "code",
   "execution_count": 152,
   "metadata": {},
   "outputs": [],
   "source": [
    "#in_features: sepal.length, sepal.width, petal.length 1개\n",
    "#out_features: petal.width 1개\n",
    "\n",
    "model=nn.Linear(3,1)"
   ]
  },
  {
   "cell_type": "code",
   "execution_count": 153,
   "metadata": {},
   "outputs": [
    {
     "name": "stdout",
     "output_type": "stream",
     "text": [
      "[weight] Parameter containing:\n",
      "tensor([[-0.4617,  0.4282, -0.2222]], requires_grad=True) \n",
      "\n",
      "[bias] Parameter containing:\n",
      "tensor([0.5024], requires_grad=True) \n",
      "\n"
     ]
    }
   ],
   "source": [
    "#가중치와 절편 확인\n",
    "for name, param in model.named_parameters():\n",
    "    print(f'[{name}] {param} \\n')"
   ]
  },
  {
   "cell_type": "markdown",
   "metadata": {},
   "source": [
    "[3] 최적화 인스턴스 준비"
   ]
  },
  {
   "cell_type": "code",
   "execution_count": 154,
   "metadata": {},
   "outputs": [],
   "source": [
    "#모델의 가중치와 절편 최적화하여 인스턴스에 전달\n",
    "adam_optim=optimizer.Adam(model.parameters(),lr=0.1)    #lr=learning rate: 학습 간격"
   ]
  },
  {
   "cell_type": "markdown",
   "metadata": {},
   "source": [
    "[4] 학습: 개발자가 구현\n",
    "1) DS Tensor화\n",
    "- 데이터 준비 시 진행하거나 학습 전 진행\n",
    "    - 하고싶을 때 하면 된다~~~~~~~"
   ]
  },
  {
   "cell_type": "code",
   "execution_count": 155,
   "metadata": {},
   "outputs": [
    {
     "data": {
      "text/plain": [
       "torch.Size([150, 3])"
      ]
     },
     "execution_count": 155,
     "metadata": {},
     "output_type": "execute_result"
    }
   ],
   "source": [
    "featureTS=torch.from_numpy(irisDF[irisDF.columns[:-1]].values).float()\n",
    "featureTS.shape"
   ]
  },
  {
   "cell_type": "code",
   "execution_count": 156,
   "metadata": {},
   "outputs": [
    {
     "data": {
      "text/plain": [
       "torch.Size([150, 1])"
      ]
     },
     "execution_count": 156,
     "metadata": {},
     "output_type": "execute_result"
    }
   ],
   "source": [
    "targetTS=torch.from_numpy(irisDF[['petal.width']].values).float()\n",
    "targetTS.shape"
   ]
  },
  {
   "cell_type": "code",
   "execution_count": 167,
   "metadata": {},
   "outputs": [
    {
     "name": "stdout",
     "output_type": "stream",
     "text": [
      "[FEATURE] TRAIN torch.Size([96, 3]), TEST torch.Size([30, 3]), VALIDATE torch.Size([24, 3])\n",
      "[TARGET] TRAIN torch.Size([96, 1]), TEST torch.Size([30, 1]), VALIDATE torch.Size([24, 1])\n"
     ]
    }
   ],
   "source": [
    "#train-test 분리\n",
    "x_train,x_test,y_train,y_test=train_test_split(featureTS,targetTS,test_size=0.2)\n",
    "\n",
    "#train-valid 분리\n",
    "x_train,x_val,y_train,y_val=train_test_split(x_train,y_train,test_size=0.2)\n",
    "\n",
    "print(f'[FEATURE] TRAIN {x_train.shape}, TEST {x_test.shape}, VALIDATE {x_val.shape}')\n",
    "print(f'[TARGET] TRAIN {y_train.shape}, TEST {y_test.shape}, VALIDATE {y_val.shape}')"
   ]
  },
  {
   "cell_type": "markdown",
   "metadata": {},
   "source": [
    "2) 학습 진행\n",
    "- 학습 횟수 결정: 에포크 설정\n",
    "- 학습 결과 저장: 손실 저장 변수 생성"
   ]
  },
  {
   "cell_type": "code",
   "execution_count": 157,
   "metadata": {},
   "outputs": [],
   "source": [
    "EPOCH=10          #1부터 돌리면서 error 확인하기"
   ]
  },
  {
   "cell_type": "code",
   "execution_count": 170,
   "metadata": {},
   "outputs": [],
   "source": [
    "#테스트/검증 함수: 최적화(가중치, 절편 업데이트) 진행 X\n",
    "\n",
    "def testing(testTS,targetTS,kind='val'): \n",
    "\n",
    "    with torch.no_grad():       #가중치, 절편 업데이트 진행 X\n",
    "        #학습 진행 - forward\n",
    "        pre_y=model(testTS)\n",
    "\n",
    "        #오차 계산 - 손실함수\n",
    "        loss=F.mse_loss(pre_y,targetTS)\n",
    "\n",
    "        #학습 결과 출력 및 저장\n",
    "        print(f'[{kind}] LOSS: {loss}')\n",
    "\n",
    "    return loss"
   ]
  },
  {
   "cell_type": "code",
   "execution_count": 171,
   "metadata": {},
   "outputs": [],
   "source": [
    "#모델 학습 함수\n",
    "\n",
    "def training(featureTS,targetTS,valTS,valTargetTS): \n",
    "\n",
    "    loss_history=[[],[]]\n",
    "\n",
    "    for epoch in range(EPOCH):\n",
    "        #학습 진행 - forward\n",
    "        pre_y=model(featureTS)\n",
    "\n",
    "        #오차 계산 - 손실함수\n",
    "        loss=F.mse_loss(pre_y,targetTS)\n",
    "        loss_history[0].append(loss.item())\n",
    "\n",
    "        #최적화 -  가중치, 절편 업데이트(backward)\n",
    "        adam_optim.zero_grad()\n",
    "        loss.backward()\n",
    "        adam_optim.step()\n",
    "\n",
    "        #검증: 모델이 제대로 만들어지는지 검사하는 용도\n",
    "        val_loss=testing(valTS,valTargetTS)\n",
    "        loss_history[1].append(val_loss.item())\n",
    "\n",
    "        #학습 결과 출력 및 저장\n",
    "        print(f'[{epoch}/{EPOCH}] LOSS: {loss}')\n",
    "\n",
    "    return loss_history"
   ]
  },
  {
   "cell_type": "code",
   "execution_count": 172,
   "metadata": {},
   "outputs": [
    {
     "name": "stdout",
     "output_type": "stream",
     "text": [
      "[val] LOSS: 0.9835612177848816\n",
      "[0/10] LOSS: 0.972370445728302\n",
      "[val] LOSS: 1.1769877672195435\n",
      "[1/10] LOSS: 1.38715398311615\n",
      "[val] LOSS: 1.1899126768112183\n",
      "[2/10] LOSS: 1.6927251815795898\n",
      "[val] LOSS: 1.008169174194336\n",
      "[3/10] LOSS: 1.7067512273788452\n",
      "[val] LOSS: 0.7308681011199951\n",
      "[4/10] LOSS: 1.4327783584594727\n",
      "[val] LOSS: 0.4928707182407379\n",
      "[5/10] LOSS: 1.0091197490692139\n",
      "[val] LOSS: 0.3936394155025482\n",
      "[6/10] LOSS: 0.6147574782371521\n",
      "[val] LOSS: 0.45480597019195557\n",
      "[7/10] LOSS: 0.38488826155662537\n",
      "[val] LOSS: 0.6171117424964905\n",
      "[8/10] LOSS: 0.3605222702026367\n",
      "[val] LOSS: 0.7765397429466248\n",
      "[9/10] LOSS: 0.48366332054138184\n"
     ]
    }
   ],
   "source": [
    "#모델 학습 진행\n",
    "loss=training(x_train,y_train,x_val,y_val)"
   ]
  },
  {
   "cell_type": "code",
   "execution_count": 173,
   "metadata": {},
   "outputs": [
    {
     "data": {
      "image/png": "[encoded data removed]",
      "text/plain": [
       "<Figure size 640x480 with 1 Axes>"
      ]
     },
     "metadata": {},
     "output_type": "display_data"
    }
   ],
   "source": [
    "#학습 후 loss 시각화\n",
    "import matplotlib.pyplot as plt\n",
    "\n",
    "plt.plot(range(1,11),loss[0],label='Train')     #range: 지정한 epoch에 맞춰서 (1 ~ epoch+1)\n",
    "plt.plot(range(1,11),loss[1],label='Val')\n",
    "plt.title('Train & Validate')\n",
    "plt.xlabel('Epoch')\n",
    "plt.ylabel('loss')\n",
    "plt.grid()\n",
    "plt.legend()\n",
    "plt.show()"
   ]
  },
  {
   "cell_type": "code",
   "execution_count": null,
   "metadata": {},
   "outputs": [],
   "source": []
  }
 ],
 "metadata": {
  "kernelspec": {
   "display_name": "TORCH_38",
   "language": "python",
   "name": "python3"
  },
  "language_info": {
   "codemirror_mode": {
    "name": "ipython",
    "version": 3
   },
   "file_extension": ".py",
   "mimetype": "text/x-python",
   "name": "python",
   "nbconvert_exporter": "python",
   "pygments_lexer": "ipython3",
   "version": "3.8.19"
  }
 },
 "nbformat": 4,
 "nbformat_minor": 2
}
