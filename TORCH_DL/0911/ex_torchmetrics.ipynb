{
 "cells": [
  {
   "cell_type": "markdown",
   "metadata": {},
   "source": [
    "torchmetrics 패키지\n",
    "- pytorch에서 모델 성능 평가 기능 제공하는 패키지\n",
    "- 추가 설치 필요\n",
    "- 사용법\n",
    "    - 클래스 방식(대문자로 시작하는 거): 인스턴스 생성 후 사용해야 함  <- 재사용 가능, 확장성 좋음\n",
    "    - 함수 방식: 바로 사용"
   ]
  },
  {
   "cell_type": "markdown",
   "metadata": {},
   "source": [
    "[1] 회귀(Regression) 성능지표"
   ]
  },
  {
   "cell_type": "code",
   "execution_count": 17,
   "metadata": {},
   "outputs": [],
   "source": [
    "#모듈 로딩\n",
    "from torchmetrics.functional.regression import r2_score,mean_squared_error,mean_absolute_error\n",
    "from torchmetrics.regression import R2Score,MeanSquaredError,MeanAbsoluteError\n",
    "import torch"
   ]
  },
  {
   "cell_type": "code",
   "execution_count": 20,
   "metadata": {},
   "outputs": [
    {
     "name": "stdout",
     "output_type": "stream",
     "text": [
      "tensor(0.9486) tensor(0.9486)\n",
      "tensor(0.3750)\n"
     ]
    }
   ],
   "source": [
    "# <클래스 방식>\n",
    "\n",
    "target = torch.tensor([3, -0.5, 2, 7])  #1D (4,0)\n",
    "preds = torch.tensor([2.5, 0.0, 2, 8])  #1D (4,0)\n",
    "\n",
    "#성능 평가: R2 Score( 0~1 사이의 값, 정답에 얼마나 근사하게 표현했는가, 1에 가까울수록 좋음)\n",
    "r2score = R2Score()\n",
    "print(r2score(preds, target), R2Score()(preds,target))\n",
    "\n",
    "#성능 평가: 오차 계산 (0에 가까울수록 좋음)\n",
    "mse=MeanSquaredError()\n",
    "print(mse(preds,target))"
   ]
  },
  {
   "cell_type": "code",
   "execution_count": 6,
   "metadata": {},
   "outputs": [],
   "source": [
    "def add(a,b):return a+b"
   ]
  },
  {
   "cell_type": "code",
   "execution_count": 11,
   "metadata": {},
   "outputs": [
    {
     "data": {
      "text/plain": [
       "(30, 3)"
      ]
     },
     "execution_count": 11,
     "metadata": {},
     "output_type": "execute_result"
    }
   ],
   "source": [
    "my_func=add                 # add 함수의 주소를 my_func랑 add랑 공유\n",
    "\n",
    "my_func(10,20), add(1,2)"
   ]
  },
  {
   "cell_type": "code",
   "execution_count": 14,
   "metadata": {},
   "outputs": [],
   "source": [
    "class MYR2(R2Score):\n",
    "    pass"
   ]
  },
  {
   "cell_type": "code",
   "execution_count": 15,
   "metadata": {},
   "outputs": [
    {
     "data": {
      "text/plain": [
       "tensor(0.9486)"
      ]
     },
     "execution_count": 15,
     "metadata": {},
     "output_type": "execute_result"
    }
   ],
   "source": [
    "gg=MYR2()\n",
    "gg(preds,target)"
   ]
  },
  {
   "cell_type": "code",
   "execution_count": 13,
   "metadata": {},
   "outputs": [
    {
     "data": {
      "text/plain": [
       "tensor(0.9486)"
      ]
     },
     "execution_count": 13,
     "metadata": {},
     "output_type": "execute_result"
    }
   ],
   "source": [
    "# <함수 방식>\n",
    "\n",
    "target = torch.tensor([3, -0.5, 2, 7])  #1D (4,0)\n",
    "preds = torch.tensor([2.5, 0.0, 2, 8])  #1D (4,0)\n",
    "\n",
    "r2_score(preds,target)"
   ]
  },
  {
   "cell_type": "markdown",
   "metadata": {},
   "source": [
    "[분류(classification) 성능 평가 지표]\n",
    "- accuracy: 양성-양성, 음성-음성 (불균형 데이터일 경우 신뢰성 X)\n",
    "- precision: 양성으로 예측한 것이 양성인 경우\n",
    "- recall: 양성을 양성으로 예측한 경우\n",
    "- f1-score\n",
    "- confusion matrix\n",
    "- roc-auc(2진분류, 의료분야에서 주로 사용)"
   ]
  },
  {
   "cell_type": "code",
   "execution_count": 21,
   "metadata": {},
   "outputs": [],
   "source": [
    "from torchmetrics.classification import F1Score,Accuracy,Precision,Recall\n",
    "from torchmetrics.functional.classification import f1_score,accuracy,precision,recall"
   ]
  },
  {
   "cell_type": "markdown",
   "metadata": {},
   "source": [
    "- 모듈: 같은 목적의 변수, 함수, 클래스를 포함한 1개의 py 파일  (변수, 함수, 클래스 모두가 항상 들어있는 것은 아님, 필요에 따라 들어있슴)\n",
    "- 패키지: 같거나 유사한 분야의 모듈을 모아서 하나로 만듬 (for 관리·사용의 편리성)\n",
    "- 인터페이스: 서로 다른 요소, 장치, 사람 등 연결해줌 /OOP 개념에서 서로 다른 객체들이 동일한 기능을 사용할 수 있도록 해주는 기능\n",
    "    - ex) UI(사용자-기계 장치 연결 w.버튼, 글자 입력 칸, 그림 등)\n",
    "- 프레임워크: 개발에 필요한 모든 것을 포함하고 있는 집합체 \n",
    "    - ex) 머신러닝 알고리즘 패키지, 성능평가 패키지, 전처리 패키지, 데이터셋 패키지, 특성공학 패키지 등\n",
    "\n",
    "- IDE 통합개발환경: 개발에 필요한 모든 도구들을 제공해주는 소프트웨어  ex) 코드 작성, 디버깅, 필요 패키지 검색 및 설치 등\n",
    "\n",
    "[ex]\n",
    "- 웹 패키지\n",
    "    - 요청 처리 모듈, 응답 처리 모듈, 주소 분석 모듈,\n",
    "    - 데이터 파일 분석 모듈 등    "
   ]
  },
  {
   "cell_type": "code",
   "execution_count": 26,
   "metadata": {},
   "outputs": [
    {
     "name": "stdout",
     "output_type": "stream",
     "text": [
      "tensor(0.8571)\n",
      "tensor(0.8571)\n"
     ]
    }
   ],
   "source": [
    "from torch import tensor\n",
    "from torchmetrics.classification import BinaryF1Score\n",
    "\n",
    "target = tensor([0, 1, 1, 0, 1, 1])\n",
    "preds = tensor([0, 1, 1, 0, 0, 1])\n",
    "\n",
    "f1 = F1Score(task=\"binary\")    #이진분류\n",
    "print(f1(preds, target))\n",
    "\n",
    "print(BinaryF1Score()(preds,target))"
   ]
  },
  {
   "cell_type": "code",
   "execution_count": 30,
   "metadata": {},
   "outputs": [
    {
     "name": "stdout",
     "output_type": "stream",
     "text": [
      "tensor(0.5000)\n",
      "tensor(0.4333)\n",
      "tensor(0.4333)\n"
     ]
    }
   ],
   "source": [
    "from torch import tensor\n",
    "from torchmetrics.classification import MulticlassF1Score\n",
    "\n",
    "target = tensor([0, 1, 2, 0, 2, 0])\n",
    "preds = tensor([0, 2, 1, 0, 2, 1])\n",
    "\n",
    "#F1Score: average='micro'\n",
    "f1 = F1Score(task=\"multiclass\",num_classes=3)    #다중분류\n",
    "print(f1(preds, target))\n",
    "\n",
    "f1_2=F1Score(task=\"multiclass\",num_classes=3,average='macro')\n",
    "print(f1_2(preds,target))\n",
    "\n",
    "#MulticlassF1Score: average='macro'\n",
    "print(MulticlassF1Score(num_classes=3)(preds,target))"
   ]
  },
  {
   "cell_type": "code",
   "execution_count": 34,
   "metadata": {},
   "outputs": [
    {
     "name": "stdout",
     "output_type": "stream",
     "text": [
      "tensor(0.6667)\n",
      "tensor(0.6667)\n"
     ]
    }
   ],
   "source": [
    "from torch import tensor\n",
    "from torchmetrics.classification import BinaryPrecision\n",
    "\n",
    "target = tensor([0, 1, 1, 0, 1, 0])\n",
    "preds = tensor([0, 1, 1, 0, 0, 1])\n",
    "\n",
    "pb=Precision(task='binary',threshold=0.7)\n",
    "print(pb(preds,target))\n",
    "\n",
    "print(BinaryPrecision(threshold=0.7)(preds,target))"
   ]
  },
  {
   "cell_type": "code",
   "execution_count": 35,
   "metadata": {},
   "outputs": [
    {
     "name": "stdout",
     "output_type": "stream",
     "text": [
      "tensor(0.5000)\n",
      "tensor(0.5000)\n",
      "tensor(0.5000)\n"
     ]
    }
   ],
   "source": [
    "from torch import tensor\n",
    "from torchmetrics.classification import MulticlassPrecision\n",
    "\n",
    "target = tensor([0, 1, 2, 0, 2, 0])\n",
    "preds = tensor([0, 2, 1, 0, 2, 1])\n",
    "\n",
    "\n",
    "#F1Score: average='micro'\n",
    "f1 = Precision(task=\"multiclass\",num_classes=3)    #다중분류\n",
    "print(f1(preds, target))\n",
    "\n",
    "f1_2=Precision(task=\"multiclass\",num_classes=3,average='macro')\n",
    "print(f1_2(preds,target))\n",
    "\n",
    "#MulticlassF1Score: average='macro'\n",
    "print(MulticlassPrecision(num_classes=3)(preds,target))"
   ]
  },
  {
   "cell_type": "code",
   "execution_count": null,
   "metadata": {},
   "outputs": [],
   "source": [
    "\n"
   ]
  }
 ],
 "metadata": {
  "kernelspec": {
   "display_name": "TORCH_38",
   "language": "python",
   "name": "python3"
  },
  "language_info": {
   "codemirror_mode": {
    "name": "ipython",
    "version": 3
   },
   "file_extension": ".py",
   "mimetype": "text/x-python",
   "name": "python",
   "nbconvert_exporter": "python",
   "pygments_lexer": "ipython3",
   "version": "3.8.19"
  }
 },
 "nbformat": 4,
 "nbformat_minor": 2
}
