{
 "cells": [
  {
   "cell_type": "markdown",
   "metadata": {},
   "source": [
    "[사용자 정의 클래스와 상속]\n",
    "- 사용자 정의 클래스: 개발자 필요에 의해서 생성한 클래스"
   ]
  },
  {
   "cell_type": "markdown",
   "metadata": {},
   "source": [
    "* 저장 데이터: 사람 정보 저장 클래스\n",
    "* 클래스 이름: Person\n",
    "* 클래스 속성: name, age, gender\n",
    "* 클래스 기능: eat(), sleep()"
   ]
  },
  {
   "cell_type": "code",
   "execution_count": 34,
   "metadata": {},
   "outputs": [],
   "source": [
    "class Person: \n",
    "    #메모리 할당 -> self 에 시작 주소 저장\n",
    "    # def __new__(cls) -> Self:\n",
    "    #     pass\n",
    "\n",
    "    #클래스 변수(속성): 인스턴스(객체) 생성 없이 사용 가능\n",
    "    born='대한민국'\n",
    "\n",
    "    #인스턴스 생성 시 자동 호출: 콜 백 메서드\n",
    "    def __init__(self,name,age,gender) -> None:\n",
    "        print('__init__()')\n",
    "        self.name=name\n",
    "        self.age=age\n",
    "        self.gender=gender\n",
    "\n",
    "    def eat(self,food):\n",
    "        print(f'{self.name}이/가 {food}을/를 먹는다 👩‍🍳')\n",
    "\n",
    "    def sleep(self,where):\n",
    "        print(f'{where}에서 잔다 🛌')\n",
    "\n",
    "    #정적 메서드: 인스턴스 생성 없이 사용 가능\n",
    "    @staticmethod   #데코레이터\n",
    "    def test(msg):\n",
    "        print(msg)\n",
    "\n",
    "    @classmethod\n",
    "    def tetest(cls,msg):\n",
    "        print(msg)\n",
    "        "
   ]
  },
  {
   "cell_type": "code",
   "execution_count": 35,
   "metadata": {},
   "outputs": [
    {
     "name": "stdout",
     "output_type": "stream",
     "text": [
      "__init__()\n"
     ]
    }
   ],
   "source": [
    "#인스턴스 객체 생성\n",
    "kim=Person('마징가',10,'남자')"
   ]
  },
  {
   "cell_type": "code",
   "execution_count": 36,
   "metadata": {},
   "outputs": [
    {
     "data": {
      "text/plain": [
       "'대한민국'"
      ]
     },
     "execution_count": 36,
     "metadata": {},
     "output_type": "execute_result"
    }
   ],
   "source": [
    "Person.born"
   ]
  },
  {
   "cell_type": "code",
   "execution_count": 37,
   "metadata": {},
   "outputs": [
    {
     "ename": "AttributeError",
     "evalue": "type object 'Person' has no attribute 'name'",
     "output_type": "error",
     "traceback": [
      "\u001b[1;31m---------------------------------------------------------------------------\u001b[0m",
      "\u001b[1;31mAttributeError\u001b[0m                            Traceback (most recent call last)",
      "Cell \u001b[1;32mIn[37], line 1\u001b[0m\n\u001b[1;32m----> 1\u001b[0m \u001b[43mPerson\u001b[49m\u001b[38;5;241;43m.\u001b[39;49m\u001b[43mname\u001b[49m\n\u001b[0;32m      2\u001b[0m \u001b[38;5;66;03m#인스턴스 생성해야 사용 가능\u001b[39;00m\n",
      "\u001b[1;31mAttributeError\u001b[0m: type object 'Person' has no attribute 'name'"
     ]
    }
   ],
   "source": [
    "Person.name\n",
    "#인스턴스 생성해야 사용 가능"
   ]
  },
  {
   "cell_type": "code",
   "execution_count": 21,
   "metadata": {},
   "outputs": [
    {
     "name": "stdout",
     "output_type": "stream",
     "text": [
      "good\n"
     ]
    }
   ],
   "source": [
    "Person.test('good')"
   ]
  },
  {
   "cell_type": "markdown",
   "metadata": {},
   "source": [
    "[상속(Inheritance)]\n",
    "- 기존 클래스의 속성과 메서드 재사용\n",
    "- 추가 속성 및 메서드 확장"
   ]
  },
  {
   "cell_type": "markdown",
   "metadata": {},
   "source": [
    "* 저장 데이터: 소방관 정보 저장 클래스\n",
    "* 클래스 이름: Fireman <= Sub Class\n",
    "* 클래스 속성: name, age, gender, group, position\n",
    "* 클래스 기능: eat(), sleep(), extinguish()\n",
    "* 부모 클래스: Person <= Super Class"
   ]
  },
  {
   "cell_type": "code",
   "execution_count": 42,
   "metadata": {},
   "outputs": [],
   "source": [
    "class Fireman(Person,Mother):\n",
    "    def __init__(self, name, age, gender, group, position) -> None:\n",
    "\n",
    "        #부모(Super) 클래스 생성\n",
    "        super().__init__(name, age, gender)\n",
    "\n",
    "        #자식(Sub) 클래스 생성\n",
    "        self.group=group\n",
    "        self.position=position\n",
    "\n",
    "    def extinguish(self, where):\n",
    "        print(f'{self.name}이/가 {where}에서 불을 끄고 있다 🧑‍🚒')\n",
    "\n",
    "    #오버라이딩(overriding): 부모 클래스로부터 상속 받은 메서드 변경하고 싶을 때 사용(구현부만 변경)\n",
    "    def eat(self,food):\n",
    "        print(f'{self.name}이/가 {food}를 옴뇽뇽 먹는다 👩‍🍳')"
   ]
  },
  {
   "cell_type": "code",
   "execution_count": 43,
   "metadata": {},
   "outputs": [
    {
     "name": "stdout",
     "output_type": "stream",
     "text": [
      "__init__()\n"
     ]
    }
   ],
   "source": [
    "park=Fireman('박홍길동',30,'남','대구','주임')"
   ]
  },
  {
   "cell_type": "code",
   "execution_count": 44,
   "metadata": {},
   "outputs": [
    {
     "name": "stdout",
     "output_type": "stream",
     "text": [
      "방에서 잔다 🛌\n"
     ]
    }
   ],
   "source": [
    "park.sleep('방')"
   ]
  },
  {
   "cell_type": "code",
   "execution_count": 45,
   "metadata": {},
   "outputs": [
    {
     "name": "stdout",
     "output_type": "stream",
     "text": [
      "박홍길동이/가 빵를 옴뇽뇽 먹는다 👩‍🍳\n"
     ]
    }
   ],
   "source": [
    "park.eat('빵')"
   ]
  },
  {
   "cell_type": "code",
   "execution_count": 32,
   "metadata": {},
   "outputs": [],
   "source": [
    "class Mother():\n",
    "    def __init__(self, name, age, gender) -> None:\n",
    "        print('__init__()')\n",
    "        self.name=name\n",
    "        self.age=age\n",
    "        self.gender=gender"
   ]
  }
 ],
 "metadata": {
  "kernelspec": {
   "display_name": "TORCH_38",
   "language": "python",
   "name": "python3"
  },
  "language_info": {
   "codemirror_mode": {
    "name": "ipython",
    "version": 3
   },
   "file_extension": ".py",
   "mimetype": "text/x-python",
   "name": "python",
   "nbconvert_exporter": "python",
   "pygments_lexer": "ipython3",
   "version": "3.8.19"
  }
 },
 "nbformat": 4,
 "nbformat_minor": 2
}
