{
 "cells": [
  {
   "cell_type": "markdown",
   "metadata": {},
   "source": [
    "#### Tensor 이해\n",
    "##### [생성]\n",
    "- Tensor\n",
    "    * pytorch에서 데이터를 저장하는 객체\n",
    "    * 모델에서 입/출력 데이터 형태"
   ]
  },
  {
   "cell_type": "markdown",
   "metadata": {},
   "source": [
    "[int]\n",
    "- 1byte=8bit=256개 ( int8 / uint8 )\n",
    "    * -128~127 / 0~255\n",
    "\n",
    "- short: 16bit => -215~215-1 ( int16 / uint16 )\n",
    "- int: 32bit ( int32 / uint32 )\n",
    "- long int: 64bit ( int64 / uint64 )\n",
    "\n",
    "- 기본 데이터 타입: 숫자, 글자 ( int, float, char, bool 등 )\n",
    "    * 힙에 저장됨 ( 클래스 기반 객체 )\n",
    "- 확장 데이터 타입: 여러 개의 기본 데이터 타입이 모여 하나의 데이터 타입 표현 ( string 등 ) => 클래스\n",
    "    * 힙에 저장됨 ( 클래스 기반 객체 )\n",
    "\n",
    "- float: 소수점 이하 자릿수\n",
    "- double: float 소수점 2배"
   ]
  },
  {
   "cell_type": "code",
   "execution_count": 3,
   "metadata": {},
   "outputs": [
    {
     "name": "stdout",
     "output_type": "stream",
     "text": [
      " torch v.2.4.1\n"
     ]
    }
   ],
   "source": [
    "import torch\n",
    "\n",
    "print(f' torch v.{torch.__version__}')"
   ]
  },
  {
   "cell_type": "code",
   "execution_count": 4,
   "metadata": {},
   "outputs": [],
   "source": [
    "#함수 기능: 텐서 속성 정보 출력 함수\n",
    "\n",
    "def print_info(obj,obj_name):\n",
    "    print(f'\\n[{obj_name}]')\n",
    "    print(f'shape: {obj.shape}')\n",
    "    print(f'ndim: {obj.ndim}차원')\n",
    "    print(f'dtype: {obj.dtype}')\n",
    "    print(f'device: {obj.device}')\n",
    "    print(f'data: \\n{obj.data}')"
   ]
  },
  {
   "cell_type": "markdown",
   "metadata": {},
   "source": [
    "[텐서 생성]\n",
    "1. torch.tensor()"
   ]
  },
  {
   "cell_type": "code",
   "execution_count": 10,
   "metadata": {},
   "outputs": [
    {
     "name": "stdout",
     "output_type": "stream",
     "text": [
      "\n",
      "[dataTF]\n",
      "shape: torch.Size([])\n",
      "ndim: 0차원\n",
      "dtype: torch.int64\n",
      "device: cpu\n",
      "data: \n",
      "10\n",
      "\n",
      "[dataTF]\n",
      "shape: torch.Size([])\n",
      "ndim: 0차원\n",
      "dtype: torch.uint8\n",
      "device: cpu\n",
      "data: \n",
      "10\n"
     ]
    }
   ],
   "source": [
    "# 데이터 1개(스칼라)\n",
    "dataTF=torch.tensor(10)\n",
    "print_info(dataTF,'dataTF')\n",
    "\n",
    "dataTF=torch.tensor(10,dtype=torch.uint8)\n",
    "print_info(dataTF,'dataTF')"
   ]
  },
  {
   "cell_type": "code",
   "execution_count": 7,
   "metadata": {},
   "outputs": [
    {
     "name": "stdout",
     "output_type": "stream",
     "text": [
      "\n",
      "[dataTF]\n",
      "shape: torch.Size([10])\n",
      "ndim: 1차원\n",
      "dtype: torch.float32\n",
      "device: cpu\n",
      "data: \n",
      "tensor([0., 0., 0., 0., 0., 0., 0., 0., 0., 0.])\n"
     ]
    }
   ],
   "source": [
    "dataTF=torch.Tensor(10)\n",
    "print_info(dataTF,'dataTF')"
   ]
  },
  {
   "cell_type": "code",
   "execution_count": 9,
   "metadata": {},
   "outputs": [
    {
     "name": "stdout",
     "output_type": "stream",
     "text": [
      "\n",
      "[dataTF]\n",
      "shape: torch.Size([1])\n",
      "ndim: 1차원\n",
      "dtype: torch.int64\n",
      "device: cpu\n",
      "data: \n",
      "tensor([10])\n"
     ]
    }
   ],
   "source": [
    "# 데이터 1개(벡터)\n",
    "dataTF=torch.tensor([10])\n",
    "print_info(dataTF,'dataTF')"
   ]
  },
  {
   "cell_type": "code",
   "execution_count": 12,
   "metadata": {},
   "outputs": [
    {
     "name": "stdout",
     "output_type": "stream",
     "text": [
      "\n",
      "[dataTF]\n",
      "shape: torch.Size([1, 1])\n",
      "ndim: 2차원\n",
      "dtype: torch.int64\n",
      "device: cpu\n",
      "data: \n",
      "tensor([[10]])\n",
      "\n",
      "[dataTF]\n",
      "shape: torch.Size([2, 1])\n",
      "ndim: 2차원\n",
      "dtype: torch.uint8\n",
      "device: cpu\n",
      "data: \n",
      "tensor([[10],\n",
      "        [20]], dtype=torch.uint8)\n"
     ]
    }
   ],
   "source": [
    "# 데이터 1개(행렬)\n",
    "dataTF=torch.tensor([[10]])\n",
    "print_info(dataTF,'dataTF')\n",
    "\n",
    "dataTF=torch.tensor([[10],[20]],dtype=torch.uint8)\n",
    "print_info(dataTF,'dataTF')"
   ]
  },
  {
   "cell_type": "code",
   "execution_count": 13,
   "metadata": {},
   "outputs": [
    {
     "name": "stdout",
     "output_type": "stream",
     "text": [
      "\n",
      "[zten1]\n",
      "shape: torch.Size([2, 5])\n",
      "ndim: 2차원\n",
      "dtype: torch.float32\n",
      "device: cpu\n",
      "data: \n",
      "tensor([[0., 0., 0., 0., 0.],\n",
      "        [0., 0., 0., 0., 0.]])\n"
     ]
    }
   ],
   "source": [
    "zten1=torch.zeros(2,5)\n",
    "\n",
    "print_info(zten1,'zten1')"
   ]
  },
  {
   "cell_type": "code",
   "execution_count": 14,
   "metadata": {},
   "outputs": [
    {
     "name": "stdout",
     "output_type": "stream",
     "text": [
      "\n",
      "[zten2]\n",
      "shape: torch.Size([3])\n",
      "ndim: 1차원\n",
      "dtype: torch.float32\n",
      "device: cpu\n",
      "data: \n",
      "tensor([0., 0., 0.])\n"
     ]
    }
   ],
   "source": [
    "zten2=torch.zeros(3)\n",
    "\n",
    "print_info(zten2,'zten2')"
   ]
  },
  {
   "cell_type": "code",
   "execution_count": 15,
   "metadata": {},
   "outputs": [
    {
     "name": "stdout",
     "output_type": "stream",
     "text": [
      "\n",
      "[oten1]\n",
      "shape: torch.Size([2, 3])\n",
      "ndim: 2차원\n",
      "dtype: torch.float32\n",
      "device: cpu\n",
      "data: \n",
      "tensor([[1., 1., 1.],\n",
      "        [1., 1., 1.]])\n"
     ]
    }
   ],
   "source": [
    "oten1=torch.ones(2,3)\n",
    "\n",
    "print_info(oten1,'oten1')"
   ]
  },
  {
   "cell_type": "code",
   "execution_count": 17,
   "metadata": {},
   "outputs": [
    {
     "name": "stdout",
     "output_type": "stream",
     "text": [
      "\n",
      "[oten2]\n",
      "shape: torch.Size([3])\n",
      "ndim: 1차원\n",
      "dtype: torch.float32\n",
      "device: cpu\n",
      "data: \n",
      "tensor([1., 1., 1.])\n"
     ]
    }
   ],
   "source": [
    "oten2=torch.ones(3)\n",
    "\n",
    "print_info(oten2,'oten2')"
   ]
  },
  {
   "cell_type": "code",
   "execution_count": 19,
   "metadata": {},
   "outputs": [
    {
     "name": "stdout",
     "output_type": "stream",
     "text": [
      "\n",
      "[ften1]\n",
      "shape: torch.Size([3])\n",
      "ndim: 1차원\n",
      "dtype: torch.int64\n",
      "device: cpu\n",
      "data: \n",
      "tensor([10, 10, 10])\n"
     ]
    }
   ],
   "source": [
    "ften1=torch.full((3,),10)\n",
    "\n",
    "print_info(ften1,'ften1')"
   ]
  },
  {
   "cell_type": "code",
   "execution_count": 20,
   "metadata": {},
   "outputs": [
    {
     "name": "stdout",
     "output_type": "stream",
     "text": [
      "\n",
      "[ften2]\n",
      "shape: torch.Size([3, 2])\n",
      "ndim: 2차원\n",
      "dtype: torch.int64\n",
      "device: cpu\n",
      "data: \n",
      "tensor([[10, 10],\n",
      "        [10, 10],\n",
      "        [10, 10]])\n"
     ]
    }
   ],
   "source": [
    "ften2=torch.full((3,2),10)\n",
    "print_info(ften2,'ften2')"
   ]
  },
  {
   "cell_type": "code",
   "execution_count": 21,
   "metadata": {},
   "outputs": [
    {
     "name": "stdout",
     "output_type": "stream",
     "text": [
      "\n",
      "[eten1]\n",
      "shape: torch.Size([3, 3])\n",
      "ndim: 2차원\n",
      "dtype: torch.float32\n",
      "device: cpu\n",
      "data: \n",
      "tensor([[1., 0., 0.],\n",
      "        [0., 1., 0.],\n",
      "        [0., 0., 1.]])\n"
     ]
    }
   ],
   "source": [
    "eten1=torch.eye(3)\n",
    "\n",
    "print_info(eten1,'eten1')"
   ]
  },
  {
   "cell_type": "code",
   "execution_count": 22,
   "metadata": {},
   "outputs": [
    {
     "name": "stdout",
     "output_type": "stream",
     "text": [
      "\n",
      "[eten2]\n",
      "shape: torch.Size([3, 5])\n",
      "ndim: 2차원\n",
      "dtype: torch.float32\n",
      "device: cpu\n",
      "data: \n",
      "tensor([[1., 0., 0., 0., 0.],\n",
      "        [0., 1., 0., 0., 0.],\n",
      "        [0., 0., 1., 0., 0.]])\n"
     ]
    }
   ],
   "source": [
    "eten2=torch.eye(3,5)\n",
    "print_info(eten2,'eten2')"
   ]
  },
  {
   "cell_type": "code",
   "execution_count": null,
   "metadata": {},
   "outputs": [],
   "source": []
  }
 ],
 "metadata": {
  "kernelspec": {
   "display_name": "TORCH_38",
   "language": "python",
   "name": "python3"
  },
  "language_info": {
   "codemirror_mode": {
    "name": "ipython",
    "version": 3
   },
   "file_extension": ".py",
   "mimetype": "text/x-python",
   "name": "python",
   "nbconvert_exporter": "python",
   "pygments_lexer": "ipython3",
   "version": "3.8.19"
  }
 },
 "nbformat": 4,
 "nbformat_minor": 2
}
