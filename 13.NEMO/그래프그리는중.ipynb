{
 "cells": [
  {
   "cell_type": "code",
   "execution_count": 10,
   "metadata": {},
   "outputs": [
    {
     "name": "stdout",
     "output_type": "stream",
     "text": [
      "Collecting koreanize_matplotlib\n",
      "  Using cached koreanize_matplotlib-0.1.1-py3-none-any.whl.metadata (992 bytes)\n",
      "Requirement already satisfied: matplotlib in c:\\users\\desktop\\anaconda3\\envs\\nemo\\lib\\site-packages (from koreanize_matplotlib) (3.7.5)\n",
      "Requirement already satisfied: contourpy>=1.0.1 in c:\\users\\desktop\\anaconda3\\envs\\nemo\\lib\\site-packages (from matplotlib->koreanize_matplotlib) (1.1.1)\n",
      "Requirement already satisfied: cycler>=0.10 in c:\\users\\desktop\\anaconda3\\envs\\nemo\\lib\\site-packages (from matplotlib->koreanize_matplotlib) (0.12.1)\n",
      "Requirement already satisfied: fonttools>=4.22.0 in c:\\users\\desktop\\anaconda3\\envs\\nemo\\lib\\site-packages (from matplotlib->koreanize_matplotlib) (4.54.1)\n",
      "Requirement already satisfied: kiwisolver>=1.0.1 in c:\\users\\desktop\\anaconda3\\envs\\nemo\\lib\\site-packages (from matplotlib->koreanize_matplotlib) (1.4.7)\n",
      "Requirement already satisfied: numpy<2,>=1.20 in c:\\users\\desktop\\anaconda3\\envs\\nemo\\lib\\site-packages (from matplotlib->koreanize_matplotlib) (1.24.4)\n",
      "Requirement already satisfied: packaging>=20.0 in c:\\users\\desktop\\anaconda3\\envs\\nemo\\lib\\site-packages (from matplotlib->koreanize_matplotlib) (24.2)\n",
      "Requirement already satisfied: pillow>=6.2.0 in c:\\users\\desktop\\anaconda3\\envs\\nemo\\lib\\site-packages (from matplotlib->koreanize_matplotlib) (10.4.0)\n",
      "Requirement already satisfied: pyparsing>=2.3.1 in c:\\users\\desktop\\anaconda3\\envs\\nemo\\lib\\site-packages (from matplotlib->koreanize_matplotlib) (3.1.4)\n",
      "Requirement already satisfied: python-dateutil>=2.7 in c:\\users\\desktop\\anaconda3\\envs\\nemo\\lib\\site-packages (from matplotlib->koreanize_matplotlib) (2.9.0)\n",
      "Requirement already satisfied: importlib-resources>=3.2.0 in c:\\users\\desktop\\anaconda3\\envs\\nemo\\lib\\site-packages (from matplotlib->koreanize_matplotlib) (6.4.5)\n",
      "Requirement already satisfied: zipp>=3.1.0 in c:\\users\\desktop\\anaconda3\\envs\\nemo\\lib\\site-packages (from importlib-resources>=3.2.0->matplotlib->koreanize_matplotlib) (3.20.2)\n",
      "Requirement already satisfied: six>=1.5 in c:\\users\\desktop\\anaconda3\\envs\\nemo\\lib\\site-packages (from python-dateutil>=2.7->matplotlib->koreanize_matplotlib) (1.16.0)\n",
      "Using cached koreanize_matplotlib-0.1.1-py3-none-any.whl (7.9 MB)\n",
      "Installing collected packages: koreanize_matplotlib\n",
      "Successfully installed koreanize_matplotlib-0.1.1\n",
      "Note: you may need to restart the kernel to use updated packages.\n"
     ]
    },
    {
     "name": "stderr",
     "output_type": "stream",
     "text": [
      "'DOSKEY'��(��) ���� �Ǵ� �ܺ� ����, ������ �� �ִ� ���α׷�, �Ǵ�\n",
      "��ġ ������ �ƴմϴ�.\n"
     ]
    }
   ],
   "source": [
    "pip install koreanize_matplotlib"
   ]
  },
  {
   "cell_type": "code",
   "execution_count": 11,
   "metadata": {
    "id": "onF2SgOOGMcJ"
   },
   "outputs": [],
   "source": [
    "import pandas as pd\n",
    "import os\n",
    "import matplotlib.pyplot as plt\n",
    "import numpy as np\n",
    "import koreanize_matplotlib"
   ]
  },
  {
   "cell_type": "code",
   "execution_count": 2,
   "metadata": {},
   "outputs": [],
   "source": [
    "comp = pd.read_csv('./comp.csv')"
   ]
  },
  {
   "cell_type": "code",
   "execution_count": 3,
   "metadata": {},
   "outputs": [
    {
     "data": {
      "text/html": [
       "<div>\n",
       "<style scoped>\n",
       "    .dataframe tbody tr th:only-of-type {\n",
       "        vertical-align: middle;\n",
       "    }\n",
       "\n",
       "    .dataframe tbody tr th {\n",
       "        vertical-align: top;\n",
       "    }\n",
       "\n",
       "    .dataframe thead th {\n",
       "        text-align: right;\n",
       "    }\n",
       "</style>\n",
       "<table border=\"1\" class=\"dataframe\">\n",
       "  <thead>\n",
       "    <tr style=\"text-align: right;\">\n",
       "      <th></th>\n",
       "      <th>Unnamed: 0</th>\n",
       "      <th>ver</th>\n",
       "      <th>metrics/mAP50(B)</th>\n",
       "      <th>metrics/mAP50-95(B)</th>\n",
       "    </tr>\n",
       "  </thead>\n",
       "  <tbody>\n",
       "    <tr>\n",
       "      <th>0</th>\n",
       "      <td>0</td>\n",
       "      <td>2</td>\n",
       "      <td>0.96120</td>\n",
       "      <td>0.82093</td>\n",
       "    </tr>\n",
       "    <tr>\n",
       "      <th>1</th>\n",
       "      <td>1</td>\n",
       "      <td>3</td>\n",
       "      <td>0.99294</td>\n",
       "      <td>0.94705</td>\n",
       "    </tr>\n",
       "    <tr>\n",
       "      <th>2</th>\n",
       "      <td>2</td>\n",
       "      <td>4</td>\n",
       "      <td>0.99111</td>\n",
       "      <td>0.94289</td>\n",
       "    </tr>\n",
       "    <tr>\n",
       "      <th>3</th>\n",
       "      <td>3</td>\n",
       "      <td>5</td>\n",
       "      <td>0.99356</td>\n",
       "      <td>0.94108</td>\n",
       "    </tr>\n",
       "    <tr>\n",
       "      <th>4</th>\n",
       "      <td>4</td>\n",
       "      <td>6</td>\n",
       "      <td>0.99166</td>\n",
       "      <td>0.93855</td>\n",
       "    </tr>\n",
       "    <tr>\n",
       "      <th>5</th>\n",
       "      <td>5</td>\n",
       "      <td>7</td>\n",
       "      <td>0.98856</td>\n",
       "      <td>0.91121</td>\n",
       "    </tr>\n",
       "    <tr>\n",
       "      <th>6</th>\n",
       "      <td>6</td>\n",
       "      <td>8</td>\n",
       "      <td>0.99302</td>\n",
       "      <td>0.94457</td>\n",
       "    </tr>\n",
       "  </tbody>\n",
       "</table>\n",
       "</div>"
      ],
      "text/plain": [
       "   Unnamed: 0  ver  metrics/mAP50(B)  metrics/mAP50-95(B)\n",
       "0           0    2           0.96120              0.82093\n",
       "1           1    3           0.99294              0.94705\n",
       "2           2    4           0.99111              0.94289\n",
       "3           3    5           0.99356              0.94108\n",
       "4           4    6           0.99166              0.93855\n",
       "5           5    7           0.98856              0.91121\n",
       "6           6    8           0.99302              0.94457"
      ]
     },
     "execution_count": 3,
     "metadata": {},
     "output_type": "execute_result"
    }
   ],
   "source": [
    "comp"
   ]
  },
  {
   "cell_type": "code",
   "execution_count": 4,
   "metadata": {},
   "outputs": [
    {
     "name": "stdout",
     "output_type": "stream",
     "text": [
      "0.99294\n"
     ]
    }
   ],
   "source": [
    "print(comp['metrics/mAP50(B)'][1])"
   ]
  },
  {
   "cell_type": "code",
   "execution_count": 5,
   "metadata": {},
   "outputs": [
    {
     "data": {
      "text/plain": [
       "'metrics/mAP50(B)'"
      ]
     },
     "execution_count": 5,
     "metadata": {},
     "output_type": "execute_result"
    }
   ],
   "source": [
    "comp.columns[2]"
   ]
  },
  {
   "cell_type": "code",
   "execution_count": 6,
   "metadata": {},
   "outputs": [
    {
     "name": "stdout",
     "output_type": "stream",
     "text": [
      "[0.9612, 0.99302]\n"
     ]
    }
   ],
   "source": [
    "print([comp['metrics/mAP50(B)'][0],comp['metrics/mAP50(B)'][6]])"
   ]
  },
  {
   "cell_type": "code",
   "execution_count": 23,
   "metadata": {
    "colab": {
     "base_uri": "https://localhost:8080/",
     "height": 430
    },
    "id": "9M3vJmJ-HYeg",
    "outputId": "a7202fea-b1b7-4f8f-d6f1-280fbc5a3141"
   },
   "outputs": [
    {
     "data": {
      "image/png": "[encoded data removed]",
      "text/plain": [
       "<Figure size 640x480 with 1 Axes>"
      ]
     },
     "metadata": {},
     "output_type": "display_data"
    }
   ],
   "source": [
    "ver = [comp.columns[2],comp.columns[3]]\n",
    "mAP50 = [comp['metrics/mAP50(B)'][0],comp['metrics/mAP50-95(B)'][0]]\n",
    "mAP50_95 = [comp['metrics/mAP50(B)'][6],comp['metrics/mAP50-95(B)'][6]]\n",
    "\n",
    "# 막대 그래프의 너비 설정\n",
    "bar_width = 0.35\n",
    "\n",
    "# x 위치를 배열로 설정하고, 두 그래프를 살짝 이동\n",
    "x = np.arange(len(ver))  # x 위치 배열\n",
    "x_offset = bar_width  # 두 번째 그래프는 약간 오른쪽으로 이동\n",
    "\n",
    "# 막대 그래프 그리기\n",
    "plt.bar(x - x_offset/2, mAP50, width=bar_width*0.7, label='초기 제작 모델')\n",
    "plt.bar(x + x_offset/2, mAP50_95, width=bar_width*0.7, label='최종 선정 모델')\n",
    "\n",
    "# 레전드 추가\n",
    "plt.legend(loc=(0.45,0.7))\n",
    "plt.ylim((0.6),(1))\n",
    "\n",
    "# x축 레이블\n",
    "plt.xticks(x, ver)\n",
    "\n",
    "# 그래프 표시\n",
    "plt.show()\n"
   ]
  },
  {
   "cell_type": "code",
   "execution_count": null,
   "metadata": {},
   "outputs": [],
   "source": []
  }
 ],
 "metadata": {
  "colab": {
   "provenance": []
  },
  "kernelspec": {
   "display_name": "NEMO",
   "language": "python",
   "name": "python3"
  },
  "language_info": {
   "codemirror_mode": {
    "name": "ipython",
    "version": 3
   },
   "file_extension": ".py",
   "mimetype": "text/x-python",
   "name": "python",
   "nbconvert_exporter": "python",
   "pygments_lexer": "ipython3",
   "version": "3.8.20"
  }
 },
 "nbformat": 4,
 "nbformat_minor": 0
}
